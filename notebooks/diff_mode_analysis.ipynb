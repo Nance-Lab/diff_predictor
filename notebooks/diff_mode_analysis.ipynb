{
 "cells": [
  {
   "cell_type": "code",
   "execution_count": 63,
   "source": [
    "from diff_predictor import data_process, predxgboost\n",
    "import pandas as pd\n",
    "import numpy as np\n",
    "import seaborn as sns \n",
    "import matplotlib.pyplot as plt \n",
    "\n",
    "from os import listdir, getcwd, chdir\n",
    "from os.path import isfile, join\n",
    "import os\n",
    "\n",
    "from sklearn.model_selection import train_test_split\n",
    "from sklearn import metrics\n",
    "from sklearn.metrics import classification_report, confusion_matrix\n",
    "from sklearn import preprocessing\n",
    "from sklearn.metrics import accuracy_score\n",
    "import operator\n",
    "import xgboost as xgb\n",
    "import shap\n",
    "from xgboost.training import CVPack\n",
    "from xgboost import callback\n",
    "from xgboost.core import CallbackEnv\n",
    "from xgboost.core import EarlyStopException\n",
    "from xgboost.core import STRING_TYPES"
   ],
   "outputs": [],
   "metadata": {}
  },
  {
   "cell_type": "code",
   "execution_count": 2,
   "source": [
    "workbookDir = getcwd()\n",
    "\n",
    "print('Current Notebook Dir: ' + workbookDir)\n",
    "chdir(workbookDir) # Go to current workbook Dir\"\n",
    "chdir('..')        # Go up one\n",
    "print(f'Using current directory for loading data: {getcwd()}')\n",
    "workbookDir = getcwd()"
   ],
   "outputs": [
    {
     "output_type": "stream",
     "name": "stdout",
     "text": [
      "Current Notebook Dir: /Users/nelsschimek/Documents/Nance Lab/diff_predictor/notebooks\n",
      "Using current directory for loading data: /Users/nelsschimek/Documents/Nance Lab/diff_predictor\n"
     ]
    }
   ],
   "metadata": {}
  },
  {
   "cell_type": "code",
   "execution_count": 3,
   "source": [
    "dataset_path = workbookDir + '/data/raw_data_age/'\n",
    "filelist = [f for f in listdir(dataset_path) if isfile(join(dataset_path, f)) and 'feat' in f]\n",
    "print(len(filelist))"
   ],
   "outputs": [
    {
     "output_type": "stream",
     "name": "stdout",
     "text": [
      "75\n"
     ]
    }
   ],
   "metadata": {}
  },
  {
   "cell_type": "code",
   "execution_count": 8,
   "source": [],
   "outputs": [
    {
     "output_type": "execute_result",
     "data": {
      "text/plain": [
       "RandomState(MT19937) at 0x7FFD4FB566B0"
      ]
     },
     "metadata": {},
     "execution_count": 8
    }
   ],
   "metadata": {}
  },
  {
   "cell_type": "code",
   "execution_count": 9,
   "source": [
    "fstats_tot = data_process.generate_fullstats(dataset_path, filelist, ['P14','NT', 'P70'], 'age')"
   ],
   "outputs": [
    {
     "output_type": "stream",
     "name": "stdout",
     "text": [
      "Adding file features_P70_40nm_s3_v3.csv size: (2322, 67)\n",
      "Adding file features_P14_40nm_s3_v3.csv size: (323, 91)\n",
      "Adding file features_P14_40nm_s3_v2.csv size: (243, 91)\n",
      "Adding file features_P70_40nm_s3_v2.csv size: (1401, 67)\n",
      "Adding file features_P14_40nm_s1_v5.csv size: (268, 91)\n",
      "Adding file features_P70_40nm_s1_v5.csv size: (17, 67)\n",
      "Adding file features_P14_40nm_s3_v1.csv size: (151, 91)\n",
      "Adding file features_P70_40nm_s1_v4.csv size: (21, 67)\n",
      "Adding file features_P70_40nm_s3_v1.csv size: (2625, 67)\n",
      "Adding file features_P14_40nm_s1_v4.csv size: (140, 91)\n",
      "Adding file features_P70_40nm_s3_v5.csv size: (4162, 67)\n",
      "Adding file features_P14_40nm_s3_v5.csv size: (389, 91)\n",
      "Adding file features_P14_40nm_s3_v4.csv size: (113, 91)\n",
      "Adding file features_P70_40nm_s1_v1.csv size: (27, 67)\n",
      "Adding file features_P70_40nm_s3_v4.csv size: (2909, 67)\n",
      "Adding file features_P14_40nm_s1_v1.csv size: (793, 91)\n",
      "Adding file features_P14_40nm_s1_v3.csv size: (519, 91)\n",
      "Adding file features_P70_40nm_s1_v3.csv size: (25, 67)\n",
      "Adding file features_P70_40nm_s1_v2.csv size: (12, 67)\n",
      "Adding file features_P14_40nm_s1_v2.csv size: (1356, 91)\n",
      "Adding file features_NT_brain_2_slice_1_vid_4.csv size: (878, 91)\n",
      "Adding file features_NT_brain_2_slice_1_vid_5.csv size: (467, 91)\n",
      "Adding file features_NT_brain_2_slice_1_vid_2.csv size: (833, 91)\n",
      "Adding file features_NT_brain_2_slice_1_vid_3.csv size: (1017, 91)\n",
      "Adding file features_NT_brain_2_slice_1_vid_1.csv size: (416, 91)\n",
      "Adding file features_NT_brain_2_slice_2_vid_5.csv size: (2100, 91)\n",
      "Adding file features_P14_40nm_s2_v1.csv size: (568, 91)\n",
      "Adding file features_P70_40nm_s2_v1.csv size: (148, 67)\n",
      "Adding file features_NT_brain_2_slice_2_vid_4.csv size: (1650, 91)\n",
      "Adding file features_P14_40nm_s2_v2.csv size: (938, 91)\n",
      "Adding file features_P70_40nm_s2_v2.csv size: (148, 67)\n",
      "Adding file features_P70_40nm_s2_v3.csv size: (240, 67)\n",
      "Adding file features_P14_40nm_s2_v3.csv size: (220, 91)\n",
      "Adding file features_NT_brain_2_slice_2_vid_3.csv size: (1735, 91)\n",
      "Adding file features_NT_brain_2_slice_2_vid_2.csv size: (2322, 91)\n",
      "Adding file features_P14_40nm_s2_v4.csv size: (162, 91)\n",
      "Adding file features_P70_40nm_s2_v4.csv size: (308, 67)\n",
      "Adding file features_P70_40nm_s2_v5.csv size: (186, 67)\n",
      "Adding file features_NT_brain_2_slice_2_vid_1.csv size: (2488, 91)\n",
      "Adding file features_P14_40nm_s2_v5.csv size: (258, 91)\n",
      "Adding file features_NT_brain_2_slice_3_vid_5.csv size: (1062, 91)\n",
      "Adding file features_NT_brain_2_slice_3_vid_4.csv size: (598, 91)\n",
      "Adding file features_NT_brain_2_slice_3_vid_3.csv size: (817, 91)\n",
      "Adding file features_NT_brain_2_slice_3_vid_2.csv size: (853, 91)\n",
      "Adding file features_NT_brain_2_slice_3_vid_1.csv size: (562, 91)\n"
     ]
    }
   ],
   "metadata": {}
  },
  {
   "cell_type": "code",
   "execution_count": 10,
   "source": [
    "features = [\n",
    "    'alpha', # Fitted anomalous diffusion alpha exponenet\n",
    "    'D_fit', # Fitted anomalous diffusion coefficient\n",
    "    'kurtosis', # Kurtosis of track\n",
    "    'asymmetry1', # Asymmetry of trajecory (0 for circular symmetric, 1 for linear)\n",
    "    'asymmetry2', # Ratio of the smaller to larger principal radius of gyration\n",
    "    'asymmetry3', # An asymmetric feature that accnts for non-cylindrically symmetric pt distributions\n",
    "    'AR', # Aspect ratio of long and short side of trajectory's minimum bounding rectangle\n",
    "    'elongation', # Est. of amount of extension of trajectory from centroid\n",
    "    'boundedness', # How much a particle with Deff is restricted by a circular confinement of radius r\n",
    "    'fractal_dim', # Measure of how complicated a self similar figure is\n",
    "    'trappedness', # Probability that a particle with Deff is trapped in a region\n",
    "    'efficiency', # Ratio of squared net displacement to the sum of squared step lengths\n",
    "    'straightness', # Ratio of net displacement to the sum of squared step lengths\n",
    "    'MSD_ratio', # MSD ratio of the track\n",
    "#     'frames', # Number of frames the track spans\n",
    "    'Deff1', # Effective diffusion coefficient at 0.33 s\n",
    "    'Deff2', # Effective diffusion coefficient at 3.3 s\n",
    "    #'angle_mean', # Mean turning angle which is counterclockwise angle from one frame point to another\n",
    "    #'angle_mag_mean', # Magnitude of the turning angle mean\n",
    "    #'angle_var', # Variance of the turning angle\n",
    "    #'dist_tot', # Total distance of the trajectory\n",
    "    #'dist_net', # Net distance from first point to last point\n",
    "    #'progression', # Ratio of the net distance traveled and the total distance\n",
    "    'Mean alpha', \n",
    "    'Mean D_fit', \n",
    "    'Mean kurtosis', \n",
    "    'Mean asymmetry1', \n",
    "    'Mean asymmetry2',\n",
    "    'Mean asymmetry3', \n",
    "    'Mean AR',\n",
    "    'Mean elongation', \n",
    "    'Mean boundedness',\n",
    "    'Mean fractal_dim', \n",
    "    'Mean trappedness', \n",
    "    'Mean efficiency',\n",
    "    'Mean straightness', \n",
    "    'Mean MSD_ratio', \n",
    "    'Mean Deff1', \n",
    "    'Mean Deff2',\n",
    "    ]\n",
    "\n",
    "target = 'age'"
   ],
   "outputs": [],
   "metadata": {}
  },
  {
   "cell_type": "code",
   "execution_count": 11,
   "source": [
    "ecm = fstats_tot[features + [target, 'Track_ID', 'X', 'Y']] #dont think i need these rn\n",
    "print(ecm.shape)\n",
    "ecm = ecm[~ecm[list(set(features) - set(['Deff2', 'Mean Deff2']))].isin([np.nan, np.inf, -np.inf]).any(1)]       # Removing nan and inf data points\n",
    "ecm.shape"
   ],
   "outputs": [
    {
     "output_type": "stream",
     "name": "stdout",
     "text": [
      "(38790, 36)\n"
     ]
    },
    {
     "output_type": "execute_result",
     "data": {
      "text/plain": [
       "(33737, 36)"
      ]
     },
     "metadata": {},
     "execution_count": 11
    }
   ],
   "metadata": {}
  },
  {
   "cell_type": "code",
   "execution_count": null,
   "source": [
    "ecm['alpha'].max()"
   ],
   "outputs": [],
   "metadata": {}
  },
  {
   "cell_type": "markdown",
   "source": [
    "## Here are the cutoffs for different motion types\n",
    "\n",
    "### alpha > 1.25: Directed Motion\n",
    "### 1.25 ≥ alpha ≥ 0.75: Normal Diffusion\n",
    "### 0.75 > alpha: Anomalous Diffusion/Confined Diffusion"
   ],
   "metadata": {}
  },
  {
   "cell_type": "code",
   "execution_count": null,
   "source": [
    "directed = 1.25\n",
    "confined = 0.75"
   ],
   "outputs": [],
   "metadata": {}
  },
  {
   "cell_type": "code",
   "execution_count": null,
   "source": [
    "for age_target in ecm['age'].unique():\n",
    "    length = len(ecm[ecm['age'] == age_target])\n",
    "    print(f'num of trajs in {age_target} class is {length}')"
   ],
   "outputs": [],
   "metadata": {}
  },
  {
   "cell_type": "code",
   "execution_count": null,
   "source": [
    "p70_ecm = ecm[ecm['age'] == 'P70']\n",
    "p35_ecm = ecm[ecm['age'] == 'NT']\n",
    "p28_ecm = ecm[ecm['age'] == 'P28']\n",
    "p21_ecm = ecm[ecm['age'] == 'P21']\n",
    "p14_ecm = ecm[ecm['age'] == 'P14']\n"
   ],
   "outputs": [],
   "metadata": {}
  },
  {
   "cell_type": "code",
   "execution_count": null,
   "source": [
    "p35_ecm['age'].unique()[0]"
   ],
   "outputs": [],
   "metadata": {}
  },
  {
   "cell_type": "code",
   "execution_count": null,
   "source": [
    "# lets look a P70 data \n",
    "\n",
    "age_df_list = [p70_ecm, p35_ecm, p28_ecm, p21_ecm, p14_ecm]\n",
    "for df in age_df_list:\n",
    "    target = df['age'].unique()[0]\n",
    "    print(f'class {target}')\n",
    "    directed_df = df[df['alpha'] > 1.25]\n",
    "    print(f'directed diffusion %: {len(directed_df)/len(df)}')\n",
    "\n",
    "    normal_df = df[(df['alpha'] <= 1.25) & (df['alpha'] >= 0.75)]\n",
    "    print(f'normal diffusion %: {len(normal_df)/len(df)}')\n",
    "\n",
    "    confined_df = df[df['alpha'] < 0.75]\n",
    "    print(f'confined diffusion %: {len(confined_df)/len(df)}')\n",
    "    print('')"
   ],
   "outputs": [],
   "metadata": {}
  },
  {
   "cell_type": "code",
   "execution_count": null,
   "source": [
    "def ecdf(data):\n",
    "    x, y = np.sort(data), np.arange(1, len(data)+1) / len(data)"
   ],
   "outputs": [],
   "metadata": {}
  },
  {
   "cell_type": "code",
   "execution_count": null,
   "source": [
    "mx = np.array(p70_ecm['alpha'])\n",
    "x = np.sort(mx)\n",
    "y = np.arange(1, len(mx)+1) / len(mx)\n",
    "#x, y = ecdf(mx)"
   ],
   "outputs": [],
   "metadata": {}
  },
  {
   "cell_type": "code",
   "execution_count": null,
   "source": [
    "fig = plt.figure(figsize=(12,8))\n",
    "for df in age_df_list:\n",
    "    mx = np.array(df['alpha'])\n",
    "    x = np.sort(mx)\n",
    "    y = np.arange(1, len(mx)+1) / len(mx)\n",
    "    plt.scatter(x, y, alpha=0.7, s=1, label=df['age'].unique()[0])\n",
    "plt.vlines([directed], 0, 1, label='normal diffusion cutoff', linestyles='dashed')\n",
    "plt.vlines(confined, 0, 1, label='confined diffusion cutoff', linestyles='dotted')\n",
    "plt.xlim([0,3])\n",
    "plt.legend()"
   ],
   "outputs": [],
   "metadata": {}
  },
  {
   "cell_type": "code",
   "execution_count": 12,
   "source": [
    "confined_ecm = ecm[ecm['alpha'] < 0.75]\n",
    "normal_ecm = ecm[(ecm['alpha'] >= 0.75) & (ecm['alpha'] <= 1.25)]\n",
    "directed_ecm = ecm[ecm['alpha'] > 1.25]\n",
    "\n",
    "directed_normal_ecm = ecm[ecm['alpha'] >= 0.75]\n",
    "directed_confined_ecm = ecm[(ecm['alpha'] > 1.25) | (ecm['alpha'] < 0.75)]\n",
    "normal_confined_ecm = ecm[ecm['alpha'] <= 1.25]"
   ],
   "outputs": [],
   "metadata": {}
  },
  {
   "cell_type": "code",
   "execution_count": 66,
   "source": [
    "def full_preprocess(ecm, balanced=True):\n",
    "\n",
    "    rand_state = np.random.randint(1, 2000)\n",
    "    if balanced:\n",
    "        bal_ecm = data_process.balance_data(ecm, target, random_state=rand_state)\n",
    "        sampled_df = data_process.bin_data(bal_ecm)\n",
    "        sampled_df = sampled_df.sample(0.5)\n",
    "    else:\n",
    "        sampled_df = data_process.bin_data(ecm)\n",
    "    label_df = sampled_df['age']\n",
    "    features_df = sampled_df.drop(['age', 'X', 'Y', 'binx', 'biny', 'bins', 'Track_ID'], axis=1)\n",
    "    features = features_df.columns\n",
    "\n",
    "    seed = rand_state\n",
    "    np.random.seed(seed)\n",
    "    train_split = 0.5\n",
    "    test_split = 0.5\n",
    "\n",
    "    le = preprocessing.LabelEncoder()\n",
    "    sampled_df['encoded_target'] = le.fit_transform(sampled_df[target])\n",
    "\n",
    "    training_bins = np.random.choice(sampled_df['bins'].unique(), int(len(sampled_df['bins'].unique())*train_split), replace=False)\n",
    "\n",
    "    X_train = sampled_df[sampled_df['bins'].isin(training_bins)]\n",
    "    X_test_val = sampled_df[~sampled_df['bins'].isin(training_bins)]\n",
    "    X_val, X_test = train_test_split(X_test_val, test_size=test_split, random_state=seed)\n",
    "\n",
    "    y_train = X_train['encoded_target']\n",
    "    y_test = X_test['encoded_target']\n",
    "    y_val = X_val['encoded_target']\n",
    "\n",
    "    dtrain = xgb.DMatrix(X_train[features], label=y_train)\n",
    "    dtest = xgb.DMatrix(X_test[features], label=y_test)\n",
    "    dval = xgb.DMatrix(X_val[features], label=y_val)\n",
    "    return dtrain, dtest, dval, y_test\n",
    "\n"
   ],
   "outputs": [],
   "metadata": {}
  },
  {
   "cell_type": "code",
   "execution_count": 69,
   "source": [
    "dtrain, dtest, dval, y_test = full_preprocess(normal_ecm, balanced=False)"
   ],
   "outputs": [
    {
     "output_type": "stream",
     "name": "stderr",
     "text": [
      "\n",
      "A value is trying to be set on a copy of a slice from a DataFrame.\n",
      "Try using .loc[row_indexer,col_indexer] = value instead\n",
      "\n",
      "See the caveats in the documentation: https://pandas.pydata.org/pandas-docs/stable/user_guide/indexing.html#returning-a-view-versus-a-copy\n",
      "\n",
      "A value is trying to be set on a copy of a slice from a DataFrame.\n",
      "Try using .loc[row_indexer,col_indexer] = value instead\n",
      "\n",
      "See the caveats in the documentation: https://pandas.pydata.org/pandas-docs/stable/user_guide/indexing.html#returning-a-view-versus-a-copy\n",
      "\n",
      "A value is trying to be set on a copy of a slice from a DataFrame.\n",
      "Try using .loc[row_indexer,col_indexer] = value instead\n",
      "\n",
      "See the caveats in the documentation: https://pandas.pydata.org/pandas-docs/stable/user_guide/indexing.html#returning-a-view-versus-a-copy\n",
      "\n",
      "A value is trying to be set on a copy of a slice from a DataFrame.\n",
      "Try using .loc[row_indexer,col_indexer] = value instead\n",
      "\n",
      "See the caveats in the documentation: https://pandas.pydata.org/pandas-docs/stable/user_guide/indexing.html#returning-a-view-versus-a-copy\n"
     ]
    }
   ],
   "metadata": {}
  },
  {
   "cell_type": "code",
   "execution_count": 70,
   "source": [
    "param = {'max_depth': 3,\n",
    "         'eta': 0.005,\n",
    "         'min_child_weight': 0,\n",
    "         'verbosity': 0,\n",
    "         'objective': 'multi:softprob',\n",
    "         'num_class': 3,\n",
    "         'silent': 'True',\n",
    "         'gamma': 5,\n",
    "         'subsample': 0.15,\n",
    "         'colsample_bytree': 0.8,\n",
    "         'eval_metric': \"mlogloss\",\n",
    "#          # GPU integration will cut time in ~half:\n",
    "#          'gpu_id' : 0,\n",
    "#          'tree_method': 'gpu_hist',\n",
    "#          'predictor': 'gpu_predictor'\n",
    "         }"
   ],
   "outputs": [],
   "metadata": {}
  },
  {
   "cell_type": "code",
   "execution_count": 71,
   "source": [
    "booster, acc, true_label, preds = predxgboost.train(param, dtrain, dtest, dval, evals=[(dtrain, 'train'), (dval, 'eval')], num_round=200)\n"
   ],
   "outputs": [
    {
     "output_type": "stream",
     "name": "stdout",
     "text": [
      "[0]\ttrain-mlogloss:1.09471\teval-mlogloss:1.09467\n",
      "[1]\ttrain-mlogloss:1.09073\teval-mlogloss:1.09076\n",
      "[2]\ttrain-mlogloss:1.08693\teval-mlogloss:1.08698\n",
      "[3]\ttrain-mlogloss:1.08329\teval-mlogloss:1.08327\n",
      "[4]\ttrain-mlogloss:1.07948\teval-mlogloss:1.07956\n",
      "[5]\ttrain-mlogloss:1.07614\teval-mlogloss:1.07633\n",
      "[6]\ttrain-mlogloss:1.07278\teval-mlogloss:1.07305\n",
      "[7]\ttrain-mlogloss:1.06921\teval-mlogloss:1.06957\n",
      "[8]\ttrain-mlogloss:1.06573\teval-mlogloss:1.06617\n",
      "[9]\ttrain-mlogloss:1.06225\teval-mlogloss:1.06273\n",
      "[10]\ttrain-mlogloss:1.05866\teval-mlogloss:1.05912\n",
      "[11]\ttrain-mlogloss:1.05491\teval-mlogloss:1.05542\n",
      "[12]\ttrain-mlogloss:1.05167\teval-mlogloss:1.05214\n",
      "[13]\ttrain-mlogloss:1.04851\teval-mlogloss:1.04909\n",
      "[14]\ttrain-mlogloss:1.04507\teval-mlogloss:1.04569\n",
      "[15]\ttrain-mlogloss:1.04162\teval-mlogloss:1.04215\n",
      "[16]\ttrain-mlogloss:1.03847\teval-mlogloss:1.03907\n",
      "[17]\ttrain-mlogloss:1.03575\teval-mlogloss:1.03629\n",
      "[18]\ttrain-mlogloss:1.03239\teval-mlogloss:1.03294\n",
      "[19]\ttrain-mlogloss:1.029\teval-mlogloss:1.02936\n",
      "[20]\ttrain-mlogloss:1.0253\teval-mlogloss:1.02559\n",
      "[21]\ttrain-mlogloss:1.02185\teval-mlogloss:1.02221\n",
      "[22]\ttrain-mlogloss:1.01862\teval-mlogloss:1.019\n",
      "[23]\ttrain-mlogloss:1.0153\teval-mlogloss:1.01572\n",
      "[24]\ttrain-mlogloss:1.01238\teval-mlogloss:1.01284\n",
      "[25]\ttrain-mlogloss:1.00893\teval-mlogloss:1.00931\n",
      "[26]\ttrain-mlogloss:1.00595\teval-mlogloss:1.00633\n",
      "[27]\ttrain-mlogloss:1.00263\teval-mlogloss:1.00303\n",
      "[28]\ttrain-mlogloss:0.999316\teval-mlogloss:0.999665\n",
      "[29]\ttrain-mlogloss:0.996155\teval-mlogloss:0.996575\n",
      "[30]\ttrain-mlogloss:0.992927\teval-mlogloss:0.993367\n",
      "[31]\ttrain-mlogloss:0.989769\teval-mlogloss:0.990194\n",
      "[32]\ttrain-mlogloss:0.986694\teval-mlogloss:0.987211\n",
      "[33]\ttrain-mlogloss:0.983738\teval-mlogloss:0.984298\n",
      "[34]\ttrain-mlogloss:0.980676\teval-mlogloss:0.981155\n",
      "[35]\ttrain-mlogloss:0.977397\teval-mlogloss:0.977922\n",
      "[36]\ttrain-mlogloss:0.974377\teval-mlogloss:0.974863\n",
      "[37]\ttrain-mlogloss:0.971451\teval-mlogloss:0.972091\n",
      "[38]\ttrain-mlogloss:0.9688\teval-mlogloss:0.969516\n",
      "[39]\ttrain-mlogloss:0.965797\teval-mlogloss:0.966628\n",
      "[40]\ttrain-mlogloss:0.963051\teval-mlogloss:0.9639\n",
      "[41]\ttrain-mlogloss:0.96042\teval-mlogloss:0.961338\n",
      "[42]\ttrain-mlogloss:0.957371\teval-mlogloss:0.958401\n",
      "[43]\ttrain-mlogloss:0.9545\teval-mlogloss:0.955679\n",
      "[44]\ttrain-mlogloss:0.951566\teval-mlogloss:0.952799\n",
      "[45]\ttrain-mlogloss:0.949414\teval-mlogloss:0.950659\n",
      "[46]\ttrain-mlogloss:0.946761\teval-mlogloss:0.948024\n",
      "[47]\ttrain-mlogloss:0.944185\teval-mlogloss:0.94552\n",
      "[48]\ttrain-mlogloss:0.941419\teval-mlogloss:0.94269\n",
      "[49]\ttrain-mlogloss:0.938553\teval-mlogloss:0.939808\n",
      "[50]\ttrain-mlogloss:0.935927\teval-mlogloss:0.937142\n",
      "[51]\ttrain-mlogloss:0.933154\teval-mlogloss:0.93443\n",
      "[52]\ttrain-mlogloss:0.930583\teval-mlogloss:0.931894\n",
      "[53]\ttrain-mlogloss:0.927937\teval-mlogloss:0.929297\n",
      "[54]\ttrain-mlogloss:0.925189\teval-mlogloss:0.926665\n",
      "[55]\ttrain-mlogloss:0.922505\teval-mlogloss:0.924039\n",
      "[56]\ttrain-mlogloss:0.919694\teval-mlogloss:0.92126\n",
      "[57]\ttrain-mlogloss:0.917059\teval-mlogloss:0.918562\n",
      "[58]\ttrain-mlogloss:0.914397\teval-mlogloss:0.915972\n",
      "[59]\ttrain-mlogloss:0.912128\teval-mlogloss:0.913683\n",
      "[60]\ttrain-mlogloss:0.909667\teval-mlogloss:0.911234\n",
      "[61]\ttrain-mlogloss:0.907181\teval-mlogloss:0.908841\n",
      "[62]\ttrain-mlogloss:0.904619\teval-mlogloss:0.906279\n",
      "[63]\ttrain-mlogloss:0.902017\teval-mlogloss:0.903645\n",
      "[64]\ttrain-mlogloss:0.89927\teval-mlogloss:0.900869\n",
      "[65]\ttrain-mlogloss:0.896658\teval-mlogloss:0.898269\n",
      "[66]\ttrain-mlogloss:0.894192\teval-mlogloss:0.89578\n",
      "[67]\ttrain-mlogloss:0.891759\teval-mlogloss:0.893434\n",
      "[68]\ttrain-mlogloss:0.889227\teval-mlogloss:0.891046\n",
      "[69]\ttrain-mlogloss:0.886602\teval-mlogloss:0.88835\n",
      "[70]\ttrain-mlogloss:0.884198\teval-mlogloss:0.885888\n",
      "[71]\ttrain-mlogloss:0.881885\teval-mlogloss:0.883555\n",
      "[72]\ttrain-mlogloss:0.879359\teval-mlogloss:0.881041\n",
      "[73]\ttrain-mlogloss:0.876975\teval-mlogloss:0.878734\n",
      "[74]\ttrain-mlogloss:0.874533\teval-mlogloss:0.876305\n",
      "[75]\ttrain-mlogloss:0.872289\teval-mlogloss:0.873989\n",
      "[76]\ttrain-mlogloss:0.870137\teval-mlogloss:0.871924\n",
      "[77]\ttrain-mlogloss:0.867758\teval-mlogloss:0.869595\n",
      "[78]\ttrain-mlogloss:0.865496\teval-mlogloss:0.867278\n",
      "[79]\ttrain-mlogloss:0.863258\teval-mlogloss:0.864974\n",
      "[80]\ttrain-mlogloss:0.860962\teval-mlogloss:0.862645\n",
      "[81]\ttrain-mlogloss:0.858715\teval-mlogloss:0.860391\n",
      "[82]\ttrain-mlogloss:0.856414\teval-mlogloss:0.858037\n",
      "[83]\ttrain-mlogloss:0.854141\teval-mlogloss:0.855931\n",
      "[84]\ttrain-mlogloss:0.851837\teval-mlogloss:0.853585\n",
      "[85]\ttrain-mlogloss:0.849554\teval-mlogloss:0.851297\n",
      "[86]\ttrain-mlogloss:0.847341\teval-mlogloss:0.84922\n",
      "[87]\ttrain-mlogloss:0.845123\teval-mlogloss:0.846947\n",
      "[88]\ttrain-mlogloss:0.842996\teval-mlogloss:0.844779\n",
      "[89]\ttrain-mlogloss:0.840735\teval-mlogloss:0.842439\n",
      "[90]\ttrain-mlogloss:0.838514\teval-mlogloss:0.840209\n",
      "[91]\ttrain-mlogloss:0.836219\teval-mlogloss:0.837901\n",
      "[92]\ttrain-mlogloss:0.834467\teval-mlogloss:0.836178\n",
      "[93]\ttrain-mlogloss:0.832536\teval-mlogloss:0.834234\n",
      "[94]\ttrain-mlogloss:0.830447\teval-mlogloss:0.832183\n",
      "[95]\ttrain-mlogloss:0.828288\teval-mlogloss:0.830077\n",
      "[96]\ttrain-mlogloss:0.826392\teval-mlogloss:0.828156\n",
      "[97]\ttrain-mlogloss:0.824351\teval-mlogloss:0.826117\n",
      "[98]\ttrain-mlogloss:0.822237\teval-mlogloss:0.824014\n",
      "[99]\ttrain-mlogloss:0.820322\teval-mlogloss:0.822049\n",
      "[100]\ttrain-mlogloss:0.818198\teval-mlogloss:0.819996\n",
      "[101]\ttrain-mlogloss:0.816268\teval-mlogloss:0.818082\n",
      "[102]\ttrain-mlogloss:0.814283\teval-mlogloss:0.816052\n",
      "[103]\ttrain-mlogloss:0.812641\teval-mlogloss:0.81431\n",
      "[104]\ttrain-mlogloss:0.810767\teval-mlogloss:0.812455\n",
      "[105]\ttrain-mlogloss:0.808961\teval-mlogloss:0.810651\n",
      "[106]\ttrain-mlogloss:0.807129\teval-mlogloss:0.808843\n",
      "[107]\ttrain-mlogloss:0.805166\teval-mlogloss:0.806963\n",
      "[108]\ttrain-mlogloss:0.803293\teval-mlogloss:0.805073\n",
      "[109]\ttrain-mlogloss:0.801124\teval-mlogloss:0.802965\n",
      "[110]\ttrain-mlogloss:0.799326\teval-mlogloss:0.801135\n",
      "[111]\ttrain-mlogloss:0.797532\teval-mlogloss:0.799342\n",
      "[112]\ttrain-mlogloss:0.79596\teval-mlogloss:0.797857\n",
      "[113]\ttrain-mlogloss:0.794201\teval-mlogloss:0.796143\n",
      "[114]\ttrain-mlogloss:0.792392\teval-mlogloss:0.794346\n",
      "[115]\ttrain-mlogloss:0.790549\teval-mlogloss:0.792527\n",
      "[116]\ttrain-mlogloss:0.788851\teval-mlogloss:0.790788\n",
      "[117]\ttrain-mlogloss:0.787\teval-mlogloss:0.78895\n",
      "[118]\ttrain-mlogloss:0.785185\teval-mlogloss:0.78722\n",
      "[119]\ttrain-mlogloss:0.783422\teval-mlogloss:0.785414\n",
      "[120]\ttrain-mlogloss:0.781726\teval-mlogloss:0.783827\n",
      "[121]\ttrain-mlogloss:0.779831\teval-mlogloss:0.781997\n",
      "[122]\ttrain-mlogloss:0.778161\teval-mlogloss:0.780318\n",
      "[123]\ttrain-mlogloss:0.77629\teval-mlogloss:0.778497\n",
      "[124]\ttrain-mlogloss:0.774417\teval-mlogloss:0.776627\n",
      "[125]\ttrain-mlogloss:0.772679\teval-mlogloss:0.774896\n",
      "[126]\ttrain-mlogloss:0.770794\teval-mlogloss:0.773089\n",
      "[127]\ttrain-mlogloss:0.769114\teval-mlogloss:0.771503\n",
      "[128]\ttrain-mlogloss:0.767566\teval-mlogloss:0.769861\n",
      "[129]\ttrain-mlogloss:0.765876\teval-mlogloss:0.768196\n",
      "[130]\ttrain-mlogloss:0.764156\teval-mlogloss:0.766516\n",
      "[131]\ttrain-mlogloss:0.762521\teval-mlogloss:0.764961\n",
      "[132]\ttrain-mlogloss:0.760741\teval-mlogloss:0.763249\n",
      "[133]\ttrain-mlogloss:0.759153\teval-mlogloss:0.761644\n",
      "[134]\ttrain-mlogloss:0.757529\teval-mlogloss:0.759933\n",
      "[135]\ttrain-mlogloss:0.755788\teval-mlogloss:0.758197\n",
      "[136]\ttrain-mlogloss:0.754087\teval-mlogloss:0.75647\n",
      "[137]\ttrain-mlogloss:0.752408\teval-mlogloss:0.754778\n",
      "[138]\ttrain-mlogloss:0.750795\teval-mlogloss:0.753223\n",
      "[139]\ttrain-mlogloss:0.749114\teval-mlogloss:0.751618\n",
      "[140]\ttrain-mlogloss:0.747444\teval-mlogloss:0.74992\n",
      "[141]\ttrain-mlogloss:0.74596\teval-mlogloss:0.748401\n",
      "[142]\ttrain-mlogloss:0.744423\teval-mlogloss:0.746827\n",
      "[143]\ttrain-mlogloss:0.742567\teval-mlogloss:0.744999\n",
      "[144]\ttrain-mlogloss:0.741225\teval-mlogloss:0.743716\n",
      "[145]\ttrain-mlogloss:0.739614\teval-mlogloss:0.742045\n",
      "[146]\ttrain-mlogloss:0.738093\teval-mlogloss:0.740475\n",
      "[147]\ttrain-mlogloss:0.736494\teval-mlogloss:0.738898\n",
      "[148]\ttrain-mlogloss:0.734924\teval-mlogloss:0.737348\n",
      "[149]\ttrain-mlogloss:0.733489\teval-mlogloss:0.73602\n",
      "[150]\ttrain-mlogloss:0.731976\teval-mlogloss:0.734479\n",
      "[151]\ttrain-mlogloss:0.730599\teval-mlogloss:0.733058\n",
      "[152]\ttrain-mlogloss:0.729091\teval-mlogloss:0.731563\n",
      "[153]\ttrain-mlogloss:0.727653\teval-mlogloss:0.730224\n",
      "[154]\ttrain-mlogloss:0.726096\teval-mlogloss:0.728701\n",
      "[155]\ttrain-mlogloss:0.724646\teval-mlogloss:0.727219\n",
      "[156]\ttrain-mlogloss:0.723151\teval-mlogloss:0.725699\n",
      "[157]\ttrain-mlogloss:0.721752\teval-mlogloss:0.724371\n",
      "[158]\ttrain-mlogloss:0.720318\teval-mlogloss:0.723023\n",
      "[159]\ttrain-mlogloss:0.718929\teval-mlogloss:0.721643\n",
      "[160]\ttrain-mlogloss:0.71745\teval-mlogloss:0.72012\n",
      "[161]\ttrain-mlogloss:0.715995\teval-mlogloss:0.718724\n",
      "[162]\ttrain-mlogloss:0.714605\teval-mlogloss:0.717286\n",
      "[163]\ttrain-mlogloss:0.713268\teval-mlogloss:0.715965\n",
      "[164]\ttrain-mlogloss:0.71194\teval-mlogloss:0.71468\n",
      "[165]\ttrain-mlogloss:0.710395\teval-mlogloss:0.712965\n",
      "[166]\ttrain-mlogloss:0.709025\teval-mlogloss:0.711529\n",
      "[167]\ttrain-mlogloss:0.707703\teval-mlogloss:0.710211\n",
      "[168]\ttrain-mlogloss:0.70638\teval-mlogloss:0.708801\n",
      "[169]\ttrain-mlogloss:0.705152\teval-mlogloss:0.707681\n",
      "[170]\ttrain-mlogloss:0.703706\teval-mlogloss:0.706203\n",
      "[171]\ttrain-mlogloss:0.702364\teval-mlogloss:0.704837\n",
      "[172]\ttrain-mlogloss:0.701052\teval-mlogloss:0.703476\n",
      "[173]\ttrain-mlogloss:0.699506\teval-mlogloss:0.701828\n",
      "[174]\ttrain-mlogloss:0.698205\teval-mlogloss:0.700502\n",
      "[175]\ttrain-mlogloss:0.697011\teval-mlogloss:0.699335\n",
      "[176]\ttrain-mlogloss:0.695804\teval-mlogloss:0.698059\n",
      "[177]\ttrain-mlogloss:0.694509\teval-mlogloss:0.696727\n",
      "[178]\ttrain-mlogloss:0.693263\teval-mlogloss:0.695508\n",
      "[179]\ttrain-mlogloss:0.692016\teval-mlogloss:0.694264\n",
      "[180]\ttrain-mlogloss:0.690829\teval-mlogloss:0.693148\n",
      "[181]\ttrain-mlogloss:0.689428\teval-mlogloss:0.691694\n",
      "[182]\ttrain-mlogloss:0.688184\teval-mlogloss:0.690389\n",
      "[183]\ttrain-mlogloss:0.686948\teval-mlogloss:0.689079\n",
      "[184]\ttrain-mlogloss:0.685677\teval-mlogloss:0.687759\n",
      "[185]\ttrain-mlogloss:0.684302\teval-mlogloss:0.686291\n",
      "[186]\ttrain-mlogloss:0.683157\teval-mlogloss:0.68511\n",
      "[187]\ttrain-mlogloss:0.682024\teval-mlogloss:0.683984\n",
      "[188]\ttrain-mlogloss:0.680716\teval-mlogloss:0.68269\n",
      "[189]\ttrain-mlogloss:0.679463\teval-mlogloss:0.681429\n",
      "[190]\ttrain-mlogloss:0.678188\teval-mlogloss:0.680194\n",
      "[191]\ttrain-mlogloss:0.67708\teval-mlogloss:0.679046\n",
      "[192]\ttrain-mlogloss:0.67575\teval-mlogloss:0.677729\n",
      "[193]\ttrain-mlogloss:0.674599\teval-mlogloss:0.6766\n",
      "[194]\ttrain-mlogloss:0.673497\teval-mlogloss:0.675616\n",
      "[195]\ttrain-mlogloss:0.672452\teval-mlogloss:0.674597\n",
      "[196]\ttrain-mlogloss:0.671318\teval-mlogloss:0.673429\n",
      "[197]\ttrain-mlogloss:0.670192\teval-mlogloss:0.672336\n",
      "[198]\ttrain-mlogloss:0.669081\teval-mlogloss:0.671204\n",
      "[199]\ttrain-mlogloss:0.668035\teval-mlogloss:0.670166\n",
      "Accuracy: 0.8187960687960688\n"
     ]
    }
   ],
   "metadata": {}
  },
  {
   "cell_type": "code",
   "execution_count": 72,
   "source": [
    "class_names = ['P14', 'P35', 'P70']\n",
    "class_results = classification_report(y_test, preds, digits=4, target_names = ['P14', 'P35', 'P70'])\n",
    "print(str(class_results))"
   ],
   "outputs": [
    {
     "output_type": "stream",
     "name": "stdout",
     "text": [
      "              precision    recall  f1-score   support\n",
      "\n",
      "         P14     0.8006    0.7592    0.7794       677\n",
      "         P35     0.7908    0.8040    0.7974       301\n",
      "         P70     0.8485    0.8877    0.8677       650\n",
      "\n",
      "    accuracy                         0.8188      1628\n",
      "   macro avg     0.8133    0.8170    0.8148      1628\n",
      "weighted avg     0.8179    0.8188    0.8180      1628\n",
      "\n"
     ]
    }
   ],
   "metadata": {}
  },
  {
   "cell_type": "code",
   "execution_count": 65,
   "source": [
    "plt.figure(figsize=(12,10))\n",
    "cm_array = confusion_matrix(y_test, preds)\n",
    "df_cm = pd.DataFrame(cm_array, index = class_names, columns = class_names)\n",
    "\n",
    "sns.set(font_scale=1.4) # for label size\n",
    "ax = sns.heatmap(df_cm, annot=True, annot_kws={\"size\": 16}, cmap=\"YlGnBu\")\n",
    "ax.set(xlabel='Predicted', ylabel='Actual')\n",
    "\n",
    "plt.show()"
   ],
   "outputs": [
    {
     "output_type": "display_data",
     "data": {
      "text/plain": [
       "<Figure size 864x720 with 2 Axes>"
      ],
      "image/png": "[encoded data removed]"
     },
     "metadata": {}
    }
   ],
   "metadata": {}
  },
  {
   "cell_type": "code",
   "execution_count": 12,
   "source": [
    "dtrain, dtest, dval = full_preprocess(confined_ecm)\n",
    "booster, acc, true_label, preds = predxgboost.train(param, dtrain, dtest, dval, evals=[(dtrain, 'train'), (dval, 'eval')], num_round=815, verbose=100)"
   ],
   "outputs": [
    {
     "output_type": "stream",
     "name": "stdout",
     "text": [
      "Ratio before data balance (P70:P14:NT) = 8619:2029:9157\n",
      "Ratio after balance (P70:P14:NT) = 2029:2029:2029\n"
     ]
    },
    {
     "output_type": "error",
     "ename": "TypeError",
     "evalue": "train() got an unexpected keyword argument 'verbose'",
     "traceback": [
      "\u001b[0;31m---------------------------------------------------------------------------\u001b[0m",
      "\u001b[0;31mTypeError\u001b[0m                                 Traceback (most recent call last)",
      "\u001b[0;32m<ipython-input-12-023b277f8a54>\u001b[0m in \u001b[0;36m<module>\u001b[0;34m\u001b[0m\n\u001b[1;32m      1\u001b[0m \u001b[0mdtrain\u001b[0m\u001b[0;34m,\u001b[0m \u001b[0mdtest\u001b[0m\u001b[0;34m,\u001b[0m \u001b[0mdval\u001b[0m \u001b[0;34m=\u001b[0m \u001b[0mfull_preprocess\u001b[0m\u001b[0;34m(\u001b[0m\u001b[0mconfined_ecm\u001b[0m\u001b[0;34m)\u001b[0m\u001b[0;34m\u001b[0m\u001b[0;34m\u001b[0m\u001b[0m\n\u001b[0;32m----> 2\u001b[0;31m \u001b[0mbooster\u001b[0m\u001b[0;34m,\u001b[0m \u001b[0macc\u001b[0m\u001b[0;34m,\u001b[0m \u001b[0mtrue_label\u001b[0m\u001b[0;34m,\u001b[0m \u001b[0mpreds\u001b[0m \u001b[0;34m=\u001b[0m \u001b[0mpredxgboost\u001b[0m\u001b[0;34m.\u001b[0m\u001b[0mtrain\u001b[0m\u001b[0;34m(\u001b[0m\u001b[0mparam\u001b[0m\u001b[0;34m,\u001b[0m \u001b[0mdtrain\u001b[0m\u001b[0;34m,\u001b[0m \u001b[0mdtest\u001b[0m\u001b[0;34m,\u001b[0m \u001b[0mdval\u001b[0m\u001b[0;34m,\u001b[0m \u001b[0mevals\u001b[0m\u001b[0;34m=\u001b[0m\u001b[0;34m[\u001b[0m\u001b[0;34m(\u001b[0m\u001b[0mdtrain\u001b[0m\u001b[0;34m,\u001b[0m \u001b[0;34m'train'\u001b[0m\u001b[0;34m)\u001b[0m\u001b[0;34m,\u001b[0m \u001b[0;34m(\u001b[0m\u001b[0mdval\u001b[0m\u001b[0;34m,\u001b[0m \u001b[0;34m'eval'\u001b[0m\u001b[0;34m)\u001b[0m\u001b[0;34m]\u001b[0m\u001b[0;34m,\u001b[0m \u001b[0mnum_round\u001b[0m\u001b[0;34m=\u001b[0m\u001b[0;36m815\u001b[0m\u001b[0;34m,\u001b[0m \u001b[0mverbose\u001b[0m\u001b[0;34m=\u001b[0m\u001b[0;36m100\u001b[0m\u001b[0;34m)\u001b[0m\u001b[0;34m\u001b[0m\u001b[0;34m\u001b[0m\u001b[0m\n\u001b[0m",
      "\u001b[0;31mTypeError\u001b[0m: train() got an unexpected keyword argument 'verbose'"
     ]
    }
   ],
   "metadata": {}
  },
  {
   "cell_type": "code",
   "execution_count": null,
   "source": [
    "dtrain, dtest, dval = full_preprocess(directed_ecm)\n",
    "booster, acc, true_label, preds = predxgboost.train(param, dtrain, dtest, dval, evals=[(dtrain, 'train'), (dval, 'eval')], num_round=815)\n"
   ],
   "outputs": [],
   "metadata": {}
  },
  {
   "cell_type": "code",
   "execution_count": null,
   "source": [
    "dtrain, dtest, dval = full_preprocess(ecm)\n",
    "booster, acc, true_label, preds = predxgboost.train(param, dtrain, dtest, dval, evals=[(dtrain, 'train'), (dval, 'eval')], num_round=815)"
   ],
   "outputs": [],
   "metadata": {}
  },
  {
   "cell_type": "code",
   "execution_count": null,
   "source": [
    "dtrain, dtest, dval = full_preprocess(directed_confined_ecm)\n",
    "booster, acc, true_label, preds = predxgboost.train(param, dtrain, dtest, dval, evals=[(dtrain, 'train'), (dval, 'eval')], num_round=815)"
   ],
   "outputs": [],
   "metadata": {}
  },
  {
   "cell_type": "code",
   "execution_count": null,
   "source": [
    "dtrain, dtest, dval = full_preprocess(directed_normal_ecm)\n",
    "booster, acc, true_label, preds = predxgboost.train(param, dtrain, dtest, dval, evals=[(dtrain, 'train'), (dval, 'eval')], num_round=815)"
   ],
   "outputs": [],
   "metadata": {}
  },
  {
   "cell_type": "code",
   "execution_count": 46,
   "source": [
    "acc_list = []\n",
    "for i in range(10):\n",
    "    print(i)\n",
    "    dtrain, dtest, dval = full_preprocess(normal_confined_ecm)\n",
    "    booster, acc, true_label, preds = predxgboost.train(param, dtrain, dtest, dval, evals=[(dtrain, 'train'), (dval, 'eval')], num_round=200, verbose=False)\n",
    "    acc_list.append(acc)"
   ],
   "outputs": [
    {
     "output_type": "stream",
     "name": "stdout",
     "text": [
      "0\n"
     ]
    },
    {
     "output_type": "stream",
     "name": "stderr",
     "text": [
      "\n",
      "A value is trying to be set on a copy of a slice from a DataFrame.\n",
      "Try using .loc[row_indexer,col_indexer] = value instead\n",
      "\n",
      "See the caveats in the documentation: https://pandas.pydata.org/pandas-docs/stable/user_guide/indexing.html#returning-a-view-versus-a-copy\n",
      "\n",
      "A value is trying to be set on a copy of a slice from a DataFrame.\n",
      "Try using .loc[row_indexer,col_indexer] = value instead\n",
      "\n",
      "See the caveats in the documentation: https://pandas.pydata.org/pandas-docs/stable/user_guide/indexing.html#returning-a-view-versus-a-copy\n",
      "\n",
      "A value is trying to be set on a copy of a slice from a DataFrame.\n",
      "Try using .loc[row_indexer,col_indexer] = value instead\n",
      "\n",
      "See the caveats in the documentation: https://pandas.pydata.org/pandas-docs/stable/user_guide/indexing.html#returning-a-view-versus-a-copy\n",
      "\n",
      "A value is trying to be set on a copy of a slice from a DataFrame.\n",
      "Try using .loc[row_indexer,col_indexer] = value instead\n",
      "\n",
      "See the caveats in the documentation: https://pandas.pydata.org/pandas-docs/stable/user_guide/indexing.html#returning-a-view-versus-a-copy\n"
     ]
    },
    {
     "output_type": "stream",
     "name": "stdout",
     "text": [
      "Accuracy: 0.8141151579265529\n",
      "1\n"
     ]
    },
    {
     "output_type": "stream",
     "name": "stderr",
     "text": [
      "\n",
      "A value is trying to be set on a copy of a slice from a DataFrame.\n",
      "Try using .loc[row_indexer,col_indexer] = value instead\n",
      "\n",
      "See the caveats in the documentation: https://pandas.pydata.org/pandas-docs/stable/user_guide/indexing.html#returning-a-view-versus-a-copy\n",
      "\n",
      "A value is trying to be set on a copy of a slice from a DataFrame.\n",
      "Try using .loc[row_indexer,col_indexer] = value instead\n",
      "\n",
      "See the caveats in the documentation: https://pandas.pydata.org/pandas-docs/stable/user_guide/indexing.html#returning-a-view-versus-a-copy\n",
      "\n",
      "A value is trying to be set on a copy of a slice from a DataFrame.\n",
      "Try using .loc[row_indexer,col_indexer] = value instead\n",
      "\n",
      "See the caveats in the documentation: https://pandas.pydata.org/pandas-docs/stable/user_guide/indexing.html#returning-a-view-versus-a-copy\n",
      "\n",
      "A value is trying to be set on a copy of a slice from a DataFrame.\n",
      "Try using .loc[row_indexer,col_indexer] = value instead\n",
      "\n",
      "See the caveats in the documentation: https://pandas.pydata.org/pandas-docs/stable/user_guide/indexing.html#returning-a-view-versus-a-copy\n"
     ]
    },
    {
     "output_type": "stream",
     "name": "stdout",
     "text": [
      "Accuracy: 0.8211970450776421\n",
      "2\n"
     ]
    },
    {
     "output_type": "stream",
     "name": "stderr",
     "text": [
      "\n",
      "A value is trying to be set on a copy of a slice from a DataFrame.\n",
      "Try using .loc[row_indexer,col_indexer] = value instead\n",
      "\n",
      "See the caveats in the documentation: https://pandas.pydata.org/pandas-docs/stable/user_guide/indexing.html#returning-a-view-versus-a-copy\n",
      "\n",
      "A value is trying to be set on a copy of a slice from a DataFrame.\n",
      "Try using .loc[row_indexer,col_indexer] = value instead\n",
      "\n",
      "See the caveats in the documentation: https://pandas.pydata.org/pandas-docs/stable/user_guide/indexing.html#returning-a-view-versus-a-copy\n",
      "\n",
      "A value is trying to be set on a copy of a slice from a DataFrame.\n",
      "Try using .loc[row_indexer,col_indexer] = value instead\n",
      "\n",
      "See the caveats in the documentation: https://pandas.pydata.org/pandas-docs/stable/user_guide/indexing.html#returning-a-view-versus-a-copy\n",
      "\n",
      "A value is trying to be set on a copy of a slice from a DataFrame.\n",
      "Try using .loc[row_indexer,col_indexer] = value instead\n",
      "\n",
      "See the caveats in the documentation: https://pandas.pydata.org/pandas-docs/stable/user_guide/indexing.html#returning-a-view-versus-a-copy\n"
     ]
    },
    {
     "output_type": "stream",
     "name": "stdout",
     "text": [
      "Accuracy: 0.8254620123203286\n",
      "3\n"
     ]
    },
    {
     "output_type": "stream",
     "name": "stderr",
     "text": [
      "\n",
      "A value is trying to be set on a copy of a slice from a DataFrame.\n",
      "Try using .loc[row_indexer,col_indexer] = value instead\n",
      "\n",
      "See the caveats in the documentation: https://pandas.pydata.org/pandas-docs/stable/user_guide/indexing.html#returning-a-view-versus-a-copy\n",
      "\n",
      "A value is trying to be set on a copy of a slice from a DataFrame.\n",
      "Try using .loc[row_indexer,col_indexer] = value instead\n",
      "\n",
      "See the caveats in the documentation: https://pandas.pydata.org/pandas-docs/stable/user_guide/indexing.html#returning-a-view-versus-a-copy\n",
      "\n",
      "A value is trying to be set on a copy of a slice from a DataFrame.\n",
      "Try using .loc[row_indexer,col_indexer] = value instead\n",
      "\n",
      "See the caveats in the documentation: https://pandas.pydata.org/pandas-docs/stable/user_guide/indexing.html#returning-a-view-versus-a-copy\n",
      "\n",
      "A value is trying to be set on a copy of a slice from a DataFrame.\n",
      "Try using .loc[row_indexer,col_indexer] = value instead\n",
      "\n",
      "See the caveats in the documentation: https://pandas.pydata.org/pandas-docs/stable/user_guide/indexing.html#returning-a-view-versus-a-copy\n"
     ]
    },
    {
     "output_type": "stream",
     "name": "stdout",
     "text": [
      "Accuracy: 0.8273111215391835\n",
      "4\n"
     ]
    },
    {
     "output_type": "stream",
     "name": "stderr",
     "text": [
      "\n",
      "A value is trying to be set on a copy of a slice from a DataFrame.\n",
      "Try using .loc[row_indexer,col_indexer] = value instead\n",
      "\n",
      "See the caveats in the documentation: https://pandas.pydata.org/pandas-docs/stable/user_guide/indexing.html#returning-a-view-versus-a-copy\n",
      "\n",
      "A value is trying to be set on a copy of a slice from a DataFrame.\n",
      "Try using .loc[row_indexer,col_indexer] = value instead\n",
      "\n",
      "See the caveats in the documentation: https://pandas.pydata.org/pandas-docs/stable/user_guide/indexing.html#returning-a-view-versus-a-copy\n",
      "\n",
      "A value is trying to be set on a copy of a slice from a DataFrame.\n",
      "Try using .loc[row_indexer,col_indexer] = value instead\n",
      "\n",
      "See the caveats in the documentation: https://pandas.pydata.org/pandas-docs/stable/user_guide/indexing.html#returning-a-view-versus-a-copy\n",
      "\n",
      "A value is trying to be set on a copy of a slice from a DataFrame.\n",
      "Try using .loc[row_indexer,col_indexer] = value instead\n",
      "\n",
      "See the caveats in the documentation: https://pandas.pydata.org/pandas-docs/stable/user_guide/indexing.html#returning-a-view-versus-a-copy\n"
     ]
    },
    {
     "output_type": "stream",
     "name": "stdout",
     "text": [
      "Accuracy: 0.8159706287287747\n",
      "5\n"
     ]
    },
    {
     "output_type": "stream",
     "name": "stderr",
     "text": [
      "\n",
      "A value is trying to be set on a copy of a slice from a DataFrame.\n",
      "Try using .loc[row_indexer,col_indexer] = value instead\n",
      "\n",
      "See the caveats in the documentation: https://pandas.pydata.org/pandas-docs/stable/user_guide/indexing.html#returning-a-view-versus-a-copy\n",
      "\n",
      "A value is trying to be set on a copy of a slice from a DataFrame.\n",
      "Try using .loc[row_indexer,col_indexer] = value instead\n",
      "\n",
      "See the caveats in the documentation: https://pandas.pydata.org/pandas-docs/stable/user_guide/indexing.html#returning-a-view-versus-a-copy\n",
      "\n",
      "A value is trying to be set on a copy of a slice from a DataFrame.\n",
      "Try using .loc[row_indexer,col_indexer] = value instead\n",
      "\n",
      "See the caveats in the documentation: https://pandas.pydata.org/pandas-docs/stable/user_guide/indexing.html#returning-a-view-versus-a-copy\n",
      "\n",
      "A value is trying to be set on a copy of a slice from a DataFrame.\n",
      "Try using .loc[row_indexer,col_indexer] = value instead\n",
      "\n",
      "See the caveats in the documentation: https://pandas.pydata.org/pandas-docs/stable/user_guide/indexing.html#returning-a-view-versus-a-copy\n"
     ]
    },
    {
     "output_type": "stream",
     "name": "stdout",
     "text": [
      "Accuracy: 0.8204011817757736\n",
      "6\n"
     ]
    },
    {
     "output_type": "stream",
     "name": "stderr",
     "text": [
      "\n",
      "A value is trying to be set on a copy of a slice from a DataFrame.\n",
      "Try using .loc[row_indexer,col_indexer] = value instead\n",
      "\n",
      "See the caveats in the documentation: https://pandas.pydata.org/pandas-docs/stable/user_guide/indexing.html#returning-a-view-versus-a-copy\n",
      "\n",
      "A value is trying to be set on a copy of a slice from a DataFrame.\n",
      "Try using .loc[row_indexer,col_indexer] = value instead\n",
      "\n",
      "See the caveats in the documentation: https://pandas.pydata.org/pandas-docs/stable/user_guide/indexing.html#returning-a-view-versus-a-copy\n",
      "\n",
      "A value is trying to be set on a copy of a slice from a DataFrame.\n",
      "Try using .loc[row_indexer,col_indexer] = value instead\n",
      "\n",
      "See the caveats in the documentation: https://pandas.pydata.org/pandas-docs/stable/user_guide/indexing.html#returning-a-view-versus-a-copy\n",
      "\n",
      "A value is trying to be set on a copy of a slice from a DataFrame.\n",
      "Try using .loc[row_indexer,col_indexer] = value instead\n",
      "\n",
      "See the caveats in the documentation: https://pandas.pydata.org/pandas-docs/stable/user_guide/indexing.html#returning-a-view-versus-a-copy\n"
     ]
    },
    {
     "output_type": "stream",
     "name": "stdout",
     "text": [
      "Accuracy: 0.810136391816491\n",
      "7\n"
     ]
    },
    {
     "output_type": "stream",
     "name": "stderr",
     "text": [
      "\n",
      "A value is trying to be set on a copy of a slice from a DataFrame.\n",
      "Try using .loc[row_indexer,col_indexer] = value instead\n",
      "\n",
      "See the caveats in the documentation: https://pandas.pydata.org/pandas-docs/stable/user_guide/indexing.html#returning-a-view-versus-a-copy\n",
      "\n",
      "A value is trying to be set on a copy of a slice from a DataFrame.\n",
      "Try using .loc[row_indexer,col_indexer] = value instead\n",
      "\n",
      "See the caveats in the documentation: https://pandas.pydata.org/pandas-docs/stable/user_guide/indexing.html#returning-a-view-versus-a-copy\n",
      "\n",
      "A value is trying to be set on a copy of a slice from a DataFrame.\n",
      "Try using .loc[row_indexer,col_indexer] = value instead\n",
      "\n",
      "See the caveats in the documentation: https://pandas.pydata.org/pandas-docs/stable/user_guide/indexing.html#returning-a-view-versus-a-copy\n",
      "\n",
      "A value is trying to be set on a copy of a slice from a DataFrame.\n",
      "Try using .loc[row_indexer,col_indexer] = value instead\n",
      "\n",
      "See the caveats in the documentation: https://pandas.pydata.org/pandas-docs/stable/user_guide/indexing.html#returning-a-view-versus-a-copy\n"
     ]
    },
    {
     "output_type": "stream",
     "name": "stdout",
     "text": [
      "Accuracy: 0.8110451848471018\n",
      "8\n"
     ]
    },
    {
     "output_type": "stream",
     "name": "stderr",
     "text": [
      "\n",
      "A value is trying to be set on a copy of a slice from a DataFrame.\n",
      "Try using .loc[row_indexer,col_indexer] = value instead\n",
      "\n",
      "See the caveats in the documentation: https://pandas.pydata.org/pandas-docs/stable/user_guide/indexing.html#returning-a-view-versus-a-copy\n",
      "\n",
      "A value is trying to be set on a copy of a slice from a DataFrame.\n",
      "Try using .loc[row_indexer,col_indexer] = value instead\n",
      "\n",
      "See the caveats in the documentation: https://pandas.pydata.org/pandas-docs/stable/user_guide/indexing.html#returning-a-view-versus-a-copy\n",
      "\n",
      "A value is trying to be set on a copy of a slice from a DataFrame.\n",
      "Try using .loc[row_indexer,col_indexer] = value instead\n",
      "\n",
      "See the caveats in the documentation: https://pandas.pydata.org/pandas-docs/stable/user_guide/indexing.html#returning-a-view-versus-a-copy\n",
      "\n",
      "A value is trying to be set on a copy of a slice from a DataFrame.\n",
      "Try using .loc[row_indexer,col_indexer] = value instead\n",
      "\n",
      "See the caveats in the documentation: https://pandas.pydata.org/pandas-docs/stable/user_guide/indexing.html#returning-a-view-versus-a-copy\n"
     ]
    },
    {
     "output_type": "stream",
     "name": "stdout",
     "text": [
      "Accuracy: 0.83796929624563\n",
      "9\n"
     ]
    },
    {
     "output_type": "stream",
     "name": "stderr",
     "text": [
      "\n",
      "A value is trying to be set on a copy of a slice from a DataFrame.\n",
      "Try using .loc[row_indexer,col_indexer] = value instead\n",
      "\n",
      "See the caveats in the documentation: https://pandas.pydata.org/pandas-docs/stable/user_guide/indexing.html#returning-a-view-versus-a-copy\n",
      "\n",
      "A value is trying to be set on a copy of a slice from a DataFrame.\n",
      "Try using .loc[row_indexer,col_indexer] = value instead\n",
      "\n",
      "See the caveats in the documentation: https://pandas.pydata.org/pandas-docs/stable/user_guide/indexing.html#returning-a-view-versus-a-copy\n",
      "\n",
      "A value is trying to be set on a copy of a slice from a DataFrame.\n",
      "Try using .loc[row_indexer,col_indexer] = value instead\n",
      "\n",
      "See the caveats in the documentation: https://pandas.pydata.org/pandas-docs/stable/user_guide/indexing.html#returning-a-view-versus-a-copy\n",
      "\n",
      "A value is trying to be set on a copy of a slice from a DataFrame.\n",
      "Try using .loc[row_indexer,col_indexer] = value instead\n",
      "\n",
      "See the caveats in the documentation: https://pandas.pydata.org/pandas-docs/stable/user_guide/indexing.html#returning-a-view-versus-a-copy\n"
     ]
    },
    {
     "output_type": "stream",
     "name": "stdout",
     "text": [
      "Accuracy: 0.8137740244612697\n"
     ]
    }
   ],
   "metadata": {}
  },
  {
   "cell_type": "code",
   "execution_count": 39,
   "source": [
    "acc_list"
   ],
   "outputs": [
    {
     "output_type": "execute_result",
     "data": {
      "text/plain": [
       "[0.8121085594989561,\n",
       " 0.8101851851851852,\n",
       " 0.8065061258977608,\n",
       " 0.7880571909167368,\n",
       " 0.7980607082630692,\n",
       " 0.7999148573861218,\n",
       " 0.8212337389844734,\n",
       " 0.8179591836734694,\n",
       " 0.8014827018121911,\n",
       " 0.8069267515923567]"
      ]
     },
     "metadata": {},
     "execution_count": 39
    }
   ],
   "metadata": {}
  },
  {
   "cell_type": "code",
   "execution_count": null,
   "source": [],
   "outputs": [],
   "metadata": {}
  }
 ],
 "metadata": {
  "language_info": {
   "name": "python",
   "version": "3.7.7",
   "mimetype": "text/x-python",
   "codemirror_mode": {
    "name": "ipython",
    "version": 3
   },
   "pygments_lexer": "ipython3",
   "nbconvert_exporter": "python",
   "file_extension": ".py"
  },
  "orig_nbformat": 4,
  "kernelspec": {
   "name": "python3",
   "display_name": "Python 3.7.7 64-bit ('base': conda)"
  },
  "interpreter": {
   "hash": "dca0ade3e726a953b501b15e8e990130d2b7799f14cfd9f4271676035ebe5511"
  }
 },
 "nbformat": 4,
 "nbformat_minor": 2
}