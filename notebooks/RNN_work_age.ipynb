{
 "cells": [
  {
   "cell_type": "code",
   "execution_count": 13,
   "metadata": {},
   "outputs": [],
   "source": [
    "# --- added to file ----\n",
    "# Takes in a String, \"bucket_name\", a string, \"remote_folder\",\n",
    "# and a list of strings or a single string, \"keywords\". Gets all\n",
    "# s3 keys for bucket_name/remote_folder. Uses a list convention\n",
    "# to go through keywords (i.e): ['a', 'b', 'c OR d OR e'] will \n",
    "# find all files containing 'a' and 'b' and either 'c', 'd', or 'e'.\n",
    "# Using '' will return every file key in folder.\n",
    "def get_s3_keys(bucket_name, remote_folder, keywords=''):\n",
    "    s3 = boto3.resource('s3')\n",
    "    bucket = s3.Bucket(bucket_name)\n",
    "    obj_list = []\n",
    "    keywords = [i.split('OR') for i in list(keywords)]\n",
    "    keywords = [list(map(lambda x:x.strip(), i)) for i in keywords]\n",
    "    for object in bucket.objects.all():\n",
    "        filename = object.key.split(\"/\")[-1]\n",
    "        kwds_in = all(any(k in filename for k in ([keyword]*isinstance(keyword, str) or keyword)) for keyword in keywords)\n",
    "        if remote_folder in object.key and kwds_in:\n",
    "            obj_list.append(s3.Object(object.bucket_name, object.key))\n",
    "    return obj_list"
   ]
  },
  {
   "cell_type": "code",
   "execution_count": 2,
   "metadata": {},
   "outputs": [],
   "source": [
    "import tensorflow as tf\n",
    "physical_devices = tf.config.list_physical_devices('GPU') \n",
    "tf.config.experimental.set_memory_growth(physical_devices[0], enable=True)"
   ]
  },
  {
   "cell_type": "code",
   "execution_count": 3,
   "metadata": {},
   "outputs": [],
   "source": [
    "from os import listdir, getcwd, chdir\n",
    "from os.path import isfile, join\n",
    "import pandas as pd\n",
    "import numpy as np\n",
    "import csv\n",
    "import numpy as np\n",
    "import pandas as pd"
   ]
  },
  {
   "cell_type": "code",
   "execution_count": 4,
   "metadata": {},
   "outputs": [],
   "source": [
    "from os import listdir\n",
    "from os.path import isfile, join\n",
    "import pandas as pd\n",
    "import numpy as np\n",
    "import csv\n",
    "\n",
    "# Takes in a path and list of keywords. Returns a list of filenames\n",
    "# that are within the path that contain one of the keyword in the list.\n",
    "# Set keyword to \"\" to get all files in the path.\n",
    "def get_files(path, keywords = [\"features_ OR msd_\"]):\n",
    "    \"\"\"\n",
    "    Takes in a path and list of keywords. Returns a list of filenames\n",
    "    that are within the path that contain one of the keyword in the list.\n",
    "    Set keyword to \"\" to get all files in the path.\n",
    "    \"\"\"\n",
    "    keywords = [i.split('OR') for i in list(keywords)]\n",
    "    keywords = [list(map(lambda x:x.strip(), i)) for i in keywords]\n",
    "    files = [f for f in listdir(path) if isfile(join(path, f))]\n",
    "    file_list = []\n",
    "    for filename in files:\n",
    "        kwds_in = all(any(k in filename for k in ([keyword]*isinstance(keyword, str) or keyword)) for keyword in keywords)\n",
    "        if (kwds_in):\n",
    "            file_list.append(filename)\n",
    "    return file_list\n",
    "\n",
    "# Pre: Both files must exhist; Feature must be in the feature file\n",
    "# Throws a FileNotFoundError exception if preconditions not met\n",
    "#\n",
    "# Adds a feature from produced features file to the track file.\n",
    "def combine_track(trackFile, feature=None, featureDF=None):\n",
    "    '''\n",
    "    Adds a feature or set of feature to the corresponding track file\n",
    "    Preconditions: Both files must exhist; Feature(s) must be in the \n",
    "    feature file. \n",
    "    \n",
    "    Input:\n",
    "    ------\n",
    "    trackFile : string :\n",
    "        The file location of the dataframe \n",
    "    feature : list : string : tuple :\n",
    "        feature or set of features to attach to track dataframe\n",
    "    Output:\n",
    "    -------\n",
    "    trackDF : pd.DataFrame :\n",
    "        DataFrame of the combined tracks\n",
    "    '''\n",
    "    if isinstance(trackFile, str):\n",
    "        try:\n",
    "            trackDF = pd.read_csv(trackFile)\n",
    "        except FileNotFoundError:\n",
    "            raise(\"DataFrame cannot be located\")\n",
    "    else:\n",
    "        trackDF = trackFile\n",
    "    if featureDF is None:\n",
    "        featureDF = find_pair(trackFile)\n",
    "    if feature is None:\n",
    "        feature = np.setdiff1d(featureDF.columns.values, trackDF.columns.values)\n",
    "    elif isinstance(feature, str):\n",
    "        feature = [feature]\n",
    "    elif isinstance(feature, tuple):\n",
    "        feature = list(feature)\n",
    "    trackDF = trackDF.reindex(columns=[*trackDF.columns.tolist()] + [*feature], fill_value=np.nan)\n",
    "    maxFrames = int(trackDF[\"Frame\"].max())\n",
    "    maxTracks = int(trackDF[\"Track_ID\"].max())\n",
    "    for i in range(int(maxTracks)+1):\n",
    "        for feat in feature:\n",
    "            trackFeature = featureDF.loc[i, feat]\n",
    "            trackDF.loc[(maxFrames)*(i+1) + i, feat] = trackFeature\n",
    "    return trackDF\n",
    "\n",
    "# Trys to find the feature file pair for either the msd_ or Traj_\n",
    "# Returns the pd.DataFrame of that pair if found.\n",
    "def find_pair(filename):\n",
    "    \"\"\"\n",
    "    Trys to find the feature file pair for either the msd_ or traj_ df,\n",
    "    or the Traj_ or msd_ file for input feauture_ file.\n",
    "    Returns the pd.DataFrame of that pair if found.\n",
    "    \"\"\"\n",
    "    if \"msd_\" in filename:\n",
    "        try:\n",
    "            filename = filename.replace(\"msd_\", \"\").replace(\"Traj_\", \"\")\n",
    "            filename = filename.split(\"/\")\n",
    "            filename[-1] = \"features_\" + filename[-1]\n",
    "            featureFile = \"/\".join(filename)\n",
    "            return pd.read_csv(featureFile)\n",
    "        except FileNotFoundError:\n",
    "            print(\"File pair could not be found\")  \n",
    "    elif \"features_\" in filename:\n",
    "        try:\n",
    "            filename = filename.replace(\"features_\", \"\")\n",
    "            filename = filename.split(\"/\")\n",
    "            filename[-1] = \"msd_\" + filename[-1]\n",
    "            featureFile = \"/\".join(filename)\n",
    "            return pd.read_csv(featureFile)\n",
    "        except:\n",
    "            try:\n",
    "                filename = filename.replace(\"features_\", \"\")\n",
    "                filename = filename.split(\"/\")\n",
    "                filename[-1] = \"Traj_\" + filename[-1]\n",
    "                featureFile = \"/\".join(filename)\n",
    "                return pd.read_csv(featureFile)\n",
    "            except FileNotFoundError:\n",
    "                print(\"File pair could not be found\")"
   ]
  },
  {
   "cell_type": "code",
   "execution_count": 95,
   "metadata": {},
   "outputs": [
    {
     "name": "stdout",
     "output_type": "stream",
     "text": [
      "Current Notebook Dir: C:\\Users\\david\\Documents\n"
     ]
    }
   ],
   "source": [
    "if not 'workbookDir' in globals():\n",
    "    workbookDir = getcwd()\n",
    "print('Current Notebook Dir: ' + workbookDir)\n",
    "chdir(workbookDir) # Go to current workbook Dir\n",
    "chdir('..')        # Go up one\n",
    "print(f'Using current directory for loading data: {getcwd()}')\n",
    "workbookDir = getcwd()"
   ]
  },
  {
   "cell_type": "code",
   "execution_count": 104,
   "metadata": {},
   "outputs": [],
   "source": [
    "dataset_path = './raw_data_region_cortex_striatum/'\n",
    "track_file_list = get_files(dataset_path, keywords=['msd_'])\n",
    "feature_file_list = get_files(dataset_path, ['features_'])"
   ]
  },
  {
   "cell_type": "code",
   "execution_count": 98,
   "metadata": {
    "scrolled": true
   },
   "outputs": [
    {
     "name": "stdout",
     "output_type": "stream",
     "text": [
      "/c/Users/david/Documents/nancework/source/diff_predictor\n"
     ]
    }
   ],
   "source": [
    "!pwd"
   ]
  },
  {
   "cell_type": "code",
   "execution_count": 105,
   "metadata": {},
   "outputs": [],
   "source": [
    "lengths = []\n",
    "for filename in feature_file_list:\n",
    "    tstats = pd.read_csv(dataset_path + '/' + filename, encoding = \"ISO-8859-1\", index_col='Unnamed: 0')\n",
    "    lengths.append(len(tstats))"
   ]
  },
  {
   "cell_type": "code",
   "execution_count": 120,
   "metadata": {},
   "outputs": [
    {
     "data": {
      "text/plain": [
       "100699"
      ]
     },
     "execution_count": 120,
     "metadata": {},
     "output_type": "execute_result"
    }
   ],
   "source": [
    "np.array(lengths).sum()"
   ]
  },
  {
   "cell_type": "code",
   "execution_count": 475,
   "metadata": {
    "scrolled": true
   },
   "outputs": [
    {
     "name": "stdout",
     "output_type": "stream",
     "text": [
      "features_NT_brain_2_slice_1_vid_1.csv size: (416, 23)\n",
      "features_NT_brain_2_slice_1_vid_2.csv size: (833, 91)\n",
      "features_NT_brain_2_slice_1_vid_3.csv size: (1017, 91)\n",
      "features_NT_brain_2_slice_1_vid_4.csv size: (878, 91)\n",
      "features_NT_brain_2_slice_1_vid_5.csv size: (467, 91)\n",
      "features_NT_brain_2_slice_2_vid_1.csv size: (2488, 91)\n",
      "features_NT_brain_2_slice_2_vid_2.csv size: (2322, 91)\n",
      "features_NT_brain_2_slice_2_vid_3.csv size: (1735, 91)\n",
      "features_NT_brain_2_slice_2_vid_4.csv size: (1650, 91)\n",
      "features_NT_brain_2_slice_2_vid_5.csv size: (2100, 91)\n",
      "features_NT_brain_2_slice_3_vid_1.csv size: (562, 91)\n",
      "features_NT_brain_2_slice_3_vid_2.csv size: (853, 91)\n",
      "features_NT_brain_2_slice_3_vid_3.csv size: (817, 91)\n",
      "features_NT_brain_2_slice_3_vid_4.csv size: (598, 23)\n",
      "features_NT_brain_2_slice_3_vid_5.csv size: (1062, 91)\n",
      "features_P14_40nm_s1_v1.csv size: (793, 91)\n",
      "features_P14_40nm_s1_v2.csv size: (1356, 91)\n",
      "features_P14_40nm_s1_v3.csv size: (519, 91)\n",
      "features_P14_40nm_s1_v4.csv size: (140, 91)\n",
      "features_P14_40nm_s1_v5.csv size: (268, 91)\n",
      "features_P14_40nm_s2_v1.csv size: (568, 91)\n",
      "features_P14_40nm_s2_v2.csv size: (938, 91)\n",
      "features_P14_40nm_s2_v3.csv size: (220, 91)\n",
      "features_P14_40nm_s2_v4.csv size: (162, 91)\n",
      "features_P14_40nm_s2_v5.csv size: (258, 91)\n",
      "features_P14_40nm_s3_v1.csv size: (151, 91)\n",
      "features_P14_40nm_s3_v2.csv size: (243, 91)\n",
      "features_P14_40nm_s3_v3.csv size: (323, 91)\n",
      "features_P14_40nm_s3_v4.csv size: (113, 91)\n",
      "features_P14_40nm_s3_v5.csv size: (389, 91)\n",
      "features_P21_40nm_s1_v1.csv size: (807, 91)\n",
      "features_P21_40nm_s1_v2.csv size: (2481, 91)\n",
      "features_P21_40nm_s1_v3.csv size: (1330, 91)\n",
      "features_P21_40nm_s1_v4.csv size: (1294, 91)\n",
      "features_P21_40nm_s1_v5.csv size: (2540, 91)\n",
      "features_P21_40nm_s2_v1.csv size: (2584, 91)\n",
      "features_P21_40nm_s2_v2.csv size: (846, 91)\n",
      "features_P21_40nm_s2_v3.csv size: (435, 91)\n",
      "features_P21_40nm_s2_v4.csv size: (1506, 91)\n",
      "features_P21_40nm_s2_v5.csv size: (2884, 91)\n",
      "features_P21_40nm_s3_v1.csv size: (1086, 91)\n",
      "features_P21_40nm_s3_v2.csv size: (679, 91)\n",
      "features_P21_40nm_s3_v3.csv size: (456, 91)\n",
      "features_P21_40nm_s3_v4.csv size: (1417, 91)\n",
      "features_P21_40nm_s3_v5.csv size: (915, 91)\n",
      "features_P28_40nm_s1_v1.csv size: (679, 91)\n",
      "features_P28_40nm_s1_v2.csv size: (480, 91)\n",
      "features_P28_40nm_s1_v3.csv size: (195, 91)\n",
      "features_P28_40nm_s1_v4.csv size: (699, 91)\n",
      "features_P28_40nm_s1_v5.csv size: (457, 91)\n",
      "features_P28_40nm_s2_v1.csv size: (500, 91)\n",
      "features_P28_40nm_s2_v2.csv size: (610, 91)\n",
      "features_P28_40nm_s2_v3.csv size: (494, 91)\n",
      "features_P28_40nm_s2_v4.csv size: (703, 91)\n",
      "features_P28_40nm_s2_v5.csv size: (372, 91)\n",
      "features_P28_40nm_s3_v1.csv size: (203, 91)\n",
      "features_P28_40nm_s3_v2.csv size: (306, 91)\n",
      "features_P28_40nm_s3_v3.csv size: (326, 91)\n",
      "features_P28_40nm_s3_v4.csv size: (75, 91)\n",
      "features_P28_40nm_s3_v5.csv size: (195, 91)\n"
     ]
    }
   ],
   "source": [
    "fstats_tot = None\n",
    "video_num = 0\n",
    "for filename in feature_file_list:\n",
    "    try:\n",
    "        fstats = pd.read_csv(dataset_path + '/' + filename, encoding = \"ISO-8859-1\", index_col='Unnamed: 0')\n",
    "        tstats = find_pair(dataset_path + '/' + filename)\n",
    "        print('{} size: {}'.format(filename, fstats.shape))\n",
    "        if 'P14' in filename:\n",
    "            fstats['age'] = pd.Series(fstats.shape[0]*[14], index=fstats.index)\n",
    "        elif 'P21' in filename: \n",
    "            fstats['age'] = pd.Series(fstats.shape[0]*[21], index=fstats.index)\n",
    "        elif 'P28' in filename:\n",
    "            fstats['age'] = pd.Series(fstats.shape[0]*[28], index=fstats.index)\n",
    "        elif 'NT_brain_2' in filename:\n",
    "            fstats['age'] = pd.Series(fstats.shape[0]*[35], index=fstats.index)\n",
    "        else:\n",
    "            print('Error, no target')\n",
    "        fstats['Video Number'] = pd.Series(fstats.shape[0]*[video_num], index=fstats.index)\n",
    "        fstats = combine_track(tstats, np.append(feat, ['age']), featureDF=fstats)\n",
    "        if fstats_tot is None:\n",
    "            fstats_tot = fstats\n",
    "        else:\n",
    "            fstats_tot = fstats_tot.append(fstats, ignore_index=True)\n",
    "        video_num += 1\n",
    "    except Exception:\n",
    "        print('Skipped!: {}'.format(filename))"
   ]
  },
  {
   "cell_type": "code",
   "execution_count": 476,
   "metadata": {},
   "outputs": [],
   "source": [
    "# fstats_tot.to_csv('saved_datasets/P14_P21_P28_P32_featuresandtracks.csv')"
   ]
  },
  {
   "cell_type": "code",
   "execution_count": 19,
   "metadata": {},
   "outputs": [],
   "source": [
    "fstats_tot = pd.read_csv('saved_datasets/P14_P21_P28_P32_featuresandtracks.csv')"
   ]
  },
  {
   "cell_type": "code",
   "execution_count": 8,
   "metadata": {},
   "outputs": [],
   "source": [
    "feat = np.array(['AR', 'D_fit', 'Deff1', 'Deff2', 'MSD_ratio', 'alpha',\n",
    "       'asymmetry1', 'asymmetry2', 'asymmetry3', 'boundedness',\n",
    "       'efficiency', 'elongation', 'fractal_dim', 'frames', 'kurtosis',\n",
    "       'straightness', 'trappedness'])"
   ]
  },
  {
   "cell_type": "code",
   "execution_count": 9,
   "metadata": {},
   "outputs": [],
   "source": [
    "def zero_df(df, col, res=(0, 651)):\n",
    "    '''\n",
    "    Zeros a single dataframe column so that the first value will be\n",
    "    located at the start of the track.\n",
    "    '''\n",
    "    try:\n",
    "        shift_val = df.iloc[res[0]:res[1]][col].reset_index().dropna().index[0]\n",
    "    except:\n",
    "        shift_val = res[0]-res[1]-1\n",
    "    return df.iloc[res[0]:res[1]][col].reset_index().shift(-shift_val, fill_value=np.nan)[col]\n",
    "\n",
    "def get_zeroed_tracks(df, col, res=650):\n",
    "    '''\n",
    "    Creates an array of all the tracks for a single column in a file\n",
    "    in which the value is zeroed to frame = 0\n",
    "    '''\n",
    "    lower = 0\n",
    "    upper = res+1\n",
    "    value = []\n",
    "    while (upper <= len(df)):\n",
    "        value.append(list(zero_df(df, col=col, res=[lower, upper])))\n",
    "        lower = upper\n",
    "        upper = lower + res + 1\n",
    "    return value"
   ]
  },
  {
   "cell_type": "code",
   "execution_count": 10,
   "metadata": {},
   "outputs": [],
   "source": [
    "import numpy as np\n",
    "import pandas as pd\n",
    "\n",
    "# Creates x and y datasets for LSTM based off of input\n",
    "# track_df data\n",
    "def get_xy_data(df, target, feat=None, use_feat=False, res=650):\n",
    "    n_tracks = int((len(df))/(res+1))\n",
    "    frame = get_zeroed_tracks(df, 'Frame', res=res)\n",
    "    X = get_zeroed_tracks(df, 'X', res=res)\n",
    "    Y = get_zeroed_tracks(df, 'Y', res=res)\n",
    "    MSDs = get_zeroed_tracks(df, 'MSDs', res=res)\n",
    "    trgt = df[target]\n",
    "    datax = []\n",
    "    datay = []\n",
    "    datafeat = []\n",
    "    print(n_tracks)\n",
    "    for j in range(n_tracks):\n",
    "        trackx = []\n",
    "        tracky = []\n",
    "        trackfeat = []\n",
    "        for i in range(res+1):\n",
    "            trackx.append([int(frame[j][i]), X[j][i], Y[j][i], MSDs[j][i]])\n",
    "        datax.append(trackx)\n",
    "        del(trackx)\n",
    "        tracky.append(trgt[(res+1)*(j+1)-1])\n",
    "        datay.append(tracky)\n",
    "        del(tracky)\n",
    "        if use_feat is True:\n",
    "            trackfeat.append(list(df.loc[(res+1)*(j+1)-1, feat]))\n",
    "        datafeat.append(trackfeat)\n",
    "        del(trackfeat)\n",
    "    del(df, frame, X, Y, MSDs, trgt)\n",
    "    datax = np.array(datax)\n",
    "    datax = datax.reshape(n_tracks, res+1, 4)\n",
    "    datay = np.array(datay)\n",
    "    datay = datay.reshape(n_tracks, 1)\n",
    "    datafeat = np.array(datafeat)\n",
    "    datafeat = datafeat.reshape(n_tracks, len(feat))\n",
    "    result = [datax, datay]\n",
    "    if use_feat is True:\n",
    "        result += [datafeat]\n",
    "    return tuple(result)"
   ]
  },
  {
   "cell_type": "code",
   "execution_count": null,
   "metadata": {},
   "outputs": [],
   "source": [
    "(datax, datay, datafeat) = get_xy_data(fstats_tot, 'age', feat, True)"
   ]
  },
  {
   "cell_type": "code",
   "execution_count": 11,
   "metadata": {},
   "outputs": [],
   "source": [
    "def get_track(df, track, res):\n",
    "    return df.loc[(res+1)*(track):(res+1)*(track+1)-1]\n",
    "\n",
    "def get_feat(df, track, res, feat):\n",
    "    return df.loc[(res+1)*(track+1)-1, feat]"
   ]
  },
  {
   "cell_type": "code",
   "execution_count": 149,
   "metadata": {},
   "outputs": [],
   "source": [
    "# np.save('./saved_datasets/RNN_datax', datax)\n",
    "# np.save('./saved_datasets/RNN_datay', datay)\n",
    "# np.save('./saved_datasets/RNN_datafeat', datafeat)\n",
    "datax = np.load('./saved_datasets/RNN_datax.npy')\n",
    "datay = np.load('./saved_datasets/RNN_datay.npy')\n",
    "datafeat = np.load('./saved_datasets/RNN_datafeat.npy')"
   ]
  },
  {
   "cell_type": "code",
   "execution_count": 15,
   "metadata": {},
   "outputs": [],
   "source": [
    "seed = 1010\n",
    "np.random.seed(seed)\n",
    "split = 0.8\n",
    "train_index = np.random.choice(np.arange(0, len(datax)), int(len(datax)*split), replace=False)\n",
    "test_index = np.setdiff1d(np.arange(0, len(datax)), train_index)\n",
    "datax = np.nan_to_num(datax, copy=True, nan=-1.0, posinf=-1.0, neginf=-1.0)\n",
    "datay = np.nan_to_num(datay, copy=True, nan=-1.0, posinf=-1.0, neginf=-1.0)\n",
    "datafeat = np.nan_to_num(datafeat, copy=True, nan=-1.0, posinf=-1.0, neginf=-1.0)\n",
    "X_train = datax[train_index]\n",
    "y_train = datay[train_index]\n",
    "feat_train = datafeat[train_index]\n",
    "X_test = datax[test_index]\n",
    "y_test = datay[test_index]\n",
    "feat_test = datafeat[test_index]"
   ]
  },
  {
   "cell_type": "code",
   "execution_count": 16,
   "metadata": {},
   "outputs": [
    {
     "data": {
      "text/plain": [
       "(41434, 651, 4)"
      ]
     },
     "execution_count": 16,
     "metadata": {},
     "output_type": "execute_result"
    }
   ],
   "source": [
    "X_train.shape"
   ]
  },
  {
   "cell_type": "code",
   "execution_count": 17,
   "metadata": {
    "scrolled": true
   },
   "outputs": [],
   "source": [
    "def numpy_one_hot_encode(mat, encoder=None):\n",
    "    if encoder is None:\n",
    "        encoder = np.unique(mat)\n",
    "    mat = np.array(encoder == mat).astype(int)\n",
    "    return mat, encoder\n",
    "y_train, encoder = numpy_one_hot_encode(y_train)\n",
    "y_test, encoder = numpy_one_hot_encode(y_test, encoder)"
   ]
  },
  {
   "cell_type": "code",
   "execution_count": 166,
   "metadata": {},
   "outputs": [],
   "source": [
    "def numpy_decode(mat, encoder):\n",
    "    return np.array([i[i!=0] for i in mat * encoder])\n",
    "# y_train = numpy_decode(y_train, encoder)\n",
    "# y_test = numpy_decode(y_test, encoder)"
   ]
  },
  {
   "cell_type": "code",
   "execution_count": 18,
   "metadata": {},
   "outputs": [
    {
     "data": {
      "text/plain": [
       "array([[ 1.26452152, 14.82302878, -1.        , ...,  1.78059403,\n",
       "         0.34533962, -0.15742109],\n",
       "       [ 4.93337269, 12.36510785, -1.        , ...,  7.45517275,\n",
       "         0.42748064, -0.20779744],\n",
       "       [ 3.90237424,  1.30709157,  9.18849923, ...,  2.14101599,\n",
       "         0.80377365, -0.21617611],\n",
       "       ...,\n",
       "       [ 2.74396357, 10.80650455, 42.81441741, ...,  2.10793702,\n",
       "         0.51037026, -0.20056959],\n",
       "       [ 2.44894041,  9.81796146,  1.53650495, ...,  2.83867407,\n",
       "         0.16486803, -0.20086897],\n",
       "       [ 1.61204306, 10.97800038,  2.08129815, ...,  1.88583633,\n",
       "         0.10717225, -0.19117296]])"
      ]
     },
     "execution_count": 18,
     "metadata": {},
     "output_type": "execute_result"
    }
   ],
   "source": [
    "feat_train"
   ]
  },
  {
   "cell_type": "code",
   "execution_count": 19,
   "metadata": {},
   "outputs": [
    {
     "data": {
      "text/plain": [
       "(651, 4, 4)"
      ]
     },
     "execution_count": 19,
     "metadata": {},
     "output_type": "execute_result"
    }
   ],
   "source": [
    "n_timesteps, n_features, n_outputs = X_train.shape[1], X_train.shape[2], y_train.shape[1]\n",
    "(n_timesteps, n_features, n_outputs)"
   ]
  },
  {
   "cell_type": "code",
   "execution_count": 20,
   "metadata": {},
   "outputs": [
    {
     "data": {
      "text/plain": [
       "(41434, 17)"
      ]
     },
     "execution_count": 20,
     "metadata": {},
     "output_type": "execute_result"
    }
   ],
   "source": [
    "n_samples, n_feat_size = feat_train.shape\n",
    "(n_samples, n_feat_size)"
   ]
  },
  {
   "cell_type": "code",
   "execution_count": 21,
   "metadata": {},
   "outputs": [],
   "source": [
    "#Kera libraries\n",
    "import numpy\n",
    "from tensorflow.keras.datasets import imdb\n",
    "from tensorflow.keras.models import Sequential, Model, load_model\n",
    "from tensorflow.keras.layers import Dense, LSTM, Input, Dropout, Concatenate, Flatten, TimeDistributed\n",
    "from tensorflow.keras.preprocessing import sequence\n",
    "from tensorflow.keras.regularizers import L1L2\n",
    "from tensorflow.keras.optimizers import SGD\n"
   ]
  },
  {
   "cell_type": "code",
   "execution_count": 128,
   "metadata": {},
   "outputs": [],
   "source": [
    "# LSTM without dropout for sequence classification in the IMDB dataset\n",
    "import numpy\n",
    "from tensorflow.keras.datasets import imdb\n",
    "from tensorflow.keras.models import Sequential\n",
    "import tensorflow as tf\n",
    "from tensorflow.keras.layers import Dense\n",
    "from tensorflow.keras.layers import LSTM\n",
    "from tensorflow.keras.layers import Embedding\n",
    "from tensorflow.keras.preprocessing import sequence\n",
    "\n",
    "def rnn_clsfy(X_train, y_train, n_timesteps, n_features, n_outputs, epochs=15, batch_size=64, verbose=0, **kwargs):\n",
    "    if 'dropout' not in kwargs:\n",
    "        dropout = 0.5\n",
    "    else:\n",
    "        dropout = kwargs['dropout']\n",
    "    if 'seed' not in kwargs:\n",
    "        seed = 123\n",
    "    else:\n",
    "        seed = kwargs['seed']\n",
    "    if 'metrics' not in kwargs:\n",
    "        metrics = ['accuracy']\n",
    "    else:\n",
    "        metrics = kwargs['metrics']\n",
    "    if 'n_rnnnodes' not in kwargs:\n",
    "        n_rnnnodes = 100\n",
    "    else:\n",
    "        n_rnnnodes = kwargs['n_rnnnodes']\n",
    "    if 'n_nnnodes' not in kwargs:\n",
    "        n_rnnnodes = 100\n",
    "    else:\n",
    "        n_rnnnodes = kwargs['n_nnnodes']\n",
    "    if 'reg' not in kwargs:\n",
    "        reg = L1L2(l1=0.0, l2=0.0)\n",
    "    else:\n",
    "        reg = kwargs['reg']\n",
    "        \n",
    "    # create the model\n",
    "    numpy.random.seed(seed)\n",
    "    model = Sequential()\n",
    "    model.add(LSTM(n_rnnnodes, input_shape=(n_timesteps, n_features), bias_regularizer=reg, return_sequences=False))\n",
    "    model.add(Dropout(dropout))\n",
    "    model.add(Dense(100, activation='sigmoid'))\n",
    "    model.add(Dense(100, activation='sigmoid'))\n",
    "    model.add(Dense(100, activation='sigmoid'))\n",
    "    model.add(Dense(n_outputs, activation='softmax'))\n",
    "    \n",
    "    opt = tf.keras.optimizers.Adam(learning_rate=0.001, beta_1=0.9, beta_2=0.999, epsilon=1e-07, amsgrad=False,\n",
    "                                    name='Adam', clipvalue=0.1)\n",
    "    model.compile(loss='categorical_crossentropy', optimizer=opt, metrics=metrics)\n",
    "    print(model.summary())\n",
    "    model.fit(X_train, y_train, epochs=epochs, batch_size=batch_size, validation_split=0.33)\n",
    "    # Final evaluation:\n",
    "    score = model.evaluate(X_test, y_test, batch_size=batch_size, verbose=verbose)\n",
    "    print(f'Accuracy: {score[1]}')\n",
    "    return model, score\n",
    "\n",
    "\n",
    "\n"
   ]
  },
  {
   "cell_type": "code",
   "execution_count": null,
   "metadata": {},
   "outputs": [],
   "source": [
    "print(f'{score1[1]}, {score2[1]}, {score3[1]}, {score4[1]}')"
   ]
  },
  {
   "cell_type": "code",
   "execution_count": 140,
   "metadata": {},
   "outputs": [
    {
     "name": "stdout",
     "output_type": "stream",
     "text": [
      "Model: \"sequential_2\"\n",
      "_________________________________________________________________\n",
      "Layer (type)                 Output Shape              Param #   \n",
      "=================================================================\n",
      "lstm_55 (LSTM)               (None, 100)               42000     \n",
      "_________________________________________________________________\n",
      "dropout_55 (Dropout)         (None, 100)               0         \n",
      "_________________________________________________________________\n",
      "dense_232 (Dense)            (None, 100)               10100     \n",
      "_________________________________________________________________\n",
      "dense_233 (Dense)            (None, 100)               10100     \n",
      "_________________________________________________________________\n",
      "dense_234 (Dense)            (None, 100)               10100     \n",
      "_________________________________________________________________\n",
      "dense_235 (Dense)            (None, 4)                 404       \n",
      "=================================================================\n",
      "Total params: 72,704\n",
      "Trainable params: 72,704\n",
      "Non-trainable params: 0\n",
      "_________________________________________________________________\n",
      "None\n",
      "Train on 27760 samples, validate on 13674 samples\n",
      "Epoch 1/50\n",
      "27760/27760 [==============================] - 89s 3ms/sample - loss: 80.7668 - accuracy: 0.4285 - val_loss: 70.6538 - val_accuracy: 0.4710\n",
      "Epoch 2/50\n",
      "27760/27760 [==============================] - 95s 3ms/sample - loss: 61.8835 - accuracy: 0.4702 - val_loss: 53.5032 - val_accuracy: 0.4694\n",
      "Epoch 3/50\n",
      "27760/27760 [==============================] - 90s 3ms/sample - loss: 46.2645 - accuracy: 0.4748 - val_loss: 39.3804 - val_accuracy: 0.4737\n",
      "Epoch 4/50\n",
      "27760/27760 [==============================] - 104s 4ms/sample - loss: 33.4936 - accuracy: 0.4767 - val_loss: 27.9185 - val_accuracy: 0.4782\n",
      "Epoch 5/50\n",
      "27760/27760 [==============================] - 91s 3ms/sample - loss: 23.2030 - accuracy: 0.4788 - val_loss: 18.7700 - val_accuracy: 0.4767\n",
      "Epoch 6/50\n",
      "27760/27760 [==============================] - 93s 3ms/sample - loss: 15.0540 - accuracy: 0.4784 - val_loss: 11.6018 - val_accuracy: 0.4735\n",
      "Epoch 7/50\n",
      "27760/27760 [==============================] - 93s 3ms/sample - loss: 8.7350 - accuracy: 0.4796 - val_loss: 6.1080 - val_accuracy: 0.4539\n",
      "Epoch 8/50\n",
      "27760/27760 [==============================] - 102s 4ms/sample - loss: 3.9382 - accuracy: 0.4802 - val_loss: 1.9677 - val_accuracy: 0.4753\n",
      "Epoch 9/50\n",
      "27760/27760 [==============================] - 107s 4ms/sample - loss: 1.2843 - accuracy: 0.4793 - val_loss: 1.1895 - val_accuracy: 0.4748\n",
      "Epoch 10/50\n",
      "27760/27760 [==============================] - 110s 4ms/sample - loss: 1.1861 - accuracy: 0.4833 - val_loss: 1.2006 - val_accuracy: 0.4737\n",
      "Epoch 11/50\n",
      "27760/27760 [==============================] - 105s 4ms/sample - loss: 1.1872 - accuracy: 0.4819 - val_loss: 1.1833 - val_accuracy: 0.4833\n",
      "Epoch 12/50\n",
      "27760/27760 [==============================] - 121s 4ms/sample - loss: 1.1814 - accuracy: 0.4852 - val_loss: 1.1773 - val_accuracy: 0.4853\n",
      "Epoch 13/50\n",
      "27760/27760 [==============================] - 116s 4ms/sample - loss: 1.1765 - accuracy: 0.4899 - val_loss: 1.1730 - val_accuracy: 0.4881\n",
      "Epoch 14/50\n",
      "27760/27760 [==============================] - 121s 4ms/sample - loss: 1.1689 - accuracy: 0.4921 - val_loss: 1.1688 - val_accuracy: 0.4899\n",
      "Epoch 15/50\n",
      "27760/27760 [==============================] - 128s 5ms/sample - loss: 1.1672 - accuracy: 0.4901 - val_loss: 1.1690 - val_accuracy: 0.4821\n",
      "Epoch 16/50\n",
      "27760/27760 [==============================] - 105s 4ms/sample - loss: 1.1665 - accuracy: 0.4916 - val_loss: 1.1682 - val_accuracy: 0.4876\n",
      "Epoch 17/50\n",
      "27760/27760 [==============================] - 114s 4ms/sample - loss: 1.1656 - accuracy: 0.4916 - val_loss: 1.1614 - val_accuracy: 0.4934\n",
      "Epoch 18/50\n",
      "27760/27760 [==============================] - 26s 929us/sample - loss: 1.1635 - accuracy: 0.4928 - val_loss: 1.1609 - val_accuracy: 0.4922\n",
      "Epoch 19/50\n",
      "27760/27760 [==============================] - 11s 398us/sample - loss: 1.1641 - accuracy: 0.4959 - val_loss: 1.1576 - val_accuracy: 0.4950\n",
      "Epoch 20/50\n",
      "27760/27760 [==============================] - 11s 391us/sample - loss: 1.1620 - accuracy: 0.4924 - val_loss: 1.1624 - val_accuracy: 0.4892\n",
      "Epoch 21/50\n",
      "27760/27760 [==============================] - 11s 391us/sample - loss: 1.1601 - accuracy: 0.4954 - val_loss: 1.1644 - val_accuracy: 0.4879\n",
      "Epoch 22/50\n",
      "27760/27760 [==============================] - 11s 391us/sample - loss: 1.1625 - accuracy: 0.4938 - val_loss: 1.1614 - val_accuracy: 0.4926\n",
      "Epoch 23/50\n",
      "27760/27760 [==============================] - 11s 390us/sample - loss: 1.1591 - accuracy: 0.4949 - val_loss: 1.1672 - val_accuracy: 0.4830\n",
      "Epoch 24/50\n",
      "27760/27760 [==============================] - 11s 391us/sample - loss: 1.1606 - accuracy: 0.4967 - val_loss: 1.1613 - val_accuracy: 0.4914\n",
      "Epoch 25/50\n",
      "27760/27760 [==============================] - 11s 391us/sample - loss: 1.1607 - accuracy: 0.4981 - val_loss: 1.1622 - val_accuracy: 0.4905\n",
      "Epoch 26/50\n",
      "27760/27760 [==============================] - 11s 391us/sample - loss: 1.1589 - accuracy: 0.4981 - val_loss: 1.1732 - val_accuracy: 0.4898\n",
      "Epoch 27/50\n",
      "27760/27760 [==============================] - 11s 392us/sample - loss: 1.1595 - accuracy: 0.4959 - val_loss: 1.1659 - val_accuracy: 0.4910\n",
      "Epoch 28/50\n",
      "27760/27760 [==============================] - 11s 389us/sample - loss: 1.1592 - accuracy: 0.4967 - val_loss: 1.1554 - val_accuracy: 0.4977\n",
      "Epoch 29/50\n",
      "27760/27760 [==============================] - 11s 388us/sample - loss: 1.1569 - accuracy: 0.4973 - val_loss: 1.1633 - val_accuracy: 0.4988\n",
      "Epoch 30/50\n",
      "27760/27760 [==============================] - 11s 390us/sample - loss: 1.1557 - accuracy: 0.4986 - val_loss: 1.1610 - val_accuracy: 0.5004\n",
      "Epoch 31/50\n",
      "27760/27760 [==============================] - 11s 388us/sample - loss: 1.1552 - accuracy: 0.4981 - val_loss: 1.1748 - val_accuracy: 0.4826\n",
      "Epoch 32/50\n",
      "27760/27760 [==============================] - 11s 388us/sample - loss: 1.1571 - accuracy: 0.5000 - val_loss: 1.1682 - val_accuracy: 0.4933\n",
      "Epoch 33/50\n",
      "27760/27760 [==============================] - 11s 390us/sample - loss: 1.1572 - accuracy: 0.4988 - val_loss: 1.1581 - val_accuracy: 0.4966\n",
      "Epoch 34/50\n",
      "27760/27760 [==============================] - 11s 389us/sample - loss: 1.1556 - accuracy: 0.5004 - val_loss: 1.1565 - val_accuracy: 0.4999\n",
      "Epoch 35/50\n",
      "27760/27760 [==============================] - 11s 389us/sample - loss: 1.1545 - accuracy: 0.5016 - val_loss: 1.1563 - val_accuracy: 0.4981\n",
      "Epoch 36/50\n",
      "27760/27760 [==============================] - 11s 396us/sample - loss: 1.1556 - accuracy: 0.5000 - val_loss: 1.1540 - val_accuracy: 0.4982\n",
      "Epoch 37/50\n",
      "27760/27760 [==============================] - 11s 394us/sample - loss: 1.1536 - accuracy: 0.5014 - val_loss: 1.1561 - val_accuracy: 0.4978\n",
      "Epoch 38/50\n",
      "27760/27760 [==============================] - 11s 394us/sample - loss: 1.1548 - accuracy: 0.5006 - val_loss: 1.1590 - val_accuracy: 0.4977\n",
      "Epoch 39/50\n",
      "27760/27760 [==============================] - 11s 392us/sample - loss: 1.1516 - accuracy: 0.5050 - val_loss: 1.1533 - val_accuracy: 0.4999\n",
      "Epoch 40/50\n",
      "27760/27760 [==============================] - 11s 394us/sample - loss: 1.1511 - accuracy: 0.5049 - val_loss: 1.1589 - val_accuracy: 0.4982\n",
      "Epoch 41/50\n",
      "27760/27760 [==============================] - 11s 391us/sample - loss: 1.1520 - accuracy: 0.5022 - val_loss: 1.1599 - val_accuracy: 0.4963\n",
      "Epoch 42/50\n",
      "27760/27760 [==============================] - 11s 391us/sample - loss: 1.1504 - accuracy: 0.5015 - val_loss: 1.1670 - val_accuracy: 0.4939\n",
      "Epoch 43/50\n",
      "27760/27760 [==============================] - 11s 392us/sample - loss: 1.1517 - accuracy: 0.5050 - val_loss: 1.1542 - val_accuracy: 0.5023\n",
      "Epoch 44/50\n",
      "27760/27760 [==============================] - 11s 392us/sample - loss: 1.1513 - accuracy: 0.5027 - val_loss: 1.1559 - val_accuracy: 0.4984\n",
      "Epoch 45/50\n",
      "27760/27760 [==============================] - 11s 394us/sample - loss: 1.1477 - accuracy: 0.5093 - val_loss: 1.1565 - val_accuracy: 0.4978\n",
      "Epoch 46/50\n",
      "27760/27760 [==============================] - 11s 395us/sample - loss: 1.1481 - accuracy: 0.5057 - val_loss: 1.1596 - val_accuracy: 0.4938\n",
      "Epoch 47/50\n",
      "27760/27760 [==============================] - 11s 395us/sample - loss: 1.1512 - accuracy: 0.5037 - val_loss: 1.1579 - val_accuracy: 0.4955\n",
      "Epoch 48/50\n",
      "27760/27760 [==============================] - 11s 401us/sample - loss: 1.1497 - accuracy: 0.5036 - val_loss: 1.1612 - val_accuracy: 0.4952\n",
      "Epoch 49/50\n",
      "27760/27760 [==============================] - 11s 394us/sample - loss: 1.1490 - accuracy: 0.5043 - val_loss: 1.1567 - val_accuracy: 0.4982\n",
      "Epoch 50/50\n",
      "27760/27760 [==============================] - 11s 392us/sample - loss: 1.1500 - accuracy: 0.5026 - val_loss: 1.1682 - val_accuracy: 0.4992\n",
      "Accuracy: 0.4969591796398163\n",
      "WARNING:tensorflow:From C:\\Users\\david\\.conda\\envs\\tf-gpu-2\\lib\\site-packages\\tensorflow_core\\python\\ops\\resource_variable_ops.py:1786: calling BaseResourceVariable.__init__ (from tensorflow.python.ops.resource_variable_ops) with constraint is deprecated and will be removed in a future version.\n",
      "Instructions for updating:\n",
      "If using Keras pass *_constraint arguments to layers.\n",
      "INFO:tensorflow:Assets written to: .\\saved_models\\LSTM_RNN_MODEL_0.8_SPLIT_P14_P21_P28_P35_TARGET_AUG0220_DATE_50_EPOCHS_175_batch_0.0_DROPOUT_0.4_L1_0.5_L2_10_seed_SHACK\\assets\n"
     ]
    }
   ],
   "source": [
    "split = split\n",
    "epochs = 50\n",
    "batch_size = 175\n",
    "verbose = 0\n",
    "dropout = 0.0\n",
    "seed = 10\n",
    "l1 = 0.40\n",
    "l2 = 0.50\n",
    "reg = L1L2(l1=l1, l2=l2)\n",
    "DATE = 'AUG0220'\n",
    "name = 'SHACK'\n",
    "\n",
    "model1, score1 = rnn_clsfy(X_train, y_train, n_timesteps, n_features, n_outputs, epochs=epochs, batch_size=batch_size, verbose=0, dropout=dropout, seed=seed, metrics = ['accuracy'], reg=reg)\n",
    "model1.save(f'.\\saved_models\\LSTM_RNN_MODEL_{split}_SPLIT_P14_P21_P28_P35_TARGET_{DATE}_DATE_{epochs}_EPOCHS_{batch_size}_batch_{dropout}_DROPOUT_{l1}_L1_{l2}_L2_{seed}_seed_{name}')"
   ]
  },
  {
   "cell_type": "code",
   "execution_count": 126,
   "metadata": {},
   "outputs": [],
   "source": [
    "model = load_model('.\\saved_models\\LSTM_RNN_MODEL_80_20_SPLIT_P14_P21_P28_P35_TARGET_AUG0120_DATE_250_EPOCHS_100_batch_40_DROPOUT_0.00_L1_0.10_L2_100_batch_SHACK')"
   ]
  },
  {
   "cell_type": "code",
   "execution_count": 127,
   "metadata": {},
   "outputs": [
    {
     "name": "stdout",
     "output_type": "stream",
     "text": [
      "Model: \"sequential_13\"\n",
      "_________________________________________________________________\n",
      "Layer (type)                 Output Shape              Param #   \n",
      "=================================================================\n",
      "lstm_13 (LSTM)               (None, 100)               42000     \n",
      "_________________________________________________________________\n",
      "dropout_12 (Dropout)         (None, 100)               0         \n",
      "_________________________________________________________________\n",
      "dense_24 (Dense)             (None, 100)               10100     \n",
      "_________________________________________________________________\n",
      "dense_25 (Dense)             (None, 4)                 404       \n",
      "=================================================================\n",
      "Total params: 52,504\n",
      "Trainable params: 52,504\n",
      "Non-trainable params: 0\n",
      "_________________________________________________________________\n"
     ]
    }
   ],
   "source": [
    "model.summary()"
   ]
  },
  {
   "cell_type": "code",
   "execution_count": 138,
   "metadata": {},
   "outputs": [],
   "source": [
    "def rnn_clsfy_aux(X_train, aux_train, y_train, n_timesteps, n_features, n_outputs, n_feat_size, epochs=15, dropout=0.4, batch_size=64, verbose=0, **kwargs):\n",
    "    if 'dropout' not in kwargs:\n",
    "        dropout = 0.0\n",
    "    else:\n",
    "        dropout = kwargs['dropout']\n",
    "    if 'seed' not in kwargs:\n",
    "        seed = 123\n",
    "    else:\n",
    "        seed = kwargs['seed']\n",
    "    if 'metrics' not in kwargs:\n",
    "        metrics = ['accuracy']\n",
    "    else:\n",
    "        metrics = kwargs['metrics']\n",
    "    if 'n_rnnnodes' not in kwargs:\n",
    "        n_rnnnodes = 100\n",
    "    else:\n",
    "        n_rnnnodes = kwargs['n_rnnnodes']\n",
    "    if 'reg' not in kwargs:\n",
    "        reg = L1L2(l1=0.0, l2=0.0)\n",
    "    else:\n",
    "        reg = kwargs['reg']\n",
    "\n",
    "    t_input = Input(shape=(n_timesteps, n_features), dtype='float32', name='TimeSeries')\n",
    "    aux_input = Input(shape=(n_feat_size), dtype='float32', name='SpatialFeatures')\n",
    "    \n",
    "    lstm = LSTM(n_rnnnodes, bias_regularizer=reg, return_sequences=False)(t_input) # First LSTM value\n",
    "    drpout = Dropout(dropout)(lstm)\n",
    "    dense = Dense(100, activation='tanh')(drpout)\n",
    "    \n",
    "    input_2 = Dense(100, activation='sigmoid')(aux_input)\n",
    "    \n",
    "    merge = Concatenate()([dense, input_2]) # add merge 1 here\n",
    "    \n",
    "    \n",
    "    hidden = Dense(100, activation='sigmoid')(merge)\n",
    "    hidden = Dense(100, activation='sigmoid')(hidden)\n",
    "    hidden = Dense(100, activation='sigmoid')(hidden)\n",
    "    hidden = Dense(100, activation='sigmoid')(hidden)\n",
    "    output = Dense(n_outputs, activation='softmax')(hidden)\n",
    "    \n",
    "    opt = tf.keras.optimizers.Adam(learning_rate=0.001, beta_1=0.9, beta_2=0.999, epsilon=1e-07, amsgrad=False,\n",
    "                                    name='Adam', clipvalue=0.1)\n",
    "    \n",
    "    model = Model(inputs=[t_input, aux_input], outputs = output)\n",
    "    model.compile(loss='kullback_leibler_divergence', optimizer=opt, metrics=metrics)\n",
    "    print(model.summary())\n",
    "    model.fit([X_train, aux_train], y_train, epochs=epochs, batch_size=batch_size, validation_split=0.33)\n",
    "    return model"
   ]
  },
  {
   "cell_type": "code",
   "execution_count": 137,
   "metadata": {
    "scrolled": true
   },
   "outputs": [
    {
     "name": "stdout",
     "output_type": "stream",
     "text": [
      "Model: \"model_52\"\n",
      "__________________________________________________________________________________________________\n",
      "Layer (type)                    Output Shape         Param #     Connected to                     \n",
      "==================================================================================================\n",
      "TimeSeries (InputLayer)         [(None, 651, 4)]     0                                            \n",
      "__________________________________________________________________________________________________\n",
      "lstm_53 (LSTM)                  (None, 300)          366000      TimeSeries[0][0]                 \n",
      "__________________________________________________________________________________________________\n",
      "dropout_53 (Dropout)            (None, 300)          0           lstm_53[0][0]                    \n",
      "__________________________________________________________________________________________________\n",
      "SpatialFeatures (InputLayer)    [(None, 17)]         0                                            \n",
      "__________________________________________________________________________________________________\n",
      "dense_221 (Dense)               (None, 100)          30100       dropout_53[0][0]                 \n",
      "__________________________________________________________________________________________________\n",
      "dense_222 (Dense)               (None, 100)          1800        SpatialFeatures[0][0]            \n",
      "__________________________________________________________________________________________________\n",
      "concatenate_52 (Concatenate)    (None, 200)          0           dense_221[0][0]                  \n",
      "                                                                 dense_222[0][0]                  \n",
      "__________________________________________________________________________________________________\n",
      "dense_223 (Dense)               (None, 100)          20100       concatenate_52[0][0]             \n",
      "__________________________________________________________________________________________________\n",
      "dense_224 (Dense)               (None, 100)          10100       dense_223[0][0]                  \n",
      "__________________________________________________________________________________________________\n",
      "dense_225 (Dense)               (None, 100)          10100       dense_224[0][0]                  \n",
      "__________________________________________________________________________________________________\n",
      "dense_226 (Dense)               (None, 100)          10100       dense_225[0][0]                  \n",
      "__________________________________________________________________________________________________\n",
      "dense_227 (Dense)               (None, 4)            404         dense_226[0][0]                  \n",
      "==================================================================================================\n",
      "Total params: 448,704\n",
      "Trainable params: 448,704\n",
      "Non-trainable params: 0\n",
      "__________________________________________________________________________________________________\n",
      "None\n",
      "Train on 27760 samples, validate on 13674 samples\n",
      "Epoch 1/50\n",
      "27760/27760 [==============================] - 51s 2ms/sample - loss: 234.8627 - accuracy: 0.4620 - val_loss: 200.1471 - val_accuracy: 0.4820\n",
      "Epoch 2/50\n",
      "27760/27760 [==============================] - 47s 2ms/sample - loss: 170.6658 - accuracy: 0.4891 - val_loss: 142.7547 - val_accuracy: 0.4826\n",
      "Epoch 3/50\n",
      "27760/27760 [==============================] - 48s 2ms/sample - loss: 119.3397 - accuracy: 0.4873 - val_loss: 97.3109 - val_accuracy: 0.4865\n",
      "Epoch 4/50\n",
      "27760/27760 [==============================] - 47s 2ms/sample - loss: 79.0604 - accuracy: 0.4907 - val_loss: 62.0379 - val_accuracy: 0.4838\n",
      "Epoch 5/50\n",
      "27760/27760 [==============================] - 48s 2ms/sample - loss: 48.1453 - accuracy: 0.4914 - val_loss: 35.2990 - val_accuracy: 0.4866\n",
      "Epoch 6/50\n",
      "27760/27760 [==============================] - 47s 2ms/sample - loss: 25.0239 - accuracy: 0.4912 - val_loss: 15.6091 - val_accuracy: 0.4887\n",
      "Epoch 7/50\n",
      "27760/27760 [==============================] - 48s 2ms/sample - loss: 8.2544 - accuracy: 0.4938 - val_loss: 1.5941 - val_accuracy: 0.4863\n",
      "Epoch 8/50\n",
      "27760/27760 [==============================] - 48s 2ms/sample - loss: 1.2083 - accuracy: 0.4948 - val_loss: 1.1860 - val_accuracy: 0.4893\n",
      "Epoch 9/50\n",
      "27760/27760 [==============================] - 49s 2ms/sample - loss: 1.1994 - accuracy: 0.4943 - val_loss: 1.2056 - val_accuracy: 0.4917\n",
      "Epoch 10/50\n",
      "27760/27760 [==============================] - 47s 2ms/sample - loss: 1.2030 - accuracy: 0.4951 - val_loss: 1.2065 - val_accuracy: 0.4889\n",
      "Epoch 11/50\n",
      "27760/27760 [==============================] - 48s 2ms/sample - loss: 1.2030 - accuracy: 0.4941 - val_loss: 1.2076 - val_accuracy: 0.4924\n",
      "Epoch 12/50\n",
      "27760/27760 [==============================] - 47s 2ms/sample - loss: 1.2032 - accuracy: 0.4990 - val_loss: 1.2042 - val_accuracy: 0.4931\n",
      "Epoch 13/50\n",
      "27760/27760 [==============================] - 47s 2ms/sample - loss: 1.2006 - accuracy: 0.4951 - val_loss: 1.2113 - val_accuracy: 0.4866\n",
      "Epoch 14/50\n",
      "27760/27760 [==============================] - 47s 2ms/sample - loss: 1.2012 - accuracy: 0.4959 - val_loss: 1.2036 - val_accuracy: 0.4879\n",
      "Epoch 15/50\n",
      "27760/27760 [==============================] - 46s 2ms/sample - loss: 1.2016 - accuracy: 0.4969 - val_loss: 1.2012 - val_accuracy: 0.4948\n",
      "Epoch 16/50\n",
      "27760/27760 [==============================] - 47s 2ms/sample - loss: 1.2017 - accuracy: 0.4992 - val_loss: 1.2058 - val_accuracy: 0.4929\n",
      "Epoch 17/50\n",
      "27760/27760 [==============================] - 47s 2ms/sample - loss: 1.2016 - accuracy: 0.4973 - val_loss: 1.2030 - val_accuracy: 0.4923\n",
      "Epoch 18/50\n",
      "27760/27760 [==============================] - 47s 2ms/sample - loss: 1.1982 - accuracy: 0.4995 - val_loss: 1.2032 - val_accuracy: 0.4892\n",
      "Epoch 19/50\n",
      "27760/27760 [==============================] - 47s 2ms/sample - loss: 1.1973 - accuracy: 0.5001 - val_loss: 1.2107 - val_accuracy: 0.4862\n",
      "Epoch 20/50\n",
      "27760/27760 [==============================] - 48s 2ms/sample - loss: 1.1966 - accuracy: 0.4995 - val_loss: 1.2116 - val_accuracy: 0.4849\n",
      "Epoch 21/50\n",
      "27760/27760 [==============================] - 47s 2ms/sample - loss: 1.1963 - accuracy: 0.4999 - val_loss: 1.2056 - val_accuracy: 0.4884\n",
      "Epoch 22/50\n",
      "27760/27760 [==============================] - 47s 2ms/sample - loss: 1.1980 - accuracy: 0.4981 - val_loss: 1.2003 - val_accuracy: 0.4943\n",
      "Epoch 23/50\n",
      "27760/27760 [==============================] - 47s 2ms/sample - loss: 1.1965 - accuracy: 0.5002 - val_loss: 1.2002 - val_accuracy: 0.4965\n",
      "Epoch 24/50\n",
      "27760/27760 [==============================] - 47s 2ms/sample - loss: 1.1937 - accuracy: 0.5017 - val_loss: 1.2048 - val_accuracy: 0.4882\n",
      "Epoch 25/50\n",
      "27760/27760 [==============================] - 47s 2ms/sample - loss: 1.1942 - accuracy: 0.5027 - val_loss: 1.1993 - val_accuracy: 0.4941\n",
      "Epoch 26/50\n",
      "27760/27760 [==============================] - 47s 2ms/sample - loss: 1.1928 - accuracy: 0.5043 - val_loss: 1.1983 - val_accuracy: 0.4954\n",
      "Epoch 27/50\n",
      "27760/27760 [==============================] - 47s 2ms/sample - loss: 1.1919 - accuracy: 0.5045 - val_loss: 1.2011 - val_accuracy: 0.4939\n",
      "Epoch 28/50\n",
      "27760/27760 [==============================] - 48s 2ms/sample - loss: 1.1915 - accuracy: 0.5042 - val_loss: 1.2026 - val_accuracy: 0.4898\n",
      "Epoch 29/50\n",
      "27760/27760 [==============================] - 46s 2ms/sample - loss: 1.1926 - accuracy: 0.5036 - val_loss: 1.1997 - val_accuracy: 0.4944\n",
      "Epoch 30/50\n",
      "27760/27760 [==============================] - 49s 2ms/sample - loss: 1.1905 - accuracy: 0.5057 - val_loss: 1.1964 - val_accuracy: 0.4946\n",
      "Epoch 31/50\n",
      "27760/27760 [==============================] - 48s 2ms/sample - loss: 1.1912 - accuracy: 0.5044 - val_loss: 1.1976 - val_accuracy: 0.4982\n",
      "Epoch 32/50\n",
      "27760/27760 [==============================] - 46s 2ms/sample - loss: 1.1885 - accuracy: 0.5070 - val_loss: 1.1980 - val_accuracy: 0.4979\n",
      "Epoch 33/50\n",
      "27760/27760 [==============================] - 47s 2ms/sample - loss: 1.1876 - accuracy: 0.5072 - val_loss: 1.2028 - val_accuracy: 0.4978\n",
      "Epoch 34/50\n",
      "27760/27760 [==============================] - 48s 2ms/sample - loss: 1.1884 - accuracy: 0.5061 - val_loss: 1.1983 - val_accuracy: 0.4966\n",
      "Epoch 35/50\n",
      "27760/27760 [==============================] - 47s 2ms/sample - loss: 1.1861 - accuracy: 0.5085 - val_loss: 1.2041 - val_accuracy: 0.5019\n",
      "Epoch 36/50\n",
      "27760/27760 [==============================] - 46s 2ms/sample - loss: 1.1850 - accuracy: 0.5103 - val_loss: 1.1935 - val_accuracy: 0.4989\n",
      "Epoch 37/50\n",
      "27760/27760 [==============================] - 47s 2ms/sample - loss: 1.1831 - accuracy: 0.5098 - val_loss: 1.2047 - val_accuracy: 0.4952\n",
      "Epoch 38/50\n",
      "27760/27760 [==============================] - 47s 2ms/sample - loss: 1.1851 - accuracy: 0.5103 - val_loss: 1.1957 - val_accuracy: 0.4987\n",
      "Epoch 39/50\n",
      "27760/27760 [==============================] - 47s 2ms/sample - loss: 1.1838 - accuracy: 0.5101 - val_loss: 1.1987 - val_accuracy: 0.5009\n",
      "Epoch 40/50\n",
      "27760/27760 [==============================] - 49s 2ms/sample - loss: 1.1837 - accuracy: 0.5100 - val_loss: 1.2006 - val_accuracy: 0.4922\n",
      "Epoch 41/50\n",
      "27760/27760 [==============================] - 47s 2ms/sample - loss: 1.1910 - accuracy: 0.5031 - val_loss: 1.2023 - val_accuracy: 0.4955\n",
      "Epoch 42/50\n",
      "27760/27760 [==============================] - 47s 2ms/sample - loss: 1.1871 - accuracy: 0.5079 - val_loss: 1.1981 - val_accuracy: 0.4961\n",
      "Epoch 43/50\n",
      "27760/27760 [==============================] - 47s 2ms/sample - loss: 1.1873 - accuracy: 0.5044 - val_loss: 1.2022 - val_accuracy: 0.4971\n",
      "Epoch 44/50\n",
      "27760/27760 [==============================] - 48s 2ms/sample - loss: 1.1868 - accuracy: 0.5071 - val_loss: 1.2036 - val_accuracy: 0.4969\n",
      "Epoch 45/50\n",
      "27760/27760 [==============================] - 47s 2ms/sample - loss: 1.1828 - accuracy: 0.5093 - val_loss: 1.2042 - val_accuracy: 0.4939\n",
      "Epoch 46/50\n",
      "27760/27760 [==============================] - 47s 2ms/sample - loss: 1.1839 - accuracy: 0.5112 - val_loss: 1.2013 - val_accuracy: 0.4964\n",
      "Epoch 47/50\n",
      "27760/27760 [==============================] - 47s 2ms/sample - loss: 1.1818 - accuracy: 0.5117 - val_loss: 1.2120 - val_accuracy: 0.4933\n",
      "Epoch 48/50\n",
      "27760/27760 [==============================] - 46s 2ms/sample - loss: 1.1827 - accuracy: 0.5109 - val_loss: 1.1972 - val_accuracy: 0.4992\n",
      "Epoch 49/50\n",
      "27760/27760 [==============================] - 47s 2ms/sample - loss: 1.1820 - accuracy: 0.5096 - val_loss: 1.1943 - val_accuracy: 0.4988\n",
      "Epoch 50/50\n",
      "27760/27760 [==============================] - 47s 2ms/sample - loss: 1.1799 - accuracy: 0.5107 - val_loss: 1.1990 - val_accuracy: 0.4955\n",
      "Accuracy: 0.5011101365089417\n"
     ]
    }
   ],
   "source": [
    "acc_list = []\n",
    "model1 = rnn_clsfy_aux(X_train, feat_train, y_train, n_timesteps, n_features, n_outputs, n_feat_size, n_rnnnodes=300, epochs=50, batch_size=150, verbose=0, dropout=0.4, seed=1, metrics = ['accuracy'], reg=L1L2(l1=0.40, l2=0.50))\n",
    "score = model1.evaluate([X_test, feat_test], y_test, batch_size=100, verbose=0)\n",
    "print(f'Accuracy: {score[1]}')"
   ]
  },
  {
   "cell_type": "code",
   "execution_count": null,
   "metadata": {},
   "outputs": [],
   "source": [
    "model3 = rnn_clsfy_aux(X_train, feat_train, y_train, n_timesteps, n_features, n_outputs, n_feat_size, n_rnnnodes=300, epochs=50, batch_size=150, verbose=0, dropout=0.4, seed=1, metrics = ['accuracy'], reg=L1L2(l1=0.40, l2=0.50))\n"
   ]
  },
  {
   "cell_type": "code",
   "execution_count": 147,
   "metadata": {},
   "outputs": [
    {
     "name": "stdout",
     "output_type": "stream",
     "text": [
      "Accuracy: 0.5057438015937805\n"
     ]
    }
   ],
   "source": [
    "score = model2.evaluate([X_test, feat_test], y_test, batch_size=100, verbose=0)\n",
    "print(f'Accuracy: {score[1]}')"
   ]
  },
  {
   "cell_type": "code",
   "execution_count": 148,
   "metadata": {},
   "outputs": [
    {
     "name": "stdout",
     "output_type": "stream",
     "text": [
      "INFO:tensorflow:Assets written to: .\\saved_models\\LSTM_AUX_RNN_MODEL_0.8_SPLIT_P14_P21_P28_P35_TARGET_AUG0220_DATE_50_EPOCHS_150_batch_0.4_DROPOUT_0.4_L1_0.5_L2_10_seed_SHACK\\assets\n"
     ]
    }
   ],
   "source": [
    "model2.save(f'.\\saved_models\\LSTM_AUX_RNN_MODEL_{split}_SPLIT_P14_P21_P28_P35_TARGET_{DATE}_DATE_{epochs}_EPOCHS_{150}_batch_{0.4}_DROPOUT_{l1}_L1_{l2}_L2_{seed}_seed_{name}')"
   ]
  },
  {
   "cell_type": "code",
   "execution_count": 218,
   "metadata": {},
   "outputs": [],
   "source": [
    "from sklearn import metrics"
   ]
  },
  {
   "cell_type": "code",
   "execution_count": 223,
   "metadata": {},
   "outputs": [],
   "source": [
    "mod = model2\n",
    "acc2 = []\n",
    "for i in range(50):\n",
    "    seed = 1010\n",
    "    np.random.seed(seed)\n",
    "    datax = np.load('./saved_datasets/RNN_datax.npy')\n",
    "    datay = np.load('./saved_datasets/RNN_datay.npy')\n",
    "    datafeat = np.load('./saved_datasets/RNN_datafeat.npy')\n",
    "    split = 0.8\n",
    "    train_index = np.random.choice(np.arange(0, len(datax)), int(len(datax)*split), replace=False)\n",
    "    test_val_index = np.setdiff1d(np.arange(0, len(datax)), train_index)\n",
    "    seed+=i\n",
    "    np.random.seed(seed)\n",
    "    test_index = np.random.choice(test_val_index, int(len(test_val_index)*0.25), replace=False)\n",
    "    datax = np.nan_to_num(datax, copy=True, nan=-1.0, posinf=-1.0, neginf=-1.0)\n",
    "    datay = np.nan_to_num(datay, copy=True, nan=-1.0, posinf=-1.0, neginf=-1.0)\n",
    "    datafeat = np.nan_to_num(datafeat, copy=True, nan=-1.0, posinf=-1.0, neginf=-1.0)\n",
    "    X_train = datax[train_index]\n",
    "    y_train = datay[train_index]\n",
    "    feat_train = datafeat[train_index]\n",
    "    X_test = datax[test_index]\n",
    "    y_test = datay[test_index]\n",
    "    feat_test = datafeat[test_index]\n",
    "    y_test, encoder = numpy_one_hot_encode(y_test, encoder)\n",
    "#     ypred1 = mod.predict(X_test, batch_size = 100)\n",
    "    ypred1 = mod.predict([X_test, feat_test], batch_size = 100)\n",
    "    pred=np.array([x == np.max(x) for x in ypred1]).astype(int)\n",
    "    y_true = numpy_decode(y_test, encoder)\n",
    "    y_pred = numpy_decode(pred, encoder)\n",
    "    acc2.append(metrics.accuracy_score(y_true, y_pred))\n",
    "acc2 = np.array(acc2)"
   ]
  },
  {
   "cell_type": "code",
   "execution_count": 221,
   "metadata": {},
   "outputs": [
    {
     "data": {
      "text/plain": [
       "0.4991425260718424"
      ]
     },
     "execution_count": 221,
     "metadata": {},
     "output_type": "execute_result"
    }
   ],
   "source": [
    "acc1.mean()"
   ]
  },
  {
   "cell_type": "code",
   "execution_count": 222,
   "metadata": {},
   "outputs": [
    {
     "data": {
      "text/plain": [
       "0.01080506083180325"
      ]
     },
     "execution_count": 222,
     "metadata": {},
     "output_type": "execute_result"
    }
   ],
   "source": [
    "acc1.std()"
   ]
  },
  {
   "cell_type": "code",
   "execution_count": 227,
   "metadata": {},
   "outputs": [
    {
     "data": {
      "text/plain": [
       "array([0.48821939, 0.50405562, 0.50714562, 0.50405562, 0.49092314,\n",
       "       0.50019312, 0.49903438, 0.51178061, 0.49324063, 0.50521437,\n",
       "       0.50560062, 0.5210506 , 0.50444187, 0.51062186, 0.51371186,\n",
       "       0.49285438, 0.49826188, 0.47315566, 0.49555813, 0.49517188,\n",
       "       0.49864813, 0.48744689, 0.50521437, 0.50289687, 0.49092314,\n",
       "       0.50521437, 0.48551564, 0.51448436, 0.4789494 , 0.48397065,\n",
       "       0.50753187, 0.49439938, 0.49710313, 0.48783314, 0.49748938,\n",
       "       0.49517188, 0.48010815, 0.5195056 , 0.50019312, 0.49710313,\n",
       "       0.48010815, 0.51564311, 0.50251062, 0.50289687, 0.5171881 ,\n",
       "       0.51255311, 0.50057937, 0.49169564, 0.49092314, 0.49903438])"
      ]
     },
     "execution_count": 227,
     "metadata": {},
     "output_type": "execute_result"
    }
   ],
   "source": [
    "acc1"
   ]
  },
  {
   "cell_type": "code",
   "execution_count": 224,
   "metadata": {},
   "outputs": [
    {
     "data": {
      "text/plain": [
       "0.506882966396292"
      ]
     },
     "execution_count": 224,
     "metadata": {},
     "output_type": "execute_result"
    }
   ],
   "source": [
    "acc2.mean()"
   ]
  },
  {
   "cell_type": "code",
   "execution_count": 225,
   "metadata": {},
   "outputs": [
    {
     "data": {
      "text/plain": [
       "0.009287173461871377"
      ]
     },
     "execution_count": 225,
     "metadata": {},
     "output_type": "execute_result"
    }
   ],
   "source": [
    "acc2.std()"
   ]
  },
  {
   "cell_type": "code",
   "execution_count": 226,
   "metadata": {},
   "outputs": [
    {
     "data": {
      "text/plain": [
       "array([0.50057937, 0.50830436, 0.50405562, 0.51371186, 0.49130939,\n",
       "       0.49826188, 0.50869061, 0.51602935, 0.50289687, 0.51487061,\n",
       "       0.51911935, 0.5225956 , 0.51139436, 0.5195056 , 0.51448436,\n",
       "       0.50598687, 0.51834685, 0.48667439, 0.49942063, 0.50212437,\n",
       "       0.50482812, 0.50096562, 0.5187331 , 0.51216686, 0.49671688,\n",
       "       0.50984936, 0.49980688, 0.51834685, 0.48860564, 0.50366937,\n",
       "       0.50560062, 0.49517188, 0.50289687, 0.50753187, 0.49748938,\n",
       "       0.50714562, 0.48976439, 0.51564311, 0.5179606 , 0.50212437,\n",
       "       0.49903438, 0.51834685, 0.50791812, 0.50444187, 0.52375435,\n",
       "       0.52298185, 0.50869061, 0.50444187, 0.49594438, 0.50521437])"
      ]
     },
     "execution_count": 226,
     "metadata": {},
     "output_type": "execute_result"
    }
   ],
   "source": [
    "acc2"
   ]
  },
  {
   "cell_type": "code",
   "execution_count": 287,
   "metadata": {},
   "outputs": [
    {
     "name": "stdout",
     "output_type": "stream",
     "text": [
      "Model: \"sequential_2\"\n",
      "_________________________________________________________________\n",
      "Layer (type)                 Output Shape              Param #   \n",
      "=================================================================\n",
      "lstm_55 (LSTM)               (None, 100)               42000     \n",
      "_________________________________________________________________\n",
      "dropout_55 (Dropout)         (None, 100)               0         \n",
      "_________________________________________________________________\n",
      "dense_232 (Dense)            (None, 100)               10100     \n",
      "_________________________________________________________________\n",
      "dense_233 (Dense)            (None, 100)               10100     \n",
      "_________________________________________________________________\n",
      "dense_234 (Dense)            (None, 100)               10100     \n",
      "_________________________________________________________________\n",
      "dense_235 (Dense)            (None, 4)                 404       \n",
      "=================================================================\n",
      "Total params: 72,704\n",
      "Trainable params: 72,704\n",
      "Non-trainable params: 0\n",
      "_________________________________________________________________\n",
      "None\n"
     ]
    }
   ],
   "source": [
    "print(model1.summary())"
   ]
  },
  {
   "cell_type": "code",
   "execution_count": 288,
   "metadata": {},
   "outputs": [
    {
     "name": "stdout",
     "output_type": "stream",
     "text": [
      "Model: \"model_47\"\n",
      "__________________________________________________________________________________________________\n",
      "Layer (type)                    Output Shape         Param #     Connected to                     \n",
      "==================================================================================================\n",
      "TimeSeries (InputLayer)         [(None, 651, 4)]     0                                            \n",
      "__________________________________________________________________________________________________\n",
      "lstm_47 (LSTM)                  (None, 300)          366000      TimeSeries[0][0]                 \n",
      "__________________________________________________________________________________________________\n",
      "dropout_47 (Dropout)            (None, 300)          0           lstm_47[0][0]                    \n",
      "__________________________________________________________________________________________________\n",
      "dense_188 (Dense)               (None, 100)          30100       dropout_47[0][0]                 \n",
      "__________________________________________________________________________________________________\n",
      "SpatialFeatures (InputLayer)    [(None, 17)]         0                                            \n",
      "__________________________________________________________________________________________________\n",
      "concatenate_47 (Concatenate)    (None, 117)          0           dense_188[0][0]                  \n",
      "                                                                 SpatialFeatures[0][0]            \n",
      "__________________________________________________________________________________________________\n",
      "dense_189 (Dense)               (None, 100)          11800       concatenate_47[0][0]             \n",
      "__________________________________________________________________________________________________\n",
      "dense_190 (Dense)               (None, 100)          10100       dense_189[0][0]                  \n",
      "__________________________________________________________________________________________________\n",
      "dense_191 (Dense)               (None, 4)            404         dense_190[0][0]                  \n",
      "==================================================================================================\n",
      "Total params: 418,404\n",
      "Trainable params: 418,404\n",
      "Non-trainable params: 0\n",
      "__________________________________________________________________________________________________\n",
      "None\n"
     ]
    }
   ],
   "source": [
    "print(model2.summary())"
   ]
  },
  {
   "cell_type": "code",
   "execution_count": 228,
   "metadata": {},
   "outputs": [],
   "source": [
    "accs = [[0.48821939, 0.50405562, 0.50714562, 0.50405562, 0.49092314,\n",
    "         0.50019312, 0.49903438, 0.51178061, 0.49324063, 0.50521437,\n",
    "         0.50560062, 0.5210506 , 0.50444187, 0.51062186, 0.51371186,\n",
    "         0.49285438, 0.49826188, 0.47315566, 0.49555813, 0.49517188,\n",
    "         0.49864813, 0.48744689, 0.50521437, 0.50289687, 0.49092314,\n",
    "         0.50521437, 0.48551564, 0.51448436, 0.4789494 , 0.48397065,\n",
    "         0.50753187, 0.49439938, 0.49710313, 0.48783314, 0.49748938,\n",
    "         0.49517188, 0.48010815, 0.5195056 , 0.50019312, 0.49710313,\n",
    "         0.48010815, 0.51564311, 0.50251062, 0.50289687, 0.5171881 ,\n",
    "         0.51255311, 0.50057937, 0.49169564, 0.49092314, 0.49903438],\n",
    "        [0.50057937, 0.50830436, 0.50405562, 0.51371186, 0.49130939,\n",
    "         0.49826188, 0.50869061, 0.51602935, 0.50289687, 0.51487061,\n",
    "         0.51911935, 0.5225956 , 0.51139436, 0.5195056 , 0.51448436,\n",
    "         0.50598687, 0.51834685, 0.48667439, 0.49942063, 0.50212437,\n",
    "         0.50482812, 0.50096562, 0.5187331 , 0.51216686, 0.49671688,\n",
    "         0.50984936, 0.49980688, 0.51834685, 0.48860564, 0.50366937,\n",
    "         0.50560062, 0.49517188, 0.50289687, 0.50753187, 0.49748938,\n",
    "         0.50714562, 0.48976439, 0.51564311, 0.5179606 , 0.50212437,\n",
    "         0.49903438, 0.51834685, 0.50791812, 0.50444187, 0.52375435,\n",
    "         0.52298185, 0.50869061, 0.50444187, 0.49594438, 0.50521437],\n",
    "        [0.55100049, 0.54367984, 0.54742151, 0.54693346, 0.54807223,\n",
    "         0.5457947 , 0.54075159, 0.53570848, 0.54026354, 0.54156499,\n",
    "         0.54807223, 0.54823491, 0.54725883, 0.53749797, 0.55360338,\n",
    "         0.54725883, 0.5397755 , 0.55897186, 0.54286644, 0.54693346,\n",
    "         0.55148853, 0.55116317, 0.53879941, 0.54888564, 0.54856027,\n",
    "         0.54742151, 0.53619652, 0.54449325, 0.54514397, 0.54709614,\n",
    "         0.54042622, 0.55116317, 0.54189035, 0.54335448, 0.53733529,\n",
    "         0.54872295, 0.54725883, 0.54367984, 0.54986172, 0.54725883,\n",
    "         0.55100049, 0.54270376, 0.54270376, 0.54774687, 0.54969904,\n",
    "         0.54433057, 0.54286644, 0.54546933, 0.54742151, 0.54286644],\n",
    "        [0.52968928, 0.53196681, 0.53261754, 0.5329429 , 0.53554579,\n",
    "         0.53261754, 0.5295266 , 0.52301936, 0.53391898, 0.52838783,\n",
    "         0.52838783, 0.53505775, 0.53245486, 0.52367008, 0.54140231,\n",
    "         0.53131609, 0.53017732, 0.54107695, 0.52936392, 0.53034   ,\n",
    "         0.53766065, 0.53749797, 0.52562225, 0.54091427, 0.53619652,\n",
    "         0.54107695, 0.52155523, 0.52773711, 0.52741175, 0.54058891,\n",
    "         0.52562225, 0.53814869, 0.53619652, 0.52757443, 0.51846429,\n",
    "         0.53456971, 0.5329429 , 0.52545957, 0.53863673, 0.53456971,\n",
    "         0.53684724, 0.53310558, 0.53066537, 0.53391898, 0.53131609,\n",
    "         0.52659834, 0.53229218, 0.53001464, 0.53798601, 0.52659834]]"
   ]
  },
  {
   "cell_type": "code",
   "execution_count": 282,
   "metadata": {},
   "outputs": [
    {
     "data": {
      "text/plain": [
       "Text(0.5, 1.0, 'Accuracy Performance of Predictive Models')"
      ]
     },
     "execution_count": 282,
     "metadata": {},
     "output_type": "execute_result"
    },
    {
     "data": {
      "image/png": "[encoded data removed]",
      "text/plain": [
       "<Figure size 648x432 with 1 Axes>"
      ]
     },
     "metadata": {
      "needs_background": "light"
     },
     "output_type": "display_data"
    }
   ],
   "source": [
    "%matplotlib inline\n",
    "import matplotlib.pyplot as plt\n",
    "import numpy as np\n",
    "#fig, axes = plt.subplots(nrows=1, ncols=2, figsize=(12, 6))\n",
    "# figure = plt.figure(figsize=(10,8))\n",
    "# Make the figures big enough for the optically challenged.\n",
    "#pylab.rcParams['figure.figsize'] = (10.0, 8.0)\n",
    "# We start by making a copy of the original data frame, minus the sex attribute.\n",
    "#replot\n",
    "\n",
    "# plt.xticks([1, 2, 3, 4], ['Regular\\nLSTM', 'Modified LSTM', 'XGBoost', 'Random Forest'],ha='right')\n",
    "\n",
    "# Create a figure instance\n",
    "fig = plt.figure(1, figsize=(9, 6))\n",
    "\n",
    "# Create an axes instance\n",
    "ax = fig.add_subplot(111)\n",
    "\n",
    "# Create the boxplot\n",
    "bp = ax.boxplot(accs)\n",
    "\n",
    "for box in bp['boxes']:\n",
    "    # change outline color\n",
    "    box.set(linewidth=2, color='#4169E1')\n",
    "    # change fill color\n",
    "#     box.set( facecolor = '#1b9e77' )\n",
    "\n",
    "## change color and linewidth of the whiskers\n",
    "for whisker in bp['whiskers']:\n",
    "    whisker.set(linewidth=2, color='#4169E1', linestyle='--')\n",
    "\n",
    "## change color and linewidth of the caps\n",
    "for cap in bp['caps']:\n",
    "    cap.set(linewidth=2, color='#4169E1')\n",
    "\n",
    "## change color and linewidth of the medians\n",
    "for median in bp['medians']:\n",
    "    median.set(linewidth=2)\n",
    "\n",
    "## change the style of fliers and their fill\n",
    "for flier in bp['fliers']:\n",
    "    flier.set(marker='o',alpha=0.5)\n",
    "    \n",
    "ax.set_xticklabels(['Regular\\nLSTM', 'Modified\\nLSTM', 'XGBoost', 'Random\\nForest'])\n",
    "ax.get_xaxis().tick_bottom()\n",
    "ax.get_yaxis().tick_left()\n",
    "plt.rc('font', size=10)\n",
    "plt.rc('xtick', labelsize=10)\n",
    "plt.rc('axes', titlesize=20)     # fontsize of the axes title\n",
    "plt.rc('axes', labelsize=12)    # fontsize of the x and y labels\n",
    "plt.rc('xtick', labelsize=12)    # fontsize of the tick labels\n",
    "plt.rc('ytick', labelsize=12)    # fontsize of the tick labels\n",
    "\n",
    "plt.ylabel((\"Accuracy\"))\n",
    "plt.title('Accuracy Performance of Predictive Models')"
   ]
  },
  {
   "cell_type": "code",
   "execution_count": 181,
   "metadata": {},
   "outputs": [],
   "source": [
    "ypred1 = model1.predict(X_test, batch_size=100, verbose=0)\n",
    "pred=np.array([x == np.max(x) for x in ypred1]).astype(int)"
   ]
  },
  {
   "cell_type": "code",
   "execution_count": 162,
   "metadata": {},
   "outputs": [],
   "source": [
    "from sklearn.metrics import classification_report"
   ]
  },
  {
   "cell_type": "code",
   "execution_count": 283,
   "metadata": {},
   "outputs": [
    {
     "name": "stdout",
     "output_type": "stream",
     "text": [
      "              precision    recall  f1-score   support\n",
      "\n",
      "         P14     0.3629    0.1461    0.2083       308\n",
      "         P21     0.5007    0.6540    0.5672      1078\n",
      "         P28     0.0000    0.0000    0.0000       298\n",
      "         P35     0.5279    0.6166    0.5688       905\n",
      "\n",
      "    accuracy                         0.5052      2589\n",
      "   macro avg     0.3479    0.3542    0.3361      2589\n",
      "weighted avg     0.4362    0.5052    0.4598      2589\n",
      "\n"
     ]
    },
    {
     "name": "stderr",
     "output_type": "stream",
     "text": [
      "C:\\Users\\david\\.conda\\envs\\tf-gpu-2\\lib\\site-packages\\sklearn\\metrics\\_classification.py:1272: UndefinedMetricWarning: Precision and F-score are ill-defined and being set to 0.0 in labels with no predicted samples. Use `zero_division` parameter to control this behavior.\n",
      "  _warn_prf(average, modifier, msg_start, len(result))\n"
     ]
    }
   ],
   "source": [
    "class_names = ['P14', 'P21', 'P28', 'P35']\n",
    "y_true = numpy_decode(y_test, encoder)\n",
    "y_pred = numpy_decode(pred, encoder)\n",
    "class_results = classification_report(y_true, y_pred, digits=4, target_names = ['P14', 'P21', 'P28', 'P35'])\n",
    "print(str(class_results))"
   ]
  },
  {
   "cell_type": "code",
   "execution_count": 187,
   "metadata": {},
   "outputs": [
    {
     "data": {
      "text/plain": [
       "2572"
      ]
     },
     "execution_count": 187,
     "metadata": {},
     "output_type": "execute_result"
    }
   ],
   "source": []
  },
  {
   "cell_type": "code",
   "execution_count": 170,
   "metadata": {},
   "outputs": [
    {
     "data": {
      "text/plain": [
       "array([[0, 1, 0, 0],\n",
       "       [0, 0, 0, 1],\n",
       "       [0, 0, 0, 1],\n",
       "       ...,\n",
       "       [0, 1, 0, 0],\n",
       "       [0, 1, 0, 0],\n",
       "       [1, 0, 0, 0]])"
      ]
     },
     "execution_count": 170,
     "metadata": {},
     "output_type": "execute_result"
    }
   ],
   "source": [
    "y_test"
   ]
  },
  {
   "cell_type": "code",
   "execution_count": 152,
   "metadata": {},
   "outputs": [
    {
     "data": {
      "text/plain": [
       "array([33153,  6843, 35039, ..., 23063, 29869, 33693])"
      ]
     },
     "execution_count": 152,
     "metadata": {},
     "output_type": "execute_result"
    }
   ],
   "source": [
    "np.random.choice(test_index, int(len(test_index)*0.5), replace=False)"
   ]
  },
  {
   "cell_type": "code",
   "execution_count": 65,
   "metadata": {},
   "outputs": [],
   "source": [
    "import matplotlib.pyplot as py"
   ]
  },
  {
   "cell_type": "code",
   "execution_count": 145,
   "metadata": {},
   "outputs": [
    {
     "data": {
      "image/png": "[encoded data removed]",
      "text/plain": [
       "<Figure size 1296x360 with 2 Axes>"
      ]
     },
     "metadata": {
      "needs_background": "light"
     },
     "output_type": "display_data"
    }
   ],
   "source": [
    "f = py.figure(figsize=(18,5))\n",
    "ax = f.add_subplot(121)\n",
    "ax.plot(model1.history.history['loss'], label='train')\n",
    "ax.plot(model1.history.history['val_loss'], label='test')\n",
    "ax.legend()\n",
    "ax.set_ylabel('Loss')\n",
    "ax.set_xlabel('Number of Epochs')\n",
    "ax.set_title('Loss Function vs. Epochs')\n",
    "\n",
    "ax2 = f.add_subplot(122)\n",
    "ax2.plot(model1.history.history['accuracy'], label='train')\n",
    "ax2.plot(model1.history.history['val_accuracy'], label='test')\n",
    "ax2.legend()\n",
    "ax2.set_ylabel('Accuracy')\n",
    "ax2.set_xlabel('Number of Epochs')\n",
    "ax2.set_title('Accuracy vs. Epochs')\n",
    "py.show()"
   ]
  },
  {
   "cell_type": "code",
   "execution_count": null,
   "metadata": {},
   "outputs": [],
   "source": [
    "model.save('.\\saved_models\\LSTM_RNN_AUX_MODEL_80_20_SPLIT_P14_P21_P28_P35_TARGET_AUG0120_DATE_250_EPOCHS_40_DROPOUT_0.00_L1_0.10_L2_SHACK')"
   ]
  },
  {
   "cell_type": "code",
   "execution_count": null,
   "metadata": {},
   "outputs": [],
   "source": [
    "model = load_model('.\\saved_models\\LSTM_RNN_AUX_MODEL_80_20_SPLIT_P14_P21_P28_P35_TARGET_AUG0120_DATE_250_EPOCHS_40_DROPOUT_0.00_L1_0.10_L2_SHACK')"
   ]
  },
  {
   "cell_type": "code",
   "execution_count": null,
   "metadata": {},
   "outputs": [],
   "source": [
    "data = pd.DataFrame()\n",
    "for filename in filenames:\n",
    "    if tag:\n",
    "        file_tag = next(tag)\n",
    "    else:\n",
    "        file_tag = None\n",
    "    try:\n",
    "        file_path = os.path.join(folder, filename)\n",
    "        print(file_path)\n",
    "        file_data = pd.read_csv(file_path, encoding = \"utf-8\", delimiter = 'sep')\n",
    "        if file_tag:\n",
    "            size = file_data.shape[0]\n",
    "            file_data['Tag'] = pd.Series(size*[file_tag], index=file_data.index)\n",
    "        data = pd.concat([data, file_data])\n",
    "    except IOError as err:\n",
    "        print(f'Skipped!: {filename} {err}')"
   ]
  },
  {
   "cell_type": "code",
   "execution_count": 13,
   "metadata": {
    "scrolled": false
   },
   "outputs": [
    {
     "name": "stdout",
     "output_type": "stream",
     "text": [
      "Model: \"model\"\n",
      "__________________________________________________________________________________________________\n",
      "Layer (type)                    Output Shape         Param #     Connected to                     \n",
      "==================================================================================================\n",
      "input1 (InputLayer)             [(None, 100)]        0                                            \n",
      "__________________________________________________________________________________________________\n",
      "input2 (InputLayer)             [(None, 100)]        0                                            \n",
      "__________________________________________________________________________________________________\n",
      "embedding (Embedding)           (None, 100, 64)      64000       input1[0][0]                     \n",
      "__________________________________________________________________________________________________\n",
      "embedding_1 (Embedding)         (None, 100, 64)      64000       input2[0][0]                     \n",
      "__________________________________________________________________________________________________\n",
      "lstm (LSTM)                     (None, 200)          212000      embedding[0][0]                  \n",
      "__________________________________________________________________________________________________\n",
      "lstm_1 (LSTM)                   (None, 200)          212000      embedding_1[0][0]                \n",
      "__________________________________________________________________________________________________\n",
      "concatenate (Concatenate)       (None, 400)          0           lstm[0][0]                       \n",
      "                                                                 lstm_1[0][0]                     \n",
      "__________________________________________________________________________________________________\n",
      "aux_input (InputLayer)          [(None, 100)]        0                                            \n",
      "__________________________________________________________________________________________________\n",
      "concatenate_1 (Concatenate)     (None, 500)          0           concatenate[0][0]                \n",
      "                                                                 aux_input[0][0]                  \n",
      "__________________________________________________________________________________________________\n",
      "dense (Dense)                   (None, 40)           20040       concatenate_1[0][0]              \n",
      "__________________________________________________________________________________________________\n",
      "dense_1 (Dense)                 (None, 40)           1640        dense[0][0]                      \n",
      "__________________________________________________________________________________________________\n",
      "dense_2 (Dense)                 (None, 1)            41          dense_1[0][0]                    \n",
      "==================================================================================================\n",
      "Total params: 573,721\n",
      "Trainable params: 573,721\n",
      "Non-trainable params: 0\n",
      "__________________________________________________________________________________________________\n",
      "None\n",
      "Failed to import pydot. You must install pydot and graphviz for `pydotprint` to work.\n"
     ]
    },
    {
     "data": {
      "text/plain": [
       "<tensorflow.python.keras.engine.training.Model at 0x2eac3c88b08>"
      ]
     },
     "execution_count": 13,
     "metadata": {},
     "output_type": "execute_result"
    }
   ],
   "source": [
    "rnn_clsfy(1000, 100)"
   ]
  },
  {
   "cell_type": "code",
   "execution_count": null,
   "metadata": {},
   "outputs": [],
   "source": [
    "from utils.constants import MAX_NB_VARIABLES, MAX_TIMESTEPS_LIST\n",
    "from utils.generic_utils import load_dataset_at, calculate_dataset_metrics, cutoff_choice, \\\n",
    "    cutoff_sequence\n",
    "from keras import backend as K\n",
    "from keras.callbacks import ModelCheckpoint, ReduceLROnPlateau\n",
    "from keras.preprocessing.sequence import pad_sequences\n",
    "from keras.utils import to_categorical\n",
    "from keras.optimizers import Adam\n",
    "from keras.layers import Permute\n",
    "from keras.models import Model\n",
    "from sklearn.preprocessing import LabelEncoder\n",
    "\n",
    "import warnings\n",
    "warnings.simplefilter('ignore', category=DeprecationWarning)\n",
    "\n",
    "\n",
    "def multi_label_log_loss(y_pred, y_true):\n",
    "    return K.sum(K.binary_crossentropy(y_pred, y_true), axis=-1)\n",
    "\n",
    "\n",
    "def _average_gradient_norm(model, X_train, y_train, batch_size):\n",
    "    # just checking if the model was already compiled\n",
    "    if not hasattr(model, \"train_function\"):\n",
    "        raise RuntimeError(\"You must compile your model before using it.\")\n",
    "\n",
    "    weights = model.trainable_weights  # weight tensors\n",
    "\n",
    "    get_gradients = model.optimizer.get_gradients(\n",
    "        model.total_loss, weights)  # gradient tensors\n",
    "\n",
    "    input_tensors = [\n",
    "        # input data\n",
    "        model.inputs[0],\n",
    "        # how much to weight each sample by\n",
    "        model.sample_weights[0],\n",
    "        # labels\n",
    "        model.targets[0],\n",
    "        # train or test mode\n",
    "        K.learning_phase()\n",
    "    ]\n",
    "\n",
    "    grad_fct = K.function(inputs=input_tensors, outputs=get_gradients)\n",
    "\n",
    "    steps = 0\n",
    "    total_norm = 0\n",
    "    s_w = None\n",
    "\n",
    "    nb_steps = X_train.shape[0] // batch_size\n",
    "\n",
    "    if X_train.shape[0] % batch_size == 0:\n",
    "        pad_last = False\n",
    "    else:\n",
    "        pad_last = True\n",
    "\n",
    "    def generator(X_train, y_train, pad_last):\n",
    "        for i in range(nb_steps):\n",
    "            X = X_train[i * batch_size: (i + 1) * batch_size, ...]\n",
    "            y = y_train[i * batch_size: (i + 1) * batch_size, ...]\n",
    "\n",
    "            yield (X, y)\n",
    "\n",
    "        if pad_last:\n",
    "            X = X_train[nb_steps * batch_size:, ...]\n",
    "            y = y_train[nb_steps * batch_size:, ...]\n",
    "\n",
    "            yield (X, y)\n",
    "\n",
    "    datagen = generator(X_train, y_train, pad_last)\n",
    "\n",
    "    while steps < nb_steps:\n",
    "        X, y = next(datagen)\n",
    "        # set sample weights to one\n",
    "        # for every input\n",
    "        if s_w is None:\n",
    "            s_w = np.ones(X.shape[0])\n",
    "\n",
    "        gradients = grad_fct([X, s_w, y, 0])\n",
    "        total_norm += np.sqrt(np.sum([np.sum(np.square(g))\n",
    "                                      for g in gradients]))\n",
    "        steps += 1\n",
    "\n",
    "    if pad_last:\n",
    "        X, y = next(datagen)\n",
    "        # set sample weights to one\n",
    "        # for every input\n",
    "        if s_w is None:\n",
    "            s_w = np.ones(X.shape[0])\n",
    "\n",
    "        gradients = grad_fct([X, s_w, y, 0])\n",
    "        total_norm += np.sqrt(np.sum([np.sum(np.square(g))\n",
    "                                      for g in gradients]))\n",
    "        steps += 1\n",
    "\n",
    "    return total_norm / float(steps)\n",
    "\n",
    "\n",
    "def rnn_train_model(model: Model, \n",
    "                    train_dataset, \n",
    "                    eval_dataset,\n",
    "                    folds=5, \n",
    "                    epochs=50, \n",
    "                    batch_size=128, \n",
    "                    val_subset=None,\n",
    "                    cutoff=None,  \n",
    "                    learning_rate=1e-3, \n",
    "                    monitor='loss', \n",
    "                    optimization_mode='auto', \n",
    "                    compile_model=True):\n",
    "    \n",
    "    X_train, y_train, X_test, y_test, is_timeseries = load_dataset_at(dataset_id,\n",
    "                                                                      fold_index=dataset_fold_id,\n",
    "                                                                      normalize_timeseries=normalize_timeseries)\n",
    "    max_timesteps, max_nb_variables = calculate_dataset_metrics(X_train)\n",
    "\n",
    "    if max_nb_variables != MAX_NB_VARIABLES[dataset_id]:\n",
    "        if cutoff is None:\n",
    "            choice = cutoff_choice(dataset_id, max_nb_variables)\n",
    "        else:\n",
    "            assert cutoff in [\n",
    "                'pre', 'post'], 'Cutoff parameter value must be either \"pre\" or \"post\"'\n",
    "            choice = cutoff\n",
    "\n",
    "        if choice not in ['pre', 'post']:\n",
    "            return\n",
    "        else:\n",
    "            X_train, X_test = cutoff_sequence(\n",
    "                X_train, X_test, choice, dataset_id, max_nb_variables)\n",
    "            \n",
    "    classes = np.unique(y_train)\n",
    "    le = LabelEncoder()\n",
    "    y_ind = le.fit_transform(y_train.ravel())\n",
    "    recip_freq = len(y_train) / (len(le.classes_) *\n",
    "                                 np.bincount(y_ind).astype(np.float64))\n",
    "    class_weight = recip_freq[le.transform(classes)]\n",
    "\n",
    "    print(\"Class weights : \", class_weight)\n",
    "\n",
    "    y_train = to_categorical(y_train, len(np.unique(y_train)))\n",
    "    y_test = to_categorical(y_test, len(np.unique(y_test)))\n",
    "\n",
    "    if is_timeseries:\n",
    "        factor = 1./np.cbrt(2)\n",
    "    else:\n",
    "        factor = 1./np.sqrt(2)\n",
    "\n",
    "    if dataset_fold_id is None:\n",
    "        weight_fn = \"./weights/%s_weights.h5\" % dataset_prefix\n",
    "    else:\n",
    "        weight_fn = \"./weights/%s_fold_%d_weights.h5\" % (\n",
    "            dataset_prefix, dataset_fold_id)\n",
    "\n",
    "    model_checkpoint = ModelCheckpoint(weight_fn, verbose=1, mode=optimization_mode,\n",
    "                                       monitor=monitor, save_best_only=True, save_weights_only=True)\n",
    "    reduce_lr = ReduceLROnPlateau(monitor=monitor, patience=100, mode=optimization_mode,\n",
    "                                  factor=factor, cooldown=0, min_lr=1e-4, verbose=2)\n",
    "    callback_list = [model_checkpoint, reduce_lr]\n",
    "\n",
    "    optm = Adam(lr=learning_rate)\n",
    "\n",
    "    if compile_model:\n",
    "        model.compile(optimizer=optm,\n",
    "                      loss='categorical_crossentropy', metrics=['accuracy'])\n",
    "\n",
    "    if val_subset is not None:\n",
    "        X_test = X_test[:val_subset]\n",
    "        y_test = y_test[:val_subset]\n",
    "\n",
    "    model.fit([X_train, ], y_train, batch_size=batch_size, epochs=epochs, callbacks=callback_list,\n",
    "              class_weight=class_weight, verbose=2, validation_data=(X_test, y_test))\n",
    "\n",
    "\n",
    "def evaluate_model(model: Model, dataset_id, dataset_prefix, dataset_fold_id=None, batch_size=128, test_data_subset=None,\n",
    "                   cutoff=None, normalize_timeseries=False):\n",
    "    _, _, X_test, y_test, is_timeseries = load_dataset_at(dataset_id,\n",
    "                                                          fold_index=dataset_fold_id,\n",
    "                                                          normalize_timeseries=normalize_timeseries)\n",
    "    max_timesteps, max_nb_variables = calculate_dataset_metrics(X_test)\n",
    "\n",
    "    if max_nb_variables != MAX_NB_VARIABLES[dataset_id]:\n",
    "        if cutoff is None:\n",
    "            choice = cutoff_choice(dataset_id, max_nb_variables)\n",
    "        else:\n",
    "            assert cutoff in [\n",
    "                'pre', 'post'], 'Cutoff parameter value must be either \"pre\" or \"post\"'\n",
    "            choice = cutoff\n",
    "\n",
    "        if choice not in ['pre', 'post']:\n",
    "            return\n",
    "        else:\n",
    "            _, X_test = cutoff_sequence(\n",
    "                None, X_test, choice, dataset_id, max_nb_variables)\n",
    "\n",
    "    if not is_timeseries:\n",
    "        X_test = pad_sequences(\n",
    "            X_test, maxlen=MAX_NB_VARIABLES[dataset_id], padding='post', truncating='post')\n",
    "    y_test = to_categorical(y_test, len(np.unique(y_test)))\n",
    "\n",
    "    optm = Adam(lr=1e-3)\n",
    "    model.compile(optimizer=optm, loss='categorical_crossentropy',\n",
    "                  metrics=['accuracy'])\n",
    "\n",
    "    if dataset_fold_id is None:\n",
    "        weight_fn = \"./weights/%s_weights.h5\" % dataset_prefix\n",
    "    else:\n",
    "        weight_fn = \"./weights/%s_fold_%d_weights.h5\" % (\n",
    "            dataset_prefix, dataset_fold_id)\n",
    "    model.load_weights(weight_fn)\n",
    "\n",
    "    if test_data_subset is not None:\n",
    "        X_test = X_test[:test_data_subset]\n",
    "        y_test = y_test[:test_data_subset]\n",
    "\n",
    "    print(\"\\nEvaluating : \")\n",
    "    loss, accuracy = model.evaluate(X_test, y_test, batch_size=batch_size)\n",
    "    print()\n",
    "    print(\"Final Accuracy : \", accuracy)\n",
    "\n",
    "    return accuracy, loss\n",
    "\n",
    "\n",
    "def set_trainable(layer, value):\n",
    "    layer.trainable = value\n",
    "\n",
    "    # case: container\n",
    "    if hasattr(layer, 'layers'):\n",
    "        for l in layer.layers:\n",
    "            set_trainable(l, value)\n",
    "\n",
    "    # case: wrapper (which is a case not covered by the PR)\n",
    "    if hasattr(layer, 'layer'):\n",
    "        set_trainable(layer.layer, value)"
   ]
  },
  {
   "cell_type": "code",
   "execution_count": 1,
   "metadata": {},
   "outputs": [
    {
     "name": "stderr",
     "output_type": "stream",
     "text": [
      "Using TensorFlow backend.\n"
     ]
    }
   ],
   "source": [
    "import numpy\n",
    "from keras.datasets import imdb\n",
    "from keras.models import Sequential\n",
    "from keras.layers import Dense\n",
    "from keras.layers import LSTM\n",
    "from keras.layers.embeddings import Embedding\n",
    "from keras.preprocessing import sequence\n",
    "# fix random seed for reproducibility\n",
    "numpy.random.seed(7)"
   ]
  },
  {
   "cell_type": "code",
   "execution_count": 2,
   "metadata": {},
   "outputs": [],
   "source": [
    "# load the dataset but only keep the top n words, zero the rest\n",
    "top_words = 5000"
   ]
  },
  {
   "cell_type": "code",
   "execution_count": 3,
   "metadata": {},
   "outputs": [],
   "source": [
    "import numpy as np\n",
    "# save np.load\n",
    "#np_load_old = np.load\n",
    "\n",
    "# modify the default parameters of np.load\n",
    "#np.load = lambda *a,**k: np_load_old(*a, allow_pickle=True, **k)\n",
    "\n",
    "# call load_data with allow_pickle implicitly set to true\n",
    "(X_train, y_train), (X_test, y_test) = imdb.load_data(num_words=top_words)\n",
    "\n",
    "# restore np.load for future normal usage\n",
    "#np.load = np_load_old"
   ]
  },
  {
   "cell_type": "code",
   "execution_count": 4,
   "metadata": {},
   "outputs": [],
   "source": [
    "# truncate and pad input sequences\n",
    "max_review_length = 500\n",
    "X_train = sequence.pad_sequences(X_train, maxlen=max_review_length)\n",
    "X_test = sequence.pad_sequences(X_test, maxlen=max_review_length)"
   ]
  },
  {
   "cell_type": "code",
   "execution_count": 586,
   "metadata": {
    "scrolled": false
   },
   "outputs": [
    {
     "name": "stdout",
     "output_type": "stream",
     "text": [
      "Model: \"sequential_8\"\n",
      "_________________________________________________________________\n",
      "Layer (type)                 Output Shape              Param #   \n",
      "=================================================================\n",
      "embedding_1 (Embedding)      (None, 650, 32)           160000    \n",
      "_________________________________________________________________\n",
      "lstm_8 (LSTM)                (None, 100)               53200     \n",
      "_________________________________________________________________\n",
      "dense_8 (Dense)              (None, 1)                 101       \n",
      "=================================================================\n",
      "Total params: 213,301\n",
      "Trainable params: 213,301\n",
      "Non-trainable params: 0\n",
      "_________________________________________________________________\n",
      "None\n"
     ]
    },
    {
     "ename": "ValueError",
     "evalue": "Error when checking input: expected embedding_1_input to have 2 dimensions, but got array with shape (36255, 651, 4)",
     "output_type": "error",
     "traceback": [
      "\u001b[1;31m---------------------------------------------------------------------------\u001b[0m",
      "\u001b[1;31mValueError\u001b[0m                                Traceback (most recent call last)",
      "\u001b[1;32m<ipython-input-586-b339e4d1dee7>\u001b[0m in \u001b[0;36m<module>\u001b[1;34m\u001b[0m\n\u001b[0;32m     17\u001b[0m \u001b[0mmodel\u001b[0m\u001b[1;33m.\u001b[0m\u001b[0mcompile\u001b[0m\u001b[1;33m(\u001b[0m\u001b[0mloss\u001b[0m\u001b[1;33m=\u001b[0m\u001b[1;34m'binary_crossentropy'\u001b[0m\u001b[1;33m,\u001b[0m \u001b[0moptimizer\u001b[0m\u001b[1;33m=\u001b[0m\u001b[1;34m'adam'\u001b[0m\u001b[1;33m,\u001b[0m \u001b[0mmetrics\u001b[0m\u001b[1;33m=\u001b[0m\u001b[1;33m[\u001b[0m\u001b[1;34m'accuracy'\u001b[0m\u001b[1;33m]\u001b[0m\u001b[1;33m)\u001b[0m\u001b[1;33m\u001b[0m\u001b[1;33m\u001b[0m\u001b[0m\n\u001b[0;32m     18\u001b[0m \u001b[0mprint\u001b[0m\u001b[1;33m(\u001b[0m\u001b[0mmodel\u001b[0m\u001b[1;33m.\u001b[0m\u001b[0msummary\u001b[0m\u001b[1;33m(\u001b[0m\u001b[1;33m)\u001b[0m\u001b[1;33m)\u001b[0m\u001b[1;33m\u001b[0m\u001b[1;33m\u001b[0m\u001b[0m\n\u001b[1;32m---> 19\u001b[1;33m \u001b[0mmodel\u001b[0m\u001b[1;33m.\u001b[0m\u001b[0mfit\u001b[0m\u001b[1;33m(\u001b[0m\u001b[0mX_train\u001b[0m\u001b[1;33m,\u001b[0m \u001b[0my_train\u001b[0m\u001b[1;33m,\u001b[0m \u001b[0mvalidation_data\u001b[0m\u001b[1;33m=\u001b[0m\u001b[1;33m(\u001b[0m\u001b[0mX_test\u001b[0m\u001b[1;33m,\u001b[0m \u001b[0my_test\u001b[0m\u001b[1;33m)\u001b[0m\u001b[1;33m,\u001b[0m \u001b[0mepochs\u001b[0m\u001b[1;33m=\u001b[0m\u001b[1;36m3\u001b[0m\u001b[1;33m,\u001b[0m \u001b[0mbatch_size\u001b[0m\u001b[1;33m=\u001b[0m\u001b[1;36m64\u001b[0m\u001b[1;33m)\u001b[0m\u001b[1;33m\u001b[0m\u001b[1;33m\u001b[0m\u001b[0m\n\u001b[0m",
      "\u001b[1;32mC:\\ProgramData\\Miniconda3\\envs\\tf-gpu\\lib\\site-packages\\tensorflow_core\\python\\keras\\engine\\training.py\u001b[0m in \u001b[0;36mfit\u001b[1;34m(self, x, y, batch_size, epochs, verbose, callbacks, validation_split, validation_data, shuffle, class_weight, sample_weight, initial_epoch, steps_per_epoch, validation_steps, validation_freq, max_queue_size, workers, use_multiprocessing, **kwargs)\u001b[0m\n\u001b[0;32m    817\u001b[0m         \u001b[0mmax_queue_size\u001b[0m\u001b[1;33m=\u001b[0m\u001b[0mmax_queue_size\u001b[0m\u001b[1;33m,\u001b[0m\u001b[1;33m\u001b[0m\u001b[1;33m\u001b[0m\u001b[0m\n\u001b[0;32m    818\u001b[0m         \u001b[0mworkers\u001b[0m\u001b[1;33m=\u001b[0m\u001b[0mworkers\u001b[0m\u001b[1;33m,\u001b[0m\u001b[1;33m\u001b[0m\u001b[1;33m\u001b[0m\u001b[0m\n\u001b[1;32m--> 819\u001b[1;33m         use_multiprocessing=use_multiprocessing)\n\u001b[0m\u001b[0;32m    820\u001b[0m \u001b[1;33m\u001b[0m\u001b[0m\n\u001b[0;32m    821\u001b[0m   def evaluate(self,\n",
      "\u001b[1;32mC:\\ProgramData\\Miniconda3\\envs\\tf-gpu\\lib\\site-packages\\tensorflow_core\\python\\keras\\engine\\training_v2.py\u001b[0m in \u001b[0;36mfit\u001b[1;34m(self, model, x, y, batch_size, epochs, verbose, callbacks, validation_split, validation_data, shuffle, class_weight, sample_weight, initial_epoch, steps_per_epoch, validation_steps, validation_freq, max_queue_size, workers, use_multiprocessing, **kwargs)\u001b[0m\n\u001b[0;32m    233\u001b[0m           \u001b[0mmax_queue_size\u001b[0m\u001b[1;33m=\u001b[0m\u001b[0mmax_queue_size\u001b[0m\u001b[1;33m,\u001b[0m\u001b[1;33m\u001b[0m\u001b[1;33m\u001b[0m\u001b[0m\n\u001b[0;32m    234\u001b[0m           \u001b[0mworkers\u001b[0m\u001b[1;33m=\u001b[0m\u001b[0mworkers\u001b[0m\u001b[1;33m,\u001b[0m\u001b[1;33m\u001b[0m\u001b[1;33m\u001b[0m\u001b[0m\n\u001b[1;32m--> 235\u001b[1;33m           use_multiprocessing=use_multiprocessing)\n\u001b[0m\u001b[0;32m    236\u001b[0m \u001b[1;33m\u001b[0m\u001b[0m\n\u001b[0;32m    237\u001b[0m       \u001b[0mtotal_samples\u001b[0m \u001b[1;33m=\u001b[0m \u001b[0m_get_total_number_of_samples\u001b[0m\u001b[1;33m(\u001b[0m\u001b[0mtraining_data_adapter\u001b[0m\u001b[1;33m)\u001b[0m\u001b[1;33m\u001b[0m\u001b[1;33m\u001b[0m\u001b[0m\n",
      "\u001b[1;32mC:\\ProgramData\\Miniconda3\\envs\\tf-gpu\\lib\\site-packages\\tensorflow_core\\python\\keras\\engine\\training_v2.py\u001b[0m in \u001b[0;36m_process_training_inputs\u001b[1;34m(model, x, y, batch_size, epochs, sample_weights, class_weights, steps_per_epoch, validation_split, validation_data, validation_steps, shuffle, distribution_strategy, max_queue_size, workers, use_multiprocessing)\u001b[0m\n\u001b[0;32m    591\u001b[0m         \u001b[0mmax_queue_size\u001b[0m\u001b[1;33m=\u001b[0m\u001b[0mmax_queue_size\u001b[0m\u001b[1;33m,\u001b[0m\u001b[1;33m\u001b[0m\u001b[1;33m\u001b[0m\u001b[0m\n\u001b[0;32m    592\u001b[0m         \u001b[0mworkers\u001b[0m\u001b[1;33m=\u001b[0m\u001b[0mworkers\u001b[0m\u001b[1;33m,\u001b[0m\u001b[1;33m\u001b[0m\u001b[1;33m\u001b[0m\u001b[0m\n\u001b[1;32m--> 593\u001b[1;33m         use_multiprocessing=use_multiprocessing)\n\u001b[0m\u001b[0;32m    594\u001b[0m     \u001b[0mval_adapter\u001b[0m \u001b[1;33m=\u001b[0m \u001b[1;32mNone\u001b[0m\u001b[1;33m\u001b[0m\u001b[1;33m\u001b[0m\u001b[0m\n\u001b[0;32m    595\u001b[0m     \u001b[1;32mif\u001b[0m \u001b[0mvalidation_data\u001b[0m\u001b[1;33m:\u001b[0m\u001b[1;33m\u001b[0m\u001b[1;33m\u001b[0m\u001b[0m\n",
      "\u001b[1;32mC:\\ProgramData\\Miniconda3\\envs\\tf-gpu\\lib\\site-packages\\tensorflow_core\\python\\keras\\engine\\training_v2.py\u001b[0m in \u001b[0;36m_process_inputs\u001b[1;34m(model, mode, x, y, batch_size, epochs, sample_weights, class_weights, shuffle, steps, distribution_strategy, max_queue_size, workers, use_multiprocessing)\u001b[0m\n\u001b[0;32m    644\u001b[0m     \u001b[0mstandardize_function\u001b[0m \u001b[1;33m=\u001b[0m \u001b[1;32mNone\u001b[0m\u001b[1;33m\u001b[0m\u001b[1;33m\u001b[0m\u001b[0m\n\u001b[0;32m    645\u001b[0m     x, y, sample_weights = standardize(\n\u001b[1;32m--> 646\u001b[1;33m         x, y, sample_weight=sample_weights)\n\u001b[0m\u001b[0;32m    647\u001b[0m   \u001b[1;32melif\u001b[0m \u001b[0madapter_cls\u001b[0m \u001b[1;32mis\u001b[0m \u001b[0mdata_adapter\u001b[0m\u001b[1;33m.\u001b[0m\u001b[0mListsOfScalarsDataAdapter\u001b[0m\u001b[1;33m:\u001b[0m\u001b[1;33m\u001b[0m\u001b[1;33m\u001b[0m\u001b[0m\n\u001b[0;32m    648\u001b[0m     \u001b[0mstandardize_function\u001b[0m \u001b[1;33m=\u001b[0m \u001b[0mstandardize\u001b[0m\u001b[1;33m\u001b[0m\u001b[1;33m\u001b[0m\u001b[0m\n",
      "\u001b[1;32mC:\\ProgramData\\Miniconda3\\envs\\tf-gpu\\lib\\site-packages\\tensorflow_core\\python\\keras\\engine\\training.py\u001b[0m in \u001b[0;36m_standardize_user_data\u001b[1;34m(self, x, y, sample_weight, class_weight, batch_size, check_steps, steps_name, steps, validation_split, shuffle, extract_tensors_from_dataset)\u001b[0m\n\u001b[0;32m   2381\u001b[0m         \u001b[0mis_dataset\u001b[0m\u001b[1;33m=\u001b[0m\u001b[0mis_dataset\u001b[0m\u001b[1;33m,\u001b[0m\u001b[1;33m\u001b[0m\u001b[1;33m\u001b[0m\u001b[0m\n\u001b[0;32m   2382\u001b[0m         \u001b[0mclass_weight\u001b[0m\u001b[1;33m=\u001b[0m\u001b[0mclass_weight\u001b[0m\u001b[1;33m,\u001b[0m\u001b[1;33m\u001b[0m\u001b[1;33m\u001b[0m\u001b[0m\n\u001b[1;32m-> 2383\u001b[1;33m         batch_size=batch_size)\n\u001b[0m\u001b[0;32m   2384\u001b[0m \u001b[1;33m\u001b[0m\u001b[0m\n\u001b[0;32m   2385\u001b[0m   def _standardize_tensors(self, x, y, sample_weight, run_eagerly, dict_inputs,\n",
      "\u001b[1;32mC:\\ProgramData\\Miniconda3\\envs\\tf-gpu\\lib\\site-packages\\tensorflow_core\\python\\keras\\engine\\training.py\u001b[0m in \u001b[0;36m_standardize_tensors\u001b[1;34m(self, x, y, sample_weight, run_eagerly, dict_inputs, is_dataset, class_weight, batch_size)\u001b[0m\n\u001b[0;32m   2408\u001b[0m           \u001b[0mfeed_input_shapes\u001b[0m\u001b[1;33m,\u001b[0m\u001b[1;33m\u001b[0m\u001b[1;33m\u001b[0m\u001b[0m\n\u001b[0;32m   2409\u001b[0m           \u001b[0mcheck_batch_axis\u001b[0m\u001b[1;33m=\u001b[0m\u001b[1;32mFalse\u001b[0m\u001b[1;33m,\u001b[0m  \u001b[1;31m# Don't enforce the batch size.\u001b[0m\u001b[1;33m\u001b[0m\u001b[1;33m\u001b[0m\u001b[0m\n\u001b[1;32m-> 2410\u001b[1;33m           exception_prefix='input')\n\u001b[0m\u001b[0;32m   2411\u001b[0m \u001b[1;33m\u001b[0m\u001b[0m\n\u001b[0;32m   2412\u001b[0m     \u001b[1;31m# Get typespecs for the input data and sanitize it if necessary.\u001b[0m\u001b[1;33m\u001b[0m\u001b[1;33m\u001b[0m\u001b[1;33m\u001b[0m\u001b[0m\n",
      "\u001b[1;32mC:\\ProgramData\\Miniconda3\\envs\\tf-gpu\\lib\\site-packages\\tensorflow_core\\python\\keras\\engine\\training_utils.py\u001b[0m in \u001b[0;36mstandardize_input_data\u001b[1;34m(data, names, shapes, check_batch_axis, exception_prefix)\u001b[0m\n\u001b[0;32m    571\u001b[0m                            \u001b[1;34m': expected '\u001b[0m \u001b[1;33m+\u001b[0m \u001b[0mnames\u001b[0m\u001b[1;33m[\u001b[0m\u001b[0mi\u001b[0m\u001b[1;33m]\u001b[0m \u001b[1;33m+\u001b[0m \u001b[1;34m' to have '\u001b[0m \u001b[1;33m+\u001b[0m\u001b[1;33m\u001b[0m\u001b[1;33m\u001b[0m\u001b[0m\n\u001b[0;32m    572\u001b[0m                            \u001b[0mstr\u001b[0m\u001b[1;33m(\u001b[0m\u001b[0mlen\u001b[0m\u001b[1;33m(\u001b[0m\u001b[0mshape\u001b[0m\u001b[1;33m)\u001b[0m\u001b[1;33m)\u001b[0m \u001b[1;33m+\u001b[0m \u001b[1;34m' dimensions, but got array '\u001b[0m\u001b[1;33m\u001b[0m\u001b[1;33m\u001b[0m\u001b[0m\n\u001b[1;32m--> 573\u001b[1;33m                            'with shape ' + str(data_shape))\n\u001b[0m\u001b[0;32m    574\u001b[0m         \u001b[1;32mif\u001b[0m \u001b[1;32mnot\u001b[0m \u001b[0mcheck_batch_axis\u001b[0m\u001b[1;33m:\u001b[0m\u001b[1;33m\u001b[0m\u001b[1;33m\u001b[0m\u001b[0m\n\u001b[0;32m    575\u001b[0m           \u001b[0mdata_shape\u001b[0m \u001b[1;33m=\u001b[0m \u001b[0mdata_shape\u001b[0m\u001b[1;33m[\u001b[0m\u001b[1;36m1\u001b[0m\u001b[1;33m:\u001b[0m\u001b[1;33m]\u001b[0m\u001b[1;33m\u001b[0m\u001b[1;33m\u001b[0m\u001b[0m\n",
      "\u001b[1;31mValueError\u001b[0m: Error when checking input: expected embedding_1_input to have 2 dimensions, but got array with shape (36255, 651, 4)"
     ]
    }
   ],
   "source": [
    "import numpy\n",
    "from tensorflow.keras.datasets import imdb\n",
    "from tensorflow.keras.models import Sequential\n",
    "from tensorflow.keras.layers import Dense\n",
    "from tensorflow.keras.layers import LSTM\n",
    "from tensorflow.keras.layers import Embedding\n",
    "from tensorflow.keras.preprocessing import sequence\n",
    "# fix random seed for reproducibility\n",
    "numpy.random.seed(7)\n",
    "# create the model\n",
    "embedding_vecor_length = 32\n",
    "model = tf.keras.Sequential()\n",
    "# model = Sequential()\n",
    "model.add(Embedding(top_words, embedding_vecor_length, input_length=max_review_length))\n",
    "model.add(LSTM(100))\n",
    "model.add(Concatenate())([merge1, aux_input])\n",
    "model.add(Dense(1, activation='sigmoid'))\n",
    "model.compile(loss='binary_crossentropy', optimizer='adam', metrics=['accuracy'])\n",
    "print(model.summary())\n",
    "model.fit(X_train, y_train, validation_data=(X_test, y_test), epochs=3, batch_size=64)"
   ]
  },
  {
   "cell_type": "code",
   "execution_count": 22,
   "metadata": {},
   "outputs": [
    {
     "name": "stdout",
     "output_type": "stream",
     "text": [
      "Accuracy: 87.43%\n"
     ]
    }
   ],
   "source": [
    "# Final evaluation of the model\n",
    "scores = model.evaluate(X_test, y_test, verbose=0)\n",
    "print(\"Accuracy: %.2f%%\" % (scores[1]*100))"
   ]
  },
  {
   "cell_type": "code",
   "execution_count": 587,
   "metadata": {},
   "outputs": [
    {
     "name": "stdout",
     "output_type": "stream",
     "text": [
      "Model: \"sequential_9\"\n",
      "_________________________________________________________________\n",
      "Layer (type)                 Output Shape              Param #   \n",
      "=================================================================\n",
      "embedding_2 (Embedding)      (None, 500, 32)           160000    \n",
      "_________________________________________________________________\n",
      "dropout_2 (Dropout)          (None, 500, 32)           0         \n",
      "_________________________________________________________________\n",
      "lstm_9 (LSTM)                (None, 100)               53200     \n",
      "_________________________________________________________________\n",
      "dropout_3 (Dropout)          (None, 100)               0         \n",
      "_________________________________________________________________\n",
      "dense_9 (Dense)              (None, 1)                 101       \n",
      "=================================================================\n",
      "Total params: 213,301\n",
      "Trainable params: 213,301\n",
      "Non-trainable params: 0\n",
      "_________________________________________________________________\n",
      "None\n",
      "Train on 25000 samples\n",
      "Epoch 1/3\n",
      "25000/25000 [==============================] - 17s 664us/sample - loss: 0.4726 - accuracy: 0.7660\n",
      "Epoch 2/3\n",
      "25000/25000 [==============================] - 15s 582us/sample - loss: 0.3136 - accuracy: 0.8726\n",
      "Epoch 3/3\n",
      "25000/25000 [==============================] - 14s 580us/sample - loss: 0.2572 - accuracy: 0.8997\n",
      "Accuracy: 86.34%\n"
     ]
    }
   ],
   "source": [
    "# LSTM with Dropout for sequence classification in the IMDB dataset\n",
    "import numpy\n",
    "from tensorflow.keras.datasets import imdb\n",
    "from tensorflow.keras.models import Sequential\n",
    "from tensorflow.keras.layers import Dense\n",
    "from tensorflow.keras.layers import LSTM\n",
    "from tensorflow.keras.layers import Dropout\n",
    "from tensorflow.keras.layers import Embedding\n",
    "from tensorflow.keras.preprocessing import sequence\n",
    "\n",
    "# fix random seed for reproducibility\n",
    "numpy.random.seed(7)\n",
    "# load the dataset but only keep the top n words, zero the rest\n",
    "top_words = 5000\n",
    "(X_train, y_train), (X_test, y_test) = imdb.load_data(num_words=top_words)\n",
    "# truncate and pad input sequences\n",
    "max_review_length = 500\n",
    "X_train = sequence.pad_sequences(X_train, maxlen=max_review_length)\n",
    "X_test = sequence.pad_sequences(X_test, maxlen=max_review_length)\n",
    "# create the model\n",
    "embedding_vecor_length = 32\n",
    "model = tf.keras.Sequential()\n",
    "model.add(Embedding(top_words, embedding_vecor_length, input_length=max_review_length))\n",
    "model.add(Dropout(0.2))\n",
    "model.add(LSTM(100))\n",
    "model.add(Dropout(0.2))\n",
    "model.add(Dense(1, activation='sigmoid'))\n",
    "model.compile(loss='binary_crossentropy', optimizer='adam', metrics=['accuracy'])\n",
    "print(model.summary())\n",
    "model.fit(X_train, y_train, epochs=3, batch_size=64)\n",
    "# Final evaluation of the model\n",
    "scores = model.evaluate(X_test, y_test, verbose=0)\n",
    "print(\"Accuracy: %.2f%%\" % (scores[1]*100))"
   ]
  },
  {
   "cell_type": "code",
   "execution_count": 5,
   "metadata": {},
   "outputs": [
    {
     "ename": "ModuleNotFoundError",
     "evalue": "No module named 'tensorflow.keras.layers.convolutional'",
     "output_type": "error",
     "traceback": [
      "\u001b[1;31m---------------------------------------------------------------------------\u001b[0m",
      "\u001b[1;31mModuleNotFoundError\u001b[0m                       Traceback (most recent call last)",
      "\u001b[1;32m<ipython-input-5-946ba871defd>\u001b[0m in \u001b[0;36m<module>\u001b[1;34m\u001b[0m\n\u001b[0;32m      5\u001b[0m \u001b[1;32mfrom\u001b[0m \u001b[0mtensorflow\u001b[0m\u001b[1;33m.\u001b[0m\u001b[0mkeras\u001b[0m\u001b[1;33m.\u001b[0m\u001b[0mlayers\u001b[0m \u001b[1;32mimport\u001b[0m \u001b[0mDense\u001b[0m\u001b[1;33m\u001b[0m\u001b[1;33m\u001b[0m\u001b[0m\n\u001b[0;32m      6\u001b[0m \u001b[1;32mfrom\u001b[0m \u001b[0mtensorflow\u001b[0m\u001b[1;33m.\u001b[0m\u001b[0mkeras\u001b[0m\u001b[1;33m.\u001b[0m\u001b[0mlayers\u001b[0m \u001b[1;32mimport\u001b[0m \u001b[0mLSTM\u001b[0m\u001b[1;33m\u001b[0m\u001b[1;33m\u001b[0m\u001b[0m\n\u001b[1;32m----> 7\u001b[1;33m \u001b[1;32mfrom\u001b[0m \u001b[0mtensorflow\u001b[0m\u001b[1;33m.\u001b[0m\u001b[0mkeras\u001b[0m\u001b[1;33m.\u001b[0m\u001b[0mlayers\u001b[0m\u001b[1;33m.\u001b[0m\u001b[0mconvolutional\u001b[0m \u001b[1;32mimport\u001b[0m \u001b[0mConv1D\u001b[0m\u001b[1;33m\u001b[0m\u001b[1;33m\u001b[0m\u001b[0m\n\u001b[0m\u001b[0;32m      8\u001b[0m \u001b[1;32mfrom\u001b[0m \u001b[0mtensorflow\u001b[0m\u001b[1;33m.\u001b[0m\u001b[0mkeras\u001b[0m\u001b[1;33m.\u001b[0m\u001b[0mlayers\u001b[0m\u001b[1;33m.\u001b[0m\u001b[0mconvolutional\u001b[0m \u001b[1;32mimport\u001b[0m \u001b[0mMaxPooling1D\u001b[0m\u001b[1;33m\u001b[0m\u001b[1;33m\u001b[0m\u001b[0m\n\u001b[0;32m      9\u001b[0m \u001b[1;32mfrom\u001b[0m \u001b[0mtensorflow\u001b[0m\u001b[1;33m.\u001b[0m\u001b[0mkeras\u001b[0m\u001b[1;33m.\u001b[0m\u001b[0mlayers\u001b[0m\u001b[1;33m.\u001b[0m\u001b[0membeddings\u001b[0m \u001b[1;32mimport\u001b[0m \u001b[0mEmbedding\u001b[0m\u001b[1;33m\u001b[0m\u001b[1;33m\u001b[0m\u001b[0m\n",
      "\u001b[1;31mModuleNotFoundError\u001b[0m: No module named 'tensorflow.keras.layers.convolutional'"
     ]
    }
   ],
   "source": [
    "# LSTM and CNN for sequence classification in the IMDB dataset\n",
    "import numpy\n",
    "from tensorflow.keras.datasets import imdb\n",
    "from tensorflow.keras.models import Sequential\n",
    "from tensorflow.keras.layers import Dense\n",
    "from tensorflow.keras.layers import LSTM\n",
    "from tensorflow.keras.layers.convolutional import Conv1D\n",
    "from tensorflow.keras.layers.convolutional import MaxPooling1D\n",
    "from tensorflow.keras.layers.embeddings import Embedding\n",
    "from tensorflow.keras.preprocessing import sequence\n",
    "# fix random seed for reproducibility\n",
    "numpy.random.seed(7)\n",
    "# load the dataset but only keep the top n words, zero the rest\n",
    "top_words = 5000\n",
    "(X_train, y_train), (X_test, y_test) = imdb.load_data(num_words=top_words)\n",
    "# truncate and pad input sequences\n",
    "max_review_length = 500\n",
    "X_train = sequence.pad_sequences(X_train, maxlen=max_review_length)\n",
    "X_test = sequence.pad_sequences(X_test, maxlen=max_review_length)\n",
    "# create the model\n",
    "embedding_vecor_length = 32\n",
    "model = Sequential()\n",
    "model.add(Embedding(top_words, embedding_vecor_length, input_length=max_review_length))\n",
    "model.add(Conv1D(filters=32, kernel_size=3, padding='same', activation='relu'))\n",
    "model.add(MaxPooling1D(pool_size=2))\n",
    "model.add(LSTM(100))\n",
    "model.add(Dense(1, activation='sigmoid'))\n",
    "model.compile(loss='binary_crossentropy', optimizer='adam', metrics=['accuracy'])\n",
    "print(model.summary())\n",
    "model.fit(X_train, y_train, epochs=3, batch_size=64)\n",
    "# Final evaluation of the model\n",
    "scores = model.evaluate(X_test, y_test, verbose=0)\n",
    "print(\"Accuracy: %.2f%%\" % (scores[1]*100))"
   ]
  },
  {
   "cell_type": "code",
   "execution_count": null,
   "metadata": {},
   "outputs": [],
   "source": [
    "model.add(Embedding(n_most_common_words, emb_dim, input_length=X.shape[1]))\n",
    "model.add(SpatialDropout1D(0.7))\n",
    "model.add(LSTM(64, dropout=0.7, recurrent_dropout=0.7))\n",
    "model.add(Dense(4, activation='softmax'))\n",
    "model.compile(optimizer='adam', loss='categorical_crossentropy', metrics=['acc'])"
   ]
  },
  {
   "cell_type": "code",
   "execution_count": 17,
   "metadata": {},
   "outputs": [
    {
     "data": {
      "text/plain": [
       "array([[   0,    0,    0, ...,   14,    6,  717],\n",
       "       [   0,    0,    0, ...,  125,    4, 3077],\n",
       "       [  33,    6,   58, ...,    9,   57,  975],\n",
       "       ...,\n",
       "       [   0,    0,    0, ...,   21,  846,    2],\n",
       "       [   0,    0,    0, ..., 2302,    7,  470],\n",
       "       [   0,    0,    0, ...,   34, 2005, 2643]], dtype=int32)"
      ]
     },
     "execution_count": 17,
     "metadata": {},
     "output_type": "execute_result"
    }
   ],
   "source": [
    "X_test"
   ]
  },
  {
   "cell_type": "code",
   "execution_count": 7,
   "metadata": {},
   "outputs": [
    {
     "ename": "NameError",
     "evalue": "name 'X_train' is not defined",
     "output_type": "error",
     "traceback": [
      "\u001b[1;31m---------------------------------------------------------------------------\u001b[0m",
      "\u001b[1;31mNameError\u001b[0m                                 Traceback (most recent call last)",
      "\u001b[1;32m<ipython-input-7-11fe80a1b124>\u001b[0m in \u001b[0;36m<module>\u001b[1;34m\u001b[0m\n\u001b[0;32m     12\u001b[0m \u001b[1;31m# load the dataset b\u001b[0m\u001b[1;33m\u001b[0m\u001b[1;33m\u001b[0m\u001b[1;33m\u001b[0m\u001b[0m\n\u001b[0;32m     13\u001b[0m \u001b[1;33m\u001b[0m\u001b[0m\n\u001b[1;32m---> 14\u001b[1;33m \u001b[1;33m(\u001b[0m\u001b[0mX_train\u001b[0m\u001b[1;33m,\u001b[0m \u001b[0my_train\u001b[0m\u001b[1;33m)\u001b[0m\u001b[1;33m\u001b[0m\u001b[1;33m\u001b[0m\u001b[0m\n\u001b[0m\u001b[0;32m     15\u001b[0m \u001b[1;33m(\u001b[0m\u001b[0mX_test\u001b[0m\u001b[1;33m,\u001b[0m \u001b[0my_test\u001b[0m\u001b[1;33m)\u001b[0m\u001b[1;33m\u001b[0m\u001b[1;33m\u001b[0m\u001b[0m\n\u001b[0;32m     16\u001b[0m \u001b[1;31m# truncate and pad input sequences\u001b[0m\u001b[1;33m\u001b[0m\u001b[1;33m\u001b[0m\u001b[1;33m\u001b[0m\u001b[0m\n",
      "\u001b[1;31mNameError\u001b[0m: name 'X_train' is not defined"
     ]
    }
   ],
   "source": [
    "# LSTM with Dropout for sequence classification in msd dataset\n",
    "import numpy\n",
    "from tensorflow.keras.datasets import imdb\n",
    "from tensorflow.keras.models import Sequential\n",
    "from tensorflow.keras.layers import Dense\n",
    "from tensorflow.keras.layers import LSTM\n",
    "from tensorflow.keras.layers import Dropout\n",
    "from keras.layers.embeddings import Embedding\n",
    "from tensorflow.keras.preprocessing import sequence\n",
    "# fix random seed for reproducibility\n",
    "numpy.random.seed(7)\n",
    "# load the dataset b\n",
    " z\n",
    "max_review_length = 500\n",
    "X_train = sequence.pad_sequences(X_train, maxlen=max_review_length)\n",
    "X_test = sequence.pad_sequences(X_test, maxlen=max_review_length)\n",
    "# create the model\n",
    "embedding_vecor_length = 32\n",
    "model = Sequential()\n",
    "model.add(Embedding(top_words, embedding_vecor_length, input_length=max_review_length))\n",
    "model.add(Dropout(0.2))\n",
    "model.add(LSTM(100))\n",
    "model.add(Dropout(0.2))\n",
    "model.add(Dense(1, activation='sigmoid'))\n",
    "model.compile(loss='binary_crossentropy', optimizer='adam', metrics=['accuracy'])\n",
    "print(model.summary())\n",
    "model.fit(X_train, y_train, epochs=3, batch_size=64)\n",
    "# Final evaluation of the model\n",
    "scores = model.evaluate(X_test, y_test, verbose=0)\n",
    "print(\"Accuracy: %.2f%%\" % (scores[1]*100))"
   ]
  },
  {
   "cell_type": "markdown",
   "metadata": {},
   "source": [
    "---"
   ]
  },
  {
   "cell_type": "markdown",
   "metadata": {},
   "source": [
    "---"
   ]
  },
  {
   "cell_type": "code",
   "execution_count": null,
   "metadata": {},
   "outputs": [],
   "source": []
  },
  {
   "cell_type": "code",
   "execution_count": 12,
   "metadata": {},
   "outputs": [],
   "source": [
    "import collections\n",
    "from tensorflow.python.ops.math_ops import tanh\n",
    "\n",
    "\n",
    "class RNNCell(object):\n",
    "    def __call__(self, inputs, state, scope=None):\n",
    "        raise NotImplementedError(\"Abstract method\")\n",
    "    \n",
    "\n",
    "class LSTMCell(RNNCell):\n",
    "    \"\"\"Basic LSTM recurrent network cell.\n",
    "    The implementation is based on: http://arxiv.org/abs/1409.2329.\n",
    "    We add forget_bias (default: 1) to the biases of the forget gate in order to\n",
    "    reduce the scale of forgetting in the beginning of the training.\n",
    "    It does not allow cell clipping, a projection layer, and does not\n",
    "    use peep-hole connections: it is the basic baseline.\n",
    "    For advanced models, please use the full LSTMCell that follows.\n",
    "    \"\"\"  \n",
    "    def __init__(self, n_units, n_proj=None, forget_bias=0.0, input_size=None, activation=tanh):\n",
    "        self._n_units  = n_units\n",
    "        self._n_proj = n_proj\n",
    "        self._forget_bias = forget_bias\n",
    "        self._input_size = input_size\n",
    "        self._activation = activation\n",
    "\n",
    "        (self._state_size, \n",
    "         self._output_size) = ((LSTMStateTuple(n_units, n_proj) , n_units + n_proj)\n",
    "                            if n_proj else (LSTMStateTuple(n_units, n_units), 2*n_units))\n",
    "\n",
    "        \n",
    "    @property\n",
    "    def state_size(self):\n",
    "        return self._state_size\n",
    "    \n",
    "    \n",
    "    @property\n",
    "    def output_size(self):\n",
    "        return self. _output_size\n",
    "    \n",
    "    \n",
    "    def __call__(self, inputs, state, scope=None):\n",
    "        \n",
    "        pass\n",
    "\n",
    "# class LSTM(LSTM):\n",
    "    \n",
    "    \n",
    "#     def __init__(self, ):\n",
    "#         pass\n",
    "    \n",
    "_LSTMStateTuple = collections.namedtuple(\"LSTMStateTuple\", (\"c\", \"h\"))\n",
    "\n",
    "class LSTMStateTuple(_LSTMStateTuple):\n",
    "  \n",
    "    \"\"\"Tuple used by LSTM Cells for `state_size`, `zero_state`, and output state.\n",
    "    Stores two elements: `(c, h)`, in that order.\n",
    "    Only used when `state_is_tuple=True`.\n",
    "    \"\"\"\n",
    "    __slots__ = ()\n",
    "\n",
    "    @property\n",
    "    def dtype(self):\n",
    "        (c, h) = self\n",
    "        if not c.dtype == h.dtype:\n",
    "            raise TypeError(\"Inconsistent internal state: %s vs %s\" %\n",
    "                            (str(c.dtype), str(h.dtype)))\n",
    "    return c.dtype\n"
   ]
  },
  {
   "cell_type": "code",
   "execution_count": 18,
   "metadata": {},
   "outputs": [],
   "source": [
    "x = LSTMCell(50, 20, 1.0, 128)\n"
   ]
  },
  {
   "cell_type": "code",
   "execution_count": 19,
   "metadata": {},
   "outputs": [
    {
     "data": {
      "text/plain": [
       "LSTMStateTuple(c=50, h=20)"
      ]
     },
     "execution_count": 19,
     "metadata": {},
     "output_type": "execute_result"
    }
   ],
   "source": [
    "x.state_size"
   ]
  },
  {
   "cell_type": "code",
   "execution_count": 20,
   "metadata": {},
   "outputs": [
    {
     "ename": "TypeError",
     "evalue": "__init__() missing 1 required positional argument: 'n_units'",
     "output_type": "error",
     "traceback": [
      "\u001b[0;31m---------------------------------------------------------------------------\u001b[0m",
      "\u001b[0;31mTypeError\u001b[0m                                 Traceback (most recent call last)",
      "\u001b[0;32m<ipython-input-20-ccebf5a8883c>\u001b[0m in \u001b[0;36m<module>\u001b[0;34m\u001b[0m\n\u001b[0;32m----> 1\u001b[0;31m \u001b[0mx\u001b[0m \u001b[0;34m=\u001b[0m \u001b[0mLSTMCell\u001b[0m\u001b[0;34m(\u001b[0m\u001b[0;34m)\u001b[0m\u001b[0;34m\u001b[0m\u001b[0;34m\u001b[0m\u001b[0m\n\u001b[0m",
      "\u001b[0;31mTypeError\u001b[0m: __init__() missing 1 required positional argument: 'n_units'"
     ]
    }
   ],
   "source": [
    "x = LSTMCell()"
   ]
  },
  {
   "cell_type": "code",
   "execution_count": null,
   "metadata": {},
   "outputs": [],
   "source": []
  }
 ],
 "metadata": {
  "kernelspec": {
   "display_name": "Python 3",
   "language": "python",
   "name": "python3"
  },
  "language_info": {
   "codemirror_mode": {
    "name": "ipython",
    "version": 3
   },
   "file_extension": ".py",
   "mimetype": "text/x-python",
   "name": "python",
   "nbconvert_exporter": "python",
   "pygments_lexer": "ipython3",
   "version": "3.7.6"
  },
  "toc": {
   "base_numbering": 1,
   "nav_menu": {},
   "number_sections": true,
   "sideBar": true,
   "skip_h1_title": false,
   "title_cell": "Table of Contents",
   "title_sidebar": "Contents",
   "toc_cell": false,
   "toc_position": {},
   "toc_section_display": true,
   "toc_window_display": false
  }
 },
 "nbformat": 4,
 "nbformat_minor": 2
}
