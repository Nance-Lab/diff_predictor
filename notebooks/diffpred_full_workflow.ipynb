{
 "cells": [
  {
   "cell_type": "code",
   "execution_count": 218,
   "source": [
    "from diff_predictor import data_process, predxgboost, spatial\n",
    "import pandas as pd\n",
    "import numpy as np\n",
    "import seaborn as sns \n",
    "import matplotlib.pyplot as plt \n",
    "\n",
    "from os import listdir, getcwd, chdir\n",
    "from os.path import isfile, join\n",
    "import os\n",
    "from sklearn.preprocessing import scale, StandardScaler\n",
    "from robust_pca import r_pca\n",
    "\n",
    "\n",
    "from sklearn.model_selection import train_test_split\n",
    "from sklearn import metrics\n",
    "from sklearn.metrics import classification_report, confusion_matrix\n",
    "from sklearn import preprocessing\n",
    "from sklearn.metrics import accuracy_score\n",
    "import operator\n",
    "import xgboost as xgb\n",
    "import shap\n",
    "from xgboost.training import CVPack\n",
    "from xgboost import callback\n",
    "from xgboost.core import CallbackEnv\n",
    "from xgboost.core import EarlyStopException\n",
    "from xgboost.core import STRING_TYPES\n",
    "\n",
    "from diff_classifier.features import alpha_calc, unmask_track\n",
    "from diff_predictor.utils import plot_msd_comparisons, plot_individual_msds, plot_particles_in_frame\n",
    "\n",
    "import scipy.stats as stats\n",
    "from scipy.optimize import curve_fit\n",
    "import numpy.ma as ma"
   ],
   "outputs": [],
   "metadata": {}
  },
  {
   "cell_type": "code",
   "execution_count": 2,
   "source": [
    "workbookDir = getcwd()\n",
    "\n",
    "print('Current Notebook Dir: ' + workbookDir)\n",
    "chdir(workbookDir) # Go to current workbook Dir\"\n",
    "chdir('..')        # Go up one\n",
    "print(f'Using current directory for loading data: {getcwd()}')\n",
    "workbookDir = getcwd()"
   ],
   "outputs": [
    {
     "output_type": "stream",
     "name": "stdout",
     "text": [
      "Current Notebook Dir: /Users/nelsschimek/Documents/Nance Lab/diff_predictor/notebooks\n",
      "Using current directory for loading data: /Users/nelsschimek/Documents/Nance Lab/diff_predictor\n"
     ]
    }
   ],
   "metadata": {}
  },
  {
   "cell_type": "code",
   "execution_count": 3,
   "source": [
    "#load paths to data\n",
    "\n",
    "age_feature_path = workbookDir + '/data/raw_data_age/'\n",
    "age_feature_filelist = [f for f in listdir(age_feature_path) if isfile(join(age_feature_path, f)) and 'feat' in f]\n",
    "print(len(age_feature_filelist))\n",
    "\n",
    "age_msd_path = workbookDir + '/raw_data_age/'\n",
    "age_msd_filelist = [f for f in listdir(age_msd_path) if isfile(join(age_msd_path, f)) and 'msd' in f]\n",
    "print(len(age_msd_filelist))\n",
    "\n",
    "region_dataset_path = workbookDir + '/data/region_feature_folder/'\n",
    "region_filelist = [f for f in listdir(region_dataset_path) if isfile(join(region_dataset_path, f)) and 'feat' in f]\n",
    "print(len(region_filelist))\n",
    "\n",
    "treatment_dataset_path = workbookDir + '/data/ecm_feature_folder/'\n",
    "treatment_filelist = [f for f in listdir(treatment_dataset_path) if isfile(join(treatment_dataset_path, f)) and 'msd' in f]\n",
    "print(len(treatment_filelist))"
   ],
   "outputs": [
    {
     "output_type": "stream",
     "name": "stdout",
     "text": [
      "75\n",
      "74\n",
      "38\n",
      "180\n"
     ]
    }
   ],
   "metadata": {}
  },
  {
   "cell_type": "markdown",
   "source": [
    "# Analysis of age dataset"
   ],
   "metadata": {}
  },
  {
   "cell_type": "code",
   "execution_count": 123,
   "source": [
    "fstats_tot_age = data_process.generate_fullstats(age_feature_path, age_feature_filelist, ['P14','P35', 'P70'], 'age')"
   ],
   "outputs": [
    {
     "output_type": "stream",
     "name": "stdout",
     "text": [
      "Adding file features_P70_40nm_s3_v3.csv size: (2322, 67)\n",
      "Adding file features_P14_40nm_s3_v3.csv size: (323, 91)\n",
      "Adding file features_P35_brain_2_slice_1_vid_4.csv size: (878, 91)\n",
      "Adding file features_P35_brain_2_slice_1_vid_5.csv size: (467, 91)\n",
      "Adding file features_P14_40nm_s3_v2.csv size: (243, 91)\n",
      "Adding file features_P70_40nm_s3_v2.csv size: (1401, 67)\n",
      "Adding file features_P14_40nm_s1_v5.csv size: (268, 91)\n",
      "Adding file features_P70_40nm_s1_v5.csv size: (17, 67)\n",
      "Adding file features_P14_40nm_s3_v1.csv size: (151, 91)\n",
      "Adding file features_P70_40nm_s1_v4.csv size: (21, 67)\n",
      "Adding file features_P70_40nm_s3_v1.csv size: (2625, 67)\n",
      "Adding file features_P14_40nm_s1_v4.csv size: (140, 91)\n",
      "Adding file features_P70_40nm_s3_v5.csv size: (4162, 67)\n",
      "Adding file features_P35_brain_2_slice_1_vid_2.csv size: (833, 91)\n",
      "Adding file features_P14_40nm_s3_v5.csv size: (389, 91)\n",
      "Adding file features_P14_40nm_s3_v4.csv size: (113, 91)\n",
      "Adding file features_P35_brain_2_slice_1_vid_3.csv size: (1017, 91)\n",
      "Adding file features_P70_40nm_s1_v1.csv size: (27, 67)\n",
      "Adding file features_P70_40nm_s3_v4.csv size: (2909, 67)\n",
      "Adding file features_P14_40nm_s1_v1.csv size: (793, 91)\n",
      "Adding file features_P14_40nm_s1_v3.csv size: (519, 91)\n",
      "Adding file features_P70_40nm_s1_v3.csv size: (25, 67)\n",
      "Adding file features_P35_brain_2_slice_1_vid_1.csv size: (416, 91)\n",
      "Adding file features_P70_40nm_s1_v2.csv size: (12, 67)\n",
      "Adding file features_P14_40nm_s1_v2.csv size: (1356, 91)\n",
      "Adding file features_P35_brain_2_slice_3_vid_5.csv size: (1062, 91)\n",
      "Adding file features_P14_40nm_s2_v1.csv size: (568, 91)\n",
      "Adding file features_P70_40nm_s2_v1.csv size: (148, 67)\n",
      "Adding file features_P35_brain_2_slice_3_vid_4.csv size: (598, 91)\n",
      "Adding file features_P14_40nm_s2_v2.csv size: (938, 91)\n",
      "Adding file features_P70_40nm_s2_v2.csv size: (148, 67)\n",
      "Adding file features_P70_40nm_s2_v3.csv size: (240, 67)\n",
      "Adding file features_P14_40nm_s2_v3.csv size: (220, 91)\n",
      "Adding file features_P35_brain_2_slice_3_vid_3.csv size: (817, 91)\n",
      "Adding file features_P35_brain_2_slice_3_vid_2.csv size: (853, 91)\n",
      "Adding file features_P14_40nm_s2_v4.csv size: (162, 91)\n",
      "Adding file features_P70_40nm_s2_v4.csv size: (308, 67)\n",
      "Adding file features_P70_40nm_s2_v5.csv size: (186, 67)\n",
      "Adding file features_P14_40nm_s2_v5.csv size: (258, 91)\n",
      "Adding file features_P35_brain_2_slice_3_vid_1.csv size: (562, 91)\n",
      "Adding file features_P35_brain_2_slice_2_vid_5.csv size: (2100, 91)\n",
      "Adding file features_P35_brain_2_slice_2_vid_4.csv size: (1650, 91)\n",
      "Adding file features_P35_brain_2_slice_2_vid_3.csv size: (1735, 91)\n",
      "Adding file features_P35_brain_2_slice_2_vid_2.csv size: (2322, 91)\n",
      "Adding file features_P35_brain_2_slice_2_vid_1.csv size: (2488, 91)\n"
     ]
    }
   ],
   "metadata": {}
  },
  {
   "cell_type": "code",
   "execution_count": 125,
   "source": [
    "features = [\n",
    "    'alpha', # Fitted anomalous diffusion alpha exponenet\n",
    "    'D_fit', # Fitted anomalous diffusion coefficient\n",
    "    'kurtosis', # Kurtosis of track\n",
    "    'asymmetry1', # Asymmetry of trajecory (0 for circular symmetric, 1 for linear)\n",
    "    'asymmetry2', # Ratio of the smaller to larger principal radius of gyration\n",
    "    'asymmetry3', # An asymmetric feature that accnts for non-cylindrically symmetric pt distributions\n",
    "    'AR', # Aspect ratio of long and short side of trajectory's minimum bounding rectangle\n",
    "    'elongation', # Est. of amount of extension of trajectory from centroid\n",
    "    'boundedness', # How much a particle with Deff is restricted by a circular confinement of radius r\n",
    "    'fractal_dim', # Measure of how complicated a self similar figure is\n",
    "    'trappedness', # Probability that a particle with Deff is trapped in a region\n",
    "    'efficiency', # Ratio of squared net displacement to the sum of squared step lengths\n",
    "    'straightness', # Ratio of net displacement to the sum of squared step lengths\n",
    "    'MSD_ratio', # MSD ratio of the track\n",
    "#     'frames', # Number of frames the track spans\n",
    "    'Deff1', # Effective diffusion coefficient at 0.33 s\n",
    "    'Deff2', # Effective diffusion coefficient at 3.3 s\n",
    "    #'angle_mean', # Mean turning angle which is counterclockwise angle from one frame point to another\n",
    "    #'angle_mag_mean', # Magnitude of the turning angle mean\n",
    "    #'angle_var', # Variance of the turning angle\n",
    "    #'dist_tot', # Total distance of the trajectory\n",
    "    #'dist_net', # Net distance from first point to last point\n",
    "    #'progression', # Ratio of the net distance traveled and the total distance\n",
    "    'Mean alpha', \n",
    "    'Mean D_fit', \n",
    "    'Mean kurtosis', \n",
    "    'Mean asymmetry1', \n",
    "    'Mean asymmetry2',\n",
    "    'Mean asymmetry3', \n",
    "    'Mean AR',\n",
    "    'Mean elongation', \n",
    "    'Mean boundedness',\n",
    "    'Mean fractal_dim', \n",
    "    'Mean trappedness', \n",
    "    'Mean efficiency',\n",
    "    'Mean straightness', \n",
    "    'Mean MSD_ratio', \n",
    "    'Mean Deff1', \n",
    "    'Mean Deff2',\n",
    "    ]\n",
    "\n",
    "target = 'age'"
   ],
   "outputs": [],
   "metadata": {}
  },
  {
   "cell_type": "code",
   "execution_count": 126,
   "source": [
    "ecm = fstats_tot_age[features + [target, 'Track_ID', 'X', 'Y']] #dont think i need these rn\n",
    "print(ecm.shape)\n",
    "ecm = ecm[~ecm[list(set(features) - set(['Deff2', 'Mean Deff2']))].isin([np.nan, np.inf, -np.inf]).any(1)]       # Removing nan and inf data points\n",
    "ecm.shape"
   ],
   "outputs": [
    {
     "output_type": "stream",
     "name": "stdout",
     "text": [
      "(38790, 36)\n"
     ]
    },
    {
     "output_type": "execute_result",
     "data": {
      "text/plain": [
       "(33737, 36)"
      ]
     },
     "metadata": {},
     "execution_count": 126
    }
   ],
   "metadata": {}
  },
  {
   "cell_type": "code",
   "execution_count": 36,
   "source": [
    "bal_ecm = data_process.balance_data(ecm, target, random_state=1)\n",
    "bal_ecm = data_process.bin_data(bal_ecm, resolution=128)"
   ],
   "outputs": [
    {
     "output_type": "stream",
     "name": "stdout",
     "text": [
      "Ratio before data balance (P70:P14:P35) = 13968:4900:14869\n",
      "Ratio after balance (P70:P14:P35) = 4900:4900:4900\n"
     ]
    }
   ],
   "metadata": {}
  },
  {
   "cell_type": "code",
   "execution_count": 37,
   "source": [
    "label_df = bal_ecm[target]\n",
    "features_df = bal_ecm.drop([target, 'Track_ID', 'X', 'Y', 'binx', 'biny', 'bins'], axis=1)\n",
    "features = features_df.columns"
   ],
   "outputs": [],
   "metadata": {}
  },
  {
   "cell_type": "code",
   "execution_count": 38,
   "source": [
    "# Regular split\n",
    "\n",
    "seed = 1234\n",
    "np.random.seed(seed)\n",
    "train_split = 0.5\n",
    "test_split = 0.5\n",
    "\n",
    "le = preprocessing.LabelEncoder()\n",
    "bal_ecm['encoded_target'] = le.fit_transform(bal_ecm[target])\n",
    "\n",
    "training_bins = np.random.choice(bal_ecm.bins.unique(), int(len(bal_ecm.bins.unique())*train_split), replace=False)\n",
    "\n",
    "X_train = bal_ecm[bal_ecm.bins.isin(training_bins)]\n",
    "X_test_val = bal_ecm[~bal_ecm.bins.isin(training_bins)]\n",
    "X_val, X_test = train_test_split(X_test_val, test_size=test_split, random_state=seed)\n",
    "\n",
    "y_train = X_train['encoded_target']\n",
    "y_test = X_test['encoded_target']\n",
    "y_val = X_val['encoded_target']\n",
    "\n",
    "# dtrain = X_train[features]\n",
    "# dtest = X_test[features]\n",
    "# dval = X_val[features]\n",
    "\n",
    "dtrain = xgb.DMatrix(X_train[features], label=y_train)\n",
    "dtest = xgb.DMatrix(X_test[features], label=y_test)\n",
    "dval = xgb.DMatrix(X_val[features], label=y_val)"
   ],
   "outputs": [],
   "metadata": {}
  },
  {
   "cell_type": "code",
   "execution_count": 39,
   "source": [
    "spatial.get_lengths(bal_ecm, X_train, X_test, X_val)"
   ],
   "outputs": [
    {
     "output_type": "stream",
     "name": "stdout",
     "text": [
      "Tot before split: 14700\n",
      "Training: 7188 (0.489%)\n",
      "Testing: 3756 (0.256%)\n",
      "Evaluation: 3756 (0.256%)\n"
     ]
    }
   ],
   "metadata": {}
  },
  {
   "cell_type": "code",
   "execution_count": 40,
   "source": [
    "param = {'max_depth': 3,\n",
    "         'eta': 0.005,\n",
    "         'min_child_weight': 0,\n",
    "         'verbosity': 0,\n",
    "         'objective': 'multi:softprob',\n",
    "         'num_class': 3,\n",
    "         'silent': 'True',\n",
    "         'gamma': 5,\n",
    "         'subsample': 0.15,\n",
    "         'colsample_bytree': 0.8,\n",
    "         'eval_metric': \"mlogloss\",\n",
    "#          # GPU integration will cut time in ~half:\n",
    "#          'gpu_id' : 0,\n",
    "#          'tree_method': 'gpu_hist',\n",
    "#          'predictor': 'gpu_predictor'\n",
    "         }"
   ],
   "outputs": [],
   "metadata": {}
  },
  {
   "cell_type": "code",
   "execution_count": 14,
   "source": [
    "(best_model, best_param, best_eval, best_boost_rounds) = predxgboost.xgb_paramsearch(X_train=X_train, y_train=X_train['encoded_target'], features=features, init_params=param)"
   ],
   "outputs": [
    {
     "output_type": "error",
     "ename": "ValueError",
     "evalue": "The truth value of a Index is ambiguous. Use a.empty, a.bool(), a.item(), a.any() or a.all().",
     "traceback": [
      "\u001b[0;31m---------------------------------------------------------------------------\u001b[0m",
      "\u001b[0;31mValueError\u001b[0m                                Traceback (most recent call last)",
      "\u001b[0;32m<ipython-input-14-fd183df15df4>\u001b[0m in \u001b[0;36m<module>\u001b[0;34m\u001b[0m\n\u001b[0;32m----> 1\u001b[0;31m \u001b[0;34m(\u001b[0m\u001b[0mbest_model\u001b[0m\u001b[0;34m,\u001b[0m \u001b[0mbest_param\u001b[0m\u001b[0;34m,\u001b[0m \u001b[0mbest_eval\u001b[0m\u001b[0;34m,\u001b[0m \u001b[0mbest_boost_rounds\u001b[0m\u001b[0;34m)\u001b[0m \u001b[0;34m=\u001b[0m \u001b[0mpredxgboost\u001b[0m\u001b[0;34m.\u001b[0m\u001b[0mxgb_paramsearch\u001b[0m\u001b[0;34m(\u001b[0m\u001b[0mX_train\u001b[0m\u001b[0;34m=\u001b[0m\u001b[0mX_train\u001b[0m\u001b[0;34m,\u001b[0m \u001b[0my_train\u001b[0m\u001b[0;34m=\u001b[0m\u001b[0mX_train\u001b[0m\u001b[0;34m[\u001b[0m\u001b[0;34m'encoded_target'\u001b[0m\u001b[0;34m]\u001b[0m\u001b[0;34m,\u001b[0m \u001b[0mfeatures\u001b[0m\u001b[0;34m=\u001b[0m\u001b[0mfeatures\u001b[0m\u001b[0;34m,\u001b[0m \u001b[0minit_params\u001b[0m\u001b[0;34m=\u001b[0m\u001b[0mparam\u001b[0m\u001b[0;34m)\u001b[0m\u001b[0;34m\u001b[0m\u001b[0;34m\u001b[0m\u001b[0m\n\u001b[0m",
      "\u001b[0;32m/opt/anaconda3/lib/python3.7/site-packages/diff_predictor-1.0.dev0-py3.7.egg/diff_predictor/predxgboost.py\u001b[0m in \u001b[0;36mxgb_paramsearch\u001b[0;34m(X_train, y_train, features, init_params, nfold, num_boost_round, early_stopping_rounds, **kwargs)\u001b[0m\n\u001b[1;32m    395\u001b[0m                     \u001b[0mnum_boost_round\u001b[0m\u001b[0;34m=\u001b[0m\u001b[0mnum_boost_round\u001b[0m\u001b[0;34m,\u001b[0m\u001b[0;34m\u001b[0m\u001b[0;34m\u001b[0m\u001b[0m\n\u001b[1;32m    396\u001b[0m                     \u001b[0mearly_stopping_rounds\u001b[0m\u001b[0;34m=\u001b[0m\u001b[0mearly_stopping_rounds\u001b[0m\u001b[0;34m,\u001b[0m\u001b[0;34m\u001b[0m\u001b[0;34m\u001b[0m\u001b[0m\n\u001b[0;32m--> 397\u001b[0;31m                     metrics=metrics)\n\u001b[0m\u001b[1;32m    398\u001b[0m     \u001b[0mbest_eval\u001b[0m \u001b[0;34m=\u001b[0m \u001b[0mbest_model\u001b[0m\u001b[0;34m[\u001b[0m\u001b[0;34mf\"test-{params['eval_metric']}-mean\"\u001b[0m\u001b[0;34m]\u001b[0m\u001b[0;34m.\u001b[0m\u001b[0mmin\u001b[0m\u001b[0;34m(\u001b[0m\u001b[0;34m)\u001b[0m\u001b[0;34m\u001b[0m\u001b[0;34m\u001b[0m\u001b[0m\n\u001b[1;32m    399\u001b[0m     \u001b[0mbest_boost_rounds\u001b[0m \u001b[0;34m=\u001b[0m\u001b[0;31m \u001b[0m\u001b[0;31m\\\u001b[0m\u001b[0;34m\u001b[0m\u001b[0;34m\u001b[0m\u001b[0m\n",
      "\u001b[0;32m/opt/anaconda3/lib/python3.7/site-packages/diff_predictor-1.0.dev0-py3.7.egg/diff_predictor/predxgboost.py\u001b[0m in \u001b[0;36mcv\u001b[0;34m(params, X_train, y_train, features, num_boost_round, nfold, folds, metrics, obj, feval, maximize, early_stopping_rounds, fpreproc, as_pandas, verbose_eval, show_stdv, seed, callbacks)\u001b[0m\n\u001b[1;32m    178\u001b[0m     \u001b[0;31m#    print('test')\u001b[0m\u001b[0;34m\u001b[0m\u001b[0;34m\u001b[0m\u001b[0;34m\u001b[0m\u001b[0m\n\u001b[1;32m    179\u001b[0m     \u001b[0;31m#    metrics = [metrics]\u001b[0m\u001b[0;34m\u001b[0m\u001b[0;34m\u001b[0m\u001b[0;34m\u001b[0m\u001b[0m\n\u001b[0;32m--> 180\u001b[0;31m     \u001b[0;32mif\u001b[0m \u001b[0;32mnot\u001b[0m \u001b[0mfeatures\u001b[0m\u001b[0;34m:\u001b[0m\u001b[0;34m\u001b[0m\u001b[0;34m\u001b[0m\u001b[0m\n\u001b[0m\u001b[1;32m    181\u001b[0m         \u001b[0mfeatures\u001b[0m \u001b[0;34m=\u001b[0m \u001b[0mX_train\u001b[0m\u001b[0;34m.\u001b[0m\u001b[0mcolumns\u001b[0m\u001b[0;34m\u001b[0m\u001b[0;34m\u001b[0m\u001b[0m\n\u001b[1;32m    182\u001b[0m     \u001b[0;32mif\u001b[0m \u001b[0misinstance\u001b[0m\u001b[0;34m(\u001b[0m\u001b[0mparams\u001b[0m\u001b[0;34m,\u001b[0m \u001b[0mlist\u001b[0m\u001b[0;34m)\u001b[0m\u001b[0;34m:\u001b[0m\u001b[0;34m\u001b[0m\u001b[0;34m\u001b[0m\u001b[0m\n",
      "\u001b[0;32m/opt/anaconda3/lib/python3.7/site-packages/pandas/core/indexes/base.py\u001b[0m in \u001b[0;36m__nonzero__\u001b[0;34m(self)\u001b[0m\n\u001b[1;32m   2572\u001b[0m     \u001b[0;32mdef\u001b[0m \u001b[0m__nonzero__\u001b[0m\u001b[0;34m(\u001b[0m\u001b[0mself\u001b[0m\u001b[0;34m)\u001b[0m\u001b[0;34m:\u001b[0m\u001b[0;34m\u001b[0m\u001b[0;34m\u001b[0m\u001b[0m\n\u001b[1;32m   2573\u001b[0m         raise ValueError(\n\u001b[0;32m-> 2574\u001b[0;31m             \u001b[0;34mf\"The truth value of a {type(self).__name__} is ambiguous. \"\u001b[0m\u001b[0;34m\u001b[0m\u001b[0;34m\u001b[0m\u001b[0m\n\u001b[0m\u001b[1;32m   2575\u001b[0m             \u001b[0;34m\"Use a.empty, a.bool(), a.item(), a.any() or a.all().\"\u001b[0m\u001b[0;34m\u001b[0m\u001b[0;34m\u001b[0m\u001b[0m\n\u001b[1;32m   2576\u001b[0m         )\n",
      "\u001b[0;31mValueError\u001b[0m: The truth value of a Index is ambiguous. Use a.empty, a.bool(), a.item(), a.any() or a.all()."
     ]
    }
   ],
   "metadata": {}
  },
  {
   "cell_type": "code",
   "execution_count": 139,
   "source": [
    "best_param = {'max_depth': 4, 'eta': 0.1, 'min_child_weight': 1, 'verbosity': 0, 'objective': 'multi:softprob', 'num_class': 3, 'silent': 'True', 'gamma': 1.0, 'subsample': 0.5, 'colsample_bytree': 0.6, 'eval_metric': 'mlogloss'}"
   ],
   "outputs": [],
   "metadata": {}
  },
  {
   "cell_type": "code",
   "execution_count": 41,
   "source": [
    "# Currently using parameters found in the diff_mode analysis notebook for age\n",
    "booster, acc, true_label, preds = predxgboost.train(best_param, dtrain, dtest, dval, evals=[(dtrain, 'train'), (dval, 'eval')], num_round=96, verbose=False)\n"
   ],
   "outputs": [
    {
     "output_type": "stream",
     "name": "stdout",
     "text": [
      "Accuracy: 0.8445154419595314\n"
     ]
    }
   ],
   "metadata": {}
  },
  {
   "cell_type": "code",
   "execution_count": 42,
   "source": [
    "class_names = le.classes_\n",
    "class_results = classification_report(y_test, preds, digits=4, target_names = class_names)\n",
    "print(str(class_results))"
   ],
   "outputs": [
    {
     "output_type": "stream",
     "name": "stdout",
     "text": [
      "              precision    recall  f1-score   support\n",
      "\n",
      "         P14     0.8755    0.8863    0.8808      1222\n",
      "         P35     0.7817    0.7598    0.7706      1249\n",
      "         P70     0.8736    0.8872    0.8803      1285\n",
      "\n",
      "    accuracy                         0.8445      3756\n",
      "   macro avg     0.8436    0.8444    0.8439      3756\n",
      "weighted avg     0.8437    0.8445    0.8440      3756\n",
      "\n"
     ]
    }
   ],
   "metadata": {}
  },
  {
   "cell_type": "code",
   "execution_count": 43,
   "source": [
    "metrics.confusion_matrix(y_test, preds)\n",
    "plt.figure(figsize=(12,10))\n",
    "cm_array = metrics.confusion_matrix(y_test, preds)\n",
    "df_cm = pd.DataFrame(cm_array, index = class_names, columns = class_names)\n",
    "\n",
    "sns.set(font_scale=1.4) # for label size\n",
    "ax = sns.heatmap(df_cm, annot=True, annot_kws={\"size\": 16}, cmap=\"YlGnBu\")\n",
    "ax.set(xlabel='Predicted', ylabel='Actual')\n",
    "\n",
    "plt.show()"
   ],
   "outputs": [
    {
     "output_type": "display_data",
     "data": {
      "image/png": "[encoded data removed]",
      "text/plain": [
       "<Figure size 864x720 with 2 Axes>"
      ]
     },
     "metadata": {}
    }
   ],
   "metadata": {}
  },
  {
   "cell_type": "code",
   "execution_count": 50,
   "source": [],
   "outputs": [
    {
     "output_type": "stream",
     "name": "stdout",
     "text": [
      "<xgboost.core.Booster object at 0x7fe03ae70110>\n"
     ]
    }
   ],
   "metadata": {}
  },
  {
   "cell_type": "code",
   "execution_count": 44,
   "source": [
    "# Needed bc of this issue: https://github.com/slundberg/shap/issues/1215\n",
    "\n",
    "# model_bytearray = booster.save_raw()[4:]\n",
    "# def myfun(self=None):\n",
    "#     return model_bytearray\n",
    "\n",
    "# booster.save_raw = myfun\n",
    "\n",
    "explainer = shap.TreeExplainer(booster)\n",
    "shap_values = explainer.shap_values(X_test[features])"
   ],
   "outputs": [],
   "metadata": {}
  },
  {
   "cell_type": "code",
   "execution_count": 45,
   "source": [
    "from matplotlib import colors as plt_colors\n",
    "\n",
    "explainer = shap.TreeExplainer(booster)\n",
    "shap_values = explainer.shap_values(X_test[features])\n",
    "c_NT = '#E69F00'\n",
    "c_HYase = '#56B4E9'\n",
    "c_ChABC = '#009E73'\n",
    "\n",
    "colors = [c_NT, c_HYase, c_ChABC]\n",
    "class_inds = np.argsort([-np.abs(shap_values[i]).mean() for i in range(len(shap_values))])\n",
    "cmap = plt_colors.ListedColormap(np.array(colors)[class_inds])\n",
    "shap.summary_plot(shap_values, X_test[features], class_names=np.array(class_names), max_display=15, title='Total SHAP Values', color=cmap)"
   ],
   "outputs": [],
   "metadata": {}
  },
  {
   "cell_type": "code",
   "execution_count": 46,
   "source": [
    "shap.summary_plot(shap_values, X_test[features], class_names=np.array(class_names), max_display=15, title='Total SHAP Values', color=cmap)"
   ],
   "outputs": [
    {
     "output_type": "display_data",
     "data": {
      "image/png": "[encoded data removed]",
      "text/plain": [
       "<Figure size 576x540 with 1 Axes>"
      ]
     },
     "metadata": {}
    }
   ],
   "metadata": {}
  },
  {
   "cell_type": "markdown",
   "source": [
    "### Outlier detection"
   ],
   "metadata": {}
  },
  {
   "cell_type": "code",
   "execution_count": 97,
   "source": [
    "scaler = StandardScaler()\n",
    "features_df_filled = ecm[features].fillna(0)\n",
    "scaled_df = scaler.fit_transform(features_df_filled)\n",
    "scaled_df = pd.DataFrame(scaled_df, columns=features)"
   ],
   "outputs": [],
   "metadata": {}
  },
  {
   "cell_type": "code",
   "execution_count": 98,
   "source": [
    "features_df_filled"
   ],
   "outputs": [
    {
     "output_type": "execute_result",
     "data": {
      "text/html": [
       "<div>\n",
       "<style scoped>\n",
       "    .dataframe tbody tr th:only-of-type {\n",
       "        vertical-align: middle;\n",
       "    }\n",
       "\n",
       "    .dataframe tbody tr th {\n",
       "        vertical-align: top;\n",
       "    }\n",
       "\n",
       "    .dataframe thead th {\n",
       "        text-align: right;\n",
       "    }\n",
       "</style>\n",
       "<table border=\"1\" class=\"dataframe\">\n",
       "  <thead>\n",
       "    <tr style=\"text-align: right;\">\n",
       "      <th></th>\n",
       "      <th>alpha</th>\n",
       "      <th>D_fit</th>\n",
       "      <th>kurtosis</th>\n",
       "      <th>asymmetry1</th>\n",
       "      <th>asymmetry2</th>\n",
       "      <th>asymmetry3</th>\n",
       "      <th>AR</th>\n",
       "      <th>elongation</th>\n",
       "      <th>boundedness</th>\n",
       "      <th>fractal_dim</th>\n",
       "      <th>...</th>\n",
       "      <th>Mean AR</th>\n",
       "      <th>Mean elongation</th>\n",
       "      <th>Mean boundedness</th>\n",
       "      <th>Mean fractal_dim</th>\n",
       "      <th>Mean trappedness</th>\n",
       "      <th>Mean efficiency</th>\n",
       "      <th>Mean straightness</th>\n",
       "      <th>Mean MSD_ratio</th>\n",
       "      <th>Mean Deff1</th>\n",
       "      <th>Mean Deff2</th>\n",
       "    </tr>\n",
       "  </thead>\n",
       "  <tbody>\n",
       "    <tr>\n",
       "      <th>0</th>\n",
       "      <td>0.300022</td>\n",
       "      <td>1.466714</td>\n",
       "      <td>1.827982</td>\n",
       "      <td>0.831748</td>\n",
       "      <td>0.214532</td>\n",
       "      <td>0.234618</td>\n",
       "      <td>1.377828</td>\n",
       "      <td>0.274220</td>\n",
       "      <td>0.208504</td>\n",
       "      <td>2.180911</td>\n",
       "      <td>...</td>\n",
       "      <td>2.558671</td>\n",
       "      <td>0.500849</td>\n",
       "      <td>0.077719</td>\n",
       "      <td>1.778684</td>\n",
       "      <td>-0.203714</td>\n",
       "      <td>0.522740</td>\n",
       "      <td>0.146740</td>\n",
       "      <td>0.478852</td>\n",
       "      <td>1.910137</td>\n",
       "      <td>1.054939</td>\n",
       "    </tr>\n",
       "    <tr>\n",
       "      <th>1</th>\n",
       "      <td>0.320179</td>\n",
       "      <td>34.234700</td>\n",
       "      <td>1.986628</td>\n",
       "      <td>0.871043</td>\n",
       "      <td>0.185748</td>\n",
       "      <td>0.268897</td>\n",
       "      <td>1.844000</td>\n",
       "      <td>0.457701</td>\n",
       "      <td>0.169997</td>\n",
       "      <td>2.007813</td>\n",
       "      <td>...</td>\n",
       "      <td>2.790575</td>\n",
       "      <td>0.566797</td>\n",
       "      <td>0.062083</td>\n",
       "      <td>1.738185</td>\n",
       "      <td>-0.208361</td>\n",
       "      <td>0.518803</td>\n",
       "      <td>0.126079</td>\n",
       "      <td>1.023370</td>\n",
       "      <td>4.419614</td>\n",
       "      <td>0.879117</td>\n",
       "    </tr>\n",
       "    <tr>\n",
       "      <th>2</th>\n",
       "      <td>1.724717</td>\n",
       "      <td>0.283085</td>\n",
       "      <td>3.071816</td>\n",
       "      <td>0.997034</td>\n",
       "      <td>0.027251</td>\n",
       "      <td>0.594843</td>\n",
       "      <td>5.022024</td>\n",
       "      <td>0.800877</td>\n",
       "      <td>0.032339</td>\n",
       "      <td>1.367141</td>\n",
       "      <td>...</td>\n",
       "      <td>2.951955</td>\n",
       "      <td>0.588361</td>\n",
       "      <td>0.068945</td>\n",
       "      <td>1.668717</td>\n",
       "      <td>-0.206330</td>\n",
       "      <td>1.116364</td>\n",
       "      <td>0.223336</td>\n",
       "      <td>0.624219</td>\n",
       "      <td>5.257431</td>\n",
       "      <td>0.000000</td>\n",
       "    </tr>\n",
       "    <tr>\n",
       "      <th>3</th>\n",
       "      <td>4.628234</td>\n",
       "      <td>0.000021</td>\n",
       "      <td>1.718922</td>\n",
       "      <td>0.786380</td>\n",
       "      <td>0.244962</td>\n",
       "      <td>0.203225</td>\n",
       "      <td>2.448351</td>\n",
       "      <td>0.591562</td>\n",
       "      <td>0.063546</td>\n",
       "      <td>1.763388</td>\n",
       "      <td>...</td>\n",
       "      <td>2.951955</td>\n",
       "      <td>0.588361</td>\n",
       "      <td>0.068945</td>\n",
       "      <td>1.668717</td>\n",
       "      <td>-0.206330</td>\n",
       "      <td>1.116364</td>\n",
       "      <td>0.223336</td>\n",
       "      <td>0.624219</td>\n",
       "      <td>5.257431</td>\n",
       "      <td>0.000000</td>\n",
       "    </tr>\n",
       "    <tr>\n",
       "      <th>4</th>\n",
       "      <td>1.447265</td>\n",
       "      <td>0.054312</td>\n",
       "      <td>2.213652</td>\n",
       "      <td>0.999969</td>\n",
       "      <td>0.002783</td>\n",
       "      <td>0.682137</td>\n",
       "      <td>15.441644</td>\n",
       "      <td>0.935240</td>\n",
       "      <td>0.015247</td>\n",
       "      <td>1.908143</td>\n",
       "      <td>...</td>\n",
       "      <td>18.341212</td>\n",
       "      <td>0.942667</td>\n",
       "      <td>0.028242</td>\n",
       "      <td>1.711037</td>\n",
       "      <td>-0.218619</td>\n",
       "      <td>0.357306</td>\n",
       "      <td>0.090795</td>\n",
       "      <td>0.330886</td>\n",
       "      <td>1.253643</td>\n",
       "      <td>1.082479</td>\n",
       "    </tr>\n",
       "    <tr>\n",
       "      <th>...</th>\n",
       "      <td>...</td>\n",
       "      <td>...</td>\n",
       "      <td>...</td>\n",
       "      <td>...</td>\n",
       "      <td>...</td>\n",
       "      <td>...</td>\n",
       "      <td>...</td>\n",
       "      <td>...</td>\n",
       "      <td>...</td>\n",
       "      <td>...</td>\n",
       "      <td>...</td>\n",
       "      <td>...</td>\n",
       "      <td>...</td>\n",
       "      <td>...</td>\n",
       "      <td>...</td>\n",
       "      <td>...</td>\n",
       "      <td>...</td>\n",
       "      <td>...</td>\n",
       "      <td>...</td>\n",
       "      <td>...</td>\n",
       "      <td>...</td>\n",
       "    </tr>\n",
       "    <tr>\n",
       "      <th>38782</th>\n",
       "      <td>0.186162</td>\n",
       "      <td>5.578552</td>\n",
       "      <td>2.708435</td>\n",
       "      <td>0.826497</td>\n",
       "      <td>0.218183</td>\n",
       "      <td>0.230605</td>\n",
       "      <td>1.766589</td>\n",
       "      <td>0.433937</td>\n",
       "      <td>0.151994</td>\n",
       "      <td>2.158246</td>\n",
       "      <td>...</td>\n",
       "      <td>2.291360</td>\n",
       "      <td>0.479017</td>\n",
       "      <td>0.093735</td>\n",
       "      <td>2.026852</td>\n",
       "      <td>-0.198831</td>\n",
       "      <td>0.193313</td>\n",
       "      <td>0.093485</td>\n",
       "      <td>0.657813</td>\n",
       "      <td>1.003318</td>\n",
       "      <td>0.068079</td>\n",
       "    </tr>\n",
       "    <tr>\n",
       "      <th>38784</th>\n",
       "      <td>1.205907</td>\n",
       "      <td>4.350913</td>\n",
       "      <td>3.221466</td>\n",
       "      <td>0.975484</td>\n",
       "      <td>0.078773</td>\n",
       "      <td>0.453535</td>\n",
       "      <td>2.644417</td>\n",
       "      <td>0.621845</td>\n",
       "      <td>0.062851</td>\n",
       "      <td>1.402521</td>\n",
       "      <td>...</td>\n",
       "      <td>2.397721</td>\n",
       "      <td>0.517960</td>\n",
       "      <td>0.114610</td>\n",
       "      <td>1.660474</td>\n",
       "      <td>-0.192703</td>\n",
       "      <td>0.696942</td>\n",
       "      <td>0.236684</td>\n",
       "      <td>0.671486</td>\n",
       "      <td>9.239511</td>\n",
       "      <td>0.000000</td>\n",
       "    </tr>\n",
       "    <tr>\n",
       "      <th>38785</th>\n",
       "      <td>1.244407</td>\n",
       "      <td>3.097007</td>\n",
       "      <td>3.828334</td>\n",
       "      <td>0.190884</td>\n",
       "      <td>0.626005</td>\n",
       "      <td>0.026808</td>\n",
       "      <td>1.131339</td>\n",
       "      <td>0.116092</td>\n",
       "      <td>0.151173</td>\n",
       "      <td>1.747224</td>\n",
       "      <td>...</td>\n",
       "      <td>2.255818</td>\n",
       "      <td>0.483463</td>\n",
       "      <td>0.087333</td>\n",
       "      <td>1.642152</td>\n",
       "      <td>-0.200793</td>\n",
       "      <td>0.798416</td>\n",
       "      <td>0.215354</td>\n",
       "      <td>0.352881</td>\n",
       "      <td>13.974769</td>\n",
       "      <td>13.625148</td>\n",
       "    </tr>\n",
       "    <tr>\n",
       "      <th>38786</th>\n",
       "      <td>0.856812</td>\n",
       "      <td>38.059204</td>\n",
       "      <td>2.305006</td>\n",
       "      <td>0.243213</td>\n",
       "      <td>0.582611</td>\n",
       "      <td>0.035397</td>\n",
       "      <td>1.043384</td>\n",
       "      <td>0.041580</td>\n",
       "      <td>0.097239</td>\n",
       "      <td>1.515172</td>\n",
       "      <td>...</td>\n",
       "      <td>2.072744</td>\n",
       "      <td>0.439809</td>\n",
       "      <td>0.104316</td>\n",
       "      <td>1.690506</td>\n",
       "      <td>-0.195747</td>\n",
       "      <td>0.793246</td>\n",
       "      <td>0.248056</td>\n",
       "      <td>0.189751</td>\n",
       "      <td>13.410963</td>\n",
       "      <td>1.447776</td>\n",
       "    </tr>\n",
       "    <tr>\n",
       "      <th>38787</th>\n",
       "      <td>1.597605</td>\n",
       "      <td>3.623832</td>\n",
       "      <td>1.973804</td>\n",
       "      <td>0.993101</td>\n",
       "      <td>0.041601</td>\n",
       "      <td>0.550453</td>\n",
       "      <td>3.903707</td>\n",
       "      <td>0.743833</td>\n",
       "      <td>0.076873</td>\n",
       "      <td>1.348771</td>\n",
       "      <td>...</td>\n",
       "      <td>2.433512</td>\n",
       "      <td>0.488290</td>\n",
       "      <td>0.077520</td>\n",
       "      <td>1.767890</td>\n",
       "      <td>-0.203700</td>\n",
       "      <td>0.506132</td>\n",
       "      <td>0.158580</td>\n",
       "      <td>1.140006</td>\n",
       "      <td>4.888386</td>\n",
       "      <td>1.804999</td>\n",
       "    </tr>\n",
       "  </tbody>\n",
       "</table>\n",
       "<p>33737 rows × 32 columns</p>\n",
       "</div>"
      ],
      "text/plain": [
       "          alpha      D_fit  kurtosis  asymmetry1  asymmetry2  asymmetry3  \\\n",
       "0      0.300022   1.466714  1.827982    0.831748    0.214532    0.234618   \n",
       "1      0.320179  34.234700  1.986628    0.871043    0.185748    0.268897   \n",
       "2      1.724717   0.283085  3.071816    0.997034    0.027251    0.594843   \n",
       "3      4.628234   0.000021  1.718922    0.786380    0.244962    0.203225   \n",
       "4      1.447265   0.054312  2.213652    0.999969    0.002783    0.682137   \n",
       "...         ...        ...       ...         ...         ...         ...   \n",
       "38782  0.186162   5.578552  2.708435    0.826497    0.218183    0.230605   \n",
       "38784  1.205907   4.350913  3.221466    0.975484    0.078773    0.453535   \n",
       "38785  1.244407   3.097007  3.828334    0.190884    0.626005    0.026808   \n",
       "38786  0.856812  38.059204  2.305006    0.243213    0.582611    0.035397   \n",
       "38787  1.597605   3.623832  1.973804    0.993101    0.041601    0.550453   \n",
       "\n",
       "              AR  elongation  boundedness  fractal_dim  ...    Mean AR  \\\n",
       "0       1.377828    0.274220     0.208504     2.180911  ...   2.558671   \n",
       "1       1.844000    0.457701     0.169997     2.007813  ...   2.790575   \n",
       "2       5.022024    0.800877     0.032339     1.367141  ...   2.951955   \n",
       "3       2.448351    0.591562     0.063546     1.763388  ...   2.951955   \n",
       "4      15.441644    0.935240     0.015247     1.908143  ...  18.341212   \n",
       "...          ...         ...          ...          ...  ...        ...   \n",
       "38782   1.766589    0.433937     0.151994     2.158246  ...   2.291360   \n",
       "38784   2.644417    0.621845     0.062851     1.402521  ...   2.397721   \n",
       "38785   1.131339    0.116092     0.151173     1.747224  ...   2.255818   \n",
       "38786   1.043384    0.041580     0.097239     1.515172  ...   2.072744   \n",
       "38787   3.903707    0.743833     0.076873     1.348771  ...   2.433512   \n",
       "\n",
       "       Mean elongation  Mean boundedness  Mean fractal_dim  Mean trappedness  \\\n",
       "0             0.500849          0.077719          1.778684         -0.203714   \n",
       "1             0.566797          0.062083          1.738185         -0.208361   \n",
       "2             0.588361          0.068945          1.668717         -0.206330   \n",
       "3             0.588361          0.068945          1.668717         -0.206330   \n",
       "4             0.942667          0.028242          1.711037         -0.218619   \n",
       "...                ...               ...               ...               ...   \n",
       "38782         0.479017          0.093735          2.026852         -0.198831   \n",
       "38784         0.517960          0.114610          1.660474         -0.192703   \n",
       "38785         0.483463          0.087333          1.642152         -0.200793   \n",
       "38786         0.439809          0.104316          1.690506         -0.195747   \n",
       "38787         0.488290          0.077520          1.767890         -0.203700   \n",
       "\n",
       "       Mean efficiency  Mean straightness  Mean MSD_ratio  Mean Deff1  \\\n",
       "0             0.522740           0.146740        0.478852    1.910137   \n",
       "1             0.518803           0.126079        1.023370    4.419614   \n",
       "2             1.116364           0.223336        0.624219    5.257431   \n",
       "3             1.116364           0.223336        0.624219    5.257431   \n",
       "4             0.357306           0.090795        0.330886    1.253643   \n",
       "...                ...                ...             ...         ...   \n",
       "38782         0.193313           0.093485        0.657813    1.003318   \n",
       "38784         0.696942           0.236684        0.671486    9.239511   \n",
       "38785         0.798416           0.215354        0.352881   13.974769   \n",
       "38786         0.793246           0.248056        0.189751   13.410963   \n",
       "38787         0.506132           0.158580        1.140006    4.888386   \n",
       "\n",
       "       Mean Deff2  \n",
       "0        1.054939  \n",
       "1        0.879117  \n",
       "2        0.000000  \n",
       "3        0.000000  \n",
       "4        1.082479  \n",
       "...           ...  \n",
       "38782    0.068079  \n",
       "38784    0.000000  \n",
       "38785   13.625148  \n",
       "38786    1.447776  \n",
       "38787    1.804999  \n",
       "\n",
       "[33737 rows x 32 columns]"
      ]
     },
     "metadata": {},
     "execution_count": 98
    }
   ],
   "metadata": {}
  },
  {
   "cell_type": "code",
   "execution_count": 99,
   "source": [
    "L, S = r_pca.R_pca(scaled_df).fit(max_iter=5000)"
   ],
   "outputs": [
    {
     "output_type": "stream",
     "name": "stdout",
     "text": [
      "iteration: 1, error: 0.33742470791242857\n",
      "iteration: 100, error: 0.001421840460143009\n",
      "iteration: 200, error: 0.0013442431841444197\n",
      "iteration: 300, error: 0.001215150157510675\n",
      "iteration: 400, error: 0.0012335808700662872\n",
      "iteration: 500, error: 0.0013130438417539698\n",
      "iteration: 600, error: 0.0010457216617579263\n",
      "iteration: 700, error: 0.0009347528430520776\n",
      "iteration: 800, error: 0.0008423601595553127\n",
      "iteration: 900, error: 0.001320473470684468\n",
      "iteration: 1000, error: 0.0011761343495920312\n",
      "iteration: 1100, error: 0.0010545241944393147\n",
      "iteration: 1200, error: 0.0010628053284969497\n",
      "iteration: 1300, error: 0.0010749386138158617\n",
      "iteration: 1400, error: 0.0011235594104969397\n",
      "iteration: 1500, error: 0.0012754471686809705\n",
      "iteration: 1600, error: 0.001805255420123608\n",
      "iteration: 1700, error: 0.0014422658761289813\n",
      "iteration: 1800, error: 0.005292204487216265\n",
      "iteration: 1900, error: 0.002065234913357426\n",
      "iteration: 2000, error: 0.002184229327285333\n",
      "iteration: 2100, error: 0.006379436826808724\n",
      "iteration: 2200, error: 0.0013128080164636407\n",
      "iteration: 2300, error: 0.000942590983481523\n",
      "iteration: 2400, error: 0.001336400870459241\n",
      "iteration: 2500, error: 0.0008015087733859998\n",
      "iteration: 2600, error: 0.0007052300777191043\n",
      "iteration: 2700, error: 0.0012384504431810488\n",
      "iteration: 2800, error: 0.0006675253619151862\n",
      "iteration: 2900, error: 0.0006171818378545851\n",
      "iteration: 3000, error: 0.000543373319562324\n",
      "iteration: 3100, error: 0.0006282370970413822\n",
      "iteration: 3200, error: 0.0007874569219214004\n",
      "iteration: 3300, error: 0.0004783462681178732\n",
      "iteration: 3400, error: 0.0004303987473600383\n",
      "iteration: 3500, error: 0.0004415259992697948\n",
      "iteration: 3600, error: 0.0003931988162691815\n",
      "iteration: 3700, error: 0.0003819606880530787\n",
      "iteration: 3800, error: 0.00042256045237164285\n",
      "iteration: 3900, error: 0.0004532567328741181\n",
      "iteration: 4000, error: 0.0005981395336993989\n",
      "iteration: 4100, error: 0.0004061304921725956\n",
      "iteration: 4200, error: 0.0003794324823964529\n",
      "iteration: 4300, error: 0.0003573306215071245\n",
      "iteration: 4400, error: 0.0002998089062444902\n",
      "iteration: 4500, error: 0.00044161906469577876\n",
      "iteration: 4600, error: 0.00045225963867045056\n",
      "iteration: 4700, error: 0.0002610968135768797\n",
      "iteration: 4800, error: 0.00024310410710525875\n",
      "iteration: 4900, error: 0.0002467126752669628\n",
      "iteration: 5000, error: 0.00024288138343778054\n"
     ]
    }
   ],
   "metadata": {}
  },
  {
   "cell_type": "code",
   "execution_count": 100,
   "source": [
    "S_array = np.absolute(S.values)\n",
    "S_array\n",
    "\n",
    "S_magnitudes = np.zeros(len(S))\n",
    "for i in range(len(S)):\n",
    "    abs_sum = np.sum(S_array[i])\n",
    "    S_magnitudes[i] = abs_sum"
   ],
   "outputs": [],
   "metadata": {}
  },
  {
   "cell_type": "code",
   "execution_count": 65,
   "source": [
    "plt.hist(S_magnitudes, bins=5000)"
   ],
   "outputs": [
    {
     "output_type": "execute_result",
     "data": {
      "text/plain": [
       "(array([1., 0., 0., ..., 0., 0., 1.]),\n",
       " array([  1.15212212,   1.17426878,   1.19641545, ..., 111.84114911,\n",
       "        111.86329577, 111.88544243]),\n",
       " <BarContainer object of 5000 artists>)"
      ]
     },
     "metadata": {},
     "execution_count": 65
    },
    {
     "output_type": "display_data",
     "data": {
      "image/png": "[encoded data removed]",
      "text/plain": [
       "<Figure size 432x288 with 1 Axes>"
      ]
     },
     "metadata": {}
    }
   ],
   "metadata": {}
  },
  {
   "cell_type": "code",
   "execution_count": 66,
   "source": [
    "plt.hist((S_magnitudes), bins=5000)\n",
    "plt.vlines((S_magnitudes).mean()+((S_magnitudes).std()*3), ymin=0, ymax=40, color='r')\n",
    "plt.vlines((S_magnitudes).mean()-((S_magnitudes).std()*3), ymin=0, ymax=40, color='r')\n",
    "plt.title('Distrubution of Sparse Matrix Magnitudes')"
   ],
   "outputs": [
    {
     "output_type": "execute_result",
     "data": {
      "text/plain": [
       "Text(0.5, 1.0, 'Distrubution of Sparse Matrix Magnitudes')"
      ]
     },
     "metadata": {},
     "execution_count": 66
    },
    {
     "output_type": "display_data",
     "data": {
      "image/png": "[encoded data removed]",
      "text/plain": [
       "<Figure size 432x288 with 1 Axes>"
      ]
     },
     "metadata": {}
    }
   ],
   "metadata": {}
  },
  {
   "cell_type": "code",
   "execution_count": 184,
   "source": [
    "plt.hist(np.log(S_magnitudes), bins=5000)\n",
    "plt.vlines(np.log(S_magnitudes).mean()+(np.log(S_magnitudes).std()*4), ymin=0, ymax=40, color='r')\n",
    "plt.vlines(np.log(S_magnitudes).mean()-(np.log(S_magnitudes).std()*4), ymin=0, ymax=40, color='r')\n",
    "plt.title('Distrubution of Sparse Matrix Magnitudes')"
   ],
   "outputs": [
    {
     "output_type": "execute_result",
     "data": {
      "text/plain": [
       "Text(0.5, 1.0, 'Distrubution of Sparse Matrix Magnitudes')"
      ]
     },
     "metadata": {},
     "execution_count": 184
    },
    {
     "output_type": "display_data",
     "data": {
      "image/png": "[encoded data removed]",
      "text/plain": [
       "<Figure size 432x288 with 1 Axes>"
      ]
     },
     "metadata": {}
    }
   ],
   "metadata": {}
  },
  {
   "cell_type": "code",
   "execution_count": 200,
   "source": [
    "upper_outlier_cutoff = np.log(S_magnitudes).mean()+(np.log(S_magnitudes).std()*5)\n",
    "S_mag_log = np.log(S_magnitudes)\n",
    "outliers = S_mag_log[S_mag_log > upper_outlier_cutoff]\n",
    "len(outliers)\n"
   ],
   "outputs": [
    {
     "output_type": "execute_result",
     "data": {
      "text/plain": [
       "9"
      ]
     },
     "metadata": {},
     "execution_count": 200
    }
   ],
   "metadata": {}
  },
  {
   "cell_type": "code",
   "execution_count": 201,
   "source": [
    "outlier_inds = np.where(S_mag_log > upper_outlier_cutoff)\n",
    "normal_inds = np.where(S_mag_log <= upper_outlier_cutoff)\n",
    "outlier_inds[0]"
   ],
   "outputs": [
    {
     "output_type": "execute_result",
     "data": {
      "text/plain": [
       "array([ 9037,  9073, 15238, 15698, 29529, 30770, 32893, 32926, 33324])"
      ]
     },
     "metadata": {},
     "execution_count": 201
    }
   ],
   "metadata": {}
  },
  {
   "cell_type": "code",
   "execution_count": 202,
   "source": [
    "outlier_df = ecm.iloc[outlier_inds[0]]\n",
    "normal_df = ecm.iloc[normal_inds[0]]"
   ],
   "outputs": [],
   "metadata": {}
  },
  {
   "cell_type": "code",
   "execution_count": 203,
   "source": [
    "bal_ecm = data_process.balance_data(normal_df, target, random_state=1)\n",
    "bal_ecm = data_process.bin_data(bal_ecm, resolution=128)"
   ],
   "outputs": [
    {
     "output_type": "stream",
     "name": "stdout",
     "text": [
      "Ratio before data balance (P70:P14:P35) = 13964:4900:14864\n",
      "Ratio after balance (P70:P14:P35) = 4900:4900:4900\n"
     ]
    }
   ],
   "metadata": {}
  },
  {
   "cell_type": "code",
   "execution_count": 204,
   "source": [
    "# Regular split\n",
    "\n",
    "seed = 1234\n",
    "np.random.seed(seed)\n",
    "train_split = 0.5\n",
    "test_split = 0.5\n",
    "\n",
    "le = preprocessing.LabelEncoder()\n",
    "bal_ecm['encoded_target'] = le.fit_transform(bal_ecm[target])\n",
    "\n",
    "training_bins = np.random.choice(bal_ecm.bins.unique(), int(len(bal_ecm.bins.unique())*train_split), replace=False)\n",
    "\n",
    "X_train = bal_ecm[bal_ecm.bins.isin(training_bins)]\n",
    "X_test_val = bal_ecm[~bal_ecm.bins.isin(training_bins)]\n",
    "X_val, X_test = train_test_split(X_test_val, test_size=test_split, random_state=seed)\n",
    "\n",
    "y_train = X_train['encoded_target']\n",
    "y_test = X_test['encoded_target']\n",
    "y_val = X_val['encoded_target']\n",
    "\n",
    "# dtrain = X_train[features]\n",
    "# dtest = X_test[features]\n",
    "# dval = X_val[features]\n",
    "\n",
    "dtrain = xgb.DMatrix(X_train[features], label=y_train)\n",
    "dtest = xgb.DMatrix(X_test[features], label=y_test)\n",
    "dval = xgb.DMatrix(X_val[features], label=y_val)"
   ],
   "outputs": [],
   "metadata": {}
  },
  {
   "cell_type": "code",
   "execution_count": 205,
   "source": [
    "# Currently using parameters found in the diff_mode analysis notebook for age\n",
    "booster, acc, true_label, preds = predxgboost.train(best_param, dtrain, dtest, dval, evals=[(dtrain, 'train'), (dval, 'eval')], num_round=96, verbose=False)\n"
   ],
   "outputs": [
    {
     "output_type": "stream",
     "name": "stdout",
     "text": [
      "Accuracy: 0.8620782003213712\n"
     ]
    }
   ],
   "metadata": {}
  },
  {
   "cell_type": "code",
   "execution_count": 206,
   "source": [
    "class_names = le.classes_\n",
    "class_results = classification_report(y_test, preds, digits=4, target_names = class_names)\n",
    "print(str(class_results))"
   ],
   "outputs": [
    {
     "output_type": "stream",
     "name": "stdout",
     "text": [
      "              precision    recall  f1-score   support\n",
      "\n",
      "         P14     0.9035    0.8753    0.8892      1187\n",
      "         P35     0.8133    0.7836    0.7982      1229\n",
      "         P70     0.8693    0.9234    0.8955      1318\n",
      "\n",
      "    accuracy                         0.8621      3734\n",
      "   macro avg     0.8620    0.8607    0.8610      3734\n",
      "weighted avg     0.8617    0.8621    0.8615      3734\n",
      "\n"
     ]
    }
   ],
   "metadata": {}
  },
  {
   "cell_type": "code",
   "execution_count": 207,
   "source": [
    "metrics.confusion_matrix(y_test, preds)\n",
    "plt.figure(figsize=(12,10))\n",
    "cm_array = metrics.confusion_matrix(y_test, preds)\n",
    "df_cm = pd.DataFrame(cm_array, index = class_names, columns = class_names)\n",
    "\n",
    "sns.set(font_scale=1.4) # for label size\n",
    "ax = sns.heatmap(df_cm, annot=True, annot_kws={\"size\": 16}, cmap=\"YlGnBu\")\n",
    "ax.set(xlabel='Predicted', ylabel='Actual')\n",
    "\n",
    "plt.show()"
   ],
   "outputs": [
    {
     "output_type": "display_data",
     "data": {
      "image/png": "[encoded data removed]",
      "text/plain": [
       "<Figure size 864x720 with 2 Axes>"
      ]
     },
     "metadata": {}
    }
   ],
   "metadata": {}
  },
  {
   "cell_type": "code",
   "execution_count": 208,
   "source": [
    "from matplotlib import colors as plt_colors\n",
    "\n",
    "explainer = shap.TreeExplainer(booster)\n",
    "shap_values = explainer.shap_values(X_test[features])\n",
    "c_NT = '#E69F00'\n",
    "c_HYase = '#56B4E9'\n",
    "c_ChABC = '#009E73'\n",
    "\n",
    "colors = [c_NT, c_HYase, c_ChABC]\n",
    "class_inds = np.argsort([-np.abs(shap_values[i]).mean() for i in range(len(shap_values))])\n",
    "cmap = plt_colors.ListedColormap(np.array(colors)[class_inds])\n",
    "shap.summary_plot(shap_values, X_test[features], class_names=np.array(class_names), max_display=15, title='Total SHAP Values', color=cmap)"
   ],
   "outputs": [
    {
     "output_type": "display_data",
     "data": {
      "image/png": "[encoded data removed]",
      "text/plain": [
       "<Figure size 576x540 with 1 Axes>"
      ]
     },
     "metadata": {}
    }
   ],
   "metadata": {}
  },
  {
   "cell_type": "code",
   "execution_count": 209,
   "source": [
    "le = preprocessing.LabelEncoder()\n",
    "outlier_df['encoded_target'] = le.fit_transform(outlier_df[target])"
   ],
   "outputs": [
    {
     "output_type": "stream",
     "name": "stderr",
     "text": [
      "\n",
      "A value is trying to be set on a copy of a slice from a DataFrame.\n",
      "Try using .loc[row_indexer,col_indexer] = value instead\n",
      "\n",
      "See the caveats in the documentation: https://pandas.pydata.org/pandas-docs/stable/user_guide/indexing.html#returning-a-view-versus-a-copy\n"
     ]
    }
   ],
   "metadata": {}
  },
  {
   "cell_type": "code",
   "execution_count": 210,
   "source": [
    "\n",
    "y_outlier = outlier_df['encoded_target']\n",
    "d_outliers = xgb.DMatrix(outlier_df[features], label=y_outlier)"
   ],
   "outputs": [],
   "metadata": {}
  },
  {
   "cell_type": "code",
   "execution_count": 211,
   "source": [
    "true_label = d_outliers.get_label()\n",
    "ypred = booster.predict(d_outliers)\n",
    "preds = [np.where(x == np.max(x))[0][0] for x in ypred]\n",
    "acc = accuracy_score(true_label, preds)\n",
    "print(\"Accuracy:\",acc)"
   ],
   "outputs": [
    {
     "output_type": "stream",
     "name": "stdout",
     "text": [
      "Accuracy: 0.0\n"
     ]
    }
   ],
   "metadata": {}
  },
  {
   "cell_type": "code",
   "execution_count": 215,
   "source": [
    "preds\n",
    "true_label"
   ],
   "outputs": [
    {
     "output_type": "execute_result",
     "data": {
      "text/plain": [
       "array([1., 1., 1., 1., 0., 0., 0., 0., 0.], dtype=float32)"
      ]
     },
     "metadata": {},
     "execution_count": 215
    }
   ],
   "metadata": {}
  },
  {
   "cell_type": "code",
   "execution_count": 212,
   "source": [
    "class_names = le.classes_\n",
    "class_results = classification_report(y_outlier, preds, digits=4, target_names = class_names)\n",
    "print(str(class_results))"
   ],
   "outputs": [
    {
     "output_type": "error",
     "ename": "ValueError",
     "evalue": "Number of classes, 3, does not match size of target_names, 2. Try specifying the labels parameter",
     "traceback": [
      "\u001b[0;31m---------------------------------------------------------------------------\u001b[0m",
      "\u001b[0;31mValueError\u001b[0m                                Traceback (most recent call last)",
      "\u001b[0;32m<ipython-input-212-72a30c27b4c6>\u001b[0m in \u001b[0;36m<module>\u001b[0;34m\u001b[0m\n\u001b[1;32m      1\u001b[0m \u001b[0mclass_names\u001b[0m \u001b[0;34m=\u001b[0m \u001b[0mle\u001b[0m\u001b[0;34m.\u001b[0m\u001b[0mclasses_\u001b[0m\u001b[0;34m\u001b[0m\u001b[0;34m\u001b[0m\u001b[0m\n\u001b[0;32m----> 2\u001b[0;31m \u001b[0mclass_results\u001b[0m \u001b[0;34m=\u001b[0m \u001b[0mclassification_report\u001b[0m\u001b[0;34m(\u001b[0m\u001b[0my_outlier\u001b[0m\u001b[0;34m,\u001b[0m \u001b[0mpreds\u001b[0m\u001b[0;34m,\u001b[0m \u001b[0mdigits\u001b[0m\u001b[0;34m=\u001b[0m\u001b[0;36m4\u001b[0m\u001b[0;34m,\u001b[0m \u001b[0mtarget_names\u001b[0m \u001b[0;34m=\u001b[0m \u001b[0mclass_names\u001b[0m\u001b[0;34m)\u001b[0m\u001b[0;34m\u001b[0m\u001b[0;34m\u001b[0m\u001b[0m\n\u001b[0m\u001b[1;32m      3\u001b[0m \u001b[0mprint\u001b[0m\u001b[0;34m(\u001b[0m\u001b[0mstr\u001b[0m\u001b[0;34m(\u001b[0m\u001b[0mclass_results\u001b[0m\u001b[0;34m)\u001b[0m\u001b[0;34m)\u001b[0m\u001b[0;34m\u001b[0m\u001b[0;34m\u001b[0m\u001b[0m\n",
      "\u001b[0;32m/opt/anaconda3/lib/python3.7/site-packages/sklearn/utils/validation.py\u001b[0m in \u001b[0;36minner_f\u001b[0;34m(*args, **kwargs)\u001b[0m\n\u001b[1;32m     61\u001b[0m             \u001b[0mextra_args\u001b[0m \u001b[0;34m=\u001b[0m \u001b[0mlen\u001b[0m\u001b[0;34m(\u001b[0m\u001b[0margs\u001b[0m\u001b[0;34m)\u001b[0m \u001b[0;34m-\u001b[0m \u001b[0mlen\u001b[0m\u001b[0;34m(\u001b[0m\u001b[0mall_args\u001b[0m\u001b[0;34m)\u001b[0m\u001b[0;34m\u001b[0m\u001b[0;34m\u001b[0m\u001b[0m\n\u001b[1;32m     62\u001b[0m             \u001b[0;32mif\u001b[0m \u001b[0mextra_args\u001b[0m \u001b[0;34m<=\u001b[0m \u001b[0;36m0\u001b[0m\u001b[0;34m:\u001b[0m\u001b[0;34m\u001b[0m\u001b[0;34m\u001b[0m\u001b[0m\n\u001b[0;32m---> 63\u001b[0;31m                 \u001b[0;32mreturn\u001b[0m \u001b[0mf\u001b[0m\u001b[0;34m(\u001b[0m\u001b[0;34m*\u001b[0m\u001b[0margs\u001b[0m\u001b[0;34m,\u001b[0m \u001b[0;34m**\u001b[0m\u001b[0mkwargs\u001b[0m\u001b[0;34m)\u001b[0m\u001b[0;34m\u001b[0m\u001b[0;34m\u001b[0m\u001b[0m\n\u001b[0m\u001b[1;32m     64\u001b[0m \u001b[0;34m\u001b[0m\u001b[0m\n\u001b[1;32m     65\u001b[0m             \u001b[0;31m# extra_args > 0\u001b[0m\u001b[0;34m\u001b[0m\u001b[0;34m\u001b[0m\u001b[0;34m\u001b[0m\u001b[0m\n",
      "\u001b[0;32m/opt/anaconda3/lib/python3.7/site-packages/sklearn/metrics/_classification.py\u001b[0m in \u001b[0;36mclassification_report\u001b[0;34m(y_true, y_pred, labels, target_names, sample_weight, digits, output_dict, zero_division)\u001b[0m\n\u001b[1;32m   1992\u001b[0m                 \u001b[0;34m\"Number of classes, {0}, does not match size of \"\u001b[0m\u001b[0;34m\u001b[0m\u001b[0;34m\u001b[0m\u001b[0m\n\u001b[1;32m   1993\u001b[0m                 \u001b[0;34m\"target_names, {1}. Try specifying the labels \"\u001b[0m\u001b[0;34m\u001b[0m\u001b[0;34m\u001b[0m\u001b[0m\n\u001b[0;32m-> 1994\u001b[0;31m                 \u001b[0;34m\"parameter\"\u001b[0m\u001b[0;34m.\u001b[0m\u001b[0mformat\u001b[0m\u001b[0;34m(\u001b[0m\u001b[0mlen\u001b[0m\u001b[0;34m(\u001b[0m\u001b[0mlabels\u001b[0m\u001b[0;34m)\u001b[0m\u001b[0;34m,\u001b[0m \u001b[0mlen\u001b[0m\u001b[0;34m(\u001b[0m\u001b[0mtarget_names\u001b[0m\u001b[0;34m)\u001b[0m\u001b[0;34m)\u001b[0m\u001b[0;34m\u001b[0m\u001b[0;34m\u001b[0m\u001b[0m\n\u001b[0m\u001b[1;32m   1995\u001b[0m             )\n\u001b[1;32m   1996\u001b[0m     \u001b[0;32mif\u001b[0m \u001b[0mtarget_names\u001b[0m \u001b[0;32mis\u001b[0m \u001b[0;32mNone\u001b[0m\u001b[0;34m:\u001b[0m\u001b[0;34m\u001b[0m\u001b[0;34m\u001b[0m\u001b[0m\n",
      "\u001b[0;31mValueError\u001b[0m: Number of classes, 3, does not match size of target_names, 2. Try specifying the labels parameter"
     ]
    }
   ],
   "metadata": {}
  },
  {
   "cell_type": "code",
   "execution_count": 213,
   "source": [
    "metrics.confusion_matrix(y_outlier, preds)\n",
    "plt.figure(figsize=(12,10))\n",
    "cm_array = metrics.confusion_matrix(y_outlier, preds)\n",
    "df_cm = pd.DataFrame(cm_array, index = class_names, columns = class_names)\n",
    "\n",
    "sns.set(font_scale=1.4) # for label size\n",
    "ax = sns.heatmap(df_cm, annot=True, annot_kws={\"size\": 16}, cmap=\"YlGnBu\")\n",
    "ax.set(xlabel='Predicted', ylabel='Actual')\n",
    "\n",
    "plt.show()"
   ],
   "outputs": [
    {
     "output_type": "error",
     "ename": "ValueError",
     "evalue": "Shape of passed values is (3, 3), indices imply (2, 2)",
     "traceback": [
      "\u001b[0;31m---------------------------------------------------------------------------\u001b[0m",
      "\u001b[0;31mValueError\u001b[0m                                Traceback (most recent call last)",
      "\u001b[0;32m/opt/anaconda3/lib/python3.7/site-packages/pandas/core/internals/managers.py\u001b[0m in \u001b[0;36mcreate_block_manager_from_blocks\u001b[0;34m(blocks, axes)\u001b[0m\n\u001b[1;32m   1675\u001b[0m                     make_block(\n\u001b[0;32m-> 1676\u001b[0;31m                         \u001b[0mvalues\u001b[0m\u001b[0;34m=\u001b[0m\u001b[0mblocks\u001b[0m\u001b[0;34m[\u001b[0m\u001b[0;36m0\u001b[0m\u001b[0;34m]\u001b[0m\u001b[0;34m,\u001b[0m \u001b[0mplacement\u001b[0m\u001b[0;34m=\u001b[0m\u001b[0mslice\u001b[0m\u001b[0;34m(\u001b[0m\u001b[0;36m0\u001b[0m\u001b[0;34m,\u001b[0m \u001b[0mlen\u001b[0m\u001b[0;34m(\u001b[0m\u001b[0maxes\u001b[0m\u001b[0;34m[\u001b[0m\u001b[0;36m0\u001b[0m\u001b[0;34m]\u001b[0m\u001b[0;34m)\u001b[0m\u001b[0;34m)\u001b[0m\u001b[0;34m,\u001b[0m \u001b[0mndim\u001b[0m\u001b[0;34m=\u001b[0m\u001b[0;36m2\u001b[0m\u001b[0;34m\u001b[0m\u001b[0;34m\u001b[0m\u001b[0m\n\u001b[0m\u001b[1;32m   1677\u001b[0m                     )\n",
      "\u001b[0;32m/opt/anaconda3/lib/python3.7/site-packages/pandas/core/internals/blocks.py\u001b[0m in \u001b[0;36mmake_block\u001b[0;34m(values, placement, klass, ndim, dtype)\u001b[0m\n\u001b[1;32m   2741\u001b[0m \u001b[0;34m\u001b[0m\u001b[0m\n\u001b[0;32m-> 2742\u001b[0;31m     \u001b[0;32mreturn\u001b[0m \u001b[0mklass\u001b[0m\u001b[0;34m(\u001b[0m\u001b[0mvalues\u001b[0m\u001b[0;34m,\u001b[0m \u001b[0mndim\u001b[0m\u001b[0;34m=\u001b[0m\u001b[0mndim\u001b[0m\u001b[0;34m,\u001b[0m \u001b[0mplacement\u001b[0m\u001b[0;34m=\u001b[0m\u001b[0mplacement\u001b[0m\u001b[0;34m)\u001b[0m\u001b[0;34m\u001b[0m\u001b[0;34m\u001b[0m\u001b[0m\n\u001b[0m\u001b[1;32m   2743\u001b[0m \u001b[0;34m\u001b[0m\u001b[0m\n",
      "\u001b[0;32m/opt/anaconda3/lib/python3.7/site-packages/pandas/core/internals/blocks.py\u001b[0m in \u001b[0;36m__init__\u001b[0;34m(self, values, placement, ndim)\u001b[0m\n\u001b[1;32m    142\u001b[0m             raise ValueError(\n\u001b[0;32m--> 143\u001b[0;31m                 \u001b[0;34mf\"Wrong number of items passed {len(self.values)}, \"\u001b[0m\u001b[0;34m\u001b[0m\u001b[0;34m\u001b[0m\u001b[0m\n\u001b[0m\u001b[1;32m    144\u001b[0m                 \u001b[0;34mf\"placement implies {len(self.mgr_locs)}\"\u001b[0m\u001b[0;34m\u001b[0m\u001b[0;34m\u001b[0m\u001b[0m\n",
      "\u001b[0;31mValueError\u001b[0m: Wrong number of items passed 3, placement implies 2",
      "\nDuring handling of the above exception, another exception occurred:\n",
      "\u001b[0;31mValueError\u001b[0m                                Traceback (most recent call last)",
      "\u001b[0;32m<ipython-input-213-fe8dc3f0cbf1>\u001b[0m in \u001b[0;36m<module>\u001b[0;34m\u001b[0m\n\u001b[1;32m      2\u001b[0m \u001b[0mplt\u001b[0m\u001b[0;34m.\u001b[0m\u001b[0mfigure\u001b[0m\u001b[0;34m(\u001b[0m\u001b[0mfigsize\u001b[0m\u001b[0;34m=\u001b[0m\u001b[0;34m(\u001b[0m\u001b[0;36m12\u001b[0m\u001b[0;34m,\u001b[0m\u001b[0;36m10\u001b[0m\u001b[0;34m)\u001b[0m\u001b[0;34m)\u001b[0m\u001b[0;34m\u001b[0m\u001b[0;34m\u001b[0m\u001b[0m\n\u001b[1;32m      3\u001b[0m \u001b[0mcm_array\u001b[0m \u001b[0;34m=\u001b[0m \u001b[0mmetrics\u001b[0m\u001b[0;34m.\u001b[0m\u001b[0mconfusion_matrix\u001b[0m\u001b[0;34m(\u001b[0m\u001b[0my_outlier\u001b[0m\u001b[0;34m,\u001b[0m \u001b[0mpreds\u001b[0m\u001b[0;34m)\u001b[0m\u001b[0;34m\u001b[0m\u001b[0;34m\u001b[0m\u001b[0m\n\u001b[0;32m----> 4\u001b[0;31m \u001b[0mdf_cm\u001b[0m \u001b[0;34m=\u001b[0m \u001b[0mpd\u001b[0m\u001b[0;34m.\u001b[0m\u001b[0mDataFrame\u001b[0m\u001b[0;34m(\u001b[0m\u001b[0mcm_array\u001b[0m\u001b[0;34m,\u001b[0m \u001b[0mindex\u001b[0m \u001b[0;34m=\u001b[0m \u001b[0mclass_names\u001b[0m\u001b[0;34m,\u001b[0m \u001b[0mcolumns\u001b[0m \u001b[0;34m=\u001b[0m \u001b[0mclass_names\u001b[0m\u001b[0;34m)\u001b[0m\u001b[0;34m\u001b[0m\u001b[0;34m\u001b[0m\u001b[0m\n\u001b[0m\u001b[1;32m      5\u001b[0m \u001b[0;34m\u001b[0m\u001b[0m\n\u001b[1;32m      6\u001b[0m \u001b[0msns\u001b[0m\u001b[0;34m.\u001b[0m\u001b[0mset\u001b[0m\u001b[0;34m(\u001b[0m\u001b[0mfont_scale\u001b[0m\u001b[0;34m=\u001b[0m\u001b[0;36m1.4\u001b[0m\u001b[0;34m)\u001b[0m \u001b[0;31m# for label size\u001b[0m\u001b[0;34m\u001b[0m\u001b[0;34m\u001b[0m\u001b[0m\n",
      "\u001b[0;32m/opt/anaconda3/lib/python3.7/site-packages/pandas/core/frame.py\u001b[0m in \u001b[0;36m__init__\u001b[0;34m(self, data, index, columns, dtype, copy)\u001b[0m\n\u001b[1;32m    556\u001b[0m                 \u001b[0mmgr\u001b[0m \u001b[0;34m=\u001b[0m \u001b[0minit_dict\u001b[0m\u001b[0;34m(\u001b[0m\u001b[0;34m{\u001b[0m\u001b[0mdata\u001b[0m\u001b[0;34m.\u001b[0m\u001b[0mname\u001b[0m\u001b[0;34m:\u001b[0m \u001b[0mdata\u001b[0m\u001b[0;34m}\u001b[0m\u001b[0;34m,\u001b[0m \u001b[0mindex\u001b[0m\u001b[0;34m,\u001b[0m \u001b[0mcolumns\u001b[0m\u001b[0;34m,\u001b[0m \u001b[0mdtype\u001b[0m\u001b[0;34m=\u001b[0m\u001b[0mdtype\u001b[0m\u001b[0;34m)\u001b[0m\u001b[0;34m\u001b[0m\u001b[0;34m\u001b[0m\u001b[0m\n\u001b[1;32m    557\u001b[0m             \u001b[0;32melse\u001b[0m\u001b[0;34m:\u001b[0m\u001b[0;34m\u001b[0m\u001b[0;34m\u001b[0m\u001b[0m\n\u001b[0;32m--> 558\u001b[0;31m                 \u001b[0mmgr\u001b[0m \u001b[0;34m=\u001b[0m \u001b[0minit_ndarray\u001b[0m\u001b[0;34m(\u001b[0m\u001b[0mdata\u001b[0m\u001b[0;34m,\u001b[0m \u001b[0mindex\u001b[0m\u001b[0;34m,\u001b[0m \u001b[0mcolumns\u001b[0m\u001b[0;34m,\u001b[0m \u001b[0mdtype\u001b[0m\u001b[0;34m=\u001b[0m\u001b[0mdtype\u001b[0m\u001b[0;34m,\u001b[0m \u001b[0mcopy\u001b[0m\u001b[0;34m=\u001b[0m\u001b[0mcopy\u001b[0m\u001b[0;34m)\u001b[0m\u001b[0;34m\u001b[0m\u001b[0;34m\u001b[0m\u001b[0m\n\u001b[0m\u001b[1;32m    559\u001b[0m \u001b[0;34m\u001b[0m\u001b[0m\n\u001b[1;32m    560\u001b[0m         \u001b[0;31m# For data is list-like, or Iterable (will consume into list)\u001b[0m\u001b[0;34m\u001b[0m\u001b[0;34m\u001b[0m\u001b[0;34m\u001b[0m\u001b[0m\n",
      "\u001b[0;32m/opt/anaconda3/lib/python3.7/site-packages/pandas/core/internals/construction.py\u001b[0m in \u001b[0;36minit_ndarray\u001b[0;34m(values, index, columns, dtype, copy)\u001b[0m\n\u001b[1;32m    236\u001b[0m         \u001b[0mblock_values\u001b[0m \u001b[0;34m=\u001b[0m \u001b[0;34m[\u001b[0m\u001b[0mvalues\u001b[0m\u001b[0;34m]\u001b[0m\u001b[0;34m\u001b[0m\u001b[0;34m\u001b[0m\u001b[0m\n\u001b[1;32m    237\u001b[0m \u001b[0;34m\u001b[0m\u001b[0m\n\u001b[0;32m--> 238\u001b[0;31m     \u001b[0;32mreturn\u001b[0m \u001b[0mcreate_block_manager_from_blocks\u001b[0m\u001b[0;34m(\u001b[0m\u001b[0mblock_values\u001b[0m\u001b[0;34m,\u001b[0m \u001b[0;34m[\u001b[0m\u001b[0mcolumns\u001b[0m\u001b[0;34m,\u001b[0m \u001b[0mindex\u001b[0m\u001b[0;34m]\u001b[0m\u001b[0;34m)\u001b[0m\u001b[0;34m\u001b[0m\u001b[0;34m\u001b[0m\u001b[0m\n\u001b[0m\u001b[1;32m    239\u001b[0m \u001b[0;34m\u001b[0m\u001b[0m\n\u001b[1;32m    240\u001b[0m \u001b[0;34m\u001b[0m\u001b[0m\n",
      "\u001b[0;32m/opt/anaconda3/lib/python3.7/site-packages/pandas/core/internals/managers.py\u001b[0m in \u001b[0;36mcreate_block_manager_from_blocks\u001b[0;34m(blocks, axes)\u001b[0m\n\u001b[1;32m   1685\u001b[0m         \u001b[0mblocks\u001b[0m \u001b[0;34m=\u001b[0m \u001b[0;34m[\u001b[0m\u001b[0mgetattr\u001b[0m\u001b[0;34m(\u001b[0m\u001b[0mb\u001b[0m\u001b[0;34m,\u001b[0m \u001b[0;34m\"values\"\u001b[0m\u001b[0;34m,\u001b[0m \u001b[0mb\u001b[0m\u001b[0;34m)\u001b[0m \u001b[0;32mfor\u001b[0m \u001b[0mb\u001b[0m \u001b[0;32min\u001b[0m \u001b[0mblocks\u001b[0m\u001b[0;34m]\u001b[0m\u001b[0;34m\u001b[0m\u001b[0;34m\u001b[0m\u001b[0m\n\u001b[1;32m   1686\u001b[0m         \u001b[0mtot_items\u001b[0m \u001b[0;34m=\u001b[0m \u001b[0msum\u001b[0m\u001b[0;34m(\u001b[0m\u001b[0mb\u001b[0m\u001b[0;34m.\u001b[0m\u001b[0mshape\u001b[0m\u001b[0;34m[\u001b[0m\u001b[0;36m0\u001b[0m\u001b[0;34m]\u001b[0m \u001b[0;32mfor\u001b[0m \u001b[0mb\u001b[0m \u001b[0;32min\u001b[0m \u001b[0mblocks\u001b[0m\u001b[0;34m)\u001b[0m\u001b[0;34m\u001b[0m\u001b[0;34m\u001b[0m\u001b[0m\n\u001b[0;32m-> 1687\u001b[0;31m         \u001b[0;32mraise\u001b[0m \u001b[0mconstruction_error\u001b[0m\u001b[0;34m(\u001b[0m\u001b[0mtot_items\u001b[0m\u001b[0;34m,\u001b[0m \u001b[0mblocks\u001b[0m\u001b[0;34m[\u001b[0m\u001b[0;36m0\u001b[0m\u001b[0;34m]\u001b[0m\u001b[0;34m.\u001b[0m\u001b[0mshape\u001b[0m\u001b[0;34m[\u001b[0m\u001b[0;36m1\u001b[0m\u001b[0;34m:\u001b[0m\u001b[0;34m]\u001b[0m\u001b[0;34m,\u001b[0m \u001b[0maxes\u001b[0m\u001b[0;34m,\u001b[0m \u001b[0me\u001b[0m\u001b[0;34m)\u001b[0m\u001b[0;34m\u001b[0m\u001b[0;34m\u001b[0m\u001b[0m\n\u001b[0m\u001b[1;32m   1688\u001b[0m \u001b[0;34m\u001b[0m\u001b[0m\n\u001b[1;32m   1689\u001b[0m \u001b[0;34m\u001b[0m\u001b[0m\n",
      "\u001b[0;31mValueError\u001b[0m: Shape of passed values is (3, 3), indices imply (2, 2)"
     ]
    },
    {
     "output_type": "display_data",
     "data": {
      "text/plain": [
       "<Figure size 864x720 with 0 Axes>"
      ]
     },
     "metadata": {}
    }
   ],
   "metadata": {}
  },
  {
   "cell_type": "code",
   "execution_count": 216,
   "source": [
    "from matplotlib import colors as plt_colors\n",
    "\n",
    "explainer = shap.TreeExplainer(booster)\n",
    "shap_values = explainer.shap_values(outlier_df[features])\n",
    "c_NT = '#E69F00'\n",
    "c_HYase = '#56B4E9'\n",
    "c_ChABC = '#009E73'\n",
    "\n",
    "colors = [c_NT, c_HYase, c_ChABC]\n",
    "class_inds = np.argsort([-np.abs(shap_values[i]).mean() for i in range(len(shap_values))])\n",
    "cmap = plt_colors.ListedColormap(np.array(colors)[class_inds])\n",
    "shap.summary_plot(shap_values, outlier_df[features], class_names=np.array(class_names), max_display=15, title='Total SHAP Values', color=cmap)"
   ],
   "outputs": [
    {
     "output_type": "error",
     "ename": "IndexError",
     "evalue": "index 2 is out of bounds for axis 0 with size 2",
     "traceback": [
      "\u001b[0;31m---------------------------------------------------------------------------\u001b[0m",
      "\u001b[0;31mIndexError\u001b[0m                                Traceback (most recent call last)",
      "\u001b[0;32m<ipython-input-216-0da1a4603559>\u001b[0m in \u001b[0;36m<module>\u001b[0;34m\u001b[0m\n\u001b[1;32m     10\u001b[0m \u001b[0mclass_inds\u001b[0m \u001b[0;34m=\u001b[0m \u001b[0mnp\u001b[0m\u001b[0;34m.\u001b[0m\u001b[0margsort\u001b[0m\u001b[0;34m(\u001b[0m\u001b[0;34m[\u001b[0m\u001b[0;34m-\u001b[0m\u001b[0mnp\u001b[0m\u001b[0;34m.\u001b[0m\u001b[0mabs\u001b[0m\u001b[0;34m(\u001b[0m\u001b[0mshap_values\u001b[0m\u001b[0;34m[\u001b[0m\u001b[0mi\u001b[0m\u001b[0;34m]\u001b[0m\u001b[0;34m)\u001b[0m\u001b[0;34m.\u001b[0m\u001b[0mmean\u001b[0m\u001b[0;34m(\u001b[0m\u001b[0;34m)\u001b[0m \u001b[0;32mfor\u001b[0m \u001b[0mi\u001b[0m \u001b[0;32min\u001b[0m \u001b[0mrange\u001b[0m\u001b[0;34m(\u001b[0m\u001b[0mlen\u001b[0m\u001b[0;34m(\u001b[0m\u001b[0mshap_values\u001b[0m\u001b[0;34m)\u001b[0m\u001b[0;34m)\u001b[0m\u001b[0;34m]\u001b[0m\u001b[0;34m)\u001b[0m\u001b[0;34m\u001b[0m\u001b[0;34m\u001b[0m\u001b[0m\n\u001b[1;32m     11\u001b[0m \u001b[0mcmap\u001b[0m \u001b[0;34m=\u001b[0m \u001b[0mplt_colors\u001b[0m\u001b[0;34m.\u001b[0m\u001b[0mListedColormap\u001b[0m\u001b[0;34m(\u001b[0m\u001b[0mnp\u001b[0m\u001b[0;34m.\u001b[0m\u001b[0marray\u001b[0m\u001b[0;34m(\u001b[0m\u001b[0mcolors\u001b[0m\u001b[0;34m)\u001b[0m\u001b[0;34m[\u001b[0m\u001b[0mclass_inds\u001b[0m\u001b[0;34m]\u001b[0m\u001b[0;34m)\u001b[0m\u001b[0;34m\u001b[0m\u001b[0;34m\u001b[0m\u001b[0m\n\u001b[0;32m---> 12\u001b[0;31m \u001b[0mshap\u001b[0m\u001b[0;34m.\u001b[0m\u001b[0msummary_plot\u001b[0m\u001b[0;34m(\u001b[0m\u001b[0mshap_values\u001b[0m\u001b[0;34m,\u001b[0m \u001b[0moutlier_df\u001b[0m\u001b[0;34m[\u001b[0m\u001b[0mfeatures\u001b[0m\u001b[0;34m]\u001b[0m\u001b[0;34m,\u001b[0m \u001b[0mclass_names\u001b[0m\u001b[0;34m=\u001b[0m\u001b[0mnp\u001b[0m\u001b[0;34m.\u001b[0m\u001b[0marray\u001b[0m\u001b[0;34m(\u001b[0m\u001b[0mclass_names\u001b[0m\u001b[0;34m)\u001b[0m\u001b[0;34m,\u001b[0m \u001b[0mmax_display\u001b[0m\u001b[0;34m=\u001b[0m\u001b[0;36m15\u001b[0m\u001b[0;34m,\u001b[0m \u001b[0mtitle\u001b[0m\u001b[0;34m=\u001b[0m\u001b[0;34m'Total SHAP Values'\u001b[0m\u001b[0;34m,\u001b[0m \u001b[0mcolor\u001b[0m\u001b[0;34m=\u001b[0m\u001b[0mcmap\u001b[0m\u001b[0;34m)\u001b[0m\u001b[0;34m\u001b[0m\u001b[0;34m\u001b[0m\u001b[0m\n\u001b[0m",
      "\u001b[0;32m/opt/anaconda3/lib/python3.7/site-packages/shap/plots/_beeswarm.py\u001b[0m in \u001b[0;36msummary_legacy\u001b[0;34m(shap_values, features, feature_names, max_display, plot_type, color, axis_color, title, alpha, show, sort, color_bar, plot_size, layered_violin_max_num_bins, class_names, class_inds, color_bar_label, cmap, auto_size_plot, use_log_scale)\u001b[0m\n\u001b[1;32m    849\u001b[0m             pl.barh(\n\u001b[1;32m    850\u001b[0m                 \u001b[0my_pos\u001b[0m\u001b[0;34m,\u001b[0m \u001b[0mglobal_shap_values\u001b[0m\u001b[0;34m[\u001b[0m\u001b[0mfeature_inds\u001b[0m\u001b[0;34m]\u001b[0m\u001b[0;34m,\u001b[0m \u001b[0;36m0.7\u001b[0m\u001b[0;34m,\u001b[0m \u001b[0mleft\u001b[0m\u001b[0;34m=\u001b[0m\u001b[0mleft_pos\u001b[0m\u001b[0;34m,\u001b[0m \u001b[0malign\u001b[0m\u001b[0;34m=\u001b[0m\u001b[0;34m'center'\u001b[0m\u001b[0;34m,\u001b[0m\u001b[0;34m\u001b[0m\u001b[0;34m\u001b[0m\u001b[0m\n\u001b[0;32m--> 851\u001b[0;31m                 \u001b[0mcolor\u001b[0m\u001b[0;34m=\u001b[0m\u001b[0mcolor\u001b[0m\u001b[0;34m(\u001b[0m\u001b[0mi\u001b[0m\u001b[0;34m)\u001b[0m\u001b[0;34m,\u001b[0m \u001b[0mlabel\u001b[0m\u001b[0;34m=\u001b[0m\u001b[0mclass_names\u001b[0m\u001b[0;34m[\u001b[0m\u001b[0mind\u001b[0m\u001b[0;34m]\u001b[0m\u001b[0;34m\u001b[0m\u001b[0;34m\u001b[0m\u001b[0m\n\u001b[0m\u001b[1;32m    852\u001b[0m             )\n\u001b[1;32m    853\u001b[0m             \u001b[0mleft_pos\u001b[0m \u001b[0;34m+=\u001b[0m \u001b[0mglobal_shap_values\u001b[0m\u001b[0;34m[\u001b[0m\u001b[0mfeature_inds\u001b[0m\u001b[0;34m]\u001b[0m\u001b[0;34m\u001b[0m\u001b[0;34m\u001b[0m\u001b[0m\n",
      "\u001b[0;31mIndexError\u001b[0m: index 2 is out of bounds for axis 0 with size 2"
     ]
    },
    {
     "output_type": "display_data",
     "data": {
      "image/png": "[encoded data removed]",
      "text/plain": [
       "<Figure size 576x540 with 1 Axes>"
      ]
     },
     "metadata": {}
    }
   ],
   "metadata": {}
  },
  {
   "cell_type": "code",
   "execution_count": 219,
   "source": [
    "perr_alph = []\n",
    "perr_dcoef = []\n",
    "\n",
    "for i in range(len(age_msd_filelist)):\n",
    "\n",
    "    \n",
    "    msd_df = pd.read_csv(age_msd_path + age_msd_filelist[i])\n",
    "    trackids = msd_df['Track_ID'].unique()\n",
    "    partcount = trackids.shape[0]\n",
    "    for particle in range(0, partcount):\n",
    "\n",
    "        single_track_masked = msd_df.loc[msd_df['Track_ID'] == trackids[particle]].sort_values(['Track_ID', 'Frame'], ascending=[1,1]).reset_index(drop=True)\n",
    "        single_track = unmask_track(single_track_masked)\n",
    "        xpos = single_track['MSDs']\n",
    "        ypos = single_track['Frame']\n",
    "\n",
    "        def msd_alpha(xpos, alph, dcoef):\n",
    "                return 4*dcoef*(xpos**alph)\n",
    "\n",
    "        try:\n",
    "            popt, pcov = curve_fit(msd_alpha, xpos, ypos)\n",
    "            alph = popt[0]\n",
    "            dcoef = popt[1]\n",
    "            perr = np.sqrt(np.diag(pcov))\n",
    "            perr_alph.append(perr[0])\n",
    "            perr_dcoef.append(perr[1])\n",
    "        except RuntimeError:\n",
    "            print('Optimal parameters not found. Print NaN instead.')\n",
    "            alph = np.nan\n",
    "            dcoef = np.nan\n",
    "        "
   ],
   "outputs": [
    {
     "output_type": "stream",
     "name": "stderr",
     "text": [
      "Covariance of the parameters could not be estimated\n",
      "Covariance of the parameters could not be estimated\n",
      "invalid value encountered in sqrt\n",
      "Covariance of the parameters could not be estimated\n",
      "Covariance of the parameters could not be estimated\n",
      "Covariance of the parameters could not be estimated\n",
      "Covariance of the parameters could not be estimated\n",
      "Covariance of the parameters could not be estimated\n",
      "Covariance of the parameters could not be estimated\n",
      "Covariance of the parameters could not be estimated\n",
      "Covariance of the parameters could not be estimated\n",
      "Covariance of the parameters could not be estimated\n",
      "Covariance of the parameters could not be estimated\n",
      "Covariance of the parameters could not be estimated\n",
      "Covariance of the parameters could not be estimated\n",
      "Covariance of the parameters could not be estimated\n",
      "Covariance of the parameters could not be estimated\n",
      "Covariance of the parameters could not be estimated\n",
      "Covariance of the parameters could not be estimated\n",
      "Covariance of the parameters could not be estimated\n",
      "Covariance of the parameters could not be estimated\n",
      "Covariance of the parameters could not be estimated\n",
      "Covariance of the parameters could not be estimated\n",
      "Covariance of the parameters could not be estimated\n",
      "Covariance of the parameters could not be estimated\n",
      "Covariance of the parameters could not be estimated\n",
      "Covariance of the parameters could not be estimated\n",
      "Covariance of the parameters could not be estimated\n",
      "Covariance of the parameters could not be estimated\n",
      "Covariance of the parameters could not be estimated\n",
      "Covariance of the parameters could not be estimated\n",
      "Covariance of the parameters could not be estimated\n",
      "Covariance of the parameters could not be estimated\n",
      "Covariance of the parameters could not be estimated\n",
      "Covariance of the parameters could not be estimated\n",
      "Covariance of the parameters could not be estimated\n",
      "Covariance of the parameters could not be estimated\n",
      "Covariance of the parameters could not be estimated\n",
      "Covariance of the parameters could not be estimated\n",
      "Covariance of the parameters could not be estimated\n",
      "Covariance of the parameters could not be estimated\n",
      "Covariance of the parameters could not be estimated\n",
      "Covariance of the parameters could not be estimated\n",
      "Covariance of the parameters could not be estimated\n",
      "Covariance of the parameters could not be estimated\n",
      "Covariance of the parameters could not be estimated\n",
      "Covariance of the parameters could not be estimated\n",
      "Covariance of the parameters could not be estimated\n",
      "Covariance of the parameters could not be estimated\n",
      "Covariance of the parameters could not be estimated\n",
      "Covariance of the parameters could not be estimated\n",
      "Covariance of the parameters could not be estimated\n",
      "Covariance of the parameters could not be estimated\n",
      "Covariance of the parameters could not be estimated\n",
      "Covariance of the parameters could not be estimated\n",
      "Covariance of the parameters could not be estimated\n",
      "Covariance of the parameters could not be estimated\n",
      "Covariance of the parameters could not be estimated\n",
      "Covariance of the parameters could not be estimated\n",
      "Covariance of the parameters could not be estimated\n"
     ]
    }
   ],
   "metadata": {}
  },
  {
   "cell_type": "code",
   "execution_count": 231,
   "source": [
    "perr_alph_arr.min()"
   ],
   "outputs": [
    {
     "output_type": "execute_result",
     "data": {
      "text/plain": [
       "nan"
      ]
     },
     "metadata": {},
     "execution_count": 231
    }
   ],
   "metadata": {}
  },
  {
   "cell_type": "code",
   "execution_count": 230,
   "source": [
    "perr_alph_arr = np.array(perr_alph)\n",
    "perr_alph_arr = perr_alph_arr[perr_alph_arr != np.inf]\n",
    "perr_alph_arr = perr_alph_arr[perr_alph_arr != np.nan]\n",
    "\n",
    "plt.hist(perr_alph_arr)"
   ],
   "outputs": [
    {
     "output_type": "stream",
     "name": "stderr",
     "text": [
      "invalid value encountered in greater_equal\n",
      "invalid value encountered in less_equal\n"
     ]
    },
    {
     "output_type": "execute_result",
     "data": {
      "text/plain": [
       "(array([6.5957e+04, 0.0000e+00, 0.0000e+00, 0.0000e+00, 0.0000e+00,\n",
       "        0.0000e+00, 0.0000e+00, 0.0000e+00, 0.0000e+00, 1.0000e+00]),\n",
       " array([5.34315942e-04, 9.62092885e+05, 1.92418577e+06, 2.88627865e+06,\n",
       "        3.84837154e+06, 4.81046442e+06, 5.77255731e+06, 6.73465019e+06,\n",
       "        7.69674307e+06, 8.65883596e+06, 9.62092884e+06]),\n",
       " <BarContainer object of 10 artists>)"
      ]
     },
     "metadata": {},
     "execution_count": 230
    },
    {
     "output_type": "display_data",
     "data": {
      "image/png": "[encoded data removed]",
      "text/plain": [
       "<Figure size 432x288 with 1 Axes>"
      ]
     },
     "metadata": {}
    }
   ],
   "metadata": {}
  },
  {
   "cell_type": "code",
   "execution_count": 221,
   "source": [
    "perr_dcoef_arr = np.array(perr_dcoef)\n",
    "perr_dcoef_arr = perr_dcoef_arr[perr_dcoef_arr != np.inf]\n",
    "plt.hist(perr_dcoef_arr)"
   ],
   "outputs": [
    {
     "output_type": "execute_result",
     "data": {
      "text/plain": [
       "(array([6.5957e+04, 0.0000e+00, 0.0000e+00, 0.0000e+00, 0.0000e+00,\n",
       "        0.0000e+00, 0.0000e+00, 0.0000e+00, 0.0000e+00, 1.0000e+00]),\n",
       " array([7.55166985e-09, 3.38748841e+06, 6.77497683e+06, 1.01624652e+07,\n",
       "        1.35499537e+07, 1.69374421e+07, 2.03249305e+07, 2.37124189e+07,\n",
       "        2.70999073e+07, 3.04873957e+07, 3.38748841e+07]),\n",
       " <BarContainer object of 10 artists>)"
      ]
     },
     "metadata": {},
     "execution_count": 221
    },
    {
     "output_type": "display_data",
     "data": {
      "image/png": "[encoded data removed]",
      "text/plain": [
       "<Figure size 432x288 with 1 Axes>"
      ]
     },
     "metadata": {}
    }
   ],
   "metadata": {}
  }
 ],
 "metadata": {
  "orig_nbformat": 4,
  "language_info": {
   "name": "python",
   "version": "3.7.7",
   "mimetype": "text/x-python",
   "codemirror_mode": {
    "name": "ipython",
    "version": 3
   },
   "pygments_lexer": "ipython3",
   "nbconvert_exporter": "python",
   "file_extension": ".py"
  },
  "kernelspec": {
   "name": "python3",
   "display_name": "Python 3.7.7 64-bit ('base': conda)"
  },
  "interpreter": {
   "hash": "dca0ade3e726a953b501b15e8e990130d2b7799f14cfd9f4271676035ebe5511"
  }
 },
 "nbformat": 4,
 "nbformat_minor": 2
}