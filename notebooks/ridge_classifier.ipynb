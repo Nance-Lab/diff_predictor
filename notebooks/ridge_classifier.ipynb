{
 "cells": [
  {
   "cell_type": "code",
   "execution_count": 1,
   "metadata": {},
   "outputs": [
    {
     "name": "stdout",
     "output_type": "stream",
     "text": [
      "Using current directory for loading/saving: \u001b[34m\u001b[1m/mnt/batch/tasks/shared/LS_root/mounts/clusters/nance8core/code/Users/nlsschim/diff_predictor/notebooks\u001b[0m\n",
      "To change current directory, call change_dir(...)\n"
     ]
    }
   ],
   "source": [
    "# libraries used\n",
    "import boto3\n",
    "import pandas as pd\n",
    "import seaborn as sns\n",
    "import numpy as np\n",
    "import matplotlib.pyplot as plt\n",
    "from os import listdir, getcwd, chdir\n",
    "from os.path import isfile, join\n",
    "import os\n",
    "from diff_predictor import core, data_process, predxgboost, spatial\n",
    "\n",
    "#from diff_predictor import spatial\n",
    "from matplotlib import colors as plt_colors\n",
    "\n",
    "#import altair as alt\n",
    "from mpl_toolkits.mplot3d import Axes3D\n",
    "\n",
    "from sklearn.model_selection import train_test_split\n",
    "from sklearn import metrics\n",
    "from sklearn.metrics import classification_report\n",
    "\n",
    "from sklearn import preprocessing\n",
    "\n",
    "from sklearn.linear_model import RidgeClassifier\n",
    "\n",
    "from group_lasso import GroupLasso, LogisticGroupLasso\n",
    "import shap"
   ]
  },
  {
   "cell_type": "code",
   "execution_count": 2,
   "metadata": {},
   "outputs": [
    {
     "name": "stdout",
     "output_type": "stream",
     "text": [
      "Current Notebook Dir: /mnt/batch/tasks/shared/LS_root/mounts/clusters/nance8core/code/Users/nlsschim/diff_predictor/notebooks\n",
      "Using current directory for loading data: /mnt/batch/tasks/shared/LS_root/mounts/clusters/nance8core/code/Users/nlsschim/diff_predictor\n"
     ]
    }
   ],
   "source": [
    "workbookDir = getcwd()\n",
    "print('Current Notebook Dir: ' + workbookDir)\n",
    "chdir(workbookDir) # Go to current workbook Dir\n",
    "chdir('..')        # Go up one\n",
    "print(f'Using current directory for loading data: {getcwd()}')\n",
    "workbookDir = getcwd()"
   ]
  },
  {
   "cell_type": "code",
   "execution_count": 28,
   "metadata": {},
   "outputs": [
    {
     "name": "stdout",
     "output_type": "stream",
     "text": [
      "180\n"
     ]
    }
   ],
   "source": [
    "dataset_path = workbookDir + '/data/features_ecm/'\n",
    "#msd_path = workbookDir + '/nlsschim/raw_data_pnn/'\n",
    "filelist = [f for f in listdir(dataset_path) if isfile(join(dataset_path, f)) and 'feat' in f]\n",
    "#msd_filelist = [f for f in listdir(msd_path) if isfile(join(msd_path, f)) and 'msd' in f]\n",
    "#print(len(msd_filelist))\n",
    "print(len(filelist))"
   ]
  },
  {
   "cell_type": "code",
   "execution_count": 29,
   "metadata": {},
   "outputs": [
    {
     "name": "stdout",
     "output_type": "stream",
     "text": [
      "ChABC\n",
      "Adding file features_ChABC_brain_1_slice_1_vid_1.csv size: (502, 67)\n",
      "NT\n",
      "ChABC\n",
      "Adding file features_ChABC_brain_1_slice_1_vid_2.csv size: (1734, 67)\n",
      "NT\n",
      "ChABC\n",
      "Adding file features_ChABC_brain_1_slice_1_vid_3.csv size: (593, 67)\n",
      "NT\n",
      "ChABC\n",
      "Adding file features_ChABC_brain_1_slice_1_vid_4.csv size: (258, 67)\n",
      "NT\n",
      "ChABC\n",
      "Adding file features_ChABC_brain_1_slice_1_vid_5.csv size: (888, 67)\n",
      "NT\n",
      "ChABC\n",
      "Adding file features_ChABC_brain_1_slice_2_vid_1.csv size: (1350, 67)\n",
      "NT\n",
      "ChABC\n",
      "Adding file features_ChABC_brain_1_slice_2_vid_2.csv size: (690, 67)\n",
      "NT\n",
      "ChABC\n",
      "Adding file features_ChABC_brain_1_slice_2_vid_3.csv size: (1257, 67)\n",
      "NT\n",
      "ChABC\n",
      "Adding file features_ChABC_brain_1_slice_2_vid_4.csv size: (1070, 67)\n",
      "NT\n",
      "ChABC\n",
      "Adding file features_ChABC_brain_1_slice_2_vid_5.csv size: (1097, 67)\n",
      "NT\n",
      "ChABC\n",
      "Adding file features_ChABC_brain_1_slice_3_vid_1.csv size: (1141, 67)\n",
      "NT\n",
      "ChABC\n",
      "Adding file features_ChABC_brain_1_slice_3_vid_2.csv size: (1307, 67)\n",
      "NT\n",
      "ChABC\n",
      "Adding file features_ChABC_brain_1_slice_3_vid_3.csv size: (650, 67)\n",
      "NT\n",
      "ChABC\n",
      "Adding file features_ChABC_brain_1_slice_3_vid_4.csv size: (1594, 67)\n",
      "NT\n",
      "ChABC\n",
      "Adding file features_ChABC_brain_1_slice_3_vid_5.csv size: (1212, 67)\n",
      "NT\n",
      "ChABC\n",
      "Adding file features_ChABC_brain_2_slice_1_vid_1.csv size: (1133, 67)\n",
      "NT\n",
      "ChABC\n",
      "Adding file features_ChABC_brain_2_slice_1_vid_2.csv size: (2291, 67)\n",
      "NT\n",
      "ChABC\n",
      "Adding file features_ChABC_brain_2_slice_1_vid_3.csv size: (1543, 67)\n",
      "NT\n",
      "ChABC\n",
      "Adding file features_ChABC_brain_2_slice_1_vid_4.csv size: (952, 67)\n",
      "NT\n",
      "ChABC\n",
      "Adding file features_ChABC_brain_2_slice_1_vid_5.csv size: (2342, 67)\n",
      "NT\n",
      "ChABC\n",
      "Adding file features_ChABC_brain_2_slice_2_vid_1.csv size: (1788, 67)\n",
      "NT\n",
      "ChABC\n",
      "Adding file features_ChABC_brain_2_slice_2_vid_2.csv size: (714, 67)\n",
      "NT\n",
      "ChABC\n",
      "Adding file features_ChABC_brain_2_slice_2_vid_3.csv size: (1336, 67)\n",
      "NT\n",
      "ChABC\n",
      "Adding file features_ChABC_brain_2_slice_2_vid_4.csv size: (1244, 67)\n",
      "NT\n",
      "ChABC\n",
      "Adding file features_ChABC_brain_2_slice_2_vid_5.csv size: (645, 67)\n",
      "NT\n",
      "ChABC\n",
      "Adding file features_ChABC_brain_2_slice_3_vid_1.csv size: (786, 67)\n",
      "NT\n",
      "ChABC\n",
      "Adding file features_ChABC_brain_2_slice_3_vid_2.csv size: (410, 67)\n",
      "NT\n",
      "ChABC\n",
      "Adding file features_ChABC_brain_2_slice_3_vid_3.csv size: (556, 67)\n",
      "NT\n",
      "ChABC\n",
      "Adding file features_ChABC_brain_2_slice_3_vid_4.csv size: (450, 67)\n",
      "NT\n",
      "ChABC\n",
      "Adding file features_ChABC_brain_2_slice_3_vid_5.csv size: (437, 67)\n",
      "NT\n",
      "ChABC\n",
      "Adding file features_ChABC_brain_3_slice_1_vid_1.csv size: (1225, 67)\n",
      "NT\n",
      "ChABC\n",
      "Adding file features_ChABC_brain_3_slice_1_vid_2.csv size: (925, 67)\n",
      "NT\n",
      "ChABC\n",
      "Adding file features_ChABC_brain_3_slice_1_vid_3.csv size: (1080, 67)\n",
      "NT\n",
      "ChABC\n",
      "Adding file features_ChABC_brain_3_slice_1_vid_4.csv size: (714, 67)\n",
      "NT\n",
      "ChABC\n",
      "Adding file features_ChABC_brain_3_slice_1_vid_5.csv size: (1065, 67)\n",
      "NT\n",
      "ChABC\n",
      "Adding file features_ChABC_brain_3_slice_2_vid_1.csv size: (994, 67)\n",
      "NT\n",
      "ChABC\n",
      "Adding file features_ChABC_brain_3_slice_2_vid_2.csv size: (636, 67)\n",
      "NT\n",
      "ChABC\n",
      "Adding file features_ChABC_brain_3_slice_2_vid_3.csv size: (1285, 67)\n",
      "NT\n",
      "ChABC\n",
      "Adding file features_ChABC_brain_3_slice_2_vid_4.csv size: (1240, 67)\n",
      "NT\n",
      "ChABC\n",
      "Adding file features_ChABC_brain_3_slice_2_vid_5.csv size: (2084, 67)\n",
      "NT\n",
      "ChABC\n",
      "Adding file features_ChABC_brain_3_slice_3_vid_1.csv size: (494, 67)\n",
      "NT\n",
      "ChABC\n",
      "Adding file features_ChABC_brain_3_slice_3_vid_2.csv size: (597, 67)\n",
      "NT\n",
      "ChABC\n",
      "Adding file features_ChABC_brain_3_slice_3_vid_3.csv size: (919, 67)\n",
      "NT\n",
      "ChABC\n",
      "Adding file features_ChABC_brain_3_slice_3_vid_4.csv size: (381, 67)\n",
      "NT\n",
      "ChABC\n",
      "Adding file features_ChABC_brain_3_slice_3_vid_5.csv size: (364, 67)\n",
      "NT\n",
      "ChABC\n",
      "Adding file features_ChABC_brain_4_slice_1_vid_1.csv size: (1625, 67)\n",
      "NT\n",
      "ChABC\n",
      "Adding file features_ChABC_brain_4_slice_1_vid_2.csv size: (1315, 67)\n",
      "NT\n",
      "ChABC\n",
      "Adding file features_ChABC_brain_4_slice_1_vid_3.csv size: (2688, 67)\n",
      "NT\n",
      "ChABC\n",
      "Adding file features_ChABC_brain_4_slice_1_vid_4.csv size: (2452, 67)\n",
      "NT\n",
      "ChABC\n",
      "Adding file features_ChABC_brain_4_slice_1_vid_5.csv size: (773, 67)\n",
      "NT\n",
      "ChABC\n",
      "Adding file features_ChABC_brain_4_slice_2_vid_1.csv size: (501, 67)\n",
      "NT\n",
      "ChABC\n",
      "Adding file features_ChABC_brain_4_slice_2_vid_2.csv size: (908, 67)\n",
      "NT\n",
      "ChABC\n",
      "Adding file features_ChABC_brain_4_slice_2_vid_3.csv size: (1052, 67)\n",
      "NT\n",
      "ChABC\n",
      "Adding file features_ChABC_brain_4_slice_2_vid_4.csv size: (1016, 67)\n",
      "NT\n",
      "ChABC\n",
      "Adding file features_ChABC_brain_4_slice_2_vid_5.csv size: (861, 67)\n",
      "NT\n",
      "ChABC\n",
      "Adding file features_ChABC_brain_4_slice_3_vid_1.csv size: (2099, 67)\n",
      "NT\n",
      "ChABC\n",
      "Adding file features_ChABC_brain_4_slice_3_vid_2.csv size: (4602, 67)\n",
      "NT\n",
      "ChABC\n",
      "Adding file features_ChABC_brain_4_slice_3_vid_3.csv size: (2091, 67)\n",
      "NT\n",
      "ChABC\n",
      "Adding file features_ChABC_brain_4_slice_3_vid_4.csv size: (2689, 67)\n",
      "NT\n",
      "ChABC\n",
      "Adding file features_ChABC_brain_4_slice_3_vid_5.csv size: (1966, 67)\n",
      "NT\n",
      "ChABC\n",
      "NT\n",
      "ChABC\n",
      "NT\n",
      "ChABC\n",
      "NT\n",
      "ChABC\n",
      "NT\n",
      "ChABC\n",
      "NT\n",
      "ChABC\n",
      "NT\n",
      "ChABC\n",
      "NT\n",
      "ChABC\n",
      "NT\n",
      "ChABC\n",
      "NT\n",
      "ChABC\n",
      "NT\n",
      "ChABC\n",
      "NT\n",
      "ChABC\n",
      "NT\n",
      "ChABC\n",
      "NT\n",
      "ChABC\n",
      "NT\n",
      "ChABC\n",
      "NT\n",
      "ChABC\n",
      "NT\n",
      "ChABC\n",
      "NT\n",
      "ChABC\n",
      "NT\n",
      "ChABC\n",
      "NT\n",
      "ChABC\n",
      "NT\n",
      "ChABC\n",
      "NT\n",
      "ChABC\n",
      "NT\n",
      "ChABC\n",
      "NT\n",
      "ChABC\n",
      "NT\n",
      "ChABC\n",
      "NT\n",
      "ChABC\n",
      "NT\n",
      "ChABC\n",
      "NT\n",
      "ChABC\n",
      "NT\n",
      "ChABC\n",
      "NT\n",
      "ChABC\n",
      "NT\n",
      "ChABC\n",
      "NT\n",
      "ChABC\n",
      "NT\n",
      "ChABC\n",
      "NT\n",
      "ChABC\n",
      "NT\n",
      "ChABC\n",
      "NT\n",
      "ChABC\n",
      "NT\n",
      "ChABC\n",
      "NT\n",
      "ChABC\n",
      "NT\n",
      "ChABC\n",
      "NT\n",
      "ChABC\n",
      "NT\n",
      "ChABC\n",
      "NT\n",
      "ChABC\n",
      "NT\n",
      "ChABC\n",
      "NT\n",
      "ChABC\n",
      "NT\n",
      "ChABC\n",
      "NT\n",
      "ChABC\n",
      "NT\n",
      "ChABC\n",
      "NT\n",
      "ChABC\n",
      "NT\n",
      "ChABC\n",
      "NT\n",
      "ChABC\n",
      "NT\n",
      "ChABC\n",
      "NT\n",
      "ChABC\n",
      "NT\n",
      "ChABC\n",
      "NT\n",
      "ChABC\n",
      "NT\n",
      "ChABC\n",
      "NT\n",
      "ChABC\n",
      "NT\n",
      "ChABC\n",
      "NT\n",
      "ChABC\n",
      "NT\n",
      "ChABC\n",
      "NT\n",
      "ChABC\n",
      "NT\n",
      "ChABC\n",
      "NT\n",
      "Adding file features_NT_brain_1_slice_1_vid_1.csv size: (1161, 67)\n",
      "ChABC\n",
      "NT\n",
      "Adding file features_NT_brain_1_slice_1_vid_2.csv size: (1479, 67)\n",
      "ChABC\n",
      "NT\n",
      "Adding file features_NT_brain_1_slice_1_vid_3.csv size: (1560, 67)\n",
      "ChABC\n",
      "NT\n",
      "Adding file features_NT_brain_1_slice_1_vid_4.csv size: (1524, 67)\n",
      "ChABC\n",
      "NT\n",
      "Adding file features_NT_brain_1_slice_1_vid_5.csv size: (674, 67)\n",
      "ChABC\n",
      "NT\n",
      "Adding file features_NT_brain_1_slice_2_vid_1.csv size: (1173, 67)\n",
      "ChABC\n",
      "NT\n",
      "Adding file features_NT_brain_1_slice_2_vid_2.csv size: (1476, 67)\n",
      "ChABC\n",
      "NT\n",
      "Adding file features_NT_brain_1_slice_2_vid_3.csv size: (1443, 67)\n",
      "ChABC\n",
      "NT\n",
      "Adding file features_NT_brain_1_slice_2_vid_4.csv size: (797, 67)\n",
      "ChABC\n",
      "NT\n",
      "Adding file features_NT_brain_1_slice_2_vid_5.csv size: (1146, 67)\n",
      "ChABC\n",
      "NT\n",
      "Adding file features_NT_brain_1_slice_3_vid_1.csv size: (1372, 67)\n",
      "ChABC\n",
      "NT\n",
      "Adding file features_NT_brain_1_slice_3_vid_2.csv size: (668, 67)\n",
      "ChABC\n",
      "NT\n",
      "Adding file features_NT_brain_1_slice_3_vid_3.csv size: (724, 67)\n",
      "ChABC\n",
      "NT\n",
      "Adding file features_NT_brain_1_slice_3_vid_4.csv size: (1446, 67)\n",
      "ChABC\n",
      "NT\n",
      "Adding file features_NT_brain_1_slice_3_vid_5.csv size: (1009, 67)\n",
      "ChABC\n",
      "NT\n",
      "Adding file features_NT_brain_2_slice_1_vid_1.csv size: (416, 67)\n",
      "ChABC\n",
      "NT\n",
      "Adding file features_NT_brain_2_slice_1_vid_2.csv size: (833, 67)\n",
      "ChABC\n",
      "NT\n",
      "Adding file features_NT_brain_2_slice_1_vid_3.csv size: (1017, 67)\n",
      "ChABC\n",
      "NT\n",
      "Adding file features_NT_brain_2_slice_1_vid_4.csv size: (878, 67)\n",
      "ChABC\n",
      "NT\n",
      "Adding file features_NT_brain_2_slice_1_vid_5.csv size: (467, 67)\n",
      "ChABC\n",
      "NT\n",
      "Adding file features_NT_brain_2_slice_2_vid_1.csv size: (2488, 67)\n",
      "ChABC\n",
      "NT\n",
      "Adding file features_NT_brain_2_slice_2_vid_2.csv size: (2322, 67)\n",
      "ChABC\n",
      "NT\n",
      "Adding file features_NT_brain_2_slice_2_vid_3.csv size: (1735, 67)\n",
      "ChABC\n",
      "NT\n",
      "Adding file features_NT_brain_2_slice_2_vid_4.csv size: (1650, 67)\n",
      "ChABC\n",
      "NT\n",
      "Adding file features_NT_brain_2_slice_2_vid_5.csv size: (2100, 67)\n",
      "ChABC\n",
      "NT\n",
      "Adding file features_NT_brain_2_slice_3_vid_1.csv size: (562, 67)\n",
      "ChABC\n",
      "NT\n",
      "Adding file features_NT_brain_2_slice_3_vid_2.csv size: (853, 67)\n",
      "ChABC\n",
      "NT\n",
      "Adding file features_NT_brain_2_slice_3_vid_3.csv size: (817, 67)\n",
      "ChABC\n",
      "NT\n",
      "Adding file features_NT_brain_2_slice_3_vid_4.csv size: (598, 67)\n",
      "ChABC\n",
      "NT\n",
      "Adding file features_NT_brain_2_slice_3_vid_5.csv size: (1062, 67)\n",
      "ChABC\n",
      "NT\n",
      "Adding file features_NT_brain_3_slice_1_vid_1.csv size: (2917, 67)\n",
      "ChABC\n",
      "NT\n",
      "Adding file features_NT_brain_3_slice_1_vid_2.csv size: (2268, 67)\n",
      "ChABC\n",
      "NT\n",
      "Adding file features_NT_brain_3_slice_1_vid_3.csv size: (3859, 67)\n",
      "ChABC\n",
      "NT\n",
      "Adding file features_NT_brain_3_slice_1_vid_4.csv size: (3271, 67)\n",
      "ChABC\n",
      "NT\n",
      "Adding file features_NT_brain_3_slice_1_vid_5.csv size: (3054, 67)\n",
      "ChABC\n",
      "NT\n",
      "Adding file features_NT_brain_3_slice_2_vid_1.csv size: (840, 67)\n",
      "ChABC\n",
      "NT\n",
      "Adding file features_NT_brain_3_slice_2_vid_2.csv size: (572, 67)\n",
      "ChABC\n",
      "NT\n",
      "Adding file features_NT_brain_3_slice_2_vid_3.csv size: (886, 67)\n",
      "ChABC\n",
      "NT\n",
      "Adding file features_NT_brain_3_slice_2_vid_4.csv size: (364, 67)\n",
      "ChABC\n",
      "NT\n",
      "Adding file features_NT_brain_3_slice_2_vid_5.csv size: (893, 67)\n",
      "ChABC\n",
      "NT\n",
      "Adding file features_NT_brain_3_slice_3_vid_1.csv size: (596, 67)\n"
     ]
    },
    {
     "name": "stdout",
     "output_type": "stream",
     "text": [
      "ChABC\n",
      "NT\n",
      "Adding file features_NT_brain_3_slice_3_vid_2.csv size: (378, 67)\n",
      "ChABC\n",
      "NT\n",
      "Adding file features_NT_brain_3_slice_3_vid_3.csv size: (434, 67)\n",
      "ChABC\n",
      "NT\n",
      "Adding file features_NT_brain_3_slice_3_vid_4.csv size: (515, 67)\n",
      "ChABC\n",
      "NT\n",
      "Adding file features_NT_brain_3_slice_3_vid_5.csv size: (493, 67)\n",
      "ChABC\n",
      "NT\n",
      "Adding file features_NT_brain_4_slice_1_vid_1.csv size: (780, 67)\n",
      "ChABC\n",
      "NT\n",
      "Adding file features_NT_brain_4_slice_1_vid_2.csv size: (648, 67)\n",
      "ChABC\n",
      "NT\n",
      "Adding file features_NT_brain_4_slice_1_vid_3.csv size: (294, 67)\n",
      "ChABC\n",
      "NT\n",
      "Adding file features_NT_brain_4_slice_1_vid_4.csv size: (526, 67)\n",
      "ChABC\n",
      "NT\n",
      "Adding file features_NT_brain_4_slice_1_vid_5.csv size: (624, 67)\n",
      "ChABC\n",
      "NT\n",
      "Adding file features_NT_brain_4_slice_2_vid_1.csv size: (381, 67)\n",
      "ChABC\n",
      "NT\n",
      "Adding file features_NT_brain_4_slice_2_vid_2.csv size: (1195, 67)\n",
      "ChABC\n",
      "NT\n",
      "Adding file features_NT_brain_4_slice_2_vid_3.csv size: (432, 67)\n",
      "ChABC\n",
      "NT\n",
      "Adding file features_NT_brain_4_slice_2_vid_4.csv size: (700, 67)\n",
      "ChABC\n",
      "NT\n",
      "Adding file features_NT_brain_4_slice_2_vid_5.csv size: (732, 67)\n",
      "ChABC\n",
      "NT\n",
      "Adding file features_NT_brain_4_slice_3_vid_1.csv size: (678, 67)\n",
      "ChABC\n",
      "NT\n",
      "Adding file features_NT_brain_4_slice_3_vid_2.csv size: (374, 67)\n",
      "ChABC\n",
      "NT\n",
      "Adding file features_NT_brain_4_slice_3_vid_3.csv size: (1706, 67)\n",
      "ChABC\n",
      "NT\n",
      "Adding file features_NT_brain_4_slice_3_vid_4.csv size: (2106, 67)\n",
      "ChABC\n",
      "NT\n",
      "Adding file features_NT_brain_4_slice_3_vid_5.csv size: (1876, 67)\n"
     ]
    }
   ],
   "source": [
    "fstats_tot = data_process.generate_fullstats(dataset_path, filelist, ['ChABC', 'NT'], 'Treatment')"
   ]
  },
  {
   "cell_type": "code",
   "execution_count": 34,
   "metadata": {},
   "outputs": [],
   "source": [
    "# The column Deff2 currently has a super high number (~97%) of null values, so might be worth not including\n",
    "# As such, it is commented out below\n",
    "columns = [\n",
    "    'alpha', # Fitted anomalous diffusion alpha exponenet\n",
    "    'D_fit', # Fitted anomalous diffusion coefficient\n",
    "    'kurtosis', # Kurtosis of track\n",
    "    'asymmetry1', # Asymmetry of trajecory (0 for circular symmetric, 1 for linear)\n",
    "    'asymmetry2', # Ratio of the smaller to larger principal radius of gyration\n",
    "    'asymmetry3', # An asymmetric feature that accnts for non-cylindrically symmetric pt distributions\n",
    "    'AR', # Aspect ratio of long and short side of trajectory's minimum bounding rectangle\n",
    "    'elongation', # Est. of amount of extension of trajectory from centroid\n",
    "    'boundedness', # How much a particle with Deff is restricted by a circular confinement of radius r\n",
    "    'fractal_dim', # Measure of how complicated a self similar figure is\n",
    "    'trappedness', # Probability that a particle with Deff is trapped in a region\n",
    "    'efficiency', # Ratio of squared net displacement to the sum of squared step lengths\n",
    "    'straightness', # Ratio of net displacement to the sum of squared step lengths\n",
    "    'MSD_ratio', # MSD ratio of the track\n",
    "    #'frames', # Number of frames the track spans\n",
    "    'Deff1', # Effective diffusion coefficient at 0.33 s\n",
    "#     'Deff2', # Effective diffusion coefficient at 3.3 s\n",
    "    'Mean alpha',\n",
    "    'Mean D_fit',\n",
    "    'Mean kurtosis',\n",
    "    'Mean asymmetry1',\n",
    "    'Mean asymmetry2',\n",
    "    'Mean asymmetry3',\n",
    "    'Mean AR',\n",
    "    'Mean elongation',\n",
    "    'Mean boundedness',\n",
    "    'Mean fractal_dim',\n",
    "    'Mean trappedness',\n",
    "    'Mean efficiency',\n",
    "    'Mean straightness',\n",
    "    'Mean MSD_ratio',\n",
    "    'Mean Deff1',\n",
    "    'Mean Deff2',\n",
    "    'X',\n",
    "    'Y',\n",
    "    'Treatment'\n",
    "]\n",
    "\n",
    "target = 'Treatment'\n",
    "\n",
    "ecm = fstats_tot[columns]#.drop(['Deff2', 'Mean Deff2', 'Std Deff2'], axis=1) # Removing since 97% is null\n",
    "#ecm['Treatment'] = fstats_tot['Treatment'].values\n",
    "ecm = ecm[~ecm.isin([np.nan, np.inf, -np.inf]).any(1)] # removes rows with nan or inf points"
   ]
  },
  {
   "cell_type": "code",
   "execution_count": 35,
   "metadata": {},
   "outputs": [
    {
     "data": {
      "text/plain": [
       "(32150, 34)"
      ]
     },
     "execution_count": 35,
     "metadata": {},
     "output_type": "execute_result"
    }
   ],
   "source": [
    "ecm.shape"
   ]
  },
  {
   "cell_type": "code",
   "execution_count": 36,
   "metadata": {},
   "outputs": [
    {
     "name": "stdout",
     "output_type": "stream",
     "text": [
      "Ratio before data balance (ChABC:NT) = 11507:20643\n",
      "Ratio after balance (ChABC:NT) = 11507:11507\n"
     ]
    }
   ],
   "source": [
    "bal_ecm = data_process.balance_data(ecm, target, random_state=1)\n",
    "bal_ecm = data_process.bin_data(bal_ecm, resolution=128)"
   ]
  },
  {
   "cell_type": "code",
   "execution_count": 37,
   "metadata": {},
   "outputs": [],
   "source": [
    "label_df = bal_ecm['Treatment']\n",
    "features_df = bal_ecm.drop(['Treatment', 'X', 'Y', 'binx', 'biny', 'bins'], axis=1)\n",
    "features = features_df.columns"
   ]
  },
  {
   "cell_type": "code",
   "execution_count": 38,
   "metadata": {},
   "outputs": [
    {
     "data": {
      "text/plain": [
       "Index(['alpha', 'D_fit', 'kurtosis', 'asymmetry1', 'asymmetry2', 'asymmetry3',\n",
       "       'AR', 'elongation', 'boundedness', 'fractal_dim', 'trappedness',\n",
       "       'efficiency', 'straightness', 'MSD_ratio', 'Deff1', 'Mean alpha',\n",
       "       'Mean D_fit', 'Mean kurtosis', 'Mean asymmetry1', 'Mean asymmetry2',\n",
       "       'Mean asymmetry3', 'Mean AR', 'Mean elongation', 'Mean boundedness',\n",
       "       'Mean fractal_dim', 'Mean trappedness', 'Mean efficiency',\n",
       "       'Mean straightness', 'Mean MSD_ratio', 'Mean Deff1', 'Mean Deff2'],\n",
       "      dtype='object')"
      ]
     },
     "execution_count": 38,
     "metadata": {},
     "output_type": "execute_result"
    }
   ],
   "source": [
    "features"
   ]
  },
  {
   "cell_type": "code",
   "execution_count": 39,
   "metadata": {},
   "outputs": [],
   "source": [
    "# Regular split\n",
    "\n",
    "seed = 1234\n",
    "np.random.seed(seed)\n",
    "train_split = 0.8\n",
    "test_split = 0.5\n",
    "\n",
    "le = preprocessing.LabelEncoder()\n",
    "bal_ecm['encoded_target'] = le.fit_transform(bal_ecm[target])\n",
    "\n",
    "training_bins = np.random.choice(bal_ecm.bins.unique(), int(len(bal_ecm.bins.unique())*train_split), replace=False)\n",
    "\n",
    "X_train = bal_ecm[bal_ecm.bins.isin(training_bins)]\n",
    "X_test_val = bal_ecm[~bal_ecm.bins.isin(training_bins)]\n",
    "#X_val, X_test = train_test_split(X_test_val, test_size=test_split, random_state=seed)\n",
    "\n",
    "y_train = X_train['encoded_target']\n",
    "y_test = X_test_val['encoded_target']\n",
    "#y_val = X_val['encoded_target']\n",
    "#\n",
    "# dtrain = X_train[features]\n",
    "# dtest = X_test[features]\n",
    "# dval = X_val[features]\n",
    "\n"
   ]
  },
  {
   "cell_type": "code",
   "execution_count": 40,
   "metadata": {},
   "outputs": [],
   "source": [
    "X = X_train[features]\n",
    "y = y_train"
   ]
  },
  {
   "cell_type": "code",
   "execution_count": 41,
   "metadata": {},
   "outputs": [
    {
     "data": {
      "text/plain": [
       "0.6791941947362721"
      ]
     },
     "execution_count": 41,
     "metadata": {},
     "output_type": "execute_result"
    }
   ],
   "source": [
    "clf = RidgeClassifier(normalize=True).fit(X_train[features], y_train)\n",
    "clf.score(X_train[features], y_train)"
   ]
  },
  {
   "cell_type": "code",
   "execution_count": 42,
   "metadata": {},
   "outputs": [
    {
     "data": {
      "text/plain": [
       "0.6726033421284081"
      ]
     },
     "execution_count": 42,
     "metadata": {},
     "output_type": "execute_result"
    }
   ],
   "source": [
    "clf.score(X_test_val[features], y_test)"
   ]
  },
  {
   "cell_type": "code",
   "execution_count": 23,
   "metadata": {},
   "outputs": [
    {
     "data": {
      "text/plain": [
       "{'alpha': 1.0,\n",
       " 'class_weight': None,\n",
       " 'copy_X': True,\n",
       " 'fit_intercept': True,\n",
       " 'max_iter': None,\n",
       " 'normalize': True,\n",
       " 'random_state': None,\n",
       " 'solver': 'auto',\n",
       " 'tol': 0.001}"
      ]
     },
     "execution_count": 23,
     "metadata": {},
     "output_type": "execute_result"
    }
   ],
   "source": [
    "clf.get_params()"
   ]
  },
  {
   "cell_type": "code",
   "execution_count": 26,
   "metadata": {},
   "outputs": [
    {
     "data": {
      "text/plain": [
       "(102537,)"
      ]
     },
     "execution_count": 26,
     "metadata": {},
     "output_type": "execute_result"
    }
   ],
   "source": [
    "y.shape"
   ]
  },
  {
   "cell_type": "code",
   "execution_count": 55,
   "metadata": {},
   "outputs": [
    {
     "ename": "AttributeError",
     "evalue": "'list' object has no attribute 'shape'",
     "output_type": "error",
     "traceback": [
      "\u001b[0;31m---------------------------------------------------------------------------\u001b[0m",
      "\u001b[0;31mAttributeError\u001b[0m                            Traceback (most recent call last)",
      "\u001b[0;32m<ipython-input-55-11e12b12d50d>\u001b[0m in \u001b[0;36m<module>\u001b[0;34m\u001b[0m\n\u001b[0;32m----> 1\u001b[0;31m \u001b[0mclf_coefs\u001b[0m\u001b[0;34m.\u001b[0m\u001b[0mshape\u001b[0m\u001b[0;34m\u001b[0m\u001b[0;34m\u001b[0m\u001b[0m\n\u001b[0m",
      "\u001b[0;31mAttributeError\u001b[0m: 'list' object has no attribute 'shape'"
     ]
    }
   ],
   "source": []
  },
  {
   "cell_type": "code",
   "execution_count": 27,
   "metadata": {},
   "outputs": [
    {
     "name": "stderr",
     "output_type": "stream",
     "text": [
      "Ill-conditioned matrix (rcond=6.19853e-35): result may not be accurate.\n",
      "Ill-conditioned matrix (rcond=6.19858e-35): result may not be accurate.\n",
      "Ill-conditioned matrix (rcond=6.19864e-35): result may not be accurate.\n",
      "Ill-conditioned matrix (rcond=6.19871e-35): result may not be accurate.\n",
      "Ill-conditioned matrix (rcond=6.1988e-35): result may not be accurate.\n",
      "Ill-conditioned matrix (rcond=6.19891e-35): result may not be accurate.\n",
      "Ill-conditioned matrix (rcond=6.19905e-35): result may not be accurate.\n",
      "Ill-conditioned matrix (rcond=6.19923e-35): result may not be accurate.\n",
      "Ill-conditioned matrix (rcond=6.19946e-35): result may not be accurate.\n",
      "Ill-conditioned matrix (rcond=6.19975e-35): result may not be accurate.\n",
      "Ill-conditioned matrix (rcond=6.20011e-35): result may not be accurate.\n",
      "Ill-conditioned matrix (rcond=6.20056e-35): result may not be accurate.\n",
      "Ill-conditioned matrix (rcond=6.20114e-35): result may not be accurate.\n",
      "Ill-conditioned matrix (rcond=6.20187e-35): result may not be accurate.\n",
      "Ill-conditioned matrix (rcond=6.20278e-35): result may not be accurate.\n",
      "Ill-conditioned matrix (rcond=6.20394e-35): result may not be accurate.\n",
      "Ill-conditioned matrix (rcond=6.2054e-35): result may not be accurate.\n",
      "Ill-conditioned matrix (rcond=6.20724e-35): result may not be accurate.\n",
      "Ill-conditioned matrix (rcond=6.20957e-35): result may not be accurate.\n",
      "Ill-conditioned matrix (rcond=6.2125e-35): result may not be accurate.\n",
      "Ill-conditioned matrix (rcond=6.2162e-35): result may not be accurate.\n",
      "Ill-conditioned matrix (rcond=6.22087e-35): result may not be accurate.\n",
      "Ill-conditioned matrix (rcond=6.22676e-35): result may not be accurate.\n",
      "Ill-conditioned matrix (rcond=6.2342e-35): result may not be accurate.\n",
      "Ill-conditioned matrix (rcond=6.24359e-35): result may not be accurate.\n",
      "Ill-conditioned matrix (rcond=6.25543e-35): result may not be accurate.\n",
      "Ill-conditioned matrix (rcond=6.27037e-35): result may not be accurate.\n",
      "Ill-conditioned matrix (rcond=6.28922e-35): result may not be accurate.\n",
      "Ill-conditioned matrix (rcond=6.31302e-35): result may not be accurate.\n",
      "Ill-conditioned matrix (rcond=6.34304e-35): result may not be accurate.\n",
      "Ill-conditioned matrix (rcond=6.38093e-35): result may not be accurate.\n",
      "Ill-conditioned matrix (rcond=6.42874e-35): result may not be accurate.\n",
      "Ill-conditioned matrix (rcond=6.48906e-35): result may not be accurate.\n",
      "Ill-conditioned matrix (rcond=6.56519e-35): result may not be accurate.\n",
      "Ill-conditioned matrix (rcond=6.66126e-35): result may not be accurate.\n",
      "Ill-conditioned matrix (rcond=6.78248e-35): result may not be accurate.\n",
      "Ill-conditioned matrix (rcond=6.93546e-35): result may not be accurate.\n",
      "Ill-conditioned matrix (rcond=7.12851e-35): result may not be accurate.\n",
      "Ill-conditioned matrix (rcond=7.37214e-35): result may not be accurate.\n",
      "Ill-conditioned matrix (rcond=7.6796e-35): result may not be accurate.\n",
      "Ill-conditioned matrix (rcond=8.06762e-35): result may not be accurate.\n",
      "Ill-conditioned matrix (rcond=8.55734e-35): result may not be accurate.\n",
      "Ill-conditioned matrix (rcond=9.17544e-35): result may not be accurate.\n",
      "Ill-conditioned matrix (rcond=9.95563e-35): result may not be accurate.\n",
      "Ill-conditioned matrix (rcond=1.09405e-34): result may not be accurate.\n",
      "Ill-conditioned matrix (rcond=1.21838e-34): result may not be accurate.\n",
      "Ill-conditioned matrix (rcond=1.37536e-34): result may not be accurate.\n",
      "Ill-conditioned matrix (rcond=1.57359e-34): result may not be accurate.\n",
      "Ill-conditioned matrix (rcond=1.82396e-34): result may not be accurate.\n",
      "Ill-conditioned matrix (rcond=2.14026e-34): result may not be accurate.\n",
      "Ill-conditioned matrix (rcond=2.53995e-34): result may not be accurate.\n",
      "Ill-conditioned matrix (rcond=3.04521e-34): result may not be accurate.\n",
      "Ill-conditioned matrix (rcond=3.6842e-34): result may not be accurate.\n",
      "Ill-conditioned matrix (rcond=4.49273e-34): result may not be accurate.\n",
      "Ill-conditioned matrix (rcond=5.51643e-34): result may not be accurate.\n",
      "Ill-conditioned matrix (rcond=6.81355e-34): result may not be accurate.\n",
      "Ill-conditioned matrix (rcond=8.45858e-34): result may not be accurate.\n",
      "Ill-conditioned matrix (rcond=1.0547e-33): result may not be accurate.\n",
      "Ill-conditioned matrix (rcond=1.3198e-33): result may not be accurate.\n",
      "Ill-conditioned matrix (rcond=1.65624e-33): result may not be accurate.\n",
      "Ill-conditioned matrix (rcond=2.08466e-33): result may not be accurate.\n",
      "Ill-conditioned matrix (rcond=2.63111e-33): result may not be accurate.\n",
      "Ill-conditioned matrix (rcond=3.32935e-33): result may not be accurate.\n",
      "Ill-conditioned matrix (rcond=4.22307e-33): result may not be accurate.\n",
      "Ill-conditioned matrix (rcond=5.36889e-33): result may not be accurate.\n",
      "Ill-conditioned matrix (rcond=6.83989e-33): result may not be accurate.\n",
      "Ill-conditioned matrix (rcond=8.73003e-33): result may not be accurate.\n",
      "Ill-conditioned matrix (rcond=1.11595e-32): result may not be accurate.\n",
      "Ill-conditioned matrix (rcond=1.42713e-32): result may not be accurate.\n",
      "Ill-conditioned matrix (rcond=1.82391e-32): result may not be accurate.\n",
      "Ill-conditioned matrix (rcond=2.33105e-32): result may not be accurate.\n",
      "Ill-conditioned matrix (rcond=2.97829e-32): result may not be accurate.\n",
      "Ill-conditioned matrix (rcond=3.80312e-32): result may not be accurate.\n",
      "Ill-conditioned matrix (rcond=4.85268e-32): result may not be accurate.\n",
      "Ill-conditioned matrix (rcond=5.80722e-32): result may not be accurate.\n",
      "Ill-conditioned matrix (rcond=7.15393e-32): result may not be accurate.\n",
      "Ill-conditioned matrix (rcond=8.87086e-32): result may not be accurate.\n",
      "Ill-conditioned matrix (rcond=1.10693e-31): result may not be accurate.\n",
      "Ill-conditioned matrix (rcond=1.38955e-31): result may not be accurate.\n",
      "Ill-conditioned matrix (rcond=1.75414e-31): result may not be accurate.\n",
      "Ill-conditioned matrix (rcond=2.22588e-31): result may not be accurate.\n",
      "Ill-conditioned matrix (rcond=2.83768e-31): result may not be accurate.\n",
      "Ill-conditioned matrix (rcond=3.63217e-31): result may not be accurate.\n",
      "Ill-conditioned matrix (rcond=4.66429e-31): result may not be accurate.\n",
      "Ill-conditioned matrix (rcond=6.00408e-31): result may not be accurate.\n",
      "Ill-conditioned matrix (rcond=7.74005e-31): result may not be accurate.\n",
      "Ill-conditioned matrix (rcond=9.98322e-31): result may not be accurate.\n",
      "Ill-conditioned matrix (rcond=1.28721e-30): result may not be accurate.\n",
      "Ill-conditioned matrix (rcond=1.65634e-30): result may not be accurate.\n",
      "Ill-conditioned matrix (rcond=2.12892e-30): result may not be accurate.\n",
      "Ill-conditioned matrix (rcond=2.73323e-30): result may not be accurate.\n",
      "Ill-conditioned matrix (rcond=3.50393e-30): result may not be accurate.\n",
      "Ill-conditioned matrix (rcond=3.55216e-30): result may not be accurate.\n",
      "Ill-conditioned matrix (rcond=4.52573e-30): result may not be accurate.\n",
      "Ill-conditioned matrix (rcond=5.77348e-30): result may not be accurate.\n",
      "Ill-conditioned matrix (rcond=8.46917e-30): result may not be accurate.\n",
      "Ill-conditioned matrix (rcond=1.08044e-29): result may not be accurate.\n",
      "Ill-conditioned matrix (rcond=1.45069e-29): result may not be accurate.\n",
      "Ill-conditioned matrix (rcond=1.84233e-29): result may not be accurate.\n",
      "Ill-conditioned matrix (rcond=2.3398e-29): result may not be accurate.\n"
     ]
    },
    {
     "data": {
      "image/png": "[encoded data removed]",
      "text/plain": [
       "<Figure size 432x288 with 1 Axes>"
      ]
     },
     "metadata": {
      "needs_background": "light"
     },
     "output_type": "display_data"
    }
   ],
   "source": [
    "n_alphas = 100\n",
    "alphas = np.logspace(-5, 5, n_alphas)\n",
    "\n",
    "clf_coefs = []\n",
    "for a in alphas:\n",
    "    clf = RidgeClassifier(alpha=a, fit_intercept=False, normalize=True)\n",
    "    clf.fit(X_train[features], y_train)\n",
    "    clf_coefs.append(clf.coef_[0])\n",
    "\n",
    "# #############################################################################\n",
    "# Display results\n",
    "\n",
    "ax = plt.gca()\n",
    "\n",
    "\n",
    "ax.plot(alphas, clf_coefs)\n",
    "ax.set_xscale('log')\n",
    "ax.set_xlim(ax.get_xlim()[::-1])  # reverse axis\n",
    "plt.xlabel('alpha')\n",
    "plt.ylabel('weights')\n",
    "plt.title('Ridge coefficients as a function of the regularization')\n",
    "plt.axis('tight')\n",
    "plt.show()"
   ]
  },
  {
   "cell_type": "code",
   "execution_count": 32,
   "metadata": {},
   "outputs": [
    {
     "name": "stdout",
     "output_type": "stream",
     "text": [
      "Automatically created module for IPython interactive environment\n",
      "(10,)\n",
      "(10,)\n",
      "(10,)\n",
      "(10,)\n",
      "(10,)\n",
      "(10,)\n",
      "(10,)\n",
      "(10,)\n",
      "(10,)\n",
      "(10,)\n",
      "(10,)\n",
      "(10,)\n",
      "(10,)\n",
      "(10,)\n",
      "(10,)\n",
      "(10,)\n",
      "(10,)\n",
      "(10,)\n",
      "(10,)\n",
      "(10,)\n",
      "(10,)\n",
      "(10,)\n",
      "(10,)\n",
      "(10,)\n",
      "(10,)\n",
      "(10,)\n",
      "(10,)\n",
      "(10,)\n",
      "(10,)\n",
      "(10,)\n",
      "(10,)\n",
      "(10,)\n",
      "(10,)\n",
      "(10,)\n",
      "(10,)\n",
      "(10,)\n",
      "(10,)\n",
      "(10,)\n",
      "(10,)\n",
      "(10,)\n",
      "(10,)\n",
      "(10,)\n",
      "(10,)\n",
      "(10,)\n",
      "(10,)\n",
      "(10,)\n",
      "(10,)\n",
      "(10,)\n",
      "(10,)\n",
      "(10,)\n",
      "(10,)\n",
      "(10,)\n",
      "(10,)\n",
      "(10,)\n",
      "(10,)\n",
      "(10,)\n",
      "(10,)\n",
      "(10,)\n",
      "(10,)\n",
      "(10,)\n",
      "(10,)\n",
      "(10,)\n",
      "(10,)\n",
      "(10,)\n",
      "(10,)\n",
      "(10,)\n",
      "(10,)\n",
      "(10,)\n",
      "(10,)\n",
      "(10,)\n",
      "(10,)\n",
      "(10,)\n",
      "(10,)\n",
      "(10,)\n",
      "(10,)\n",
      "(10,)\n",
      "(10,)\n",
      "(10,)\n",
      "(10,)\n",
      "(10,)\n",
      "(10,)\n",
      "(10,)\n",
      "(10,)\n",
      "(10,)\n",
      "(10,)\n",
      "(10,)\n",
      "(10,)\n",
      "(10,)\n",
      "(10,)\n",
      "(10,)\n",
      "(10,)\n",
      "(10,)\n",
      "(10,)\n",
      "(10,)\n",
      "(10,)\n",
      "(10,)\n",
      "(10,)\n",
      "(10,)\n",
      "(10,)\n",
      "(10,)\n",
      "(10,)\n",
      "(10,)\n",
      "(10,)\n",
      "(10,)\n",
      "(10,)\n",
      "(10,)\n",
      "(10,)\n",
      "(10,)\n",
      "(10,)\n",
      "(10,)\n",
      "(10,)\n",
      "(10,)\n",
      "(10,)\n",
      "(10,)\n",
      "(10,)\n",
      "(10,)\n",
      "(10,)\n",
      "(10,)\n",
      "(10,)\n",
      "(10,)\n",
      "(10,)\n",
      "(10,)\n",
      "(10,)\n",
      "(10,)\n",
      "(10,)\n",
      "(10,)\n",
      "(10,)\n",
      "(10,)\n",
      "(10,)\n",
      "(10,)\n",
      "(10,)\n",
      "(10,)\n",
      "(10,)\n",
      "(10,)\n",
      "(10,)\n",
      "(10,)\n",
      "(10,)\n",
      "(10,)\n",
      "(10,)\n",
      "(10,)\n",
      "(10,)\n",
      "(10,)\n",
      "(10,)\n",
      "(10,)\n",
      "(10,)\n",
      "(10,)\n",
      "(10,)\n",
      "(10,)\n",
      "(10,)\n",
      "(10,)\n",
      "(10,)\n",
      "(10,)\n",
      "(10,)\n",
      "(10,)\n",
      "(10,)\n",
      "(10,)\n",
      "(10,)\n",
      "(10,)\n",
      "(10,)\n",
      "(10,)\n",
      "(10,)\n",
      "(10,)\n",
      "(10,)\n",
      "(10,)\n",
      "(10,)\n",
      "(10,)\n",
      "(10,)\n",
      "(10,)\n",
      "(10,)\n",
      "(10,)\n",
      "(10,)\n",
      "(10,)\n",
      "(10,)\n",
      "(10,)\n",
      "(10,)\n",
      "(10,)\n",
      "(10,)\n",
      "(10,)\n",
      "(10,)\n",
      "(10,)\n",
      "(10,)\n",
      "(10,)\n",
      "(10,)\n",
      "(10,)\n",
      "(10,)\n",
      "(10,)\n",
      "(10,)\n",
      "(10,)\n",
      "(10,)\n",
      "(10,)\n",
      "(10,)\n",
      "(10,)\n",
      "(10,)\n",
      "(10,)\n",
      "(10,)\n",
      "(10,)\n",
      "(10,)\n",
      "(10,)\n",
      "(10,)\n",
      "(10,)\n"
     ]
    },
    {
     "data": {
      "image/png": "[encoded data removed]",
      "text/plain": [
       "<Figure size 432x288 with 1 Axes>"
      ]
     },
     "metadata": {
      "needs_background": "light"
     },
     "output_type": "display_data"
    }
   ],
   "source": [
    "# Author: Fabian Pedregosa -- <fabian.pedregosa@inria.fr>\n",
    "# License: BSD 3 clause\n",
    "\n",
    "print(__doc__)\n",
    "\n",
    "import numpy as np\n",
    "import matplotlib.pyplot as plt\n",
    "from sklearn import linear_model\n",
    "\n",
    "# X is the 10x10 Hilbert matrix\n",
    "X = 1. / (np.arange(1, 11) + np.arange(0, 10)[:, np.newaxis])\n",
    "y = np.ones(10)\n",
    "\n",
    "# #############################################################################\n",
    "# Compute paths\n",
    "\n",
    "n_alphas = 200\n",
    "alphas = np.logspace(-10, -2, n_alphas)\n",
    "\n",
    "coefs = []\n",
    "for a in alphas:\n",
    "    ridge = linear_model.Ridge(alpha=a, fit_intercept=False)\n",
    "    ridge.fit(X, y)\n",
    "    coefs.append(ridge.coef_)\n",
    "    print(ridge.coef_.shape)\n",
    "\n",
    "# #############################################################################\n",
    "# Display results\n",
    "\n",
    "ax = plt.gca()\n",
    "\n",
    "ax.plot(alphas, coefs)\n",
    "ax.set_xscale('log')\n",
    "ax.set_xlim(ax.get_xlim()[::-1])  # reverse axis\n",
    "plt.xlabel('alpha')\n",
    "plt.ylabel('weights')\n",
    "plt.title('Ridge coefficients as a function of the regularization')\n",
    "plt.axis('tight')\n",
    "plt.show()"
   ]
  },
  {
   "cell_type": "markdown",
   "metadata": {},
   "source": [
    "Implemnting Group Lasso"
   ]
  },
  {
   "cell_type": "code",
   "execution_count": 24,
   "metadata": {},
   "outputs": [],
   "source": [
    "GroupLasso.LOG_LOSSES = True"
   ]
  },
  {
   "cell_type": "code",
   "execution_count": 43,
   "metadata": {
    "scrolled": true
   },
   "outputs": [
    {
     "data": {
      "text/plain": [
       "Index(['alpha', 'D_fit', 'kurtosis', 'asymmetry1', 'asymmetry2', 'asymmetry3',\n",
       "       'AR', 'elongation', 'boundedness', 'fractal_dim', 'trappedness',\n",
       "       'efficiency', 'straightness', 'MSD_ratio', 'Deff1', 'Mean alpha',\n",
       "       'Mean D_fit', 'Mean kurtosis', 'Mean asymmetry1', 'Mean asymmetry2',\n",
       "       'Mean asymmetry3', 'Mean AR', 'Mean elongation', 'Mean boundedness',\n",
       "       'Mean fractal_dim', 'Mean trappedness', 'Mean efficiency',\n",
       "       'Mean straightness', 'Mean MSD_ratio', 'Mean Deff1', 'Mean Deff2'],\n",
       "      dtype='object')"
      ]
     },
     "execution_count": 43,
     "metadata": {},
     "output_type": "execute_result"
    }
   ],
   "source": [
    "features"
   ]
  },
  {
   "cell_type": "markdown",
   "metadata": {},
   "source": [
    "Grouping based off of PCA bi-plot\n",
    "- Todo: add image of biplot"
   ]
  },
  {
   "cell_type": "code",
   "execution_count": 128,
   "metadata": {},
   "outputs": [],
   "source": [
    "feat_groups = {\n",
    "    'alpha': 4, \n",
    "    'D_fit': 3, \n",
    "    'kurtosis': 2, \n",
    "    'asymmetry1': 1, \n",
    "    'asymmetry2': 3, \n",
    "    'asymmetry3': 1,\n",
    "    'AR': 2, \n",
    "    'elongation': 1, \n",
    "    'boundedness': 3, \n",
    "    'fractal_dim': 2, \n",
    "    'trappedness': 3,\n",
    "    'efficiency': 4, \n",
    "    'straightness': 4, \n",
    "    'MSD_ratio': 2, \n",
    "    'Deff1': 4, \n",
    "    'Mean alpha': 4,\n",
    "    'Mean D_fit': 4, \n",
    "    'Mean kurtosis': 2, \n",
    "    'Mean asymmetry1': 1, \n",
    "    'Mean asymmetry2': 3,\n",
    "    'Mean asymmetry3': 1, \n",
    "    'Mean AR': 2, \n",
    "    'Mean elongation': 1, \n",
    "    'Mean boundedness': 3,\n",
    "    'Mean fractal_dim': 2, \n",
    "    'Mean trappedness': 3, \n",
    "    'Mean efficiency': 4,\n",
    "    'Mean straightness': 4, \n",
    "    'Mean MSD_ratio': 2, \n",
    "    'Mean Deff1': 4, \n",
    "    'Mean Deff2:': 4\n",
    "    \n",
    "}\n",
    "\n"
   ]
  },
  {
   "cell_type": "code",
   "execution_count": 129,
   "metadata": {},
   "outputs": [],
   "source": [
    "groups = list(feat_groups.values())"
   ]
  },
  {
   "cell_type": "code",
   "execution_count": 78,
   "metadata": {},
   "outputs": [],
   "source": []
  },
  {
   "cell_type": "code",
   "execution_count": 79,
   "metadata": {},
   "outputs": [],
   "source": []
  },
  {
   "cell_type": "code",
   "execution_count": 17,
   "metadata": {},
   "outputs": [
    {
     "data": {
      "text/plain": [
       "33"
      ]
     },
     "execution_count": 17,
     "metadata": {},
     "output_type": "execute_result"
    }
   ],
   "source": []
  },
  {
   "cell_type": "code",
   "execution_count": 42,
   "metadata": {},
   "outputs": [],
   "source": []
  },
  {
   "cell_type": "code",
   "execution_count": 130,
   "metadata": {},
   "outputs": [
    {
     "name": "stderr",
     "output_type": "stream",
     "text": [
      "Subsampling is not stable for logistic regression group lasso.\n"
     ]
    },
    {
     "data": {
      "text/plain": [
       "LogisticGroupLasso(group_reg=10,\n",
       "                   groups=[4, 3, 2, 1, 3, 1, 2, 1, 3, 2, 3, 4, 4, 2, 4, 4, 4, 2,\n",
       "                           1, 3, 1, 2, 1, 3, 2, 3, 4, 4, 2, 4, ...],\n",
       "                   l1_reg=0, scale_reg='inverse_group_size',\n",
       "                   subsampling_scheme=1, supress_warning=True)"
      ]
     },
     "execution_count": 130,
     "metadata": {},
     "output_type": "execute_result"
    }
   ],
   "source": [
    "gl = LogisticGroupLasso(\n",
    "    groups=groups,\n",
    "    group_reg=10,\n",
    "    l1_reg=0,\n",
    "    scale_reg=\"inverse_group_size\",\n",
    "    subsampling_scheme=1,\n",
    "    supress_warning=True,\n",
    ")\n",
    "\n",
    "gl.fit(X_train[features], y_train)"
   ]
  },
  {
   "cell_type": "code",
   "execution_count": 131,
   "metadata": {},
   "outputs": [
    {
     "data": {
      "text/plain": [
       "array([False, False, False, False, False, False,  True, False, False,\n",
       "       False, False, False, False, False, False, False, False, False,\n",
       "       False, False, False,  True, False, False, False, False, False,\n",
       "       False, False, False, False])"
      ]
     },
     "execution_count": 131,
     "metadata": {},
     "output_type": "execute_result"
    }
   ],
   "source": [
    "gl.sparsity_mask_"
   ]
  },
  {
   "cell_type": "code",
   "execution_count": null,
   "metadata": {},
   "outputs": [],
   "source": []
  },
  {
   "cell_type": "code",
   "execution_count": 132,
   "metadata": {},
   "outputs": [
    {
     "data": {
      "text/plain": [
       "(4548, 1)"
      ]
     },
     "execution_count": 132,
     "metadata": {},
     "output_type": "execute_result"
    }
   ],
   "source": [
    "np.array(y_test).reshape(-1,1).shape"
   ]
  },
  {
   "cell_type": "code",
   "execution_count": 133,
   "metadata": {},
   "outputs": [
    {
     "name": "stdout",
     "output_type": "stream",
     "text": [
      "Number variables: 31\n",
      "Number of chosen variables: 2\n",
      "Accuracy: 0.5332014072119613\n"
     ]
    }
   ],
   "source": [
    "# Extract info from estimator\n",
    "pred_y = gl.predict(X_test_val[features])\n",
    "sparsity_mask = gl.sparsity_mask_\n",
    "w_hat = gl.coef_\n",
    "\n",
    "# Compute performance metrics\n",
    "accuracy = gl.score(X_test_val[features], y_test)\n",
    "\n",
    "# Print results\n",
    "print(f\"Number variables: {len(sparsity_mask)}\")\n",
    "print(f\"Number of chosen variables: {sparsity_mask.sum()}\")\n",
    "print(f\"Accuracy: {accuracy}\")"
   ]
  },
  {
   "cell_type": "code",
   "execution_count": 125,
   "metadata": {},
   "outputs": [
    {
     "data": {
      "text/plain": [
       "{2}"
      ]
     },
     "execution_count": 125,
     "metadata": {},
     "output_type": "execute_result"
    }
   ],
   "source": [
    "gl.chosen_groups_\n"
   ]
  },
  {
   "cell_type": "code",
   "execution_count": 22,
   "metadata": {},
   "outputs": [
    {
     "data": {
      "image/png": "[encoded data removed]",
      "text/plain": [
       "<Figure size 432x288 with 1 Axes>"
      ]
     },
     "metadata": {
      "needs_background": "light"
     },
     "output_type": "display_data"
    },
    {
     "data": {
      "image/png": "[encoded data removed]",
      "text/plain": [
       "<Figure size 432x288 with 1 Axes>"
      ]
     },
     "metadata": {
      "needs_background": "light"
     },
     "output_type": "display_data"
    },
    {
     "data": {
      "image/png": "[encoded data removed]",
      "text/plain": [
       "<Figure size 432x288 with 1 Axes>"
      ]
     },
     "metadata": {
      "needs_background": "light"
     },
     "output_type": "display_data"
    }
   ],
   "source": [
    "coef = gl.coef_[:, 1] - gl.coef_[:, 0]\n",
    "plt.figure()\n",
    "#plt.plot(w / np.linalg.norm(w), \".\", label=\"True weights\")\n",
    "plt.plot(\n",
    "    coef / np.linalg.norm(coef), \".\", label=\"Estimated weights\",\n",
    ")\n",
    "\n",
    "plt.figure()\n",
    "#plt.plot([w.min(), w.max()], [coef.min(), coef.max()], \"gray\")\n",
    "#plt.scatter(w, coef, s=10)\n",
    "plt.ylabel(\"Learned coefficients\")\n",
    "plt.xlabel(\"True coefficients\")\n",
    "\n",
    "plt.figure()\n",
    "plt.plot(gl.losses_)\n",
    "\n",
    "plt.show()"
   ]
  },
  {
   "cell_type": "code",
   "execution_count": 63,
   "metadata": {},
   "outputs": [
    {
     "data": {
      "text/plain": [
       "array([0, 0, 0, 0, 0, 0, 0, 0, 0, 0, 0, 0, 0, 0, 0, 1])"
      ]
     },
     "execution_count": 63,
     "metadata": {},
     "output_type": "execute_result"
    }
   ],
   "source": [
    "groups[0:16]"
   ]
  }
 ],
 "metadata": {
  "kernel_info": {
   "name": "python3-azureml"
  },
  "kernelspec": {
   "display_name": "Python 3.6 - AzureML",
   "language": "python",
   "name": "python3-azureml"
  },
  "language_info": {
   "codemirror_mode": {
    "name": "ipython",
    "version": 3
   },
   "file_extension": ".py",
   "mimetype": "text/x-python",
   "name": "python",
   "nbconvert_exporter": "python",
   "pygments_lexer": "ipython3",
   "version": "3.6.9"
  },
  "nteract": {
   "version": "nteract-front-end@1.0.0"
  }
 },
 "nbformat": 4,
 "nbformat_minor": 2
}
