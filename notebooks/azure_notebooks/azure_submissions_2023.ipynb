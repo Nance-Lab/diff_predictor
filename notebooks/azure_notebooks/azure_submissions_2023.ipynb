{
 "cells": [
  {
   "cell_type": "code",
   "execution_count": 2,
   "metadata": {},
   "outputs": [],
   "source": [
    "import numpy as np\n",
    "import os\n",
    "#import matplotlib.pyplot as plt\n",
    "from azureml.core.dataset import Dataset\n",
    "from azureml.core.datastore import Datastore\n",
    "import pandas as pd\n",
    "\n",
    "import diff_classifier\n",
    "\n",
    "import mrmr\n"
   ]
  },
  {
   "cell_type": "code",
   "execution_count": 3,
   "metadata": {},
   "outputs": [
    {
     "name": "stdout",
     "output_type": "stream",
     "text": [
      "Azure ML SDK Version:  1.49.0\n"
     ]
    }
   ],
   "source": [
    "import azureml\n",
    "from azureml.core import Workspace\n",
    "\n",
    "# check core SDK version number\n",
    "print(\"Azure ML SDK Version: \", azureml.core.VERSION)"
   ]
  },
  {
   "attachments": {},
   "cell_type": "markdown",
   "metadata": {},
   "source": [
    "### If running in the East US region, run the cell below"
   ]
  },
  {
   "cell_type": "code",
   "execution_count": 42,
   "metadata": {},
   "outputs": [],
   "source": [
    "ws = Workspace.get(\n",
    "    name='nels_east_us',\n",
    "    subscription_id='9c49afdd-cccb-44e2-a4eb-5b2f941c774c',\n",
    "    resource_group='schimek_cloud',\n",
    "    location='eastus')"
   ]
  },
  {
   "cell_type": "code",
   "execution_count": 43,
   "metadata": {},
   "outputs": [
    {
     "data": {
      "text/plain": [
       "'nels_east_us'"
      ]
     },
     "execution_count": 43,
     "metadata": {},
     "output_type": "execute_result"
    }
   ],
   "source": [
    "ws.name"
   ]
  },
  {
   "attachments": {},
   "cell_type": "markdown",
   "metadata": {},
   "source": [
    "### if running in East US 2 region, run the cell below"
   ]
  },
  {
   "cell_type": "code",
   "execution_count": 4,
   "metadata": {},
   "outputs": [],
   "source": [
    "ws = Workspace.get(\n",
    "    name='schimek_mpt_eastus2',\n",
    "    subscription_id='9c49afdd-cccb-44e2-a4eb-5b2f941c774c',\n",
    "    resource_group='schimek_cloud',\n",
    "    location='eastus2')"
   ]
  },
  {
   "attachments": {},
   "cell_type": "markdown",
   "metadata": {},
   "source": [
    "### If running in West US 2, run the cell below"
   ]
  },
  {
   "cell_type": "code",
   "execution_count": 4,
   "metadata": {},
   "outputs": [],
   "source": [
    "ws = Workspace.get(\n",
    "    name='schimek_west_us_2',\n",
    "    subscription_id='9c49afdd-cccb-44e2-a4eb-5b2f941c774c',\n",
    "    resource_group='schimek_cloud',\n",
    "    location='westus2')"
   ]
  },
  {
   "cell_type": "code",
   "execution_count": 5,
   "metadata": {},
   "outputs": [
    {
     "name": "stdout",
     "output_type": "stream",
     "text": [
      "nlsschim-gpu-cluster\n",
      "Found existing compute target\n",
      "Succeeded\n",
      "AmlCompute wait for completion finished\n",
      "\n",
      "Minimum number of nodes requested have been provisioned\n",
      "{'currentNodeCount': 0, 'targetNodeCount': 0, 'nodeStateCounts': {'preparingNodeCount': 0, 'runningNodeCount': 0, 'idleNodeCount': 0, 'unusableNodeCount': 0, 'leavingNodeCount': 0, 'preemptedNodeCount': 0}, 'allocationState': 'Steady', 'allocationStateTransitionTime': '2023-08-31T03:20:51.737000+00:00', 'errors': [{'error': {'code': 'ClusterHasWarnings', 'message': 'The specified VMSize STANDARD_NC6 has upcoming deprecation. More details can be found at: https://learn.microsoft.com/en-us/azure/virtual-machines/nc-series-retirement. Please use any of the recommended VMSizes mentioned in the link to recreate the compute.'}}], 'creationTime': '2023-05-17T20:46:49.802907+00:00', 'modifiedTime': '2023-05-18T21:23:39.816606+00:00', 'provisioningState': 'Succeeded', 'provisioningStateTransitionTime': None, 'scaleSettings': {'minNodeCount': 0, 'maxNodeCount': 1, 'nodeIdleTimeBeforeScaleDown': 'PT1800S'}, 'vmPriority': 'Dedicated', 'vmSize': 'STANDARD_NC6'}\n"
     ]
    }
   ],
   "source": [
    "from azureml.core.compute import ComputeTarget, AmlCompute\n",
    "from azureml.core.compute_target import ComputeTargetException\n",
    "\n",
    "# choose a name for your cluster\n",
    "if ws.name == 'nels_east_us':\n",
    "    cluster_name = 'schimek-gpu-cluster'\n",
    "elif ws.name == 'schimek_mpt_eastus2':\n",
    "    cluster_name = \"nlsschim-gpu-cluster\"\n",
    "elif ws.name == 'schimek_west_us_2':\n",
    "    cluster_name = \"schimek-cluster-gpu\"\n",
    "print(cluster_name)\n",
    "\n",
    "try:\n",
    "    compute_target = ComputeTarget(workspace=ws, name=cluster_name)\n",
    "    print('Found existing compute target')\n",
    "except ComputeTargetException:\n",
    "    print('Creating a new compute target...')\n",
    "    compute_config = AmlCompute.provisioning_configuration(vm_size='STANDARD_NC6', \n",
    "                                                           max_nodes=1,\n",
    "                                                           min_nodes=1)\n",
    "\n",
    "    # create the cluster\n",
    "    compute_target = ComputeTarget.create(ws, cluster_name, compute_config)\n",
    "\n",
    "# can poll for a minimum number of nodes and for a specific timeout. \n",
    "# if no min node count is provided it uses the scale settings for the cluster\n",
    "compute_target.wait_for_completion(show_output=True)\n",
    "\n",
    "# use get_status() to get a detailed status for the current cluster. \n",
    "print(compute_target.get_status().serialize())\n"
   ]
  },
  {
   "cell_type": "code",
   "execution_count": 6,
   "metadata": {},
   "outputs": [
    {
     "name": "stdout",
     "output_type": "stream",
     "text": [
      "nlsschim-gpu-cluster AmlCompute Succeeded\n"
     ]
    }
   ],
   "source": [
    "compute_targets = ws.compute_targets\n",
    "for name, ct in compute_targets.items():\n",
    "    print(name, ct.type, ct.provisioning_state)"
   ]
  },
  {
   "cell_type": "code",
   "execution_count": 7,
   "metadata": {},
   "outputs": [
    {
     "name": "stdout",
     "output_type": "stream",
     "text": [
      "Overwriting conda_dependencies.yml\n"
     ]
    }
   ],
   "source": [
    "%%writefile conda_dependencies.yml\n",
    "\n",
    "channels:\n",
    "- conda-forge\n",
    "dependencies:\n",
    "- python=3.7\n",
    "- pip=21.3.1\n",
    "- py-xgboost-gpu\n",
    "- pip:\n",
    "  - h5py<=2.10.0\n",
    "  - azureml-defaults\n",
    "  - tensorflow-gpu==2.0.0\n",
    "  - keras<=2.3.1\n",
    "  - matplotlib\n",
    "  - protobuf==3.20.1\n",
    "  - stochastic\n",
    "  - diff_classifier\n",
    "  - scikit-learn\n",
    "  - polars\n",
    "  - mrmr-selection\n",
    "  - mlflow\n",
    "  - azureml-mlflow"
   ]
  },
  {
   "cell_type": "code",
   "execution_count": 8,
   "metadata": {},
   "outputs": [],
   "source": [
    "from azureml.core import Environment\n",
    "\n",
    "keras_env = Environment.from_conda_specification(name = 'keras-2.3.1', file_path = './conda_dependencies.yml')\n",
    "\n",
    "# Specify a GPU base image\n",
    "##keras_env.docker.enabled = True\n",
    "#keras_env.docker.base_image = 'mcr.microsoft.com/azureml/openmpi4.1.0-cuda11.1-cudnn8-ubuntu20.04'"
   ]
  },
  {
   "cell_type": "code",
   "execution_count": 30,
   "metadata": {},
   "outputs": [
    {
     "data": {
      "text/plain": [
       "['/features_P14_40nm_s1_v1.csv',\n",
       " '/features_P14_40nm_s1_v2.csv',\n",
       " '/features_P14_40nm_s1_v3.csv',\n",
       " '/features_P14_40nm_s1_v4.csv',\n",
       " '/features_P14_40nm_s1_v5.csv',\n",
       " '/features_P14_40nm_s2_v1.csv',\n",
       " '/features_P14_40nm_s2_v2.csv',\n",
       " '/features_P14_40nm_s2_v3.csv',\n",
       " '/features_P14_40nm_s2_v4.csv',\n",
       " '/features_P14_40nm_s2_v5.csv',\n",
       " '/features_P14_40nm_s3_v1.csv',\n",
       " '/features_P14_40nm_s3_v2.csv',\n",
       " '/features_P14_40nm_s3_v3.csv',\n",
       " '/features_P14_40nm_s3_v4.csv',\n",
       " '/features_P14_40nm_s3_v5.csv',\n",
       " '/features_P21_40nm_s1_v1.csv',\n",
       " '/features_P21_40nm_s1_v2.csv',\n",
       " '/features_P21_40nm_s1_v3.csv',\n",
       " '/features_P21_40nm_s1_v4.csv',\n",
       " '/features_P21_40nm_s1_v5.csv',\n",
       " '/features_P21_40nm_s2_v1.csv',\n",
       " '/features_P21_40nm_s2_v2.csv',\n",
       " '/features_P21_40nm_s2_v3.csv',\n",
       " '/features_P21_40nm_s2_v4.csv',\n",
       " '/features_P21_40nm_s2_v5.csv',\n",
       " '/features_P21_40nm_s3_v1.csv',\n",
       " '/features_P21_40nm_s3_v2.csv',\n",
       " '/features_P21_40nm_s3_v3.csv',\n",
       " '/features_P21_40nm_s3_v4.csv',\n",
       " '/features_P21_40nm_s3_v5.csv',\n",
       " '/features_P28_40nm_s1_v1.csv',\n",
       " '/features_P28_40nm_s1_v2.csv',\n",
       " '/features_P28_40nm_s1_v3.csv',\n",
       " '/features_P28_40nm_s1_v4.csv',\n",
       " '/features_P28_40nm_s1_v5.csv',\n",
       " '/features_P28_40nm_s2_v1.csv',\n",
       " '/features_P28_40nm_s2_v2.csv',\n",
       " '/features_P28_40nm_s2_v3.csv',\n",
       " '/features_P28_40nm_s2_v4.csv',\n",
       " '/features_P28_40nm_s2_v5.csv',\n",
       " '/features_P28_40nm_s3_v1.csv',\n",
       " '/features_P28_40nm_s3_v2.csv',\n",
       " '/features_P28_40nm_s3_v3.csv',\n",
       " '/features_P28_40nm_s3_v4.csv',\n",
       " '/features_P28_40nm_s3_v5.csv',\n",
       " '/features_P35_brain_2_slice_1_vid_1.csv',\n",
       " '/features_P35_brain_2_slice_1_vid_2.csv',\n",
       " '/features_P35_brain_2_slice_1_vid_3.csv',\n",
       " '/features_P35_brain_2_slice_1_vid_4.csv',\n",
       " '/features_P35_brain_2_slice_1_vid_5.csv',\n",
       " '/features_P35_brain_2_slice_2_vid_1.csv',\n",
       " '/features_P35_brain_2_slice_2_vid_2.csv',\n",
       " '/features_P35_brain_2_slice_2_vid_3.csv',\n",
       " '/features_P35_brain_2_slice_2_vid_4.csv',\n",
       " '/features_P35_brain_2_slice_2_vid_5.csv',\n",
       " '/features_P35_brain_2_slice_3_vid_1.csv',\n",
       " '/features_P35_brain_2_slice_3_vid_2.csv',\n",
       " '/features_P35_brain_2_slice_3_vid_3.csv',\n",
       " '/features_P35_brain_2_slice_3_vid_4.csv',\n",
       " '/features_P35_brain_2_slice_3_vid_5.csv',\n",
       " '/features_P70_40nm_s1_v1.csv',\n",
       " '/features_P70_40nm_s1_v2.csv',\n",
       " '/features_P70_40nm_s1_v3.csv',\n",
       " '/features_P70_40nm_s1_v4.csv',\n",
       " '/features_P70_40nm_s1_v5.csv',\n",
       " '/features_P70_40nm_s2_v1.csv',\n",
       " '/features_P70_40nm_s2_v2.csv',\n",
       " '/features_P70_40nm_s2_v3.csv',\n",
       " '/features_P70_40nm_s2_v4.csv',\n",
       " '/features_P70_40nm_s2_v5.csv',\n",
       " '/features_P70_40nm_s3_v1.csv',\n",
       " '/features_P70_40nm_s3_v2.csv',\n",
       " '/features_P70_40nm_s3_v3.csv',\n",
       " '/features_P70_40nm_s3_v4.csv',\n",
       " '/features_P70_40nm_s3_v5.csv']"
      ]
     },
     "execution_count": 30,
     "metadata": {},
     "output_type": "execute_result"
    }
   ],
   "source": [
    "dataset = Dataset.get_by_name(ws, name='age_all_ages_features')\n",
    "dataset.to_path()"
   ]
  },
  {
   "cell_type": "code",
   "execution_count": null,
   "metadata": {},
   "outputs": [],
   "source": [
    "datastore = Datastore.get(ws, 'workspaceblobstore')\n",
    "file_dataset = Dataset.File.from_files(path=(datastore, 'UI/2023-04-25_212737_UTC/raw_data_age/'))\n",
    "\n"
   ]
  },
  {
   "cell_type": "code",
   "execution_count": 9,
   "metadata": {},
   "outputs": [
    {
     "data": {
      "text/plain": [
       "['/features_P14_40nm_s1_v1.csv',\n",
       " '/features_P14_40nm_s1_v2.csv',\n",
       " '/features_P14_40nm_s1_v3.csv',\n",
       " '/features_P14_40nm_s1_v4.csv',\n",
       " '/features_P14_40nm_s1_v5.csv',\n",
       " '/features_P14_40nm_s2_v1.csv',\n",
       " '/features_P14_40nm_s2_v2.csv',\n",
       " '/features_P14_40nm_s2_v3.csv',\n",
       " '/features_P14_40nm_s2_v4.csv',\n",
       " '/features_P14_40nm_s2_v5.csv',\n",
       " '/features_P14_40nm_s3_v1.csv',\n",
       " '/features_P14_40nm_s3_v2.csv',\n",
       " '/features_P14_40nm_s3_v3.csv',\n",
       " '/features_P14_40nm_s3_v4.csv',\n",
       " '/features_P14_40nm_s3_v5.csv',\n",
       " '/features_P21_40nm_s1_v1.csv',\n",
       " '/features_P21_40nm_s1_v2.csv',\n",
       " '/features_P21_40nm_s1_v3.csv',\n",
       " '/features_P21_40nm_s1_v4.csv',\n",
       " '/features_P21_40nm_s1_v5.csv',\n",
       " '/features_P21_40nm_s2_v1.csv',\n",
       " '/features_P21_40nm_s2_v2.csv',\n",
       " '/features_P21_40nm_s2_v3.csv',\n",
       " '/features_P21_40nm_s2_v4.csv',\n",
       " '/features_P21_40nm_s2_v5.csv',\n",
       " '/features_P21_40nm_s3_v1.csv',\n",
       " '/features_P21_40nm_s3_v2.csv',\n",
       " '/features_P21_40nm_s3_v3.csv',\n",
       " '/features_P21_40nm_s3_v4.csv',\n",
       " '/features_P21_40nm_s3_v5.csv',\n",
       " '/features_P28_40nm_s1_v1.csv',\n",
       " '/features_P28_40nm_s1_v2.csv',\n",
       " '/features_P28_40nm_s1_v3.csv',\n",
       " '/features_P28_40nm_s1_v4.csv',\n",
       " '/features_P28_40nm_s1_v5.csv',\n",
       " '/features_P28_40nm_s2_v1.csv',\n",
       " '/features_P28_40nm_s2_v2.csv',\n",
       " '/features_P28_40nm_s2_v3.csv',\n",
       " '/features_P28_40nm_s2_v4.csv',\n",
       " '/features_P28_40nm_s2_v5.csv',\n",
       " '/features_P28_40nm_s3_v1.csv',\n",
       " '/features_P28_40nm_s3_v2.csv',\n",
       " '/features_P28_40nm_s3_v3.csv',\n",
       " '/features_P28_40nm_s3_v4.csv',\n",
       " '/features_P28_40nm_s3_v5.csv',\n",
       " '/features_P35_brain_2_slice_1_vid_1.csv',\n",
       " '/features_P35_brain_2_slice_1_vid_2.csv',\n",
       " '/features_P35_brain_2_slice_1_vid_3.csv',\n",
       " '/features_P35_brain_2_slice_1_vid_4.csv',\n",
       " '/features_P35_brain_2_slice_1_vid_5.csv',\n",
       " '/features_P35_brain_2_slice_2_vid_1.csv',\n",
       " '/features_P35_brain_2_slice_2_vid_2.csv',\n",
       " '/features_P35_brain_2_slice_2_vid_3.csv',\n",
       " '/features_P35_brain_2_slice_2_vid_4.csv',\n",
       " '/features_P35_brain_2_slice_2_vid_5.csv',\n",
       " '/features_P35_brain_2_slice_3_vid_1.csv',\n",
       " '/features_P35_brain_2_slice_3_vid_2.csv',\n",
       " '/features_P35_brain_2_slice_3_vid_3.csv',\n",
       " '/features_P35_brain_2_slice_3_vid_4.csv',\n",
       " '/features_P35_brain_2_slice_3_vid_5.csv',\n",
       " '/features_P70_40nm_s1_v1.csv',\n",
       " '/features_P70_40nm_s1_v2.csv',\n",
       " '/features_P70_40nm_s1_v3.csv',\n",
       " '/features_P70_40nm_s1_v4.csv',\n",
       " '/features_P70_40nm_s1_v5.csv',\n",
       " '/features_P70_40nm_s2_v1.csv',\n",
       " '/features_P70_40nm_s2_v2.csv',\n",
       " '/features_P70_40nm_s2_v3.csv',\n",
       " '/features_P70_40nm_s2_v4.csv',\n",
       " '/features_P70_40nm_s2_v5.csv',\n",
       " '/features_P70_40nm_s3_v1.csv',\n",
       " '/features_P70_40nm_s3_v2.csv',\n",
       " '/features_P70_40nm_s3_v3.csv',\n",
       " '/features_P70_40nm_s3_v4.csv',\n",
       " '/features_P70_40nm_s3_v5.csv']"
      ]
     },
     "execution_count": 9,
     "metadata": {},
     "output_type": "execute_result"
    }
   ],
   "source": [
    "# Confirm the correct dataset is being used\n",
    "file_dataset.to_path()"
   ]
  },
  {
   "cell_type": "code",
   "execution_count": 10,
   "metadata": {},
   "outputs": [],
   "source": [
    "dataset = file_dataset.register(workspace = ws, name = 'age_all_ages_features', create_new_version=True)"
   ]
  },
  {
   "attachments": {},
   "cell_type": "markdown",
   "metadata": {},
   "source": []
  },
  {
   "cell_type": "code",
   "execution_count": 21,
   "metadata": {},
   "outputs": [],
   "source": [
    "from azureml.core import ScriptRunConfig\n",
    "\n",
    "#args = ['--input-data', dataset.as_named_input(\"trajectories\")]#,\n",
    "#         '--batch-size', 50,\n",
    "#         '--first-layer-neurons', 300,\n",
    "#         '--second-layer-neurons', 100,\n",
    "\n",
    "src = ScriptRunConfig(source_directory='.',\n",
    "                      script='azure_script_age.py',\n",
    "                      #arguments=args,\n",
    "                      compute_target=compute_target,\n",
    "                      environment=keras_env)"
   ]
  },
  {
   "cell_type": "code",
   "execution_count": 22,
   "metadata": {},
   "outputs": [],
   "source": [
    "from azureml.core import Experiment\n",
    "exp = Experiment(workspace=ws, name='azure_age_error_analysis')"
   ]
  },
  {
   "cell_type": "code",
   "execution_count": 23,
   "metadata": {},
   "outputs": [],
   "source": [
    "run = exp.submit(src)"
   ]
  },
  {
   "cell_type": "code",
   "execution_count": 41,
   "metadata": {},
   "outputs": [
    {
     "data": {
      "application/vnd.jupyter.widget-view+json": {
       "model_id": "8085dff1e23e4b929fe340c1d2fb120d",
       "version_major": 2,
       "version_minor": 0
      },
      "text/plain": [
       "_UserRunWidget(widget_settings={'childWidgetDisplay': 'popup', 'send_telemetry': False, 'log_level': 'INFO', '…"
      ]
     },
     "metadata": {},
     "output_type": "display_data"
    },
    {
     "data": {
      "application/aml.mini.widget.v1": "{\"loading\": true}"
     },
     "metadata": {},
     "output_type": "display_data"
    }
   ],
   "source": [
    "from azureml.widgets import RunDetails\n",
    "\n",
    "RunDetails(run).show()"
   ]
  },
  {
   "cell_type": "code",
   "execution_count": null,
   "metadata": {},
   "outputs": [],
   "source": []
  }
 ],
 "metadata": {
  "kernelspec": {
   "display_name": "azure_ml",
   "language": "python",
   "name": "python3"
  },
  "language_info": {
   "codemirror_mode": {
    "name": "ipython",
    "version": 3
   },
   "file_extension": ".py",
   "mimetype": "text/x-python",
   "name": "python",
   "nbconvert_exporter": "python",
   "pygments_lexer": "ipython3",
   "version": "3.8.16"
  },
  "orig_nbformat": 4,
  "vscode": {
   "interpreter": {
    "hash": "cbb41dc280fdc7513e4fae57a151bd09591bfae8ff15d322fab00d9441a4c99e"
   }
  }
 },
 "nbformat": 4,
 "nbformat_minor": 2
}
