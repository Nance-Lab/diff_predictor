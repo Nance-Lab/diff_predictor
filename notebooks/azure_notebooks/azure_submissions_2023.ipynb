{
 "cells": [
  {
   "cell_type": "code",
   "execution_count": 12,
   "metadata": {},
   "outputs": [],
   "source": [
    "import numpy as np\n",
    "import os\n",
    "#import matplotlib.pyplot as plt\n",
    "\n",
    "from azureml.core.dataset import Dataset\n",
    "from azureml.core.datastore import Datastore\n",
    "import pandas as pd\n",
    "\n",
    "import diff_classifier\n",
    "\n",
    "import mrmr\n"
   ]
  },
  {
   "cell_type": "code",
   "execution_count": 13,
   "metadata": {},
   "outputs": [
    {
     "name": "stdout",
     "output_type": "stream",
     "text": [
      "Azure ML SDK Version:  1.49.0\n"
     ]
    }
   ],
   "source": [
    "import azureml\n",
    "from azureml.core import Workspace\n",
    "\n",
    "# check core SDK version number\n",
    "print(\"Azure ML SDK Version: \", azureml.core.VERSION)"
   ]
  },
  {
   "attachments": {},
   "cell_type": "markdown",
   "metadata": {},
   "source": [
    "### If running in the East US region, run the cell below"
   ]
  },
  {
   "cell_type": "code",
   "execution_count": 14,
   "metadata": {},
   "outputs": [],
   "source": [
    "ws = Workspace.get(\n",
    "    name='nels_east_us',\n",
    "    subscription_id='9c49afdd-cccb-44e2-a4eb-5b2f941c774c',\n",
    "    resource_group='schimek_cloud',\n",
    "    location='eastus')"
   ]
  },
  {
   "cell_type": "code",
   "execution_count": 5,
   "metadata": {},
   "outputs": [
    {
     "data": {
      "text/plain": [
       "'schimek_mpt_eastus2'"
      ]
     },
     "execution_count": 5,
     "metadata": {},
     "output_type": "execute_result"
    }
   ],
   "source": [
    "ws.name"
   ]
  },
  {
   "attachments": {},
   "cell_type": "markdown",
   "metadata": {},
   "source": [
    "### if running in East US 2 region, run the cell below"
   ]
  },
  {
   "cell_type": "code",
   "execution_count": 3,
   "metadata": {},
   "outputs": [],
   "source": [
    "ws = Workspace.get(\n",
    "    name='schimek_mpt_eastus2',\n",
    "    subscription_id='9c49afdd-cccb-44e2-a4eb-5b2f941c774c',\n",
    "    resource_group='schimek_cloud',\n",
    "    location='eastus2')"
   ]
  },
  {
   "attachments": {},
   "cell_type": "markdown",
   "metadata": {},
   "source": [
    "### If running in West US 2, run the cell below"
   ]
  },
  {
   "cell_type": "code",
   "execution_count": 14,
   "metadata": {},
   "outputs": [],
   "source": [
    "ws = Workspace.get(\n",
    "    name='schimek_west_us_2',\n",
    "    subscription_id='9c49afdd-cccb-44e2-a4eb-5b2f941c774c',\n",
    "    resource_group='schimek_cloud',\n",
    "    location='westus2')"
   ]
  },
  {
   "cell_type": "markdown",
   "metadata": {},
   "source": [
    "### If runnign west US 3, run the cell below"
   ]
  },
  {
   "cell_type": "code",
   "execution_count": 24,
   "metadata": {},
   "outputs": [],
   "source": [
    "ws = Workspace.get(\n",
    "    name='schimek_west_us_3',\n",
    "    subscription_id='9c49afdd-cccb-44e2-a4eb-5b2f941c774c',\n",
    "    resource_group='schimek_cloud',\n",
    "    location='westus3')"
   ]
  },
  {
   "cell_type": "code",
   "execution_count": 16,
   "metadata": {},
   "outputs": [
    {
     "name": "stdout",
     "output_type": "stream",
     "text": [
      "nlsschim1\n",
      "Found existing compute target\n",
      "\n",
      "Running\n",
      "{'errors': [], 'creationTime': '2023-08-07T18:00:36.723624+00:00', 'createdBy': {'userObjectId': '06e4aaf0-2fa3-4116-b650-3be63aa1a058', 'userTenantId': 'f6b6dd5b-f02f-441a-99a0-162ac5060bd2', 'userName': 'Nels Schimek'}, 'modifiedTime': '2023-09-19T23:15:11.116786+00:00', 'state': 'Running', 'vmSize': 'STANDARD_DS12_V2'}\n"
     ]
    }
   ],
   "source": [
    "from azureml.core.compute import ComputeTarget, AmlCompute\n",
    "from azureml.core.compute_target import ComputeTargetException\n",
    "\n",
    "# choose a name for your cluster\n",
    "if ws.name == 'nels_east_us':\n",
    "    cluster_name = 'nlsschim1'\n",
    "elif ws.name == 'schimek_mpt_eastus2':\n",
    "    cluster_name = \"nlsschim-gpu-cluster\"\n",
    "elif ws.name == 'schimek_west_us_2':\n",
    "    cluster_name = \"schimek-cluster-gpu\"\n",
    "elif ws.name == 'schimek_west_us_3':\n",
    "    cluster_name = \"schimek-cpu\"\n",
    "print(cluster_name)\n",
    "\n",
    "try:\n",
    "    compute_target = ComputeTarget(workspace=ws, name=cluster_name)\n",
    "    print('Found existing compute target')\n",
    "except ComputeTargetException:\n",
    "    print('Creating a new compute target...')\n",
    "    compute_config = AmlCompute.provisioning_configuration(vm_size='STANDARD_NC6', \n",
    "                                                           max_nodes=1,\n",
    "                                                           min_nodes=1)\n",
    "\n",
    "    # create the cluster\n",
    "    compute_target = ComputeTarget.create(ws, cluster_name, compute_config)\n",
    "\n",
    "# can poll for a minimum number of nodes and for a specific timeout. \n",
    "# if no min node count is provided it uses the scale settings for the cluster\n",
    "compute_target.wait_for_completion(show_output=True)\n",
    "\n",
    "# use get_status() to get a detailed status for the current cluster. \n",
    "print(compute_target.get_status().serialize())\n"
   ]
  },
  {
   "cell_type": "code",
   "execution_count": 17,
   "metadata": {},
   "outputs": [
    {
     "name": "stdout",
     "output_type": "stream",
     "text": [
      "schimek-gpu-cluster AmlCompute Failed\n",
      "nlsschim1 ComputeInstance Succeeded\n"
     ]
    }
   ],
   "source": [
    "compute_targets = ws.compute_targets\n",
    "for name, ct in compute_targets.items():\n",
    "    print(name, ct.type, ct.provisioning_state)"
   ]
  },
  {
   "cell_type": "code",
   "execution_count": 23,
   "metadata": {},
   "outputs": [
    {
     "name": "stdout",
     "output_type": "stream",
     "text": [
      "Overwriting conda_dependencies.yml\n"
     ]
    }
   ],
   "source": [
    "%%writefile conda_dependencies.yml\n",
    "\n",
    "channels:\n",
    "- conda-forge\n",
    "dependencies:\n",
    "- python=3.7\n",
    "- pip=21.3.1\n",
    "- py-xgboost#-gpu\n",
    "- pip:\n",
    "  - h5py<=2.10.0\n",
    "  - azureml-defaults\n",
    "  - keras<=2.3.1\n",
    "  - matplotlib\n",
    "  - protobuf==3.20.1\n",
    "  - stochastic\n",
    "  - diff_classifier\n",
    "  - scikit-learn\n",
    "  - polars\n",
    "  - mrmr-selection\n",
    "  - mlflow\n",
    "  - azureml-mlflow"
   ]
  },
  {
   "cell_type": "code",
   "execution_count": 24,
   "metadata": {},
   "outputs": [],
   "source": [
    "from azureml.core import Environment\n",
    "\n",
    "keras_env = Environment.from_conda_specification(name = 'keras-2.3.1', file_path = './conda_dependencies.yml')\n",
    "\n",
    "# Specify a GPU base image\n",
    "##keras_env.docker.enabled = True\n",
    "#keras_env.docker.base_image = 'mcr.microsoft.com/azureml/openmpi4.1.0-cuda11.1-cudnn8-ubuntu20.04'"
   ]
  },
  {
   "cell_type": "code",
   "execution_count": null,
   "metadata": {},
   "outputs": [],
   "source": [
    "dataset = Dataset.get_by_name(ws, name='age_mpt_features')\n",
    "dataset.to_path()"
   ]
  },
  {
   "cell_type": "code",
   "execution_count": 31,
   "metadata": {},
   "outputs": [],
   "source": [
    "datastore = Datastore.get(ws, 'workspaceblobstore')\n",
    "file_dataset = Dataset.File.from_files(path=(datastore, 'UI/2023-09-06_223916_UTC/'))\n",
    "\n"
   ]
  },
  {
   "cell_type": "code",
   "execution_count": 32,
   "metadata": {},
   "outputs": [
    {
     "data": {
      "text/plain": [
       "['/features_P14_40nm_s1_v1.csv',\n",
       " '/features_P14_40nm_s1_v2.csv',\n",
       " '/features_P14_40nm_s1_v3.csv',\n",
       " '/features_P14_40nm_s1_v4.csv',\n",
       " '/features_P14_40nm_s1_v5.csv',\n",
       " '/features_P14_40nm_s2_v1.csv',\n",
       " '/features_P14_40nm_s2_v2.csv',\n",
       " '/features_P14_40nm_s2_v3.csv',\n",
       " '/features_P14_40nm_s2_v4.csv',\n",
       " '/features_P14_40nm_s2_v5.csv',\n",
       " '/features_P14_40nm_s3_v1.csv',\n",
       " '/features_P14_40nm_s3_v2.csv',\n",
       " '/features_P14_40nm_s3_v3.csv',\n",
       " '/features_P14_40nm_s3_v4.csv',\n",
       " '/features_P14_40nm_s3_v5.csv',\n",
       " '/features_P21_40nm_s1_v1.csv',\n",
       " '/features_P21_40nm_s1_v2.csv',\n",
       " '/features_P21_40nm_s1_v3.csv',\n",
       " '/features_P21_40nm_s1_v4.csv',\n",
       " '/features_P21_40nm_s1_v5.csv',\n",
       " '/features_P21_40nm_s2_v1.csv',\n",
       " '/features_P21_40nm_s2_v2.csv',\n",
       " '/features_P21_40nm_s2_v3.csv',\n",
       " '/features_P21_40nm_s2_v4.csv',\n",
       " '/features_P21_40nm_s2_v5.csv',\n",
       " '/features_P21_40nm_s3_v1.csv',\n",
       " '/features_P21_40nm_s3_v2.csv',\n",
       " '/features_P21_40nm_s3_v3.csv',\n",
       " '/features_P21_40nm_s3_v4.csv',\n",
       " '/features_P21_40nm_s3_v5.csv',\n",
       " '/features_P28_40nm_s1_v1.csv',\n",
       " '/features_P28_40nm_s1_v2.csv',\n",
       " '/features_P28_40nm_s1_v3.csv',\n",
       " '/features_P28_40nm_s1_v4.csv',\n",
       " '/features_P28_40nm_s1_v5.csv',\n",
       " '/features_P28_40nm_s2_v1.csv',\n",
       " '/features_P28_40nm_s2_v2.csv',\n",
       " '/features_P28_40nm_s2_v3.csv',\n",
       " '/features_P28_40nm_s2_v4.csv',\n",
       " '/features_P28_40nm_s2_v5.csv',\n",
       " '/features_P28_40nm_s3_v1.csv',\n",
       " '/features_P28_40nm_s3_v2.csv',\n",
       " '/features_P28_40nm_s3_v3.csv',\n",
       " '/features_P28_40nm_s3_v4.csv',\n",
       " '/features_P28_40nm_s3_v5.csv',\n",
       " '/features_P35_brain_2_slice_1_vid_1.csv',\n",
       " '/features_P35_brain_2_slice_1_vid_2.csv',\n",
       " '/features_P35_brain_2_slice_1_vid_3.csv',\n",
       " '/features_P35_brain_2_slice_1_vid_4.csv',\n",
       " '/features_P35_brain_2_slice_1_vid_5.csv',\n",
       " '/features_P35_brain_2_slice_2_vid_1.csv',\n",
       " '/features_P35_brain_2_slice_2_vid_2.csv',\n",
       " '/features_P35_brain_2_slice_2_vid_3.csv',\n",
       " '/features_P35_brain_2_slice_2_vid_4.csv',\n",
       " '/features_P35_brain_2_slice_2_vid_5.csv',\n",
       " '/features_P35_brain_2_slice_3_vid_1.csv',\n",
       " '/features_P35_brain_2_slice_3_vid_2.csv',\n",
       " '/features_P35_brain_2_slice_3_vid_3.csv',\n",
       " '/features_P35_brain_2_slice_3_vid_4.csv',\n",
       " '/features_P35_brain_2_slice_3_vid_5.csv',\n",
       " '/features_P70_40nm_s1_v1.csv',\n",
       " '/features_P70_40nm_s1_v2.csv',\n",
       " '/features_P70_40nm_s1_v3.csv',\n",
       " '/features_P70_40nm_s1_v4.csv',\n",
       " '/features_P70_40nm_s1_v5.csv',\n",
       " '/features_P70_40nm_s2_v1.csv',\n",
       " '/features_P70_40nm_s2_v2.csv',\n",
       " '/features_P70_40nm_s2_v3.csv',\n",
       " '/features_P70_40nm_s2_v4.csv',\n",
       " '/features_P70_40nm_s2_v5.csv',\n",
       " '/features_P70_40nm_s3_v1.csv',\n",
       " '/features_P70_40nm_s3_v2.csv',\n",
       " '/features_P70_40nm_s3_v3.csv',\n",
       " '/features_P70_40nm_s3_v4.csv',\n",
       " '/features_P70_40nm_s3_v5.csv']"
      ]
     },
     "execution_count": 32,
     "metadata": {},
     "output_type": "execute_result"
    }
   ],
   "source": [
    "# Confirm the correct dataset is being used\n",
    "file_dataset.to_path()"
   ]
  },
  {
   "cell_type": "code",
   "execution_count": 33,
   "metadata": {},
   "outputs": [],
   "source": [
    "dataset = file_dataset.register(workspace = ws, name = 'age_all_ages_features', create_new_version=True)"
   ]
  },
  {
   "attachments": {},
   "cell_type": "markdown",
   "metadata": {},
   "source": []
  },
  {
   "cell_type": "code",
   "execution_count": 25,
   "metadata": {},
   "outputs": [],
   "source": [
    "from azureml.core import ScriptRunConfig\n",
    "\n",
    "#args = ['--input-data', dataset.as_named_input(\"trajectories\")]#,\n",
    "#         '--batch-size', 50,\n",
    "#         '--first-layer-neurons', 300,\n",
    "#         '--second-layer-neurons', 100,\n",
    "\n",
    "src = ScriptRunConfig(source_directory='.',\n",
    "                      script='azure_datapoint_eval_script.py',\n",
    "                      #arguments=args,\n",
    "                      compute_target=compute_target,\n",
    "                      environment=keras_env)"
   ]
  },
  {
   "cell_type": "code",
   "execution_count": 26,
   "metadata": {},
   "outputs": [],
   "source": [
    "from azureml.core import Experiment\n",
    "exp = Experiment(workspace=ws, name='azure_OGD_P17_STR_3div_10_percent_data')"
   ]
  },
  {
   "cell_type": "code",
   "execution_count": 27,
   "metadata": {},
   "outputs": [],
   "source": [
    "run = exp.submit(src)"
   ]
  },
  {
   "cell_type": "code",
   "execution_count": 41,
   "metadata": {},
   "outputs": [
    {
     "data": {
      "application/vnd.jupyter.widget-view+json": {
       "model_id": "8085dff1e23e4b929fe340c1d2fb120d",
       "version_major": 2,
       "version_minor": 0
      },
      "text/plain": [
       "_UserRunWidget(widget_settings={'childWidgetDisplay': 'popup', 'send_telemetry': False, 'log_level': 'INFO', '…"
      ]
     },
     "metadata": {},
     "output_type": "display_data"
    },
    {
     "data": {
      "application/aml.mini.widget.v1": "{\"loading\": true}"
     },
     "metadata": {},
     "output_type": "display_data"
    }
   ],
   "source": [
    "from azureml.widgets import RunDetails\n",
    "\n",
    "RunDetails(run).show()"
   ]
  },
  {
   "cell_type": "code",
   "execution_count": null,
   "metadata": {},
   "outputs": [],
   "source": []
  }
 ],
 "metadata": {
  "kernelspec": {
   "display_name": "azure_ml",
   "language": "python",
   "name": "python3"
  },
  "language_info": {
   "codemirror_mode": {
    "name": "ipython",
    "version": 3
   },
   "file_extension": ".py",
   "mimetype": "text/x-python",
   "name": "python",
   "nbconvert_exporter": "python",
   "pygments_lexer": "ipython3",
   "version": "3.8.16"
  },
  "orig_nbformat": 4,
  "vscode": {
   "interpreter": {
    "hash": "cbb41dc280fdc7513e4fae57a151bd09591bfae8ff15d322fab00d9441a4c99e"
   }
  }
 },
 "nbformat": 4,
 "nbformat_minor": 2
}
