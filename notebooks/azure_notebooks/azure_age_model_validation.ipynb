{
 "cells": [
  {
   "cell_type": "code",
   "execution_count": 16,
   "metadata": {},
   "outputs": [
    {
     "name": "stderr",
     "output_type": "stream",
     "text": [
      "/Users/nelsschimek/anaconda3/envs/diff_predictor_env/lib/python3.8/site-packages/shap/utils/_clustering.py:35: NumbaDeprecationWarning: The 'nopython' keyword argument was not supplied to the 'numba.jit' decorator. The implicit default value for this argument is currently False, but it will be changed to True in Numba 0.59.0. See https://numba.readthedocs.io/en/stable/reference/deprecation.html#deprecation-of-object-mode-fall-back-behaviour-when-using-jit for details.\n",
      "  def _pt_shuffle_rec(i, indexes, index_mask, partition_tree, M, pos):\n",
      "/Users/nelsschimek/anaconda3/envs/diff_predictor_env/lib/python3.8/site-packages/shap/utils/_clustering.py:54: NumbaDeprecationWarning: The 'nopython' keyword argument was not supplied to the 'numba.jit' decorator. The implicit default value for this argument is currently False, but it will be changed to True in Numba 0.59.0. See https://numba.readthedocs.io/en/stable/reference/deprecation.html#deprecation-of-object-mode-fall-back-behaviour-when-using-jit for details.\n",
      "  def delta_minimization_order(all_masks, max_swap_size=100, num_passes=2):\n",
      "/Users/nelsschimek/anaconda3/envs/diff_predictor_env/lib/python3.8/site-packages/shap/utils/_clustering.py:63: NumbaDeprecationWarning: The 'nopython' keyword argument was not supplied to the 'numba.jit' decorator. The implicit default value for this argument is currently False, but it will be changed to True in Numba 0.59.0. See https://numba.readthedocs.io/en/stable/reference/deprecation.html#deprecation-of-object-mode-fall-back-behaviour-when-using-jit for details.\n",
      "  def _reverse_window(order, start, length):\n",
      "/Users/nelsschimek/anaconda3/envs/diff_predictor_env/lib/python3.8/site-packages/shap/utils/_clustering.py:69: NumbaDeprecationWarning: The 'nopython' keyword argument was not supplied to the 'numba.jit' decorator. The implicit default value for this argument is currently False, but it will be changed to True in Numba 0.59.0. See https://numba.readthedocs.io/en/stable/reference/deprecation.html#deprecation-of-object-mode-fall-back-behaviour-when-using-jit for details.\n",
      "  def _reverse_window_score_gain(masks, order, start, length):\n",
      "/Users/nelsschimek/anaconda3/envs/diff_predictor_env/lib/python3.8/site-packages/shap/utils/_clustering.py:77: NumbaDeprecationWarning: The 'nopython' keyword argument was not supplied to the 'numba.jit' decorator. The implicit default value for this argument is currently False, but it will be changed to True in Numba 0.59.0. See https://numba.readthedocs.io/en/stable/reference/deprecation.html#deprecation-of-object-mode-fall-back-behaviour-when-using-jit for details.\n",
      "  def _mask_delta_score(m1, m2):\n",
      "/Users/nelsschimek/anaconda3/envs/diff_predictor_env/lib/python3.8/site-packages/shap/utils/_masked_model.py:342: NumbaDeprecationWarning: The 'nopython' keyword argument was not supplied to the 'numba.jit' decorator. The implicit default value for this argument is currently False, but it will be changed to True in Numba 0.59.0. See https://numba.readthedocs.io/en/stable/reference/deprecation.html#deprecation-of-object-mode-fall-back-behaviour-when-using-jit for details.\n",
      "  def _build_fixed_single_output(averaged_outs, last_outs, outputs, batch_positions, varying_rows, num_varying_rows, link):\n",
      "/Users/nelsschimek/anaconda3/envs/diff_predictor_env/lib/python3.8/site-packages/shap/utils/_masked_model.py:361: NumbaDeprecationWarning: The 'nopython' keyword argument was not supplied to the 'numba.jit' decorator. The implicit default value for this argument is currently False, but it will be changed to True in Numba 0.59.0. See https://numba.readthedocs.io/en/stable/reference/deprecation.html#deprecation-of-object-mode-fall-back-behaviour-when-using-jit for details.\n",
      "  def _build_fixed_multi_output(averaged_outs, last_outs, outputs, batch_positions, varying_rows, num_varying_rows, link):\n",
      "/Users/nelsschimek/anaconda3/envs/diff_predictor_env/lib/python3.8/site-packages/shap/maskers/_tabular.py:147: NumbaDeprecationWarning: The 'nopython' keyword argument was not supplied to the 'numba.jit' decorator. The implicit default value for this argument is currently False, but it will be changed to True in Numba 0.59.0. See https://numba.readthedocs.io/en/stable/reference/deprecation.html#deprecation-of-object-mode-fall-back-behaviour-when-using-jit for details.\n",
      "  def _single_delta_mask(dind, masked_inputs, last_mask, data, x, noop_code):\n",
      "/Users/nelsschimek/anaconda3/envs/diff_predictor_env/lib/python3.8/site-packages/shap/maskers/_tabular.py:158: NumbaDeprecationWarning: The 'nopython' keyword argument was not supplied to the 'numba.jit' decorator. The implicit default value for this argument is currently False, but it will be changed to True in Numba 0.59.0. See https://numba.readthedocs.io/en/stable/reference/deprecation.html#deprecation-of-object-mode-fall-back-behaviour-when-using-jit for details.\n",
      "  def _delta_masking(masks, x, batch_positions, curr_delta_inds, varying_rows_out,\n",
      "/Users/nelsschimek/anaconda3/envs/diff_predictor_env/lib/python3.8/site-packages/shap/links.py:5: NumbaDeprecationWarning: The 'nopython' keyword argument was not supplied to the 'numba.jit' decorator. The implicit default value for this argument is currently False, but it will be changed to True in Numba 0.59.0. See https://numba.readthedocs.io/en/stable/reference/deprecation.html#deprecation-of-object-mode-fall-back-behaviour-when-using-jit for details.\n",
      "  def identity(x):\n",
      "/Users/nelsschimek/anaconda3/envs/diff_predictor_env/lib/python3.8/site-packages/shap/links.py:10: NumbaDeprecationWarning: The 'nopython' keyword argument was not supplied to the 'numba.jit' decorator. The implicit default value for this argument is currently False, but it will be changed to True in Numba 0.59.0. See https://numba.readthedocs.io/en/stable/reference/deprecation.html#deprecation-of-object-mode-fall-back-behaviour-when-using-jit for details.\n",
      "  def _identity_inverse(x):\n",
      "/Users/nelsschimek/anaconda3/envs/diff_predictor_env/lib/python3.8/site-packages/shap/links.py:15: NumbaDeprecationWarning: The 'nopython' keyword argument was not supplied to the 'numba.jit' decorator. The implicit default value for this argument is currently False, but it will be changed to True in Numba 0.59.0. See https://numba.readthedocs.io/en/stable/reference/deprecation.html#deprecation-of-object-mode-fall-back-behaviour-when-using-jit for details.\n",
      "  def logit(x):\n",
      "/Users/nelsschimek/anaconda3/envs/diff_predictor_env/lib/python3.8/site-packages/shap/links.py:20: NumbaDeprecationWarning: The 'nopython' keyword argument was not supplied to the 'numba.jit' decorator. The implicit default value for this argument is currently False, but it will be changed to True in Numba 0.59.0. See https://numba.readthedocs.io/en/stable/reference/deprecation.html#deprecation-of-object-mode-fall-back-behaviour-when-using-jit for details.\n",
      "  def _logit_inverse(x):\n",
      "The 'nopython' keyword argument was not supplied to the 'numba.jit' decorator. The implicit default value for this argument is currently False, but it will be changed to True in Numba 0.59.0. See https://numba.readthedocs.io/en/stable/reference/deprecation.html#deprecation-of-object-mode-fall-back-behaviour-when-using-jit for details.\n"
     ]
    }
   ],
   "source": [
    "import pandas as pd\n",
    "import numpy as np\n",
    "import matplotlib.pyplot as plt\n",
    "from os import listdir, getcwd, chdir\n",
    "from os.path import isfile, join\n",
    "from sklearn.model_selection import train_test_split\n",
    "from sklearn import metrics\n",
    "from sklearn.metrics import classification_report\n",
    "from sklearn import preprocessing\n",
    "from sklearn.metrics import accuracy_score\n",
    "import operator\n",
    "import xgboost as xgb\n",
    "from xgboost.training import CVPack\n",
    "from xgboost import callback\n",
    "from xgboost.core import CallbackEnv\n",
    "from xgboost.core import EarlyStopException\n",
    "from xgboost.core import STRING_TYPES\n",
    "\n",
    "import diff_predictor\n",
    "from diff_predictor import data_process\n",
    "from diff_predictor.predxgboost import train\n"
   ]
  },
  {
   "cell_type": "code",
   "execution_count": 4,
   "metadata": {},
   "outputs": [
    {
     "data": {
      "text/plain": [
       "['/Users/nelsschimek/Documents/nancelab/diff_predictor/notebooks/azure_notebooks/features_P14_40nm_s1_v1.csv',\n",
       " '/Users/nelsschimek/Documents/nancelab/diff_predictor/notebooks/azure_notebooks/features_P14_40nm_s2_v4.csv',\n",
       " '/Users/nelsschimek/Documents/nancelab/diff_predictor/notebooks/azure_notebooks/features_P21_40nm_s1_v2.csv',\n",
       " '/Users/nelsschimek/Documents/nancelab/diff_predictor/notebooks/azure_notebooks/features_P21_40nm_s2_v5.csv',\n",
       " '/Users/nelsschimek/Documents/nancelab/diff_predictor/notebooks/azure_notebooks/features_P28_40nm_s1_v3.csv',\n",
       " '/Users/nelsschimek/Documents/nancelab/diff_predictor/notebooks/azure_notebooks/features_P28_40nm_s3_v1.csv',\n",
       " '/Users/nelsschimek/Documents/nancelab/diff_predictor/notebooks/azure_notebooks/features_P35_brain_2_slice_1_vid_4.csv',\n",
       " '/Users/nelsschimek/Documents/nancelab/diff_predictor/notebooks/azure_notebooks/features_P35_brain_2_slice_3_vid_2.csv',\n",
       " '/Users/nelsschimek/Documents/nancelab/diff_predictor/notebooks/azure_notebooks/features_P70_40nm_s1_v5.csv',\n",
       " '/Users/nelsschimek/Documents/nancelab/diff_predictor/notebooks/azure_notebooks/features_P70_40nm_s3_v3.csv',\n",
       " '/Users/nelsschimek/Documents/nancelab/diff_predictor/notebooks/azure_notebooks/features_P14_40nm_s1_v2.csv',\n",
       " '/Users/nelsschimek/Documents/nancelab/diff_predictor/notebooks/azure_notebooks/features_P14_40nm_s2_v5.csv',\n",
       " '/Users/nelsschimek/Documents/nancelab/diff_predictor/notebooks/azure_notebooks/features_P21_40nm_s1_v3.csv',\n",
       " '/Users/nelsschimek/Documents/nancelab/diff_predictor/notebooks/azure_notebooks/features_P21_40nm_s3_v1.csv',\n",
       " '/Users/nelsschimek/Documents/nancelab/diff_predictor/notebooks/azure_notebooks/features_P28_40nm_s1_v4.csv',\n",
       " '/Users/nelsschimek/Documents/nancelab/diff_predictor/notebooks/azure_notebooks/features_P28_40nm_s3_v2.csv',\n",
       " '/Users/nelsschimek/Documents/nancelab/diff_predictor/notebooks/azure_notebooks/features_P35_brain_2_slice_1_vid_5.csv',\n",
       " '/Users/nelsschimek/Documents/nancelab/diff_predictor/notebooks/azure_notebooks/features_P35_brain_2_slice_3_vid_3.csv',\n",
       " '/Users/nelsschimek/Documents/nancelab/diff_predictor/notebooks/azure_notebooks/features_P70_40nm_s2_v1.csv',\n",
       " '/Users/nelsschimek/Documents/nancelab/diff_predictor/notebooks/azure_notebooks/features_P70_40nm_s3_v4.csv',\n",
       " '/Users/nelsschimek/Documents/nancelab/diff_predictor/notebooks/azure_notebooks/features_P14_40nm_s1_v3.csv',\n",
       " '/Users/nelsschimek/Documents/nancelab/diff_predictor/notebooks/azure_notebooks/features_P14_40nm_s3_v1.csv',\n",
       " '/Users/nelsschimek/Documents/nancelab/diff_predictor/notebooks/azure_notebooks/features_P21_40nm_s1_v4.csv',\n",
       " '/Users/nelsschimek/Documents/nancelab/diff_predictor/notebooks/azure_notebooks/features_P21_40nm_s3_v2.csv',\n",
       " '/Users/nelsschimek/Documents/nancelab/diff_predictor/notebooks/azure_notebooks/features_P28_40nm_s1_v5.csv',\n",
       " '/Users/nelsschimek/Documents/nancelab/diff_predictor/notebooks/azure_notebooks/features_P28_40nm_s3_v3.csv',\n",
       " '/Users/nelsschimek/Documents/nancelab/diff_predictor/notebooks/azure_notebooks/features_P35_brain_2_slice_2_vid_1.csv',\n",
       " '/Users/nelsschimek/Documents/nancelab/diff_predictor/notebooks/azure_notebooks/features_P35_brain_2_slice_3_vid_4.csv',\n",
       " '/Users/nelsschimek/Documents/nancelab/diff_predictor/notebooks/azure_notebooks/features_P70_40nm_s2_v2.csv',\n",
       " '/Users/nelsschimek/Documents/nancelab/diff_predictor/notebooks/azure_notebooks/features_P70_40nm_s3_v5.csv',\n",
       " '/Users/nelsschimek/Documents/nancelab/diff_predictor/notebooks/azure_notebooks/features_P14_40nm_s1_v4.csv',\n",
       " '/Users/nelsschimek/Documents/nancelab/diff_predictor/notebooks/azure_notebooks/features_P14_40nm_s3_v2.csv',\n",
       " '/Users/nelsschimek/Documents/nancelab/diff_predictor/notebooks/azure_notebooks/features_P21_40nm_s1_v5.csv',\n",
       " '/Users/nelsschimek/Documents/nancelab/diff_predictor/notebooks/azure_notebooks/features_P21_40nm_s3_v3.csv',\n",
       " '/Users/nelsschimek/Documents/nancelab/diff_predictor/notebooks/azure_notebooks/features_P28_40nm_s2_v1.csv',\n",
       " '/Users/nelsschimek/Documents/nancelab/diff_predictor/notebooks/azure_notebooks/features_P28_40nm_s3_v4.csv',\n",
       " '/Users/nelsschimek/Documents/nancelab/diff_predictor/notebooks/azure_notebooks/features_P35_brain_2_slice_2_vid_2.csv',\n",
       " '/Users/nelsschimek/Documents/nancelab/diff_predictor/notebooks/azure_notebooks/features_P35_brain_2_slice_3_vid_5.csv',\n",
       " '/Users/nelsschimek/Documents/nancelab/diff_predictor/notebooks/azure_notebooks/features_P70_40nm_s2_v3.csv',\n",
       " '/Users/nelsschimek/Documents/nancelab/diff_predictor/notebooks/azure_notebooks/features_P14_40nm_s1_v5.csv',\n",
       " '/Users/nelsschimek/Documents/nancelab/diff_predictor/notebooks/azure_notebooks/features_P14_40nm_s3_v3.csv',\n",
       " '/Users/nelsschimek/Documents/nancelab/diff_predictor/notebooks/azure_notebooks/features_P21_40nm_s2_v1.csv',\n",
       " '/Users/nelsschimek/Documents/nancelab/diff_predictor/notebooks/azure_notebooks/features_P21_40nm_s3_v4.csv',\n",
       " '/Users/nelsschimek/Documents/nancelab/diff_predictor/notebooks/azure_notebooks/features_P28_40nm_s2_v2.csv',\n",
       " '/Users/nelsschimek/Documents/nancelab/diff_predictor/notebooks/azure_notebooks/features_P28_40nm_s3_v5.csv',\n",
       " '/Users/nelsschimek/Documents/nancelab/diff_predictor/notebooks/azure_notebooks/features_P35_brain_2_slice_2_vid_3.csv',\n",
       " '/Users/nelsschimek/Documents/nancelab/diff_predictor/notebooks/azure_notebooks/features_P70_40nm_s1_v1.csv',\n",
       " '/Users/nelsschimek/Documents/nancelab/diff_predictor/notebooks/azure_notebooks/features_P70_40nm_s2_v4.csv',\n",
       " '/Users/nelsschimek/Documents/nancelab/diff_predictor/notebooks/azure_notebooks/features_P14_40nm_s2_v1.csv',\n",
       " '/Users/nelsschimek/Documents/nancelab/diff_predictor/notebooks/azure_notebooks/features_P14_40nm_s3_v4.csv',\n",
       " '/Users/nelsschimek/Documents/nancelab/diff_predictor/notebooks/azure_notebooks/features_P21_40nm_s2_v2.csv',\n",
       " '/Users/nelsschimek/Documents/nancelab/diff_predictor/notebooks/azure_notebooks/features_P21_40nm_s3_v5.csv',\n",
       " '/Users/nelsschimek/Documents/nancelab/diff_predictor/notebooks/azure_notebooks/features_P28_40nm_s2_v3.csv',\n",
       " '/Users/nelsschimek/Documents/nancelab/diff_predictor/notebooks/azure_notebooks/features_P35_brain_2_slice_1_vid_1.csv',\n",
       " '/Users/nelsschimek/Documents/nancelab/diff_predictor/notebooks/azure_notebooks/features_P35_brain_2_slice_2_vid_4.csv',\n",
       " '/Users/nelsschimek/Documents/nancelab/diff_predictor/notebooks/azure_notebooks/features_P70_40nm_s1_v2.csv',\n",
       " '/Users/nelsschimek/Documents/nancelab/diff_predictor/notebooks/azure_notebooks/features_P70_40nm_s2_v5.csv',\n",
       " '/Users/nelsschimek/Documents/nancelab/diff_predictor/notebooks/azure_notebooks/features_P14_40nm_s2_v2.csv',\n",
       " '/Users/nelsschimek/Documents/nancelab/diff_predictor/notebooks/azure_notebooks/features_P14_40nm_s3_v5.csv',\n",
       " '/Users/nelsschimek/Documents/nancelab/diff_predictor/notebooks/azure_notebooks/features_P21_40nm_s2_v3.csv',\n",
       " '/Users/nelsschimek/Documents/nancelab/diff_predictor/notebooks/azure_notebooks/features_P28_40nm_s1_v1.csv',\n",
       " '/Users/nelsschimek/Documents/nancelab/diff_predictor/notebooks/azure_notebooks/features_P28_40nm_s2_v4.csv',\n",
       " '/Users/nelsschimek/Documents/nancelab/diff_predictor/notebooks/azure_notebooks/features_P35_brain_2_slice_1_vid_2.csv',\n",
       " '/Users/nelsschimek/Documents/nancelab/diff_predictor/notebooks/azure_notebooks/features_P35_brain_2_slice_2_vid_5.csv',\n",
       " '/Users/nelsschimek/Documents/nancelab/diff_predictor/notebooks/azure_notebooks/features_P70_40nm_s1_v3.csv',\n",
       " '/Users/nelsschimek/Documents/nancelab/diff_predictor/notebooks/azure_notebooks/features_P70_40nm_s3_v1.csv',\n",
       " '/Users/nelsschimek/Documents/nancelab/diff_predictor/notebooks/azure_notebooks/features_P14_40nm_s2_v3.csv',\n",
       " '/Users/nelsschimek/Documents/nancelab/diff_predictor/notebooks/azure_notebooks/features_P21_40nm_s1_v1.csv',\n",
       " '/Users/nelsschimek/Documents/nancelab/diff_predictor/notebooks/azure_notebooks/features_P21_40nm_s2_v4.csv',\n",
       " '/Users/nelsschimek/Documents/nancelab/diff_predictor/notebooks/azure_notebooks/features_P28_40nm_s1_v2.csv',\n",
       " '/Users/nelsschimek/Documents/nancelab/diff_predictor/notebooks/azure_notebooks/features_P28_40nm_s2_v5.csv',\n",
       " '/Users/nelsschimek/Documents/nancelab/diff_predictor/notebooks/azure_notebooks/features_P35_brain_2_slice_1_vid_3.csv',\n",
       " '/Users/nelsschimek/Documents/nancelab/diff_predictor/notebooks/azure_notebooks/features_P35_brain_2_slice_3_vid_1.csv',\n",
       " '/Users/nelsschimek/Documents/nancelab/diff_predictor/notebooks/azure_notebooks/features_P70_40nm_s1_v4.csv',\n",
       " '/Users/nelsschimek/Documents/nancelab/diff_predictor/notebooks/azure_notebooks/features_P70_40nm_s3_v2.csv']"
      ]
     },
     "execution_count": 4,
     "metadata": {},
     "output_type": "execute_result"
    }
   ],
   "source": [
    "from azureml.core import Workspace, Dataset\n",
    "\n",
    "subscription_id = '9c49afdd-cccb-44e2-a4eb-5b2f941c774c'\n",
    "resource_group = 'schimek_cloud'\n",
    "workspace_name = 'schimek_mpt_eastus2'\n",
    "\n",
    "workspace = Workspace(subscription_id, resource_group, workspace_name)\n",
    "\n",
    "dataset = Dataset.get_by_name(workspace, name='age_mpt_feature_data')\n",
    "dataset.download(target_path='.', overwrite=True)"
   ]
  },
  {
   "cell_type": "code",
   "execution_count": 5,
   "metadata": {},
   "outputs": [
    {
     "name": "stdout",
     "output_type": "stream",
     "text": [
      "showing five path examples\n",
      "['/features_P14_40nm_s1_v1.csv', '/features_P14_40nm_s1_v2.csv', '/features_P14_40nm_s1_v3.csv', '/features_P14_40nm_s1_v4.csv', '/features_P14_40nm_s1_v5.csv']\n"
     ]
    }
   ],
   "source": [
    "filelist = []\n",
    "for file in dataset.to_path():\n",
    "    filelist.append(file)\n",
    "print('showing five path examples')\n",
    "print(filelist[0:5])"
   ]
  },
  {
   "cell_type": "code",
   "execution_count": 6,
   "metadata": {},
   "outputs": [],
   "source": [
    "datasetpath = getcwd()\n"
   ]
  },
  {
   "cell_type": "code",
   "execution_count": 7,
   "metadata": {},
   "outputs": [
    {
     "name": "stdout",
     "output_type": "stream",
     "text": [
      "running generate_fullstats function on subset filelist\n",
      "Adding file /features_P14_40nm_s1_v1.csv size: (793, 91)\n",
      "Adding file /features_P14_40nm_s1_v2.csv size: (1356, 91)\n",
      "Adding file /features_P14_40nm_s1_v3.csv size: (519, 91)\n",
      "Adding file /features_P14_40nm_s1_v4.csv size: (140, 91)\n",
      "Adding file /features_P14_40nm_s1_v5.csv size: (268, 91)\n",
      "Adding file /features_P14_40nm_s2_v1.csv size: (568, 91)\n",
      "Adding file /features_P14_40nm_s2_v2.csv size: (938, 91)\n",
      "Adding file /features_P14_40nm_s2_v3.csv size: (220, 91)\n",
      "Adding file /features_P14_40nm_s2_v4.csv size: (162, 91)\n",
      "Adding file /features_P14_40nm_s2_v5.csv size: (258, 91)\n",
      "Adding file /features_P14_40nm_s3_v1.csv size: (151, 91)\n",
      "Adding file /features_P14_40nm_s3_v2.csv size: (243, 91)\n",
      "Adding file /features_P14_40nm_s3_v3.csv size: (323, 91)\n",
      "Adding file /features_P14_40nm_s3_v4.csv size: (113, 91)\n",
      "Adding file /features_P14_40nm_s3_v5.csv size: (389, 91)\n",
      "Adding file /features_P35_brain_2_slice_1_vid_1.csv size: (416, 91)\n",
      "Adding file /features_P35_brain_2_slice_1_vid_2.csv size: (833, 91)\n",
      "Adding file /features_P35_brain_2_slice_1_vid_3.csv size: (1017, 91)\n",
      "Adding file /features_P35_brain_2_slice_1_vid_4.csv size: (878, 91)\n",
      "Adding file /features_P35_brain_2_slice_1_vid_5.csv size: (467, 91)\n",
      "Adding file /features_P35_brain_2_slice_2_vid_1.csv size: (2488, 91)\n",
      "Adding file /features_P35_brain_2_slice_2_vid_2.csv size: (2322, 91)\n",
      "Adding file /features_P35_brain_2_slice_2_vid_3.csv size: (1735, 91)\n",
      "Adding file /features_P35_brain_2_slice_2_vid_4.csv size: (1650, 91)\n",
      "Adding file /features_P35_brain_2_slice_2_vid_5.csv size: (2100, 91)\n",
      "Adding file /features_P35_brain_2_slice_3_vid_1.csv size: (562, 91)\n",
      "Adding file /features_P35_brain_2_slice_3_vid_2.csv size: (853, 91)\n",
      "Adding file /features_P35_brain_2_slice_3_vid_3.csv size: (817, 91)\n",
      "Adding file /features_P35_brain_2_slice_3_vid_4.csv size: (598, 91)\n",
      "Adding file /features_P35_brain_2_slice_3_vid_5.csv size: (1062, 91)\n",
      "Adding file /features_P70_40nm_s1_v1.csv size: (27, 67)\n",
      "Adding file /features_P70_40nm_s1_v2.csv size: (12, 67)\n",
      "Adding file /features_P70_40nm_s1_v3.csv size: (25, 67)\n",
      "Adding file /features_P70_40nm_s1_v4.csv size: (21, 67)\n",
      "Adding file /features_P70_40nm_s1_v5.csv size: (17, 67)\n",
      "Adding file /features_P70_40nm_s2_v1.csv size: (148, 67)\n",
      "Adding file /features_P70_40nm_s2_v2.csv size: (148, 67)\n",
      "Adding file /features_P70_40nm_s2_v3.csv size: (240, 67)\n",
      "Adding file /features_P70_40nm_s2_v4.csv size: (308, 67)\n",
      "Adding file /features_P70_40nm_s2_v5.csv size: (186, 67)\n",
      "Adding file /features_P70_40nm_s3_v1.csv size: (2625, 67)\n",
      "Adding file /features_P70_40nm_s3_v2.csv size: (1401, 67)\n",
      "Adding file /features_P70_40nm_s3_v3.csv size: (2322, 67)\n",
      "Adding file /features_P70_40nm_s3_v4.csv size: (2909, 67)\n",
      "Adding file /features_P70_40nm_s3_v5.csv size: (4162, 67)\n",
      "   Track_ID     alpha       D_fit  kurtosis  asymmetry1  asymmetry2  \\\n",
      "0       0.0  0.145892  115.910645  3.051675    0.744942    0.271071   \n",
      "1       1.0  2.193719    1.611728  3.180184    0.851672    0.200292   \n",
      "2       2.0  1.649381   12.301497  1.654691    0.989301    0.051857   \n",
      "3       3.0  0.756172   50.106737  2.428506    0.990430    0.049030   \n",
      "4       4.0  2.153309    3.674387  2.894523    0.996028    0.031544   \n",
      "\n",
      "   asymmetry3        AR  elongation  boundedness  ...  Std convex_hull_norm  \\\n",
      "0    0.179650  1.287207    0.223124     0.157897  ...                   0.0   \n",
      "1    0.250967  2.605750    0.616233     0.030720  ...                   0.0   \n",
      "2    0.521313  3.210672    0.688539     0.041548  ...                   0.0   \n",
      "3    0.529145  3.600695    0.722276     0.128690  ...                   0.0   \n",
      "4    0.581089  4.677014    0.786188     0.154286  ...                   0.0   \n",
      "\n",
      "   Mean dist_tot  Std dist_tot  Mean dist_net  Std dist_net  Mean progression  \\\n",
      "0   25621.753218  10363.797033    1800.021676     64.057425          0.080031   \n",
      "1   26835.693671   8364.829289    2312.473896     61.022111          0.093691   \n",
      "2   24169.173272   7667.671923    1991.842371     76.548932          0.090450   \n",
      "3   24169.173272   7667.671923    1991.842371     76.548932          0.090450   \n",
      "4   25686.973833  12240.490368    2002.856919    108.115520          0.091822   \n",
      "\n",
      "   Std progression  age                      Filename  Video Number  \n",
      "0         0.025167  P14  /features_P14_40nm_s1_v1.csv             0  \n",
      "1         0.024171  P14  /features_P14_40nm_s1_v1.csv             0  \n",
      "2         0.025825  P14  /features_P14_40nm_s1_v1.csv             0  \n",
      "3         0.025825  P14  /features_P14_40nm_s1_v1.csv             0  \n",
      "4         0.030371  P14  /features_P14_40nm_s1_v1.csv             0  \n",
      "\n",
      "[5 rows x 94 columns]\n"
     ]
    }
   ],
   "source": [
    "print('running generate_fullstats function on subset filelist')\n",
    "fstats_tot = data_process.generate_fullstats(datasetpath, filelist, ['P14', 'P35', 'P70'], 'age')\n",
    "print(fstats_tot.head())"
   ]
  },
  {
   "cell_type": "code",
   "execution_count": 12,
   "metadata": {},
   "outputs": [],
   "source": [
    "feature_list = [\n",
    "  \n",
    "    'Deff1', # Effective diffusion coefficient at 0.33 s\n",
    "    'Deff2', # Effective diffusion coefficient at 3.3 s\n",
    "    \n",
    "    'Mean Deff1', \n",
    "    'Mean Deff2',\n",
    "    ]\n",
    "\n",
    "target = 'age'"
   ]
  },
  {
   "cell_type": "code",
   "execution_count": 18,
   "metadata": {},
   "outputs": [],
   "source": [
    "best_param = {'max_depth': 2, 'eta': 0.01, 'min_child_weight': 0, 'verbosity': 0, 'objective': 'multi:softprob', 'num_class': 3, 'silent': 'True', 'gamma': 0.2, 'subsample': 0.6, 'colsample_bytree': 1.0, 'eval_metric': 'mlogloss'}\n"
   ]
  },
  {
   "cell_type": "code",
   "execution_count": 23,
   "metadata": {},
   "outputs": [
    {
     "name": "stdout",
     "output_type": "stream",
     "text": [
      "1310\n",
      "229\n"
     ]
    }
   ],
   "source": [
    "import random\n",
    "\n",
    "random.seed(42)\n",
    "print(random.randint(a=1, b=2000))\n",
    "print(random.randint(a=1, b=2000))"
   ]
  },
  {
   "cell_type": "code",
   "execution_count": null,
   "metadata": {},
   "outputs": [],
   "source": [
    "acc_list = []\n",
    "true_label_list = []\n",
    "preds_list = []\n",
    "for i in range(50):\n",
    "#     sampled_filelist = []\n",
    "#     class_lens = [0, 15, 30, 45, 60, 75] # this is specific to the age data set!\n",
    "#     for i in range(len(class_lens)-1):\n",
    "#         rand_integers = random.sample(set(np.arange(class_lens[i], class_lens[i+1])), 15)\n",
    "#         for rand_int in rand_integers:\n",
    "#             sampled_filelist.append(filelist[rand_int])\n",
    "    fstats_tot = data_process.generate_fullstats(datasetpath, filelist, ['P14', 'P35', 'P70'], 'age')\n",
    "    ecm = fstats_tot[feature_list + [target, 'Track_ID', 'X', 'Y', 'frames', 'dist_tot', 'dist_net']]\n",
    "    ecm = ecm[~ecm[list(set(feature_list) - set(['Deff2', 'Mean Deff2']))].isin([np.nan, np.inf, -np.inf]).any(1)] \n",
    "    bal_ecm = data_process.balance_data(ecm, target)\n",
    "    sampled_df = data_process.bin_data(bal_ecm)\n",
    "    label_df = sampled_df['age']\n",
    "    features_df = sampled_df.drop(['age', 'X', 'Y', 'binx', 'biny', 'bins', 'Track_ID', 'frames', 'dist_tot', 'dist_net'], axis=1)\n",
    "    features = features_df.columns\n",
    "\n",
    "    random.seed(1234)\n",
    "    seed = random.randint(a=1, b=2000)\n",
    "    print(seed)\n",
    "    \n",
    "    train_split = 0.8\n",
    "    test_split = 0.5\n",
    "\n",
    "    le = preprocessing.LabelEncoder()\n",
    "    sampled_df['encoded_target'] = le.fit_transform(sampled_df[target])\n",
    "\n",
    "    training_bins = np.random.choice(sampled_df['bins'].unique(), int(len(sampled_df['bins'].unique())*train_split), replace=False)\n",
    "\n",
    "    X_train = sampled_df[sampled_df['bins'].isin(training_bins)]\n",
    "    X_test_val = sampled_df[~sampled_df['bins'].isin(training_bins)]\n",
    "    X_val, X_test = train_test_split(X_test_val, test_size=test_split, random_state=seed)\n",
    "\n",
    "    y_train = X_train['encoded_target']\n",
    "    y_test = X_test['encoded_target']\n",
    "    y_val = X_val['encoded_target']\n",
    "\n",
    "    dtrain = xgb.DMatrix(X_train[features], label=y_train)\n",
    "    dtest = xgb.DMatrix(X_test[features], label=y_test)\n",
    "    dval = xgb.DMatrix(X_val[features], label=y_val)\n",
    "    booster, acc, true_label, preds = train(best_param, dtrain, dtest, dval, evals=[(dtrain, 'train'), (dval, 'eval')], num_round=743)\n",
    "    acc_list.append(acc)\n",
    "    true_label_list.append(true_label)\n",
    "    preds_list.append(preds)\n",
    "\n"
   ]
  },
  {
   "cell_type": "code",
   "execution_count": 25,
   "metadata": {},
   "outputs": [],
   "source": [
    "import os\n",
    "output_dict = {'Accuracies': acc_list,\n",
    "               'True Labels': true_label_list,\n",
    "               'Preds': preds_list,\n",
    "}\n",
    "df = pd.DataFrame(output_dict)\n",
    "# Save a sample of the data in the outputs folder (which gets uploaded automatically)\n",
    "os.makedirs('outputs', exist_ok=True)\n",
    "df.to_csv(\"outputs/run_data.csv\", index=False, header=True)"
   ]
  },
  {
   "cell_type": "code",
   "execution_count": 41,
   "metadata": {},
   "outputs": [
    {
     "name": "stdout",
     "output_type": "stream",
     "text": [
      "mean accuracy: 0.6881547231071066\n",
      "std accuracy: 0.01903305149932289\n"
     ]
    }
   ],
   "source": [
    "acc_np_array = np.array(acc_list)\n",
    "acc_mean = np.mean(acc_np_array)\n",
    "acc_std = np.std(acc_np_array)\n",
    "print('mean accuracy: ' + str(acc_mean))\n",
    "print('std accuracy: ' + str(acc_std))"
   ]
  },
  {
   "cell_type": "code",
   "execution_count": 30,
   "metadata": {},
   "outputs": [
    {
     "data": {
      "text/plain": [
       "[0.6878612716763006, 0.6884589726484323]"
      ]
     },
     "execution_count": 30,
     "metadata": {},
     "output_type": "execute_result"
    }
   ],
   "source": [
    "sorted_acc_list = sorted(acc_list)\n",
    "sorted_acc_list[24:26]"
   ]
  },
  {
   "cell_type": "code",
   "execution_count": 38,
   "metadata": {},
   "outputs": [
    {
     "data": {
      "text/plain": [
       "48"
      ]
     },
     "execution_count": 38,
     "metadata": {},
     "output_type": "execute_result"
    }
   ],
   "source": [
    "acc_list.index(sorted_acc_list[24])"
   ]
  },
  {
   "cell_type": "code",
   "execution_count": 40,
   "metadata": {},
   "outputs": [
    {
     "name": "stdout",
     "output_type": "stream",
     "text": [
      "              precision    recall  f1-score   support\n",
      "\n",
      "         P14       0.85      0.85      0.85       552\n",
      "         P35       0.55      0.40      0.47       505\n",
      "         P70       0.63      0.80      0.70       500\n",
      "\n",
      "    accuracy                           0.69      1557\n",
      "   macro avg       0.68      0.68      0.67      1557\n",
      "weighted avg       0.68      0.69      0.68      1557\n",
      "\n"
     ]
    }
   ],
   "source": [
    "print(classification_report(true_label_list[48], preds_list[48], target_names=['P14', 'P35', 'P70']))"
   ]
  },
  {
   "cell_type": "code",
   "execution_count": 47,
   "metadata": {},
   "outputs": [
    {
     "data": {
      "image/png": "[encoded data removed]",
      "text/plain": [
       "<Figure size 1200x1000 with 2 Axes>"
      ]
     },
     "metadata": {},
     "output_type": "display_data"
    }
   ],
   "source": [
    "#make confusion matrix\n",
    "\n",
    "import seaborn as sns\n",
    "\n",
    "class_names = le.classes_\n",
    "metrics.confusion_matrix(true_label_list[48], preds_list[48])\n",
    "plt.figure(figsize=(12,10))\n",
    "cm_array = metrics.confusion_matrix(true_label_list[48], preds_list[48])\n",
    "df_cm = pd.DataFrame(cm_array, index = class_names, columns = class_names)\n",
    "\n",
    "sns.set_context(\"paper\", font_scale=2) #font_scale=1.4)\n",
    "ax = sns.heatmap(df_cm, annot=True, annot_kws={\"size\": 10}, cmap=\"YlGnBu\")\n",
    "plt.ylabel('True label', fontsize=20)#, weight='bold')\n",
    "plt.xlabel('Predicted label', fontsize=20)#, weight='bold')\n",
    "plt.title('Confusion Matrix for Baseline Model Predictions on Age Dataset', fontsize=20)#, weight='bold')\n",
    "\n",
    "plt.show()\n"
   ]
  },
  {
   "cell_type": "code",
   "execution_count": null,
   "metadata": {},
   "outputs": [],
   "source": []
  }
 ],
 "metadata": {
  "kernelspec": {
   "display_name": "diff_predictor_env",
   "language": "python",
   "name": "python3"
  },
  "language_info": {
   "codemirror_mode": {
    "name": "ipython",
    "version": 3
   },
   "file_extension": ".py",
   "mimetype": "text/x-python",
   "name": "python",
   "nbconvert_exporter": "python",
   "pygments_lexer": "ipython3",
   "version": "3.8.0"
  },
  "orig_nbformat": 4
 },
 "nbformat": 4,
 "nbformat_minor": 2
}
