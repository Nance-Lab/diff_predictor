{
  "cells": [
    {
      "cell_type": "code",
      "source": [
        "import boto3\n",
        "#import diff_classifier.aws as aws\n",
        "import pandas as pd\n",
        "import seaborn as sns\n",
        "import numpy as np\n",
        "import matplotlib.pyplot as plt\n",
        "from diff_classifier.features import calculate_features\n",
        "from os import listdir, getcwd, chdir\n",
        "from os.path import isfile, join\n",
        "import os\n",
        "#import diff_predictor\n",
        "from diff_predictor import spatial, core, data_process\n",
        "from matplotlib import colors as plt_colors\n",
        "import altair as alt"
      ],
      "outputs": [
        {
          "output_type": "stream",
          "name": "stdout",
          "text": [
            "Using current directory for loading/saving: \u001b[34m\u001b[1m/mnt/batch/tasks/shared/LS_root/mounts/clusters/nance8core/code/Users/nlsschim/diff_predictor/notebooks\u001b[0m\n",
            "To change current directory, call change_dir(...)\n"
          ]
        }
      ],
      "execution_count": 1,
      "metadata": {
        "gather": {
          "logged": 1614973701264
        }
      }
    },
    {
      "cell_type": "code",
      "source": [
        "workbookDir = getcwd()\n",
        "print('Current Notebook Dir: ' + workbookDir)\n",
        "chdir(workbookDir) # Go to current workbook Dir\n",
        "chdir('..')        # Go up one\n",
        "print(f'Using current directory for loading data: {getcwd()}')\n",
        "workbookDir = getcwd()"
      ],
      "outputs": [
        {
          "output_type": "stream",
          "name": "stdout",
          "text": [
            "Current Notebook Dir: /mnt/batch/tasks/shared/LS_root/mounts/clusters/nance8core/code/Users/nlsschim/diff_predictor/notebooks\n",
            "Using current directory for loading data: /mnt/batch/tasks/shared/LS_root/mounts/clusters/nance8core/code/Users/nlsschim/diff_predictor\n"
          ]
        }
      ],
      "execution_count": 3,
      "metadata": {
        "gather": {
          "logged": 1612649151896
        }
      }
    },
    {
      "cell_type": "code",
      "source": [
        "# Define path to folder that contains data\n",
        "dataset_path = workbookDir + '/data/features_ecm/'\n",
        "\n",
        "# Create list of file names within the data folder\n",
        "filelist = [f for f in listdir(dataset_path) if isfile(join(dataset_path, f)) and 'feat' in f]\n",
        "print(len(filelist)) # Make sure there are the right number of files"
      ],
      "outputs": [
        {
          "output_type": "stream",
          "name": "stdout",
          "text": [
            "180\n"
          ]
        }
      ],
      "execution_count": 5,
      "metadata": {
        "gather": {
          "logged": 1612649503902
        },
        "scrolled": true
      }
    },
    {
      "cell_type": "code",
      "source": [
        "# Use diff_predictor function to create one csv with all the data\n",
        "fstats_tot = data_process.generate_fullstats(dataset_path, filelist, ['HYase', 'ChABC','NT'], 'Treatment')"
      ],
      "outputs": [
        {
          "output_type": "stream",
          "name": "stdout",
          "text": [
            "features_ChABC_brain_1_slice_1_vid_1.csv size: (502, 67)\n",
            "features_ChABC_brain_1_slice_1_vid_2.csv size: (1734, 67)\n",
            "features_ChABC_brain_1_slice_1_vid_3.csv size: (593, 67)\n",
            "features_ChABC_brain_1_slice_1_vid_4.csv size: (258, 67)\n",
            "features_ChABC_brain_1_slice_1_vid_5.csv size: (888, 67)\n",
            "features_ChABC_brain_1_slice_2_vid_1.csv size: (1350, 67)\n",
            "features_ChABC_brain_1_slice_2_vid_2.csv size: (690, 67)\n",
            "features_ChABC_brain_1_slice_2_vid_3.csv size: (1257, 67)\n",
            "features_ChABC_brain_1_slice_2_vid_4.csv size: (1070, 67)\n",
            "features_ChABC_brain_1_slice_2_vid_5.csv size: (1097, 67)\n",
            "features_ChABC_brain_1_slice_3_vid_1.csv size: (1141, 67)\n",
            "features_ChABC_brain_1_slice_3_vid_2.csv size: (1307, 67)\n",
            "features_ChABC_brain_1_slice_3_vid_3.csv size: (650, 67)\n",
            "features_ChABC_brain_1_slice_3_vid_4.csv size: (1594, 67)\n",
            "features_ChABC_brain_1_slice_3_vid_5.csv size: (1212, 67)\n",
            "features_ChABC_brain_2_slice_1_vid_1.csv size: (1133, 67)\n",
            "features_ChABC_brain_2_slice_1_vid_2.csv size: (2291, 67)\n",
            "features_ChABC_brain_2_slice_1_vid_3.csv size: (1543, 67)\n",
            "features_ChABC_brain_2_slice_1_vid_4.csv size: (952, 67)\n",
            "features_ChABC_brain_2_slice_1_vid_5.csv size: (2342, 67)\n",
            "features_ChABC_brain_2_slice_2_vid_1.csv size: (1788, 67)\n",
            "features_ChABC_brain_2_slice_2_vid_2.csv size: (714, 67)\n",
            "features_ChABC_brain_2_slice_2_vid_3.csv size: (1336, 67)\n",
            "features_ChABC_brain_2_slice_2_vid_4.csv size: (1244, 67)\n",
            "features_ChABC_brain_2_slice_2_vid_5.csv size: (645, 67)\n",
            "features_ChABC_brain_2_slice_3_vid_1.csv size: (786, 67)\n",
            "features_ChABC_brain_2_slice_3_vid_2.csv size: (410, 67)\n",
            "features_ChABC_brain_2_slice_3_vid_3.csv size: (556, 67)\n",
            "features_ChABC_brain_2_slice_3_vid_4.csv size: (450, 67)\n",
            "features_ChABC_brain_2_slice_3_vid_5.csv size: (437, 67)\n",
            "features_ChABC_brain_3_slice_1_vid_1.csv size: (1225, 67)\n",
            "features_ChABC_brain_3_slice_1_vid_2.csv size: (925, 67)\n",
            "features_ChABC_brain_3_slice_1_vid_3.csv size: (1080, 67)\n",
            "features_ChABC_brain_3_slice_1_vid_4.csv size: (714, 67)\n",
            "features_ChABC_brain_3_slice_1_vid_5.csv size: (1065, 67)\n",
            "features_ChABC_brain_3_slice_2_vid_1.csv size: (994, 67)\n",
            "features_ChABC_brain_3_slice_2_vid_2.csv size: (636, 67)\n",
            "features_ChABC_brain_3_slice_2_vid_3.csv size: (1285, 67)\n",
            "features_ChABC_brain_3_slice_2_vid_4.csv size: (1240, 67)\n",
            "features_ChABC_brain_3_slice_2_vid_5.csv size: (2084, 67)\n",
            "features_ChABC_brain_3_slice_3_vid_1.csv size: (494, 67)\n",
            "features_ChABC_brain_3_slice_3_vid_2.csv size: (597, 67)\n",
            "features_ChABC_brain_3_slice_3_vid_3.csv size: (919, 67)\n",
            "features_ChABC_brain_3_slice_3_vid_4.csv size: (381, 67)\n",
            "features_ChABC_brain_3_slice_3_vid_5.csv size: (364, 67)\n",
            "features_ChABC_brain_4_slice_1_vid_1.csv size: (1625, 67)\n",
            "features_ChABC_brain_4_slice_1_vid_2.csv size: (1315, 67)\n",
            "features_ChABC_brain_4_slice_1_vid_3.csv size: (2688, 67)\n",
            "features_ChABC_brain_4_slice_1_vid_4.csv size: (2452, 67)\n",
            "features_ChABC_brain_4_slice_1_vid_5.csv size: (773, 67)\n",
            "features_ChABC_brain_4_slice_2_vid_1.csv size: (501, 67)\n",
            "features_ChABC_brain_4_slice_2_vid_2.csv size: (908, 67)\n",
            "features_ChABC_brain_4_slice_2_vid_3.csv size: (1052, 67)\n",
            "features_ChABC_brain_4_slice_2_vid_4.csv size: (1016, 67)\n",
            "features_ChABC_brain_4_slice_2_vid_5.csv size: (861, 67)\n",
            "features_ChABC_brain_4_slice_3_vid_1.csv size: (2099, 67)\n",
            "features_ChABC_brain_4_slice_3_vid_2.csv size: (4602, 67)\n",
            "features_ChABC_brain_4_slice_3_vid_3.csv size: (2091, 67)\n",
            "features_ChABC_brain_4_slice_3_vid_4.csv size: (2689, 67)\n",
            "features_ChABC_brain_4_slice_3_vid_5.csv size: (1966, 67)\n",
            "features_HYase_brain_1_slice_1_vid_1.csv size: (721, 67)\n",
            "features_HYase_brain_1_slice_1_vid_2.csv size: (1264, 67)\n",
            "features_HYase_brain_1_slice_1_vid_3.csv size: (978, 67)\n",
            "features_HYase_brain_1_slice_1_vid_4.csv size: (984, 67)\n",
            "features_HYase_brain_1_slice_1_vid_5.csv size: (1439, 67)\n",
            "features_HYase_brain_1_slice_2_vid_1.csv size: (1233, 67)\n",
            "features_HYase_brain_1_slice_2_vid_2.csv size: (1906, 67)\n",
            "features_HYase_brain_1_slice_2_vid_3.csv size: (2156, 67)\n",
            "features_HYase_brain_1_slice_2_vid_4.csv size: (2428, 67)\n",
            "features_HYase_brain_1_slice_2_vid_5.csv size: (1733, 67)\n",
            "features_HYase_brain_1_slice_3_vid_1.csv size: (1565, 67)\n",
            "features_HYase_brain_1_slice_3_vid_2.csv size: (1673, 67)\n",
            "features_HYase_brain_1_slice_3_vid_3.csv size: (1538, 67)\n",
            "features_HYase_brain_1_slice_3_vid_4.csv size: (653, 67)\n",
            "features_HYase_brain_1_slice_3_vid_5.csv size: (517, 67)\n",
            "features_HYase_brain_2_slice_1_vid_1.csv size: (1761, 67)\n",
            "features_HYase_brain_2_slice_1_vid_2.csv size: (1649, 67)\n",
            "features_HYase_brain_2_slice_1_vid_3.csv size: (1541, 67)\n",
            "features_HYase_brain_2_slice_1_vid_4.csv size: (4129, 67)\n",
            "features_HYase_brain_2_slice_1_vid_5.csv size: (1833, 67)\n",
            "features_HYase_brain_2_slice_2_vid_1.csv size: (729, 67)\n",
            "features_HYase_brain_2_slice_2_vid_2.csv size: (788, 67)\n",
            "features_HYase_brain_2_slice_2_vid_3.csv size: (554, 67)\n",
            "features_HYase_brain_2_slice_2_vid_4.csv size: (1252, 67)\n",
            "features_HYase_brain_2_slice_2_vid_5.csv size: (1207, 67)\n",
            "features_HYase_brain_2_slice_3_vid_1.csv size: (1399, 67)\n",
            "features_HYase_brain_2_slice_3_vid_2.csv size: (1744, 67)\n",
            "features_HYase_brain_2_slice_3_vid_3.csv size: (1959, 67)\n",
            "features_HYase_brain_2_slice_3_vid_4.csv size: (3594, 67)\n",
            "features_HYase_brain_2_slice_3_vid_5.csv size: (800, 67)\n",
            "features_HYase_brain_3_slice_1_vid_1.csv size: (2315, 67)\n",
            "features_HYase_brain_3_slice_1_vid_2.csv size: (1058, 67)\n",
            "features_HYase_brain_3_slice_1_vid_3.csv size: (1033, 67)\n",
            "features_HYase_brain_3_slice_1_vid_4.csv size: (571, 67)\n",
            "features_HYase_brain_3_slice_1_vid_5.csv size: (637, 67)\n",
            "features_HYase_brain_3_slice_2_vid_1.csv size: (1868, 67)\n",
            "features_HYase_brain_3_slice_2_vid_2.csv size: (1868, 67)\n",
            "features_HYase_brain_3_slice_2_vid_3.csv size: (735, 67)\n",
            "features_HYase_brain_3_slice_2_vid_4.csv size: (1403, 67)\n",
            "features_HYase_brain_3_slice_2_vid_5.csv size: (870, 67)\n",
            "features_HYase_brain_3_slice_3_vid_1.csv size: (612, 67)\n",
            "features_HYase_brain_3_slice_3_vid_2.csv size: (857, 67)\n",
            "features_HYase_brain_3_slice_3_vid_3.csv size: (411, 67)\n",
            "features_HYase_brain_3_slice_3_vid_4.csv size: (1033, 67)\n",
            "features_HYase_brain_3_slice_3_vid_5.csv size: (944, 67)\n",
            "features_HYase_brain_4_slice_1_vid_1.csv size: (227, 67)\n",
            "features_HYase_brain_4_slice_1_vid_2.csv size: (952, 67)\n",
            "features_HYase_brain_4_slice_1_vid_3.csv size: (552, 67)\n",
            "features_HYase_brain_4_slice_1_vid_4.csv size: (605, 67)\n",
            "features_HYase_brain_4_slice_1_vid_5.csv size: (420, 67)\n",
            "features_HYase_brain_4_slice_2_vid_1.csv size: (446, 67)\n",
            "features_HYase_brain_4_slice_2_vid_2.csv size: (781, 67)\n",
            "features_HYase_brain_4_slice_2_vid_3.csv size: (1805, 67)\n",
            "features_HYase_brain_4_slice_2_vid_4.csv size: (1502, 67)\n",
            "features_HYase_brain_4_slice_2_vid_5.csv size: (1174, 67)\n",
            "features_HYase_brain_4_slice_3_vid_1.csv size: (443, 67)\n",
            "features_HYase_brain_4_slice_3_vid_2.csv size: (645, 67)\n",
            "features_HYase_brain_4_slice_3_vid_3.csv size: (696, 67)\n",
            "features_HYase_brain_4_slice_3_vid_4.csv size: (668, 67)\n",
            "features_HYase_brain_4_slice_3_vid_5.csv size: (582, 67)\n",
            "features_NT_brain_1_slice_1_vid_1.csv size: (1161, 67)\n",
            "features_NT_brain_1_slice_1_vid_2.csv size: (1479, 67)\n",
            "features_NT_brain_1_slice_1_vid_3.csv size: (1560, 67)\n",
            "features_NT_brain_1_slice_1_vid_4.csv size: (1524, 67)\n",
            "features_NT_brain_1_slice_1_vid_5.csv size: (674, 67)\n",
            "features_NT_brain_1_slice_2_vid_1.csv size: (1173, 67)\n",
            "features_NT_brain_1_slice_2_vid_2.csv size: (1476, 67)\n",
            "features_NT_brain_1_slice_2_vid_3.csv size: (1443, 67)\n",
            "features_NT_brain_1_slice_2_vid_4.csv size: (797, 67)\n",
            "features_NT_brain_1_slice_2_vid_5.csv size: (1146, 67)\n",
            "features_NT_brain_1_slice_3_vid_1.csv size: (1372, 67)\n",
            "features_NT_brain_1_slice_3_vid_2.csv size: (668, 67)\n",
            "features_NT_brain_1_slice_3_vid_3.csv size: (724, 67)\n",
            "features_NT_brain_1_slice_3_vid_4.csv size: (1446, 67)\n",
            "features_NT_brain_1_slice_3_vid_5.csv size: (1009, 67)\n",
            "features_NT_brain_2_slice_1_vid_1.csv size: (416, 67)\n",
            "features_NT_brain_2_slice_1_vid_2.csv size: (833, 67)\n",
            "features_NT_brain_2_slice_1_vid_3.csv size: (1017, 67)\n",
            "features_NT_brain_2_slice_1_vid_4.csv size: (878, 67)\n",
            "features_NT_brain_2_slice_1_vid_5.csv size: (467, 67)\n",
            "features_NT_brain_2_slice_2_vid_1.csv size: (2488, 67)\n",
            "features_NT_brain_2_slice_2_vid_2.csv size: (2322, 67)\n",
            "features_NT_brain_2_slice_2_vid_3.csv size: (1735, 67)\n",
            "features_NT_brain_2_slice_2_vid_4.csv size: (1650, 67)\n"
          ]
        },
        {
          "output_type": "stream",
          "name": "stdout",
          "text": [
            "features_NT_brain_2_slice_2_vid_5.csv size: (2100, 67)\n",
            "features_NT_brain_2_slice_3_vid_1.csv size: (562, 67)\n",
            "features_NT_brain_2_slice_3_vid_2.csv size: (853, 67)\n",
            "features_NT_brain_2_slice_3_vid_3.csv size: (817, 67)\n",
            "features_NT_brain_2_slice_3_vid_4.csv size: (598, 67)\n",
            "features_NT_brain_2_slice_3_vid_5.csv size: (1062, 67)\n",
            "features_NT_brain_3_slice_1_vid_1.csv size: (2917, 67)\n",
            "features_NT_brain_3_slice_1_vid_2.csv size: (2268, 67)\n",
            "features_NT_brain_3_slice_1_vid_3.csv size: (3859, 67)\n",
            "features_NT_brain_3_slice_1_vid_4.csv size: (3271, 67)\n",
            "features_NT_brain_3_slice_1_vid_5.csv size: (3054, 67)\n",
            "features_NT_brain_3_slice_2_vid_1.csv size: (840, 67)\n",
            "features_NT_brain_3_slice_2_vid_2.csv size: (572, 67)\n",
            "features_NT_brain_3_slice_2_vid_3.csv size: (886, 67)\n",
            "features_NT_brain_3_slice_2_vid_4.csv size: (364, 67)\n",
            "features_NT_brain_3_slice_2_vid_5.csv size: (893, 67)\n",
            "features_NT_brain_3_slice_3_vid_1.csv size: (596, 67)\n",
            "features_NT_brain_3_slice_3_vid_2.csv size: (378, 67)\n",
            "features_NT_brain_3_slice_3_vid_3.csv size: (434, 67)\n",
            "features_NT_brain_3_slice_3_vid_4.csv size: (515, 67)\n",
            "features_NT_brain_3_slice_3_vid_5.csv size: (493, 67)\n",
            "features_NT_brain_4_slice_1_vid_1.csv size: (780, 67)\n",
            "features_NT_brain_4_slice_1_vid_2.csv size: (648, 67)\n",
            "features_NT_brain_4_slice_1_vid_3.csv size: (294, 67)\n",
            "features_NT_brain_4_slice_1_vid_4.csv size: (526, 67)\n",
            "features_NT_brain_4_slice_1_vid_5.csv size: (624, 67)\n",
            "features_NT_brain_4_slice_2_vid_1.csv size: (381, 67)\n",
            "features_NT_brain_4_slice_2_vid_2.csv size: (1195, 67)\n",
            "features_NT_brain_4_slice_2_vid_3.csv size: (432, 67)\n",
            "features_NT_brain_4_slice_2_vid_4.csv size: (700, 67)\n",
            "features_NT_brain_4_slice_2_vid_5.csv size: (732, 67)\n",
            "features_NT_brain_4_slice_3_vid_1.csv size: (678, 67)\n",
            "features_NT_brain_4_slice_3_vid_2.csv size: (374, 67)\n",
            "features_NT_brain_4_slice_3_vid_3.csv size: (1706, 67)\n",
            "features_NT_brain_4_slice_3_vid_4.csv size: (2106, 67)\n",
            "features_NT_brain_4_slice_3_vid_5.csv size: (1876, 67)\n"
          ]
        }
      ],
      "execution_count": 6,
      "metadata": {}
    },
    {
      "cell_type": "code",
      "source": [
        "# Look at sample of data\n",
        "fstats_tot.head()"
      ],
      "outputs": [
        {
          "output_type": "execute_result",
          "execution_count": 6,
          "data": {
            "text/html": "<div>\n<style scoped>\n    .dataframe tbody tr th:only-of-type {\n        vertical-align: middle;\n    }\n\n    .dataframe tbody tr th {\n        vertical-align: top;\n    }\n\n    .dataframe thead th {\n        text-align: right;\n    }\n</style>\n<table border=\"1\" class=\"dataframe\">\n  <thead>\n    <tr style=\"text-align: right;\">\n      <th></th>\n      <th>Track_ID</th>\n      <th>alpha</th>\n      <th>D_fit</th>\n      <th>kurtosis</th>\n      <th>asymmetry1</th>\n      <th>asymmetry2</th>\n      <th>asymmetry3</th>\n      <th>AR</th>\n      <th>elongation</th>\n      <th>boundedness</th>\n      <th>...</th>\n      <th>Mean Mean_Intensity</th>\n      <th>Std Mean_Intensity</th>\n      <th>Mean SN_Ratio</th>\n      <th>Std SN_Ratio</th>\n      <th>Mean Deff1</th>\n      <th>Std Deff1</th>\n      <th>Mean Deff2</th>\n      <th>Std Deff2</th>\n      <th>Treatment</th>\n      <th>Video Number</th>\n    </tr>\n  </thead>\n  <tbody>\n    <tr>\n      <th>0</th>\n      <td>0.0</td>\n      <td>0.816365</td>\n      <td>13.058749</td>\n      <td>2.551438</td>\n      <td>0.298735</td>\n      <td>0.541468</td>\n      <td>0.045251</td>\n      <td>1.580388</td>\n      <td>0.367244</td>\n      <td>0.055654</td>\n      <td>...</td>\n      <td>NaN</td>\n      <td>NaN</td>\n      <td>0.820048</td>\n      <td>0.032337</td>\n      <td>10.442310</td>\n      <td>1.272833</td>\n      <td>NaN</td>\n      <td>NaN</td>\n      <td>ChABC</td>\n      <td>0</td>\n    </tr>\n    <tr>\n      <th>1</th>\n      <td>1.0</td>\n      <td>1.161703</td>\n      <td>6.079955</td>\n      <td>2.095601</td>\n      <td>0.822425</td>\n      <td>0.220988</td>\n      <td>0.227570</td>\n      <td>2.116028</td>\n      <td>0.527416</td>\n      <td>0.124585</td>\n      <td>...</td>\n      <td>NaN</td>\n      <td>NaN</td>\n      <td>1.073503</td>\n      <td>0.216005</td>\n      <td>14.047563</td>\n      <td>0.000000</td>\n      <td>NaN</td>\n      <td>NaN</td>\n      <td>ChABC</td>\n      <td>0</td>\n    </tr>\n    <tr>\n      <th>2</th>\n      <td>2.0</td>\n      <td>0.917237</td>\n      <td>23.212111</td>\n      <td>1.744405</td>\n      <td>0.985075</td>\n      <td>0.061313</td>\n      <td>0.496155</td>\n      <td>4.052659</td>\n      <td>0.753248</td>\n      <td>0.083099</td>\n      <td>...</td>\n      <td>NaN</td>\n      <td>NaN</td>\n      <td>1.073503</td>\n      <td>0.216005</td>\n      <td>14.047563</td>\n      <td>0.000000</td>\n      <td>NaN</td>\n      <td>NaN</td>\n      <td>ChABC</td>\n      <td>0</td>\n    </tr>\n    <tr>\n      <th>3</th>\n      <td>3.0</td>\n      <td>0.118077</td>\n      <td>82.989569</td>\n      <td>1.882246</td>\n      <td>0.144911</td>\n      <td>0.669754</td>\n      <td>0.019753</td>\n      <td>1.159049</td>\n      <td>0.137224</td>\n      <td>0.078294</td>\n      <td>...</td>\n      <td>NaN</td>\n      <td>NaN</td>\n      <td>0.887472</td>\n      <td>0.073740</td>\n      <td>19.066433</td>\n      <td>12.801049</td>\n      <td>NaN</td>\n      <td>NaN</td>\n      <td>ChABC</td>\n      <td>0</td>\n    </tr>\n    <tr>\n      <th>4</th>\n      <td>4.0</td>\n      <td>1.157632</td>\n      <td>8.442376</td>\n      <td>3.135845</td>\n      <td>0.572443</td>\n      <td>0.372241</td>\n      <td>0.110529</td>\n      <td>1.324925</td>\n      <td>0.245240</td>\n      <td>0.058218</td>\n      <td>...</td>\n      <td>NaN</td>\n      <td>NaN</td>\n      <td>0.887472</td>\n      <td>0.073740</td>\n      <td>19.066433</td>\n      <td>12.801049</td>\n      <td>NaN</td>\n      <td>NaN</td>\n      <td>ChABC</td>\n      <td>0</td>\n    </tr>\n  </tbody>\n</table>\n<p>5 rows × 69 columns</p>\n</div>",
            "text/plain": "   Track_ID     alpha      D_fit  kurtosis  asymmetry1  asymmetry2  \\\n0       0.0  0.816365  13.058749  2.551438    0.298735    0.541468   \n1       1.0  1.161703   6.079955  2.095601    0.822425    0.220988   \n2       2.0  0.917237  23.212111  1.744405    0.985075    0.061313   \n3       3.0  0.118077  82.989569  1.882246    0.144911    0.669754   \n4       4.0  1.157632   8.442376  3.135845    0.572443    0.372241   \n\n   asymmetry3        AR  elongation  boundedness  ...  Mean Mean_Intensity  \\\n0    0.045251  1.580388    0.367244     0.055654  ...                  NaN   \n1    0.227570  2.116028    0.527416     0.124585  ...                  NaN   \n2    0.496155  4.052659    0.753248     0.083099  ...                  NaN   \n3    0.019753  1.159049    0.137224     0.078294  ...                  NaN   \n4    0.110529  1.324925    0.245240     0.058218  ...                  NaN   \n\n   Std Mean_Intensity  Mean SN_Ratio  Std SN_Ratio  Mean Deff1  Std Deff1  \\\n0                 NaN       0.820048      0.032337   10.442310   1.272833   \n1                 NaN       1.073503      0.216005   14.047563   0.000000   \n2                 NaN       1.073503      0.216005   14.047563   0.000000   \n3                 NaN       0.887472      0.073740   19.066433  12.801049   \n4                 NaN       0.887472      0.073740   19.066433  12.801049   \n\n   Mean Deff2  Std Deff2  Treatment  Video Number  \n0         NaN        NaN      ChABC             0  \n1         NaN        NaN      ChABC             0  \n2         NaN        NaN      ChABC             0  \n3         NaN        NaN      ChABC             0  \n4         NaN        NaN      ChABC             0  \n\n[5 rows x 69 columns]"
          },
          "metadata": {}
        }
      ],
      "execution_count": 6,
      "metadata": {}
    },
    {
      "cell_type": "code",
      "source": [
        "# deff1_nozero = fstats_tot[fstats_tot['Deff1'] > 0]\n",
        "# deff1_nozero['log Deff1'] = np.log10(deff1_nozero['Deff1'])"
      ],
      "outputs": [],
      "execution_count": 57,
      "metadata": {}
    },
    {
      "cell_type": "code",
      "source": [
        "def generate_violinplot(x, y, data, quartile_style='quartile'):\n",
        "    \"\"\"\n",
        "    \n",
        "    \"\"\"\n",
        "    \n",
        "    #write code to see how many values are in each class\n",
        "    \n",
        "    \n",
        "    \n",
        "    data = data[data[y] > 0].copy()\n",
        "    y_log = 'log ' + y\n",
        "    \n",
        "    for i in data[x].unique():\n",
        "        print(f'{i} data points: {len(data[data[x] ==i])}')\n",
        "    #y_vals = np.log10(data[y].copy())\n",
        "    #print(y_vals)\n",
        "    \n",
        "    data[y_log] = (np.log10(data[y]))\n",
        "    fig = plt.figure(figsize=(8,5))\n",
        "    sns.violinplot(x=x, y=y_log, data=data, inner=quartile_style)\n",
        "    \n",
        "    \n",
        "    \n",
        "generate_violinplot('Treatment', 'Deff1', fstats_tot, 'quartile')\n",
        "plt.title('Diffusion Coefficients at 0.33s of Treatment Groups')"
      ],
      "outputs": [
        {
          "output_type": "stream",
          "name": "stdout",
          "text": [
            "ChABC data points: 61449\n",
            "HYase data points: 61745\n",
            "NT data points: 60989\n"
          ]
        },
        {
          "output_type": "execute_result",
          "execution_count": 21,
          "data": {
            "text/plain": "Text(0.5, 1.0, 'Diffusion Coefficients at 0.33s of Treatment Groups')"
          },
          "metadata": {}
        },
        {
          "output_type": "display_data",
          "data": {
            "image/png": "[encoded data removed]",
            "text/plain": "<Figure size 576x360 with 1 Axes>"
          },
          "metadata": {
            "needs_background": "light"
          }
        }
      ],
      "execution_count": 21,
      "metadata": {}
    },
    {
      "cell_type": "code",
      "source": [
        "generate_violinplot('Treatment', 'Deff2', fstats_tot)\n",
        "plt.title('Diffusion Coefficients at 3.3s of Treatment Groups')"
      ],
      "outputs": [
        {
          "output_type": "stream",
          "name": "stdout",
          "text": [
            "Number of ChABC data points is 1378\n",
            "Number of HYase data points is 1476\n",
            "Number of NT data points is 3279\n"
          ]
        },
        {
          "output_type": "execute_result",
          "execution_count": 20,
          "data": {
            "text/plain": "Text(0.5, 1.0, 'Diffusion Coefficients at 3.3s of Treatment Groups')"
          },
          "metadata": {}
        },
        {
          "output_type": "display_data",
          "data": {
            "image/png": "[encoded data removed]",
            "text/plain": "<Figure size 576x360 with 1 Axes>"
          },
          "metadata": {
            "needs_background": "light"
          }
        }
      ],
      "execution_count": 20,
      "metadata": {}
    },
    {
      "cell_type": "markdown",
      "source": [
        "Load in another dataset with deff2 at a different time"
      ],
      "metadata": {}
    },
    {
      "cell_type": "code",
      "source": [
        "# Define path to folder that contains data\n",
        "dataset_path = workbookDir + '/data/0.8s_deff2_features_ecm/'\n",
        "\n",
        "# Create list of file names within the data folder\n",
        "filelist = [f for f in listdir(dataset_path) if isfile(join(dataset_path, f)) and 'feat' in f]\n",
        "print(len(filelist)) # Make sure there are the right number of files"
      ],
      "outputs": [
        {
          "output_type": "stream",
          "name": "stdout",
          "text": [
            "180\n"
          ]
        }
      ],
      "execution_count": 40,
      "metadata": {}
    },
    {
      "cell_type": "code",
      "source": [
        "fstats_tot = data_process.generate_fullstats(dataset_path, filelist, ['HYase', 'ChABC','NT'], 'Treatment')"
      ],
      "outputs": [
        {
          "output_type": "stream",
          "name": "stdout",
          "text": [
            "features_ChABC_brain_1_slice_1_vid_1.csv size: (502, 67)\n",
            "features_ChABC_brain_1_slice_1_vid_2.csv size: (1734, 67)\n",
            "features_ChABC_brain_1_slice_1_vid_3.csv size: (593, 67)\n",
            "features_ChABC_brain_1_slice_1_vid_4.csv size: (258, 67)\n",
            "features_ChABC_brain_1_slice_1_vid_5.csv size: (888, 67)\n",
            "features_ChABC_brain_1_slice_2_vid_1.csv size: (1350, 67)\n",
            "features_ChABC_brain_1_slice_2_vid_2.csv size: (690, 67)\n",
            "features_ChABC_brain_1_slice_2_vid_3.csv size: (1257, 67)\n",
            "features_ChABC_brain_1_slice_2_vid_4.csv size: (1070, 67)\n",
            "features_ChABC_brain_1_slice_2_vid_5.csv size: (1097, 67)\n",
            "features_ChABC_brain_1_slice_3_vid_1.csv size: (1141, 67)\n",
            "features_ChABC_brain_1_slice_3_vid_2.csv size: (1307, 67)\n",
            "features_ChABC_brain_1_slice_3_vid_3.csv size: (650, 67)\n",
            "features_ChABC_brain_1_slice_3_vid_4.csv size: (1594, 67)\n",
            "features_ChABC_brain_1_slice_3_vid_5.csv size: (1212, 67)\n",
            "features_ChABC_brain_2_slice_1_vid_1.csv size: (1133, 67)\n",
            "features_ChABC_brain_2_slice_1_vid_2.csv size: (2291, 67)\n",
            "features_ChABC_brain_2_slice_1_vid_3.csv size: (1543, 67)\n",
            "features_ChABC_brain_2_slice_1_vid_4.csv size: (952, 67)\n",
            "features_ChABC_brain_2_slice_1_vid_5.csv size: (2342, 67)\n",
            "features_ChABC_brain_2_slice_2_vid_1.csv size: (1788, 67)\n",
            "features_ChABC_brain_2_slice_2_vid_2.csv size: (714, 67)\n",
            "features_ChABC_brain_2_slice_2_vid_3.csv size: (1336, 67)\n",
            "features_ChABC_brain_2_slice_2_vid_4.csv size: (1244, 67)\n",
            "features_ChABC_brain_2_slice_2_vid_5.csv size: (645, 67)\n",
            "features_ChABC_brain_2_slice_3_vid_1.csv size: (786, 67)\n",
            "features_ChABC_brain_2_slice_3_vid_2.csv size: (410, 67)\n",
            "features_ChABC_brain_2_slice_3_vid_3.csv size: (556, 67)\n",
            "features_ChABC_brain_2_slice_3_vid_4.csv size: (450, 67)\n",
            "features_ChABC_brain_2_slice_3_vid_5.csv size: (437, 67)\n",
            "features_ChABC_brain_3_slice_1_vid_1.csv size: (1225, 67)\n",
            "features_ChABC_brain_3_slice_1_vid_2.csv size: (925, 67)\n",
            "features_ChABC_brain_3_slice_1_vid_3.csv size: (1080, 67)\n",
            "features_ChABC_brain_3_slice_1_vid_4.csv size: (714, 67)\n",
            "features_ChABC_brain_3_slice_1_vid_5.csv size: (1065, 67)\n",
            "features_ChABC_brain_3_slice_2_vid_1.csv size: (994, 67)\n",
            "features_ChABC_brain_3_slice_2_vid_2.csv size: (636, 67)\n",
            "features_ChABC_brain_3_slice_2_vid_3.csv size: (1285, 67)\n",
            "features_ChABC_brain_3_slice_2_vid_4.csv size: (1240, 67)\n",
            "features_ChABC_brain_3_slice_2_vid_5.csv size: (2084, 67)\n",
            "features_ChABC_brain_3_slice_3_vid_1.csv size: (494, 67)\n",
            "features_ChABC_brain_3_slice_3_vid_2.csv size: (597, 67)\n",
            "features_ChABC_brain_3_slice_3_vid_3.csv size: (919, 67)\n",
            "features_ChABC_brain_3_slice_3_vid_4.csv size: (381, 67)\n",
            "features_ChABC_brain_3_slice_3_vid_5.csv size: (364, 67)\n",
            "features_ChABC_brain_4_slice_1_vid_1.csv size: (1625, 67)\n",
            "features_ChABC_brain_4_slice_1_vid_2.csv size: (1315, 67)\n",
            "features_ChABC_brain_4_slice_1_vid_3.csv size: (2688, 67)\n",
            "features_ChABC_brain_4_slice_1_vid_4.csv size: (2452, 67)\n",
            "features_ChABC_brain_4_slice_1_vid_5.csv size: (773, 67)\n",
            "features_ChABC_brain_4_slice_2_vid_1.csv size: (501, 67)\n",
            "features_ChABC_brain_4_slice_2_vid_2.csv size: (908, 67)\n",
            "features_ChABC_brain_4_slice_2_vid_3.csv size: (1052, 67)\n",
            "features_ChABC_brain_4_slice_2_vid_4.csv size: (1016, 67)\n",
            "features_ChABC_brain_4_slice_2_vid_5.csv size: (861, 67)\n",
            "features_ChABC_brain_4_slice_3_vid_1.csv size: (2099, 67)\n",
            "features_ChABC_brain_4_slice_3_vid_2.csv size: (4602, 67)\n",
            "features_ChABC_brain_4_slice_3_vid_3.csv size: (2091, 67)\n",
            "features_ChABC_brain_4_slice_3_vid_4.csv size: (2689, 67)\n",
            "features_ChABC_brain_4_slice_3_vid_5.csv size: (1966, 67)\n",
            "features_HYase_brain_1_slice_1_vid_1.csv size: (721, 67)\n",
            "features_HYase_brain_1_slice_1_vid_2.csv size: (1264, 67)\n",
            "features_HYase_brain_1_slice_1_vid_3.csv size: (978, 67)\n",
            "features_HYase_brain_1_slice_1_vid_4.csv size: (984, 67)\n",
            "features_HYase_brain_1_slice_1_vid_5.csv size: (1439, 67)\n",
            "features_HYase_brain_1_slice_2_vid_1.csv size: (1233, 67)\n",
            "features_HYase_brain_1_slice_2_vid_2.csv size: (1906, 67)\n",
            "features_HYase_brain_1_slice_2_vid_3.csv size: (2156, 67)\n",
            "features_HYase_brain_1_slice_2_vid_4.csv size: (2428, 67)\n",
            "features_HYase_brain_1_slice_2_vid_5.csv size: (1733, 67)\n",
            "features_HYase_brain_1_slice_3_vid_1.csv size: (1565, 67)\n",
            "features_HYase_brain_1_slice_3_vid_2.csv size: (1673, 67)\n",
            "features_HYase_brain_1_slice_3_vid_3.csv size: (1538, 67)\n",
            "features_HYase_brain_1_slice_3_vid_4.csv size: (653, 67)\n",
            "features_HYase_brain_1_slice_3_vid_5.csv size: (517, 67)\n",
            "features_HYase_brain_2_slice_1_vid_1.csv size: (1761, 67)\n",
            "features_HYase_brain_2_slice_1_vid_2.csv size: (1649, 67)\n",
            "features_HYase_brain_2_slice_1_vid_3.csv size: (1541, 67)\n",
            "features_HYase_brain_2_slice_1_vid_4.csv size: (4129, 67)\n",
            "features_HYase_brain_2_slice_1_vid_5.csv size: (1833, 67)\n",
            "features_HYase_brain_2_slice_2_vid_1.csv size: (729, 67)\n",
            "features_HYase_brain_2_slice_2_vid_2.csv size: (788, 67)\n",
            "features_HYase_brain_2_slice_2_vid_3.csv size: (554, 67)\n",
            "features_HYase_brain_2_slice_2_vid_4.csv size: (1252, 67)\n",
            "features_HYase_brain_2_slice_2_vid_5.csv size: (1207, 67)\n",
            "features_HYase_brain_2_slice_3_vid_1.csv size: (1399, 67)\n",
            "features_HYase_brain_2_slice_3_vid_2.csv size: (1744, 67)\n",
            "features_HYase_brain_2_slice_3_vid_3.csv size: (1959, 67)\n",
            "features_HYase_brain_2_slice_3_vid_4.csv size: (3594, 67)\n",
            "features_HYase_brain_2_slice_3_vid_5.csv size: (800, 67)\n",
            "features_HYase_brain_3_slice_1_vid_1.csv size: (2315, 67)\n",
            "features_HYase_brain_3_slice_1_vid_2.csv size: (1058, 67)\n",
            "features_HYase_brain_3_slice_1_vid_3.csv size: (1033, 67)\n",
            "features_HYase_brain_3_slice_1_vid_4.csv size: (571, 67)\n",
            "features_HYase_brain_3_slice_1_vid_5.csv size: (637, 67)\n",
            "features_HYase_brain_3_slice_2_vid_1.csv size: (1868, 67)\n",
            "features_HYase_brain_3_slice_2_vid_2.csv size: (1868, 67)\n",
            "features_HYase_brain_3_slice_2_vid_3.csv size: (735, 67)\n",
            "features_HYase_brain_3_slice_2_vid_4.csv size: (1403, 67)\n",
            "features_HYase_brain_3_slice_2_vid_5.csv size: (870, 67)\n",
            "features_HYase_brain_3_slice_3_vid_1.csv size: (612, 67)\n",
            "features_HYase_brain_3_slice_3_vid_2.csv size: (857, 67)\n",
            "features_HYase_brain_3_slice_3_vid_3.csv size: (411, 67)\n",
            "features_HYase_brain_3_slice_3_vid_4.csv size: (1033, 67)\n",
            "features_HYase_brain_3_slice_3_vid_5.csv size: (944, 67)\n",
            "features_HYase_brain_4_slice_1_vid_1.csv size: (227, 67)\n",
            "features_HYase_brain_4_slice_1_vid_2.csv size: (952, 67)\n",
            "features_HYase_brain_4_slice_1_vid_3.csv size: (552, 67)\n",
            "features_HYase_brain_4_slice_1_vid_4.csv size: (605, 67)\n",
            "features_HYase_brain_4_slice_1_vid_5.csv size: (420, 67)\n",
            "features_HYase_brain_4_slice_2_vid_1.csv size: (446, 67)\n",
            "features_HYase_brain_4_slice_2_vid_2.csv size: (781, 67)\n",
            "features_HYase_brain_4_slice_2_vid_3.csv size: (1805, 67)\n",
            "features_HYase_brain_4_slice_2_vid_4.csv size: (1502, 67)\n",
            "features_HYase_brain_4_slice_2_vid_5.csv size: (1174, 67)\n",
            "features_HYase_brain_4_slice_3_vid_1.csv size: (443, 67)\n",
            "features_HYase_brain_4_slice_3_vid_2.csv size: (645, 67)\n",
            "features_HYase_brain_4_slice_3_vid_3.csv size: (696, 67)\n",
            "features_HYase_brain_4_slice_3_vid_4.csv size: (668, 67)\n",
            "features_HYase_brain_4_slice_3_vid_5.csv size: (582, 67)\n",
            "features_NT_brain_1_slice_1_vid_1.csv size: (1161, 67)\n",
            "features_NT_brain_1_slice_1_vid_2.csv size: (1479, 67)\n",
            "features_NT_brain_1_slice_1_vid_3.csv size: (1560, 67)\n",
            "features_NT_brain_1_slice_1_vid_4.csv size: (1524, 67)\n",
            "features_NT_brain_1_slice_1_vid_5.csv size: (674, 67)\n",
            "features_NT_brain_1_slice_2_vid_1.csv size: (1173, 67)\n",
            "features_NT_brain_1_slice_2_vid_2.csv size: (1476, 67)\n",
            "features_NT_brain_1_slice_2_vid_3.csv size: (1443, 67)\n",
            "features_NT_brain_1_slice_2_vid_4.csv size: (797, 67)\n",
            "features_NT_brain_1_slice_2_vid_5.csv size: (1146, 67)\n",
            "features_NT_brain_1_slice_3_vid_1.csv size: (1372, 67)\n",
            "features_NT_brain_1_slice_3_vid_2.csv size: (668, 67)\n",
            "features_NT_brain_1_slice_3_vid_3.csv size: (724, 67)\n",
            "features_NT_brain_1_slice_3_vid_4.csv size: (1446, 67)\n",
            "features_NT_brain_1_slice_3_vid_5.csv size: (1009, 67)\n",
            "features_NT_brain_2_slice_1_vid_1.csv size: (416, 67)\n",
            "features_NT_brain_2_slice_1_vid_2.csv size: (833, 67)\n",
            "features_NT_brain_2_slice_1_vid_3.csv size: (1017, 67)\n",
            "features_NT_brain_2_slice_1_vid_4.csv size: (878, 67)\n",
            "features_NT_brain_2_slice_1_vid_5.csv size: (467, 67)\n",
            "features_NT_brain_2_slice_2_vid_1.csv size: (2488, 67)\n",
            "features_NT_brain_2_slice_2_vid_2.csv size: (2322, 67)\n",
            "features_NT_brain_2_slice_2_vid_3.csv size: (1735, 67)\n",
            "features_NT_brain_2_slice_2_vid_4.csv size: (1650, 67)\n"
          ]
        },
        {
          "output_type": "stream",
          "name": "stdout",
          "text": [
            "features_NT_brain_2_slice_2_vid_5.csv size: (2100, 67)\n",
            "features_NT_brain_2_slice_3_vid_1.csv size: (562, 67)\n",
            "features_NT_brain_2_slice_3_vid_2.csv size: (853, 67)\n",
            "features_NT_brain_2_slice_3_vid_3.csv size: (817, 67)\n",
            "features_NT_brain_2_slice_3_vid_4.csv size: (598, 67)\n",
            "features_NT_brain_2_slice_3_vid_5.csv size: (1062, 67)\n",
            "features_NT_brain_3_slice_1_vid_1.csv size: (2917, 67)\n",
            "features_NT_brain_3_slice_1_vid_2.csv size: (2268, 67)\n",
            "features_NT_brain_3_slice_1_vid_3.csv size: (3859, 67)\n",
            "features_NT_brain_3_slice_1_vid_4.csv size: (3271, 67)\n",
            "features_NT_brain_3_slice_1_vid_5.csv size: (3054, 67)\n",
            "features_NT_brain_3_slice_2_vid_1.csv size: (840, 67)\n",
            "features_NT_brain_3_slice_2_vid_2.csv size: (572, 67)\n",
            "features_NT_brain_3_slice_2_vid_3.csv size: (886, 67)\n",
            "features_NT_brain_3_slice_2_vid_4.csv size: (364, 67)\n",
            "features_NT_brain_3_slice_2_vid_5.csv size: (893, 67)\n",
            "features_NT_brain_3_slice_3_vid_1.csv size: (596, 67)\n",
            "features_NT_brain_3_slice_3_vid_2.csv size: (378, 67)\n",
            "features_NT_brain_3_slice_3_vid_3.csv size: (434, 67)\n",
            "features_NT_brain_3_slice_3_vid_4.csv size: (515, 67)\n",
            "features_NT_brain_3_slice_3_vid_5.csv size: (493, 67)\n",
            "features_NT_brain_4_slice_1_vid_1.csv size: (780, 67)\n",
            "features_NT_brain_4_slice_1_vid_2.csv size: (648, 67)\n",
            "features_NT_brain_4_slice_1_vid_3.csv size: (294, 67)\n",
            "features_NT_brain_4_slice_1_vid_4.csv size: (526, 67)\n",
            "features_NT_brain_4_slice_1_vid_5.csv size: (624, 67)\n",
            "features_NT_brain_4_slice_2_vid_1.csv size: (381, 67)\n",
            "features_NT_brain_4_slice_2_vid_2.csv size: (1195, 67)\n",
            "features_NT_brain_4_slice_2_vid_3.csv size: (432, 67)\n",
            "features_NT_brain_4_slice_2_vid_4.csv size: (700, 67)\n",
            "features_NT_brain_4_slice_2_vid_5.csv size: (732, 67)\n",
            "features_NT_brain_4_slice_3_vid_1.csv size: (678, 67)\n",
            "features_NT_brain_4_slice_3_vid_2.csv size: (374, 67)\n",
            "features_NT_brain_4_slice_3_vid_3.csv size: (1706, 67)\n",
            "features_NT_brain_4_slice_3_vid_4.csv size: (2106, 67)\n",
            "features_NT_brain_4_slice_3_vid_5.csv size: (1876, 67)\n"
          ]
        }
      ],
      "execution_count": 41,
      "metadata": {}
    },
    {
      "cell_type": "code",
      "source": [
        "generate_violinplot('Treatment', 'Deff2', fstats_tot)\n",
        "plt.title('Diffusion Coefficients at 0.8s of Treatment Groups')\n",
        "plt.ylim([-6,3])"
      ],
      "outputs": [
        {
          "output_type": "stream",
          "name": "stdout",
          "text": [
            "ChABC data points: 22468\n",
            "HYase data points: 22667\n",
            "NT data points: 28179\n"
          ]
        },
        {
          "output_type": "execute_result",
          "execution_count": 47,
          "data": {
            "text/plain": "(-6.0, 3.0)"
          },
          "metadata": {}
        },
        {
          "output_type": "display_data",
          "data": {
            "image/png": "[encoded data removed]",
            "text/plain": "<Figure size 576x360 with 1 Axes>"
          },
          "metadata": {
            "needs_background": "light"
          }
        }
      ],
      "execution_count": 47,
      "metadata": {}
    },
    {
      "cell_type": "code",
      "source": [],
      "outputs": [],
      "execution_count": null,
      "metadata": {}
    }
  ],
  "metadata": {
    "kernel_info": {
      "name": "python3"
    },
    "kernelspec": {
      "display_name": "Python 3",
      "language": "python",
      "name": "python3"
    },
    "language_info": {
      "name": "python",
      "version": "3.6.9",
      "mimetype": "text/x-python",
      "codemirror_mode": {
        "name": "ipython",
        "version": 3
      },
      "pygments_lexer": "ipython3",
      "nbconvert_exporter": "python",
      "file_extension": ".py"
    },
    "nteract": {
      "version": "nteract-front-end@1.0.0"
    }
  },
  "nbformat": 4,
  "nbformat_minor": 2
}