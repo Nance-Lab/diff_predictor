{
 "cells": [
  {
   "cell_type": "code",
   "execution_count": null,
   "metadata": {},
   "outputs": [],
   "source": [
    "import numpy as np\n",
    "import pandas as pd\n",
    "import matplotlib.pyplot as plt\n",
    "from sklearn.preprocessing import normalize\n",
    "\n",
    "from diff_classifier import features\n",
    "import diff_predictor\n",
    "from diff_predictor import data_process\n",
    "\n",
    "from os import listdir, getcwd, chdir\n",
    "from os.path import isfile, join"
   ]
  },
  {
   "cell_type": "code",
   "execution_count": null,
   "metadata": {},
   "outputs": [],
   "source": [
    "workbookDir = getcwd()\n",
    "print('Current Notebook Dir: ' + workbookDir)\n",
    "chdir(workbookDir) # Go to current workbook Dir\"\n",
    "chdir('..')        # Go up one\n",
    "print(f'Using current directory for loading data: {getcwd()}')\n",
    "workbookDir = getcwd()"
   ]
  },
  {
   "cell_type": "code",
   "execution_count": null,
   "metadata": {},
   "outputs": [],
   "source": [
    "#third dataset: rotenone\n",
    "rotenone_data_path = '../diff_predictor/data/MSD_x_y/'\n",
    "rotenone_msd_filelist = [f for f in listdir(rotenone_data_path) if isfile(join(rotenone_data_path, f)) and 'cort' in f]\n",
    "print((rotenone_msd_filelist))"
   ]
  },
  {
   "cell_type": "code",
   "execution_count": null,
   "metadata": {},
   "outputs": [],
   "source": [
    "for file in rotenone_msd_filelist:\n",
    "    df = pd.read_csv(rotenone_data_path + file)\n",
    "    for traj in df['Track_ID'].unique():\n",
    "        "
   ]
  },
  {
   "cell_type": "code",
   "execution_count": null,
   "metadata": {},
   "outputs": [],
   "source": [
    "t1 = df[df['Track_ID']==375].dropna()\n",
    "t2 = df[df['Track_ID']==393][['X', 'Y']]\n",
    "t2 = t2.dropna()\n",
    "\n",
    "added = np.add(t1[['X', 'Y']].values, t2[['X', 'Y']].values)"
   ]
  },
  {
   "cell_type": "code",
   "execution_count": null,
   "metadata": {},
   "outputs": [],
   "source": []
  },
  {
   "cell_type": "code",
   "execution_count": null,
   "metadata": {},
   "outputs": [],
   "source": []
  },
  {
   "cell_type": "code",
   "execution_count": null,
   "metadata": {},
   "outputs": [],
   "source": [
    "out = features.calculate_features(df)"
   ]
  },
  {
   "cell_type": "code",
   "execution_count": null,
   "metadata": {},
   "outputs": [],
   "source": [
    "datai = out.copy()"
   ]
  },
  {
   "cell_type": "code",
   "execution_count": null,
   "metadata": {},
   "outputs": [],
   "source": [
    "data_process.bin_data(out)"
   ]
  },
  {
   "cell_type": "code",
   "execution_count": null,
   "metadata": {},
   "outputs": [],
   "source": [
    "count = 0\n",
    "\n",
    "for xrange in range(0, 16):\n",
    "            for yrange in range(0, 16):\n",
    "                bitesize = datai[(datai['X'] >= 128*xrange) & (datai['X'] < 128*(xrange+1)) &\n",
    "                                 (datai['Y'] >= 128*yrange) & (datai['Y'] < 128*(yrange+1))]\n",
    "                bitesize.replace([np.inf, -np.inf], np.nan)\n",
    "                if bitesize.shape[0] >0:\n",
    "                   count += 1\n",
    "                print(bitesize.shape)\n",
    "                print(bitesize['Track_ID'].unique())\n",
    "                # for col in bitesize.columns:\n",
    "                #     if col not in nonnum and 'Mean' not in col and 'Std' not in col:\n",
    "                #         datai['Mean '+ col][bitesize.index] = np.nanmean(bitesize[col])\n",
    "                #         datai['Std '+ col][bitesize.index] = np.nanstd(bitesize[col])"
   ]
  },
  {
   "cell_type": "code",
   "execution_count": null,
   "metadata": {},
   "outputs": [],
   "source": [
    "len(datai)"
   ]
  },
  {
   "cell_type": "code",
   "execution_count": null,
   "metadata": {},
   "outputs": [],
   "source": []
  },
  {
   "cell_type": "code",
   "execution_count": null,
   "metadata": {},
   "outputs": [],
   "source": [
    "# To implement: visualizations of diffusion mode counts\n"
   ]
  },
  {
   "cell_type": "code",
   "execution_count": null,
   "metadata": {},
   "outputs": [],
   "source": [
    "# to implement: visualizations of trajectory length for different diffusion modes, for each class"
   ]
  }
 ],
 "metadata": {
  "interpreter": {
   "hash": "40d3a090f54c6569ab1632332b64b2c03c39dcf918b08424e98f38b5ae0af88f"
  },
  "kernelspec": {
   "display_name": "Python 3.7.7 ('base')",
   "language": "python",
   "name": "python3"
  },
  "language_info": {
   "codemirror_mode": {
    "name": "ipython",
    "version": 3
   },
   "file_extension": ".py",
   "mimetype": "text/x-python",
   "name": "python",
   "nbconvert_exporter": "python",
   "pygments_lexer": "ipython3",
   "version": "3.7.7"
  }
 },
 "nbformat": 4,
 "nbformat_minor": 2
}
