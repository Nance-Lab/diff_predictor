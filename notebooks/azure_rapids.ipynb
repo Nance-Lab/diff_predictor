{
  "cells": [
    {
      "cell_type": "code",
      "source": [
        "import cudf\n",
        "import cupy\n",
        "#import matplotlib.pyplot as plt\n",
        "from cuml.cluster import KMeans as cuKMeans\n",
        "from cuml.datasets import make_blobs\n",
        "#from sklearn.cluster import KMeans as skKMeans\n",
        "#from sklearn.metrics import adjusted_rand_score\n",
        "\n",
        "#%matplotlib inline"
      ],
      "outputs": [
        {
          "output_type": "error",
          "ename": "ModuleNotFoundError",
          "evalue": "No module named 'cudf'",
          "traceback": [
            "\u001b[0;31m---------------------------------------------------------------------------\u001b[0m",
            "\u001b[0;31mModuleNotFoundError\u001b[0m                       Traceback (most recent call last)",
            "\u001b[0;32m<ipython-input-1-a195803f892a>\u001b[0m in \u001b[0;36m<module>\u001b[0;34m\u001b[0m\n\u001b[0;32m----> 1\u001b[0;31m \u001b[0;32mimport\u001b[0m \u001b[0mcudf\u001b[0m\u001b[0;34m\u001b[0m\u001b[0;34m\u001b[0m\u001b[0m\n\u001b[0m\u001b[1;32m      2\u001b[0m \u001b[0;32mimport\u001b[0m \u001b[0mcupy\u001b[0m\u001b[0;34m\u001b[0m\u001b[0;34m\u001b[0m\u001b[0m\n\u001b[1;32m      3\u001b[0m \u001b[0;31m#import matplotlib.pyplot as plt\u001b[0m\u001b[0;34m\u001b[0m\u001b[0;34m\u001b[0m\u001b[0;34m\u001b[0m\u001b[0m\n\u001b[1;32m      4\u001b[0m \u001b[0;32mfrom\u001b[0m \u001b[0mcuml\u001b[0m\u001b[0;34m.\u001b[0m\u001b[0mcluster\u001b[0m \u001b[0;32mimport\u001b[0m \u001b[0mKMeans\u001b[0m \u001b[0;32mas\u001b[0m \u001b[0mcuKMeans\u001b[0m\u001b[0;34m\u001b[0m\u001b[0;34m\u001b[0m\u001b[0m\n\u001b[1;32m      5\u001b[0m \u001b[0;32mfrom\u001b[0m \u001b[0mcuml\u001b[0m\u001b[0;34m.\u001b[0m\u001b[0mdatasets\u001b[0m \u001b[0;32mimport\u001b[0m \u001b[0mmake_blobs\u001b[0m\u001b[0;34m\u001b[0m\u001b[0;34m\u001b[0m\u001b[0m\n",
            "\u001b[0;31mModuleNotFoundError\u001b[0m: No module named 'cudf'"
          ]
        }
      ],
      "execution_count": 1,
      "metadata": {
        "collapsed": true,
        "jupyter": {
          "source_hidden": false,
          "outputs_hidden": false
        },
        "nteract": {
          "transient": {
            "deleting": false
          }
        },
        "gather": {
          "logged": 1612913050832
        }
      }
    },
    {
      "cell_type": "code",
      "source": [
        "n_samples = 100000\n",
        "n_features = 2\n",
        "\n",
        "n_clusters = 5\n",
        "random_state = 0"
      ],
      "outputs": [],
      "execution_count": 13,
      "metadata": {
        "collapsed": true,
        "jupyter": {
          "source_hidden": false,
          "outputs_hidden": false
        },
        "nteract": {
          "transient": {
            "deleting": false
          }
        },
        "gather": {
          "logged": 1612913064215
        }
      }
    },
    {
      "cell_type": "code",
      "source": [
        "device_data, device_labels = make_blobs(n_samples=n_samples,\n",
        "                                        n_features=n_features,\n",
        "                                        centers=n_clusters,\n",
        "                                        random_state=random_state,\n",
        "                                        cluster_std=0.1)\n",
        "\n",
        "device_data = cudf.DataFrame(device_data)\n",
        "device_labels = cudf.Series(device_labels)"
      ],
      "outputs": [],
      "execution_count": 14,
      "metadata": {
        "collapsed": true,
        "jupyter": {
          "source_hidden": false,
          "outputs_hidden": false
        },
        "nteract": {
          "transient": {
            "deleting": false
          }
        },
        "gather": {
          "logged": 1612913088452
        }
      }
    },
    {
      "cell_type": "code",
      "source": [
        "# Copy dataset from GPU memory to host memory.\n",
        "# This is done to later compare CPU and GPU results.\n",
        "host_data = device_data.to_pandas()\n",
        "host_labels = device_labels.to_pandas()"
      ],
      "outputs": [],
      "execution_count": 15,
      "metadata": {
        "collapsed": true,
        "jupyter": {
          "source_hidden": false,
          "outputs_hidden": false
        },
        "nteract": {
          "transient": {
            "deleting": false
          }
        },
        "gather": {
          "logged": 1612913109076
        }
      }
    },
    {
      "cell_type": "code",
      "source": [
        "%%time\n",
        "kmeans_cuml = cuKMeans(init=\"k-means||\",\n",
        "                       n_clusters=n_clusters,\n",
        "                       oversampling_factor=40,\n",
        "                       random_state=random_state)\n",
        "\n",
        "kmeans_cuml.fit(device_data)"
      ],
      "outputs": [
        {
          "output_type": "error",
          "ename": "RuntimeError",
          "evalue": "CUDA error encountered at: file=/opt/conda/envs/rapids/conda-bld/libcuml_1607637359909/work/cpp/src/kmeans/common.cuh line=765: call='cub::DeviceReduce::Sum(nullptr, temp_storage_bytes, weight.data(), wt_aggr.data(), n_samples, stream)', Reason=cudaErrorInvalidDeviceFunction:invalid device function\nObtained 64 stack frames\n#0 in /anaconda/envs/rapids-0.17/lib/python3.7/site-packages/cuml/common/../../../../libcuml++.so(_ZN4raft9exception18collect_call_stackEv+0x46) [0x7efb68c15ae6]\n#1 in /anaconda/envs/rapids-0.17/lib/python3.7/site-packages/cuml/common/../../../../libcuml++.so(_ZN4raft10cuda_errorC1ERKNSt7__cxx1112basic_stringIcSt11char_traitsIcESaIcEEE+0x69) [0x7efb68c16249]\n#2 in /anaconda/envs/rapids-0.17/lib/python3.7/site-packages/cuml/common/../../../../libcuml++.so(_ZN2ML6kmeans6detail12checkWeightsIfiEEvRKN4raft8handle_tERNS3_2mr6device6bufferIcEERNS_6TensorIT_Li1ET0_EEP11CUstream_st+0x6dd) [0x7efb68de020d]\n#3 in /anaconda/envs/rapids-0.17/lib/python3.7/site-packages/cuml/common/../../../../libcuml++.so(_ZN2ML6kmeans4impl3fitIfiEEvRKN4raft8handle_tERKNS0_12KMeansParamsEPKT_iiSC_PSA_RSA_Ri+0x2ab) [0x7efb68dd8d5b]\n#4 in /anaconda/envs/rapids-0.17/lib/python3.7/site-packages/cuml/common/../../../../libcuml++.so(_ZN2ML6kmeans11fit_predictERKN4raft8handle_tERKNS0_12KMeansParamsEPKfiiS9_PfPiRfRi+0x4b) [0x7efb68dd4d9b]\n#5 in /anaconda/envs/rapids-0.17/lib/python3.7/site-packages/cuml/cluster/kmeans.cpython-37m-x86_64-linux-gnu.so(+0x35a77) [0x7efb4597ca77]\n#6 in /anaconda/envs/rapids-0.17/lib/python3.7/site-packages/cuml/cluster/kmeans.cpython-37m-x86_64-linux-gnu.so(+0x38741) [0x7efb4597f741]\n#7 in /anaconda/envs/rapids-0.17/bin/python(PyObject_Call+0x61) [0x5614e593f191]\n#8 in /anaconda/envs/rapids-0.17/bin/python(_PyEval_EvalFrameDefault+0x2009) [0x5614e59ea869]\n#9 in /anaconda/envs/rapids-0.17/bin/python(_PyEval_EvalCodeWithName+0x242) [0x5614e592c932]\n#10 in /anaconda/envs/rapids-0.17/bin/python(_PyFunction_FastCallKeywords+0x320) [0x5614e5978700]\n#11 in /anaconda/envs/rapids-0.17/bin/python(+0x13d8e8) [0x5614e597a8e8]\n#12 in /anaconda/envs/rapids-0.17/bin/python(_PyEval_EvalFrameDefault+0x4eea) [0x5614e59ed74a]\n#13 in /anaconda/envs/rapids-0.17/bin/python(_PyEval_EvalCodeWithName+0x242) [0x5614e592c932]\n#14 in /anaconda/envs/rapids-0.17/bin/python(PyEval_EvalCodeEx+0x39) [0x5614e592db49]\n#15 in /anaconda/envs/rapids-0.17/bin/python(PyEval_EvalCode+0x1b) [0x5614e5a0dc2b]\n#16 in /anaconda/envs/rapids-0.17/bin/python(+0x247522) [0x5614e5a84522]\n#17 in /anaconda/envs/rapids-0.17/bin/python(_PyMethodDef_RawFastCallKeywords+0x68) [0x5614e5979768]\n#18 in /anaconda/envs/rapids-0.17/bin/python(+0x13d9f8) [0x5614e597a9f8]\n#19 in /anaconda/envs/rapids-0.17/bin/python(_PyEval_EvalFrameDefault+0xaad) [0x5614e59e930d]\n#20 in /anaconda/envs/rapids-0.17/bin/python(_PyEval_EvalCodeWithName+0x242) [0x5614e592c932]\n#21 in /anaconda/envs/rapids-0.17/bin/python(_PyFunction_FastCallDict+0x35d) [0x5614e592dead]\n#22 in /anaconda/envs/rapids-0.17/bin/python(_PyEval_EvalFrameDefault+0x2009) [0x5614e59ea869]\n#23 in /anaconda/envs/rapids-0.17/bin/python(_PyEval_EvalCodeWithName+0x242) [0x5614e592c932]\n#24 in /anaconda/envs/rapids-0.17/bin/python(_PyFunction_FastCallKeywords+0x320) [0x5614e5978700]\n#25 in /anaconda/envs/rapids-0.17/bin/python(+0x13d8e8) [0x5614e597a8e8]\n#26 in /anaconda/envs/rapids-0.17/bin/python(_PyEval_EvalFrameDefault+0xaad) [0x5614e59e930d]\n#27 in /anaconda/envs/rapids-0.17/bin/python(_PyEval_EvalCodeWithName+0x242) [0x5614e592c932]\n#28 in /anaconda/envs/rapids-0.17/bin/python(_PyFunction_FastCallDict+0x6a0) [0x5614e592e1f0]\n#29 in /anaconda/envs/rapids-0.17/bin/python(+0x124c33) [0x5614e5961c33]\n#30 in /anaconda/envs/rapids-0.17/bin/python(PyObject_Call+0x61) [0x5614e593f191]\n#31 in /anaconda/envs/rapids-0.17/bin/python(_PyEval_EvalFrameDefault+0x2009) [0x5614e59ea869]\n#32 in /anaconda/envs/rapids-0.17/bin/python(_PyFunction_FastCallKeywords+0x184) [0x5614e5978564]\n#33 in /anaconda/envs/rapids-0.17/bin/python(+0x13d8e8) [0x5614e597a8e8]\n#34 in /anaconda/envs/rapids-0.17/bin/python(_PyEval_EvalFrameDefault+0xb44) [0x5614e59e93a4]\n#35 in /anaconda/envs/rapids-0.17/bin/python(_PyEval_EvalCodeWithName+0x242) [0x5614e592c932]\n#36 in /anaconda/envs/rapids-0.17/bin/python(PyEval_EvalCodeEx+0x39) [0x5614e592db49]\n#37 in /anaconda/envs/rapids-0.17/bin/python(PyEval_EvalCode+0x1b) [0x5614e5a0dc2b]\n#38 in /anaconda/envs/rapids-0.17/bin/python(+0x247642) [0x5614e5a84642]\n#39 in /anaconda/envs/rapids-0.17/bin/python(_PyMethodDef_RawFastCallKeywords+0x68) [0x5614e5979768]\n#40 in /anaconda/envs/rapids-0.17/bin/python(+0x13d9f8) [0x5614e597a9f8]\n#41 in /anaconda/envs/rapids-0.17/bin/python(_PyEval_EvalFrameDefault+0xaad) [0x5614e59e930d]\n#42 in /anaconda/envs/rapids-0.17/bin/python(+0x1619c3) [0x5614e599e9c3]\n#43 in /anaconda/envs/rapids-0.17/bin/python(_PyEval_EvalFrameDefault+0x1c64) [0x5614e59ea4c4]\n#44 in /anaconda/envs/rapids-0.17/bin/python(+0x1619c3) [0x5614e599e9c3]\n#45 in /anaconda/envs/rapids-0.17/bin/python(_PyEval_EvalFrameDefault+0x1c64) [0x5614e59ea4c4]\n#46 in /anaconda/envs/rapids-0.17/bin/python(+0x1619c3) [0x5614e599e9c3]\n#47 in /anaconda/envs/rapids-0.17/bin/python(_PyMethodDescr_FastCallKeywords+0x374) [0x5614e597a5e4]\n#48 in /anaconda/envs/rapids-0.17/bin/python(+0x13d9bd) [0x5614e597a9bd]\n#49 in /anaconda/envs/rapids-0.17/bin/python(_PyEval_EvalFrameDefault+0xb44) [0x5614e59e93a4]\n#50 in /anaconda/envs/rapids-0.17/bin/python(_PyFunction_FastCallKeywords+0x184) [0x5614e5978564]\n#51 in /anaconda/envs/rapids-0.17/bin/python(+0x13d8e8) [0x5614e597a8e8]\n#52 in /anaconda/envs/rapids-0.17/bin/python(_PyEval_EvalFrameDefault+0xaad) [0x5614e59e930d]\n#53 in /anaconda/envs/rapids-0.17/bin/python(_PyFunction_FastCallKeywords+0x184) [0x5614e5978564]\n#54 in /anaconda/envs/rapids-0.17/bin/python(+0x13d8e8) [0x5614e597a8e8]\n#55 in /anaconda/envs/rapids-0.17/bin/python(_PyEval_EvalFrameDefault+0xb44) [0x5614e59e93a4]\n#56 in /anaconda/envs/rapids-0.17/bin/python(_PyEval_EvalCodeWithName+0x242) [0x5614e592c932]\n#57 in /anaconda/envs/rapids-0.17/bin/python(_PyFunction_FastCallDict+0x6a0) [0x5614e592e1f0]\n#58 in /anaconda/envs/rapids-0.17/bin/python(+0x124c33) [0x5614e5961c33]\n#59 in /anaconda/envs/rapids-0.17/bin/python(PyObject_Call+0x61) [0x5614e593f191]\n#60 in /anaconda/envs/rapids-0.17/bin/python(_PyEval_EvalFrameDefault+0x2009) [0x5614e59ea869]\n#61 in /anaconda/envs/rapids-0.17/bin/python(_PyEval_EvalCodeWithName+0x242) [0x5614e592c932]\n#62 in /anaconda/envs/rapids-0.17/bin/python(_PyFunction_FastCallKeywords+0x320) [0x5614e5978700]\n#63 in /anaconda/envs/rapids-0.17/bin/python(+0x13d8e8) [0x5614e597a8e8]\n",
          "traceback": [
            "\u001b[0;31m---------------------------------------------------------------------------\u001b[0m",
            "\u001b[0;31mRuntimeError\u001b[0m                              Traceback (most recent call last)",
            "\u001b[0;32m<timed exec>\u001b[0m in \u001b[0;36m<module>\u001b[0;34m\u001b[0m\n",
            "\u001b[0;32m/anaconda/envs/rapids-0.17/lib/python3.7/site-packages/cuml/internals/api_decorators.py\u001b[0m in \u001b[0;36minner_with_setters\u001b[0;34m(*args, **kwargs)\u001b[0m\n\u001b[1;32m    408\u001b[0m                                 target_val=target_val)\n\u001b[1;32m    409\u001b[0m \u001b[0;34m\u001b[0m\u001b[0m\n\u001b[0;32m--> 410\u001b[0;31m                 \u001b[0;32mreturn\u001b[0m \u001b[0mfunc\u001b[0m\u001b[0;34m(\u001b[0m\u001b[0;34m*\u001b[0m\u001b[0margs\u001b[0m\u001b[0;34m,\u001b[0m \u001b[0;34m**\u001b[0m\u001b[0mkwargs\u001b[0m\u001b[0;34m)\u001b[0m\u001b[0;34m\u001b[0m\u001b[0;34m\u001b[0m\u001b[0m\n\u001b[0m\u001b[1;32m    411\u001b[0m \u001b[0;34m\u001b[0m\u001b[0m\n\u001b[1;32m    412\u001b[0m         \u001b[0;34m@\u001b[0m\u001b[0mwraps\u001b[0m\u001b[0;34m(\u001b[0m\u001b[0mfunc\u001b[0m\u001b[0;34m)\u001b[0m\u001b[0;34m\u001b[0m\u001b[0;34m\u001b[0m\u001b[0m\n",
            "\u001b[0;32mcuml/cluster/kmeans.pyx\u001b[0m in \u001b[0;36mcuml.cluster.kmeans.KMeans.fit\u001b[0;34m()\u001b[0m\n",
            "\u001b[0;31mRuntimeError\u001b[0m: CUDA error encountered at: file=/opt/conda/envs/rapids/conda-bld/libcuml_1607637359909/work/cpp/src/kmeans/common.cuh line=765: call='cub::DeviceReduce::Sum(nullptr, temp_storage_bytes, weight.data(), wt_aggr.data(), n_samples, stream)', Reason=cudaErrorInvalidDeviceFunction:invalid device function\nObtained 64 stack frames\n#0 in /anaconda/envs/rapids-0.17/lib/python3.7/site-packages/cuml/common/../../../../libcuml++.so(_ZN4raft9exception18collect_call_stackEv+0x46) [0x7efb68c15ae6]\n#1 in /anaconda/envs/rapids-0.17/lib/python3.7/site-packages/cuml/common/../../../../libcuml++.so(_ZN4raft10cuda_errorC1ERKNSt7__cxx1112basic_stringIcSt11char_traitsIcESaIcEEE+0x69) [0x7efb68c16249]\n#2 in /anaconda/envs/rapids-0.17/lib/python3.7/site-packages/cuml/common/../../../../libcuml++.so(_ZN2ML6kmeans6detail12checkWeightsIfiEEvRKN4raft8handle_tERNS3_2mr6device6bufferIcEERNS_6TensorIT_Li1ET0_EEP11CUstream_st+0x6dd) [0x7efb68de020d]\n#3 in /anaconda/envs/rapids-0.17/lib/python3.7/site-packages/cuml/common/../../../../libcuml++.so(_ZN2ML6kmeans4impl3fitIfiEEvRKN4raft8handle_tERKNS0_12KMeansParamsEPKT_iiSC_PSA_RSA_Ri+0x2ab) [0x7efb68dd8d5b]\n#4 in /anaconda/envs/rapids-0.17/lib/python3.7/site-packages/cuml/common/../../../../libcuml++.so(_ZN2ML6kmeans11fit_predictERKN4raft8handle_tERKNS0_12KMeansParamsEPKfiiS9_PfPiRfRi+0x4b) [0x7efb68dd4d9b]\n#5 in /anaconda/envs/rapids-0.17/lib/python3.7/site-packages/cuml/cluster/kmeans.cpython-37m-x86_64-linux-gnu.so(+0x35a77) [0x7efb4597ca77]\n#6 in /anaconda/envs/rapids-0.17/lib/python3.7/site-packages/cuml/cluster/kmeans.cpython-37m-x86_64-linux-gnu.so(+0x38741) [0x7efb4597f741]\n#7 in /anaconda/envs/rapids-0.17/bin/python(PyObject_Call+0x61) [0x5614e593f191]\n#8 in /anaconda/envs/rapids-0.17/bin/python(_PyEval_EvalFrameDefault+0x2009) [0x5614e59ea869]\n#9 in /anaconda/envs/rapids-0.17/bin/python(_PyEval_EvalCodeWithName+0x242) [0x5614e592c932]\n#10 in /anaconda/envs/rapids-0.17/bin/python(_PyFunction_FastCallKeywords+0x320) [0x5614e5978700]\n#11 in /anaconda/envs/rapids-0.17/bin/python(+0x13d8e8) [0x5614e597a8e8]\n#12 in /anaconda/envs/rapids-0.17/bin/python(_PyEval_EvalFrameDefault+0x4eea) [0x5614e59ed74a]\n#13 in /anaconda/envs/rapids-0.17/bin/python(_PyEval_EvalCodeWithName+0x242) [0x5614e592c932]\n#14 in /anaconda/envs/rapids-0.17/bin/python(PyEval_EvalCodeEx+0x39) [0x5614e592db49]\n#15 in /anaconda/envs/rapids-0.17/bin/python(PyEval_EvalCode+0x1b) [0x5614e5a0dc2b]\n#16 in /anaconda/envs/rapids-0.17/bin/python(+0x247522) [0x5614e5a84522]\n#17 in /anaconda/envs/rapids-0.17/bin/python(_PyMethodDef_RawFastCallKeywords+0x68) [0x5614e5979768]\n#18 in /anaconda/envs/rapids-0.17/bin/python(+0x13d9f8) [0x5614e597a9f8]\n#19 in /anaconda/envs/rapids-0.17/bin/python(_PyEval_EvalFrameDefault+0xaad) [0x5614e59e930d]\n#20 in /anaconda/envs/rapids-0.17/bin/python(_PyEval_EvalCodeWithName+0x242) [0x5614e592c932]\n#21 in /anaconda/envs/rapids-0.17/bin/python(_PyFunction_FastCallDict+0x35d) [0x5614e592dead]\n#22 in /anaconda/envs/rapids-0.17/bin/python(_PyEval_EvalFrameDefault+0x2009) [0x5614e59ea869]\n#23 in /anaconda/envs/rapids-0.17/bin/python(_PyEval_EvalCodeWithName+0x242) [0x5614e592c932]\n#24 in /anaconda/envs/rapids-0.17/bin/python(_PyFunction_FastCallKeywords+0x320) [0x5614e5978700]\n#25 in /anaconda/envs/rapids-0.17/bin/python(+0x13d8e8) [0x5614e597a8e8]\n#26 in /anaconda/envs/rapids-0.17/bin/python(_PyEval_EvalFrameDefault+0xaad) [0x5614e59e930d]\n#27 in /anaconda/envs/rapids-0.17/bin/python(_PyEval_EvalCodeWithName+0x242) [0x5614e592c932]\n#28 in /anaconda/envs/rapids-0.17/bin/python(_PyFunction_FastCallDict+0x6a0) [0x5614e592e1f0]\n#29 in /anaconda/envs/rapids-0.17/bin/python(+0x124c33) [0x5614e5961c33]\n#30 in /anaconda/envs/rapids-0.17/bin/python(PyObject_Call+0x61) [0x5614e593f191]\n#31 in /anaconda/envs/rapids-0.17/bin/python(_PyEval_EvalFrameDefault+0x2009) [0x5614e59ea869]\n#32 in /anaconda/envs/rapids-0.17/bin/python(_PyFunction_FastCallKeywords+0x184) [0x5614e5978564]\n#33 in /anaconda/envs/rapids-0.17/bin/python(+0x13d8e8) [0x5614e597a8e8]\n#34 in /anaconda/envs/rapids-0.17/bin/python(_PyEval_EvalFrameDefault+0xb44) [0x5614e59e93a4]\n#35 in /anaconda/envs/rapids-0.17/bin/python(_PyEval_EvalCodeWithName+0x242) [0x5614e592c932]\n#36 in /anaconda/envs/rapids-0.17/bin/python(PyEval_EvalCodeEx+0x39) [0x5614e592db49]\n#37 in /anaconda/envs/rapids-0.17/bin/python(PyEval_EvalCode+0x1b) [0x5614e5a0dc2b]\n#38 in /anaconda/envs/rapids-0.17/bin/python(+0x247642) [0x5614e5a84642]\n#39 in /anaconda/envs/rapids-0.17/bin/python(_PyMethodDef_RawFastCallKeywords+0x68) [0x5614e5979768]\n#40 in /anaconda/envs/rapids-0.17/bin/python(+0x13d9f8) [0x5614e597a9f8]\n#41 in /anaconda/envs/rapids-0.17/bin/python(_PyEval_EvalFrameDefault+0xaad) [0x5614e59e930d]\n#42 in /anaconda/envs/rapids-0.17/bin/python(+0x1619c3) [0x5614e599e9c3]\n#43 in /anaconda/envs/rapids-0.17/bin/python(_PyEval_EvalFrameDefault+0x1c64) [0x5614e59ea4c4]\n#44 in /anaconda/envs/rapids-0.17/bin/python(+0x1619c3) [0x5614e599e9c3]\n#45 in /anaconda/envs/rapids-0.17/bin/python(_PyEval_EvalFrameDefault+0x1c64) [0x5614e59ea4c4]\n#46 in /anaconda/envs/rapids-0.17/bin/python(+0x1619c3) [0x5614e599e9c3]\n#47 in /anaconda/envs/rapids-0.17/bin/python(_PyMethodDescr_FastCallKeywords+0x374) [0x5614e597a5e4]\n#48 in /anaconda/envs/rapids-0.17/bin/python(+0x13d9bd) [0x5614e597a9bd]\n#49 in /anaconda/envs/rapids-0.17/bin/python(_PyEval_EvalFrameDefault+0xb44) [0x5614e59e93a4]\n#50 in /anaconda/envs/rapids-0.17/bin/python(_PyFunction_FastCallKeywords+0x184) [0x5614e5978564]\n#51 in /anaconda/envs/rapids-0.17/bin/python(+0x13d8e8) [0x5614e597a8e8]\n#52 in /anaconda/envs/rapids-0.17/bin/python(_PyEval_EvalFrameDefault+0xaad) [0x5614e59e930d]\n#53 in /anaconda/envs/rapids-0.17/bin/python(_PyFunction_FastCallKeywords+0x184) [0x5614e5978564]\n#54 in /anaconda/envs/rapids-0.17/bin/python(+0x13d8e8) [0x5614e597a8e8]\n#55 in /anaconda/envs/rapids-0.17/bin/python(_PyEval_EvalFrameDefault+0xb44) [0x5614e59e93a4]\n#56 in /anaconda/envs/rapids-0.17/bin/python(_PyEval_EvalCodeWithName+0x242) [0x5614e592c932]\n#57 in /anaconda/envs/rapids-0.17/bin/python(_PyFunction_FastCallDict+0x6a0) [0x5614e592e1f0]\n#58 in /anaconda/envs/rapids-0.17/bin/python(+0x124c33) [0x5614e5961c33]\n#59 in /anaconda/envs/rapids-0.17/bin/python(PyObject_Call+0x61) [0x5614e593f191]\n#60 in /anaconda/envs/rapids-0.17/bin/python(_PyEval_EvalFrameDefault+0x2009) [0x5614e59ea869]\n#61 in /anaconda/envs/rapids-0.17/bin/python(_PyEval_EvalCodeWithName+0x242) [0x5614e592c932]\n#62 in /anaconda/envs/rapids-0.17/bin/python(_PyFunction_FastCallKeywords+0x320) [0x5614e5978700]\n#63 in /anaconda/envs/rapids-0.17/bin/python(+0x13d8e8) [0x5614e597a8e8]\n"
          ]
        }
      ],
      "execution_count": 16,
      "metadata": {
        "collapsed": true,
        "jupyter": {
          "source_hidden": false,
          "outputs_hidden": false
        },
        "nteract": {
          "transient": {
            "deleting": false
          }
        }
      }
    }
  ],
  "metadata": {
    "kernelspec": {
      "name": "python3-azureml",
      "language": "python",
      "display_name": "Python 3.6 - AzureML"
    },
    "language_info": {
      "name": "python",
      "version": "3.6.9",
      "mimetype": "text/x-python",
      "codemirror_mode": {
        "name": "ipython",
        "version": 3
      },
      "pygments_lexer": "ipython3",
      "nbconvert_exporter": "python",
      "file_extension": ".py"
    },
    "kernel_info": {
      "name": "python3-azureml"
    },
    "nteract": {
      "version": "nteract-front-end@1.0.0"
    },
    "microsoft": {
      "host": {
        "AzureML": {
          "notebookHasBeenCompleted": true
        }
      }
    }
  },
  "nbformat": 4,
  "nbformat_minor": 2
}