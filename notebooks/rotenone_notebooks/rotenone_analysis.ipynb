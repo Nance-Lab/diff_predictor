{
 "cells": [
  {
   "cell_type": "code",
   "execution_count": 1,
   "metadata": {},
   "outputs": [
    {
     "name": "stdout",
     "output_type": "stream",
     "text": [
      "Using current directory for loading/saving: \u001b[34m\u001b[1m/Users/nelsschimek/Documents/Nance Lab/diff_predictor/notebooks/rotenone_notebooks\u001b[0m\n",
      "To change current directory, call diff_predictor.core.change_dir(...)\n"
     ]
    }
   ],
   "source": [
    "from diff_predictor import data_process, predxgboost, spatial\n",
    "import pandas as pd\n",
    "import numpy as np\n",
    "import seaborn as sns \n",
    "import matplotlib.pyplot as plt \n",
    "\n",
    "from os import listdir, getcwd, chdir\n",
    "from os.path import isfile, join\n",
    "import os\n",
    "from sklearn.preprocessing import scale, StandardScaler\n",
    "from numpy.random import permutation\n",
    "\n",
    "\n",
    "from sklearn.model_selection import train_test_split\n",
    "from sklearn import metrics\n",
    "from sklearn.metrics import classification_report, confusion_matrix\n",
    "from sklearn import preprocessing\n",
    "from sklearn.metrics import accuracy_score, precision_recall_fscore_support, recall_score, precision_score, f1_score\n",
    "import operator\n",
    "import xgboost as xgb\n",
    "import shap\n",
    "from xgboost.training import CVPack\n",
    "from xgboost import callback\n",
    "from xgboost.core import CallbackEnv\n",
    "from xgboost.core import EarlyStopException\n",
    "from xgboost.core import STRING_TYPES\n",
    "\n",
    "from sklearn.decomposition import PCA\n",
    "\n",
    "# To use the experimental IterativeImputer, we need to explicitly ask for it:\n",
    "from sklearn.experimental import enable_iterative_imputer  # noqa\n",
    "from sklearn.impute import SimpleImputer, KNNImputer, IterativeImputer\n",
    "from sklearn.model_selection import cross_val_score\n",
    "from sklearn.pipeline import make_pipeline\n"
   ]
  },
  {
   "cell_type": "code",
   "execution_count": 2,
   "metadata": {},
   "outputs": [
    {
     "name": "stdout",
     "output_type": "stream",
     "text": [
      "Current Notebook Dir: /Users/nelsschimek/Documents/Nance Lab/diff_predictor/notebooks/rotenone_notebooks\n",
      "Using current directory for loading data: /Users/nelsschimek/Documents/Nance Lab/diff_predictor\n"
     ]
    }
   ],
   "source": [
    "workbookDir = getcwd()\n",
    "\n",
    "print('Current Notebook Dir: ' + workbookDir)\n",
    "chdir(workbookDir) # Go to current workbook Dir\"\n",
    "chdir('..')        # Go up one\n",
    "chdir('..')\n",
    "print(f'Using current directory for loading data: {getcwd()}')\n",
    "workbookDir = getcwd()"
   ]
  },
  {
   "cell_type": "code",
   "execution_count": 3,
   "metadata": {},
   "outputs": [
    {
     "name": "stdout",
     "output_type": "stream",
     "text": [
      "['features_P10F_10uM_10DIV_40nm_slice_2_cortex_vid_1.csv', 'features_P10F_NT_10DIV_40nm_slice_1_cortex_vid_2.csv', 'features_P10F_NT_10DIV_40nm_slice_1_cortex_vid_1.csv', 'features_P10F_50nM_10DIV_40nm_slice_1_cortex_vid_1.csv', 'features_P10F_1uM_10DIV_40nm_slice_1_cortex_vid_1.csv', 'features_P10F_5uM_10DIV_40nm_slice_1_cortex_vid_2.csv', 'features_P10F_10uM_10DIV_40nm_slice_1_cortex_vid_1.csv']\n",
      "['features_P10F_5uM_7DIV_40nm_slice_1_cortex_vid_1.csv', 'features_P10F_NT_7DIV_40nm_slice_1_cortex_vid_1.csv', 'features_P10F_NT_7DIV_40nm_slice_1_cortex_vid_2.csv', 'features_P10F_1uM_7DIV_40nm_slice_1_cortex_vid_1.csv', 'features_P10F_5uM_7DIV_40nm_slice_2_cortex_vid_2.csv', 'features_P10F_1uM_7DIV_40nm_slice_1_cortex_vid_2.csv', 'features_P10F_50nM_7DIV_40nm_slice_1_cortex_vid_1.csv']\n"
     ]
    }
   ],
   "source": [
    "#load paths to data\n",
    "cortex_10day_feature_path = workbookDir + '/data/Brendan_traj_data/Cortex_features/'\n",
    "cortex_10day_feature_filelist = [f for f in listdir(cortex_10day_feature_path) if isfile(join(cortex_10day_feature_path, f)) and '10DIV' in f]\n",
    "print((cortex_10day_feature_filelist))\n",
    "\n",
    "cortex_7day_feature_path = workbookDir + '/data/Brendan_traj_data/Cortex_features/'\n",
    "cortex_7day_feature_filelist = [f for f in listdir(cortex_7day_feature_path) if isfile(join(cortex_7day_feature_path, f)) and '7DIV' in f]\n",
    "print((cortex_7day_feature_filelist))"
   ]
  },
  {
   "cell_type": "code",
   "execution_count": 4,
   "metadata": {},
   "outputs": [
    {
     "name": "stdout",
     "output_type": "stream",
     "text": [
      "Adding file features_P10F_10uM_10DIV_40nm_slice_2_cortex_vid_1.csv size: (2460, 68)\n",
      "Adding file features_P10F_NT_10DIV_40nm_slice_1_cortex_vid_2.csv size: (1351, 68)\n",
      "Adding file features_P10F_NT_10DIV_40nm_slice_1_cortex_vid_1.csv size: (1533, 68)\n",
      "Adding file features_P10F_10uM_10DIV_40nm_slice_1_cortex_vid_1.csv size: (957, 68)\n",
      "Adding file features_P10F_5uM_7DIV_40nm_slice_1_cortex_vid_1.csv size: (2405, 68)\n",
      "Adding file features_P10F_NT_7DIV_40nm_slice_1_cortex_vid_1.csv size: (1738, 68)\n",
      "Adding file features_P10F_NT_7DIV_40nm_slice_1_cortex_vid_2.csv size: (1190, 68)\n",
      "Adding file features_P10F_1uM_7DIV_40nm_slice_1_cortex_vid_1.csv size: (638, 68)\n",
      "Adding file features_P10F_5uM_7DIV_40nm_slice_2_cortex_vid_2.csv size: (2829, 68)\n",
      "Adding file features_P10F_1uM_7DIV_40nm_slice_1_cortex_vid_2.csv size: (863, 68)\n"
     ]
    }
   ],
   "source": [
    "fstats_cortex_10day = data_process.generate_fullstats(cortex_10day_feature_path, cortex_10day_feature_filelist, ['NT', '10uM'], 'dosage')\n",
    "fstats_cortex_7day = data_process.generate_fullstats(cortex_7day_feature_path, cortex_7day_feature_filelist, ['NT', '1uM', '5uM'], 'dosage')"
   ]
  },
  {
   "cell_type": "code",
   "execution_count": 5,
   "metadata": {},
   "outputs": [],
   "source": [
    "feature_list = [\n",
    "    'alpha', # Fitted anomalous diffusion alpha exponenet\n",
    "    'D_fit', # Fitted anomalous diffusion coefficient\n",
    "    'kurtosis', # Kurtosis of track\n",
    "    'asymmetry1', # Asymmetry of trajecory (0 for circular symmetric, 1 for linear)\n",
    "    'asymmetry2', # Ratio of the smaller to larger principal radius of gyration\n",
    "    'asymmetry3', # An asymmetric feature that accnts for non-cylindrically symmetric pt distributions\n",
    "    'AR', # Aspect ratio of long and short side of trajectory's minimum bounding rectangle\n",
    "    'elongation', # Est. of amount of extension of trajectory from centroid\n",
    "    'boundedness', # How much a particle with Deff is restricted by a circular confinement of radius r\n",
    "    'fractal_dim', # Measure of how complicated a self similar figure is\n",
    "    'trappedness', # Probability that a particle with Deff is trapped in a region\n",
    "    'efficiency', # Ratio of squared net displacement to the sum of squared step lengths\n",
    "    'straightness', # Ratio of net displacement to the sum of squared step lengths\n",
    "    'MSD_ratio', # MSD ratio of the track\n",
    "#     'frames', # Number of frames the track spans\n",
    "    'Deff1', # Effective diffusion coefficient at 0.33 s\n",
    "    'Deff2', # Effective diffusion coefficient at 3.3 s\n",
    "    #'angle_mean', # Mean turning angle which is counterclockwise angle from one frame point to another\n",
    "    #'angle_mag_mean', # Magnitude of the turning angle mean\n",
    "    #'angle_var', # Variance of the turning angle\n",
    "    #'dist_tot', # Total distance of the trajectory\n",
    "    #'dist_net', # Net distance from first point to last point\n",
    "    #'progression', # Ratio of the net distance traveled and the total distance\n",
    "    'Mean alpha', \n",
    "    'Mean D_fit', \n",
    "    'Mean kurtosis', \n",
    "    'Mean asymmetry1', \n",
    "    'Mean asymmetry2',\n",
    "    'Mean asymmetry3', \n",
    "    'Mean AR',\n",
    "    'Mean elongation', \n",
    "    'Mean boundedness',\n",
    "    'Mean fractal_dim', \n",
    "    'Mean trappedness', \n",
    "    'Mean efficiency',\n",
    "    'Mean straightness', \n",
    "    'Mean MSD_ratio', \n",
    "    'Mean Deff1', \n",
    "    'Mean Deff2',\n",
    "    ]\n",
    "\n",
    "target = 'dosage'"
   ]
  },
  {
   "cell_type": "code",
   "execution_count": 6,
   "metadata": {},
   "outputs": [
    {
     "name": "stdout",
     "output_type": "stream",
     "text": [
      "(6301, 36)\n",
      "(5934, 36)\n",
      "(9663, 36)\n",
      "(8625, 36)\n"
     ]
    }
   ],
   "source": [
    "ecm_10day = fstats_cortex_10day[feature_list + [target, 'Track_ID', 'X', 'Y']] #dont think i need these rn\n",
    "print(ecm_10day.shape)\n",
    "ecm_10day = ecm_10day[~ecm_10day[list(set(feature_list) - set(['Deff2', 'Mean Deff2']))].isin([np.nan, np.inf, -np.inf]).any(1)]       # Removing nan and inf data points\n",
    "print(ecm_10day.shape)\n",
    "\n",
    "ecm_7day = fstats_cortex_7day[feature_list + [target, 'Track_ID', 'X', 'Y']] #dont think i need these rn\n",
    "print(ecm_7day.shape)\n",
    "ecm_7day = ecm_7day[~ecm_7day[list(set(feature_list) - set(['Deff2', 'Mean Deff2']))].isin([np.nan, np.inf, -np.inf]).any(1)]       # Removing nan and inf data points\n",
    "print(ecm_7day.shape)"
   ]
  },
  {
   "cell_type": "code",
   "execution_count": 7,
   "metadata": {},
   "outputs": [
    {
     "ename": "NameError",
     "evalue": "name 'ecm' is not defined",
     "output_type": "error",
     "traceback": [
      "\u001b[0;31m---------------------------------------------------------------------------\u001b[0m",
      "\u001b[0;31mNameError\u001b[0m                                 Traceback (most recent call last)",
      "\u001b[0;32m<ipython-input-7-7bd38b009aaa>\u001b[0m in \u001b[0;36m<module>\u001b[0;34m\u001b[0m\n\u001b[0;32m----> 1\u001b[0;31m \u001b[0mecm\u001b[0m\u001b[0;34m.\u001b[0m\u001b[0misna\u001b[0m\u001b[0;34m(\u001b[0m\u001b[0;34m)\u001b[0m\u001b[0;34m.\u001b[0m\u001b[0msum\u001b[0m\u001b[0;34m(\u001b[0m\u001b[0;34m)\u001b[0m\u001b[0;34m\u001b[0m\u001b[0;34m\u001b[0m\u001b[0m\n\u001b[0m",
      "\u001b[0;31mNameError\u001b[0m: name 'ecm' is not defined"
     ]
    }
   ],
   "source": [
    "ecm.isna().sum()"
   ]
  },
  {
   "cell_type": "code",
   "execution_count": 8,
   "metadata": {},
   "outputs": [
    {
     "name": "stdout",
     "output_type": "stream",
     "text": [
      "Ratio before data balance (10uM:NT) = 3257:2677\n",
      "Ratio after balance (10uM:NT) = 2677:2677\n",
      "Ratio before data balance (5uM:NT:1uM) = 4577:2759:1289\n",
      "Ratio after balance (5uM:NT:1uM) = 1289:1289:1289\n"
     ]
    }
   ],
   "source": [
    "bal_ecm_10day = data_process.balance_data(ecm_10day, target, random_state=1)\n",
    "bal_ecm_10day = data_process.bin_data(bal_ecm_10day, resolution=128)\n",
    "\n",
    "bal_ecm_7day = data_process.balance_data(ecm_7day, target, random_state=1)\n",
    "bal_ecm_7day = data_process.bin_data(bal_ecm_7day, resolution=128)"
   ]
  },
  {
   "cell_type": "code",
   "execution_count": null,
   "metadata": {},
   "outputs": [],
   "source": []
  },
  {
   "cell_type": "code",
   "execution_count": 9,
   "metadata": {},
   "outputs": [],
   "source": [
    "labels_10day = np.array(bal_ecm_10day['dosage'])\n",
    "features_df_10day = bal_ecm_10day.drop(['dosage', 'X', 'Y', 'Track_ID'], axis=1)\n",
    "col_names = features_df_10day.columns\n",
    "\n",
    "labels_7day = np.array(bal_ecm_7day['dosage'])\n",
    "features_df_7day = bal_ecm_7day.drop(['dosage', 'X', 'Y', 'Track_ID'], axis=1)\n",
    "col_names = features_df_7day.columns"
   ]
  },
  {
   "cell_type": "code",
   "execution_count": 10,
   "metadata": {},
   "outputs": [],
   "source": [
    "scaler = StandardScaler()\n",
    "scaled_df_10day = scaler.fit_transform(features_df_10day)\n",
    "scaled_df_10day = pd.DataFrame(scaled_df_10day, columns=col_names)\n",
    "scaled_df_10day = scaled_df_10day.fillna(0)"
   ]
  },
  {
   "cell_type": "code",
   "execution_count": 11,
   "metadata": {},
   "outputs": [],
   "source": [
    "scaler = StandardScaler()\n",
    "scaled_df_7day = scaler.fit_transform(features_df_7day)\n",
    "scaled_df_7day = pd.DataFrame(scaled_df_7day, columns=col_names)\n",
    "scaled_df_7day = scaled_df_7day.fillna(0)"
   ]
  },
  {
   "cell_type": "code",
   "execution_count": 19,
   "metadata": {},
   "outputs": [
    {
     "name": "stdout",
     "output_type": "stream",
     "text": [
      "0.788514523946376\n"
     ]
    }
   ],
   "source": [
    "pca = PCA(n_components=10).fit(scaled_df_10day)\n",
    "print(pca.explained_variance_ratio_.sum())\n",
    "pca_embeddings = pca.transform(scaled_df_10day)\n",
    "pca_embeddings_df = pd.DataFrame(pca_embeddings[:, :2], columns=['Component 1', 'Component 2'])\n",
    "pca_embeddings_df['target'] = labels_10day"
   ]
  },
  {
   "cell_type": "code",
   "execution_count": 21,
   "metadata": {},
   "outputs": [
    {
     "name": "stdout",
     "output_type": "stream",
     "text": [
      "0.7955705472198196\n"
     ]
    }
   ],
   "source": [
    "pca = PCA(n_components=10).fit(scaled_df_7day)\n",
    "print(pca.explained_variance_ratio_.sum())\n",
    "pca_embeddings = pca.transform(scaled_df_7day)\n",
    "pca_embeddings_df = pd.DataFrame(pca_embeddings[:, :2], columns=['Component 1', 'Component 2'])\n",
    "pca_embeddings_df['target'] = labels_7day"
   ]
  },
  {
   "cell_type": "code",
   "execution_count": 22,
   "metadata": {},
   "outputs": [
    {
     "data": {
      "text/plain": [
       "(array([-15., -10.,  -5.,   0.,   5.,  10.,  15.]),\n",
       " [Text(0, 0, ''),\n",
       "  Text(0, 0, ''),\n",
       "  Text(0, 0, ''),\n",
       "  Text(0, 0, ''),\n",
       "  Text(0, 0, ''),\n",
       "  Text(0, 0, ''),\n",
       "  Text(0, 0, '')])"
      ]
     },
     "execution_count": 22,
     "metadata": {},
     "output_type": "execute_result"
    },
    {
     "data": {
      "image/png": "[encoded data removed]",
      "text/plain": [
       "<Figure size 576x432 with 1 Axes>"
      ]
     },
     "metadata": {
      "needs_background": "light"
     },
     "output_type": "display_data"
    }
   ],
   "source": [
    "##colors = {'NT': '#56B4E9', '10uM': '#009E73'}# :'P14': '#E69F00', 'P21': '#7b3294', 'P28': '#d7191c'}\n",
    "\n",
    "fig, ax = plt.subplots(figsize=(8,6))\n",
    "for uclass in pca_embeddings_df['target'].unique():\n",
    "    df = pca_embeddings_df[pca_embeddings_df['target'] == uclass]#.sample(500)\n",
    "    x = df['Component 1']\n",
    "    y = df['Component 2']\n",
    "    plt.scatter(x,y, alpha=0.5, s=4, label=uclass)#, #c=colors[uclass])\n",
    "plt.legend(loc='lower left', markerscale=3, fontsize=14)\n",
    "plt.xlim([-13,13])\n",
    "plt.ylim([-13,13])\n",
    "plt.xlabel('PC1', fontname='Arial', fontsize=15, fontweight='bold')\n",
    "plt.ylabel('PC2', fontsize=15, fontweight='bold')\n",
    "plt.title('First and Second Principal Components of Rotenone 7DIV Dataset', fontname='Arial', fontsize=15, fontweight='bold')\n",
    "plt.xticks(fontsize=15, fontname='Arial', fontweight='bold')\n",
    "plt.yticks(fontsize=15, fontname='Arial', fontweight='bold')"
   ]
  },
  {
   "cell_type": "code",
   "execution_count": 24,
   "metadata": {},
   "outputs": [],
   "source": [
    "def full_preprocess(ecm, balanced=True, y_scramble=False, target=None):\n",
    "\n",
    "    rand_state = np.random.randint(1, 2000)\n",
    "    if balanced:\n",
    "        bal_ecm = data_process.balance_data(ecm, target, random_state=rand_state)\n",
    "        bal_ecm = bal_ecm.reset_index(drop=True)\n",
    "        #sampled_df = bal_ecm.sample(frac=0.5)\n",
    "        sampled_df = data_process.bin_data(bal_ecm)\n",
    "    else:\n",
    "        sampled_df = data_process.bin_data(ecm)\n",
    "    label_df = sampled_df[target]\n",
    "    features_df = sampled_df.drop([target, 'X', 'Y', 'binx', 'biny', 'bins', 'Track_ID'], axis=1)\n",
    "    features = features_df.columns\n",
    "\n",
    "    if y_scramble:\n",
    "        perm = permutation(len(label_df))\n",
    "        label_shuffled = label_df[perm]\n",
    "        le = preprocessing.LabelEncoder()\n",
    "        sampled_df['encoded_target'] = le.fit_transform(label_shuffled)\n",
    "    else:\n",
    "        le = preprocessing.LabelEncoder()\n",
    "        sampled_df['encoded_target'] = le.fit_transform(sampled_df[target])\n",
    "\n",
    "    seed = rand_state\n",
    "    np.random.seed(seed)\n",
    "    train_split = 0.8\n",
    "    test_split = 0.5\n",
    "\n",
    "\n",
    "    training_bins = np.random.choice(sampled_df['bins'].unique(), int(len(sampled_df['bins'].unique())*train_split), replace=False)\n",
    "\n",
    "    X_train = sampled_df[sampled_df['bins'].isin(training_bins)]\n",
    "    X_test_val = sampled_df[~sampled_df['bins'].isin(training_bins)]\n",
    "    X_val, X_test = train_test_split(X_test_val, test_size=test_split, random_state=seed)\n",
    "\n",
    "    y_train = X_train['encoded_target']\n",
    "    y_test = X_test['encoded_target']\n",
    "    y_val = X_val['encoded_target']\n",
    "\n",
    "    dtrain = xgb.DMatrix(X_train[features], label=y_train)\n",
    "    dtest = xgb.DMatrix(X_test[features], label=y_test)\n",
    "    dval = xgb.DMatrix(X_val[features], label=y_val)\n",
    "    return dtrain, dtest, dval, X_train, X_test, y_train, y_test, le\n",
    "\n"
   ]
  },
  {
   "cell_type": "code",
   "execution_count": 28,
   "metadata": {},
   "outputs": [
    {
     "name": "stdout",
     "output_type": "stream",
     "text": [
      "Ratio before data balance (10uM:NT) = 3257:2677\n",
      "Ratio after balance (10uM:NT) = 2677:2677\n"
     ]
    }
   ],
   "source": [
    "dtrain, dtest, dval, X_train, X_test, y_train, y_test, le = full_preprocess(ecm_10day, True, False, 'dosage')"
   ]
  },
  {
   "cell_type": "code",
   "execution_count": 29,
   "metadata": {},
   "outputs": [],
   "source": [
    "param = {'max_depth': 3,\n",
    "         'eta': 0.005,\n",
    "         'min_child_weight': 0,\n",
    "         'verbosity': 0,\n",
    "         'objective': 'multi:softprob',\n",
    "         'num_class': 3,\n",
    "         'silent': 'True',\n",
    "         'gamma': 5,\n",
    "         'subsample': 0.15,\n",
    "         'colsample_bytree': 0.8,\n",
    "         'eval_metric': \"mlogloss\",\n",
    "#          # GPU integration will cut time in ~half:\n",
    "#          'gpu_id' : 0,\n",
    "#          'tree_method': 'gpu_hist',\n",
    "#          'predictor': 'gpu_predictor'\n",
    "         }"
   ]
  },
  {
   "cell_type": "code",
   "execution_count": 30,
   "metadata": {},
   "outputs": [
    {
     "name": "stdout",
     "output_type": "stream",
     "text": [
      "Accuracy: 0.726530612244898\n"
     ]
    }
   ],
   "source": [
    "booster, acc, true_label, preds = predxgboost.train(param, dtrain, dtest, dval, evals=[(dtrain, 'train'), (dval, 'eval')], num_round=200, verbose=False)"
   ]
  },
  {
   "cell_type": "code",
   "execution_count": 35,
   "metadata": {},
   "outputs": [],
   "source": [
    "def get_dropna_scores(ecm, target, boost_rounds=200):\n",
    "    ecm = ecm.dropna()\n",
    "    dtrain, dtest, dval, X_train, X_test, y_train, y_test, le = full_preprocess(ecm, True, False, target)\n",
    "    booster, acc, true_label, preds = predxgboost.train(param, dtrain, dtest, dval, evals=[(dtrain, 'train'), (dval, 'eval')], num_round=boost_rounds, verbose=False)\n",
    "    return acc"
   ]
  },
  {
   "cell_type": "code",
   "execution_count": 36,
   "metadata": {},
   "outputs": [],
   "source": [
    "def get_fillna_scores(ecm, target, boost_rounds=200, fillna_value=0):\n",
    "    ecm = ecm.fillna(fillna_value)\n",
    "    dtrain, dtest, dval, X_train, X_test, y_train, y_test, le = full_preprocess(ecm, True, False, target)\n",
    "    booster, acc, true_label, preds = predxgboost.train(param, dtrain, dtest, dval, evals=[(dtrain, 'train'), (dval, 'eval')], num_round=boost_rounds, verbose=False)\n",
    "    print(f'accuracy is {acc}')\n",
    "    return acc"
   ]
  },
  {
   "cell_type": "code",
   "execution_count": 37,
   "metadata": {},
   "outputs": [],
   "source": [
    "def get_impute_knn_scores(ecm, target, boost_rounds):\n",
    "    imputer = KNNImputer()\n",
    "    impute_vals = imputer.fit_transform(ecm[feature_list])\n",
    "    imputed_df = pd.DataFrame(data=impute_vals, columns=feature_list)\n",
    "    imputed_df['dosage'] = ecm['dosage'].values\n",
    "    imputed_df['X'] = ecm['X'].values\n",
    "    imputed_df['Y'] = ecm['Y'].values\n",
    "    imputed_df['Track_ID'] = ecm['Track_ID'].values \n",
    "    dtrain, dtest, dval, X_train, X_test, y_train, y_test, le = full_preprocess(imputed_df, True, False, target)\n",
    "    booster, acc, true_label, preds = predxgboost.train(param, dtrain, dtest, dval, evals=[(dtrain, 'train'), (dval, 'eval')], num_round=boost_rounds, verbose=False)\n",
    "    return acc"
   ]
  },
  {
   "cell_type": "code",
   "execution_count": 38,
   "metadata": {},
   "outputs": [],
   "source": [
    "def get_impute_iterative_scores(ecm, target, boost_rounds):\n",
    "    imputer = IterativeImputer()\n",
    "    impute_vals = imputer.fit_transform(ecm[feature_list])\n",
    "    imputed_df = pd.DataFrame(data=impute_vals, columns=feature_list)\n",
    "    imputed_df['dosage'] = ecm['dosage'].values\n",
    "    imputed_df['X'] = ecm['X'].values\n",
    "    imputed_df['Y'] = ecm['Y'].values\n",
    "    imputed_df['Track_ID'] = ecm['Track_ID'].values \n",
    "    dtrain, dtest, dval, X_train, X_test, y_train, y_test, le = full_preprocess(imputed_df, True, False, target)\n",
    "    booster, acc, true_label, preds = predxgboost.train(param, dtrain, dtest, dval, evals=[(dtrain, 'train'), (dval, 'eval')], num_round=boost_rounds, verbose=False)\n",
    "    return acc"
   ]
  },
  {
   "cell_type": "code",
   "execution_count": 31,
   "metadata": {},
   "outputs": [
    {
     "name": "stdout",
     "output_type": "stream",
     "text": [
      "Ratio before data balance (5uM:NT:1uM) = 4577:2759:1289\n",
      "Ratio after balance (5uM:NT:1uM) = 1289:1289:1289\n",
      "Accuracy: 0.6077922077922078\n"
     ]
    },
    {
     "ename": "NameError",
     "evalue": "name 'get_fillna_scores' is not defined",
     "output_type": "error",
     "traceback": [
      "\u001b[0;31m---------------------------------------------------------------------------\u001b[0m",
      "\u001b[0;31mNameError\u001b[0m                                 Traceback (most recent call last)",
      "\u001b[0;32m<ipython-input-31-68fc924359ce>\u001b[0m in \u001b[0;36m<module>\u001b[0;34m\u001b[0m\n\u001b[1;32m     11\u001b[0m     \u001b[0mbooster\u001b[0m\u001b[0;34m,\u001b[0m \u001b[0macc\u001b[0m\u001b[0;34m,\u001b[0m \u001b[0mtrue_label\u001b[0m\u001b[0;34m,\u001b[0m \u001b[0mpreds\u001b[0m \u001b[0;34m=\u001b[0m \u001b[0mpredxgboost\u001b[0m\u001b[0;34m.\u001b[0m\u001b[0mtrain\u001b[0m\u001b[0;34m(\u001b[0m\u001b[0mparam\u001b[0m\u001b[0;34m,\u001b[0m \u001b[0mdtrain\u001b[0m\u001b[0;34m,\u001b[0m \u001b[0mdtest\u001b[0m\u001b[0;34m,\u001b[0m \u001b[0mdval\u001b[0m\u001b[0;34m,\u001b[0m \u001b[0mevals\u001b[0m\u001b[0;34m=\u001b[0m\u001b[0;34m[\u001b[0m\u001b[0;34m(\u001b[0m\u001b[0mdtrain\u001b[0m\u001b[0;34m,\u001b[0m \u001b[0;34m'train'\u001b[0m\u001b[0;34m)\u001b[0m\u001b[0;34m,\u001b[0m \u001b[0;34m(\u001b[0m\u001b[0mdval\u001b[0m\u001b[0;34m,\u001b[0m \u001b[0;34m'eval'\u001b[0m\u001b[0;34m)\u001b[0m\u001b[0;34m]\u001b[0m\u001b[0;34m,\u001b[0m \u001b[0mnum_round\u001b[0m\u001b[0;34m=\u001b[0m\u001b[0;36m200\u001b[0m\u001b[0;34m,\u001b[0m \u001b[0mverbose\u001b[0m\u001b[0;34m=\u001b[0m\u001b[0;32mFalse\u001b[0m\u001b[0;34m)\u001b[0m\u001b[0;34m\u001b[0m\u001b[0;34m\u001b[0m\u001b[0m\n\u001b[1;32m     12\u001b[0m     \u001b[0mnormal_acc\u001b[0m\u001b[0;34m[\u001b[0m\u001b[0mi\u001b[0m\u001b[0;34m]\u001b[0m \u001b[0;34m=\u001b[0m \u001b[0macc\u001b[0m\u001b[0;34m\u001b[0m\u001b[0;34m\u001b[0m\u001b[0m\n\u001b[0;32m---> 13\u001b[0;31m     \u001b[0mfillna_acc\u001b[0m\u001b[0;34m[\u001b[0m\u001b[0mi\u001b[0m\u001b[0;34m]\u001b[0m \u001b[0;34m=\u001b[0m \u001b[0mget_fillna_scores\u001b[0m\u001b[0;34m(\u001b[0m\u001b[0mecm_7day\u001b[0m\u001b[0;34m,\u001b[0m \u001b[0;34m'dosage'\u001b[0m\u001b[0;34m,\u001b[0m \u001b[0;36m1000\u001b[0m\u001b[0;34m,\u001b[0m \u001b[0;36m0\u001b[0m\u001b[0;34m)\u001b[0m\u001b[0;34m\u001b[0m\u001b[0;34m\u001b[0m\u001b[0m\n\u001b[0m\u001b[1;32m     14\u001b[0m     \u001b[0mdropna_acc\u001b[0m\u001b[0;34m[\u001b[0m\u001b[0mi\u001b[0m\u001b[0;34m]\u001b[0m \u001b[0;34m=\u001b[0m \u001b[0mget_dropna_scores\u001b[0m\u001b[0;34m(\u001b[0m\u001b[0mecm_7day\u001b[0m\u001b[0;34m,\u001b[0m \u001b[0;34m'dosage'\u001b[0m\u001b[0;34m,\u001b[0m \u001b[0;36m200\u001b[0m\u001b[0;34m)\u001b[0m\u001b[0;34m\u001b[0m\u001b[0;34m\u001b[0m\u001b[0m\n\u001b[1;32m     15\u001b[0m     \u001b[0mimpute_knn_acc\u001b[0m\u001b[0;34m[\u001b[0m\u001b[0mi\u001b[0m\u001b[0;34m]\u001b[0m \u001b[0;34m=\u001b[0m \u001b[0mget_impute_knn_scores\u001b[0m\u001b[0;34m(\u001b[0m\u001b[0mecm_7day\u001b[0m\u001b[0;34m,\u001b[0m \u001b[0;34m'dosage'\u001b[0m\u001b[0;34m,\u001b[0m \u001b[0;36m1000\u001b[0m\u001b[0;34m)\u001b[0m\u001b[0;34m\u001b[0m\u001b[0;34m\u001b[0m\u001b[0m\n",
      "\u001b[0;31mNameError\u001b[0m: name 'get_fillna_scores' is not defined"
     ]
    }
   ],
   "source": [
    "num_iters = 10\n",
    "\n",
    "normal_acc = np.zeros(num_iters)\n",
    "fillna_acc = np.zeros(num_iters)\n",
    "dropna_acc = np.zeros(num_iters)\n",
    "impute_knn_acc= np.zeros(num_iters)\n",
    "impute_iterative_acc = np.zeros(num_iters)\n",
    "\n",
    "for i in range(num_iters):\n",
    "    dtrain, dtest, dval, X_train, X_test, y_train, y_test, le = full_preprocess(ecm_7day, True, False, target)\n",
    "    booster, acc, true_label, preds = predxgboost.train(param, dtrain, dtest, dval, evals=[(dtrain, 'train'), (dval, 'eval')], num_round=200, verbose=False)\n",
    "    normal_acc[i] = acc\n",
    "    fillna_acc[i] = get_fillna_scores(ecm_7day, 'dosage', 1000, 0)\n",
    "    dropna_acc[i] = get_dropna_scores(ecm_7day, 'dosage', 200)\n",
    "    impute_knn_acc[i] = get_impute_knn_scores(ecm_7day, 'dosage', 1000)\n",
    "    impute_iterative_acc[i] = get_impute_iterative_scores(ecm_7day, 'dosage', 200)"
   ]
  },
  {
   "cell_type": "code",
   "execution_count": 122,
   "metadata": {},
   "outputs": [
    {
     "data": {
      "text/plain": [
       "array([0.60037175, 0.70127119, 0.66979362, 0.7556391 , 0.71481481,\n",
       "       0.74048443, 0.67725753, 0.73443223, 0.61209964, 0.74269006,\n",
       "       0.72743056, 0.72637795, 0.621881  , 0.68849206, 0.57420495,\n",
       "       0.76521739, 0.73320896, 0.72293578, 0.63500931, 0.621881  ,\n",
       "       0.68849206, 0.57420495, 0.76521739, 0.73320896, 0.72293578])"
      ]
     },
     "execution_count": 122,
     "metadata": {},
     "output_type": "execute_result"
    }
   ],
   "source": [
    "fillna_acc"
   ]
  },
  {
   "cell_type": "code",
   "execution_count": 43,
   "metadata": {},
   "outputs": [
    {
     "name": "stdout",
     "output_type": "stream",
     "text": [
      "0.6239884531042079\n",
      "0.6079955663050601\n",
      "0.574286215634245\n",
      "0.6073162898764508\n",
      "0.6212131727267682\n"
     ]
    }
   ],
   "source": [
    "print(normal_acc.mean())\n",
    "print(fillna_acc.mean())\n",
    "print(dropna_acc.mean())\n",
    "print(impute_knn_acc.mean())\n",
    "print(impute_iterative_acc.mean())"
   ]
  }
 ],
 "metadata": {
  "interpreter": {
   "hash": "40d3a090f54c6569ab1632332b64b2c03c39dcf918b08424e98f38b5ae0af88f"
  },
  "kernelspec": {
   "display_name": "Python 3.7.7 64-bit ('base': conda)",
   "language": "python",
   "name": "python3"
  },
  "language_info": {
   "codemirror_mode": {
    "name": "ipython",
    "version": 3
   },
   "file_extension": ".py",
   "mimetype": "text/x-python",
   "name": "python",
   "nbconvert_exporter": "python",
   "pygments_lexer": "ipython3",
   "version": "3.7.7"
  },
  "orig_nbformat": 4
 },
 "nbformat": 4,
 "nbformat_minor": 2
}
