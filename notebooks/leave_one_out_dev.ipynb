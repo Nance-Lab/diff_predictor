{
 "cells": [
  {
   "cell_type": "code",
   "execution_count": 1,
   "metadata": {},
   "outputs": [
    {
     "name": "stdout",
     "output_type": "stream",
     "text": [
      "Using current directory for loading/saving: \u001b[34m\u001b[1m/mnt/batch/tasks/shared/LS_root/mounts/clusters/nance8core/code/Users/nlsschim/diff_predictor/notebooks\u001b[0m\n",
      "To change current directory, call change_dir(...)\n"
     ]
    }
   ],
   "source": [
    "import boto3\n",
    "#import diff_classifier.aws as aws\n",
    "import pandas as pd\n",
    "import seaborn as sns\n",
    "import numpy as np\n",
    "import matplotlib.pyplot as plt\n",
    "from diff_classifier.features import calculate_features\n",
    "from os import listdir, getcwd, chdir\n",
    "from os.path import isfile, join\n",
    "import os\n",
    "#import diff_predictor\n",
    "from diff_predictor import spatial, core, data_process\n",
    "from matplotlib import colors as plt_colors\n",
    "import altair as alt"
   ]
  },
  {
   "cell_type": "code",
   "execution_count": 2,
   "metadata": {},
   "outputs": [
    {
     "name": "stdout",
     "output_type": "stream",
     "text": [
      "Current Notebook Dir: /mnt/batch/tasks/shared/LS_root/mounts/clusters/nance8core/code/Users/nlsschim/diff_predictor/notebooks\n",
      "Using current directory for loading data: /mnt/batch/tasks/shared/LS_root/mounts/clusters/nance8core/code/Users/nlsschim/diff_predictor\n"
     ]
    }
   ],
   "source": [
    "workbookDir = getcwd()\n",
    "print('Current Notebook Dir: ' + workbookDir)\n",
    "chdir(workbookDir) # Go to current workbook Dir\n",
    "chdir('..')        # Go up one\n",
    "print(f'Using current directory for loading data: {getcwd()}')\n",
    "workbookDir = getcwd()"
   ]
  },
  {
   "cell_type": "code",
   "execution_count": 3,
   "metadata": {},
   "outputs": [
    {
     "name": "stdout",
     "output_type": "stream",
     "text": [
      "180\n"
     ]
    }
   ],
   "source": [
    "# Define path to folder that contains data\n",
    "dataset_path = workbookDir + '/data/features_ecm/'\n",
    "\n",
    "# Create list of file names within the data folder\n",
    "filelist = [f for f in listdir(dataset_path) if isfile(join(dataset_path, f)) and 'feat' in f]\n",
    "print(len(filelist)) # Make sure there are the right number of files"
   ]
  },
  {
   "cell_type": "code",
   "execution_count": 4,
   "metadata": {},
   "outputs": [
    {
     "data": {
      "text/plain": [
       "['features_ChABC_brain_1_slice_1_vid_1.csv',\n",
       " 'features_ChABC_brain_1_slice_1_vid_2.csv',\n",
       " 'features_ChABC_brain_1_slice_1_vid_3.csv',\n",
       " 'features_ChABC_brain_1_slice_1_vid_4.csv',\n",
       " 'features_ChABC_brain_1_slice_1_vid_5.csv',\n",
       " 'features_ChABC_brain_1_slice_2_vid_1.csv',\n",
       " 'features_ChABC_brain_1_slice_2_vid_2.csv',\n",
       " 'features_ChABC_brain_1_slice_2_vid_3.csv',\n",
       " 'features_ChABC_brain_1_slice_2_vid_4.csv',\n",
       " 'features_ChABC_brain_1_slice_2_vid_5.csv',\n",
       " 'features_ChABC_brain_1_slice_3_vid_1.csv',\n",
       " 'features_ChABC_brain_1_slice_3_vid_2.csv',\n",
       " 'features_ChABC_brain_1_slice_3_vid_3.csv',\n",
       " 'features_ChABC_brain_1_slice_3_vid_4.csv',\n",
       " 'features_ChABC_brain_1_slice_3_vid_5.csv',\n",
       " 'features_ChABC_brain_2_slice_1_vid_1.csv',\n",
       " 'features_ChABC_brain_2_slice_1_vid_2.csv',\n",
       " 'features_ChABC_brain_2_slice_1_vid_3.csv',\n",
       " 'features_ChABC_brain_2_slice_1_vid_4.csv',\n",
       " 'features_ChABC_brain_2_slice_1_vid_5.csv',\n",
       " 'features_ChABC_brain_2_slice_2_vid_1.csv',\n",
       " 'features_ChABC_brain_2_slice_2_vid_2.csv',\n",
       " 'features_ChABC_brain_2_slice_2_vid_3.csv',\n",
       " 'features_ChABC_brain_2_slice_2_vid_4.csv',\n",
       " 'features_ChABC_brain_2_slice_2_vid_5.csv',\n",
       " 'features_ChABC_brain_2_slice_3_vid_1.csv',\n",
       " 'features_ChABC_brain_2_slice_3_vid_2.csv',\n",
       " 'features_ChABC_brain_2_slice_3_vid_3.csv',\n",
       " 'features_ChABC_brain_2_slice_3_vid_4.csv',\n",
       " 'features_ChABC_brain_2_slice_3_vid_5.csv',\n",
       " 'features_ChABC_brain_3_slice_1_vid_1.csv',\n",
       " 'features_ChABC_brain_3_slice_1_vid_2.csv',\n",
       " 'features_ChABC_brain_3_slice_1_vid_3.csv',\n",
       " 'features_ChABC_brain_3_slice_1_vid_4.csv',\n",
       " 'features_ChABC_brain_3_slice_1_vid_5.csv',\n",
       " 'features_ChABC_brain_3_slice_2_vid_1.csv',\n",
       " 'features_ChABC_brain_3_slice_2_vid_2.csv',\n",
       " 'features_ChABC_brain_3_slice_2_vid_3.csv',\n",
       " 'features_ChABC_brain_3_slice_2_vid_4.csv',\n",
       " 'features_ChABC_brain_3_slice_2_vid_5.csv',\n",
       " 'features_ChABC_brain_3_slice_3_vid_1.csv',\n",
       " 'features_ChABC_brain_3_slice_3_vid_2.csv',\n",
       " 'features_ChABC_brain_3_slice_3_vid_3.csv',\n",
       " 'features_ChABC_brain_3_slice_3_vid_4.csv',\n",
       " 'features_ChABC_brain_3_slice_3_vid_5.csv',\n",
       " 'features_ChABC_brain_4_slice_1_vid_1.csv',\n",
       " 'features_ChABC_brain_4_slice_1_vid_2.csv',\n",
       " 'features_ChABC_brain_4_slice_1_vid_3.csv',\n",
       " 'features_ChABC_brain_4_slice_1_vid_4.csv',\n",
       " 'features_ChABC_brain_4_slice_1_vid_5.csv',\n",
       " 'features_ChABC_brain_4_slice_2_vid_1.csv',\n",
       " 'features_ChABC_brain_4_slice_2_vid_2.csv',\n",
       " 'features_ChABC_brain_4_slice_2_vid_3.csv',\n",
       " 'features_ChABC_brain_4_slice_2_vid_4.csv',\n",
       " 'features_ChABC_brain_4_slice_2_vid_5.csv',\n",
       " 'features_ChABC_brain_4_slice_3_vid_1.csv',\n",
       " 'features_ChABC_brain_4_slice_3_vid_2.csv',\n",
       " 'features_ChABC_brain_4_slice_3_vid_3.csv',\n",
       " 'features_ChABC_brain_4_slice_3_vid_4.csv',\n",
       " 'features_ChABC_brain_4_slice_3_vid_5.csv',\n",
       " 'features_HYase_brain_1_slice_1_vid_1.csv',\n",
       " 'features_HYase_brain_1_slice_1_vid_2.csv',\n",
       " 'features_HYase_brain_1_slice_1_vid_3.csv',\n",
       " 'features_HYase_brain_1_slice_1_vid_4.csv',\n",
       " 'features_HYase_brain_1_slice_1_vid_5.csv',\n",
       " 'features_HYase_brain_1_slice_2_vid_1.csv',\n",
       " 'features_HYase_brain_1_slice_2_vid_2.csv',\n",
       " 'features_HYase_brain_1_slice_2_vid_3.csv',\n",
       " 'features_HYase_brain_1_slice_2_vid_4.csv',\n",
       " 'features_HYase_brain_1_slice_2_vid_5.csv',\n",
       " 'features_HYase_brain_1_slice_3_vid_1.csv',\n",
       " 'features_HYase_brain_1_slice_3_vid_2.csv',\n",
       " 'features_HYase_brain_1_slice_3_vid_3.csv',\n",
       " 'features_HYase_brain_1_slice_3_vid_4.csv',\n",
       " 'features_HYase_brain_1_slice_3_vid_5.csv',\n",
       " 'features_HYase_brain_2_slice_1_vid_1.csv',\n",
       " 'features_HYase_brain_2_slice_1_vid_2.csv',\n",
       " 'features_HYase_brain_2_slice_1_vid_3.csv',\n",
       " 'features_HYase_brain_2_slice_1_vid_4.csv',\n",
       " 'features_HYase_brain_2_slice_1_vid_5.csv',\n",
       " 'features_HYase_brain_2_slice_2_vid_1.csv',\n",
       " 'features_HYase_brain_2_slice_2_vid_2.csv',\n",
       " 'features_HYase_brain_2_slice_2_vid_3.csv',\n",
       " 'features_HYase_brain_2_slice_2_vid_4.csv',\n",
       " 'features_HYase_brain_2_slice_2_vid_5.csv',\n",
       " 'features_HYase_brain_2_slice_3_vid_1.csv',\n",
       " 'features_HYase_brain_2_slice_3_vid_2.csv',\n",
       " 'features_HYase_brain_2_slice_3_vid_3.csv',\n",
       " 'features_HYase_brain_2_slice_3_vid_4.csv',\n",
       " 'features_HYase_brain_2_slice_3_vid_5.csv',\n",
       " 'features_HYase_brain_3_slice_1_vid_1.csv',\n",
       " 'features_HYase_brain_3_slice_1_vid_2.csv',\n",
       " 'features_HYase_brain_3_slice_1_vid_3.csv',\n",
       " 'features_HYase_brain_3_slice_1_vid_4.csv',\n",
       " 'features_HYase_brain_3_slice_1_vid_5.csv',\n",
       " 'features_HYase_brain_3_slice_2_vid_1.csv',\n",
       " 'features_HYase_brain_3_slice_2_vid_2.csv',\n",
       " 'features_HYase_brain_3_slice_2_vid_3.csv',\n",
       " 'features_HYase_brain_3_slice_2_vid_4.csv',\n",
       " 'features_HYase_brain_3_slice_2_vid_5.csv',\n",
       " 'features_HYase_brain_3_slice_3_vid_1.csv',\n",
       " 'features_HYase_brain_3_slice_3_vid_2.csv',\n",
       " 'features_HYase_brain_3_slice_3_vid_3.csv',\n",
       " 'features_HYase_brain_3_slice_3_vid_4.csv',\n",
       " 'features_HYase_brain_3_slice_3_vid_5.csv',\n",
       " 'features_HYase_brain_4_slice_1_vid_1.csv',\n",
       " 'features_HYase_brain_4_slice_1_vid_2.csv',\n",
       " 'features_HYase_brain_4_slice_1_vid_3.csv',\n",
       " 'features_HYase_brain_4_slice_1_vid_4.csv',\n",
       " 'features_HYase_brain_4_slice_1_vid_5.csv',\n",
       " 'features_HYase_brain_4_slice_2_vid_1.csv',\n",
       " 'features_HYase_brain_4_slice_2_vid_2.csv',\n",
       " 'features_HYase_brain_4_slice_2_vid_3.csv',\n",
       " 'features_HYase_brain_4_slice_2_vid_4.csv',\n",
       " 'features_HYase_brain_4_slice_2_vid_5.csv',\n",
       " 'features_HYase_brain_4_slice_3_vid_1.csv',\n",
       " 'features_HYase_brain_4_slice_3_vid_2.csv',\n",
       " 'features_HYase_brain_4_slice_3_vid_3.csv',\n",
       " 'features_HYase_brain_4_slice_3_vid_4.csv',\n",
       " 'features_HYase_brain_4_slice_3_vid_5.csv',\n",
       " 'features_NT_brain_1_slice_1_vid_1.csv',\n",
       " 'features_NT_brain_1_slice_1_vid_2.csv',\n",
       " 'features_NT_brain_1_slice_1_vid_3.csv',\n",
       " 'features_NT_brain_1_slice_1_vid_4.csv',\n",
       " 'features_NT_brain_1_slice_1_vid_5.csv',\n",
       " 'features_NT_brain_1_slice_2_vid_1.csv',\n",
       " 'features_NT_brain_1_slice_2_vid_2.csv',\n",
       " 'features_NT_brain_1_slice_2_vid_3.csv',\n",
       " 'features_NT_brain_1_slice_2_vid_4.csv',\n",
       " 'features_NT_brain_1_slice_2_vid_5.csv',\n",
       " 'features_NT_brain_1_slice_3_vid_1.csv',\n",
       " 'features_NT_brain_1_slice_3_vid_2.csv',\n",
       " 'features_NT_brain_1_slice_3_vid_3.csv',\n",
       " 'features_NT_brain_1_slice_3_vid_4.csv',\n",
       " 'features_NT_brain_1_slice_3_vid_5.csv',\n",
       " 'features_NT_brain_2_slice_1_vid_1.csv',\n",
       " 'features_NT_brain_2_slice_1_vid_2.csv',\n",
       " 'features_NT_brain_2_slice_1_vid_3.csv',\n",
       " 'features_NT_brain_2_slice_1_vid_4.csv',\n",
       " 'features_NT_brain_2_slice_1_vid_5.csv',\n",
       " 'features_NT_brain_2_slice_2_vid_1.csv',\n",
       " 'features_NT_brain_2_slice_2_vid_2.csv',\n",
       " 'features_NT_brain_2_slice_2_vid_3.csv',\n",
       " 'features_NT_brain_2_slice_2_vid_4.csv',\n",
       " 'features_NT_brain_2_slice_2_vid_5.csv',\n",
       " 'features_NT_brain_2_slice_3_vid_1.csv',\n",
       " 'features_NT_brain_2_slice_3_vid_2.csv',\n",
       " 'features_NT_brain_2_slice_3_vid_3.csv',\n",
       " 'features_NT_brain_2_slice_3_vid_4.csv',\n",
       " 'features_NT_brain_2_slice_3_vid_5.csv',\n",
       " 'features_NT_brain_3_slice_1_vid_1.csv',\n",
       " 'features_NT_brain_3_slice_1_vid_2.csv',\n",
       " 'features_NT_brain_3_slice_1_vid_3.csv',\n",
       " 'features_NT_brain_3_slice_1_vid_4.csv',\n",
       " 'features_NT_brain_3_slice_1_vid_5.csv',\n",
       " 'features_NT_brain_3_slice_2_vid_1.csv',\n",
       " 'features_NT_brain_3_slice_2_vid_2.csv',\n",
       " 'features_NT_brain_3_slice_2_vid_3.csv',\n",
       " 'features_NT_brain_3_slice_2_vid_4.csv',\n",
       " 'features_NT_brain_3_slice_2_vid_5.csv',\n",
       " 'features_NT_brain_3_slice_3_vid_1.csv',\n",
       " 'features_NT_brain_3_slice_3_vid_2.csv',\n",
       " 'features_NT_brain_3_slice_3_vid_3.csv',\n",
       " 'features_NT_brain_3_slice_3_vid_4.csv',\n",
       " 'features_NT_brain_3_slice_3_vid_5.csv',\n",
       " 'features_NT_brain_4_slice_1_vid_1.csv',\n",
       " 'features_NT_brain_4_slice_1_vid_2.csv',\n",
       " 'features_NT_brain_4_slice_1_vid_3.csv',\n",
       " 'features_NT_brain_4_slice_1_vid_4.csv',\n",
       " 'features_NT_brain_4_slice_1_vid_5.csv',\n",
       " 'features_NT_brain_4_slice_2_vid_1.csv',\n",
       " 'features_NT_brain_4_slice_2_vid_2.csv',\n",
       " 'features_NT_brain_4_slice_2_vid_3.csv',\n",
       " 'features_NT_brain_4_slice_2_vid_4.csv',\n",
       " 'features_NT_brain_4_slice_2_vid_5.csv',\n",
       " 'features_NT_brain_4_slice_3_vid_1.csv',\n",
       " 'features_NT_brain_4_slice_3_vid_2.csv',\n",
       " 'features_NT_brain_4_slice_3_vid_3.csv',\n",
       " 'features_NT_brain_4_slice_3_vid_4.csv',\n",
       " 'features_NT_brain_4_slice_3_vid_5.csv']"
      ]
     },
     "execution_count": 4,
     "metadata": {},
     "output_type": "execute_result"
    }
   ],
   "source": [
    "filelist"
   ]
  },
  {
   "cell_type": "code",
   "execution_count": null,
   "metadata": {},
   "outputs": [],
   "source": [
    "targets = ['ChABC', 'NT']"
   ]
  }
 ],
 "metadata": {
  "kernel_info": {
   "name": "python3-azureml"
  },
  "kernelspec": {
   "display_name": "Python 3.6 - AzureML",
   "language": "python",
   "name": "python3-azureml"
  },
  "language_info": {
   "codemirror_mode": {
    "name": "ipython",
    "version": 3
   },
   "file_extension": ".py",
   "mimetype": "text/x-python",
   "name": "python",
   "nbconvert_exporter": "python",
   "pygments_lexer": "ipython3",
   "version": "3.6.9"
  },
  "nteract": {
   "version": "nteract-front-end@1.0.0"
  }
 },
 "nbformat": 4,
 "nbformat_minor": 2
}
