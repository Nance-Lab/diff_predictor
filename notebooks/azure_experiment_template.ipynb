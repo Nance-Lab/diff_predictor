{
 "cells": [
  {
   "cell_type": "code",
   "execution_count": 1,
   "metadata": {
    "gather": {
     "logged": 1622577848621
    }
   },
   "outputs": [],
   "source": [
    "from azureml.core.conda_dependencies import CondaDependencies\n",
    "from azureml.widgets import RunDetails\n",
    "\n",
    "from azureml.core import Workspace, Experiment, Environment, ScriptRunConfig, Run\n",
    "from azureml.core.conda_dependencies import CondaDependencies\n",
    "import json\n",
    "import pandas as pd\n",
    "import matplotlib.pyplot as plt\n",
    "import os\n",
    "\n",
    "from os import listdir, getcwd, chdir\n"
   ]
  },
  {
   "cell_type": "code",
   "execution_count": 2,
   "metadata": {
    "gather": {
     "logged": 1622577851999
    }
   },
   "outputs": [],
   "source": [
    "# azureml-core of version 1.0.72 or higher is required\n",
    "from azureml.core import Workspace, Dataset\n",
    "\n",
    "subscription_id = '5b7e9376-1907-45b5-b8cf-6fde28c54e67'\n",
    "resource_group = 'mpt_projects'\n",
    "workspace_name = 'ecm_project'\n",
    "\n",
    "workspace = Workspace(subscription_id, resource_group, workspace_name)\n",
    "\n",
    "#dataset = Dataset.get_by_name(workspace, name='age_data')\n",
    "#dataset.download(target_path='.', overwrite=True)"
   ]
  },
  {
   "cell_type": "code",
   "execution_count": 3,
   "metadata": {
    "gather": {
     "logged": 1622575776224
    },
    "jupyter": {
     "outputs_hidden": false,
     "source_hidden": false
    },
    "nteract": {
     "transient": {
      "deleting": false
     }
    }
   },
   "outputs": [],
   "source": [
    "workbookDir = getcwd()\n",
    "# print('Current Notebook Dir: ' + workbookDir)\n",
    "# chdir(workbookDir) # Go to current workbook Dir\n",
    "# chdir('..')        # Go up one\n",
    "# print(f'Using current directory for loading data: {getcwd()}')\n",
    "# workbookDir = getcwd()"
   ]
  },
  {
   "cell_type": "code",
   "execution_count": 4,
   "metadata": {
    "gather": {
     "logged": 1621372132618
    }
   },
   "outputs": [],
   "source": [
    "# filelist = []\n",
    "# for file in dataset.to_path():\n",
    "#     filelist.append(workbookDir + file)\n",
    "# print(filelist[0:4])"
   ]
  },
  {
   "cell_type": "code",
   "execution_count": 5,
   "metadata": {
    "gather": {
     "logged": 1622577860729
    },
    "jupyter": {
     "outputs_hidden": false,
     "source_hidden": false
    },
    "nteract": {
     "transient": {
      "deleting": false
     }
    }
   },
   "outputs": [
    {
     "name": "stdout",
     "output_type": "stream",
     "text": [
      "nanceGPUcluster1 : AmlCompute\n",
      "nance8core : ComputeInstance\n",
      "nanceGPU : ComputeInstance\n",
      "nanceGPUcluster2 : AmlCompute\n",
      "nanceGPUcluster3 : AmlCompute\n",
      "nanceGPU2 : ComputeInstance\n"
     ]
    }
   ],
   "source": [
    "ws = Workspace.from_config()\n",
    "for compute_name in ws.compute_targets:\n",
    "    compute = ws.compute_targets[compute_name]\n",
    "    print(compute.name, \":\", compute.type)"
   ]
  },
  {
   "cell_type": "code",
   "execution_count": 6,
   "metadata": {
    "gather": {
     "logged": 1622577862276
    },
    "jupyter": {
     "outputs_hidden": false,
     "source_hidden": false
    },
    "nteract": {
     "transient": {
      "deleting": false
     }
    }
   },
   "outputs": [],
   "source": [
    "# #env = Environment.from_existing_conda_environment(name='training_environment', conda_environment_name='azureml_py36')\n",
    "# myenv = Environment(name='azureml_py36')\n",
    "\n",
    "# newenv = myenv.clone('newenv')\n",
    "# registered_env = newenv.register(ws)\n",
    "# registered_env.build_local(ws, useDocker=True)\n",
    "\n",
    "conda_dep = CondaDependencies()\n",
    "conda_dep.add_conda_package('python=3.8')\n",
    "\n",
    "test_env = Environment(name='base')\n",
    "test_env.docker.base_image = \"mcr.microsoft.com/azureml/openmpi4.1.0-cuda11.0.3-cudnn8-ubuntu18.04\"\n",
    "\n",
    "with open('/home/azureuser/cloudfiles/code/Users/nlsschim/diff_predictor/requirements.txt', 'r') as f:\n",
    "    line = f.readline()\n",
    "    \n",
    "    while line != '':        \n",
    "        if line.startswith('#') or len(line.split()) == 0:\n",
    "            line = f.readline()\n",
    "            continue\n",
    "        \n",
    "        conda_dep.add_pip_package(line.split()[0])\n",
    "        line = f.readline()\n",
    "\n",
    "test_env.python.conda_dependencies=conda_dep"
   ]
  },
  {
   "cell_type": "code",
   "execution_count": 7,
   "metadata": {
    "gather": {
     "logged": 1621370723101
    }
   },
   "outputs": [
    {
     "data": {
      "text/plain": [
       "<bound method Environment.get_image_details of {\n",
       "    \"databricks\": {\n",
       "        \"eggLibraries\": [],\n",
       "        \"jarLibraries\": [],\n",
       "        \"mavenLibraries\": [],\n",
       "        \"pypiLibraries\": [],\n",
       "        \"rcranLibraries\": []\n",
       "    },\n",
       "    \"docker\": {\n",
       "        \"arguments\": [],\n",
       "        \"baseDockerfile\": null,\n",
       "        \"baseImage\": \"mcr.microsoft.com/azureml/openmpi4.1.0-cuda11.0.3-cudnn8-ubuntu18.04\",\n",
       "        \"baseImageRegistry\": {\n",
       "            \"address\": null,\n",
       "            \"password\": null,\n",
       "            \"registryIdentity\": null,\n",
       "            \"username\": null\n",
       "        },\n",
       "        \"enabled\": false,\n",
       "        \"platform\": {\n",
       "            \"architecture\": \"amd64\",\n",
       "            \"os\": \"Linux\"\n",
       "        },\n",
       "        \"sharedVolumes\": true,\n",
       "        \"shmSize\": \"2g\"\n",
       "    },\n",
       "    \"environmentVariables\": {\n",
       "        \"EXAMPLE_ENV_VAR\": \"EXAMPLE_VALUE\"\n",
       "    },\n",
       "    \"inferencingStackVersion\": null,\n",
       "    \"name\": \"base\",\n",
       "    \"python\": {\n",
       "        \"baseCondaEnvironment\": null,\n",
       "        \"condaDependencies\": {\n",
       "            \"channels\": [\n",
       "                \"anaconda\",\n",
       "                \"conda-forge\"\n",
       "            ],\n",
       "            \"dependencies\": [\n",
       "                \"python=3.8\",\n",
       "                {\n",
       "                    \"pip\": [\n",
       "                        \"azureml-defaults\",\n",
       "                        \"coverage==4.5.2\",\n",
       "                        \"coveralls\",\n",
       "                        \"pytest==4.1.0\",\n",
       "                        \"numpy\",\n",
       "                        \"scipy\",\n",
       "                        \"pandas\",\n",
       "                        \"matplotlib\",\n",
       "                        \"ipython\",\n",
       "                        \"jupyter\",\n",
       "                        \"scikit-learn\",\n",
       "                        \"sklearn\",\n",
       "                        \"boto3\",\n",
       "                        \"shapely\",\n",
       "                        \"shap\",\n",
       "                        \"xgboost\"\n",
       "                    ]\n",
       "                }\n",
       "            ],\n",
       "            \"name\": \"project_environment\"\n",
       "        },\n",
       "        \"condaDependenciesFile\": null,\n",
       "        \"interpreterPath\": \"python\",\n",
       "        \"userManagedDependencies\": false\n",
       "    },\n",
       "    \"r\": null,\n",
       "    \"spark\": {\n",
       "        \"packages\": [],\n",
       "        \"precachePackages\": true,\n",
       "        \"repositories\": []\n",
       "    },\n",
       "    \"version\": null\n",
       "}>"
      ]
     },
     "execution_count": 7,
     "metadata": {},
     "output_type": "execute_result"
    }
   ],
   "source": [
    "test_env.get_image_details"
   ]
  },
  {
   "cell_type": "code",
   "execution_count": 8,
   "metadata": {
    "gather": {
     "logged": 1622577866897
    }
   },
   "outputs": [],
   "source": [
    "subscription_id = '5b7e9376-1907-45b5-b8cf-6fde28c54e67'\n",
    "resource_group  = 'mpt_projects'\n",
    "workspace_name  = 'ecm_project'\n",
    "ws = Workspace(subscription_id, resource_group, workspace_name)\n",
    "\n",
    "experiment = Experiment(workspace=ws, name='age_500_model_iters')"
   ]
  },
  {
   "cell_type": "code",
   "execution_count": 9,
   "metadata": {
    "gather": {
     "logged": 1622577868761
    },
    "jupyter": {
     "outputs_hidden": false,
     "source_hidden": false
    },
    "nteract": {
     "transient": {
      "deleting": false
     }
    }
   },
   "outputs": [],
   "source": [
    "from azureml.core import Experiment, ScriptRunConfig\n",
    "\n",
    "# Create a script config\n",
    "script_config = ScriptRunConfig(source_directory='./scripts_folder',\n",
    "                                script='age_xgboost_multimodel_training.py', \n",
    "                                compute_target='nanceGPUcluster2',\n",
    "                                environment=test_env) \n",
    "\n"
   ]
  },
  {
   "cell_type": "code",
   "execution_count": null,
   "metadata": {},
   "outputs": [],
   "source": []
  },
  {
   "cell_type": "code",
   "execution_count": 10,
   "metadata": {
    "gather": {
     "logged": 1622577882093
    }
   },
   "outputs": [
    {
     "name": "stdout",
     "output_type": "stream",
     "text": [
      "https://ml.azure.com/experiments/age_500_model_iters/runs/age_500_model_iters_1623107792_bc1d9bbe?wsid=/subscriptions/5b7e9376-1907-45b5-b8cf-6fde28c54e67/resourcegroups/mpt_projects/workspaces/ecm_project\n"
     ]
    }
   ],
   "source": [
    "# submit the experiment\n",
    "run = experiment.submit(config=script_config)\n",
    "aml_url = run.get_portal_url()\n",
    "print(aml_url)"
   ]
  },
  {
   "cell_type": "code",
   "execution_count": null,
   "metadata": {
    "jupyter": {
     "outputs_hidden": false,
     "source_hidden": false
    },
    "nteract": {
     "transient": {
      "deleting": false
     }
    }
   },
   "outputs": [],
   "source": []
  }
 ],
 "metadata": {
  "kernel_info": {
   "name": "python3-azureml"
  },
  "kernelspec": {
   "display_name": "Python 3.6 - AzureML",
   "language": "python",
   "name": "python3-azureml"
  },
  "language_info": {
   "codemirror_mode": {
    "name": "ipython",
    "version": 3
   },
   "file_extension": ".py",
   "mimetype": "text/x-python",
   "name": "python",
   "nbconvert_exporter": "python",
   "pygments_lexer": "ipython3",
   "version": "3.6.9"
  },
  "microsoft": {
   "host": {
    "AzureML": {
     "notebookHasBeenCompleted": true
    }
   }
  },
  "nteract": {
   "version": "nteract-front-end@1.0.0"
  }
 },
 "nbformat": 4,
 "nbformat_minor": 2
}
