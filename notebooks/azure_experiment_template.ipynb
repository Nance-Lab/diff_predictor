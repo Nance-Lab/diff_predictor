{
  "cells": [
    {
      "cell_type": "code",
      "source": [
        "from azureml.core.conda_dependencies import CondaDependencies\n",
        "from azureml.widgets import RunDetails\n",
        "\n",
        "from azureml.core import Workspace, Experiment, Environment, ScriptRunConfig, Run\n",
        "from azureml.core.conda_dependencies import CondaDependencies\n",
        "import json\n",
        "import pandas as pd\n",
        "import matplotlib.pyplot as plt\n",
        "import os\n",
        "\n",
        "from os import listdir, getcwd, chdir\n"
      ],
      "outputs": [],
      "execution_count": 1,
      "metadata": {
        "gather": {
          "logged": 1621368202690
        }
      }
    },
    {
      "cell_type": "code",
      "source": [
        "# azureml-core of version 1.0.72 or higher is required\n",
        "from azureml.core import Workspace, Dataset\n",
        "\n",
        "subscription_id = '5b7e9376-1907-45b5-b8cf-6fde28c54e67'\n",
        "resource_group = 'mpt_projects'\n",
        "workspace_name = 'ecm_project'\n",
        "\n",
        "workspace = Workspace(subscription_id, resource_group, workspace_name)\n",
        "\n",
        "dataset = Dataset.get_by_name(workspace, name='age_data')\n",
        "dataset.download(target_path='.', overwrite=True)"
      ],
      "outputs": [
        {
          "output_type": "execute_result",
          "execution_count": 2,
          "data": {
            "text/plain": "['/mnt/batch/tasks/shared/LS_root/mounts/clusters/nance8core/code/Users/nlsschim/diff_predictor/notebooks/features_NT_brain_2_slice_1_vid_1.csv',\n '/mnt/batch/tasks/shared/LS_root/mounts/clusters/nance8core/code/Users/nlsschim/diff_predictor/notebooks/features_NT_brain_2_slice_1_vid_2.csv',\n '/mnt/batch/tasks/shared/LS_root/mounts/clusters/nance8core/code/Users/nlsschim/diff_predictor/notebooks/features_NT_brain_2_slice_1_vid_3.csv',\n '/mnt/batch/tasks/shared/LS_root/mounts/clusters/nance8core/code/Users/nlsschim/diff_predictor/notebooks/features_NT_brain_2_slice_1_vid_4.csv',\n '/mnt/batch/tasks/shared/LS_root/mounts/clusters/nance8core/code/Users/nlsschim/diff_predictor/notebooks/features_NT_brain_2_slice_1_vid_5.csv',\n '/mnt/batch/tasks/shared/LS_root/mounts/clusters/nance8core/code/Users/nlsschim/diff_predictor/notebooks/features_NT_brain_2_slice_2_vid_1.csv',\n '/mnt/batch/tasks/shared/LS_root/mounts/clusters/nance8core/code/Users/nlsschim/diff_predictor/notebooks/features_NT_brain_2_slice_2_vid_2.csv',\n '/mnt/batch/tasks/shared/LS_root/mounts/clusters/nance8core/code/Users/nlsschim/diff_predictor/notebooks/features_NT_brain_2_slice_2_vid_3.csv',\n '/mnt/batch/tasks/shared/LS_root/mounts/clusters/nance8core/code/Users/nlsschim/diff_predictor/notebooks/features_NT_brain_2_slice_2_vid_4.csv',\n '/mnt/batch/tasks/shared/LS_root/mounts/clusters/nance8core/code/Users/nlsschim/diff_predictor/notebooks/features_NT_brain_2_slice_2_vid_5.csv',\n '/mnt/batch/tasks/shared/LS_root/mounts/clusters/nance8core/code/Users/nlsschim/diff_predictor/notebooks/features_NT_brain_2_slice_3_vid_1.csv',\n '/mnt/batch/tasks/shared/LS_root/mounts/clusters/nance8core/code/Users/nlsschim/diff_predictor/notebooks/features_NT_brain_2_slice_3_vid_2.csv',\n '/mnt/batch/tasks/shared/LS_root/mounts/clusters/nance8core/code/Users/nlsschim/diff_predictor/notebooks/features_NT_brain_2_slice_3_vid_3.csv',\n '/mnt/batch/tasks/shared/LS_root/mounts/clusters/nance8core/code/Users/nlsschim/diff_predictor/notebooks/features_NT_brain_2_slice_3_vid_4.csv',\n '/mnt/batch/tasks/shared/LS_root/mounts/clusters/nance8core/code/Users/nlsschim/diff_predictor/notebooks/features_NT_brain_2_slice_3_vid_5.csv',\n '/mnt/batch/tasks/shared/LS_root/mounts/clusters/nance8core/code/Users/nlsschim/diff_predictor/notebooks/features_P14_40nm_s1_v1.csv',\n '/mnt/batch/tasks/shared/LS_root/mounts/clusters/nance8core/code/Users/nlsschim/diff_predictor/notebooks/features_P14_40nm_s1_v2.csv',\n '/mnt/batch/tasks/shared/LS_root/mounts/clusters/nance8core/code/Users/nlsschim/diff_predictor/notebooks/features_P14_40nm_s1_v3.csv',\n '/mnt/batch/tasks/shared/LS_root/mounts/clusters/nance8core/code/Users/nlsschim/diff_predictor/notebooks/features_P14_40nm_s1_v4.csv',\n '/mnt/batch/tasks/shared/LS_root/mounts/clusters/nance8core/code/Users/nlsschim/diff_predictor/notebooks/features_P14_40nm_s1_v5.csv',\n '/mnt/batch/tasks/shared/LS_root/mounts/clusters/nance8core/code/Users/nlsschim/diff_predictor/notebooks/features_P14_40nm_s2_v1.csv',\n '/mnt/batch/tasks/shared/LS_root/mounts/clusters/nance8core/code/Users/nlsschim/diff_predictor/notebooks/features_P14_40nm_s2_v2.csv',\n '/mnt/batch/tasks/shared/LS_root/mounts/clusters/nance8core/code/Users/nlsschim/diff_predictor/notebooks/features_P14_40nm_s2_v3.csv',\n '/mnt/batch/tasks/shared/LS_root/mounts/clusters/nance8core/code/Users/nlsschim/diff_predictor/notebooks/features_P14_40nm_s2_v4.csv',\n '/mnt/batch/tasks/shared/LS_root/mounts/clusters/nance8core/code/Users/nlsschim/diff_predictor/notebooks/features_P14_40nm_s2_v5.csv',\n '/mnt/batch/tasks/shared/LS_root/mounts/clusters/nance8core/code/Users/nlsschim/diff_predictor/notebooks/features_P14_40nm_s3_v1.csv',\n '/mnt/batch/tasks/shared/LS_root/mounts/clusters/nance8core/code/Users/nlsschim/diff_predictor/notebooks/features_P14_40nm_s3_v2.csv',\n '/mnt/batch/tasks/shared/LS_root/mounts/clusters/nance8core/code/Users/nlsschim/diff_predictor/notebooks/features_P14_40nm_s3_v3.csv',\n '/mnt/batch/tasks/shared/LS_root/mounts/clusters/nance8core/code/Users/nlsschim/diff_predictor/notebooks/features_P14_40nm_s3_v4.csv',\n '/mnt/batch/tasks/shared/LS_root/mounts/clusters/nance8core/code/Users/nlsschim/diff_predictor/notebooks/features_P14_40nm_s3_v5.csv',\n '/mnt/batch/tasks/shared/LS_root/mounts/clusters/nance8core/code/Users/nlsschim/diff_predictor/notebooks/features_P21_40nm_s1_v1.csv',\n '/mnt/batch/tasks/shared/LS_root/mounts/clusters/nance8core/code/Users/nlsschim/diff_predictor/notebooks/features_P21_40nm_s1_v2.csv',\n '/mnt/batch/tasks/shared/LS_root/mounts/clusters/nance8core/code/Users/nlsschim/diff_predictor/notebooks/features_P21_40nm_s1_v3.csv',\n '/mnt/batch/tasks/shared/LS_root/mounts/clusters/nance8core/code/Users/nlsschim/diff_predictor/notebooks/features_P21_40nm_s1_v4.csv',\n '/mnt/batch/tasks/shared/LS_root/mounts/clusters/nance8core/code/Users/nlsschim/diff_predictor/notebooks/features_P21_40nm_s1_v5.csv',\n '/mnt/batch/tasks/shared/LS_root/mounts/clusters/nance8core/code/Users/nlsschim/diff_predictor/notebooks/features_P21_40nm_s2_v1.csv',\n '/mnt/batch/tasks/shared/LS_root/mounts/clusters/nance8core/code/Users/nlsschim/diff_predictor/notebooks/features_P21_40nm_s2_v2.csv',\n '/mnt/batch/tasks/shared/LS_root/mounts/clusters/nance8core/code/Users/nlsschim/diff_predictor/notebooks/features_P21_40nm_s2_v3.csv',\n '/mnt/batch/tasks/shared/LS_root/mounts/clusters/nance8core/code/Users/nlsschim/diff_predictor/notebooks/features_P21_40nm_s2_v4.csv',\n '/mnt/batch/tasks/shared/LS_root/mounts/clusters/nance8core/code/Users/nlsschim/diff_predictor/notebooks/features_P21_40nm_s2_v5.csv',\n '/mnt/batch/tasks/shared/LS_root/mounts/clusters/nance8core/code/Users/nlsschim/diff_predictor/notebooks/features_P21_40nm_s3_v1.csv',\n '/mnt/batch/tasks/shared/LS_root/mounts/clusters/nance8core/code/Users/nlsschim/diff_predictor/notebooks/features_P21_40nm_s3_v2.csv',\n '/mnt/batch/tasks/shared/LS_root/mounts/clusters/nance8core/code/Users/nlsschim/diff_predictor/notebooks/features_P21_40nm_s3_v3.csv',\n '/mnt/batch/tasks/shared/LS_root/mounts/clusters/nance8core/code/Users/nlsschim/diff_predictor/notebooks/features_P21_40nm_s3_v4.csv',\n '/mnt/batch/tasks/shared/LS_root/mounts/clusters/nance8core/code/Users/nlsschim/diff_predictor/notebooks/features_P21_40nm_s3_v5.csv',\n '/mnt/batch/tasks/shared/LS_root/mounts/clusters/nance8core/code/Users/nlsschim/diff_predictor/notebooks/features_P28_40nm_s1_v1.csv',\n '/mnt/batch/tasks/shared/LS_root/mounts/clusters/nance8core/code/Users/nlsschim/diff_predictor/notebooks/features_P28_40nm_s1_v2.csv',\n '/mnt/batch/tasks/shared/LS_root/mounts/clusters/nance8core/code/Users/nlsschim/diff_predictor/notebooks/features_P28_40nm_s1_v3.csv',\n '/mnt/batch/tasks/shared/LS_root/mounts/clusters/nance8core/code/Users/nlsschim/diff_predictor/notebooks/features_P28_40nm_s1_v4.csv',\n '/mnt/batch/tasks/shared/LS_root/mounts/clusters/nance8core/code/Users/nlsschim/diff_predictor/notebooks/features_P28_40nm_s1_v5.csv',\n '/mnt/batch/tasks/shared/LS_root/mounts/clusters/nance8core/code/Users/nlsschim/diff_predictor/notebooks/features_P28_40nm_s2_v1.csv',\n '/mnt/batch/tasks/shared/LS_root/mounts/clusters/nance8core/code/Users/nlsschim/diff_predictor/notebooks/features_P28_40nm_s2_v2.csv',\n '/mnt/batch/tasks/shared/LS_root/mounts/clusters/nance8core/code/Users/nlsschim/diff_predictor/notebooks/features_P28_40nm_s2_v3.csv',\n '/mnt/batch/tasks/shared/LS_root/mounts/clusters/nance8core/code/Users/nlsschim/diff_predictor/notebooks/features_P28_40nm_s2_v4.csv',\n '/mnt/batch/tasks/shared/LS_root/mounts/clusters/nance8core/code/Users/nlsschim/diff_predictor/notebooks/features_P28_40nm_s2_v5.csv',\n '/mnt/batch/tasks/shared/LS_root/mounts/clusters/nance8core/code/Users/nlsschim/diff_predictor/notebooks/features_P28_40nm_s3_v1.csv',\n '/mnt/batch/tasks/shared/LS_root/mounts/clusters/nance8core/code/Users/nlsschim/diff_predictor/notebooks/features_P28_40nm_s3_v2.csv',\n '/mnt/batch/tasks/shared/LS_root/mounts/clusters/nance8core/code/Users/nlsschim/diff_predictor/notebooks/features_P28_40nm_s3_v3.csv',\n '/mnt/batch/tasks/shared/LS_root/mounts/clusters/nance8core/code/Users/nlsschim/diff_predictor/notebooks/features_P28_40nm_s3_v4.csv',\n '/mnt/batch/tasks/shared/LS_root/mounts/clusters/nance8core/code/Users/nlsschim/diff_predictor/notebooks/features_P28_40nm_s3_v5.csv',\n '/mnt/batch/tasks/shared/LS_root/mounts/clusters/nance8core/code/Users/nlsschim/diff_predictor/notebooks/features_P70_40nm_s1_v1.csv',\n '/mnt/batch/tasks/shared/LS_root/mounts/clusters/nance8core/code/Users/nlsschim/diff_predictor/notebooks/features_P70_40nm_s1_v2.csv',\n '/mnt/batch/tasks/shared/LS_root/mounts/clusters/nance8core/code/Users/nlsschim/diff_predictor/notebooks/features_P70_40nm_s1_v3.csv',\n '/mnt/batch/tasks/shared/LS_root/mounts/clusters/nance8core/code/Users/nlsschim/diff_predictor/notebooks/features_P70_40nm_s1_v4.csv',\n '/mnt/batch/tasks/shared/LS_root/mounts/clusters/nance8core/code/Users/nlsschim/diff_predictor/notebooks/features_P70_40nm_s1_v5.csv',\n '/mnt/batch/tasks/shared/LS_root/mounts/clusters/nance8core/code/Users/nlsschim/diff_predictor/notebooks/features_P70_40nm_s2_v1.csv',\n '/mnt/batch/tasks/shared/LS_root/mounts/clusters/nance8core/code/Users/nlsschim/diff_predictor/notebooks/features_P70_40nm_s2_v2.csv',\n '/mnt/batch/tasks/shared/LS_root/mounts/clusters/nance8core/code/Users/nlsschim/diff_predictor/notebooks/features_P70_40nm_s2_v3.csv',\n '/mnt/batch/tasks/shared/LS_root/mounts/clusters/nance8core/code/Users/nlsschim/diff_predictor/notebooks/features_P70_40nm_s2_v4.csv',\n '/mnt/batch/tasks/shared/LS_root/mounts/clusters/nance8core/code/Users/nlsschim/diff_predictor/notebooks/features_P70_40nm_s2_v5.csv',\n '/mnt/batch/tasks/shared/LS_root/mounts/clusters/nance8core/code/Users/nlsschim/diff_predictor/notebooks/features_P70_40nm_s3_v1.csv',\n '/mnt/batch/tasks/shared/LS_root/mounts/clusters/nance8core/code/Users/nlsschim/diff_predictor/notebooks/features_P70_40nm_s3_v2.csv',\n '/mnt/batch/tasks/shared/LS_root/mounts/clusters/nance8core/code/Users/nlsschim/diff_predictor/notebooks/features_P70_40nm_s3_v3.csv',\n '/mnt/batch/tasks/shared/LS_root/mounts/clusters/nance8core/code/Users/nlsschim/diff_predictor/notebooks/features_P70_40nm_s3_v4.csv',\n '/mnt/batch/tasks/shared/LS_root/mounts/clusters/nance8core/code/Users/nlsschim/diff_predictor/notebooks/features_P70_40nm_s3_v5.csv']"
          },
          "metadata": {}
        }
      ],
      "execution_count": 2,
      "metadata": {
        "gather": {
          "logged": 1621368214603
        }
      }
    },
    {
      "cell_type": "code",
      "source": [
        "workbookDir = getcwd()\n",
        "print('Current Notebook Dir: ' + workbookDir)\n",
        "# chdir(workbookDir) # Go to current workbook Dir\n",
        "# chdir('..')        # Go up one\n",
        "# print(f'Using current directory for loading data: {getcwd()}')\n",
        "# workbookDir = getcwd()"
      ],
      "outputs": [
        {
          "output_type": "stream",
          "name": "stdout",
          "text": [
            "Current Notebook Dir: /mnt/batch/tasks/shared/LS_root/mounts/clusters/nance8core/code/Users/nlsschim/diff_predictor/notebooks\n"
          ]
        }
      ],
      "execution_count": 3,
      "metadata": {
        "collapsed": true,
        "jupyter": {
          "source_hidden": false,
          "outputs_hidden": false
        },
        "nteract": {
          "transient": {
            "deleting": false
          }
        },
        "gather": {
          "logged": 1621368217682
        }
      }
    },
    {
      "cell_type": "code",
      "source": [
        "for file in dataset.to_path():\n",
        "    print(file)\n",
        "    df = pd.read_csv(workbookDir + file)\n",
        "    print(df.shape)\n"
      ],
      "outputs": [
        {
          "output_type": "stream",
          "name": "stdout",
          "text": [
            "/features_NT_brain_2_slice_1_vid_1.csv\n",
            "(416, 92)\n",
            "/features_NT_brain_2_slice_1_vid_2.csv\n",
            "(833, 92)\n",
            "/features_NT_brain_2_slice_1_vid_3.csv\n",
            "(1017, 92)\n",
            "/features_NT_brain_2_slice_1_vid_4.csv\n",
            "(878, 92)\n",
            "/features_NT_brain_2_slice_1_vid_5.csv\n",
            "(467, 92)\n",
            "/features_NT_brain_2_slice_2_vid_1.csv\n",
            "(2488, 92)\n",
            "/features_NT_brain_2_slice_2_vid_2.csv\n",
            "(2322, 92)\n",
            "/features_NT_brain_2_slice_2_vid_3.csv\n",
            "(1735, 92)\n",
            "/features_NT_brain_2_slice_2_vid_4.csv\n",
            "(1650, 92)\n",
            "/features_NT_brain_2_slice_2_vid_5.csv\n",
            "(2100, 92)\n",
            "/features_NT_brain_2_slice_3_vid_1.csv\n",
            "(562, 92)\n",
            "/features_NT_brain_2_slice_3_vid_2.csv\n",
            "(853, 92)\n",
            "/features_NT_brain_2_slice_3_vid_3.csv\n",
            "(817, 92)\n",
            "/features_NT_brain_2_slice_3_vid_4.csv\n",
            "(598, 92)\n",
            "/features_NT_brain_2_slice_3_vid_5.csv\n",
            "(1062, 92)\n",
            "/features_P14_40nm_s1_v1.csv\n",
            "(793, 92)\n",
            "/features_P14_40nm_s1_v2.csv\n",
            "(1356, 92)\n",
            "/features_P14_40nm_s1_v3.csv\n",
            "(519, 92)\n",
            "/features_P14_40nm_s1_v4.csv\n",
            "(140, 92)\n",
            "/features_P14_40nm_s1_v5.csv\n",
            "(268, 92)\n",
            "/features_P14_40nm_s2_v1.csv\n",
            "(568, 92)\n",
            "/features_P14_40nm_s2_v2.csv\n",
            "(938, 92)\n",
            "/features_P14_40nm_s2_v3.csv\n",
            "(220, 92)\n",
            "/features_P14_40nm_s2_v4.csv\n",
            "(162, 92)\n",
            "/features_P14_40nm_s2_v5.csv\n",
            "(258, 92)\n",
            "/features_P14_40nm_s3_v1.csv\n",
            "(151, 92)\n",
            "/features_P14_40nm_s3_v2.csv\n",
            "(243, 92)\n",
            "/features_P14_40nm_s3_v3.csv\n",
            "(323, 92)\n",
            "/features_P14_40nm_s3_v4.csv\n",
            "(113, 92)\n",
            "/features_P14_40nm_s3_v5.csv\n",
            "(389, 92)\n",
            "/features_P21_40nm_s1_v1.csv\n",
            "(807, 92)\n",
            "/features_P21_40nm_s1_v2.csv\n",
            "(2481, 92)\n",
            "/features_P21_40nm_s1_v3.csv\n",
            "(1330, 92)\n",
            "/features_P21_40nm_s1_v4.csv\n",
            "(1294, 92)\n",
            "/features_P21_40nm_s1_v5.csv\n",
            "(2540, 92)\n",
            "/features_P21_40nm_s2_v1.csv\n",
            "(2584, 92)\n",
            "/features_P21_40nm_s2_v2.csv\n",
            "(846, 92)\n",
            "/features_P21_40nm_s2_v3.csv\n",
            "(435, 92)\n",
            "/features_P21_40nm_s2_v4.csv\n",
            "(1506, 92)\n",
            "/features_P21_40nm_s2_v5.csv\n",
            "(2884, 92)\n",
            "/features_P21_40nm_s3_v1.csv\n",
            "(1086, 92)\n",
            "/features_P21_40nm_s3_v2.csv\n",
            "(679, 92)\n",
            "/features_P21_40nm_s3_v3.csv\n",
            "(456, 92)\n",
            "/features_P21_40nm_s3_v4.csv\n",
            "(1417, 92)\n",
            "/features_P21_40nm_s3_v5.csv\n",
            "(915, 92)\n",
            "/features_P28_40nm_s1_v1.csv\n",
            "(679, 92)\n",
            "/features_P28_40nm_s1_v2.csv\n",
            "(480, 92)\n",
            "/features_P28_40nm_s1_v3.csv\n",
            "(195, 92)\n",
            "/features_P28_40nm_s1_v4.csv\n",
            "(699, 92)\n",
            "/features_P28_40nm_s1_v5.csv\n",
            "(457, 92)\n",
            "/features_P28_40nm_s2_v1.csv\n",
            "(500, 92)\n",
            "/features_P28_40nm_s2_v2.csv\n",
            "(610, 92)\n",
            "/features_P28_40nm_s2_v3.csv\n",
            "(494, 92)\n",
            "/features_P28_40nm_s2_v4.csv\n",
            "(703, 92)\n",
            "/features_P28_40nm_s2_v5.csv\n",
            "(372, 92)\n",
            "/features_P28_40nm_s3_v1.csv\n",
            "(203, 92)\n",
            "/features_P28_40nm_s3_v2.csv\n",
            "(306, 92)\n",
            "/features_P28_40nm_s3_v3.csv\n",
            "(326, 92)\n",
            "/features_P28_40nm_s3_v4.csv\n",
            "(75, 92)\n",
            "/features_P28_40nm_s3_v5.csv\n",
            "(195, 92)\n",
            "/features_P70_40nm_s1_v1.csv\n",
            "(27, 68)\n",
            "/features_P70_40nm_s1_v2.csv\n",
            "(12, 68)\n",
            "/features_P70_40nm_s1_v3.csv\n",
            "(25, 68)\n",
            "/features_P70_40nm_s1_v4.csv\n",
            "(21, 68)\n",
            "/features_P70_40nm_s1_v5.csv\n",
            "(17, 68)\n",
            "/features_P70_40nm_s2_v1.csv\n",
            "(148, 68)\n",
            "/features_P70_40nm_s2_v2.csv\n",
            "(148, 68)\n",
            "/features_P70_40nm_s2_v3.csv\n",
            "(240, 68)\n",
            "/features_P70_40nm_s2_v4.csv\n",
            "(308, 68)\n",
            "/features_P70_40nm_s2_v5.csv\n",
            "(186, 68)\n",
            "/features_P70_40nm_s3_v1.csv\n",
            "(2625, 68)\n",
            "/features_P70_40nm_s3_v2.csv\n",
            "(1401, 68)\n",
            "/features_P70_40nm_s3_v3.csv\n",
            "(2322, 68)\n",
            "/features_P70_40nm_s3_v4.csv\n",
            "(2909, 68)\n",
            "/features_P70_40nm_s3_v5.csv\n",
            "(4162, 68)\n"
          ]
        }
      ],
      "execution_count": 5,
      "metadata": {
        "gather": {
          "logged": 1621368243131
        }
      }
    },
    {
      "cell_type": "code",
      "source": [
        "ws = Workspace.from_config()\n",
        "for compute_name in ws.compute_targets:\n",
        "    compute = ws.compute_targets[compute_name]\n",
        "    print(compute.name, \":\", compute.type)"
      ],
      "outputs": [
        {
          "output_type": "stream",
          "name": "stdout",
          "text": [
            "nancelabCompute1 : ComputeInstance\n",
            "nance8core : ComputeInstance\n",
            "nanceGPU : ComputeInstance\n",
            "nance-cpucluster : AmlCompute\n"
          ]
        }
      ],
      "execution_count": 6,
      "metadata": {
        "gather": {
          "logged": 1621368644331
        },
        "jupyter": {
          "outputs_hidden": false,
          "source_hidden": false
        },
        "nteract": {
          "transient": {
            "deleting": false
          }
        }
      }
    },
    {
      "cell_type": "code",
      "source": [
        "# #env = Environment.from_existing_conda_environment(name='training_environment', conda_environment_name='azureml_py36')\n",
        "# myenv = Environment(name='azureml_py36')\n",
        "\n",
        "# newenv = myenv.clone('newenv')\n",
        "# registered_env = newenv.register(ws)\n",
        "# registered_env.build_local(ws, useDocker=True)\n",
        "\n",
        "conda_dep = CondaDependencies()\n",
        "conda_dep.add_conda_package('python=3.8')\n",
        "\n",
        "test_env = Environment(name='base')\n",
        "test_env.docker.base_image = \"mcr.microsoft.com/azureml/openmpi4.1.0-cuda11.0.3-cudnn8-ubuntu18.04\"\n",
        "\n",
        "with open('/home/azureuser/cloudfiles/code/Users/nlsschim/diff_predictor/requirements.txt', 'r') as f:\n",
        "    line = f.readline()\n",
        "    \n",
        "    while line != '':        \n",
        "        if line.startswith('#') or len(line.split()) == 0:\n",
        "            line = f.readline()\n",
        "            continue\n",
        "        \n",
        "        conda_dep.add_pip_package(line.split()[0])\n",
        "        line = f.readline()\n",
        "\n",
        "test_env.python.conda_dependencies=conda_dep"
      ],
      "outputs": [],
      "execution_count": 7,
      "metadata": {
        "gather": {
          "logged": 1621368648454
        },
        "jupyter": {
          "outputs_hidden": false,
          "source_hidden": false
        },
        "nteract": {
          "transient": {
            "deleting": false
          }
        }
      }
    },
    {
      "cell_type": "code",
      "source": [
        "test_env.get_image_details"
      ],
      "outputs": [
        {
          "output_type": "execute_result",
          "execution_count": 4,
          "data": {
            "text/plain": "<bound method Environment.get_image_details of {\n    \"databricks\": {\n        \"eggLibraries\": [],\n        \"jarLibraries\": [],\n        \"mavenLibraries\": [],\n        \"pypiLibraries\": [],\n        \"rcranLibraries\": []\n    },\n    \"docker\": {\n        \"arguments\": [],\n        \"baseDockerfile\": null,\n        \"baseImage\": \"mcr.microsoft.com/azureml/openmpi4.1.0-cuda11.0.3-cudnn8-ubuntu18.04\",\n        \"baseImageRegistry\": {\n            \"address\": null,\n            \"password\": null,\n            \"registryIdentity\": null,\n            \"username\": null\n        },\n        \"enabled\": false,\n        \"platform\": {\n            \"architecture\": \"amd64\",\n            \"os\": \"Linux\"\n        },\n        \"sharedVolumes\": true,\n        \"shmSize\": \"2g\"\n    },\n    \"environmentVariables\": {\n        \"EXAMPLE_ENV_VAR\": \"EXAMPLE_VALUE\"\n    },\n    \"inferencingStackVersion\": null,\n    \"name\": \"base\",\n    \"python\": {\n        \"baseCondaEnvironment\": null,\n        \"condaDependencies\": {\n            \"channels\": [\n                \"anaconda\",\n                \"conda-forge\"\n            ],\n            \"dependencies\": [\n                \"python=3.8\",\n                {\n                    \"pip\": [\n                        \"azureml-defaults\",\n                        \"coverage==4.5.2\",\n                        \"coveralls\",\n                        \"pytest==4.1.0\",\n                        \"numpy\",\n                        \"scipy\",\n                        \"pandas\",\n                        \"matplotlib\",\n                        \"ipython\",\n                        \"jupyter\",\n                        \"scikit-learn\",\n                        \"sklearn\",\n                        \"boto3\",\n                        \"shapely\",\n                        \"shap\",\n                        \"xgboost\"\n                    ]\n                }\n            ],\n            \"name\": \"project_environment\"\n        },\n        \"condaDependenciesFile\": null,\n        \"interpreterPath\": \"python\",\n        \"userManagedDependencies\": false\n    },\n    \"r\": null,\n    \"spark\": {\n        \"packages\": [],\n        \"precachePackages\": true,\n        \"repositories\": []\n    },\n    \"version\": null\n}>"
          },
          "metadata": {}
        }
      ],
      "execution_count": 4,
      "metadata": {}
    },
    {
      "cell_type": "code",
      "source": [
        "subscription_id = '5b7e9376-1907-45b5-b8cf-6fde28c54e67'\n",
        "resource_group  = 'mpt_projects'\n",
        "workspace_name  = 'ecm_project'\n",
        "ws = Workspace(subscription_id, resource_group, workspace_name)\n",
        "\n",
        "experiment = Experiment(workspace=ws, name='experiment_testing')"
      ],
      "outputs": [],
      "execution_count": 8,
      "metadata": {
        "gather": {
          "logged": 1621368655390
        }
      }
    },
    {
      "cell_type": "code",
      "source": [
        "from azureml.core import Experiment, ScriptRunConfig\n",
        "\n",
        "# Create a script config\n",
        "script_config = ScriptRunConfig(source_directory='./scripts_folder',\n",
        "                                script='ecm_xgboost_cloudscript.py', \n",
        "                                compute_target='nancegpu',\n",
        "                                environment=test_env) \n",
        "\n"
      ],
      "outputs": [],
      "execution_count": 9,
      "metadata": {
        "jupyter": {
          "outputs_hidden": false,
          "source_hidden": false
        },
        "nteract": {
          "transient": {
            "deleting": false
          }
        },
        "gather": {
          "logged": 1621368666095
        }
      }
    },
    {
      "cell_type": "code",
      "source": [],
      "outputs": [],
      "execution_count": null,
      "metadata": {}
    },
    {
      "cell_type": "code",
      "source": [
        "# submit the experiment\n",
        "run = experiment.submit(config=script_config)\n",
        "aml_url = run.get_portal_url()\n",
        "print(aml_url)"
      ],
      "outputs": [
        {
          "output_type": "stream",
          "name": "stdout",
          "text": [
            "https://ml.azure.com/experiments/experiment_testing/runs/experiment_testing_1621368670_d14b3d65?wsid=/subscriptions/5b7e9376-1907-45b5-b8cf-6fde28c54e67/resourcegroups/mpt_projects/workspaces/ecm_project\n"
          ]
        }
      ],
      "execution_count": 10,
      "metadata": {
        "gather": {
          "logged": 1621368679872
        }
      }
    },
    {
      "cell_type": "code",
      "source": [],
      "outputs": [],
      "execution_count": null,
      "metadata": {
        "jupyter": {
          "outputs_hidden": false,
          "source_hidden": false
        },
        "nteract": {
          "transient": {
            "deleting": false
          }
        }
      }
    }
  ],
  "metadata": {
    "kernel_info": {
      "name": "python3-azureml"
    },
    "kernelspec": {
      "name": "python3-azureml",
      "language": "python",
      "display_name": "Python 3.6 - AzureML"
    },
    "language_info": {
      "name": "python",
      "version": "3.6.9",
      "mimetype": "text/x-python",
      "codemirror_mode": {
        "name": "ipython",
        "version": 3
      },
      "pygments_lexer": "ipython3",
      "nbconvert_exporter": "python",
      "file_extension": ".py"
    },
    "microsoft": {
      "host": {
        "AzureML": {
          "notebookHasBeenCompleted": true
        }
      }
    },
    "nteract": {
      "version": "nteract-front-end@1.0.0"
    }
  },
  "nbformat": 4,
  "nbformat_minor": 2
}