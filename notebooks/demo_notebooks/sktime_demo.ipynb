{
 "cells": [
  {
   "cell_type": "code",
   "execution_count": 1,
   "metadata": {},
   "outputs": [],
   "source": [
    "import sktime"
   ]
  },
  {
   "cell_type": "code",
   "execution_count": 2,
   "metadata": {},
   "outputs": [],
   "source": [
    "from sktime.classification.interval_based import TimeSeriesForestClassifier\n",
    "from sktime.datasets import load_unit_test"
   ]
  },
  {
   "cell_type": "code",
   "execution_count": 3,
   "metadata": {},
   "outputs": [],
   "source": [
    "X_train, y_train = load_unit_test(split=\"train\", return_X_y=True)\n"
   ]
  },
  {
   "cell_type": "code",
   "execution_count": 21,
   "metadata": {},
   "outputs": [
    {
     "data": {
      "text/plain": [
       "0      394.0\n",
       "1      264.0\n",
       "2      140.0\n",
       "3      144.0\n",
       "4      104.0\n",
       "5       28.0\n",
       "6       28.0\n",
       "7       25.0\n",
       "8       70.0\n",
       "9      153.0\n",
       "10     401.0\n",
       "11     649.0\n",
       "12    1216.0\n",
       "13    1399.0\n",
       "14    1249.0\n",
       "15    1240.0\n",
       "16    1109.0\n",
       "17    1137.0\n",
       "18    1290.0\n",
       "19    1137.0\n",
       "20     791.0\n",
       "21     638.0\n",
       "22     597.0\n",
       "23     316.0\n",
       "dtype: float64"
      ]
     },
     "execution_count": 21,
     "metadata": {},
     "output_type": "execute_result"
    }
   ],
   "source": [
    "X_train.iloc[1][0]"
   ]
  }
 ],
 "metadata": {
  "interpreter": {
   "hash": "40d3a090f54c6569ab1632332b64b2c03c39dcf918b08424e98f38b5ae0af88f"
  },
  "kernelspec": {
   "display_name": "Python 3.7.7 ('base')",
   "language": "python",
   "name": "python3"
  },
  "language_info": {
   "codemirror_mode": {
    "name": "ipython",
    "version": 3
   },
   "file_extension": ".py",
   "mimetype": "text/x-python",
   "name": "python",
   "nbconvert_exporter": "python",
   "pygments_lexer": "ipython3",
   "version": "3.7.7"
  },
  "orig_nbformat": 4
 },
 "nbformat": 4,
 "nbformat_minor": 2
}
