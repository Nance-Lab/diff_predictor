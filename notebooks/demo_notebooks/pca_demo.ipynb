{
 "cells": [
  {
   "cell_type": "code",
   "execution_count": 1,
   "metadata": {},
   "outputs": [],
   "source": [
    "import pandas as pd\n",
    "import numpy as np\n",
    "from sklearn.preprocessing import scale, StandardScaler\n",
    "import matplotlib.pyplot as plt\n",
    "from sklearn.decomposition import PCA\n",
    "from os import listdir, getcwd, chdir\n",
    "from os.path import isfile, join\n",
    "from diff_predictor import data_process"
   ]
  },
  {
   "cell_type": "code",
   "execution_count": 2,
   "metadata": {},
   "outputs": [
    {
     "name": "stdout",
     "output_type": "stream",
     "text": [
      "Current Notebook Dir: /Users/nelsschimek/Documents/Nance Lab/diff_predictor/notebooks/demo_notebooks\n",
      "Using current directory for loading data: /Users/nelsschimek/Documents/Nance Lab/diff_predictor/notebooks\n"
     ]
    }
   ],
   "source": [
    "workbookDir = getcwd()\n",
    "print('Current Notebook Dir: ' + workbookDir)\n",
    "chdir(workbookDir) # Go to current workbook Dir\"\n",
    "chdir('..')        # Go up one\n",
    "print(f'Using current directory for loading data: {getcwd()}')\n",
    "workbookDir = getcwd()"
   ]
  },
  {
   "cell_type": "markdown",
   "metadata": {},
   "source": [
    "Define path to the data, and generate a filelist for the desired csv's"
   ]
  },
  {
   "cell_type": "code",
   "execution_count": 3,
   "metadata": {},
   "outputs": [
    {
     "data": {
      "text/plain": [
       "15"
      ]
     },
     "execution_count": 3,
     "metadata": {},
     "output_type": "execute_result"
    }
   ],
   "source": [
    "data_path = '../diff_predictor/tests/testing_data/'\n",
    "filelist = [f for f in listdir(data_path) if isfile(join(data_path, f)) and 'feat' in f]\n",
    "len(filelist) #Check to make sure there are the right number of files, in this case 15 - five per class"
   ]
  },
  {
   "cell_type": "markdown",
   "metadata": {},
   "source": [
    "Next, we makea list of features we want to include in the PCA analysis. Mean features are based on a local average of surrounding trajectories for each trajectory"
   ]
  },
  {
   "cell_type": "code",
   "execution_count": 6,
   "metadata": {},
   "outputs": [],
   "source": [
    "feature_list = [\n",
    "    'alpha', # Fitted anomalous diffusion alpha exponenet\n",
    "    'D_fit', # Fitted anomalous diffusion coefficient\n",
    "    'kurtosis', # Kurtosis of track\n",
    "    'asymmetry1', # Asymmetry of trajecory (0 for circular symmetric, 1 for linear)\n",
    "    'asymmetry2', # Ratio of the smaller to larger principal radius of gyration\n",
    "    'asymmetry3', # An asymmetric feature that accnts for non-cylindrically symmetric pt distributions\n",
    "    'AR', # Aspect ratio of long and short side of trajectory's minimum bounding rectangle\n",
    "    'elongation', # Est. of amount of extension of trajectory from centroid\n",
    "    'boundedness', # How much a particle with Deff is restricted by a circular confinement of radius r\n",
    "    'fractal_dim', # Measure of how complicated a self similar figure is\n",
    "    'trappedness', # Probability that a particle with Deff is trapped in a region\n",
    "    'efficiency', # Ratio of squared net displacement to the sum of squared step lengths\n",
    "    'straightness', # Ratio of net displacement to the sum of squared step lengths\n",
    "    'MSD_ratio', # MSD ratio of the track\n",
    "    'Deff1', # Effective diffusion coefficient at 0.33 s\n",
    "    'Deff2', # Effective diffusion coefficient at 3.3 s\n",
    "    'Mean alpha', \n",
    "    'Mean D_fit', \n",
    "    'Mean kurtosis', \n",
    "    'Mean asymmetry1', \n",
    "    'Mean asymmetry2',\n",
    "    'Mean asymmetry3', \n",
    "    'Mean AR',\n",
    "    'Mean elongation', \n",
    "    'Mean boundedness',\n",
    "    'Mean fractal_dim', \n",
    "    'Mean trappedness', \n",
    "    'Mean efficiency',\n",
    "    'Mean straightness', \n",
    "    'Mean MSD_ratio', \n",
    "    'Mean Deff1', \n",
    "    'Mean Deff2',\n",
    "    ]"
   ]
  },
  {
   "cell_type": "markdown",
   "metadata": {},
   "source": [
    "Here, we create a dataframe (fstats_tot) that is the data from all the individual CSV's, so we can work with one dataframe instead of 15 individual\n",
    " files"
   ]
  },
  {
   "cell_type": "code",
   "execution_count": 4,
   "metadata": {},
   "outputs": [
    {
     "name": "stdout",
     "output_type": "stream",
     "text": [
      "Adding file features_P14_40nm_s1_v5.csv size: (268, 91)\n",
      "Adding file features_P70_40nm_s1_v5.csv size: (17, 67)\n",
      "Adding file features_P70_40nm_s1_v4.csv size: (21, 67)\n",
      "Adding file features_P14_40nm_s1_v4.csv size: (140, 91)\n",
      "Adding file features_P70_40nm_s1_v1.csv size: (27, 67)\n",
      "Adding file features_P14_40nm_s1_v1.csv size: (793, 91)\n",
      "Adding file features_P14_40nm_s1_v3.csv size: (519, 91)\n",
      "Adding file features_P70_40nm_s1_v3.csv size: (25, 67)\n",
      "Adding file features_P35_brain_2_slice_1_vid_1.csv size: (416, 23)\n",
      "Adding file features_P70_40nm_s1_v2.csv size: (12, 67)\n",
      "Adding file features_P14_40nm_s1_v2.csv size: (1356, 91)\n"
     ]
    }
   ],
   "source": [
    "fstats_tot = data_process.generate_fullstats(data_path, filelist, ['P14','P35', 'P70'], 'age')"
   ]
  },
  {
   "cell_type": "code",
   "execution_count": 7,
   "metadata": {},
   "outputs": [
    {
     "data": {
      "text/plain": [
       "(2382, 33)"
      ]
     },
     "execution_count": 7,
     "metadata": {},
     "output_type": "execute_result"
    }
   ],
   "source": [
    "ecm = fstats_tot[feature_list + ['age']]\n",
    "ecm = ecm[~ecm[list(set(feature_list) - set(['Deff2', 'Mean Deff2']))].isin([np.nan, np.inf, -np.inf]).any(1)]       # Removing nan and inf data points\n",
    "ecm = ecm.fillna(0) #setting any Deff2 values that are NA to 0\n",
    "ecm.shape"
   ]
  },
  {
   "cell_type": "code",
   "execution_count": 10,
   "metadata": {},
   "outputs": [],
   "source": [
    "labels = np.array(ecm['age'])\n",
    "features_df = ecm.drop(['age'], axis=1) #We dont want the target column in the data that undergoes PCA\n",
    "#col_names = features_df.columns"
   ]
  },
  {
   "cell_type": "markdown",
   "metadata": {},
   "source": [
    "The feature data needs to be scaled prior to PCA. We can do this using scikit-learn's built in scaling functions"
   ]
  },
  {
   "cell_type": "code",
   "execution_count": 12,
   "metadata": {},
   "outputs": [],
   "source": [
    "scaler = StandardScaler() #creater the standard scaler object\n",
    "scaled_df = scaler.fit_transform(features_df) # Scale the feature data\n",
    "scaled_df = pd.DataFrame(scaled_df, columns=feature_list) # the fit function returns an array, so we can convert it back to a dataframe"
   ]
  },
  {
   "cell_type": "markdown",
   "metadata": {},
   "source": [
    "Now, we can use scikit-learn's PCA function to fit our data"
   ]
  },
  {
   "cell_type": "code",
   "execution_count": 13,
   "metadata": {},
   "outputs": [
    {
     "name": "stdout",
     "output_type": "stream",
     "text": [
      "0.8361110124290703\n"
     ]
    }
   ],
   "source": [
    "pca = PCA(n_components=10).fit(scaled_df) # Reduce the number of features down to 10 columns - this number is variable\n",
    "print(pca.explained_variance_ratio_.sum()) # This prints what percentage of the variance is captured by the n_components"
   ]
  },
  {
   "cell_type": "code",
   "execution_count": 14,
   "metadata": {},
   "outputs": [],
   "source": [
    "pca_embeddings = pca.transform(scaled_df)\n",
    "pca_embeddings_df = pd.DataFrame(pca_embeddings[:, :2], columns=['Component 1', 'Component 2'])\n",
    "pca_embeddings_df['target'] = labels"
   ]
  },
  {
   "cell_type": "code",
   "execution_count": 18,
   "metadata": {},
   "outputs": [
    {
     "name": "stdout",
     "output_type": "stream",
     "text": [
      "P14\n",
      "P70\n"
     ]
    },
    {
     "data": {
      "text/plain": [
       "Text(0.5, 1.0, 'First and Second Principal Components of Age Dataset')"
      ]
     },
     "execution_count": 18,
     "metadata": {},
     "output_type": "execute_result"
    },
    {
     "data": {
      "image/png": "[encoded data removed]",
      "text/plain": [
       "<Figure size 432x288 with 1 Axes>"
      ]
     },
     "metadata": {
      "needs_background": "light"
     },
     "output_type": "display_data"
    }
   ],
   "source": [
    "#colors = {'P35': '#56B4E9', 'P70': '#009E73', 'P14': '#E69F00'}\n",
    "\n",
    "fig = plt.figure()#figsize=(12,7))\n",
    "for unique_class in pca_embeddings_df['target'].unique():\n",
    "    print(unique_class)\n",
    "    df = pca_embeddings_df[pca_embeddings_df['target'] == unique_class]\n",
    "    x = df['Component 1']\n",
    "    y = df['Component 2']\n",
    "    plt.scatter(x,y, alpha=0.5, s=4, label=unique_class)#, c=colors[unique_class])\n",
    "plt.legend(loc='lower left')\n",
    "plt.xlim([-13,13])\n",
    "plt.ylim([-13,13])\n",
    "plt.xlabel('PC1')\n",
    "plt.ylabel('PC2')\n",
    "plt.title('First and Second Principal Components of Age Dataset')\n",
    "    "
   ]
  }
 ],
 "metadata": {
  "interpreter": {
   "hash": "40d3a090f54c6569ab1632332b64b2c03c39dcf918b08424e98f38b5ae0af88f"
  },
  "kernelspec": {
   "display_name": "Python 3.7.7 64-bit ('base': conda)",
   "name": "python3"
  },
  "language_info": {
   "codemirror_mode": {
    "name": "ipython",
    "version": 3
   },
   "file_extension": ".py",
   "mimetype": "text/x-python",
   "name": "python",
   "nbconvert_exporter": "python",
   "pygments_lexer": "ipython3",
   "version": "3.7.7"
  },
  "orig_nbformat": 4
 },
 "nbformat": 4,
 "nbformat_minor": 2
}
