{
 "cells": [
  {
   "cell_type": "code",
   "execution_count": null,
   "source": [
    "\n",
    "\n",
    "import pandas as pd\n",
    "import seaborn as sns\n",
    "import numpy as np\n",
    "import matplotlib.pyplot as plt\n",
    "\n",
    "\n",
    "from os import listdir, getcwd, chdir\n",
    "from os.path import isfile, join\n",
    "import os"
   ],
   "outputs": [],
   "metadata": {}
  },
  {
   "cell_type": "code",
   "execution_count": null,
   "source": [
    "workbookDir = getcwd()\n",
    "print('Current Notebook Dir: ' + workbookDir)\n",
    "chdir(workbookDir) # Go to current workbook Dir\n",
    "chdir('..')        # Go up one\n",
    "print(f'Using current directory for loading data: {getcwd()}')\n",
    "workbookDir = getcwd()"
   ],
   "outputs": [],
   "metadata": {}
  },
  {
   "cell_type": "code",
   "execution_count": 32,
   "source": [
    "def process_multimodel_data(filelist, data_path):  \n",
    "    mean_acc = []\n",
    "    min_acc = []\n",
    "    max_acc = []\n",
    "    var_acc = []\n",
    "    stdev_acc = []\n",
    "\n",
    "    mean_traj_count = []\n",
    "    min_traj_count = []\n",
    "    max_traj_count = []\n",
    "    var_traj_count = []\n",
    "    stdev_traj_count = []\n",
    "\n",
    "    mean_frames = []\n",
    "    # min_frames = []\n",
    "    # max_frames = []\n",
    "    # var_frames = []\n",
    "    # stdev_frames = []\n",
    "\n",
    "    for file in filelist:\n",
    "        df = pd.read_csv(data_path + file)\n",
    "        mean_acc.append(df['Accuracies'].mean())\n",
    "        min_acc.append(df['Accuracies'].min())\n",
    "        max_acc.append(df['Accuracies'].max())\n",
    "        var_acc.append(df['Accuracies'].var())\n",
    "        stdev_acc.append(df['Accuracies'].std())\n",
    "\n",
    "        mean_traj_count.append(df['Trajectory Count'].mean())\n",
    "        min_traj_count.append(df['Trajectory Count'].min())\n",
    "        max_traj_count.append(df['Trajectory Count'].max())\n",
    "        var_traj_count.append(df['Trajectory Count'].var())\n",
    "        stdev_traj_count.append(df['Trajectory Count'].std())\n",
    "\n",
    "        raw_frames = extract_string_from_df(df, 'Frames')\n",
    "        mean_frames.append(np.array(raw_frames).mean())\n",
    "           \n",
    "        result = {'mean_acc': mean_acc, \n",
    "              'min_acc': min_acc, \n",
    "              'max_acc': max_acc, \n",
    "              'var_acc': var_acc, \n",
    "              'stdev_acc': stdev_acc, \n",
    "              'mean_traj_count': mean_traj_count, \n",
    "              'min_traj_count': min_traj_count,\n",
    "              'max_traj_count': max_traj_count,\n",
    "              'var_traj_count': var_traj_count,\n",
    "              'stdev_traj_count': stdev_traj_count,\n",
    "              'mean_frames': mean_frames,\n",
    "            #   'min_frames': min_frames,\n",
    "            #   'max_frames': max_frames,\n",
    "            #   'var_frames': var_frames,\n",
    "            #   'stdev_frames': stdev_frames\n",
    "              }\n",
    "    return result\n",
    "    "
   ],
   "outputs": [],
   "metadata": {}
  },
  {
   "cell_type": "markdown",
   "source": [
    "# Dataset #1: Age data, P14, P35, and P70"
   ],
   "metadata": {}
  },
  {
   "cell_type": "code",
   "execution_count": 16,
   "source": [
    "dataset_path_age = workbookDir + '/data/age_traj_count_outputs/'\n",
    "age_data_filelist = ['one_files_run_data.csv',\n",
    "            'two_file_run_data.csv',\n",
    "            'three_file_run_data.csv',\n",
    "            'four_file_run_data.csv',\n",
    "            'five_file_run_data.csv',\n",
    "            'six_file_run_data.csv',\n",
    "            'seven_file_run_data.csv',\n",
    "            'eight_file_run_data.csv',\n",
    "            'nine_file_run_data.csv',\n",
    "            'ten_file_run_data.csv',\n",
    "            'eleven_file_run_data.csv',\n",
    "            'twelve_file_run_data.csv',\n",
    "            'thirteen_files_run_data.csv',\n",
    "            'fourteen_files_run_data.csv',\n",
    "            'fifteen_files_run_data.csv',\n",
    "]"
   ],
   "outputs": [],
   "metadata": {}
  },
  {
   "cell_type": "code",
   "execution_count": 19,
   "source": [
    "age_data_dict = process_multimodel_data(age_data_filelist, dataset_path_age)"
   ],
   "outputs": [
    {
     "output_type": "error",
     "ename": "KeyError",
     "evalue": "'frames'",
     "traceback": [
      "\u001b[0;31m---------------------------------------------------------------------------\u001b[0m",
      "\u001b[0;31mKeyError\u001b[0m                                  Traceback (most recent call last)",
      "\u001b[0;32m/opt/anaconda3/lib/python3.7/site-packages/pandas/core/indexes/base.py\u001b[0m in \u001b[0;36mget_loc\u001b[0;34m(self, key, method, tolerance)\u001b[0m\n\u001b[1;32m   3079\u001b[0m             \u001b[0;32mtry\u001b[0m\u001b[0;34m:\u001b[0m\u001b[0;34m\u001b[0m\u001b[0;34m\u001b[0m\u001b[0m\n\u001b[0;32m-> 3080\u001b[0;31m                 \u001b[0;32mreturn\u001b[0m \u001b[0mself\u001b[0m\u001b[0;34m.\u001b[0m\u001b[0m_engine\u001b[0m\u001b[0;34m.\u001b[0m\u001b[0mget_loc\u001b[0m\u001b[0;34m(\u001b[0m\u001b[0mcasted_key\u001b[0m\u001b[0;34m)\u001b[0m\u001b[0;34m\u001b[0m\u001b[0;34m\u001b[0m\u001b[0m\n\u001b[0m\u001b[1;32m   3081\u001b[0m             \u001b[0;32mexcept\u001b[0m \u001b[0mKeyError\u001b[0m \u001b[0;32mas\u001b[0m \u001b[0merr\u001b[0m\u001b[0;34m:\u001b[0m\u001b[0;34m\u001b[0m\u001b[0;34m\u001b[0m\u001b[0m\n",
      "\u001b[0;32mpandas/_libs/index.pyx\u001b[0m in \u001b[0;36mpandas._libs.index.IndexEngine.get_loc\u001b[0;34m()\u001b[0m\n",
      "\u001b[0;32mpandas/_libs/index.pyx\u001b[0m in \u001b[0;36mpandas._libs.index.IndexEngine.get_loc\u001b[0;34m()\u001b[0m\n",
      "\u001b[0;32mpandas/_libs/hashtable_class_helper.pxi\u001b[0m in \u001b[0;36mpandas._libs.hashtable.PyObjectHashTable.get_item\u001b[0;34m()\u001b[0m\n",
      "\u001b[0;32mpandas/_libs/hashtable_class_helper.pxi\u001b[0m in \u001b[0;36mpandas._libs.hashtable.PyObjectHashTable.get_item\u001b[0;34m()\u001b[0m\n",
      "\u001b[0;31mKeyError\u001b[0m: 'frames'",
      "\nThe above exception was the direct cause of the following exception:\n",
      "\u001b[0;31mKeyError\u001b[0m                                  Traceback (most recent call last)",
      "\u001b[0;32m<ipython-input-19-e3098ff5858a>\u001b[0m in \u001b[0;36m<module>\u001b[0;34m\u001b[0m\n\u001b[0;32m----> 1\u001b[0;31m \u001b[0mage_data_dict\u001b[0m \u001b[0;34m=\u001b[0m \u001b[0mprocess_multimodel_data\u001b[0m\u001b[0;34m(\u001b[0m\u001b[0mage_data_filelist\u001b[0m\u001b[0;34m,\u001b[0m \u001b[0mdataset_path_age\u001b[0m\u001b[0;34m)\u001b[0m\u001b[0;34m\u001b[0m\u001b[0;34m\u001b[0m\u001b[0m\n\u001b[0m",
      "\u001b[0;32m<ipython-input-18-8567a75b55d4>\u001b[0m in \u001b[0;36mprocess_multimodel_data\u001b[0;34m(filelist, data_path)\u001b[0m\n\u001b[1;32m     32\u001b[0m         \u001b[0mstdev_traj_count\u001b[0m\u001b[0;34m.\u001b[0m\u001b[0mappend\u001b[0m\u001b[0;34m(\u001b[0m\u001b[0mdf\u001b[0m\u001b[0;34m[\u001b[0m\u001b[0;34m'Trajectory Count'\u001b[0m\u001b[0;34m]\u001b[0m\u001b[0;34m.\u001b[0m\u001b[0mstd\u001b[0m\u001b[0;34m(\u001b[0m\u001b[0;34m)\u001b[0m\u001b[0;34m)\u001b[0m\u001b[0;34m\u001b[0m\u001b[0;34m\u001b[0m\u001b[0m\n\u001b[1;32m     33\u001b[0m \u001b[0;34m\u001b[0m\u001b[0m\n\u001b[0;32m---> 34\u001b[0;31m         \u001b[0mraw_frames\u001b[0m \u001b[0;34m=\u001b[0m \u001b[0mextract_string_from_df\u001b[0m\u001b[0;34m(\u001b[0m\u001b[0mdf\u001b[0m\u001b[0;34m,\u001b[0m \u001b[0;34m'frames'\u001b[0m\u001b[0;34m)\u001b[0m\u001b[0;34m\u001b[0m\u001b[0;34m\u001b[0m\u001b[0m\n\u001b[0m\u001b[1;32m     35\u001b[0m         \u001b[0mmean_frames\u001b[0m\u001b[0;34m.\u001b[0m\u001b[0mappend\u001b[0m\u001b[0;34m(\u001b[0m\u001b[0mraw_frames\u001b[0m\u001b[0;34m.\u001b[0m\u001b[0mmean\u001b[0m\u001b[0;34m(\u001b[0m\u001b[0;34m)\u001b[0m\u001b[0;34m)\u001b[0m\u001b[0;34m\u001b[0m\u001b[0;34m\u001b[0m\u001b[0m\n\u001b[1;32m     36\u001b[0m \u001b[0;34m\u001b[0m\u001b[0m\n",
      "\u001b[0;32m<ipython-input-12-86cd43762880>\u001b[0m in \u001b[0;36mextract_string_from_df\u001b[0;34m(df, col_name)\u001b[0m\n\u001b[1;32m      7\u001b[0m \u001b[0;34m\u001b[0m\u001b[0m\n\u001b[1;32m      8\u001b[0m     \u001b[0;32mfor\u001b[0m \u001b[0mi\u001b[0m \u001b[0;32min\u001b[0m \u001b[0mrange\u001b[0m\u001b[0;34m(\u001b[0m\u001b[0;36m0\u001b[0m\u001b[0;34m,\u001b[0m\u001b[0mlen\u001b[0m\u001b[0;34m(\u001b[0m\u001b[0mtestdf\u001b[0m\u001b[0;34m)\u001b[0m\u001b[0;34m)\u001b[0m\u001b[0;34m:\u001b[0m\u001b[0;34m\u001b[0m\u001b[0;34m\u001b[0m\u001b[0m\n\u001b[0;32m----> 9\u001b[0;31m         \u001b[0mframes_string\u001b[0m \u001b[0;34m=\u001b[0m \u001b[0mdf\u001b[0m\u001b[0;34m[\u001b[0m\u001b[0mcol_name\u001b[0m\u001b[0;34m]\u001b[0m\u001b[0;34m[\u001b[0m\u001b[0mi\u001b[0m\u001b[0;34m]\u001b[0m\u001b[0;34m[\u001b[0m\u001b[0;36m1\u001b[0m\u001b[0;34m:\u001b[0m\u001b[0;34m(\u001b[0m\u001b[0mlen\u001b[0m\u001b[0;34m(\u001b[0m\u001b[0mdf\u001b[0m\u001b[0;34m[\u001b[0m\u001b[0mcol_name\u001b[0m\u001b[0;34m]\u001b[0m\u001b[0;34m[\u001b[0m\u001b[0mi\u001b[0m\u001b[0;34m]\u001b[0m\u001b[0;34m)\u001b[0m\u001b[0;34m-\u001b[0m\u001b[0;36m1\u001b[0m\u001b[0;34m)\u001b[0m\u001b[0;34m]\u001b[0m\u001b[0;34m\u001b[0m\u001b[0;34m\u001b[0m\u001b[0m\n\u001b[0m\u001b[1;32m     10\u001b[0m         \u001b[0mframes_list\u001b[0m \u001b[0;34m=\u001b[0m \u001b[0mframes_string\u001b[0m\u001b[0;34m.\u001b[0m\u001b[0msplit\u001b[0m\u001b[0;34m(\u001b[0m\u001b[0;34m\",\"\u001b[0m\u001b[0;34m)\u001b[0m\u001b[0;34m\u001b[0m\u001b[0;34m\u001b[0m\u001b[0m\n\u001b[1;32m     11\u001b[0m         \u001b[0mlist_of_floats\u001b[0m \u001b[0;34m=\u001b[0m \u001b[0;34m[\u001b[0m\u001b[0;34m]\u001b[0m\u001b[0;34m\u001b[0m\u001b[0;34m\u001b[0m\u001b[0m\n",
      "\u001b[0;32m/opt/anaconda3/lib/python3.7/site-packages/pandas/core/frame.py\u001b[0m in \u001b[0;36m__getitem__\u001b[0;34m(self, key)\u001b[0m\n\u001b[1;32m   3022\u001b[0m             \u001b[0;32mif\u001b[0m \u001b[0mself\u001b[0m\u001b[0;34m.\u001b[0m\u001b[0mcolumns\u001b[0m\u001b[0;34m.\u001b[0m\u001b[0mnlevels\u001b[0m \u001b[0;34m>\u001b[0m \u001b[0;36m1\u001b[0m\u001b[0;34m:\u001b[0m\u001b[0;34m\u001b[0m\u001b[0;34m\u001b[0m\u001b[0m\n\u001b[1;32m   3023\u001b[0m                 \u001b[0;32mreturn\u001b[0m \u001b[0mself\u001b[0m\u001b[0;34m.\u001b[0m\u001b[0m_getitem_multilevel\u001b[0m\u001b[0;34m(\u001b[0m\u001b[0mkey\u001b[0m\u001b[0;34m)\u001b[0m\u001b[0;34m\u001b[0m\u001b[0;34m\u001b[0m\u001b[0m\n\u001b[0;32m-> 3024\u001b[0;31m             \u001b[0mindexer\u001b[0m \u001b[0;34m=\u001b[0m \u001b[0mself\u001b[0m\u001b[0;34m.\u001b[0m\u001b[0mcolumns\u001b[0m\u001b[0;34m.\u001b[0m\u001b[0mget_loc\u001b[0m\u001b[0;34m(\u001b[0m\u001b[0mkey\u001b[0m\u001b[0;34m)\u001b[0m\u001b[0;34m\u001b[0m\u001b[0;34m\u001b[0m\u001b[0m\n\u001b[0m\u001b[1;32m   3025\u001b[0m             \u001b[0;32mif\u001b[0m \u001b[0mis_integer\u001b[0m\u001b[0;34m(\u001b[0m\u001b[0mindexer\u001b[0m\u001b[0;34m)\u001b[0m\u001b[0;34m:\u001b[0m\u001b[0;34m\u001b[0m\u001b[0;34m\u001b[0m\u001b[0m\n\u001b[1;32m   3026\u001b[0m                 \u001b[0mindexer\u001b[0m \u001b[0;34m=\u001b[0m \u001b[0;34m[\u001b[0m\u001b[0mindexer\u001b[0m\u001b[0;34m]\u001b[0m\u001b[0;34m\u001b[0m\u001b[0;34m\u001b[0m\u001b[0m\n",
      "\u001b[0;32m/opt/anaconda3/lib/python3.7/site-packages/pandas/core/indexes/base.py\u001b[0m in \u001b[0;36mget_loc\u001b[0;34m(self, key, method, tolerance)\u001b[0m\n\u001b[1;32m   3080\u001b[0m                 \u001b[0;32mreturn\u001b[0m \u001b[0mself\u001b[0m\u001b[0;34m.\u001b[0m\u001b[0m_engine\u001b[0m\u001b[0;34m.\u001b[0m\u001b[0mget_loc\u001b[0m\u001b[0;34m(\u001b[0m\u001b[0mcasted_key\u001b[0m\u001b[0;34m)\u001b[0m\u001b[0;34m\u001b[0m\u001b[0;34m\u001b[0m\u001b[0m\n\u001b[1;32m   3081\u001b[0m             \u001b[0;32mexcept\u001b[0m \u001b[0mKeyError\u001b[0m \u001b[0;32mas\u001b[0m \u001b[0merr\u001b[0m\u001b[0;34m:\u001b[0m\u001b[0;34m\u001b[0m\u001b[0;34m\u001b[0m\u001b[0m\n\u001b[0;32m-> 3082\u001b[0;31m                 \u001b[0;32mraise\u001b[0m \u001b[0mKeyError\u001b[0m\u001b[0;34m(\u001b[0m\u001b[0mkey\u001b[0m\u001b[0;34m)\u001b[0m \u001b[0;32mfrom\u001b[0m \u001b[0merr\u001b[0m\u001b[0;34m\u001b[0m\u001b[0;34m\u001b[0m\u001b[0m\n\u001b[0m\u001b[1;32m   3083\u001b[0m \u001b[0;34m\u001b[0m\u001b[0m\n\u001b[1;32m   3084\u001b[0m         \u001b[0;32mif\u001b[0m \u001b[0mtolerance\u001b[0m \u001b[0;32mis\u001b[0m \u001b[0;32mnot\u001b[0m \u001b[0;32mNone\u001b[0m\u001b[0;34m:\u001b[0m\u001b[0;34m\u001b[0m\u001b[0;34m\u001b[0m\u001b[0m\n",
      "\u001b[0;31mKeyError\u001b[0m: 'frames'"
     ]
    }
   ],
   "metadata": {}
  },
  {
   "cell_type": "code",
   "execution_count": null,
   "source": [
    "fig, ax = plt.subplots()\n",
    "#ax.errorbar(traj_count_list, accuracy_list, yerr=stdev_list, fmt='-o')\n",
    "ax.errorbar(np.arange(1,16), age_data_dict['mean_acc'], yerr=age_data_dict['stdev_acc'], fmt='-o')\n",
    "\n",
    "# plt.scatter(x=traj_count_list, y=accuracy_list, c='m')\n",
    "# plt.scatter(traj_count_list, min_acc, c='g')\n",
    "# plt.scatter(traj_count_list, max_acc, c='b')\n",
    "plt.ylim([0,1])\n",
    "plt.ylabel('Mean accuracy')\n",
    "plt.xlabel('Number of files')\n",
    "plt.title('Mean accuracy across 100 models')"
   ],
   "outputs": [],
   "metadata": {}
  },
  {
   "cell_type": "code",
   "execution_count": null,
   "source": [
    "fig, ax = plt.subplots()\n",
    "plt.scatter(x=age_data_dict['mean_traj_count'], y=age_data_dict['mean_acc'], c='m', label='Mean')\n",
    "plt.scatter(x=age_data_dict['mean_traj_count'], y=age_data_dict['min_acc'], c='g', label='Min')\n",
    "plt.scatter(x=age_data_dict['mean_traj_count'], y=age_data_dict['max_acc'], c='b', label='Max')\n",
    "\n",
    "plt.ylim([0,1])\n",
    "plt.legend(loc=4)\n",
    "plt.xlabel('Mean number of trajectories')\n",
    "plt.ylabel('Mean Accuracy')\n",
    "plt.title('Mean, Max, and Min Accuracies')\n"
   ],
   "outputs": [],
   "metadata": {}
  },
  {
   "cell_type": "code",
   "execution_count": null,
   "source": [
    "fig, ax = plt.subplots(figsize=(10,6))\n",
    "for i in range(len(age_data_dict['mean_acc'])):\n",
    "    plt.scatter(age_data_dict['stdev_acc'][i], age_data_dict['mean_acc'][i], label=age_data_dict['mean_traj_count'][i])\n",
    "plt.legend(loc=0, title='Mean trajectories')\n",
    "plt.ylim([0,1])\n",
    "plt.ylabel('Mean Accuracy')\n",
    "plt.xlabel('Standard Deviation')\n",
    "plt.title('Mean Accuracy vs Variance for random file subsets')"
   ],
   "outputs": [],
   "metadata": {}
  },
  {
   "cell_type": "markdown",
   "source": [
    "# Dataset 2: region data (all regions)"
   ],
   "metadata": {}
  },
  {
   "cell_type": "code",
   "execution_count": null,
   "source": [
    "dataset_path_region = workbookDir + '/data/region_traj_count_outputs/'\n",
    "region_filelist = ['one_file_run_data.csv',\n",
    "            'two_file_run_data.csv',\n",
    "            'three_file_run_data.csv',\n",
    "            'four_file_run_data.csv',\n",
    "            'five_file_run_data.csv',\n",
    "            'six_file_run_data.csv']"
   ],
   "outputs": [],
   "metadata": {}
  },
  {
   "cell_type": "code",
   "execution_count": null,
   "source": [
    "region_data_dict = process_multimodel_data(region_filelist, dataset_path_region)"
   ],
   "outputs": [],
   "metadata": {}
  },
  {
   "cell_type": "code",
   "execution_count": null,
   "source": [
    "fig, ax = plt.subplots()\n",
    "ax.errorbar(region_data_dict['mean_traj_count'], region_data_dict['mean_acc'], yerr=region_data_dict['stdev_acc'], fmt='-o')\n",
    "\n",
    "plt.ylim([0,1])\n",
    "plt.ylabel('Mean accuracy')\n",
    "plt.xlabel('Mean number of trajectories')\n",
    "plt.title('Mean accuracy across 100 models')"
   ],
   "outputs": [],
   "metadata": {}
  },
  {
   "cell_type": "code",
   "execution_count": null,
   "source": [
    "fig, ax = plt.subplots()\n",
    "plt.scatter(x=region_data_dict['mean_traj_count'], y=region_data_dict['mean_acc'], c='m', label='Mean')\n",
    "plt.scatter(region_data_dict['mean_traj_count'], region_data_dict['max_acc'], c='g', label='Max')\n",
    "plt.scatter(region_data_dict['mean_traj_count'], region_data_dict['min_acc'], c='b', label='Min')\n",
    "plt.ylim([0,1])\n",
    "plt.legend(loc=4)\n",
    "plt.xlabel('Mean number of trajectories')\n",
    "plt.ylabel('Mean Accuracy')\n",
    "plt.title('Mean, Max, and Min Accuracies')"
   ],
   "outputs": [],
   "metadata": {}
  },
  {
   "cell_type": "code",
   "execution_count": null,
   "source": [
    "fig, ax = plt.subplots(figsize=(10,6))\n",
    "for i in range(len(region_data_dict['mean_acc'])):\n",
    "    plt.scatter(region_data_dict['stdev_acc'][i], region_data_dict['mean_acc'][i], label=region_data_dict['mean_traj_count'][i])\n",
    "plt.legend(loc=0, title='Mean trajectories')\n",
    "plt.ylim([0,1])\n",
    "plt.ylabel('Mean Accuracy')\n",
    "plt.xlabel('Standard Deviation')\n",
    "plt.title('Mean Accuracy vs Standard Deviation for random file subsets')"
   ],
   "outputs": [],
   "metadata": {}
  },
  {
   "cell_type": "markdown",
   "source": [
    "# Dataset #3: Using average of 500 models instead of 100 on region data"
   ],
   "metadata": {}
  },
  {
   "cell_type": "code",
   "execution_count": null,
   "source": [
    "region_500model_filelist = ['region500model_1file_run_data.csv', \n",
    "                            'region500model_2file_run_data.csv',\n",
    "                            'region500model_3file_run_data.csv',\n",
    "                            'region500model_4file_run_data.csv',\n",
    "                            'region500model_5file_run_data.csv',\n",
    "                            'region500model_6file_run_data.csv'\n",
    "                            ]"
   ],
   "outputs": [],
   "metadata": {}
  },
  {
   "cell_type": "code",
   "execution_count": null,
   "source": [
    "path_to_data = '/Users/nelsschimek/Documents/Nance Lab/diff_predictor/data/region_500models_traj_count_outputs/'\n",
    "result = process_multimodel_data(region_500model_filelist, path_to_data)"
   ],
   "outputs": [],
   "metadata": {}
  },
  {
   "cell_type": "code",
   "execution_count": null,
   "source": [
    "fig, ax = plt.subplots()\n",
    "ax.errorbar(result['mean_traj_count'], result['mean_acc'], yerr=result['stdev_acc'], fmt='-o')\n",
    "#ax.errorbar(np.arange(1,7), accuracy_list, yerr=stdev_list, fmt='-o')\n",
    "\n",
    "# plt.scatter(x=traj_count_list, y=accuracy_list, c='m')\n",
    "# plt.scatter(traj_count_list, min_acc, c='g')\n",
    "# plt.scatter(traj_count_list, max_acc, c='b')\n",
    "plt.ylim([0,1])\n",
    "plt.ylabel('Mean accuracy')\n",
    "plt.xlabel('Mean number of trajectories')\n",
    "plt.title('Mean accuracy across 500 models')"
   ],
   "outputs": [],
   "metadata": {}
  },
  {
   "cell_type": "code",
   "execution_count": null,
   "source": [
    "fig, ax = plt.subplots()\n",
    "plt.scatter(x=result['mean_traj_count'], y=result['mean_acc'], c='m', label='Mean')\n",
    "plt.scatter(result['mean_traj_count'], result['max_acc'], c='g', label='Max')\n",
    "plt.scatter(result['mean_traj_count'], result['min_acc'], c='b', label='Min')\n",
    "plt.ylim([0,1])\n",
    "plt.legend(loc=4)\n",
    "plt.xlabel('Mean number of trajectories')\n",
    "plt.ylabel('Mean Accuracy')\n",
    "plt.title('Mean, Max, and Min Accuracies')"
   ],
   "outputs": [],
   "metadata": {}
  },
  {
   "cell_type": "code",
   "execution_count": null,
   "source": [
    "fig, ax = plt.subplots(figsize=(10,6))\n",
    "for i in range(len(result['mean_acc'])):\n",
    "    plt.scatter(result['stdev_acc'][i], result['mean_acc'][i], label=result['mean_traj_count'][i])\n",
    "plt.legend(loc=0, title='Mean trajectories')\n",
    "plt.ylim([0,1])\n",
    "plt.ylabel('Mean Accuracy')\n",
    "plt.xlabel('Standard Deviation')\n",
    "plt.title('Mean Accuracy vs Standard Deviation for random file subsets')"
   ],
   "outputs": [],
   "metadata": {}
  },
  {
   "cell_type": "markdown",
   "source": [
    "# Dataset #4: age data averaged over 500 models"
   ],
   "metadata": {}
  },
  {
   "cell_type": "code",
   "execution_count": null,
   "source": [
    "age_500model_dataset_path = workbookDir + '/data/age_500models_traj_count_outputs/'\n",
    "age_500model_filelist = ['age_500model_1file_run_data.csv',\n",
    "                            'age_500model_2file_run_data.csv',\n",
    "                            'age_500model_3file_run_data.csv',\n",
    "                            'age_500model_4file_run_data.csv',\n",
    "                            'age_500model_5file_run_data.csv',\n",
    "                            'age_500model_6files_run_data.csv',\n",
    "                            'age_500model_7files_run_data.csv',\n",
    "                            'age_500model_8files_run_data.csv',\n",
    "                            'age_500model_9files_run_data.csv',\n",
    "                            'age_500model_10files_run_data.csv',\n",
    "                            'age_500model_11files_run_data.csv',\n",
    "                            'age_500model_12file_run_data.csv',\n",
    "                            'age_500model_13file_run_data.csv',\n",
    "                            'age_500model_14file_run_data.csv',\n",
    "                            'age_500model_15file_run_data.csv',\n",
    "                            ]"
   ],
   "outputs": [],
   "metadata": {}
  },
  {
   "cell_type": "code",
   "execution_count": null,
   "source": [
    "age_500model_dc = process_multimodel_data(age_500model_filelist, age_500model_dataset_path)"
   ],
   "outputs": [],
   "metadata": {}
  },
  {
   "cell_type": "code",
   "execution_count": null,
   "source": [
    "fig, ax = plt.subplots()\n",
    "ax.errorbar(age_500model_dc['mean_traj_count'], age_500model_dc['mean_acc'], yerr=age_500model_dc['stdev_acc'], fmt='-o')\n",
    "\n",
    "plt.ylim([0,1])\n",
    "plt.ylabel('Mean accuracy')\n",
    "plt.xlabel('Mean number of trajectories')\n",
    "plt.title('Mean accuracy across 500 models')"
   ],
   "outputs": [],
   "metadata": {}
  },
  {
   "cell_type": "code",
   "execution_count": null,
   "source": [
    "fig, ax = plt.subplots(figsize=(10,6))\n",
    "for i in range(len(age_500model_dc['mean_acc'])):\n",
    "    plt.scatter(age_500model_dc['stdev_acc'][i], age_500model_dc['mean_acc'][i], label=age_500model_dc['mean_traj_count'][i])\n",
    "plt.legend(loc=0, title='Mean trajectories')\n",
    "plt.ylim([0,1])\n",
    "plt.ylabel('Mean Accuracy')\n",
    "plt.xlabel('Standard Deviation')\n",
    "plt.title('Mean Accuracy vs Standard Deviation for random file subsets')"
   ],
   "outputs": [],
   "metadata": {}
  },
  {
   "cell_type": "markdown",
   "source": [
    "# Dataset #5: 500 models on best 3 classes of region data\n",
    "## Hippocampus, cortex, striatum"
   ],
   "metadata": {}
  },
  {
   "cell_type": "code",
   "execution_count": null,
   "source": [
    "region_hcs_path = workbookDir + '/data/region_hippo_cort_striat_traj_count_outputs/'\n",
    "region_hip_cort_striat_filelist = ['region_hippo_cort_striat_500model_one_files.csv',\n",
    "                                   'region_hippo_cort_striat_500model_two_files.csv',\n",
    "                                   'region_hippo_cort_striat_500model_three_files.csv',\n",
    "                                   'region_hippo_cort_striat_500model_four_files.csv',\n",
    "                                   'region_hippo_cort_striat_500model_five_files.csv',\n",
    "                                   'region_hippo_cort_striat_500model_six_files.csv'\n",
    "                                   ]"
   ],
   "outputs": [],
   "metadata": {}
  },
  {
   "cell_type": "code",
   "execution_count": null,
   "source": [
    "regions_hcs_dc = process_multimodel_data(region_hip_cort_striat_filelist, region_hcs_path)"
   ],
   "outputs": [],
   "metadata": {}
  },
  {
   "cell_type": "code",
   "execution_count": null,
   "source": [
    "fig, ax = plt.subplots()\n",
    "ax.errorbar(regions_hcs_dc['mean_traj_count'], regions_hcs_dc['mean_acc'], yerr=regions_hcs_dc['stdev_acc'], fmt='-o')\n",
    "\n",
    "plt.ylim([0,1])\n",
    "plt.ylabel('Mean accuracy')\n",
    "plt.xlabel('Mean number of trajectories')\n",
    "plt.title('Mean accuracy across 500 models')"
   ],
   "outputs": [],
   "metadata": {}
  },
  {
   "cell_type": "code",
   "execution_count": null,
   "source": [
    "fig, ax = plt.subplots()\n",
    "plt.scatter(x=regions_hcs_dc['mean_traj_count'], y=regions_hcs_dc['mean_acc'], c='m', label='Mean')\n",
    "plt.scatter(regions_hcs_dc['mean_traj_count'], regions_hcs_dc['max_acc'], c='g', label='Max')\n",
    "plt.scatter(regions_hcs_dc['mean_traj_count'], regions_hcs_dc['min_acc'], c='b', label='Min')\n",
    "plt.ylim([0,1])\n",
    "plt.legend(loc=4)\n",
    "plt.xlabel('Mean number of trajectories')\n",
    "plt.ylabel('Mean Accuracy')\n",
    "plt.title('Mean, Max, and Min Accuracies')"
   ],
   "outputs": [],
   "metadata": {}
  },
  {
   "cell_type": "code",
   "execution_count": null,
   "source": [
    "fig, ax = plt.subplots(figsize=(10,6))\n",
    "for i in range(len(regions_hcs_dc['mean_acc'])):\n",
    "    plt.scatter(regions_hcs_dc['stdev_acc'][i], regions_hcs_dc['mean_acc'][i], label=regions_hcs_dc['mean_traj_count'][i])\n",
    "plt.legend(loc=0, title='Mean trajectories')\n",
    "plt.ylim([0,1])\n",
    "plt.ylabel('Mean Accuracy')\n",
    "plt.xlabel('Standard Deviation')\n",
    "plt.title('Mean Accuracy vs Standard Deviation for random file subsets')"
   ],
   "outputs": [],
   "metadata": {}
  },
  {
   "cell_type": "markdown",
   "source": [
    "# Dataset #6: top two regions\n",
    "## useful because we can now go up to 10 files"
   ],
   "metadata": {}
  },
  {
   "cell_type": "code",
   "execution_count": null,
   "source": [
    "region_cs_path = workbookDir + '/data/region_cort_striat_traj_count_outputs/'\n",
    "region_cort_striat_filelist = ['region_cort_striat_500model_one_file.csv',\n",
    "                                   'region_cort_striat_500model_two_files.csv',\n",
    "                                   'region_cort_striat_500model_three_files.csv',\n",
    "                                   'region_cort_striat_500model_four_files.csv',\n",
    "                                   'region_cort_striat_500model_five_files.csv',\n",
    "                                   'region_cort_striat_500model_six_files.csv',\n",
    "                                   'region_cort_striat_500model_seven_files.csv',\n",
    "                                   'region_cort_striat_500model_eight_files.csv',\n",
    "                                   'region_cort_striat_500model_nine_files.csv',\n",
    "                                   'region_cort_striat_500model_ten_files.csv'\n",
    "                                   ]"
   ],
   "outputs": [],
   "metadata": {}
  },
  {
   "cell_type": "code",
   "execution_count": null,
   "source": [
    "region_cs_dc = process_multimodel_data(region_cort_striat_filelist, region_cs_path)"
   ],
   "outputs": [],
   "metadata": {}
  },
  {
   "cell_type": "code",
   "execution_count": null,
   "source": [
    "fig, ax = plt.subplots()\n",
    "ax.errorbar(region_cs_dc['mean_traj_count'], region_cs_dc['mean_acc'], yerr=region_cs_dc['stdev_acc'], fmt='-o')\n",
    "\n",
    "plt.ylim([0,1])\n",
    "plt.ylabel('Mean accuracy')\n",
    "plt.xlabel('Mean number of trajectories')\n",
    "plt.title('Mean accuracy across 500 models')"
   ],
   "outputs": [],
   "metadata": {}
  },
  {
   "cell_type": "code",
   "execution_count": null,
   "source": [
    "fig, ax = plt.subplots()\n",
    "plt.scatter(x=region_cs_dc['mean_traj_count'], y=region_cs_dc['mean_acc'], c='m', label='Mean')\n",
    "plt.scatter(region_cs_dc['mean_traj_count'], region_cs_dc['max_acc'], c='g', label='Max')\n",
    "plt.scatter(region_cs_dc['mean_traj_count'], region_cs_dc['min_acc'], c='b', label='Min')\n",
    "plt.ylim([0,1])\n",
    "plt.legend(loc=4)\n",
    "plt.xlabel('Mean number of trajectories')\n",
    "plt.ylabel('Mean Accuracy')\n",
    "plt.title('Mean, Max, and Min Accuracies')"
   ],
   "outputs": [],
   "metadata": {}
  },
  {
   "cell_type": "code",
   "execution_count": null,
   "source": [
    "fig, ax = plt.subplots(figsize=(10,6))\n",
    "for i in range(len(region_cs_dc['mean_acc'])):\n",
    "    plt.scatter(region_cs_dc['stdev_acc'][i], region_cs_dc['mean_acc'][i], label=region_cs_dc['mean_traj_count'][i])\n",
    "plt.legend(loc=0, title='Mean trajectories')\n",
    "plt.ylim([0,1])\n",
    "plt.ylabel('Mean Accuracy')\n",
    "plt.xlabel('Standard Deviation')\n",
    "plt.title('Mean Accuracy vs Standard deviation for random file subsets')"
   ],
   "outputs": [],
   "metadata": {}
  },
  {
   "cell_type": "markdown",
   "source": [
    "# Dataset #7: regions hippo, gangl, thala\n",
    "## all have 6 files"
   ],
   "metadata": {}
  },
  {
   "cell_type": "code",
   "execution_count": null,
   "source": [
    "region_hgt_path = workbookDir + '/data/region_hippo_gangl_thala_500model_traj_count_outputs/'\n",
    "region_hippo_gangl_thala_filelist = ['region_hippo_gangl_thala_500model_one_file.csv',\n",
    "                                   'region_hippo_gangl_thala_500model_two_files.csv',\n",
    "                                   'region_hippo_gangl_thala_500model_three_files.csv',\n",
    "                                   'region_hippo_gangl_thala_500model_four_files.csv',\n",
    "                                   'region_hippo_gangl_thala_500model_five_files.csv',\n",
    "                                   'region_hippo_gangl_thala_500model_six_files.csv'\n",
    "                                   ]"
   ],
   "outputs": [],
   "metadata": {}
  },
  {
   "cell_type": "code",
   "execution_count": null,
   "source": [
    "region_hgt_dc = process_multimodel_data(region_hippo_gangl_thala_filelist, region_hgt_path)"
   ],
   "outputs": [],
   "metadata": {}
  },
  {
   "cell_type": "code",
   "execution_count": null,
   "source": [
    "fig, ax = plt.subplots()\n",
    "ax.errorbar(region_hgt_dc['mean_traj_count'], region_hgt_dc['mean_acc'], yerr=region_hgt_dc['stdev_acc'], fmt='-o')\n",
    "\n",
    "plt.ylim([0,1])\n",
    "plt.ylabel('Mean accuracy')\n",
    "plt.xlabel('Mean number of trajectories')\n",
    "plt.title('Mean accuracy across 500 models')"
   ],
   "outputs": [],
   "metadata": {}
  },
  {
   "cell_type": "code",
   "execution_count": null,
   "source": [
    "fig, ax = plt.subplots()\n",
    "plt.scatter(x=region_hgt_dc['mean_traj_count'], y=region_hgt_dc['mean_acc'], c='m', label='Mean')\n",
    "plt.scatter(region_hgt_dc['mean_traj_count'], region_hgt_dc['max_acc'], c='g', label='Max')\n",
    "plt.scatter(region_hgt_dc['mean_traj_count'], region_hgt_dc['min_acc'], c='b', label='Min')\n",
    "plt.ylim([0,1])\n",
    "plt.legend(loc=4)\n",
    "plt.xlabel('Mean number of trajectories')\n",
    "plt.ylabel('Mean Accuracy')\n",
    "plt.title('Mean, Max, and Min Accuracies')"
   ],
   "outputs": [],
   "metadata": {}
  },
  {
   "cell_type": "code",
   "execution_count": null,
   "source": [
    "fig, ax = plt.subplots(figsize=(10,6))\n",
    "for i in range(len(region_hgt_dc['mean_acc'])):\n",
    "    plt.scatter(region_hgt_dc['stdev_acc'][i], region_hgt_dc['mean_acc'][i], label=region_hgt_dc['mean_traj_count'][i])\n",
    "plt.legend(loc=0, title='Mean trajectories')\n",
    "plt.ylim([0,1])\n",
    "plt.ylabel('Mean Accuracy')\n",
    "plt.xlabel('Standard Deviation')\n",
    "plt.title('Mean Accuracy vs Standard deviation for random file subsets')"
   ],
   "outputs": [],
   "metadata": {}
  },
  {
   "cell_type": "markdown",
   "source": [
    "# Dataset 8: all ages \n",
    "## Prior age plots were just p21, p35, p70"
   ],
   "metadata": {}
  },
  {
   "cell_type": "code",
   "execution_count": 20,
   "source": [
    "age_all_path = workbookDir + '/data/age_all_ages_traj_count_outputs/'\n",
    "age_all_filelist = ['age_all_one_file_data.csv',\n",
    "                    'age_all_two_file_data.csv',\n",
    "                    'age_all_three_file_data.csv',\n",
    "                    'age_all_four_file_data.csv',\n",
    "                    'age_all_five_file_data.csv',\n",
    "                    'age_all_six_file_data.csv',\n",
    "                    'age_all_seven_file_data.csv',\n",
    "                    'age_all_eight_file_data.csv',\n",
    "                    'age_all_nine_file_data.csv',\n",
    "                    'age_all_ten_file_data.csv',\n",
    "                    'age_all_eleven_file_data.csv',\n",
    "                    'age_all_twelve_file_data.csv',\n",
    "                    'age_all_thirteen_file_data.csv',\n",
    "                    'age_all_fourteen_file_data.csv',\n",
    "                    'age_all_fifteen_file_data.csv']\n"
   ],
   "outputs": [],
   "metadata": {}
  },
  {
   "cell_type": "code",
   "execution_count": 33,
   "source": [
    "age_all_dc = process_multimodel_data(age_all_filelist, age_all_path)"
   ],
   "outputs": [],
   "metadata": {}
  },
  {
   "cell_type": "code",
   "execution_count": 34,
   "source": [
    "fig, ax = plt.subplots()\n",
    "ax.errorbar(age_all_dc['mean_traj_count'], age_all_dc['mean_acc'], yerr=age_all_dc['stdev_acc'], fmt='-o')\n",
    "\n",
    "plt.ylim([0,1])\n",
    "plt.ylabel('Mean accuracy')\n",
    "plt.xlabel('Mean number of trajectories')\n",
    "plt.title('Mean accuracy across 500 models')"
   ],
   "outputs": [
    {
     "output_type": "execute_result",
     "data": {
      "text/plain": [
       "Text(0.5, 1.0, 'Mean accuracy across 500 models')"
      ]
     },
     "metadata": {},
     "execution_count": 34
    },
    {
     "output_type": "display_data",
     "data": {
      "text/plain": [
       "<Figure size 432x288 with 1 Axes>"
      ],
      "image/png": "[encoded data removed]"
     },
     "metadata": {
      "needs_background": "light"
     }
    }
   ],
   "metadata": {}
  },
  {
   "cell_type": "code",
   "execution_count": 37,
   "source": [
    "fig, ax = plt.subplots()\n",
    "plt.scatter(x=age_all_dc['mean_traj_count'], y=age_all_dc['mean_acc'], c='m', label='Mean')\n",
    "plt.scatter(age_all_dc['mean_traj_count'], age_all_dc['max_acc'], c='g', label='Max')\n",
    "plt.scatter(age_all_dc['mean_traj_count'], age_all_dc['min_acc'], c='b', label='Min')\n",
    "plt.ylim([0,1])\n",
    "plt.legend(loc=4)\n",
    "plt.xlabel('Mean number of trajectories')\n",
    "plt.ylabel('Mean Accuracy')\n",
    "plt.title('Mean, Max, and Min Accuracies')"
   ],
   "outputs": [
    {
     "output_type": "execute_result",
     "data": {
      "text/plain": [
       "Text(0.5, 1.0, 'Mean, Max, and Min Accuracies')"
      ]
     },
     "metadata": {},
     "execution_count": 37
    },
    {
     "output_type": "display_data",
     "data": {
      "text/plain": [
       "<Figure size 432x288 with 1 Axes>"
      ],
      "image/png": "[encoded data removed]"
     },
     "metadata": {
      "needs_background": "light"
     }
    }
   ],
   "metadata": {}
  },
  {
   "cell_type": "code",
   "execution_count": null,
   "source": [
    "fig, ax = plt.subplots(figsize=(10,6))\n",
    "for i in range(len(age_all_dc['mean_acc'])):\n",
    "    plt.scatter(age_all_dc['stdev_acc'][i], age_all_dc['mean_acc'][i], label=age_all_dc['mean_traj_count'][i])\n",
    "#plt.legend(loc='top', title='Mean trajectories')\n",
    "plt.ylim([0,1])\n",
    "plt.ylabel('Mean Accuracy')\n",
    "plt.xlabel('Standard Deviation')\n",
    "plt.title('Mean Accuracy vs Standard deviation for random file subsets')"
   ],
   "outputs": [],
   "metadata": {}
  },
  {
   "cell_type": "code",
   "execution_count": 45,
   "source": [
    "fig, ax = plt.subplots()\n",
    "ax.errorbar(age_all_dc['mean_frames'], age_all_dc['mean_acc'], yerr=age_all_dc['stdev_acc'], fmt='o')\n",
    "\n",
    "plt.ylim([0,1])\n",
    "plt.ylabel('Mean accuracy')\n",
    "plt.xlabel('Mean number of trajectories')\n",
    "plt.title('Mean accuracy across 500 models')"
   ],
   "outputs": [
    {
     "output_type": "execute_result",
     "data": {
      "text/plain": [
       "Text(0.5, 1.0, 'Mean accuracy across 500 models')"
      ]
     },
     "metadata": {},
     "execution_count": 45
    },
    {
     "output_type": "display_data",
     "data": {
      "text/plain": [
       "<Figure size 432x288 with 1 Axes>"
      ],
      "image/png": "[encoded data removed]"
     },
     "metadata": {
      "needs_background": "light"
     }
    }
   ],
   "metadata": {}
  },
  {
   "cell_type": "code",
   "execution_count": 38,
   "source": [
    "fig, ax = plt.subplots()\n",
    "plt.scatter(x=age_all_dc['mean_frames'], y=age_all_dc['mean_acc'], c='m', label='Mean')\n",
    "plt.scatter(age_all_dc['mean_frames'], age_all_dc['max_acc'], c='g', label='Max')\n",
    "plt.scatter(age_all_dc['mean_frames'], age_all_dc['min_acc'], c='b', label='Min')\n",
    "plt.ylim([0,1])\n",
    "plt.legend(loc=4)\n",
    "plt.xlabel('Mean number of frames per trajectory')\n",
    "plt.ylabel('Mean Accuracy')\n",
    "plt.title('Mean, Max, and Min Accuracies')"
   ],
   "outputs": [
    {
     "output_type": "execute_result",
     "data": {
      "text/plain": [
       "Text(0.5, 1.0, 'Mean, Max, and Min Accuracies')"
      ]
     },
     "metadata": {},
     "execution_count": 38
    },
    {
     "output_type": "display_data",
     "data": {
      "text/plain": [
       "<Figure size 432x288 with 1 Axes>"
      ],
      "image/png": "[encoded data removed]"
     },
     "metadata": {
      "needs_background": "light"
     }
    }
   ],
   "metadata": {}
  },
  {
   "cell_type": "markdown",
   "source": [
    "## I want to try and pull out individual classes"
   ],
   "metadata": {}
  },
  {
   "cell_type": "code",
   "execution_count": 193,
   "source": [
    "testdf = pd.read_csv(age_all_path + age_all_filelist[0])\n",
    "testdf"
   ],
   "outputs": [
    {
     "output_type": "execute_result",
     "data": {
      "text/plain": [
       "     Accuracies                                        True Labels  \\\n",
       "0      0.473469  [0. 4. 3. 4. 1. 1. 0. 4. 0. 3. 3. 4. 3. 1. 1. ...   \n",
       "1      0.312500  [1. 2. 2. 0. 0. 1. 1. 1. 4. 3. 2. 4. 4. 2. 2. ...   \n",
       "2      0.375000  [1. 2. 2. 0. 0. 4. 3. 1. 0. 1. 4. 4. 2. 1. 3. ...   \n",
       "3      0.585635  [3. 4. 1. 1. 0. 0. 3. 2. 3. 0. 1. 2. 1. 1. 0. ...   \n",
       "4      0.504425  [1. 0. 0. 0. 0. 4. 1. 3. 0. 0. 3. 4. 2. 4. 1. ...   \n",
       "..          ...                                                ...   \n",
       "495    0.222222  [1. 2. 2. 0. 0. 4. 2. 4. 4. 0. 1. 0. 1. 1. 0. ...   \n",
       "496    0.366667  [2. 3. 0. 1. 0. 4. 3. 1. 1. 2. 3. 2. 0. 1. 3. ...   \n",
       "497    0.120000  [4. 4. 0. 4. 1. 4. 0. 3. 0. 4. 2. 2. 1. 2. 3. ...   \n",
       "498    0.421053  [0. 4. 1. 0. 0. 3. 2. 2. 1. 2. 0. 0. 0. 1. 0. ...   \n",
       "499    0.258065  [1. 2. 2. 0. 0. 1. 1. 1. 4. 3. 2. 3. 3. 2. 2. ...   \n",
       "\n",
       "                                                 Preds  Trajectory Count  \\\n",
       "0    [0, 4, 3, 4, 2, 2, 2, 4, 3, 3, 3, 4, 4, 2, 0, ...               955   \n",
       "1    [3, 3, 3, 0, 1, 1, 2, 1, 4, 0, 1, 4, 1, 3, 3, ...               125   \n",
       "2    [2, 3, 1, 0, 3, 0, 2, 1, 3, 1, 3, 3, 2, 0, 3, ...               125   \n",
       "3    [3, 4, 0, 1, 0, 3, 0, 3, 0, 0, 1, 2, 1, 1, 0, ...               730   \n",
       "4    [2, 0, 2, 0, 2, 4, 3, 3, 0, 0, 2, 4, 2, 4, 1, ...               435   \n",
       "..                                                 ...               ...   \n",
       "495  [0, 0, 0, 0, 0, 0, 0, 3, 0, 0, 0, 3, 1, 2, 4, ...                60   \n",
       "496  [2, 4, 3, 2, 4, 4, 2, 1, 2, 4, 2, 0, 0, 2, 4, ...               125   \n",
       "497  [0, 3, 1, 0, 0, 0, 3, 0, 1, 0, 0, 1, 0, 0, 0, ...                85   \n",
       "498  [2, 4, 3, 0, 3, 3, 2, 3, 1, 1, 4, 3, 0, 1, 4, ...                85   \n",
       "499  [1, 3, 1, 3, 1, 2, 0, 0, 4, 3, 0, 4, 0, 0, 0, ...               125   \n",
       "\n",
       "                                                Frames  \\\n",
       "0    [11.0, 19.0, 24.0, 46.0, 19.0, 13.0, 19.0, 22....   \n",
       "1    [24.0, 19.0, 32.0, 39.0, 30.0, 16.0, 37.0, 20....   \n",
       "2    [19.0, 27.0, 63.0, 18.0, 43.0, 14.0, 121.0, 31...   \n",
       "3    [13.0, 12.0, 59.0, 14.0, 13.0, 399.0, 39.0, 30...   \n",
       "4    [13.0, 12.0, 59.0, 14.0, 13.0, 399.0, 39.0, 30...   \n",
       "..                                                 ...   \n",
       "495  [11.0, 19.0, 24.0, 46.0, 19.0, 13.0, 19.0, 22....   \n",
       "496  [13.0, 27.0, 12.0, 51.0, 21.0, 40.0, 189.0, 53...   \n",
       "497  [14.0, 16.0, 14.0, 32.0, 13.0, 18.0, 22.0, 38....   \n",
       "498  [19.0, 27.0, 63.0, 18.0, 43.0, 14.0, 121.0, 31...   \n",
       "499  [13.0, 27.0, 12.0, 51.0, 21.0, 40.0, 189.0, 53...   \n",
       "\n",
       "                                              dist_tot  \\\n",
       "0    [1758.705789049034, 49561.23654532989, 19480.2...   \n",
       "1    [28500.40395007936, 15779.445938230683, 53718....   \n",
       "2    [18444.28763544908, 49727.74917136272, 112046....   \n",
       "3    [3642.273364836402, 23473.478232374426, 25341....   \n",
       "4    [3642.273364836402, 23473.478232374426, 25341....   \n",
       "..                                                 ...   \n",
       "495  [1758.705789049034, 49561.23654532989, 19480.2...   \n",
       "496  [3873.5279623033184, 25561.80053543264, 27262....   \n",
       "497  [8877.471073327943, 33331.74203475706, 1207.71...   \n",
       "498  [18444.28763544908, 49727.74917136272, 112046....   \n",
       "499  [3873.5279623033184, 25561.80053543264, 27262....   \n",
       "\n",
       "                                              dist_net  \n",
       "0    [173.85773329686748, 2753.158453051233, 858.95...  \n",
       "1    [1236.8211092294712, 870.447930887721, 1742.63...  \n",
       "2    [1028.315733945143, 1912.8432030473264, 1810.9...  \n",
       "3    [309.6262507482087, 2130.068539070673, 463.925...  \n",
       "4    [309.6262507482087, 2130.068539070673, 463.925...  \n",
       "..                                                 ...  \n",
       "495  [173.85773329686748, 2753.158453051233, 858.95...  \n",
       "496  [312.74542596606574, 976.3921633252264, 2483.6...  \n",
       "497  [694.7787251884323, 2224.2537847615995, 82.749...  \n",
       "498  [1028.315733945143, 1912.8432030473264, 1810.9...  \n",
       "499  [312.74542596606574, 976.3921633252264, 2483.6...  \n",
       "\n",
       "[500 rows x 7 columns]"
      ],
      "text/html": [
       "<div>\n",
       "<style scoped>\n",
       "    .dataframe tbody tr th:only-of-type {\n",
       "        vertical-align: middle;\n",
       "    }\n",
       "\n",
       "    .dataframe tbody tr th {\n",
       "        vertical-align: top;\n",
       "    }\n",
       "\n",
       "    .dataframe thead th {\n",
       "        text-align: right;\n",
       "    }\n",
       "</style>\n",
       "<table border=\"1\" class=\"dataframe\">\n",
       "  <thead>\n",
       "    <tr style=\"text-align: right;\">\n",
       "      <th></th>\n",
       "      <th>Accuracies</th>\n",
       "      <th>True Labels</th>\n",
       "      <th>Preds</th>\n",
       "      <th>Trajectory Count</th>\n",
       "      <th>Frames</th>\n",
       "      <th>dist_tot</th>\n",
       "      <th>dist_net</th>\n",
       "    </tr>\n",
       "  </thead>\n",
       "  <tbody>\n",
       "    <tr>\n",
       "      <th>0</th>\n",
       "      <td>0.473469</td>\n",
       "      <td>[0. 4. 3. 4. 1. 1. 0. 4. 0. 3. 3. 4. 3. 1. 1. ...</td>\n",
       "      <td>[0, 4, 3, 4, 2, 2, 2, 4, 3, 3, 3, 4, 4, 2, 0, ...</td>\n",
       "      <td>955</td>\n",
       "      <td>[11.0, 19.0, 24.0, 46.0, 19.0, 13.0, 19.0, 22....</td>\n",
       "      <td>[1758.705789049034, 49561.23654532989, 19480.2...</td>\n",
       "      <td>[173.85773329686748, 2753.158453051233, 858.95...</td>\n",
       "    </tr>\n",
       "    <tr>\n",
       "      <th>1</th>\n",
       "      <td>0.312500</td>\n",
       "      <td>[1. 2. 2. 0. 0. 1. 1. 1. 4. 3. 2. 4. 4. 2. 2. ...</td>\n",
       "      <td>[3, 3, 3, 0, 1, 1, 2, 1, 4, 0, 1, 4, 1, 3, 3, ...</td>\n",
       "      <td>125</td>\n",
       "      <td>[24.0, 19.0, 32.0, 39.0, 30.0, 16.0, 37.0, 20....</td>\n",
       "      <td>[28500.40395007936, 15779.445938230683, 53718....</td>\n",
       "      <td>[1236.8211092294712, 870.447930887721, 1742.63...</td>\n",
       "    </tr>\n",
       "    <tr>\n",
       "      <th>2</th>\n",
       "      <td>0.375000</td>\n",
       "      <td>[1. 2. 2. 0. 0. 4. 3. 1. 0. 1. 4. 4. 2. 1. 3. ...</td>\n",
       "      <td>[2, 3, 1, 0, 3, 0, 2, 1, 3, 1, 3, 3, 2, 0, 3, ...</td>\n",
       "      <td>125</td>\n",
       "      <td>[19.0, 27.0, 63.0, 18.0, 43.0, 14.0, 121.0, 31...</td>\n",
       "      <td>[18444.28763544908, 49727.74917136272, 112046....</td>\n",
       "      <td>[1028.315733945143, 1912.8432030473264, 1810.9...</td>\n",
       "    </tr>\n",
       "    <tr>\n",
       "      <th>3</th>\n",
       "      <td>0.585635</td>\n",
       "      <td>[3. 4. 1. 1. 0. 0. 3. 2. 3. 0. 1. 2. 1. 1. 0. ...</td>\n",
       "      <td>[3, 4, 0, 1, 0, 3, 0, 3, 0, 0, 1, 2, 1, 1, 0, ...</td>\n",
       "      <td>730</td>\n",
       "      <td>[13.0, 12.0, 59.0, 14.0, 13.0, 399.0, 39.0, 30...</td>\n",
       "      <td>[3642.273364836402, 23473.478232374426, 25341....</td>\n",
       "      <td>[309.6262507482087, 2130.068539070673, 463.925...</td>\n",
       "    </tr>\n",
       "    <tr>\n",
       "      <th>4</th>\n",
       "      <td>0.504425</td>\n",
       "      <td>[1. 0. 0. 0. 0. 4. 1. 3. 0. 0. 3. 4. 2. 4. 1. ...</td>\n",
       "      <td>[2, 0, 2, 0, 2, 4, 3, 3, 0, 0, 2, 4, 2, 4, 1, ...</td>\n",
       "      <td>435</td>\n",
       "      <td>[13.0, 12.0, 59.0, 14.0, 13.0, 399.0, 39.0, 30...</td>\n",
       "      <td>[3642.273364836402, 23473.478232374426, 25341....</td>\n",
       "      <td>[309.6262507482087, 2130.068539070673, 463.925...</td>\n",
       "    </tr>\n",
       "    <tr>\n",
       "      <th>...</th>\n",
       "      <td>...</td>\n",
       "      <td>...</td>\n",
       "      <td>...</td>\n",
       "      <td>...</td>\n",
       "      <td>...</td>\n",
       "      <td>...</td>\n",
       "      <td>...</td>\n",
       "    </tr>\n",
       "    <tr>\n",
       "      <th>495</th>\n",
       "      <td>0.222222</td>\n",
       "      <td>[1. 2. 2. 0. 0. 4. 2. 4. 4. 0. 1. 0. 1. 1. 0. ...</td>\n",
       "      <td>[0, 0, 0, 0, 0, 0, 0, 3, 0, 0, 0, 3, 1, 2, 4, ...</td>\n",
       "      <td>60</td>\n",
       "      <td>[11.0, 19.0, 24.0, 46.0, 19.0, 13.0, 19.0, 22....</td>\n",
       "      <td>[1758.705789049034, 49561.23654532989, 19480.2...</td>\n",
       "      <td>[173.85773329686748, 2753.158453051233, 858.95...</td>\n",
       "    </tr>\n",
       "    <tr>\n",
       "      <th>496</th>\n",
       "      <td>0.366667</td>\n",
       "      <td>[2. 3. 0. 1. 0. 4. 3. 1. 1. 2. 3. 2. 0. 1. 3. ...</td>\n",
       "      <td>[2, 4, 3, 2, 4, 4, 2, 1, 2, 4, 2, 0, 0, 2, 4, ...</td>\n",
       "      <td>125</td>\n",
       "      <td>[13.0, 27.0, 12.0, 51.0, 21.0, 40.0, 189.0, 53...</td>\n",
       "      <td>[3873.5279623033184, 25561.80053543264, 27262....</td>\n",
       "      <td>[312.74542596606574, 976.3921633252264, 2483.6...</td>\n",
       "    </tr>\n",
       "    <tr>\n",
       "      <th>497</th>\n",
       "      <td>0.120000</td>\n",
       "      <td>[4. 4. 0. 4. 1. 4. 0. 3. 0. 4. 2. 2. 1. 2. 3. ...</td>\n",
       "      <td>[0, 3, 1, 0, 0, 0, 3, 0, 1, 0, 0, 1, 0, 0, 0, ...</td>\n",
       "      <td>85</td>\n",
       "      <td>[14.0, 16.0, 14.0, 32.0, 13.0, 18.0, 22.0, 38....</td>\n",
       "      <td>[8877.471073327943, 33331.74203475706, 1207.71...</td>\n",
       "      <td>[694.7787251884323, 2224.2537847615995, 82.749...</td>\n",
       "    </tr>\n",
       "    <tr>\n",
       "      <th>498</th>\n",
       "      <td>0.421053</td>\n",
       "      <td>[0. 4. 1. 0. 0. 3. 2. 2. 1. 2. 0. 0. 0. 1. 0. ...</td>\n",
       "      <td>[2, 4, 3, 0, 3, 3, 2, 3, 1, 1, 4, 3, 0, 1, 4, ...</td>\n",
       "      <td>85</td>\n",
       "      <td>[19.0, 27.0, 63.0, 18.0, 43.0, 14.0, 121.0, 31...</td>\n",
       "      <td>[18444.28763544908, 49727.74917136272, 112046....</td>\n",
       "      <td>[1028.315733945143, 1912.8432030473264, 1810.9...</td>\n",
       "    </tr>\n",
       "    <tr>\n",
       "      <th>499</th>\n",
       "      <td>0.258065</td>\n",
       "      <td>[1. 2. 2. 0. 0. 1. 1. 1. 4. 3. 2. 3. 3. 2. 2. ...</td>\n",
       "      <td>[1, 3, 1, 3, 1, 2, 0, 0, 4, 3, 0, 4, 0, 0, 0, ...</td>\n",
       "      <td>125</td>\n",
       "      <td>[13.0, 27.0, 12.0, 51.0, 21.0, 40.0, 189.0, 53...</td>\n",
       "      <td>[3873.5279623033184, 25561.80053543264, 27262....</td>\n",
       "      <td>[312.74542596606574, 976.3921633252264, 2483.6...</td>\n",
       "    </tr>\n",
       "  </tbody>\n",
       "</table>\n",
       "<p>500 rows × 7 columns</p>\n",
       "</div>"
      ]
     },
     "metadata": {},
     "execution_count": 193
    }
   ],
   "metadata": {}
  },
  {
   "cell_type": "code",
   "execution_count": null,
   "source": [
    "testdf['dist_net'][499]"
   ],
   "outputs": [],
   "metadata": {}
  },
  {
   "cell_type": "code",
   "execution_count": null,
   "source": [
    "def process_dist_cols():\n",
    "    \n"
   ],
   "outputs": [],
   "metadata": {}
  },
  {
   "cell_type": "code",
   "execution_count": 200,
   "source": [
    "from sklearn.metrics import jaccard_score\n",
    "dist_tot_vals = []\n",
    "\n",
    "thing = testdf['dist_tot'][i][1:(len(testdf['dist_tot'][i])-1)]\n",
    "thing = thing.splitlines()\n",
    "thing = thing[0].split(', ')\n",
    "for val in thing:\n",
    "    #print((val))\n",
    "    if val != 'nan':\n",
    "        dist_tot_vals.append(float(val))\n",
    "    else:\n",
    "        dist_tot_vals.append(0.0)\n",
    "np.array(dist_tot_vals).mean()\n",
    "\n",
    "# jacc_vals = jaccard_score(testdf['True Labels'], testdf['Preds'], average=None)\n",
    "# jacc_vals"
   ],
   "outputs": [
    {
     "output_type": "execute_result",
     "data": {
      "text/plain": [
       "21161.5919863916"
      ]
     },
     "metadata": {},
     "execution_count": 200
    }
   ],
   "metadata": {}
  },
  {
   "cell_type": "code",
   "execution_count": 171,
   "source": [
    "def process_labels(df, col_name):\n",
    "        list_of_ints = []\n",
    "        for i in range(0,len(df)):\n",
    "                frames_string = df[col_name][i][1:(len(df[col_name][i])-1)]\n",
    "                frames_lines = frames_string.splitlines()\n",
    "                for line in frames_lines:\n",
    "                        if col_name == 'True Labels':\n",
    "                                line = line.split('. ')\n",
    "                        elif col_name == 'Preds':\n",
    "                                line = line.split(', ')\n",
    "                        for val in line:\n",
    "                                if len(val) == 1:\n",
    "                                        list_of_ints.append(int(val))\n",
    "                                elif val[0] == ' ':\n",
    "                                        val = val[1]\n",
    "                                        list_of_ints.append(int(val))\n",
    "                                else:\n",
    "                                        val = val[0]\n",
    "                                        list_of_ints.append(int(val))\n",
    "        return list_of_ints\n",
    "        \n",
    "        "
   ],
   "outputs": [],
   "metadata": {}
  },
  {
   "cell_type": "code",
   "execution_count": 175,
   "source": [
    "dist_tot = process_labels(testdf, 'dist_tot')"
   ],
   "outputs": [
    {
     "output_type": "error",
     "ename": "ValueError",
     "evalue": "invalid literal for int() with base 10: '.'",
     "traceback": [
      "\u001b[0;31m---------------------------------------------------------------------------\u001b[0m",
      "\u001b[0;31mValueError\u001b[0m                                Traceback (most recent call last)",
      "\u001b[0;32m<ipython-input-175-76c0d41a20fc>\u001b[0m in \u001b[0;36m<module>\u001b[0;34m\u001b[0m\n\u001b[0;32m----> 1\u001b[0;31m \u001b[0mdist_tot\u001b[0m \u001b[0;34m=\u001b[0m \u001b[0mprocess_labels\u001b[0m\u001b[0;34m(\u001b[0m\u001b[0mtestdf\u001b[0m\u001b[0;34m,\u001b[0m \u001b[0;34m'dist_tot'\u001b[0m\u001b[0;34m)\u001b[0m\u001b[0;34m\u001b[0m\u001b[0;34m\u001b[0m\u001b[0m\n\u001b[0m",
      "\u001b[0;32m<ipython-input-171-9f234175b52e>\u001b[0m in \u001b[0;36mprocess_labels\u001b[0;34m(df, col_name)\u001b[0m\n\u001b[1;32m     11\u001b[0m                         \u001b[0;32mfor\u001b[0m \u001b[0mval\u001b[0m \u001b[0;32min\u001b[0m \u001b[0mline\u001b[0m\u001b[0;34m:\u001b[0m\u001b[0;34m\u001b[0m\u001b[0;34m\u001b[0m\u001b[0m\n\u001b[1;32m     12\u001b[0m                                 \u001b[0;32mif\u001b[0m \u001b[0mlen\u001b[0m\u001b[0;34m(\u001b[0m\u001b[0mval\u001b[0m\u001b[0;34m)\u001b[0m \u001b[0;34m==\u001b[0m \u001b[0;36m1\u001b[0m\u001b[0;34m:\u001b[0m\u001b[0;34m\u001b[0m\u001b[0;34m\u001b[0m\u001b[0m\n\u001b[0;32m---> 13\u001b[0;31m                                         \u001b[0mlist_of_ints\u001b[0m\u001b[0;34m.\u001b[0m\u001b[0mappend\u001b[0m\u001b[0;34m(\u001b[0m\u001b[0mint\u001b[0m\u001b[0;34m(\u001b[0m\u001b[0mval\u001b[0m\u001b[0;34m)\u001b[0m\u001b[0;34m)\u001b[0m\u001b[0;34m\u001b[0m\u001b[0;34m\u001b[0m\u001b[0m\n\u001b[0m\u001b[1;32m     14\u001b[0m                                 \u001b[0;32melif\u001b[0m \u001b[0mval\u001b[0m\u001b[0;34m[\u001b[0m\u001b[0;36m0\u001b[0m\u001b[0;34m]\u001b[0m \u001b[0;34m==\u001b[0m \u001b[0;34m' '\u001b[0m\u001b[0;34m:\u001b[0m\u001b[0;34m\u001b[0m\u001b[0;34m\u001b[0m\u001b[0m\n\u001b[1;32m     15\u001b[0m                                         \u001b[0mval\u001b[0m \u001b[0;34m=\u001b[0m \u001b[0mval\u001b[0m\u001b[0;34m[\u001b[0m\u001b[0;36m1\u001b[0m\u001b[0;34m]\u001b[0m\u001b[0;34m\u001b[0m\u001b[0;34m\u001b[0m\u001b[0m\n",
      "\u001b[0;31mValueError\u001b[0m: invalid literal for int() with base 10: '.'"
     ]
    }
   ],
   "metadata": {}
  },
  {
   "cell_type": "code",
   "execution_count": 174,
   "source": [
    "true_labels = process_labels(testdf, 'True Labels')\n",
    "print(len(true_labels))\n",
    "preds = process_labels(testdf, 'Preds')\n",
    "print(len(preds))\n",
    "jaccard_score(true_labels, preds, average=None)"
   ],
   "outputs": [
    {
     "output_type": "stream",
     "name": "stdout",
     "text": [
      "80739\n",
      "80739\n"
     ]
    },
    {
     "output_type": "execute_result",
     "data": {
      "text/plain": [
       "array([0.28501685, 0.42401444, 0.23976453, 0.17678444, 0.65810447])"
      ]
     },
     "metadata": {},
     "execution_count": 174
    }
   ],
   "metadata": {}
  },
  {
   "cell_type": "code",
   "execution_count": null,
   "source": [
    "smaller_df = testdf.sample(250)\n",
    "\n",
    "plt.scatter(smaller_df['Trajectory Count'], smaller_df['Accuracies'], s=0.5)"
   ],
   "outputs": [],
   "metadata": {}
  },
  {
   "cell_type": "code",
   "execution_count": 26,
   "source": [
    "def extract_string_from_df(df, col_name):\n",
    "    mean_frames = []\n",
    "\n",
    "\n",
    "\n",
    "    subset_mean_frames_list = []\n",
    "\n",
    "    for i in range(0,len(testdf)):\n",
    "        frames_string = df[col_name][i][1:(len(df[col_name][i])-1)]\n",
    "        frames_list = frames_string.split(\",\")\n",
    "        list_of_floats = []\n",
    "        #print(i)\n",
    "\n",
    "        for val in frames_list:\n",
    "            list_of_floats.append(float(val))\n",
    "            #print(float(val))\n",
    "        frames_array = np.array(list_of_floats)\n",
    "        #print()\n",
    "        mean_of_frames = frames_array.mean()\n",
    "        \n",
    "        subset_mean_frames_list.append(mean_of_frames)\n",
    "            \n",
    "            \n",
    "            \n",
    "        subset_mean_frames_array = np.array(subset_mean_frames_list)\n",
    "        \n",
    "        mean_frames.append(subset_mean_frames_array.mean())\n",
    "    return mean_frames\n",
    "\n",
    "    "
   ],
   "outputs": [],
   "metadata": {}
  },
  {
   "cell_type": "code",
   "execution_count": 47,
   "source": [
    "dist_tot_vals = extract_string_from_df(testdf, 'Frames')"
   ],
   "outputs": [],
   "metadata": {}
  },
  {
   "cell_type": "code",
   "execution_count": 48,
   "source": [
    "plt.scatter(dist_tot_vals, testdf['Accuracies'])"
   ],
   "outputs": [
    {
     "output_type": "execute_result",
     "data": {
      "text/plain": [
       "<matplotlib.collections.PathCollection at 0x7fb21ea9d8d0>"
      ]
     },
     "metadata": {},
     "execution_count": 48
    },
    {
     "output_type": "display_data",
     "data": {
      "text/plain": [
       "<Figure size 432x288 with 1 Axes>"
      ],
      "image/png": "[encoded data removed]"
     },
     "metadata": {
      "needs_background": "light"
     }
    }
   ],
   "metadata": {}
  },
  {
   "cell_type": "code",
   "execution_count": null,
   "source": [
    "plt.scatter(dist_tot_vals, testdf['Accuracies'])"
   ],
   "outputs": [],
   "metadata": {}
  },
  {
   "cell_type": "markdown",
   "source": [
    "# Dataset 9: age, P14 and P70 - easiest two to predict"
   ],
   "metadata": {}
  },
  {
   "cell_type": "code",
   "execution_count": null,
   "source": [
    "age_P14_P70_path = workbookDir + '/data/age_P14_P70_traj_count_outputs/'\n",
    "age_P14_P70_filelist = ['age_500_model_one_file_data.csv',\n",
    "                    'age_500_model_two_file_data.csv',\n",
    "                    'age_500_model_three_file_data.csv',\n",
    "                    'age_500_model_four_file_data.csv',\n",
    "                    'age_500_model_five_file_data.csv',\n",
    "                    'age_500_model_six_file_data.csv',\n",
    "                    'age_500_model_seven_file_data.csv',\n",
    "                    'age_500_model_eight_file_data.csv',\n",
    "                    'age_500_model_nine_file_data.csv',\n",
    "                    'age_500_model_ten_file_data.csv',\n",
    "                    'age_500_model_eleven_file_data.csv',\n",
    "                    'age_500_model_twelve_file_data.csv',\n",
    "                    'age_500_model_thirteen_file_data.csv',\n",
    "                    'age_500_model_fourteen_file_data.csv',\n",
    "                    'age_500_model_fifteen_file_data.csv']"
   ],
   "outputs": [],
   "metadata": {}
  },
  {
   "cell_type": "code",
   "execution_count": null,
   "source": [
    "age_P14_P70_dc = process_multimodel_data(age_P14_P70_filelist, age_P14_P70_path)"
   ],
   "outputs": [],
   "metadata": {}
  },
  {
   "cell_type": "code",
   "execution_count": null,
   "source": [
    "fig, ax = plt.subplots()\n",
    "ax.errorbar(age_P14_P70_dc['mean_traj_count'], age_P14_P70_dc['mean_acc'], yerr=age_P14_P70_dc['stdev_acc'], fmt='-o')\n",
    "\n",
    "plt.ylim([0,1])\n",
    "plt.ylabel('Mean accuracy')\n",
    "plt.xlabel('Mean number of trajectories')\n",
    "plt.title('Mean accuracy across 500 models')"
   ],
   "outputs": [],
   "metadata": {}
  },
  {
   "cell_type": "code",
   "execution_count": null,
   "source": [
    "fig, ax = plt.subplots()\n",
    "plt.scatter(x=age_P14_P70_dc['mean_traj_count'], y=age_P14_P70_dc['mean_acc'], c='m', label='Mean')\n",
    "plt.scatter(age_P14_P70_dc['mean_traj_count'], age_P14_P70_dc['max_acc'], c='g', label='Max')\n",
    "plt.scatter(age_P14_P70_dc['mean_traj_count'], age_P14_P70_dc['min_acc'], c='b', label='Min')\n",
    "plt.ylim([0,1])\n",
    "plt.legend(loc=4)\n",
    "plt.xlabel('Mean number of trajectories')\n",
    "plt.ylabel('Mean Accuracy')\n",
    "plt.title('Mean, Max, and Min Accuracies')"
   ],
   "outputs": [],
   "metadata": {}
  },
  {
   "cell_type": "code",
   "execution_count": null,
   "source": [
    "age_P14_P70_dc['max_acc']"
   ],
   "outputs": [],
   "metadata": {}
  },
  {
   "cell_type": "code",
   "execution_count": null,
   "source": [
    "fig, ax = plt.subplots(figsize=(10,6))\n",
    "for i in range(len(age_P14_P70_dc['mean_acc'])):\n",
    "    plt.scatter(age_P14_P70_dc['stdev_acc'][i], age_P14_P70_dc['mean_acc'][i], label=age_P14_P70_dc['mean_traj_count'][i])\n",
    "plt.legend(loc='best', title='Mean trajectories')\n",
    "plt.ylim([0,1])\n",
    "plt.ylabel('Mean Accuracy')\n",
    "plt.xlabel('Standard Deviation')\n",
    "plt.title('Mean Accuracy vs Standard deviation for random file subsets')"
   ],
   "outputs": [],
   "metadata": {}
  },
  {
   "cell_type": "code",
   "execution_count": null,
   "source": [],
   "outputs": [],
   "metadata": {}
  }
 ],
 "metadata": {
  "interpreter": {
   "hash": "dca0ade3e726a953b501b15e8e990130d2b7799f14cfd9f4271676035ebe5511"
  },
  "kernelspec": {
   "name": "python3",
   "display_name": "Python 3.7.7 64-bit ('base': conda)"
  },
  "language_info": {
   "codemirror_mode": {
    "name": "ipython",
    "version": 3
   },
   "file_extension": ".py",
   "mimetype": "text/x-python",
   "name": "python",
   "nbconvert_exporter": "python",
   "pygments_lexer": "ipython3",
   "version": "3.7.7"
  },
  "orig_nbformat": 2
 },
 "nbformat": 4,
 "nbformat_minor": 2
}