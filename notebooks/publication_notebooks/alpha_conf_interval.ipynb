{
 "cells": [
  {
   "cell_type": "code",
   "execution_count": null,
   "metadata": {},
   "outputs": [],
   "source": [
    "import pandas as pd\n",
    "import matplotlib.pyplot as plt\n",
    "import numpy as np\n",
    "\n",
    "from os import listdir, getcwd, chdir\n",
    "from os.path import isfile, join\n",
    "\n",
    "from diff_classifier.features import alpha_calc, unmask_track\n",
    "from diff_predictor.utils import plot_msd_comparisons, plot_individual_msds, plot_particles_in_frame\n",
    "\n",
    "import scipy.stats as stats\n",
    "from scipy.optimize import curve_fit\n",
    "import numpy.ma as ma\n",
    "import lmfit"
   ]
  },
  {
   "cell_type": "code",
   "execution_count": null,
   "metadata": {},
   "outputs": [],
   "source": [
    "workbookDir = getcwd()\n",
    "\n",
    "print('Current Notebook Dir: ' + workbookDir)\n",
    "chdir(workbookDir) # Go to current workbook Dir\"\n",
    "chdir('..')        # Go up one\n",
    "print(f'Using current directory for loading data: {getcwd()}')\n",
    "workbookDir = getcwd()"
   ]
  },
  {
   "cell_type": "markdown",
   "metadata": {},
   "source": [
    "# Age Data"
   ]
  },
  {
   "cell_type": "code",
   "execution_count": null,
   "metadata": {},
   "outputs": [],
   "source": [
    "age_msd_path = workbookDir + '/raw_data_age/'\n",
    "age_feature_path = workbookDir + '/data/raw_data_age/'\n",
    "\n",
    "age_msd_filelist_70 = [f for f in listdir(age_msd_path) if isfile(join(age_msd_path, f)) and 'P70' in f]\n",
    "age_msd_filelist_14 = [f for f in listdir(age_msd_path) if isfile(join(age_msd_path, f)) and 'P14' in f]\n",
    "age_msd_filelist_35 = [f for f in listdir(age_msd_path) if isfile(join(age_msd_path, f)) and 'P35' in f]\n",
    "age_msd_filelist = age_msd_filelist_70 + age_msd_filelist_14 + age_msd_filelist_35\n",
    "\n",
    "age_feature_filelist_70 = [f for f in listdir(age_feature_path) if isfile(join(age_feature_path, f)) and 'features_P70' in f ]\n",
    "age_feature_filelist_14 = [f for f in listdir(age_feature_path) if isfile(join(age_feature_path, f)) and 'features_P14' in f ]\n",
    "age_feature_filelist_35 = [f for f in listdir(age_feature_path) if isfile(join(age_feature_path, f)) and 'features_P35' in f ]\n",
    "\n",
    "age_feature_filelist = age_feature_filelist_14 + age_feature_filelist_35 + age_feature_filelist_70\n",
    "\n",
    "print(len(age_msd_filelist))\n",
    "print(len(age_feature_filelist))"
   ]
  },
  {
   "cell_type": "code",
   "execution_count": null,
   "metadata": {},
   "outputs": [],
   "source": []
  },
  {
   "cell_type": "markdown",
   "metadata": {},
   "source": [
    "## Scipy curvefit"
   ]
  },
  {
   "cell_type": "code",
   "execution_count": null,
   "metadata": {},
   "outputs": [],
   "source": [
    "perr_alph = []\n",
    "mag_alph = []\n",
    "perr_dcoef = []\n",
    "mag_coef = []\n",
    "\n",
    "high_error_trajs = []\n",
    "\n",
    "for i in range(len(age_msd_filelist)):\n",
    "\n",
    "    \n",
    "    msd_df = pd.read_csv(age_msd_path + age_msd_filelist[i])\n",
    "    trackids = msd_df['Track_ID'].unique()\n",
    "    partcount = trackids.shape[0]\n",
    "    for particle in range(0, partcount):\n",
    "\n",
    "        single_track_masked = msd_df.loc[msd_df['Track_ID'] == trackids[particle]].sort_values(['Track_ID', 'Frame'], ascending=[1,1]).reset_index(drop=True)\n",
    "        single_track = unmask_track(single_track_masked)\n",
    "        xpos = single_track['MSDs']\n",
    "        ypos = single_track['Frame']\n",
    "\n",
    "        def msd_alpha(xpos, alph, dcoef):\n",
    "                return 4*dcoef*(xpos**alph)\n",
    "\n",
    "        try:\n",
    "            popt, pcov = curve_fit(msd_alpha, xpos, ypos)\n",
    "            alph = popt[0]\n",
    "            dcoef = popt[1]\n",
    "            perr = np.sqrt(np.diag(pcov))\n",
    "            perr_alph.append(perr[0])\n",
    "            perr_dcoef.append(perr[1])\n",
    "            mag_alph.append(alph)\n",
    "            mag_coef.append(dcoef)\n",
    "\n",
    "            if perr[0] >= 10:\n",
    "                high_error_trajs.append((age_msd_filelist[i], alph, dcoef, perr[0]))\n",
    "        except RuntimeError:\n",
    "            print('Optimal parameters not found. Print NaN instead.')\n",
    "            alph = np.nan\n",
    "            dcoef = np.nan\n",
    "        "
   ]
  },
  {
   "cell_type": "code",
   "execution_count": null,
   "metadata": {},
   "outputs": [],
   "source": [
    "high_error_trajs"
   ]
  },
  {
   "cell_type": "markdown",
   "metadata": {},
   "source": [
    "## LMFIT"
   ]
  },
  {
   "cell_type": "code",
   "execution_count": null,
   "metadata": {},
   "outputs": [],
   "source": [
    "perr_alph = []\n",
    "perr_dcoef = []\n",
    "\n",
    "for i in range(len(age_msd_filelist)):\n",
    "\n",
    "    \n",
    "    msd_df = pd.read_csv(age_msd_path + age_msd_filelist[i])\n",
    "    trackids = msd_df['Track_ID'].unique()\n",
    "    partcount = trackids.shape[0]\n",
    "    for particle in range(0, partcount):\n",
    "\n",
    "        single_track_masked = msd_df.loc[msd_df['Track_ID'] == trackids[particle]].sort_values(['Track_ID', 'Frame'], ascending=[1,1]).reset_index(drop=True)\n",
    "        single_track = unmask_track(single_track_masked)\n",
    "        xpos = single_track['MSDs']\n",
    "        ypos = single_track['Frame']\n",
    "\n",
    "        def msd_alpha(xpos, alph, dcoef):\n",
    "                return 4*dcoef*(xpos**alph) #math.pow\n",
    "\n",
    "        msd_model = lmfit.Model(msd_alpha)\n",
    "        msd_model.set_param_hint('alph', value=1.0, min=0.00001, max=13)\n",
    "        #msd_model.set_param_hint('dcoef', value=1.0, min=0, max=10)\n",
    "        #params = msd_model.make_params(alph=1, dcoef=1)\n",
    "        \n",
    "\n",
    "        try:\n",
    "            model_result = msd_model.fit(ypos, xpos=xpos, alph=1, dcoef=1)\n",
    "            print(model_result.model_pars)\n",
    "            \n",
    "        except RuntimeError:\n",
    "        #except ValueError:\n",
    "            print('Optimal parameters not found. Print NaN instead.')\n",
    "            alph = np.nan\n",
    "            dcoef = np.nan"
   ]
  },
  {
   "cell_type": "code",
   "execution_count": null,
   "metadata": {},
   "outputs": [],
   "source": [
    "perr_alph_arr = np.array(perr_alph)\n",
    "perr_alph_arr = perr_alph_arr[perr_alph_arr != np.inf]\n",
    "plt.hist((perr_alph_arr), bins=5000)\n",
    "plt.xlabel('One Standard Deviation Error of Alpha')\n",
    "plt.ylabel('Count')\n",
    "plt.title('Distribution of error for alpha curve fitting')"
   ]
  },
  {
   "cell_type": "code",
   "execution_count": null,
   "metadata": {},
   "outputs": [],
   "source": [
    "big_err = perr_alph_arr[perr_alph_arr >=2]\n",
    "big_err"
   ]
  },
  {
   "cell_type": "code",
   "execution_count": null,
   "metadata": {},
   "outputs": [],
   "source": [
    "plt.scatter(mag_alph, perr_alph, alpha=0.5)\n",
    "plt.xlabel('Magnitude of Alpha value')\n",
    "plt.ylabel('One standard deviation error')\n",
    "plt.title('Magnitude of Alpha versus Error, Age Dataset')"
   ]
  },
  {
   "cell_type": "code",
   "execution_count": null,
   "metadata": {},
   "outputs": [],
   "source": [
    "perr_dcoef_arr = np.array(perr_dcoef)\n",
    "perr_dcoef_arr = perr_dcoef_arr[perr_dcoef_arr != np.inf]\n",
    "plt.hist(perr_dcoef_arr)"
   ]
  },
  {
   "cell_type": "code",
   "execution_count": null,
   "metadata": {},
   "outputs": [],
   "source": [
    "popt"
   ]
  },
  {
   "cell_type": "code",
   "execution_count": null,
   "metadata": {},
   "outputs": [],
   "source": [
    "alpha, coef = alpha_calc(single_track)"
   ]
  },
  {
   "cell_type": "markdown",
   "metadata": {},
   "source": [
    "# Region Data"
   ]
  },
  {
   "cell_type": "code",
   "execution_count": null,
   "metadata": {},
   "outputs": [],
   "source": [
    "region_dataset_path = workbookDir + '/data/region_feature_folder/'\n",
    "region_filelist = [f for f in listdir(region_dataset_path) if isfile(join(region_dataset_path, f)) and 'feat' in f]\n",
    "\n",
    "region_msd_path = workbookDir + '/data/raw_data_region/'\n",
    "region_msd_filelist = [f for f in listdir(region_msd_path) if isfile(join(region_msd_path, f)) and 'msd' in f]\n",
    "print(len(region_filelist))\n",
    "print(len(region_msd_filelist))"
   ]
  },
  {
   "cell_type": "code",
   "execution_count": null,
   "metadata": {},
   "outputs": [],
   "source": [
    "perr_alph = []\n",
    "mag_alph = []\n",
    "perr_dcoef = []\n",
    "mag_dcoef = []\n",
    "\n",
    "reg_high_error_trajs = []\n",
    "\n",
    "for i in range(len(region_msd_filelist)):\n",
    "\n",
    "    \n",
    "    msd_df = pd.read_csv(region_msd_path + region_msd_filelist[i])\n",
    "    trackids = msd_df['Track_ID'].unique()\n",
    "    partcount = trackids.shape[0]\n",
    "    for particle in range(0, partcount):\n",
    "\n",
    "        single_track_masked = msd_df.loc[msd_df['Track_ID'] == trackids[particle]].sort_values(['Track_ID', 'Frame'], ascending=[1,1]).reset_index(drop=True)\n",
    "        single_track = unmask_track(single_track_masked)\n",
    "        xpos = single_track['MSDs']\n",
    "        ypos = single_track['Frame']\n",
    "\n",
    "        def msd_alpha(xpos, alph, dcoef):\n",
    "                return 4*dcoef*(xpos**alph)\n",
    "\n",
    "        try:\n",
    "            popt, pcov = curve_fit(msd_alpha, xpos, ypos)\n",
    "            alph = popt[0]\n",
    "            dcoef = popt[1]\n",
    "            perr = np.sqrt(np.diag(pcov))\n",
    "            perr_alph.append(perr[0])\n",
    "            perr_dcoef.append(perr[1])\n",
    "            mag_alph.append(alph)\n",
    "            mag_dcoef.append(dcoef)\n",
    "            if perr[0] >= 10:\n",
    "                high_error_trajs.append((age_msd_filelist[i], alph, dcoef, perr[0]))\n",
    "            \n",
    "        except RuntimeError:\n",
    "            print('Optimal parameters not found. Print NaN instead.')\n",
    "            alph = np.nan\n",
    "            dcoef = np.nan\n",
    "        "
   ]
  },
  {
   "cell_type": "code",
   "execution_count": null,
   "metadata": {},
   "outputs": [],
   "source": [
    "reg_high_error_trajs"
   ]
  },
  {
   "cell_type": "code",
   "execution_count": null,
   "metadata": {},
   "outputs": [],
   "source": [
    "np.array(mag_alph).min()"
   ]
  },
  {
   "cell_type": "code",
   "execution_count": null,
   "metadata": {},
   "outputs": [],
   "source": [
    "plt.scatter((np.array(mag_alph)), (np.array(perr_alph)), alpha=0.5)\n",
    "plt.xlabel('Magnitude of Alpha value')\n",
    "plt.ylabel('One standard deviation error')\n",
    "plt.title('Magnitude of Alpha versus Error, Region Dataset')"
   ]
  },
  {
   "cell_type": "code",
   "execution_count": null,
   "metadata": {},
   "outputs": [],
   "source": [
    "perr_alph_arr = np.array(perr_alph)\n",
    "perr_alph_arr = perr_alph_arr[perr_alph_arr != np.inf]\n",
    "plt.hist((perr_alph_arr), bins=5000)"
   ]
  },
  {
   "cell_type": "code",
   "execution_count": null,
   "metadata": {},
   "outputs": [],
   "source": [
    "big_err = perr_alph_arr[perr_alph_arr >=5]\n",
    "len(big_err)"
   ]
  },
  {
   "cell_type": "markdown",
   "metadata": {},
   "source": [
    "# Treatment"
   ]
  },
  {
   "cell_type": "code",
   "execution_count": null,
   "metadata": {},
   "outputs": [],
   "source": [
    "treatment_msd_path = workbookDir + '/raw_data_pnn/'\n",
    "treatment_feature_path = workbookDir + '/data/ecm_feature_folder/'\n",
    "\n",
    "treatment_msd_filelist_70 = [f for f in listdir(treatment_msd_path) if isfile(join(treatment_msd_path, f)) and 'NT' in f]\n",
    "treatment_msd_filelist_14 = [f for f in listdir(treatment_msd_path) if isfile(join(treatment_msd_path, f)) and 'ChABC' in f]\n",
    "treatment_msd_filelist = treatment_msd_filelist_70 + treatment_msd_filelist_14\n",
    "\n",
    "treatment_feature_filelist_70 = [f for f in listdir(treatment_feature_path) if isfile(join(treatment_feature_path, f)) and 'NT' in f ]\n",
    "treatment_feature_filelist_35 = [f for f in listdir(treatment_feature_path) if isfile(join(treatment_feature_path, f)) and 'ChABC' in f ]\n",
    "\n",
    "treatment_feature_filelist =  treatment_feature_filelist_70 + treatment_feature_filelist_35\n",
    "\n",
    "print(len(treatment_msd_filelist))\n",
    "print(len(treatment_feature_filelist))"
   ]
  },
  {
   "cell_type": "code",
   "execution_count": null,
   "metadata": {},
   "outputs": [],
   "source": [
    "perr_alph = []\n",
    "mag_alph = []\n",
    "perr_dcoef = []\n",
    "mag_dcoef = []\n",
    "\n",
    "for i in range(len(treatment_msd_filelist)):\n",
    "\n",
    "    \n",
    "    msd_df = pd.read_csv(treatment_msd_path + treatment_msd_filelist[i])\n",
    "    trackids = msd_df['Track_ID'].unique()\n",
    "    partcount = trackids.shape[0]\n",
    "    for particle in range(0, partcount):\n",
    "\n",
    "        single_track_masked = msd_df.loc[msd_df['Track_ID'] == trackids[particle]].sort_values(['Track_ID', 'Frame'], ascending=[1,1]).reset_index(drop=True)\n",
    "        single_track = unmask_track(single_track_masked)\n",
    "        xpos = single_track['MSDs']\n",
    "        ypos = single_track['Frame']\n",
    "\n",
    "        def msd_alpha(xpos, alph, dcoef):\n",
    "                return 4*dcoef*(xpos**alph)\n",
    "\n",
    "        try:\n",
    "            popt, pcov = curve_fit(msd_alpha, xpos, ypos)\n",
    "            alph = popt[0]\n",
    "            dcoef = popt[1]\n",
    "            perr = np.sqrt(np.diag(pcov))\n",
    "            perr_alph.append(perr[0])\n",
    "            perr_dcoef.append(perr[1])\n",
    "            mag_alph.append(alph)\n",
    "            mag_dcoef.append(dcoef)\n",
    "        except RuntimeError:\n",
    "            print('Optimal parameters not found. Print NaN instead.')\n",
    "            alph = np.nan\n",
    "            dcoef = np.nan\n",
    "        "
   ]
  },
  {
   "cell_type": "code",
   "execution_count": null,
   "metadata": {},
   "outputs": [],
   "source": [
    "plt.scatter((np.array(mag_alph)), (np.array(perr_alph)), alpha=0.5)\n",
    "plt.xlabel('Magnitude of Alpha value')\n",
    "plt.ylabel('One standard deviation error')\n",
    "plt.title('Magnitude of Alpha versus Error, Treatment Dataset')"
   ]
  }
 ],
 "metadata": {
  "interpreter": {
   "hash": "40d3a090f54c6569ab1632332b64b2c03c39dcf918b08424e98f38b5ae0af88f"
  },
  "kernelspec": {
   "display_name": "Python 3.7.7 64-bit ('base': conda)",
   "name": "python3"
  },
  "language_info": {
   "codemirror_mode": {
    "name": "ipython",
    "version": 3
   },
   "file_extension": ".py",
   "mimetype": "text/x-python",
   "name": "python",
   "nbconvert_exporter": "python",
   "pygments_lexer": "ipython3",
   "version": "3.7.7"
  }
 },
 "nbformat": 4,
 "nbformat_minor": 2
}
