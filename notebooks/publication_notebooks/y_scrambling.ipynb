{
 "cells": [
  {
   "cell_type": "code",
   "execution_count": 20,
   "metadata": {},
   "outputs": [],
   "source": [
    "from diff_predictor import data_process, predxgboost, spatial\n",
    "import pandas as pd\n",
    "import numpy as np\n",
    "import seaborn as sns \n",
    "import matplotlib.pyplot as plt \n",
    "\n",
    "from os import listdir, getcwd, chdir\n",
    "from os.path import isfile, join\n",
    "import os\n",
    "from sklearn.preprocessing import scale, StandardScaler\n",
    "from robust_pca import r_pca\n",
    "\n",
    "\n",
    "from sklearn.model_selection import train_test_split\n",
    "from sklearn import metrics\n",
    "from sklearn.metrics import classification_report, confusion_matrix\n",
    "from sklearn.metrics import accuracy_score, precision_recall_fscore_support, recall_score, precision_score, f1_score\n",
    "\n",
    "from sklearn import preprocessing\n",
    "from sklearn.metrics import accuracy_score\n",
    "import operator\n",
    "import xgboost as xgb\n",
    "import shap\n",
    "from xgboost.training import CVPack\n",
    "from xgboost import callback\n",
    "from xgboost.core import CallbackEnv\n",
    "from xgboost.core import EarlyStopException\n",
    "from xgboost.core import STRING_TYPES\n",
    "\n",
    "from diff_classifier.features import alpha_calc, unmask_track\n",
    "from diff_predictor.utils import plot_msd_comparisons, plot_individual_msds, plot_particles_in_frame\n",
    "\n",
    "import scipy.stats as stats\n",
    "from scipy.optimize import curve_fit\n",
    "import numpy.ma as ma"
   ]
  },
  {
   "cell_type": "code",
   "execution_count": 2,
   "metadata": {},
   "outputs": [
    {
     "name": "stdout",
     "output_type": "stream",
     "text": [
      "Current Notebook Dir: /Users/nelsschimek/Documents/Nance Lab/diff_predictor/notebooks\n",
      "Using current directory for loading data: /Users/nelsschimek/Documents/Nance Lab/diff_predictor\n"
     ]
    }
   ],
   "source": [
    "workbookDir = getcwd()\n",
    "\n",
    "print('Current Notebook Dir: ' + workbookDir)\n",
    "chdir(workbookDir) # Go to current workbook Dir\"\n",
    "chdir('..')        # Go up one\n",
    "print(f'Using current directory for loading data: {getcwd()}')\n",
    "workbookDir = getcwd()"
   ]
  },
  {
   "cell_type": "code",
   "execution_count": 3,
   "metadata": {},
   "outputs": [
    {
     "name": "stdout",
     "output_type": "stream",
     "text": [
      "75\n",
      "74\n",
      "38\n",
      "180\n"
     ]
    }
   ],
   "source": [
    "#load paths to data\n",
    "\n",
    "age_feature_path = workbookDir + '/data/raw_data_age/'\n",
    "age_feature_filelist = [f for f in listdir(age_feature_path) if isfile(join(age_feature_path, f)) and 'feat' in f]\n",
    "print(len(age_feature_filelist))\n",
    "\n",
    "age_msd_path = workbookDir + '/raw_data_age/'\n",
    "age_msd_filelist = [f for f in listdir(age_msd_path) if isfile(join(age_msd_path, f)) and 'msd' in f]\n",
    "print(len(age_msd_filelist))\n",
    "\n",
    "region_dataset_path = workbookDir + '/data/region_feature_folder/'\n",
    "region_filelist = [f for f in listdir(region_dataset_path) if isfile(join(region_dataset_path, f)) and 'feat' in f]\n",
    "print(len(region_filelist))\n",
    "\n",
    "treatment_dataset_path = workbookDir + '/data/ecm_feature_folder/'\n",
    "treatment_filelist = [f for f in listdir(treatment_dataset_path) if isfile(join(treatment_dataset_path, f)) and 'msd' in f]\n",
    "print(len(treatment_filelist))"
   ]
  },
  {
   "cell_type": "code",
   "execution_count": 4,
   "metadata": {},
   "outputs": [
    {
     "name": "stdout",
     "output_type": "stream",
     "text": [
      "Adding file features_P70_40nm_s3_v3.csv size: (2322, 67)\n",
      "Adding file features_P14_40nm_s3_v3.csv size: (323, 91)\n",
      "Adding file features_P35_brain_2_slice_1_vid_4.csv size: (878, 91)\n",
      "Adding file features_P35_brain_2_slice_1_vid_5.csv size: (467, 91)\n",
      "Adding file features_P14_40nm_s3_v2.csv size: (243, 91)\n",
      "Adding file features_P70_40nm_s3_v2.csv size: (1401, 67)\n",
      "Adding file features_P14_40nm_s1_v5.csv size: (268, 91)\n",
      "Adding file features_P70_40nm_s1_v5.csv size: (17, 67)\n",
      "Adding file features_P14_40nm_s3_v1.csv size: (151, 91)\n",
      "Adding file features_P70_40nm_s1_v4.csv size: (21, 67)\n",
      "Adding file features_P70_40nm_s3_v1.csv size: (2625, 67)\n",
      "Adding file features_P14_40nm_s1_v4.csv size: (140, 91)\n",
      "Adding file features_P70_40nm_s3_v5.csv size: (4162, 67)\n",
      "Adding file features_P35_brain_2_slice_1_vid_2.csv size: (833, 91)\n",
      "Adding file features_P14_40nm_s3_v5.csv size: (389, 91)\n",
      "Adding file features_P14_40nm_s3_v4.csv size: (113, 91)\n",
      "Adding file features_P35_brain_2_slice_1_vid_3.csv size: (1017, 91)\n",
      "Adding file features_P70_40nm_s1_v1.csv size: (27, 67)\n",
      "Adding file features_P70_40nm_s3_v4.csv size: (2909, 67)\n",
      "Adding file features_P14_40nm_s1_v1.csv size: (793, 91)\n",
      "Adding file features_P14_40nm_s1_v3.csv size: (519, 91)\n",
      "Adding file features_P70_40nm_s1_v3.csv size: (25, 67)\n",
      "Adding file features_P35_brain_2_slice_1_vid_1.csv size: (416, 91)\n",
      "Adding file features_P70_40nm_s1_v2.csv size: (12, 67)\n",
      "Adding file features_P14_40nm_s1_v2.csv size: (1356, 91)\n",
      "Adding file features_P35_brain_2_slice_3_vid_5.csv size: (1062, 91)\n",
      "Adding file features_P14_40nm_s2_v1.csv size: (568, 91)\n",
      "Adding file features_P70_40nm_s2_v1.csv size: (148, 67)\n",
      "Adding file features_P35_brain_2_slice_3_vid_4.csv size: (598, 91)\n",
      "Adding file features_P14_40nm_s2_v2.csv size: (938, 91)\n",
      "Adding file features_P70_40nm_s2_v2.csv size: (148, 67)\n",
      "Adding file features_P70_40nm_s2_v3.csv size: (240, 67)\n",
      "Adding file features_P14_40nm_s2_v3.csv size: (220, 91)\n",
      "Adding file features_P35_brain_2_slice_3_vid_3.csv size: (817, 91)\n",
      "Adding file features_P35_brain_2_slice_3_vid_2.csv size: (853, 91)\n",
      "Adding file features_P14_40nm_s2_v4.csv size: (162, 91)\n",
      "Adding file features_P70_40nm_s2_v4.csv size: (308, 67)\n",
      "Adding file features_P70_40nm_s2_v5.csv size: (186, 67)\n",
      "Adding file features_P14_40nm_s2_v5.csv size: (258, 91)\n",
      "Adding file features_P35_brain_2_slice_3_vid_1.csv size: (562, 91)\n",
      "Adding file features_P35_brain_2_slice_2_vid_5.csv size: (2100, 91)\n",
      "Adding file features_P35_brain_2_slice_2_vid_4.csv size: (1650, 91)\n",
      "Adding file features_P35_brain_2_slice_2_vid_3.csv size: (1735, 91)\n",
      "Adding file features_P35_brain_2_slice_2_vid_2.csv size: (2322, 91)\n",
      "Adding file features_P35_brain_2_slice_2_vid_1.csv size: (2488, 91)\n"
     ]
    }
   ],
   "source": [
    "fstats_tot_age = data_process.generate_fullstats(age_feature_path, age_feature_filelist, ['P14','P35', 'P70'], 'age')"
   ]
  },
  {
   "cell_type": "code",
   "execution_count": 5,
   "metadata": {},
   "outputs": [],
   "source": [
    "feature_list = [\n",
    "    'alpha', # Fitted anomalous diffusion alpha exponenet\n",
    "    'D_fit', # Fitted anomalous diffusion coefficient\n",
    "    'kurtosis', # Kurtosis of track\n",
    "    'asymmetry1', # Asymmetry of trajecory (0 for circular symmetric, 1 for linear)\n",
    "    'asymmetry2', # Ratio of the smaller to larger principal radius of gyration\n",
    "    'asymmetry3', # An asymmetric feature that accnts for non-cylindrically symmetric pt distributions\n",
    "    'AR', # Aspect ratio of long and short side of trajectory's minimum bounding rectangle\n",
    "    'elongation', # Est. of amount of extension of trajectory from centroid\n",
    "    'boundedness', # How much a particle with Deff is restricted by a circular confinement of radius r\n",
    "    'fractal_dim', # Measure of how complicated a self similar figure is\n",
    "    'trappedness', # Probability that a particle with Deff is trapped in a region\n",
    "    'efficiency', # Ratio of squared net displacement to the sum of squared step lengths\n",
    "    'straightness', # Ratio of net displacement to the sum of squared step lengths\n",
    "    'MSD_ratio', # MSD ratio of the track\n",
    "#     'frames', # Number of frames the track spans\n",
    "    'Deff1', # Effective diffusion coefficient at 0.33 s\n",
    "    'Deff2', # Effective diffusion coefficient at 3.3 s\n",
    "    #'angle_mean', # Mean turning angle which is counterclockwise angle from one frame point to another\n",
    "    #'angle_mag_mean', # Magnitude of the turning angle mean\n",
    "    #'angle_var', # Variance of the turning angle\n",
    "    #'dist_tot', # Total distance of the trajectory\n",
    "    #'dist_net', # Net distance from first point to last point\n",
    "    #'progression', # Ratio of the net distance traveled and the total distance\n",
    "    'Mean alpha', \n",
    "    'Mean D_fit', \n",
    "    'Mean kurtosis', \n",
    "    'Mean asymmetry1', \n",
    "    'Mean asymmetry2',\n",
    "    'Mean asymmetry3', \n",
    "    'Mean AR',\n",
    "    'Mean elongation', \n",
    "    'Mean boundedness',\n",
    "    'Mean fractal_dim', \n",
    "    'Mean trappedness', \n",
    "    'Mean efficiency',\n",
    "    'Mean straightness', \n",
    "    'Mean MSD_ratio', \n",
    "    'Mean Deff1', \n",
    "    'Mean Deff2',\n",
    "    ]\n",
    "\n",
    "target = 'age'"
   ]
  },
  {
   "cell_type": "code",
   "execution_count": 7,
   "metadata": {},
   "outputs": [
    {
     "name": "stdout",
     "output_type": "stream",
     "text": [
      "(38790, 36)\n"
     ]
    },
    {
     "data": {
      "text/plain": [
       "(33737, 36)"
      ]
     },
     "execution_count": 7,
     "metadata": {},
     "output_type": "execute_result"
    }
   ],
   "source": [
    "ecm = fstats_tot_age[feature_list + [target, 'Track_ID', 'X', 'Y']] #dont think i need these rn\n",
    "print(ecm.shape)\n",
    "ecm = ecm[~ecm[list(set(feature_list) - set(['Deff2', 'Mean Deff2']))].isin([np.nan, np.inf, -np.inf]).any(1)]       # Removing nan and inf data points\n",
    "ecm.shape"
   ]
  },
  {
   "cell_type": "code",
   "execution_count": 17,
   "metadata": {},
   "outputs": [],
   "source": [
    "def full_preprocess(ecm, balanced=True, target=None):\n",
    "\n",
    "    rand_state = np.random.randint(1, 2000)\n",
    "    if balanced:\n",
    "        bal_ecm = data_process.balance_data(ecm, target, random_state=rand_state)\n",
    "        bal_ecm = bal_ecm.reset_index(drop=True)\n",
    "        #sampled_df = bal_ecm.sample(frac=0.5)\n",
    "        sampled_df = data_process.bin_data(bal_ecm)\n",
    "    else:\n",
    "        sampled_df = data_process.bin_data(ecm)\n",
    "\n",
    "    label_df = bal_ecm[target].copy()\n",
    "    features_df = bal_ecm.drop([target, 'Track_ID', 'X', 'Y', 'binx', 'biny', 'bins'], axis=1)\n",
    "    features = features_df.columns\n",
    "\n",
    "    # label_df = sampled_df[target]\n",
    "    # features_df = sampled_df.drop([target, 'X', 'Y', 'binx', 'biny', 'bins', 'Track_ID'], axis=1)\n",
    "    # features = features_df.columns\n",
    "\n",
    "    from numpy.random import permutation\n",
    "    perm = permutation(len(label_df))\n",
    "    label_shuffled = label_df[perm]\n",
    "\n",
    "    seed = rand_state\n",
    "    np.random.seed(seed)\n",
    "    train_split = 0.8\n",
    "    test_split = 0.5\n",
    "\n",
    "    le = preprocessing.LabelEncoder()\n",
    "    sampled_df['encoded_target'] = le.fit_transform(label_shuffled)\n",
    "\n",
    "\n",
    "    training_bins = np.random.choice(sampled_df['bins'].unique(), int(len(sampled_df['bins'].unique())*train_split), replace=False)\n",
    "\n",
    "    X_train = sampled_df[sampled_df['bins'].isin(training_bins)]\n",
    "    X_test_val = sampled_df[~sampled_df['bins'].isin(training_bins)]\n",
    "    X_val, X_test = train_test_split(X_test_val, test_size=test_split, random_state=seed)\n",
    "\n",
    "    y_train = X_train['encoded_target']\n",
    "    y_test = X_test['encoded_target']\n",
    "    y_val = X_val['encoded_target']\n",
    "\n",
    "    dtrain = xgb.DMatrix(X_train[features], label=y_train)\n",
    "    dtest = xgb.DMatrix(X_test[features], label=y_test)\n",
    "    dval = xgb.DMatrix(X_val[features], label=y_val)\n",
    "    return dtrain, dtest, dval, X_train, X_test, y_train, y_test, le\n",
    "\n"
   ]
  },
  {
   "cell_type": "code",
   "execution_count": 21,
   "metadata": {},
   "outputs": [
    {
     "name": "stdout",
     "output_type": "stream",
     "text": [
      "0\n",
      "Ratio before data balance (P70:P14:P35) = 13968:4900:14869\n",
      "Ratio after balance (P70:P14:P35) = 4900:4900:4900\n",
      "Accuracy: 0.33083730428863173\n",
      "1\n",
      "Ratio before data balance (P70:P14:P35) = 13968:4900:14869\n",
      "Ratio after balance (P70:P14:P35) = 4900:4900:4900\n",
      "Accuracy: 0.3423728813559322\n",
      "2\n",
      "Ratio before data balance (P70:P14:P35) = 13968:4900:14869\n",
      "Ratio after balance (P70:P14:P35) = 4900:4900:4900\n",
      "Accuracy: 0.33114754098360655\n",
      "3\n",
      "Ratio before data balance (P70:P14:P35) = 13968:4900:14869\n",
      "Ratio after balance (P70:P14:P35) = 4900:4900:4900\n",
      "Accuracy: 0.3540701522170748\n",
      "4\n",
      "Ratio before data balance (P70:P14:P35) = 13968:4900:14869\n",
      "Ratio after balance (P70:P14:P35) = 4900:4900:4900\n",
      "Accuracy: 0.3395860284605433\n",
      "5\n",
      "Ratio before data balance (P70:P14:P35) = 13968:4900:14869\n",
      "Ratio after balance (P70:P14:P35) = 4900:4900:4900\n",
      "Accuracy: 0.35094585779517284\n",
      "6\n",
      "Ratio before data balance (P70:P14:P35) = 13968:4900:14869\n",
      "Ratio after balance (P70:P14:P35) = 4900:4900:4900\n",
      "Accuracy: 0.32886805090421967\n",
      "7\n",
      "Ratio before data balance (P70:P14:P35) = 13968:4900:14869\n",
      "Ratio after balance (P70:P14:P35) = 4900:4900:4900\n",
      "Accuracy: 0.3359209597741708\n",
      "8\n",
      "Ratio before data balance (P70:P14:P35) = 13968:4900:14869\n",
      "Ratio after balance (P70:P14:P35) = 4900:4900:4900\n",
      "Accuracy: 0.33403068340306835\n",
      "9\n",
      "Ratio before data balance (P70:P14:P35) = 13968:4900:14869\n",
      "Ratio after balance (P70:P14:P35) = 4900:4900:4900\n",
      "Accuracy: 0.32949152542372884\n",
      "10\n",
      "Ratio before data balance (P70:P14:P35) = 13968:4900:14869\n",
      "Ratio after balance (P70:P14:P35) = 4900:4900:4900\n",
      "Accuracy: 0.32349165596919127\n",
      "11\n",
      "Ratio before data balance (P70:P14:P35) = 13968:4900:14869\n",
      "Ratio after balance (P70:P14:P35) = 4900:4900:4900\n",
      "Accuracy: 0.35095137420718814\n",
      "12\n",
      "Ratio before data balance (P70:P14:P35) = 13968:4900:14869\n",
      "Ratio after balance (P70:P14:P35) = 4900:4900:4900\n",
      "Accuracy: 0.32655576093653726\n",
      "13\n",
      "Ratio before data balance (P70:P14:P35) = 13968:4900:14869\n",
      "Ratio after balance (P70:P14:P35) = 4900:4900:4900\n",
      "Accuracy: 0.33111259160559625\n",
      "14\n",
      "Ratio before data balance (P70:P14:P35) = 13968:4900:14869\n",
      "Ratio after balance (P70:P14:P35) = 4900:4900:4900\n",
      "Accuracy: 0.32\n",
      "15\n",
      "Ratio before data balance (P70:P14:P35) = 13968:4900:14869\n",
      "Ratio after balance (P70:P14:P35) = 4900:4900:4900\n",
      "Accuracy: 0.32064128256513025\n",
      "16\n",
      "Ratio before data balance (P70:P14:P35) = 13968:4900:14869\n",
      "Ratio after balance (P70:P14:P35) = 4900:4900:4900\n",
      "Accuracy: 0.32786885245901637\n",
      "17\n",
      "Ratio before data balance (P70:P14:P35) = 13968:4900:14869\n",
      "Ratio after balance (P70:P14:P35) = 4900:4900:4900\n",
      "Accuracy: 0.3362193362193362\n",
      "18\n",
      "Ratio before data balance (P70:P14:P35) = 13968:4900:14869\n",
      "Ratio after balance (P70:P14:P35) = 4900:4900:4900\n",
      "Accuracy: 0.37658017298735863\n",
      "19\n",
      "Ratio before data balance (P70:P14:P35) = 13968:4900:14869\n",
      "Ratio after balance (P70:P14:P35) = 4900:4900:4900\n",
      "Accuracy: 0.34236615994712494\n",
      "20\n",
      "Ratio before data balance (P70:P14:P35) = 13968:4900:14869\n",
      "Ratio after balance (P70:P14:P35) = 4900:4900:4900\n",
      "Accuracy: 0.3309659090909091\n",
      "21\n",
      "Ratio before data balance (P70:P14:P35) = 13968:4900:14869\n",
      "Ratio after balance (P70:P14:P35) = 4900:4900:4900\n",
      "Accuracy: 0.3385772913816689\n",
      "22\n",
      "Ratio before data balance (P70:P14:P35) = 13968:4900:14869\n",
      "Ratio after balance (P70:P14:P35) = 4900:4900:4900\n",
      "Accuracy: 0.32434254888739045\n",
      "23\n",
      "Ratio before data balance (P70:P14:P35) = 13968:4900:14869\n",
      "Ratio after balance (P70:P14:P35) = 4900:4900:4900\n",
      "Accuracy: 0.3239344262295082\n",
      "24\n",
      "Ratio before data balance (P70:P14:P35) = 13968:4900:14869\n",
      "Ratio after balance (P70:P14:P35) = 4900:4900:4900\n",
      "Accuracy: 0.31752305665349145\n",
      "25\n",
      "Ratio before data balance (P70:P14:P35) = 13968:4900:14869\n",
      "Ratio after balance (P70:P14:P35) = 4900:4900:4900\n",
      "Accuracy: 0.3261021693491952\n",
      "26\n",
      "Ratio before data balance (P70:P14:P35) = 13968:4900:14869\n",
      "Ratio after balance (P70:P14:P35) = 4900:4900:4900\n",
      "Accuracy: 0.3141683778234086\n",
      "27\n",
      "Ratio before data balance (P70:P14:P35) = 13968:4900:14869\n",
      "Ratio after balance (P70:P14:P35) = 4900:4900:4900\n",
      "Accuracy: 0.32739273927392737\n",
      "28\n",
      "Ratio before data balance (P70:P14:P35) = 13968:4900:14869\n",
      "Ratio after balance (P70:P14:P35) = 4900:4900:4900\n",
      "Accuracy: 0.33640880056777855\n",
      "29\n",
      "Ratio before data balance (P70:P14:P35) = 13968:4900:14869\n",
      "Ratio after balance (P70:P14:P35) = 4900:4900:4900\n",
      "Accuracy: 0.330630068621335\n",
      "30\n",
      "Ratio before data balance (P70:P14:P35) = 13968:4900:14869\n",
      "Ratio after balance (P70:P14:P35) = 4900:4900:4900\n",
      "Accuracy: 0.3505084745762712\n",
      "31\n",
      "Ratio before data balance (P70:P14:P35) = 13968:4900:14869\n",
      "Ratio after balance (P70:P14:P35) = 4900:4900:4900\n",
      "Accuracy: 0.3534263959390863\n",
      "32\n",
      "Ratio before data balance (P70:P14:P35) = 13968:4900:14869\n",
      "Ratio after balance (P70:P14:P35) = 4900:4900:4900\n",
      "Accuracy: 0.34450651769087526\n",
      "33\n",
      "Ratio before data balance (P70:P14:P35) = 13968:4900:14869\n",
      "Ratio after balance (P70:P14:P35) = 4900:4900:4900\n",
      "Accuracy: 0.33205619412515963\n",
      "34\n",
      "Ratio before data balance (P70:P14:P35) = 13968:4900:14869\n",
      "Ratio after balance (P70:P14:P35) = 4900:4900:4900\n",
      "Accuracy: 0.33881578947368424\n",
      "35\n",
      "Ratio before data balance (P70:P14:P35) = 13968:4900:14869\n",
      "Ratio after balance (P70:P14:P35) = 4900:4900:4900\n",
      "Accuracy: 0.3387096774193548\n",
      "36\n",
      "Ratio before data balance (P70:P14:P35) = 13968:4900:14869\n",
      "Ratio after balance (P70:P14:P35) = 4900:4900:4900\n",
      "Accuracy: 0.3525329632199861\n",
      "37\n",
      "Ratio before data balance (P70:P14:P35) = 13968:4900:14869\n",
      "Ratio after balance (P70:P14:P35) = 4900:4900:4900\n",
      "Accuracy: 0.3360107095046854\n",
      "38\n",
      "Ratio before data balance (P70:P14:P35) = 13968:4900:14869\n",
      "Ratio after balance (P70:P14:P35) = 4900:4900:4900\n",
      "Accuracy: 0.3301404853128991\n",
      "39\n",
      "Ratio before data balance (P70:P14:P35) = 13968:4900:14869\n",
      "Ratio after balance (P70:P14:P35) = 4900:4900:4900\n",
      "Accuracy: 0.3297331639135959\n",
      "40\n",
      "Ratio before data balance (P70:P14:P35) = 13968:4900:14869\n",
      "Ratio after balance (P70:P14:P35) = 4900:4900:4900\n",
      "Accuracy: 0.34180602006688965\n",
      "41\n",
      "Ratio before data balance (P70:P14:P35) = 13968:4900:14869\n",
      "Ratio after balance (P70:P14:P35) = 4900:4900:4900\n",
      "Accuracy: 0.33774373259052926\n",
      "42\n",
      "Ratio before data balance (P70:P14:P35) = 13968:4900:14869\n",
      "Ratio after balance (P70:P14:P35) = 4900:4900:4900\n",
      "Accuracy: 0.3344875346260388\n",
      "43\n",
      "Ratio before data balance (P70:P14:P35) = 13968:4900:14869\n",
      "Ratio after balance (P70:P14:P35) = 4900:4900:4900\n",
      "Accuracy: 0.3391072618254497\n",
      "44\n",
      "Ratio before data balance (P70:P14:P35) = 13968:4900:14869\n",
      "Ratio after balance (P70:P14:P35) = 4900:4900:4900\n",
      "Accuracy: 0.3382147838214784\n",
      "45\n",
      "Ratio before data balance (P70:P14:P35) = 13968:4900:14869\n",
      "Ratio after balance (P70:P14:P35) = 4900:4900:4900\n",
      "Accuracy: 0.336734693877551\n",
      "46\n",
      "Ratio before data balance (P70:P14:P35) = 13968:4900:14869\n",
      "Ratio after balance (P70:P14:P35) = 4900:4900:4900\n",
      "Accuracy: 0.34702549575070823\n",
      "47\n",
      "Ratio before data balance (P70:P14:P35) = 13968:4900:14869\n",
      "Ratio after balance (P70:P14:P35) = 4900:4900:4900\n",
      "Accuracy: 0.33863485752153744\n",
      "48\n",
      "Ratio before data balance (P70:P14:P35) = 13968:4900:14869\n",
      "Ratio after balance (P70:P14:P35) = 4900:4900:4900\n",
      "Accuracy: 0.35909090909090907\n",
      "49\n",
      "Ratio before data balance (P70:P14:P35) = 13968:4900:14869\n",
      "Ratio after balance (P70:P14:P35) = 4900:4900:4900\n",
      "Accuracy: 0.34247538677918427\n"
     ]
    }
   ],
   "source": [
    "best_param = {'max_depth': 4, 'eta': 0.1, 'min_child_weight': 1, 'verbosity': 0, 'objective': 'multi:softprob', 'num_class': 3, 'silent': 'True', 'gamma': 1.0, 'subsample': 0.5, 'colsample_bytree': 0.6, 'eval_metric': 'mlogloss'}\n",
    "\n",
    "models_to_run = 50\n",
    "\n",
    "target = 'age'\n",
    "age_tot_acc_vals = np.zeros(models_to_run)\n",
    "age_tot_prec_vals = np.zeros(models_to_run)\n",
    "age_tot_rec_vals = np.zeros(models_to_run)\n",
    "age_tot_f1_vals = np.zeros(models_to_run)\n",
    "\n",
    "age_booster_list = list(range(models_to_run))\n",
    "age_truelabels_list = list(range(models_to_run))\n",
    "age_preds_list = list(range(models_to_run))\n",
    "\n",
    "P14_acc_vals = np.zeros(models_to_run)\n",
    "P35_acc_vals = np.zeros(models_to_run)\n",
    "P70_acc_vals = np.zeros(models_to_run)\n",
    "\n",
    "P14_prec_vals = np.zeros(models_to_run)\n",
    "P35_prec_vals = np.zeros(models_to_run)\n",
    "P70_prec_vals = np.zeros(models_to_run)\n",
    "\n",
    "P14_rec_vals = np.zeros(models_to_run)\n",
    "P35_rec_vals = np.zeros(models_to_run)\n",
    "P70_rec_vals = np.zeros(models_to_run)\n",
    "\n",
    "P14_f1_vals = np.zeros(models_to_run)\n",
    "P35_f1_vals = np.zeros(models_to_run)\n",
    "P70_f1_vals = np.zeros(models_to_run)\n",
    "\n",
    "P14_sup_vals = np.zeros(models_to_run)\n",
    "P35_sup_vals = np.zeros(models_to_run)\n",
    "P70_sup_vals = np.zeros(models_to_run)\n",
    "\n",
    "for i in range(models_to_run):\n",
    "    print(i)\n",
    "\n",
    "\n",
    "    dtrain, dtest, dval, X_train, X_test, y_train, y_test, le = full_preprocess(ecm, balanced=True, target=target)\n",
    "    booster, acc, true_label, preds = predxgboost.train(best_param, dtrain, dtest, dval, evals=[(dtrain, 'train'), (dval, 'eval')], num_round=804, verbose=False)\n",
    "\n",
    "    preds = np.array(preds)\n",
    "\n",
    "    age_tot_acc_vals[i] = accuracy_score(true_label, preds)\n",
    "    age_tot_prec_vals[i] = precision_score(true_label, preds, average='macro')\n",
    "    age_tot_rec_vals[i] = recall_score(true_label, preds, average='macro')\n",
    "    age_tot_f1_vals[i] = f1_score(true_label, preds, average='macro')\n",
    "\n",
    "    age_booster_list[i] = booster\n",
    "    age_truelabels_list[i] = true_label\n",
    "    age_preds_list[i] = preds\n",
    "\n",
    "    prec, rec, f1, sup = precision_recall_fscore_support(true_label, preds)\n",
    "\n",
    "    p14_idx = np.where(le.classes_=='P14')\n",
    "    p35_idx = np.where(le.classes_=='P35')\n",
    "    p70_idx = np.where(le.classes_=='P70')\n",
    "\n",
    "    p14_locs = np.where(true_label==p14_idx[0])\n",
    "    p35_locs = np.where(true_label==p35_idx[0])\n",
    "    p70_locs = np.where(true_label==p70_idx[0])\n",
    "\n",
    "    P14_acc_vals[i] = accuracy_score(true_label[p14_locs], preds[p14_locs])\n",
    "    P35_acc_vals[i] = accuracy_score(true_label[p35_locs], preds[p35_locs])\n",
    "    P70_acc_vals[i] = accuracy_score(true_label[p70_locs], preds[p70_locs])\n",
    "\n",
    "\n",
    "    P14_prec_vals[i] = prec[p14_idx]\n",
    "    P35_prec_vals[i] = prec[p35_idx]\n",
    "    P70_prec_vals[i] = prec[p70_idx]\n",
    "\n",
    "    P14_rec_vals[i] = rec[p14_idx]\n",
    "    P35_rec_vals[i] = rec[p35_idx]\n",
    "    P70_rec_vals[i] = rec[p70_idx]\n",
    "\n",
    "    P14_f1_vals[i] = f1[p14_idx]\n",
    "    P35_f1_vals[i] = f1[p35_idx]\n",
    "    P70_f1_vals[i] = f1[p70_idx]\n",
    "\n",
    "    P14_sup_vals[i] = sup[p14_idx]\n",
    "    P35_sup_vals[i] = sup[p35_idx]\n",
    "    P70_sup_vals[i] = sup[p70_idx]"
   ]
  },
  {
   "cell_type": "code",
   "execution_count": 24,
   "metadata": {},
   "outputs": [
    {
     "name": "stdout",
     "output_type": "stream",
     "text": [
      "0.33936080966901033\n",
      "0.02580516517256146\n"
     ]
    }
   ],
   "source": [
    "print(P35_acc_vals.mean())\n",
    "print(P35_acc_vals.std())"
   ]
  },
  {
   "cell_type": "code",
   "execution_count": 25,
   "metadata": {},
   "outputs": [
    {
     "name": "stdout",
     "output_type": "stream",
     "text": [
      "0.33649729213014234\n",
      "0.011429210157080564\n"
     ]
    }
   ],
   "source": [
    "print(age_tot_acc_vals.mean())\n",
    "print(age_tot_acc_vals.std())"
   ]
  },
  {
   "cell_type": "code",
   "execution_count": 26,
   "metadata": {},
   "outputs": [
    {
     "name": "stdout",
     "output_type": "stream",
     "text": [
      "0.3365006153230445\n",
      "0.011366342724617165\n"
     ]
    }
   ],
   "source": [
    "print(age_tot_prec_vals.mean())\n",
    "print(age_tot_prec_vals.std())"
   ]
  },
  {
   "cell_type": "code",
   "execution_count": 27,
   "metadata": {},
   "outputs": [
    {
     "name": "stdout",
     "output_type": "stream",
     "text": [
      "0.336402859134664\n",
      "0.011397245172881404\n"
     ]
    }
   ],
   "source": [
    "print(age_tot_rec_vals.mean())\n",
    "print(age_tot_rec_vals.std())"
   ]
  },
  {
   "cell_type": "code",
   "execution_count": 28,
   "metadata": {},
   "outputs": [
    {
     "name": "stdout",
     "output_type": "stream",
     "text": [
      "0.3361514425609552\n",
      "0.01145566243641968\n"
     ]
    }
   ],
   "source": [
    "print(age_tot_f1_vals.mean())\n",
    "print(age_tot_f1_vals.std())"
   ]
  },
  {
   "cell_type": "code",
   "execution_count": 29,
   "metadata": {},
   "outputs": [
    {
     "name": "stdout",
     "output_type": "stream",
     "text": [
      "0.33893418162590216\n",
      "0.021995189451758324\n"
     ]
    }
   ],
   "source": [
    "print(P35_f1_vals.mean())\n",
    "print(P35_f1_vals.std())"
   ]
  },
  {
   "cell_type": "code",
   "execution_count": 37,
   "metadata": {},
   "outputs": [
    {
     "name": "stdout",
     "output_type": "stream",
     "text": [
      "0.33313619165662894\n",
      "0.022149168631316652\n"
     ]
    }
   ],
   "source": [
    "print(P14_prec_vals.mean())\n",
    "print(P14_prec_vals.std())"
   ]
  },
  {
   "cell_type": "code",
   "execution_count": 11,
   "metadata": {},
   "outputs": [
    {
     "name": "stdout",
     "output_type": "stream",
     "text": [
      "Ratio before data balance (P70:P14:P35) = 13968:4900:14869\n",
      "Ratio after balance (P70:P14:P35) = 4900:4900:4900\n"
     ]
    }
   ],
   "source": [
    "bal_ecm = data_process.balance_data(ecm, target, random_state=1)\n",
    "bal_ecm = data_process.bin_data(bal_ecm, resolution=128)"
   ]
  },
  {
   "cell_type": "code",
   "execution_count": 12,
   "metadata": {},
   "outputs": [
    {
     "data": {
      "text/html": [
       "<div>\n",
       "<style scoped>\n",
       "    .dataframe tbody tr th:only-of-type {\n",
       "        vertical-align: middle;\n",
       "    }\n",
       "\n",
       "    .dataframe tbody tr th {\n",
       "        vertical-align: top;\n",
       "    }\n",
       "\n",
       "    .dataframe thead th {\n",
       "        text-align: right;\n",
       "    }\n",
       "</style>\n",
       "<table border=\"1\" class=\"dataframe\">\n",
       "  <thead>\n",
       "    <tr style=\"text-align: right;\">\n",
       "      <th></th>\n",
       "      <th>alpha</th>\n",
       "      <th>D_fit</th>\n",
       "      <th>kurtosis</th>\n",
       "      <th>asymmetry1</th>\n",
       "      <th>asymmetry2</th>\n",
       "      <th>asymmetry3</th>\n",
       "      <th>AR</th>\n",
       "      <th>elongation</th>\n",
       "      <th>boundedness</th>\n",
       "      <th>fractal_dim</th>\n",
       "      <th>...</th>\n",
       "      <th>Mean MSD_ratio</th>\n",
       "      <th>Mean Deff1</th>\n",
       "      <th>Mean Deff2</th>\n",
       "      <th>age</th>\n",
       "      <th>Track_ID</th>\n",
       "      <th>X</th>\n",
       "      <th>Y</th>\n",
       "      <th>binx</th>\n",
       "      <th>biny</th>\n",
       "      <th>bins</th>\n",
       "    </tr>\n",
       "  </thead>\n",
       "  <tbody>\n",
       "    <tr>\n",
       "      <th>0</th>\n",
       "      <td>0.191301</td>\n",
       "      <td>10.375955</td>\n",
       "      <td>1.624233</td>\n",
       "      <td>0.059493</td>\n",
       "      <td>0.779635</td>\n",
       "      <td>0.007696</td>\n",
       "      <td>1.738722</td>\n",
       "      <td>0.424865</td>\n",
       "      <td>0.093556</td>\n",
       "      <td>1.820677</td>\n",
       "      <td>...</td>\n",
       "      <td>0.568034</td>\n",
       "      <td>4.503660</td>\n",
       "      <td>0.583820</td>\n",
       "      <td>P70</td>\n",
       "      <td>93.0</td>\n",
       "      <td>1953.582603</td>\n",
       "      <td>1360.648877</td>\n",
       "      <td>15</td>\n",
       "      <td>10</td>\n",
       "      <td>250</td>\n",
       "    </tr>\n",
       "    <tr>\n",
       "      <th>1</th>\n",
       "      <td>3.415278</td>\n",
       "      <td>0.001613</td>\n",
       "      <td>3.882279</td>\n",
       "      <td>0.476458</td>\n",
       "      <td>0.428077</td>\n",
       "      <td>0.083592</td>\n",
       "      <td>1.669337</td>\n",
       "      <td>0.400960</td>\n",
       "      <td>0.032883</td>\n",
       "      <td>1.556931</td>\n",
       "      <td>...</td>\n",
       "      <td>0.628107</td>\n",
       "      <td>2.888546</td>\n",
       "      <td>NaN</td>\n",
       "      <td>P70</td>\n",
       "      <td>687.0</td>\n",
       "      <td>1425.469609</td>\n",
       "      <td>1876.162108</td>\n",
       "      <td>11</td>\n",
       "      <td>14</td>\n",
       "      <td>190</td>\n",
       "    </tr>\n",
       "    <tr>\n",
       "      <th>2</th>\n",
       "      <td>1.533167</td>\n",
       "      <td>0.360403</td>\n",
       "      <td>4.600245</td>\n",
       "      <td>0.171344</td>\n",
       "      <td>0.643809</td>\n",
       "      <td>0.023757</td>\n",
       "      <td>1.352515</td>\n",
       "      <td>0.260637</td>\n",
       "      <td>0.096580</td>\n",
       "      <td>2.025527</td>\n",
       "      <td>...</td>\n",
       "      <td>0.381480</td>\n",
       "      <td>4.912801</td>\n",
       "      <td>NaN</td>\n",
       "      <td>P70</td>\n",
       "      <td>1430.0</td>\n",
       "      <td>781.061968</td>\n",
       "      <td>1231.417411</td>\n",
       "      <td>6</td>\n",
       "      <td>9</td>\n",
       "      <td>105</td>\n",
       "    </tr>\n",
       "    <tr>\n",
       "      <th>3</th>\n",
       "      <td>1.875880</td>\n",
       "      <td>0.141658</td>\n",
       "      <td>2.208316</td>\n",
       "      <td>0.711645</td>\n",
       "      <td>0.291273</td>\n",
       "      <td>0.163253</td>\n",
       "      <td>2.275138</td>\n",
       "      <td>0.560466</td>\n",
       "      <td>0.024567</td>\n",
       "      <td>1.450461</td>\n",
       "      <td>...</td>\n",
       "      <td>0.269514</td>\n",
       "      <td>2.279252</td>\n",
       "      <td>NaN</td>\n",
       "      <td>P70</td>\n",
       "      <td>468.0</td>\n",
       "      <td>1514.562479</td>\n",
       "      <td>1770.893337</td>\n",
       "      <td>11</td>\n",
       "      <td>13</td>\n",
       "      <td>189</td>\n",
       "    </tr>\n",
       "    <tr>\n",
       "      <th>4</th>\n",
       "      <td>0.819912</td>\n",
       "      <td>4.283229</td>\n",
       "      <td>2.233269</td>\n",
       "      <td>0.987178</td>\n",
       "      <td>0.056800</td>\n",
       "      <td>0.507969</td>\n",
       "      <td>3.044304</td>\n",
       "      <td>0.671518</td>\n",
       "      <td>0.060647</td>\n",
       "      <td>1.639681</td>\n",
       "      <td>...</td>\n",
       "      <td>1.833806</td>\n",
       "      <td>2.455036</td>\n",
       "      <td>0.309671</td>\n",
       "      <td>P70</td>\n",
       "      <td>572.0</td>\n",
       "      <td>1048.457051</td>\n",
       "      <td>1961.785097</td>\n",
       "      <td>8</td>\n",
       "      <td>15</td>\n",
       "      <td>143</td>\n",
       "    </tr>\n",
       "    <tr>\n",
       "      <th>...</th>\n",
       "      <td>...</td>\n",
       "      <td>...</td>\n",
       "      <td>...</td>\n",
       "      <td>...</td>\n",
       "      <td>...</td>\n",
       "      <td>...</td>\n",
       "      <td>...</td>\n",
       "      <td>...</td>\n",
       "      <td>...</td>\n",
       "      <td>...</td>\n",
       "      <td>...</td>\n",
       "      <td>...</td>\n",
       "      <td>...</td>\n",
       "      <td>...</td>\n",
       "      <td>...</td>\n",
       "      <td>...</td>\n",
       "      <td>...</td>\n",
       "      <td>...</td>\n",
       "      <td>...</td>\n",
       "      <td>...</td>\n",
       "      <td>...</td>\n",
       "    </tr>\n",
       "    <tr>\n",
       "      <th>14695</th>\n",
       "      <td>0.146382</td>\n",
       "      <td>32.242243</td>\n",
       "      <td>2.694113</td>\n",
       "      <td>0.765783</td>\n",
       "      <td>0.258099</td>\n",
       "      <td>0.191007</td>\n",
       "      <td>1.767878</td>\n",
       "      <td>0.434350</td>\n",
       "      <td>0.185897</td>\n",
       "      <td>2.181697</td>\n",
       "      <td>...</td>\n",
       "      <td>1.767087</td>\n",
       "      <td>5.963980</td>\n",
       "      <td>NaN</td>\n",
       "      <td>P35</td>\n",
       "      <td>600.0</td>\n",
       "      <td>1034.896173</td>\n",
       "      <td>634.666562</td>\n",
       "      <td>8</td>\n",
       "      <td>4</td>\n",
       "      <td>132</td>\n",
       "    </tr>\n",
       "    <tr>\n",
       "      <th>14696</th>\n",
       "      <td>0.141853</td>\n",
       "      <td>48.911378</td>\n",
       "      <td>2.114318</td>\n",
       "      <td>0.778785</td>\n",
       "      <td>0.249848</td>\n",
       "      <td>0.198594</td>\n",
       "      <td>1.284749</td>\n",
       "      <td>0.221638</td>\n",
       "      <td>0.093410</td>\n",
       "      <td>2.264935</td>\n",
       "      <td>...</td>\n",
       "      <td>1.174059</td>\n",
       "      <td>9.110905</td>\n",
       "      <td>NaN</td>\n",
       "      <td>P35</td>\n",
       "      <td>784.0</td>\n",
       "      <td>1678.116269</td>\n",
       "      <td>434.224593</td>\n",
       "      <td>13</td>\n",
       "      <td>3</td>\n",
       "      <td>211</td>\n",
       "    </tr>\n",
       "    <tr>\n",
       "      <th>14697</th>\n",
       "      <td>0.558256</td>\n",
       "      <td>23.957170</td>\n",
       "      <td>1.904525</td>\n",
       "      <td>0.726977</td>\n",
       "      <td>0.282040</td>\n",
       "      <td>0.170560</td>\n",
       "      <td>1.102116</td>\n",
       "      <td>0.092655</td>\n",
       "      <td>0.149442</td>\n",
       "      <td>1.562094</td>\n",
       "      <td>...</td>\n",
       "      <td>0.491829</td>\n",
       "      <td>2.254876</td>\n",
       "      <td>0.005316</td>\n",
       "      <td>P35</td>\n",
       "      <td>81.0</td>\n",
       "      <td>893.515944</td>\n",
       "      <td>1677.265461</td>\n",
       "      <td>6</td>\n",
       "      <td>13</td>\n",
       "      <td>109</td>\n",
       "    </tr>\n",
       "    <tr>\n",
       "      <th>14698</th>\n",
       "      <td>0.715333</td>\n",
       "      <td>4.912179</td>\n",
       "      <td>3.126657</td>\n",
       "      <td>0.467134</td>\n",
       "      <td>0.433614</td>\n",
       "      <td>0.081256</td>\n",
       "      <td>1.360082</td>\n",
       "      <td>0.264750</td>\n",
       "      <td>0.115362</td>\n",
       "      <td>1.694750</td>\n",
       "      <td>...</td>\n",
       "      <td>0.358126</td>\n",
       "      <td>11.823222</td>\n",
       "      <td>NaN</td>\n",
       "      <td>P35</td>\n",
       "      <td>1202.0</td>\n",
       "      <td>84.384879</td>\n",
       "      <td>816.971621</td>\n",
       "      <td>0</td>\n",
       "      <td>6</td>\n",
       "      <td>6</td>\n",
       "    </tr>\n",
       "    <tr>\n",
       "      <th>14699</th>\n",
       "      <td>0.169420</td>\n",
       "      <td>4.872626</td>\n",
       "      <td>3.280962</td>\n",
       "      <td>0.874147</td>\n",
       "      <td>0.183341</td>\n",
       "      <td>0.271992</td>\n",
       "      <td>2.093068</td>\n",
       "      <td>0.522233</td>\n",
       "      <td>0.214670</td>\n",
       "      <td>2.310155</td>\n",
       "      <td>...</td>\n",
       "      <td>0.565096</td>\n",
       "      <td>2.653923</td>\n",
       "      <td>NaN</td>\n",
       "      <td>P35</td>\n",
       "      <td>1463.0</td>\n",
       "      <td>1918.275818</td>\n",
       "      <td>806.799910</td>\n",
       "      <td>14</td>\n",
       "      <td>6</td>\n",
       "      <td>230</td>\n",
       "    </tr>\n",
       "  </tbody>\n",
       "</table>\n",
       "<p>14700 rows × 39 columns</p>\n",
       "</div>"
      ],
      "text/plain": [
       "          alpha      D_fit  kurtosis  asymmetry1  asymmetry2  asymmetry3  \\\n",
       "0      0.191301  10.375955  1.624233    0.059493    0.779635    0.007696   \n",
       "1      3.415278   0.001613  3.882279    0.476458    0.428077    0.083592   \n",
       "2      1.533167   0.360403  4.600245    0.171344    0.643809    0.023757   \n",
       "3      1.875880   0.141658  2.208316    0.711645    0.291273    0.163253   \n",
       "4      0.819912   4.283229  2.233269    0.987178    0.056800    0.507969   \n",
       "...         ...        ...       ...         ...         ...         ...   \n",
       "14695  0.146382  32.242243  2.694113    0.765783    0.258099    0.191007   \n",
       "14696  0.141853  48.911378  2.114318    0.778785    0.249848    0.198594   \n",
       "14697  0.558256  23.957170  1.904525    0.726977    0.282040    0.170560   \n",
       "14698  0.715333   4.912179  3.126657    0.467134    0.433614    0.081256   \n",
       "14699  0.169420   4.872626  3.280962    0.874147    0.183341    0.271992   \n",
       "\n",
       "             AR  elongation  boundedness  fractal_dim  ...  Mean MSD_ratio  \\\n",
       "0      1.738722    0.424865     0.093556     1.820677  ...        0.568034   \n",
       "1      1.669337    0.400960     0.032883     1.556931  ...        0.628107   \n",
       "2      1.352515    0.260637     0.096580     2.025527  ...        0.381480   \n",
       "3      2.275138    0.560466     0.024567     1.450461  ...        0.269514   \n",
       "4      3.044304    0.671518     0.060647     1.639681  ...        1.833806   \n",
       "...         ...         ...          ...          ...  ...             ...   \n",
       "14695  1.767878    0.434350     0.185897     2.181697  ...        1.767087   \n",
       "14696  1.284749    0.221638     0.093410     2.264935  ...        1.174059   \n",
       "14697  1.102116    0.092655     0.149442     1.562094  ...        0.491829   \n",
       "14698  1.360082    0.264750     0.115362     1.694750  ...        0.358126   \n",
       "14699  2.093068    0.522233     0.214670     2.310155  ...        0.565096   \n",
       "\n",
       "       Mean Deff1  Mean Deff2  age  Track_ID            X            Y  binx  \\\n",
       "0        4.503660    0.583820  P70      93.0  1953.582603  1360.648877    15   \n",
       "1        2.888546         NaN  P70     687.0  1425.469609  1876.162108    11   \n",
       "2        4.912801         NaN  P70    1430.0   781.061968  1231.417411     6   \n",
       "3        2.279252         NaN  P70     468.0  1514.562479  1770.893337    11   \n",
       "4        2.455036    0.309671  P70     572.0  1048.457051  1961.785097     8   \n",
       "...           ...         ...  ...       ...          ...          ...   ...   \n",
       "14695    5.963980         NaN  P35     600.0  1034.896173   634.666562     8   \n",
       "14696    9.110905         NaN  P35     784.0  1678.116269   434.224593    13   \n",
       "14697    2.254876    0.005316  P35      81.0   893.515944  1677.265461     6   \n",
       "14698   11.823222         NaN  P35    1202.0    84.384879   816.971621     0   \n",
       "14699    2.653923         NaN  P35    1463.0  1918.275818   806.799910    14   \n",
       "\n",
       "       biny  bins  \n",
       "0        10   250  \n",
       "1        14   190  \n",
       "2         9   105  \n",
       "3        13   189  \n",
       "4        15   143  \n",
       "...     ...   ...  \n",
       "14695     4   132  \n",
       "14696     3   211  \n",
       "14697    13   109  \n",
       "14698     6     6  \n",
       "14699     6   230  \n",
       "\n",
       "[14700 rows x 39 columns]"
      ]
     },
     "execution_count": 12,
     "metadata": {},
     "output_type": "execute_result"
    }
   ],
   "source": [
    "bal_ecm = bal_ecm.reset_index(drop=True)\n",
    "bal_ecm"
   ]
  },
  {
   "cell_type": "code",
   "execution_count": 13,
   "metadata": {},
   "outputs": [],
   "source": [
    "label_df = bal_ecm[target].copy()\n",
    "features_df = bal_ecm.drop([target, 'Track_ID', 'X', 'Y', 'binx', 'biny', 'bins'], axis=1)\n",
    "features = features_df.columns"
   ]
  },
  {
   "cell_type": "code",
   "execution_count": 14,
   "metadata": {},
   "outputs": [],
   "source": [
    "from numpy.random import permutation\n",
    "perm = permutation(len(label_df))\n",
    "label_shuffled = label_df[perm]"
   ]
  },
  {
   "cell_type": "code",
   "execution_count": 57,
   "metadata": {},
   "outputs": [
    {
     "data": {
      "text/plain": [
       "14679    P35\n",
       "7463     P14\n",
       "10425    P35\n",
       "10990    P35\n",
       "13508    P35\n",
       "        ... \n",
       "7743     P14\n",
       "5848     P14\n",
       "2885     P70\n",
       "8865     P14\n",
       "6185     P14\n",
       "Name: age, Length: 14700, dtype: object"
      ]
     },
     "execution_count": 57,
     "metadata": {},
     "output_type": "execute_result"
    }
   ],
   "source": [
    "label_shuffled"
   ]
  },
  {
   "cell_type": "code",
   "execution_count": 58,
   "metadata": {},
   "outputs": [],
   "source": [
    "# Regular split\n",
    "\n",
    "seed = 1234\n",
    "np.random.seed(seed)\n",
    "train_split = 0.5\n",
    "test_split = 0.5\n",
    "\n",
    "le = preprocessing.LabelEncoder()\n",
    "bal_ecm['encoded_target'] = le.fit_transform(label_shuffled)\n",
    "\n",
    "training_bins = np.random.choice(bal_ecm.bins.unique(), int(len(bal_ecm.bins.unique())*train_split), replace=False)\n",
    "\n",
    "X_train = bal_ecm[bal_ecm.bins.isin(training_bins)]\n",
    "X_test_val = bal_ecm[~bal_ecm.bins.isin(training_bins)]\n",
    "X_val, X_test = train_test_split(X_test_val, test_size=test_split, random_state=seed)\n",
    "\n",
    "y_train = X_train['encoded_target']\n",
    "y_test = X_test['encoded_target']\n",
    "y_val = X_val['encoded_target']\n",
    "\n",
    "# dtrain = X_train[features]\n",
    "# dtest = X_test[features]\n",
    "# dval = X_val[features]\n",
    "\n",
    "dtrain = xgb.DMatrix(X_train[features], label=y_train)\n",
    "dtest = xgb.DMatrix(X_test[features], label=y_test)\n",
    "dval = xgb.DMatrix(X_val[features], label=y_val)"
   ]
  },
  {
   "cell_type": "code",
   "execution_count": 59,
   "metadata": {},
   "outputs": [],
   "source": [
    "param = {'max_depth': 3,\n",
    "         'eta': 0.005,\n",
    "         'min_child_weight': 0,\n",
    "         'verbosity': 0,\n",
    "         'objective': 'multi:softprob',\n",
    "         'num_class': 3,\n",
    "         'silent': 'True',\n",
    "         'gamma': 5,\n",
    "         'subsample': 0.15,\n",
    "         'colsample_bytree': 0.8,\n",
    "         'eval_metric': \"mlogloss\",\n",
    "#          # GPU integration will cut time in ~half:\n",
    "#          'gpu_id' : 0,\n",
    "#          'tree_method': 'gpu_hist',\n",
    "#          'predictor': 'gpu_predictor'\n",
    "         }"
   ]
  },
  {
   "cell_type": "code",
   "execution_count": 60,
   "metadata": {},
   "outputs": [],
   "source": [
    "best_param = {'max_depth': 4, 'eta': 0.1, 'min_child_weight': 1, 'verbosity': 0, 'objective': 'multi:softprob', 'num_class': 3, 'silent': 'True', 'gamma': 1.0, 'subsample': 0.5, 'colsample_bytree': 0.6, 'eval_metric': 'mlogloss'}"
   ]
  },
  {
   "cell_type": "code",
   "execution_count": 61,
   "metadata": {},
   "outputs": [
    {
     "name": "stdout",
     "output_type": "stream",
     "text": [
      "Accuracy: 0.32374866879659214\n"
     ]
    }
   ],
   "source": [
    "booster, acc, true_label, preds = predxgboost.train(best_param, dtrain, dtest, dval, evals=[(dtrain, 'train'), (dval, 'eval')], num_round=96, verbose=False)"
   ]
  },
  {
   "cell_type": "code",
   "execution_count": 62,
   "metadata": {},
   "outputs": [
    {
     "name": "stdout",
     "output_type": "stream",
     "text": [
      "              precision    recall  f1-score   support\n",
      "\n",
      "         P14     0.3278    0.2931    0.3095      1269\n",
      "         P35     0.3255    0.3429    0.3340      1254\n",
      "         P70     0.3185    0.3358    0.3269      1233\n",
      "\n",
      "    accuracy                         0.3237      3756\n",
      "   macro avg     0.3239    0.3239    0.3234      3756\n",
      "weighted avg     0.3240    0.3237    0.3234      3756\n",
      "\n"
     ]
    }
   ],
   "source": [
    "class_names = le.classes_\n",
    "class_results = classification_report(y_test, preds, digits=4, target_names = class_names)\n",
    "print(str(class_results))"
   ]
  },
  {
   "cell_type": "code",
   "execution_count": 30,
   "metadata": {},
   "outputs": [
    {
     "data": {
      "image/png": "[encoded data removed]",
      "text/plain": [
       "<Figure size 864x720 with 2 Axes>"
      ]
     },
     "metadata": {
      "needs_background": "light"
     },
     "output_type": "display_data"
    }
   ],
   "source": [
    "metrics.confusion_matrix(y_test, preds)\n",
    "plt.figure(figsize=(12,10))\n",
    "cm_array = metrics.confusion_matrix(y_test, preds)\n",
    "df_cm = pd.DataFrame(cm_array, index = class_names, columns = class_names)\n",
    "\n",
    "sns.set(font_scale=1.4) # for label size\n",
    "ax = sns.heatmap(df_cm, annot=True, annot_kws={\"size\": 16}, cmap=\"YlGnBu\")\n",
    "ax.set(xlabel='Predicted', ylabel='Actual')\n",
    "\n",
    "plt.show()"
   ]
  },
  {
   "cell_type": "code",
   "execution_count": 63,
   "metadata": {},
   "outputs": [
    {
     "data": {
      "image/png": "[encoded data removed]",
      "text/plain": [
       "<Figure size 576x540 with 1 Axes>"
      ]
     },
     "metadata": {},
     "output_type": "display_data"
    }
   ],
   "source": [
    "from matplotlib import colors as plt_colors\n",
    "\n",
    "explainer = shap.TreeExplainer(booster)\n",
    "shap_values = explainer.shap_values(X_test[features])\n",
    "c_NT = '#E69F00'\n",
    "c_HYase = '#56B4E9'\n",
    "c_ChABC = '#009E73'\n",
    "\n",
    "colors = [c_NT, c_HYase, c_ChABC]\n",
    "class_inds = np.argsort([-np.abs(shap_values[i]).mean() for i in range(len(shap_values))])\n",
    "cmap = plt_colors.ListedColormap(np.array(colors)[class_inds])\n",
    "shap.summary_plot(shap_values, X_test[features], class_names=np.array(class_names), max_display=15, title='Total SHAP Values', color=cmap)"
   ]
  },
  {
   "cell_type": "markdown",
   "metadata": {},
   "source": [
    "# Region data y-scrambling"
   ]
  },
  {
   "cell_type": "code",
   "execution_count": 17,
   "metadata": {},
   "outputs": [
    {
     "name": "stdout",
     "output_type": "stream",
     "text": [
      "Adding file feat_NT_slice_2_striatum_vid_4.csv size: (10237, 67)\n",
      "Adding file feat_NT_slice_2_striatum_vid_5.csv size: (13938, 67)\n",
      "Adding file feat_NT_slice_1_striatum_vid_1.csv size: (2431, 67)\n",
      "Adding file feat_NT_slice_2_cortex_vid_4.csv size: (1429, 67)\n",
      "Adding file feat_NT_slice_1_striatum_vid_3.csv size: (1536, 67)\n",
      "Adding file feat_NT_slice_1_cortex_vid_10.csv size: (4832, 67)\n",
      "Adding file feat_NT_slice_1_striatum_vid_2.csv size: (2240, 67)\n",
      "Adding file feat_NT_slice_2_cortex_vid_5.csv size: (2210, 67)\n",
      "Adding file feat_NT_slice_2_cortex_vid_1.csv size: (1388, 67)\n",
      "Adding file feat_NT_slice_2_hippocampus_vid_2.csv size: (46, 67)\n",
      "Adding file feat_NT_slice_2_striatum_vid_2.csv size: (10500, 67)\n",
      "Adding file feat_NT_slice_2_striatum_vid_3.csv size: (11355, 67)\n",
      "Adding file feat_NT_slice_2_hippocampus_vid_3.csv size: (307, 67)\n",
      "Adding file feat_NT_slice_2_cortex_vid_2.csv size: (1784, 67)\n",
      "Adding file feat_NT_slice_1_cortex_vid_8.csv size: (1984, 67)\n",
      "Adding file feat_NT_slice_1_striatum_vid_5.csv size: (2169, 67)\n",
      "Adding file feat_NT_slice_2_hippocampus_vid_1.csv size: (250, 67)\n",
      "Adding file feat_NT_slice_2_striatum_vid_1.csv size: (8314, 67)\n",
      "Adding file feat_NT_slice_1_striatum_vid_4.csv size: (2177, 67)\n",
      "Adding file feat_NT_slice_1_cortex_vid_9.csv size: (6506, 67)\n",
      "Adding file feat_NT_slice_2_cortex_vid_3.csv size: (3520, 67)\n",
      "Adding file feat_NT_slice_1_hippocampus_vid_1.csv size: (4149, 67)\n",
      "Adding file feat_NT_slice_1_hippocampus_vid_3.csv size: (3519, 67)\n",
      "Adding file feat_NT_slice_1_hippocampus_vid_2.csv size: (2148, 67)\n",
      "Adding file feat_NT_slice_1_cortex_vid_7.csv size: (4159, 67)\n",
      "Adding file feat_NT_slice_1_cortex_vid_6.csv size: (7990, 67)\n"
     ]
    }
   ],
   "source": [
    "fstats_tot_region = data_process.generate_fullstats(region_dataset_path, region_filelist, ['cortex', 'hippocampus', 'striatum'], 'region')"
   ]
  },
  {
   "cell_type": "code",
   "execution_count": 20,
   "metadata": {},
   "outputs": [
    {
     "name": "stdout",
     "output_type": "stream",
     "text": [
      "(111118, 36)\n"
     ]
    },
    {
     "data": {
      "text/plain": [
       "(82209, 36)"
      ]
     },
     "execution_count": 20,
     "metadata": {},
     "output_type": "execute_result"
    }
   ],
   "source": [
    "target = 'region'\n",
    "ecm = fstats_tot_region[feature_list + [target, 'Track_ID', 'X', 'Y']] #dont think i need these rn\n",
    "print(ecm.shape)\n",
    "ecm = ecm[~ecm[list(set(feature_list) - set(['Deff2', 'Mean Deff2']))].isin([np.nan, np.inf, -np.inf]).any(1)]       # Removing nan and inf data points\n",
    "ecm.shape"
   ]
  },
  {
   "cell_type": "code",
   "execution_count": 21,
   "metadata": {},
   "outputs": [
    {
     "name": "stdout",
     "output_type": "stream",
     "text": [
      "Ratio before data balance (striatum:cortex:hippocampus) = 44214:27932:10063\n",
      "Ratio after balance (striatum:cortex:hippocampus) = 10063:10063:10063\n"
     ]
    }
   ],
   "source": [
    "bal_ecm = data_process.balance_data(ecm, target, random_state=1)\n",
    "bal_ecm = data_process.bin_data(bal_ecm, resolution=128)\n",
    "bal_ecm = bal_ecm.reset_index(drop=True)"
   ]
  },
  {
   "cell_type": "code",
   "execution_count": 22,
   "metadata": {},
   "outputs": [],
   "source": [
    "label_df = bal_ecm[target].copy()\n",
    "features_df = bal_ecm.drop([target, 'Track_ID', 'X', 'Y', 'binx', 'biny', 'bins'], axis=1)\n",
    "features = features_df.columns"
   ]
  },
  {
   "cell_type": "code",
   "execution_count": 23,
   "metadata": {},
   "outputs": [],
   "source": [
    "from numpy.random import permutation\n",
    "perm = permutation(len(label_df))\n",
    "label_shuffled = label_df[perm]"
   ]
  },
  {
   "cell_type": "code",
   "execution_count": 24,
   "metadata": {},
   "outputs": [],
   "source": [
    "# Regular split\n",
    "\n",
    "seed = 1234\n",
    "np.random.seed(seed)\n",
    "train_split = 0.5\n",
    "test_split = 0.5\n",
    "\n",
    "le = preprocessing.LabelEncoder()\n",
    "bal_ecm['encoded_target'] = le.fit_transform(label_shuffled)\n",
    "\n",
    "training_bins = np.random.choice(bal_ecm.bins.unique(), int(len(bal_ecm.bins.unique())*train_split), replace=False)\n",
    "\n",
    "X_train = bal_ecm[bal_ecm.bins.isin(training_bins)]\n",
    "X_test_val = bal_ecm[~bal_ecm.bins.isin(training_bins)]\n",
    "X_val, X_test = train_test_split(X_test_val, test_size=test_split, random_state=seed)\n",
    "\n",
    "y_train = X_train['encoded_target']\n",
    "y_test = X_test['encoded_target']\n",
    "y_val = X_val['encoded_target']\n",
    "\n",
    "# dtrain = X_train[features]\n",
    "# dtest = X_test[features]\n",
    "# dval = X_val[features]\n",
    "\n",
    "dtrain = xgb.DMatrix(X_train[features], label=y_train)\n",
    "dtest = xgb.DMatrix(X_test[features], label=y_test)\n",
    "dval = xgb.DMatrix(X_val[features], label=y_val)"
   ]
  },
  {
   "cell_type": "code",
   "execution_count": 25,
   "metadata": {},
   "outputs": [],
   "source": [
    "best_param = {'max_depth': 4,\n",
    " 'eta': 0.005,\n",
    " 'min_child_weight': 0,\n",
    " 'verbosity': 0,\n",
    " 'objective': 'multi:softprob',\n",
    " 'num_class': 3,\n",
    " 'silent': 'True',\n",
    " 'gamma': 5,\n",
    " 'subsample': 0.6,\n",
    " 'colsample_bytree': 0.7,\n",
    " 'eval_metric': 'mlogloss'}"
   ]
  },
  {
   "cell_type": "code",
   "execution_count": 26,
   "metadata": {},
   "outputs": [
    {
     "name": "stdout",
     "output_type": "stream",
     "text": [
      "Accuracy: 0.32991563919532774\n"
     ]
    }
   ],
   "source": [
    "booster, acc, true_label, preds = predxgboost.train(best_param, dtrain, dtest, dval, evals=[(dtrain, 'train'), (dval, 'eval')], num_round=1157, verbose=False)"
   ]
  },
  {
   "cell_type": "code",
   "execution_count": 28,
   "metadata": {},
   "outputs": [
    {
     "name": "stdout",
     "output_type": "stream",
     "text": [
      "              precision    recall  f1-score   support\n",
      "\n",
      "      cortex     0.3370    0.3336    0.3353      2557\n",
      " hippocampus     0.3255    0.2511    0.2835      2581\n",
      "    striatum     0.3270    0.4055    0.3621      2567\n",
      "\n",
      "    accuracy                         0.3299      7705\n",
      "   macro avg     0.3298    0.3301    0.3270      7705\n",
      "weighted avg     0.3298    0.3299    0.3269      7705\n",
      "\n"
     ]
    }
   ],
   "source": [
    "class_names = le.classes_\n",
    "class_results = classification_report(y_test, preds, digits=4, target_names = class_names)\n",
    "print(str(class_results))"
   ]
  },
  {
   "cell_type": "code",
   "execution_count": 29,
   "metadata": {},
   "outputs": [
    {
     "data": {
      "image/png": "[encoded data removed]",
      "text/plain": [
       "<Figure size 864x720 with 2 Axes>"
      ]
     },
     "metadata": {
      "needs_background": "light"
     },
     "output_type": "display_data"
    }
   ],
   "source": [
    "metrics.confusion_matrix(y_test, preds)\n",
    "plt.figure(figsize=(12,10))\n",
    "cm_array = metrics.confusion_matrix(y_test, preds)\n",
    "df_cm = pd.DataFrame(cm_array, index = class_names, columns = class_names)\n",
    "\n",
    "sns.set(font_scale=1.4) # for label size\n",
    "ax = sns.heatmap(df_cm, annot=True, annot_kws={\"size\": 16}, cmap=\"YlGnBu\")\n",
    "ax.set(xlabel='Predicted', ylabel='Actual')\n",
    "\n",
    "plt.show()"
   ]
  },
  {
   "cell_type": "code",
   "execution_count": 37,
   "metadata": {},
   "outputs": [],
   "source": [
    "class_names = ['cortex', 'striatum', 'hippocampus']"
   ]
  },
  {
   "cell_type": "code",
   "execution_count": 38,
   "metadata": {},
   "outputs": [
    {
     "data": {
      "image/png": "[encoded data removed]",
      "text/plain": [
       "<Figure size 576x540 with 1 Axes>"
      ]
     },
     "metadata": {},
     "output_type": "display_data"
    }
   ],
   "source": [
    "from matplotlib import colors as plt_colors\n",
    "\n",
    "explainer = shap.TreeExplainer(booster)\n",
    "shap_values = explainer.shap_values(X_test[features])\n",
    "c_NT = '#E69F00'\n",
    "c_HYase = '#56B4E9'\n",
    "c_ChABC = '#009E73'\n",
    "\n",
    "colors = [c_NT, c_HYase, c_ChABC]\n",
    "class_inds = np.argsort([-np.abs(shap_values[i]).mean() for i in range(len(shap_values))])\n",
    "cmap = plt_colors.ListedColormap(np.array(colors)[class_inds])\n",
    "shap.summary_plot(shap_values, X_test[features], class_names=np.array(class_names), max_display=15, title='Total SHAP Values')\n"
   ]
  },
  {
   "cell_type": "code",
   "execution_count": 38,
   "metadata": {},
   "outputs": [
    {
     "data": {
      "image/png": "[encoded data removed]",
      "text/plain": [
       "<Figure size 576x684 with 1 Axes>"
      ]
     },
     "metadata": {},
     "output_type": "display_data"
    }
   ],
   "source": [
    "shap.summary_plot(shap_values, X_test[features], max_display=None, title='Total SHAP Values')\n"
   ]
  },
  {
   "cell_type": "markdown",
   "metadata": {},
   "source": [
    "# Treatment"
   ]
  },
  {
   "cell_type": "code",
   "execution_count": 39,
   "metadata": {},
   "outputs": [
    {
     "name": "stdout",
     "output_type": "stream",
     "text": [
      "Adding file msd_ChABC_brain_3_slice_2_vid_4.csv size: (1240, 67)\n",
      "Adding file msd_ChABC_brain_2_slice_2_vid_2.csv size: (714, 67)\n",
      "Adding file msd_NT_brain_4_slice_3_vid_5.csv size: (1876, 67)\n",
      "Adding file msd_ChABC_brain_1_slice_3_vid_4.csv size: (1594, 67)\n",
      "Adding file msd_ChABC_brain_1_slice_3_vid_5.csv size: (1212, 67)\n",
      "Adding file msd_NT_brain_4_slice_3_vid_4.csv size: (2106, 67)\n",
      "Adding file msd_ChABC_brain_3_slice_2_vid_5.csv size: (2084, 67)\n",
      "Adding file msd_ChABC_brain_2_slice_2_vid_3.csv size: (1336, 67)\n",
      "Adding file msd_NT_brain_2_slice_2_vid_1.csv size: (2488, 67)\n",
      "Adding file msd_NT_brain_3_slice_2_vid_5.csv size: (893, 67)\n",
      "Adding file msd_NT_brain_2_slice_2_vid_3.csv size: (1735, 67)\n",
      "Adding file msd_ChABC_brain_2_slice_2_vid_1.csv size: (1788, 67)\n",
      "Adding file msd_ChABC_brain_4_slice_3_vid_4.csv size: (2689, 67)\n",
      "Adding file msd_NT_brain_1_slice_3_vid_5.csv size: (1009, 67)\n",
      "Adding file msd_NT_brain_1_slice_3_vid_4.csv size: (1446, 67)\n",
      "Adding file msd_ChABC_brain_4_slice_3_vid_5.csv size: (1966, 67)\n",
      "Adding file msd_NT_brain_3_slice_2_vid_4.csv size: (364, 67)\n",
      "Adding file msd_NT_brain_2_slice_2_vid_2.csv size: (2322, 67)\n",
      "Adding file msd_ChABC_brain_3_slice_2_vid_2.csv size: (636, 67)\n",
      "Adding file msd_ChABC_brain_2_slice_2_vid_4.csv size: (1244, 67)\n",
      "Adding file msd_ChABC_brain_4_slice_3_vid_1.csv size: (2099, 67)\n",
      "Adding file msd_ChABC_brain_1_slice_3_vid_2.csv size: (1307, 67)\n",
      "Adding file msd_NT_brain_4_slice_3_vid_3.csv size: (1706, 67)\n",
      "Adding file msd_NT_brain_4_slice_3_vid_2.csv size: (374, 67)\n",
      "Adding file msd_ChABC_brain_1_slice_3_vid_3.csv size: (650, 67)\n",
      "Adding file msd_NT_brain_1_slice_3_vid_1.csv size: (1372, 67)\n",
      "Adding file msd_ChABC_brain_3_slice_2_vid_3.csv size: (1285, 67)\n",
      "Adding file msd_ChABC_brain_2_slice_2_vid_5.csv size: (645, 67)\n",
      "Adding file msd_NT_brain_3_slice_2_vid_1.csv size: (840, 67)\n",
      "Adding file msd_NT_brain_3_slice_2_vid_3.csv size: (886, 67)\n",
      "Adding file msd_NT_brain_2_slice_2_vid_5.csv size: (2100, 67)\n",
      "Adding file msd_ChABC_brain_3_slice_2_vid_1.csv size: (994, 67)\n",
      "Adding file msd_NT_brain_1_slice_3_vid_3.csv size: (724, 67)\n",
      "Adding file msd_ChABC_brain_4_slice_3_vid_2.csv size: (4602, 67)\n",
      "Adding file msd_ChABC_brain_1_slice_3_vid_1.csv size: (1141, 67)\n",
      "Adding file msd_NT_brain_4_slice_3_vid_1.csv size: (678, 67)\n",
      "Adding file msd_ChABC_brain_4_slice_3_vid_3.csv size: (2091, 67)\n",
      "Adding file msd_NT_brain_1_slice_3_vid_2.csv size: (668, 67)\n",
      "Adding file msd_NT_brain_3_slice_2_vid_2.csv size: (572, 67)\n",
      "Adding file msd_NT_brain_2_slice_2_vid_4.csv size: (1650, 67)\n",
      "Adding file msd_NT_brain_4_slice_2_vid_5.csv size: (732, 67)\n",
      "Adding file msd_ChABC_brain_1_slice_2_vid_4.csv size: (1070, 67)\n",
      "Adding file msd_ChABC_brain_3_slice_3_vid_4.csv size: (381, 67)\n",
      "Adding file msd_ChABC_brain_2_slice_3_vid_2.csv size: (410, 67)\n",
      "Adding file msd_ChABC_brain_3_slice_3_vid_5.csv size: (364, 67)\n",
      "Adding file msd_ChABC_brain_2_slice_3_vid_3.csv size: (556, 67)\n",
      "Adding file msd_NT_brain_2_slice_3_vid_1.csv size: (562, 67)\n",
      "Adding file msd_ChABC_brain_1_slice_2_vid_5.csv size: (1097, 67)\n",
      "Adding file msd_NT_brain_4_slice_2_vid_4.csv size: (700, 67)\n",
      "Adding file msd_ChABC_brain_4_slice_2_vid_4.csv size: (1016, 67)\n",
      "Adding file msd_NT_brain_1_slice_2_vid_5.csv size: (1146, 67)\n",
      "Adding file msd_NT_brain_3_slice_3_vid_5.csv size: (493, 67)\n",
      "Adding file msd_NT_brain_2_slice_3_vid_3.csv size: (817, 67)\n",
      "Adding file msd_ChABC_brain_2_slice_3_vid_1.csv size: (786, 67)\n",
      "Adding file msd_NT_brain_3_slice_3_vid_4.csv size: (515, 67)\n",
      "Adding file msd_NT_brain_2_slice_3_vid_2.csv size: (853, 67)\n",
      "Adding file msd_NT_brain_1_slice_2_vid_4.csv size: (797, 67)\n",
      "Adding file msd_ChABC_brain_4_slice_2_vid_5.csv size: (861, 67)\n",
      "Adding file msd_ChABC_brain_4_slice_2_vid_1.csv size: (501, 67)\n",
      "Adding file msd_ChABC_brain_1_slice_2_vid_2.csv size: (690, 67)\n",
      "Adding file msd_NT_brain_4_slice_2_vid_3.csv size: (432, 67)\n",
      "Adding file msd_ChABC_brain_3_slice_3_vid_2.csv size: (597, 67)\n",
      "Adding file msd_ChABC_brain_2_slice_3_vid_4.csv size: (450, 67)\n",
      "Adding file msd_ChABC_brain_3_slice_3_vid_3.csv size: (919, 67)\n",
      "Adding file msd_ChABC_brain_2_slice_3_vid_5.csv size: (437, 67)\n",
      "Adding file msd_NT_brain_3_slice_3_vid_1.csv size: (596, 67)\n",
      "Adding file msd_NT_brain_4_slice_2_vid_2.csv size: (1195, 67)\n",
      "Adding file msd_ChABC_brain_1_slice_2_vid_3.csv size: (1257, 67)\n",
      "Adding file msd_NT_brain_1_slice_2_vid_1.csv size: (1173, 67)\n",
      "Adding file msd_NT_brain_1_slice_2_vid_3.csv size: (1443, 67)\n",
      "Adding file msd_ChABC_brain_4_slice_2_vid_2.csv size: (908, 67)\n",
      "Adding file msd_ChABC_brain_1_slice_2_vid_1.csv size: (1350, 67)\n",
      "Adding file msd_NT_brain_3_slice_3_vid_3.csv size: (434, 67)\n",
      "Adding file msd_NT_brain_2_slice_3_vid_5.csv size: (1062, 67)\n",
      "Adding file msd_ChABC_brain_3_slice_3_vid_1.csv size: (494, 67)\n",
      "Adding file msd_NT_brain_3_slice_3_vid_2.csv size: (378, 67)\n",
      "Adding file msd_NT_brain_2_slice_3_vid_4.csv size: (598, 67)\n",
      "Adding file msd_NT_brain_4_slice_2_vid_1.csv size: (381, 67)\n",
      "Adding file msd_ChABC_brain_4_slice_2_vid_3.csv size: (1052, 67)\n",
      "Adding file msd_NT_brain_1_slice_2_vid_2.csv size: (1476, 67)\n",
      "Adding file msd_ChABC_brain_1_slice_1_vid_5.csv size: (888, 67)\n",
      "Adding file msd_NT_brain_4_slice_1_vid_4.csv size: (526, 67)\n",
      "Adding file msd_NT_brain_4_slice_1_vid_5.csv size: (624, 67)\n",
      "Adding file msd_ChABC_brain_1_slice_1_vid_4.csv size: (258, 67)\n",
      "Adding file msd_NT_brain_1_slice_1_vid_4.csv size: (1524, 67)\n",
      "Adding file msd_ChABC_brain_4_slice_1_vid_5.csv size: (773, 67)\n",
      "Adding file msd_ChABC_brain_4_slice_1_vid_4.csv size: (2452, 67)\n",
      "Adding file msd_NT_brain_1_slice_1_vid_5.csv size: (674, 67)\n",
      "Adding file msd_NT_brain_4_slice_1_vid_2.csv size: (648, 67)\n",
      "Adding file msd_ChABC_brain_1_slice_1_vid_3.csv size: (593, 67)\n",
      "Adding file msd_NT_brain_1_slice_1_vid_1.csv size: (1161, 67)\n",
      "Adding file msd_ChABC_brain_4_slice_1_vid_1.csv size: (1625, 67)\n",
      "Adding file msd_ChABC_brain_1_slice_1_vid_2.csv size: (1734, 67)\n",
      "Adding file msd_NT_brain_4_slice_1_vid_3.csv size: (294, 67)\n",
      "Adding file msd_NT_brain_4_slice_1_vid_1.csv size: (780, 67)\n",
      "Adding file msd_ChABC_brain_4_slice_1_vid_3.csv size: (2688, 67)\n",
      "Adding file msd_NT_brain_1_slice_1_vid_2.csv size: (1479, 67)\n",
      "Adding file msd_NT_brain_1_slice_1_vid_3.csv size: (1560, 67)\n",
      "Adding file msd_ChABC_brain_4_slice_1_vid_2.csv size: (1315, 67)\n",
      "Adding file msd_ChABC_brain_1_slice_1_vid_1.csv size: (502, 67)\n",
      "Adding file msd_ChABC_brain_2_slice_1_vid_3.csv size: (1543, 67)\n",
      "Adding file msd_ChABC_brain_3_slice_1_vid_5.csv size: (1065, 67)\n",
      "Adding file msd_NT_brain_2_slice_1_vid_1.csv size: (416, 67)\n",
      "Adding file msd_ChABC_brain_2_slice_1_vid_2.csv size: (2291, 67)\n",
      "Adding file msd_ChABC_brain_3_slice_1_vid_4.csv size: (714, 67)\n",
      "Adding file msd_NT_brain_2_slice_1_vid_2.csv size: (833, 67)\n",
      "Adding file msd_NT_brain_3_slice_1_vid_4.csv size: (3271, 67)\n",
      "Adding file msd_NT_brain_2_slice_1_vid_3.csv size: (1017, 67)\n",
      "Adding file msd_NT_brain_3_slice_1_vid_5.csv size: (3054, 67)\n",
      "Adding file msd_ChABC_brain_2_slice_1_vid_1.csv size: (1133, 67)\n",
      "Adding file msd_ChABC_brain_2_slice_1_vid_5.csv size: (2342, 67)\n",
      "Adding file msd_ChABC_brain_3_slice_1_vid_3.csv size: (1080, 67)\n",
      "Adding file msd_NT_brain_3_slice_1_vid_1.csv size: (2917, 67)\n",
      "Adding file msd_ChABC_brain_2_slice_1_vid_4.csv size: (952, 67)\n",
      "Adding file msd_ChABC_brain_3_slice_1_vid_2.csv size: (925, 67)\n",
      "Adding file msd_NT_brain_2_slice_1_vid_4.csv size: (878, 67)\n",
      "Adding file msd_NT_brain_3_slice_1_vid_2.csv size: (2268, 67)\n",
      "Adding file msd_NT_brain_2_slice_1_vid_5.csv size: (467, 67)\n",
      "Adding file msd_NT_brain_3_slice_1_vid_3.csv size: (3859, 67)\n",
      "Adding file msd_ChABC_brain_3_slice_1_vid_1.csv size: (1225, 67)\n"
     ]
    }
   ],
   "source": [
    "fstats_tot_treatment = data_process.generate_fullstats(treatment_dataset_path, treatment_filelist, ['NT', 'ChABC'], 'treatment')"
   ]
  },
  {
   "cell_type": "code",
   "execution_count": 41,
   "metadata": {},
   "outputs": [
    {
     "name": "stdout",
     "output_type": "stream",
     "text": [
      "(142453, 36)\n"
     ]
    },
    {
     "data": {
      "text/plain": [
       "(117505, 36)"
      ]
     },
     "execution_count": 41,
     "metadata": {},
     "output_type": "execute_result"
    }
   ],
   "source": [
    "target = 'treatment'\n",
    "ecm = fstats_tot_treatment[feature_list + [target, 'Track_ID', 'X', 'Y']] #dont think i need these rn\n",
    "print(ecm.shape)\n",
    "ecm = ecm[~ecm[list(set(feature_list) - set(['Deff2', 'Mean Deff2']))].isin([np.nan, np.inf, -np.inf]).any(1)]       # Removing nan and inf data points\n",
    "ecm.shape"
   ]
  },
  {
   "cell_type": "code",
   "execution_count": 42,
   "metadata": {},
   "outputs": [
    {
     "name": "stdout",
     "output_type": "stream",
     "text": [
      "Ratio before data balance (ChABC:NT) = 59511:57994\n",
      "Ratio after balance (ChABC:NT) = 57994:57994\n"
     ]
    }
   ],
   "source": [
    "bal_ecm = data_process.balance_data(ecm, target, random_state=1)\n",
    "bal_ecm = data_process.bin_data(bal_ecm, resolution=128)\n",
    "bal_ecm = bal_ecm.reset_index(drop=True)"
   ]
  },
  {
   "cell_type": "code",
   "execution_count": 43,
   "metadata": {},
   "outputs": [],
   "source": [
    "label_df = bal_ecm[target].copy()\n",
    "features_df = bal_ecm.drop([target, 'Track_ID', 'X', 'Y', 'binx', 'biny', 'bins'], axis=1)\n",
    "features = features_df.columns"
   ]
  },
  {
   "cell_type": "code",
   "execution_count": 44,
   "metadata": {},
   "outputs": [],
   "source": [
    "from numpy.random import permutation\n",
    "perm = permutation(len(label_df))\n",
    "label_shuffled = label_df[perm]"
   ]
  },
  {
   "cell_type": "code",
   "execution_count": 45,
   "metadata": {},
   "outputs": [],
   "source": [
    "# Regular split\n",
    "\n",
    "seed = 1234\n",
    "np.random.seed(seed)\n",
    "train_split = 0.5\n",
    "test_split = 0.5\n",
    "\n",
    "le = preprocessing.LabelEncoder()\n",
    "bal_ecm['encoded_target'] = le.fit_transform(label_shuffled)\n",
    "\n",
    "training_bins = np.random.choice(bal_ecm.bins.unique(), int(len(bal_ecm.bins.unique())*train_split), replace=False)\n",
    "\n",
    "X_train = bal_ecm[bal_ecm.bins.isin(training_bins)]\n",
    "X_test_val = bal_ecm[~bal_ecm.bins.isin(training_bins)]\n",
    "X_val, X_test = train_test_split(X_test_val, test_size=test_split, random_state=seed)\n",
    "\n",
    "y_train = X_train['encoded_target']\n",
    "y_test = X_test['encoded_target']\n",
    "y_val = X_val['encoded_target']\n",
    "\n",
    "# dtrain = X_train[features]\n",
    "# dtest = X_test[features]\n",
    "# dval = X_val[features]\n",
    "\n",
    "dtrain = xgb.DMatrix(X_train[features], label=y_train)\n",
    "dtest = xgb.DMatrix(X_test[features], label=y_test)\n",
    "dval = xgb.DMatrix(X_val[features], label=y_val)"
   ]
  },
  {
   "cell_type": "code",
   "execution_count": 46,
   "metadata": {},
   "outputs": [],
   "source": [
    "best_param = {'max_depth': 5, 'eta': 0.05, 'min_child_weight': 0, 'verbosity': 0, 'objective': 'multi:softprob', 'num_class': 2, 'silent': 'True', 'gamma': 2.0, 'subsample': 0.15, 'colsample_bytree': 0.8, 'eval_metric': 'mlogloss'}\n",
    "best_boost_rounds = 57"
   ]
  },
  {
   "cell_type": "code",
   "execution_count": 47,
   "metadata": {},
   "outputs": [
    {
     "name": "stdout",
     "output_type": "stream",
     "text": [
      "Accuracy: 0.49946111323575426\n"
     ]
    }
   ],
   "source": [
    "booster, acc, true_label, preds = predxgboost.train(best_param, dtrain, dtest, dval, evals=[(dtrain, 'train'), (dval, 'eval')], num_round=best_boost_rounds, verbose=False)"
   ]
  },
  {
   "cell_type": "code",
   "execution_count": 48,
   "metadata": {},
   "outputs": [
    {
     "name": "stdout",
     "output_type": "stream",
     "text": [
      "              precision    recall  f1-score   support\n",
      "\n",
      "       ChABC     0.5010    0.4890    0.4949     14426\n",
      "          NT     0.4980    0.5100    0.5039     14337\n",
      "\n",
      "    accuracy                         0.4995     28763\n",
      "   macro avg     0.4995    0.4995    0.4994     28763\n",
      "weighted avg     0.4995    0.4995    0.4994     28763\n",
      "\n"
     ]
    }
   ],
   "source": [
    "class_names = le.classes_\n",
    "class_results = classification_report(y_test, preds, digits=4, target_names = class_names)\n",
    "print(str(class_results))"
   ]
  },
  {
   "cell_type": "code",
   "execution_count": 61,
   "metadata": {},
   "outputs": [
    {
     "data": {
      "image/png": "[encoded data removed]",
      "text/plain": [
       "<Figure size 864x720 with 2 Axes>"
      ]
     },
     "metadata": {},
     "output_type": "display_data"
    }
   ],
   "source": [
    "metrics.confusion_matrix(y_test, preds)\n",
    "plt.figure(figsize=(12,10))\n",
    "cm_array = metrics.confusion_matrix(y_test, preds)\n",
    "df_cm = pd.DataFrame(cm_array, index = class_names, columns = class_names)\n",
    "\n",
    "sns.set(font_scale=1.4) # for label size\n",
    "ax = sns.heatmap(df_cm, annot=True, annot_kws={\"size\": 16}, cmap=\"YlGnBu\")\n",
    "ax.set(xlabel='Predicted', ylabel='Actual')\n",
    "\n",
    "plt.show()"
   ]
  },
  {
   "cell_type": "code",
   "execution_count": 49,
   "metadata": {},
   "outputs": [
    {
     "data": {
      "image/png": "[encoded data removed]",
      "text/plain": [
       "<Figure size 576x540 with 1 Axes>"
      ]
     },
     "metadata": {},
     "output_type": "display_data"
    }
   ],
   "source": [
    "from matplotlib import colors as plt_colors\n",
    "\n",
    "explainer = shap.TreeExplainer(booster)\n",
    "shap_values = explainer.shap_values(X_test[features])\n",
    "c_NT = '#fc8d59'\n",
    "#c_HYase = '#ffffbf'\n",
    "c_ChABC = '#91bfdb'\n",
    "\n",
    "colors = [c_ChABC, c_NT]\n",
    "class_inds = np.argsort([-np.abs(shap_values[i]).mean() for i in range(len(shap_values))])\n",
    "cmap = plt_colors.ListedColormap(np.array(colors)[class_inds])\n",
    "shap.summary_plot(shap_values, X_test[features], class_names=np.array(class_names), max_display=15, title='Total SHAP Values', color=cmap)\n"
   ]
  },
  {
   "cell_type": "code",
   "execution_count": null,
   "metadata": {},
   "outputs": [],
   "source": []
  }
 ],
 "metadata": {
  "interpreter": {
   "hash": "40d3a090f54c6569ab1632332b64b2c03c39dcf918b08424e98f38b5ae0af88f"
  },
  "kernelspec": {
   "display_name": "Python 3.7.7 64-bit ('base': conda)",
   "name": "python3"
  },
  "language_info": {
   "codemirror_mode": {
    "name": "ipython",
    "version": 3
   },
   "file_extension": ".py",
   "mimetype": "text/x-python",
   "name": "python",
   "nbconvert_exporter": "python",
   "pygments_lexer": "ipython3",
   "version": "3.7.7"
  },
  "orig_nbformat": 4
 },
 "nbformat": 4,
 "nbformat_minor": 2
}
