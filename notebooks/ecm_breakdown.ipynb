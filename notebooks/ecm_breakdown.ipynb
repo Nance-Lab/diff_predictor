{
 "metadata": {
  "language_info": {
   "codemirror_mode": {
    "name": "ipython",
    "version": 3
   },
   "file_extension": ".py",
   "mimetype": "text/x-python",
   "name": "python",
   "nbconvert_exporter": "python",
   "pygments_lexer": "ipython3",
   "version": "3.7.7-final"
  },
  "orig_nbformat": 2,
  "kernelspec": {
   "name": "python3",
   "display_name": "Python 3"
  }
 },
 "nbformat": 4,
 "nbformat_minor": 2,
 "cells": [
  {
   "cell_type": "code",
   "execution_count": 2,
   "metadata": {},
   "outputs": [],
   "source": [
    "# libraries used\n",
    "import boto3\n",
    "import diff_classifier.aws as aws\n",
    "import pandas as pd\n",
    "import seaborn as sn\n",
    "import numpy as np\n",
    "import matplotlib.pyplot as plt\n",
    "from diff_classifier.features import calculate_features\n",
    "from os import listdir, getcwd, chdir\n",
    "from os.path import isfile, join\n",
    "import os\n",
    "\n",
    "from matplotlib import colors as plt_colors"
   ]
  },
  {
   "cell_type": "code",
   "execution_count": 3,
   "metadata": {},
   "outputs": [
    {
     "output_type": "stream",
     "name": "stdout",
     "text": [
      "Current Notebook Dir: /Users/nelsschimek/Documents/Nance Lab/diff_predictor/notebooks\nUsing current directory for loading data: /Users/nelsschimek/Documents/Nance Lab/diff_predictor\n"
     ]
    }
   ],
   "source": [
    "workbookDir = getcwd()\n",
    "print('Current Notebook Dir: ' + workbookDir)\n",
    "chdir(workbookDir) # Go to current workbook Dir\n",
    "chdir('..')        # Go up one\n",
    "print(f'Using current directory for loading data: {getcwd()}')\n",
    "workbookDir = getcwd()"
   ]
  },
  {
   "cell_type": "code",
   "execution_count": 20,
   "metadata": {},
   "outputs": [
    {
     "output_type": "execute_result",
     "data": {
      "text/plain": [
       "(582, 24)"
      ]
     },
     "metadata": {},
     "execution_count": 20
    }
   ],
   "source": [
    "df.shape"
   ]
  },
  {
   "cell_type": "code",
   "execution_count": 22,
   "metadata": {},
   "outputs": [
    {
     "output_type": "error",
     "ename": "KeyError",
     "evalue": "'Frame'",
     "traceback": [
      "\u001b[0;31m---------------------------------------------------------------------------\u001b[0m",
      "\u001b[0;31mKeyError\u001b[0m                                  Traceback (most recent call last)",
      "\u001b[0;32m<ipython-input-22-0b0d5c585394>\u001b[0m in \u001b[0;36m<module>\u001b[0;34m\u001b[0m\n\u001b[1;32m      1\u001b[0m \u001b[0mdf\u001b[0m \u001b[0;34m=\u001b[0m \u001b[0mpd\u001b[0m\u001b[0;34m.\u001b[0m\u001b[0mread_csv\u001b[0m\u001b[0;34m(\u001b[0m\u001b[0mdataset_path\u001b[0m \u001b[0;34m+\u001b[0m \u001b[0;34m'/features_ChABC_brain_2_slice_3_vid_3.csv'\u001b[0m\u001b[0;34m)\u001b[0m\u001b[0;34m\u001b[0m\u001b[0;34m\u001b[0m\u001b[0m\n\u001b[0;32m----> 2\u001b[0;31m \u001b[0moutput\u001b[0m \u001b[0;34m=\u001b[0m \u001b[0mcalculate_features\u001b[0m\u001b[0;34m(\u001b[0m\u001b[0mdf\u001b[0m\u001b[0;34m)\u001b[0m\u001b[0;34m\u001b[0m\u001b[0;34m\u001b[0m\u001b[0m\n\u001b[0m",
      "\u001b[0;32m~/Documents/Nance Lab/diff_predictor/diff_classifier/diff_classifier/features.py\u001b[0m in \u001b[0;36mcalculate_features\u001b[0;34m(dframe, framerate, frame, mean_values)\u001b[0m\n\u001b[1;32m    791\u001b[0m                                                     ascending=[\n\u001b[1;32m    792\u001b[0m                                                     \u001b[0;36m1\u001b[0m\u001b[0;34m,\u001b[0m\u001b[0;34m\u001b[0m\u001b[0;34m\u001b[0m\u001b[0m\n\u001b[0;32m--> 793\u001b[0;31m                                                     1]).reset_index(drop=True)\n\u001b[0m\u001b[1;32m    794\u001b[0m         \u001b[0msingle_track\u001b[0m \u001b[0;34m=\u001b[0m \u001b[0munmask_track\u001b[0m\u001b[0;34m(\u001b[0m\u001b[0msingle_track_masked\u001b[0m\u001b[0;34m)\u001b[0m\u001b[0;34m\u001b[0m\u001b[0;34m\u001b[0m\u001b[0m\n\u001b[1;32m    795\u001b[0m         (datai['alpha'][particle],\n",
      "\u001b[0;32m/opt/anaconda3/lib/python3.7/site-packages/pandas/core/frame.py\u001b[0m in \u001b[0;36msort_values\u001b[0;34m(self, by, axis, ascending, inplace, kind, na_position, ignore_index)\u001b[0m\n\u001b[1;32m   4918\u001b[0m             \u001b[0;32mfrom\u001b[0m \u001b[0mpandas\u001b[0m\u001b[0;34m.\u001b[0m\u001b[0mcore\u001b[0m\u001b[0;34m.\u001b[0m\u001b[0msorting\u001b[0m \u001b[0;32mimport\u001b[0m \u001b[0mlexsort_indexer\u001b[0m\u001b[0;34m\u001b[0m\u001b[0;34m\u001b[0m\u001b[0m\n\u001b[1;32m   4919\u001b[0m \u001b[0;34m\u001b[0m\u001b[0m\n\u001b[0;32m-> 4920\u001b[0;31m             \u001b[0mkeys\u001b[0m \u001b[0;34m=\u001b[0m \u001b[0;34m[\u001b[0m\u001b[0mself\u001b[0m\u001b[0;34m.\u001b[0m\u001b[0m_get_label_or_level_values\u001b[0m\u001b[0;34m(\u001b[0m\u001b[0mx\u001b[0m\u001b[0;34m,\u001b[0m \u001b[0maxis\u001b[0m\u001b[0;34m=\u001b[0m\u001b[0maxis\u001b[0m\u001b[0;34m)\u001b[0m \u001b[0;32mfor\u001b[0m \u001b[0mx\u001b[0m \u001b[0;32min\u001b[0m \u001b[0mby\u001b[0m\u001b[0;34m]\u001b[0m\u001b[0;34m\u001b[0m\u001b[0;34m\u001b[0m\u001b[0m\n\u001b[0m\u001b[1;32m   4921\u001b[0m             \u001b[0mindexer\u001b[0m \u001b[0;34m=\u001b[0m \u001b[0mlexsort_indexer\u001b[0m\u001b[0;34m(\u001b[0m\u001b[0mkeys\u001b[0m\u001b[0;34m,\u001b[0m \u001b[0morders\u001b[0m\u001b[0;34m=\u001b[0m\u001b[0mascending\u001b[0m\u001b[0;34m,\u001b[0m \u001b[0mna_position\u001b[0m\u001b[0;34m=\u001b[0m\u001b[0mna_position\u001b[0m\u001b[0;34m)\u001b[0m\u001b[0;34m\u001b[0m\u001b[0;34m\u001b[0m\u001b[0m\n\u001b[1;32m   4922\u001b[0m             \u001b[0mindexer\u001b[0m \u001b[0;34m=\u001b[0m \u001b[0mensure_platform_int\u001b[0m\u001b[0;34m(\u001b[0m\u001b[0mindexer\u001b[0m\u001b[0;34m)\u001b[0m\u001b[0;34m\u001b[0m\u001b[0;34m\u001b[0m\u001b[0m\n",
      "\u001b[0;32m/opt/anaconda3/lib/python3.7/site-packages/pandas/core/frame.py\u001b[0m in \u001b[0;36m<listcomp>\u001b[0;34m(.0)\u001b[0m\n\u001b[1;32m   4918\u001b[0m             \u001b[0;32mfrom\u001b[0m \u001b[0mpandas\u001b[0m\u001b[0;34m.\u001b[0m\u001b[0mcore\u001b[0m\u001b[0;34m.\u001b[0m\u001b[0msorting\u001b[0m \u001b[0;32mimport\u001b[0m \u001b[0mlexsort_indexer\u001b[0m\u001b[0;34m\u001b[0m\u001b[0;34m\u001b[0m\u001b[0m\n\u001b[1;32m   4919\u001b[0m \u001b[0;34m\u001b[0m\u001b[0m\n\u001b[0;32m-> 4920\u001b[0;31m             \u001b[0mkeys\u001b[0m \u001b[0;34m=\u001b[0m \u001b[0;34m[\u001b[0m\u001b[0mself\u001b[0m\u001b[0;34m.\u001b[0m\u001b[0m_get_label_or_level_values\u001b[0m\u001b[0;34m(\u001b[0m\u001b[0mx\u001b[0m\u001b[0;34m,\u001b[0m \u001b[0maxis\u001b[0m\u001b[0;34m=\u001b[0m\u001b[0maxis\u001b[0m\u001b[0;34m)\u001b[0m \u001b[0;32mfor\u001b[0m \u001b[0mx\u001b[0m \u001b[0;32min\u001b[0m \u001b[0mby\u001b[0m\u001b[0;34m]\u001b[0m\u001b[0;34m\u001b[0m\u001b[0;34m\u001b[0m\u001b[0m\n\u001b[0m\u001b[1;32m   4921\u001b[0m             \u001b[0mindexer\u001b[0m \u001b[0;34m=\u001b[0m \u001b[0mlexsort_indexer\u001b[0m\u001b[0;34m(\u001b[0m\u001b[0mkeys\u001b[0m\u001b[0;34m,\u001b[0m \u001b[0morders\u001b[0m\u001b[0;34m=\u001b[0m\u001b[0mascending\u001b[0m\u001b[0;34m,\u001b[0m \u001b[0mna_position\u001b[0m\u001b[0;34m=\u001b[0m\u001b[0mna_position\u001b[0m\u001b[0;34m)\u001b[0m\u001b[0;34m\u001b[0m\u001b[0;34m\u001b[0m\u001b[0m\n\u001b[1;32m   4922\u001b[0m             \u001b[0mindexer\u001b[0m \u001b[0;34m=\u001b[0m \u001b[0mensure_platform_int\u001b[0m\u001b[0;34m(\u001b[0m\u001b[0mindexer\u001b[0m\u001b[0;34m)\u001b[0m\u001b[0;34m\u001b[0m\u001b[0;34m\u001b[0m\u001b[0m\n",
      "\u001b[0;32m/opt/anaconda3/lib/python3.7/site-packages/pandas/core/generic.py\u001b[0m in \u001b[0;36m_get_label_or_level_values\u001b[0;34m(self, key, axis)\u001b[0m\n\u001b[1;32m   1690\u001b[0m             \u001b[0mvalues\u001b[0m \u001b[0;34m=\u001b[0m \u001b[0mself\u001b[0m\u001b[0;34m.\u001b[0m\u001b[0maxes\u001b[0m\u001b[0;34m[\u001b[0m\u001b[0maxis\u001b[0m\u001b[0;34m]\u001b[0m\u001b[0;34m.\u001b[0m\u001b[0mget_level_values\u001b[0m\u001b[0;34m(\u001b[0m\u001b[0mkey\u001b[0m\u001b[0;34m)\u001b[0m\u001b[0;34m.\u001b[0m\u001b[0m_values\u001b[0m\u001b[0;34m\u001b[0m\u001b[0;34m\u001b[0m\u001b[0m\n\u001b[1;32m   1691\u001b[0m         \u001b[0;32melse\u001b[0m\u001b[0;34m:\u001b[0m\u001b[0;34m\u001b[0m\u001b[0;34m\u001b[0m\u001b[0m\n\u001b[0;32m-> 1692\u001b[0;31m             \u001b[0;32mraise\u001b[0m \u001b[0mKeyError\u001b[0m\u001b[0;34m(\u001b[0m\u001b[0mkey\u001b[0m\u001b[0;34m)\u001b[0m\u001b[0;34m\u001b[0m\u001b[0;34m\u001b[0m\u001b[0m\n\u001b[0m\u001b[1;32m   1693\u001b[0m \u001b[0;34m\u001b[0m\u001b[0m\n\u001b[1;32m   1694\u001b[0m         \u001b[0;31m# Check for duplicates\u001b[0m\u001b[0;34m\u001b[0m\u001b[0;34m\u001b[0m\u001b[0;34m\u001b[0m\u001b[0m\n",
      "\u001b[0;31mKeyError\u001b[0m: 'Frame'"
     ]
    }
   ],
   "source": [
    "df = pd.read_csv(dataset_path + '/features_ChABC_brain_2_slice_3_vid_3.csv')\n",
    "output = calculate_features(df)"
   ]
  },
  {
   "cell_type": "code",
   "execution_count": 14,
   "metadata": {},
   "outputs": [
    {
     "output_type": "execute_result",
     "data": {
      "text/plain": [
       "['features_NT_brain_1_slice_1_vid_2.csv',\n",
       " 'features_ChABC_brain_4_slice_3_vid_5.csv',\n",
       " 'features_NT_brain_4_slice_1_vid_1.csv',\n",
       " 'features_HYase_brain_4_slice_2_vid_3.csv',\n",
       " 'features_ChABC_brain_2_slice_2_vid_1.csv',\n",
       " 'features_HYase_brain_3_slice_3_vid_1.csv',\n",
       " 'features_HYase_brain_4_slice_2_vid_2.csv',\n",
       " 'features_ChABC_brain_4_slice_3_vid_4.csv',\n",
       " 'features_HYase_brain_1_slice_2_vid_1.csv',\n",
       " 'features_NT_brain_1_slice_1_vid_3.csv',\n",
       " 'features_NT_brain_1_slice_1_vid_1.csv',\n",
       " 'features_HYase_brain_1_slice_2_vid_3.csv',\n",
       " 'features_NT_brain_4_slice_1_vid_2.csv',\n",
       " 'features_ChABC_brain_1_slice_3_vid_5.csv',\n",
       " 'features_HYase_brain_2_slice_3_vid_5.csv',\n",
       " 'features_HYase_brain_3_slice_3_vid_3.csv',\n",
       " 'features_ChABC_brain_3_slice_2_vid_5.csv',\n",
       " 'features_ChABC_brain_2_slice_2_vid_3.csv',\n",
       " 'features_ChABC_brain_3_slice_2_vid_4.csv',\n",
       " 'features_ChABC_brain_2_slice_2_vid_2.csv',\n",
       " 'features_HYase_brain_2_slice_3_vid_4.csv',\n",
       " 'features_HYase_brain_3_slice_3_vid_2.csv',\n",
       " 'features_HYase_brain_4_slice_2_vid_1.csv',\n",
       " 'features_ChABC_brain_1_slice_3_vid_4.csv',\n",
       " 'features_NT_brain_4_slice_1_vid_3.csv',\n",
       " 'features_HYase_brain_1_slice_2_vid_2.csv',\n",
       " 'features_NT_brain_1_slice_1_vid_4.csv',\n",
       " 'features_ChABC_brain_4_slice_3_vid_3.csv',\n",
       " 'features_HYase_brain_4_slice_2_vid_5.csv',\n",
       " 'features_ChABC_brain_3_slice_2_vid_1.csv',\n",
       " 'features_HYase_brain_2_slice_3_vid_1.csv',\n",
       " 'features_ChABC_brain_1_slice_3_vid_1.csv',\n",
       " 'features_HYase_brain_4_slice_2_vid_4.csv',\n",
       " 'features_ChABC_brain_4_slice_3_vid_2.csv',\n",
       " 'features_NT_brain_1_slice_1_vid_5.csv',\n",
       " 'features_HYase_brain_1_slice_2_vid_5.csv',\n",
       " 'features_NT_brain_4_slice_1_vid_4.csv',\n",
       " 'features_ChABC_brain_1_slice_3_vid_3.csv',\n",
       " 'features_HYase_brain_2_slice_3_vid_3.csv',\n",
       " 'features_HYase_brain_3_slice_3_vid_5.csv',\n",
       " 'features_ChABC_brain_3_slice_2_vid_3.csv',\n",
       " 'features_ChABC_brain_2_slice_2_vid_5.csv',\n",
       " 'features_ChABC_brain_3_slice_2_vid_2.csv',\n",
       " 'features_ChABC_brain_2_slice_2_vid_4.csv',\n",
       " 'features_HYase_brain_2_slice_3_vid_2.csv',\n",
       " 'features_HYase_brain_3_slice_3_vid_4.csv',\n",
       " 'features_ChABC_brain_1_slice_3_vid_2.csv',\n",
       " 'features_NT_brain_4_slice_1_vid_5.csv',\n",
       " 'features_HYase_brain_1_slice_2_vid_4.csv',\n",
       " 'features_ChABC_brain_4_slice_3_vid_1.csv',\n",
       " 'features_NT_brain_3_slice_1_vid_2.csv',\n",
       " 'features_NT_brain_2_slice_1_vid_4.csv',\n",
       " 'features_ChABC_brain_4_slice_2_vid_5.csv',\n",
       " 'features_HYase_brain_4_slice_3_vid_3.csv',\n",
       " 'features_HYase_brain_4_slice_3_vid_2.csv',\n",
       " 'features_HYase_brain_1_slice_3_vid_1.csv',\n",
       " 'features_ChABC_brain_4_slice_2_vid_4.csv',\n",
       " 'features_ChABC_brain_2_slice_3_vid_1.csv',\n",
       " 'features_NT_brain_3_slice_1_vid_3.csv',\n",
       " 'features_NT_brain_2_slice_1_vid_5.csv',\n",
       " 'features_HYase_brain_3_slice_2_vid_1.csv',\n",
       " 'features_HYase_brain_2_slice_2_vid_5.csv',\n",
       " 'features_HYase_brain_3_slice_2_vid_3.csv',\n",
       " 'features_NT_brain_3_slice_1_vid_1.csv',\n",
       " 'features_ChABC_brain_3_slice_3_vid_5.csv',\n",
       " 'features_ChABC_brain_2_slice_3_vid_3.csv',\n",
       " 'features_HYase_brain_1_slice_3_vid_3.csv',\n",
       " 'features_ChABC_brain_1_slice_2_vid_5.csv',\n",
       " 'features_ChABC_brain_1_slice_2_vid_4.csv',\n",
       " 'features_HYase_brain_4_slice_3_vid_1.csv',\n",
       " 'features_HYase_brain_1_slice_3_vid_2.csv',\n",
       " 'features_ChABC_brain_3_slice_3_vid_4.csv',\n",
       " 'features_ChABC_brain_2_slice_3_vid_2.csv',\n",
       " 'features_HYase_brain_2_slice_2_vid_4.csv',\n",
       " 'features_HYase_brain_3_slice_2_vid_2.csv',\n",
       " 'features_NT_brain_3_slice_1_vid_4.csv',\n",
       " 'features_NT_brain_2_slice_1_vid_2.csv',\n",
       " 'features_ChABC_brain_4_slice_2_vid_3.csv',\n",
       " 'features_HYase_brain_4_slice_3_vid_5.csv',\n",
       " 'features_HYase_brain_4_slice_3_vid_4.csv',\n",
       " 'features_ChABC_brain_1_slice_2_vid_1.csv',\n",
       " 'features_ChABC_brain_4_slice_2_vid_2.csv',\n",
       " 'features_ChABC_brain_3_slice_3_vid_1.csv',\n",
       " 'features_NT_brain_3_slice_1_vid_5.csv',\n",
       " 'features_NT_brain_2_slice_1_vid_3.csv',\n",
       " 'features_HYase_brain_2_slice_2_vid_1.csv',\n",
       " 'features_HYase_brain_2_slice_2_vid_3.csv',\n",
       " 'features_HYase_brain_3_slice_2_vid_5.csv',\n",
       " 'features_NT_brain_2_slice_1_vid_1.csv',\n",
       " 'features_ChABC_brain_3_slice_3_vid_3.csv',\n",
       " 'features_ChABC_brain_2_slice_3_vid_5.csv',\n",
       " 'features_HYase_brain_1_slice_3_vid_5.csv',\n",
       " 'features_ChABC_brain_1_slice_2_vid_3.csv',\n",
       " 'features_ChABC_brain_1_slice_2_vid_2.csv',\n",
       " 'features_ChABC_brain_4_slice_2_vid_1.csv',\n",
       " 'features_HYase_brain_1_slice_3_vid_4.csv',\n",
       " 'features_ChABC_brain_3_slice_3_vid_2.csv',\n",
       " 'features_ChABC_brain_2_slice_3_vid_4.csv',\n",
       " 'features_HYase_brain_2_slice_2_vid_2.csv',\n",
       " 'features_HYase_brain_3_slice_2_vid_4.csv',\n",
       " 'features_HYase_brain_3_slice_1_vid_1.csv',\n",
       " 'features_NT_brain_2_slice_2_vid_5.csv',\n",
       " 'features_NT_brain_3_slice_2_vid_3.csv',\n",
       " 'features_NT_brain_1_slice_3_vid_3.csv',\n",
       " 'features_ChABC_brain_4_slice_1_vid_4.csv',\n",
       " 'features_ChABC_brain_4_slice_1_vid_5.csv',\n",
       " 'features_NT_brain_1_slice_3_vid_2.csv',\n",
       " 'features_NT_brain_4_slice_3_vid_1.csv',\n",
       " 'features_NT_brain_2_slice_2_vid_4.csv',\n",
       " 'features_NT_brain_3_slice_2_vid_2.csv',\n",
       " 'features_HYase_brain_3_slice_1_vid_2.csv',\n",
       " 'features_HYase_brain_2_slice_1_vid_4.csv',\n",
       " 'features_NT_brain_4_slice_3_vid_3.csv',\n",
       " 'features_ChABC_brain_1_slice_1_vid_4.csv',\n",
       " 'features_NT_brain_1_slice_3_vid_1.csv',\n",
       " 'features_ChABC_brain_1_slice_1_vid_5.csv',\n",
       " 'features_NT_brain_4_slice_3_vid_2.csv',\n",
       " 'features_NT_brain_3_slice_2_vid_1.csv',\n",
       " 'features_HYase_brain_3_slice_1_vid_3.csv',\n",
       " 'features_HYase_brain_2_slice_1_vid_5.csv',\n",
       " 'features_HYase_brain_2_slice_1_vid_1.csv',\n",
       " 'features_NT_brain_2_slice_2_vid_3.csv',\n",
       " 'features_NT_brain_3_slice_2_vid_5.csv',\n",
       " 'features_ChABC_brain_1_slice_1_vid_1.csv',\n",
       " 'features_NT_brain_1_slice_3_vid_5.csv',\n",
       " 'features_ChABC_brain_4_slice_1_vid_2.csv',\n",
       " 'features_ChABC_brain_4_slice_1_vid_3.csv',\n",
       " 'features_NT_brain_1_slice_3_vid_4.csv',\n",
       " 'features_NT_brain_2_slice_2_vid_2.csv',\n",
       " 'features_NT_brain_3_slice_2_vid_4.csv',\n",
       " 'features_HYase_brain_3_slice_1_vid_4.csv',\n",
       " 'features_HYase_brain_2_slice_1_vid_2.csv',\n",
       " 'features_NT_brain_4_slice_3_vid_5.csv',\n",
       " 'features_ChABC_brain_1_slice_1_vid_2.csv',\n",
       " 'features_ChABC_brain_4_slice_1_vid_1.csv',\n",
       " 'features_ChABC_brain_1_slice_1_vid_3.csv',\n",
       " 'features_NT_brain_4_slice_3_vid_4.csv',\n",
       " 'features_NT_brain_2_slice_2_vid_1.csv',\n",
       " 'features_HYase_brain_3_slice_1_vid_5.csv',\n",
       " 'features_HYase_brain_2_slice_1_vid_3.csv',\n",
       " 'features_HYase_brain_4_slice_1_vid_2.csv',\n",
       " 'features_NT_brain_1_slice_2_vid_3.csv',\n",
       " 'features_HYase_brain_1_slice_1_vid_1.csv',\n",
       " 'features_ChABC_brain_2_slice_1_vid_1.csv',\n",
       " 'features_NT_brain_2_slice_3_vid_5.csv',\n",
       " 'features_NT_brain_3_slice_3_vid_3.csv',\n",
       " 'features_NT_brain_2_slice_3_vid_4.csv',\n",
       " 'features_NT_brain_3_slice_3_vid_2.csv',\n",
       " 'features_NT_brain_1_slice_2_vid_2.csv',\n",
       " 'features_HYase_brain_4_slice_1_vid_3.csv',\n",
       " 'features_NT_brain_4_slice_2_vid_1.csv',\n",
       " 'features_NT_brain_4_slice_2_vid_3.csv',\n",
       " 'features_HYase_brain_4_slice_1_vid_1.csv',\n",
       " 'features_HYase_brain_1_slice_1_vid_2.csv',\n",
       " 'features_ChABC_brain_2_slice_1_vid_2.csv',\n",
       " 'features_ChABC_brain_3_slice_1_vid_4.csv',\n",
       " 'features_NT_brain_3_slice_3_vid_1.csv',\n",
       " 'features_ChABC_brain_2_slice_1_vid_3.csv',\n",
       " 'features_ChABC_brain_3_slice_1_vid_5.csv',\n",
       " 'features_HYase_brain_1_slice_1_vid_3.csv',\n",
       " 'features_NT_brain_1_slice_2_vid_1.csv',\n",
       " 'features_NT_brain_4_slice_2_vid_2.csv',\n",
       " 'features_HYase_brain_4_slice_1_vid_4.csv',\n",
       " 'features_NT_brain_1_slice_2_vid_5.csv',\n",
       " 'features_ChABC_brain_3_slice_1_vid_1.csv',\n",
       " 'features_NT_brain_2_slice_3_vid_3.csv',\n",
       " 'features_NT_brain_3_slice_3_vid_5.csv',\n",
       " 'features_NT_brain_2_slice_3_vid_2.csv',\n",
       " 'features_NT_brain_3_slice_3_vid_4.csv',\n",
       " 'features_NT_brain_1_slice_2_vid_4.csv',\n",
       " 'features_HYase_brain_4_slice_1_vid_5.csv',\n",
       " 'features_NT_brain_4_slice_2_vid_5.csv',\n",
       " 'features_HYase_brain_1_slice_1_vid_4.csv',\n",
       " 'features_ChABC_brain_2_slice_1_vid_4.csv',\n",
       " 'features_ChABC_brain_3_slice_1_vid_2.csv',\n",
       " 'features_NT_brain_2_slice_3_vid_1.csv',\n",
       " 'features_ChABC_brain_2_slice_1_vid_5.csv',\n",
       " 'features_ChABC_brain_3_slice_1_vid_3.csv',\n",
       " 'features_HYase_brain_1_slice_1_vid_5.csv',\n",
       " 'features_NT_brain_4_slice_2_vid_4.csv']"
      ]
     },
     "metadata": {},
     "execution_count": 14
    }
   ],
   "source": [
    "dataset_path = workbookDir + '/pnn_feature_folder/'\n",
    "filelist = [f for f in listdir(dataset_path) if isfile(join(dataset_path, f)) and 'feat' in f]\n",
    "filelist"
   ]
  },
  {
   "cell_type": "code",
   "execution_count": 13,
   "metadata": {
    "tags": []
   },
   "outputs": [
    {
     "output_type": "stream",
     "name": "stdout",
     "text": [
      "features_NT_brain_1_slice_1_vid_2.csv\n"
     ]
    },
    {
     "output_type": "error",
     "ename": "KeyError",
     "evalue": "'Frame'",
     "traceback": [
      "\u001b[0;31m---------------------------------------------------------------------------\u001b[0m",
      "\u001b[0;31mKeyError\u001b[0m                                  Traceback (most recent call last)",
      "\u001b[0;32m<ipython-input-13-c44436e7e91e>\u001b[0m in \u001b[0;36m<module>\u001b[0;34m\u001b[0m\n\u001b[1;32m      2\u001b[0m     \u001b[0mprint\u001b[0m\u001b[0;34m(\u001b[0m\u001b[0mfilename\u001b[0m\u001b[0;34m)\u001b[0m\u001b[0;34m\u001b[0m\u001b[0;34m\u001b[0m\u001b[0m\n\u001b[1;32m      3\u001b[0m     \u001b[0mfile\u001b[0m \u001b[0;34m=\u001b[0m \u001b[0mpd\u001b[0m\u001b[0;34m.\u001b[0m\u001b[0mread_csv\u001b[0m\u001b[0;34m(\u001b[0m\u001b[0mdataset_path\u001b[0m \u001b[0;34m+\u001b[0m \u001b[0mfilename\u001b[0m\u001b[0;34m,\u001b[0m \u001b[0mencoding\u001b[0m \u001b[0;34m=\u001b[0m \u001b[0;34m\"ISO-8859-1\"\u001b[0m\u001b[0;34m,\u001b[0m \u001b[0mindex_col\u001b[0m\u001b[0;34m=\u001b[0m\u001b[0;34m'Unnamed: 0'\u001b[0m\u001b[0;34m)\u001b[0m\u001b[0;34m\u001b[0m\u001b[0;34m\u001b[0m\u001b[0m\n\u001b[0;32m----> 4\u001b[0;31m     \u001b[0mfeatures\u001b[0m \u001b[0;34m=\u001b[0m \u001b[0mcalculate_features\u001b[0m\u001b[0;34m(\u001b[0m\u001b[0mfile\u001b[0m\u001b[0;34m)\u001b[0m\u001b[0;34m\u001b[0m\u001b[0;34m\u001b[0m\u001b[0m\n\u001b[0m\u001b[1;32m      5\u001b[0m     \u001b[0mfeatures\u001b[0m\u001b[0;34m.\u001b[0m\u001b[0mto_csv\u001b[0m\u001b[0;34m(\u001b[0m\u001b[0;34m)\u001b[0m\u001b[0;34m\u001b[0m\u001b[0;34m\u001b[0m\u001b[0m\n",
      "\u001b[0;32m~/Documents/Nance Lab/diff_predictor/diff_classifier/diff_classifier/features.py\u001b[0m in \u001b[0;36mcalculate_features\u001b[0;34m(dframe, framerate, frame, mean_values)\u001b[0m\n\u001b[1;32m    791\u001b[0m                                                     ascending=[\n\u001b[1;32m    792\u001b[0m                                                     \u001b[0;36m1\u001b[0m\u001b[0;34m,\u001b[0m\u001b[0;34m\u001b[0m\u001b[0;34m\u001b[0m\u001b[0m\n\u001b[0;32m--> 793\u001b[0;31m                                                     1]).reset_index(drop=True)\n\u001b[0m\u001b[1;32m    794\u001b[0m         \u001b[0msingle_track\u001b[0m \u001b[0;34m=\u001b[0m \u001b[0munmask_track\u001b[0m\u001b[0;34m(\u001b[0m\u001b[0msingle_track_masked\u001b[0m\u001b[0;34m)\u001b[0m\u001b[0;34m\u001b[0m\u001b[0;34m\u001b[0m\u001b[0m\n\u001b[1;32m    795\u001b[0m         (datai['alpha'][particle],\n",
      "\u001b[0;32m/opt/anaconda3/lib/python3.7/site-packages/pandas/core/frame.py\u001b[0m in \u001b[0;36msort_values\u001b[0;34m(self, by, axis, ascending, inplace, kind, na_position, ignore_index)\u001b[0m\n\u001b[1;32m   4918\u001b[0m             \u001b[0;32mfrom\u001b[0m \u001b[0mpandas\u001b[0m\u001b[0;34m.\u001b[0m\u001b[0mcore\u001b[0m\u001b[0;34m.\u001b[0m\u001b[0msorting\u001b[0m \u001b[0;32mimport\u001b[0m \u001b[0mlexsort_indexer\u001b[0m\u001b[0;34m\u001b[0m\u001b[0;34m\u001b[0m\u001b[0m\n\u001b[1;32m   4919\u001b[0m \u001b[0;34m\u001b[0m\u001b[0m\n\u001b[0;32m-> 4920\u001b[0;31m             \u001b[0mkeys\u001b[0m \u001b[0;34m=\u001b[0m \u001b[0;34m[\u001b[0m\u001b[0mself\u001b[0m\u001b[0;34m.\u001b[0m\u001b[0m_get_label_or_level_values\u001b[0m\u001b[0;34m(\u001b[0m\u001b[0mx\u001b[0m\u001b[0;34m,\u001b[0m \u001b[0maxis\u001b[0m\u001b[0;34m=\u001b[0m\u001b[0maxis\u001b[0m\u001b[0;34m)\u001b[0m \u001b[0;32mfor\u001b[0m \u001b[0mx\u001b[0m \u001b[0;32min\u001b[0m \u001b[0mby\u001b[0m\u001b[0;34m]\u001b[0m\u001b[0;34m\u001b[0m\u001b[0;34m\u001b[0m\u001b[0m\n\u001b[0m\u001b[1;32m   4921\u001b[0m             \u001b[0mindexer\u001b[0m \u001b[0;34m=\u001b[0m \u001b[0mlexsort_indexer\u001b[0m\u001b[0;34m(\u001b[0m\u001b[0mkeys\u001b[0m\u001b[0;34m,\u001b[0m \u001b[0morders\u001b[0m\u001b[0;34m=\u001b[0m\u001b[0mascending\u001b[0m\u001b[0;34m,\u001b[0m \u001b[0mna_position\u001b[0m\u001b[0;34m=\u001b[0m\u001b[0mna_position\u001b[0m\u001b[0;34m)\u001b[0m\u001b[0;34m\u001b[0m\u001b[0;34m\u001b[0m\u001b[0m\n\u001b[1;32m   4922\u001b[0m             \u001b[0mindexer\u001b[0m \u001b[0;34m=\u001b[0m \u001b[0mensure_platform_int\u001b[0m\u001b[0;34m(\u001b[0m\u001b[0mindexer\u001b[0m\u001b[0;34m)\u001b[0m\u001b[0;34m\u001b[0m\u001b[0;34m\u001b[0m\u001b[0m\n",
      "\u001b[0;32m/opt/anaconda3/lib/python3.7/site-packages/pandas/core/frame.py\u001b[0m in \u001b[0;36m<listcomp>\u001b[0;34m(.0)\u001b[0m\n\u001b[1;32m   4918\u001b[0m             \u001b[0;32mfrom\u001b[0m \u001b[0mpandas\u001b[0m\u001b[0;34m.\u001b[0m\u001b[0mcore\u001b[0m\u001b[0;34m.\u001b[0m\u001b[0msorting\u001b[0m \u001b[0;32mimport\u001b[0m \u001b[0mlexsort_indexer\u001b[0m\u001b[0;34m\u001b[0m\u001b[0;34m\u001b[0m\u001b[0m\n\u001b[1;32m   4919\u001b[0m \u001b[0;34m\u001b[0m\u001b[0m\n\u001b[0;32m-> 4920\u001b[0;31m             \u001b[0mkeys\u001b[0m \u001b[0;34m=\u001b[0m \u001b[0;34m[\u001b[0m\u001b[0mself\u001b[0m\u001b[0;34m.\u001b[0m\u001b[0m_get_label_or_level_values\u001b[0m\u001b[0;34m(\u001b[0m\u001b[0mx\u001b[0m\u001b[0;34m,\u001b[0m \u001b[0maxis\u001b[0m\u001b[0;34m=\u001b[0m\u001b[0maxis\u001b[0m\u001b[0;34m)\u001b[0m \u001b[0;32mfor\u001b[0m \u001b[0mx\u001b[0m \u001b[0;32min\u001b[0m \u001b[0mby\u001b[0m\u001b[0;34m]\u001b[0m\u001b[0;34m\u001b[0m\u001b[0;34m\u001b[0m\u001b[0m\n\u001b[0m\u001b[1;32m   4921\u001b[0m             \u001b[0mindexer\u001b[0m \u001b[0;34m=\u001b[0m \u001b[0mlexsort_indexer\u001b[0m\u001b[0;34m(\u001b[0m\u001b[0mkeys\u001b[0m\u001b[0;34m,\u001b[0m \u001b[0morders\u001b[0m\u001b[0;34m=\u001b[0m\u001b[0mascending\u001b[0m\u001b[0;34m,\u001b[0m \u001b[0mna_position\u001b[0m\u001b[0;34m=\u001b[0m\u001b[0mna_position\u001b[0m\u001b[0;34m)\u001b[0m\u001b[0;34m\u001b[0m\u001b[0;34m\u001b[0m\u001b[0m\n\u001b[1;32m   4922\u001b[0m             \u001b[0mindexer\u001b[0m \u001b[0;34m=\u001b[0m \u001b[0mensure_platform_int\u001b[0m\u001b[0;34m(\u001b[0m\u001b[0mindexer\u001b[0m\u001b[0;34m)\u001b[0m\u001b[0;34m\u001b[0m\u001b[0;34m\u001b[0m\u001b[0m\n",
      "\u001b[0;32m/opt/anaconda3/lib/python3.7/site-packages/pandas/core/generic.py\u001b[0m in \u001b[0;36m_get_label_or_level_values\u001b[0;34m(self, key, axis)\u001b[0m\n\u001b[1;32m   1690\u001b[0m             \u001b[0mvalues\u001b[0m \u001b[0;34m=\u001b[0m \u001b[0mself\u001b[0m\u001b[0;34m.\u001b[0m\u001b[0maxes\u001b[0m\u001b[0;34m[\u001b[0m\u001b[0maxis\u001b[0m\u001b[0;34m]\u001b[0m\u001b[0;34m.\u001b[0m\u001b[0mget_level_values\u001b[0m\u001b[0;34m(\u001b[0m\u001b[0mkey\u001b[0m\u001b[0;34m)\u001b[0m\u001b[0;34m.\u001b[0m\u001b[0m_values\u001b[0m\u001b[0;34m\u001b[0m\u001b[0;34m\u001b[0m\u001b[0m\n\u001b[1;32m   1691\u001b[0m         \u001b[0;32melse\u001b[0m\u001b[0;34m:\u001b[0m\u001b[0;34m\u001b[0m\u001b[0;34m\u001b[0m\u001b[0m\n\u001b[0;32m-> 1692\u001b[0;31m             \u001b[0;32mraise\u001b[0m \u001b[0mKeyError\u001b[0m\u001b[0;34m(\u001b[0m\u001b[0mkey\u001b[0m\u001b[0;34m)\u001b[0m\u001b[0;34m\u001b[0m\u001b[0;34m\u001b[0m\u001b[0m\n\u001b[0m\u001b[1;32m   1693\u001b[0m \u001b[0;34m\u001b[0m\u001b[0m\n\u001b[1;32m   1694\u001b[0m         \u001b[0;31m# Check for duplicates\u001b[0m\u001b[0;34m\u001b[0m\u001b[0;34m\u001b[0m\u001b[0;34m\u001b[0m\u001b[0m\n",
      "\u001b[0;31mKeyError\u001b[0m: 'Frame'"
     ]
    }
   ],
   "source": [
    "for filename in filelist:\n",
    "    print(filename)\n",
    "    file = pd.read_csv(dataset_path + filename, encoding = \"ISO-8859-1\", index_col='Unnamed: 0')\n",
    "    features = calculate_features(file)\n",
    "    features.to_csv()"
   ]
  },
  {
   "cell_type": "code",
   "execution_count": null,
   "metadata": {},
   "outputs": [],
   "source": [
    "fstats_tot = None\n",
    "video_num = 0\n",
    "for filename in filelist:\n",
    "#     try:\n",
    "        fstats = pd.read_csv(dataset_path + filename, encoding = \"ISO-8859-1\", index_col='Unnamed: 0')\n",
    "        print('{} size: {}'.format(filename, fstats.shape))\n",
    "        if 'cortex' in filename:\n",
    "            fstats['HYase'] = pd.Series(fstats.shape[0]*['cortex'], index=fstats.index)\n",
    "        elif 'ChAbC' in filename:\n",
    "            fstats['ChABC'] = pd.Series(fstats.shape[0]*['striatum'], index=fstats.index)\n",
    "        elif 'hippocampus' in filename:\n",
    "            fstats['region'] = pd.Series(fstats.shape[0]*['hippocampus'], index=fstats.index)\n",
    "        else:\n",
    "            print('Error, no target')\n",
    "        fstats['Video Number'] = pd.Series(fstats.shape[0]*[video_num], index=fstats.index)\n",
    "        if fstats_tot is None:\n",
    "            fstats_tot = fstats\n",
    "        else:\n",
    "            fstats_tot = fstats_tot.append(fstats, ignore_index=True)\n",
    "        video_num += 1"
   ]
  }
 ]
}